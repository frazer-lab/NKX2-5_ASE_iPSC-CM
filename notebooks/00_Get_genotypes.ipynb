{
 "cells": [
  {
   "cell_type": "markdown",
   "metadata": {},
   "source": [
    "# Interesect peaks and SNPs\n",
    "Obtain list of SNPs that overlap genomic features of iPSCs and iPSC-CMs"
   ]
  },
  {
   "cell_type": "code",
   "execution_count": 70,
   "metadata": {},
   "outputs": [],
   "source": [
    "home=\"/frazer01/home/paola/Family1070/private_output/PeakCalling\"\n",
    "setwd(home)"
   ]
  },
  {
   "cell_type": "code",
   "execution_count": 71,
   "metadata": {},
   "outputs": [],
   "source": [
    "marks<-c('ATAC_CM', 'ATAC_IPSC', 'H3K27AC_CM', 'H3K27AC_IPSC' , 'NKX25')"
   ]
  },
  {
   "cell_type": "code",
   "execution_count": 75,
   "metadata": {},
   "outputs": [],
   "source": [
    "######################################################################################\n",
    "# Get and prepare genotype tables including snp +/- 200 bp outsied the peak\n",
    "######################################################################################\n",
    "system(\"module load cardips\")\n",
    "system(\"cd /frazer01/home/paola/Family1070/private_output/PeakCalling\")\n",
    "\n",
    "for ( m in 1:length(marks)){\n",
    "    mark    = marks[m]\n",
    "    setwd(mark)\n",
    "    command  = \"awk -v OFS=\\\"\\t\\\" '$1~/^chr[0-9]+$/ || $1==\\\"chrX\\\" || $1==\\\"chrY\\\" {print $0}' meta_macs2_callPeak_peaks.q001.narrowPeak.collapse.sorted.bed > tmp\"\n",
    "    \n",
    "    command0 = \"mv tmp meta_macs2_callPeak_peaks.q001.narrowPeak.collapse.sorted.bed\"\n",
    "    \n",
    "    command1 = paste (\"awk -v OFS=\\\"\\t\\\" '{$4=$1\\\":\\\"$2\\\"-\\\"$3;$5=$2-200; $6=$3+200; print substr($1,4),$5,$6,$4}' meta_macs2_callPeak_peaks.q001.narrowPeak.collapse.sorted.bed > \", \n",
    "                       mark, \"_sorted.p200.bed\", sep=\"\" )\n",
    "    command2 = paste (\"bedtools intersect -a /frazer01/projects/CARDIPS/analysis/family1070/sevenIndi.phased.variant.gt -b \", mark, \"_sorted.p200.bed\",\n",
    "                      \" -wo > \" , mark, \"_p200_variants.txt\", sep=\"\" ) \n",
    "    command3 = paste (\"grep rs \", mark, \"_p200_variants.txt > \", mark, \"_p200_rs.variants.txt\", sep=\"\" )     \n",
    "    \n",
    "    system(command)\n",
    "    system(command0)\n",
    "    system(command1)\n",
    "    system(command2)\n",
    "    system(command3)\n",
    "    setwd(home)\n",
    "}\n",
    "\n",
    "\n",
    "\n",
    "# zcat /projects/CARDIPS/analysis/family1070/sevenIndi.phased.variant.vcf.gz | grep \"#CHROM\" > header.txt\n"
   ]
  },
  {
   "cell_type": "code",
   "execution_count": 73,
   "metadata": {},
   "outputs": [],
   "source": [
    "files=paste(marks, \"_p200_variants.txt\", sep=\"\" )\n",
    "outfiles=paste(marks, \"_p200_filtered_variants.txt\", sep=\"\" )"
   ]
  },
  {
   "cell_type": "code",
   "execution_count": 76,
   "metadata": {},
   "outputs": [
    {
     "name": "stdout",
     "output_type": "stream",
     "text": [
      "ATAC_CM_p200_variants.txt \n",
      "ATAC_IPSC_p200_variants.txt \n"
     ]
    }
   ],
   "source": [
    "for (f in 1:length(marks)) {\n",
    "     \n",
    "     mark    = marks[f]\n",
    "     snp     = read.table(paste(mark, files[f], sep=\"/\"), stringsAsFactors=FALSE)\n",
    "     cat(files[f], \"\\n\")\n",
    "colnames(snp)=c(\"CHROM\",\"POS\",\"POS+1\",\"ID\",\"REF\",\"ALT\",\"QUAL\",\"iPSCORE_2_2\",\"iPSCORE_2_4\",\"iPSCORE_2_3\",\"iPSCORE_2_6\",\n",
    "                \"iPSCORE_2_7\",\"iPSCORE_2_9\",\"iPSCORE_2_1\",\"peakCHR\",\"peakStart-200\", \"peakEnd+200\", \"peakID\", \"ov\")\n",
    "snp=snp[,c(1:7, 14,8,10,9,11,12,13,15:18)]\n",
    "gt=snp\n",
    "\n",
    "gt <- replace(gt, gt == \"1/1\", 2)\n",
    "gt <- replace(gt, gt == \"1|1\", 2)\n",
    "gt <- replace(gt, gt == \"0/1\", 1)\n",
    "gt <- replace(gt, gt == \"0|1\", 1)\n",
    "gt <- replace(gt, gt == \"1/0\", 1)\n",
    "gt <- replace(gt, gt == \"1|0\", 1)\n",
    "gt <- replace(gt, gt == \"0|0\", 0)\n",
    "gt <- replace(gt, gt == \"0/0\", 0)\n",
    "\n",
    "#keep only bi-allelic SNps\n",
    "sel=(gt[,8:14] == 1 | gt[,8:14] ==2 | gt[,8:14] == 0)\n",
    "gt=subset(gt, rowSums(sel) ==7)\n",
    "\n",
    "##calculate allelic differences\n",
    "gt[,8:14]=sapply(gt[,8:14], as.numeric)\n",
    "\n",
    "\n",
    "for (i in 8:13) { \n",
    "  for (j in (i+1):14) {\n",
    "    \n",
    "    name=paste(colnames(gt)[i],\"vs\",colnames(gt)[j], sep=\"\")\n",
    "    diff = gt[,i]-gt[,j]\n",
    "    gt=cbind(gt, diff)\n",
    "    colnames(gt)[length(gt)] = name\n",
    "  }\n",
    "}\n",
    "\n",
    "#keep only SNps that are different in at least one couple \n",
    "no0=abs(gt[,19:39])>0\n",
    "gt2=gt[rowSums(no0)>0, ]\n",
    "\n",
    "var=NA\n",
    "for (i in 1:nrow(gt2)) {\n",
    "  var[i]<- paste(\"chr\", gt2[i,1],\":\",gt2[i,2], sep=\"\")}\n",
    "\n",
    "gt2$varID=var\n",
    "\n",
    "write.csv(gt2, paste(mark, outfiles[f], sep=\"/\"), row.names=F)\n",
    "\n",
    "}\n"
   ]
  },
  {
   "cell_type": "markdown",
   "metadata": {},
   "source": [
    "# Intersect exons or promoters and SNPs\n"
   ]
  },
  {
   "cell_type": "code",
   "execution_count": 77,
   "metadata": {
    "collapsed": true
   },
   "outputs": [],
   "source": [
    "files = c( \"/frazer01/home/paola/ASE/fam1070_exons_merged.variants.txt\",\n",
    "         \"/home/paola/SNP_intersection/fam1070_promoters_by_gene.variants.txt\")\n",
    "\n",
    "output_names=c(\"exons_filtered_variants.csv\", \"promoters_filtered_variants.csv\")\n",
    "outdir='/home/paola/Family1070/private_output/Genic_snps/'"
   ]
  },
  {
   "cell_type": "code",
   "execution_count": 78,
   "metadata": {},
   "outputs": [],
   "source": [
    "for (f in 2:2) {\n",
    "    \n",
    "snp=read.table(files[f], stringsAsFactors=FALSE)\n",
    "\n",
    "if (f==1){\n",
    "colnames(snp)=c(\"CHROM\",\"POS\",\"POS+1\",\"ID\",\"REF\",\"ALT\",\"QUAL\",\"iPSCORE_2_2\",\"iPSCORE_2_4\",\"iPSCORE_2_3\",\"iPSCORE_2_6\",\n",
    "                \"iPSCORE_2_7\",\"iPSCORE_2_9\",\"iPSCORE_2_1\",\"Feature.Chr\",\"Feature.Start\", \"Feature.End\", \"ov\")\n",
    "        }\n",
    "    \n",
    "if (f==2){\n",
    "colnames(snp)=c(\"CHROM\",\"POS\",\"POS+1\",\"ID\",\"REF\",\"ALT\",\"QUAL\",\"iPSCORE_2_2\",\"iPSCORE_2_4\",\"iPSCORE_2_3\",\"iPSCORE_2_6\",\n",
    "                \"iPSCORE_2_7\",\"iPSCORE_2_9\",\"iPSCORE_2_1\",\"Feature.Chr\",\"Feature.Start\", \"Feature.End\", \"gene\", \"strand\", \"ov\")\n",
    "      }\n",
    "\n",
    "snp=snp[,c(1:7, 14,8,10,9,11,12,13,15:length(snp))]\n",
    "gt=snp\n",
    "\n",
    "gt <- replace(gt, gt == \"1/1\", 2)\n",
    "gt <- replace(gt, gt == \"1|1\", 2)\n",
    "gt <- replace(gt, gt == \"0/1\", 1)\n",
    "gt <- replace(gt, gt == \"0|1\", 1)\n",
    "gt <- replace(gt, gt == \"1/0\", 1)\n",
    "gt <- replace(gt, gt == \"1|0\", 1)\n",
    "gt <- replace(gt, gt == \"0|0\", 0)\n",
    "gt <- replace(gt, gt == \"0/0\", 0)\n",
    "\n",
    "#keep only bi-allelic SNps\n",
    "sel=(gt[,8:14] == 1 | gt[,8:14] ==2 | gt[,8:14] == 0)\n",
    "gt=subset(gt, rowSums(sel) ==7)\n",
    "\n",
    "##calculate allelic differences\n",
    "gt[,8:14]=sapply(gt[,8:14], as.numeric)\n",
    "\n",
    "\n",
    "for (i in 8:13) { \n",
    "  for (j in (i+1):14) {\n",
    "    \n",
    "    name=paste(colnames(gt)[i],\"vs\",colnames(gt)[j], sep=\"\")\n",
    "    diff = gt[,i]-gt[,j]\n",
    "    gt=cbind(gt, diff)\n",
    "    colnames(gt)[length(gt)] = name\n",
    "  }\n",
    "}\n",
    "\n",
    "#keep only SNps that are different in at least one couple \n",
    "no0=abs(gt[,(length(snp)+1):(length(snp)+21)])>0\n",
    "gt2=gt[rowSums(no0)>0, ]\n",
    "\n",
    "var=NA\n",
    "for (i in 1:nrow(gt2)) {\n",
    "  var[i]<- paste(\"chr\", gt2[i,1],\":\",gt2[i,2], sep=\"\")}\n",
    "\n",
    "gt2$varID=var\n",
    "\n",
    "write.csv(gt2, paste(outdir,output_names[f], sep=\"\"), row.names=F)\n",
    "\n",
    "}"
   ]
  },
  {
   "cell_type": "code",
   "execution_count": null,
   "metadata": {
    "collapsed": true
   },
   "outputs": [],
   "source": []
  }
 ],
 "metadata": {
  "kernelspec": {
   "display_name": "R",
   "language": "R",
   "name": "ir"
  },
  "language_info": {
   "codemirror_mode": "r",
   "file_extension": ".r",
   "mimetype": "text/x-r-source",
   "name": "R",
   "pygments_lexer": "r",
   "version": "3.2.2"
  }
 },
 "nbformat": 4,
 "nbformat_minor": 1
}
