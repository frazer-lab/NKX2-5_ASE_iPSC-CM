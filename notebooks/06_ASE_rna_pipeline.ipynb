{
 "cells": [
  {
   "cell_type": "code",
   "execution_count": 1,
   "metadata": {},
   "outputs": [],
   "source": [
    "home = \"/home/paola/Family1070/private_output/ASE_rna/pipeline/\"\n",
    "setwd(home)\n",
    "\n",
    "source(\"/frazer01/home/matteo/my_software/cardips_functions.R\") \n",
    "source(\"/frazer01/home/paola/my_software/ase_pipeline_functions.R\")    \n",
    "\n",
    "rna_pipeline_dir_sample = \"/frazer01/projects/CARDIPS/pipeline/RNAseq/sample\""
   ]
  },
  {
   "cell_type": "code",
   "execution_count": 2,
   "metadata": {
    "scrolled": true
   },
   "outputs": [],
   "source": [
    "sample_table = read.csv(\"../fam1070_data_plus_production-v3.csv\", stringsAsFactors = FALSE) \n",
    "sample_table= subset(sample_table, Data_type==\"RNA-Seq\")\n",
    "sample_table$Tissue = sample_table$Cell_type\n",
    "sample_table$subject = sample_table$Subject\n"
   ]
  },
  {
   "cell_type": "code",
   "execution_count": 3,
   "metadata": {},
   "outputs": [
    {
     "data": {
      "text/plain": [
       "         \n",
       "          iPSC iPSC-CM\n",
       "  RNA-Seq   29      27"
      ]
     },
     "metadata": {},
     "output_type": "display_data"
    }
   ],
   "source": [
    "table(sample_table$Data_type, sample_table$Cell_type)"
   ]
  },
  {
   "cell_type": "code",
   "execution_count": 4,
   "metadata": {
    "collapsed": true
   },
   "outputs": [],
   "source": [
    "sample_table_full= sample_table"
   ]
  },
  {
   "cell_type": "code",
   "execution_count": 5,
   "metadata": {
    "collapsed": true
   },
   "outputs": [],
   "source": [
    "data_to_add = c( '142e5ecb-d354-4b16-9d4e-ee0110fd07d8','68db8f6f-5e8a-4354-babb-9515ae48df2a',\n",
    "                 'abfc59bf-9fec-4a49-8855-93f27530772f')"
   ]
  },
  {
   "cell_type": "code",
   "execution_count": 6,
   "metadata": {},
   "outputs": [],
   "source": [
    "sample_table = sample_table[sample_table$UUID %in% data_to_add,]"
   ]
  },
  {
   "cell_type": "code",
   "execution_count": 7,
   "metadata": {},
   "outputs": [
    {
     "name": "stdout",
     "output_type": "stream",
     "text": [
      "Tissue :  iPSC \n",
      "Name: FS027 \n",
      "Name: FS029 \n",
      "Name: FS040 \n"
     ]
    }
   ],
   "source": [
    "source(\"/frazer01/home/paola/my_software/ase_pipeline_functions.R\")    \n",
    "#####################################################################################\n",
    "### change the queque type ### \n",
    "#####################################################################################\n",
    "# writeHeader = function(id, folder, log_folder, ppn)\n",
    "# {\n",
    "#     header = paste(\"#!/bin/bash\",\n",
    "#                 \"\",\n",
    "#                 paste(\"#$ -N job.\", id, sep = \"\"),\n",
    "#                 paste(\"#$ -o \", log_folder, \"/\", id, \".out\", sep = \"\"),\n",
    "#                 paste(\"#$ -e \", log_folder, \"/\", id, \".err\", sep = \"\"),\n",
    "#                 #\"#$ -l all\",\n",
    "#                 paste(\"#$ -pe smp\", ppn),\n",
    "#                  \"export PATH=/frazer01/home/paola/anaconda2/bin:$PATH\",\n",
    "# \t\t\t\t \"export PATH=/frazer01/home/paola/anaconda2/bin/python:$PATH\",\n",
    "               \n",
    "# \t\t\t\t\"module load cardips\",\n",
    "# \t\t\t\t\"source activate cardips\",\n",
    "#                 sep = \"\\n\"\n",
    "#                )\n",
    "\t\t\t   \n",
    "# \toutdir  = paste(folder, \"wasp\", sep = \"/\")\n",
    "\t\n",
    "#     create_outdir = paste(paste(\"mkdir -p\", outdir),\n",
    "#                           paste(\"cd\"      , outdir),\n",
    "#                           sep = \"\\n\"\n",
    "#                          )\n",
    "\n",
    "# \tout = paste(header, \n",
    "# \t\t\t\tcreate_outdir,\n",
    "# \t\t\t\tsep = \"\\n\\n\"\n",
    "# \t\t\t   )\n",
    "\t\t\t   \n",
    "#     return(out);\n",
    "# }\n",
    "#####################################################################################\n",
    "ppn        = 12\n",
    "vcf_phased = \"/projects/CARDIPS/analysis/family1070/sevenIndi.phased.variant.vcf.gz\"\n",
    "bed        = \"/frazer01/publicdata/gencode_v19_20151104/genes.bed\"\n",
    "\n",
    "analysis_dir = paste(home, \"analysis\", sep = \"/\")\n",
    "sh_dir       = paste(home, \"sh\"      , sep = \"/\")\n",
    "log_dir      = paste(home, \"log\"     , sep = \"/\")\n",
    "\n",
    "\n",
    "dir.create(analysis_dir, showWarnings = FALSE)\n",
    "dir.create(sh_dir      , showWarnings = FALSE)\n",
    "dir.create(log_dir     , showWarnings = FALSE)\n",
    "\n",
    "\n",
    "for (tissue in sort(unique(sample_table$Tissue)))\n",
    "{\n",
    "    cat(\"Tissue : \", tissue, \"\\n\")\n",
    "    \n",
    "    this_tissue = sample_table[sample_table$Tissue == tissue,]\n",
    "    tissue_dir  = paste(analysis_dir, tissue, sep = \"/\")\n",
    "    \n",
    "    dir.create(tissue_dir, showWarnings = FALSE)\n",
    "\n",
    "     for (name in sort(unique(this_tissue$UDID)))     ##### MODIFIED IN ORDER NOT TO MERGE REPLICATES OF SAME SUBJECT\n",
    "    {\n",
    "        cat(\"Name:\", name, \"\\n\")\n",
    "        \n",
    "       \n",
    "        this_subject = this_tissue[this_tissue$UDID == name,]\n",
    "        subject      = unique(this_subject$subject)\n",
    "        subject_dir  = paste(tissue_dir, name,          sep = \"/\")\n",
    "        full_name    = paste(tissue    , name, \"genes\", sep = \"_\")\n",
    "        out_bam      = paste(subject_dir, \"/\", subject, \".bam\", sep = \"\")\n",
    "        bam_files    = paste(rna_pipeline_dir_sample, \"/\", this_subject$UUID, \"/alignment/\", this_subject$UUID, \"_sorted_mdup.bam\", sep = \"\")\n",
    "        \n",
    "        dir.create(subject_dir, showWarnings = FALSE)\n",
    "        \n",
    "        sh_file = runAse(full_name, sh_dir, subject, log_dir, subject, subject_dir, bam_files, out_bam, vcf_phased, bed, ppn, is.gz = TRUE, run = TRUE)\n",
    "       \n",
    "        # sh_file = runMbased(full_name, sh_dir, subject, log_dir, subject, subject_dir, bam_files, out_bam, vcf_phased, bed, ppn, is.gz = TRUE, run = TRUE)\n",
    "    }\n",
    "}\n"
   ]
  },
  {
   "cell_type": "markdown",
   "metadata": {},
   "source": [
    "Run time ~ 3 hours"
   ]
  },
  {
   "cell_type": "markdown",
   "metadata": {
    "collapsed": true
   },
   "source": [
    "### After the previous analysis is done: merge data into tables"
   ]
  },
  {
   "cell_type": "code",
   "execution_count": 8,
   "metadata": {},
   "outputs": [],
   "source": [
    "analysis_dir = paste(home, \"analysis\", sep = \"\")"
   ]
  },
  {
   "cell_type": "code",
   "execution_count": 9,
   "metadata": {
    "collapsed": true
   },
   "outputs": [],
   "source": [
    "sample_table = sample_table_full"
   ]
  },
  {
   "cell_type": "code",
   "execution_count": 12,
   "metadata": {},
   "outputs": [
    {
     "name": "stderr",
     "output_type": "stream",
     "text": [
      "Warning message in dir.create(results_dir):\n",
      "\"'/home/paola/Family1070/private_output/ASE_rna/pipeline/results' already exists\""
     ]
    }
   ],
   "source": [
    "pipeline = \"/home/paola/Family1070/private_output/ASE_rna/pipeline/\"\n",
    "setwd(pipeline)\n",
    "results_dir  = paste(pipeline, \"results\"     , sep = \"\")\n",
    "dir.create(results_dir)"
   ]
  },
  {
   "cell_type": "code",
   "execution_count": 14,
   "metadata": {},
   "outputs": [
    {
     "name": "stdout",
     "output_type": "stream",
     "text": [
      "Tissue :  iPSC \n",
      "Name: 2_1.C4.P12 \n",
      "Name: 2_2.C7.P13 \n",
      "Name: 2_3.C5.P13 \n",
      "Name: 2_4.C2.P13 \n",
      "Name: 2_6.C1.P12 \n",
      "Name: 2_7.C3.P12 \n",
      "Name: 2_9.C5.P12 \n",
      "Name: FS026 \n",
      "Name: FS027 \n",
      "Name: FS028 \n",
      "Name: FS029 \n",
      "Name: FS030 \n",
      "Name: FS031 \n",
      "Name: FS033 \n",
      "Name: FS034 \n",
      "Name: FS035 \n",
      "Name: FS036 \n",
      "Name: FS037 \n",
      "Name: FS040 \n",
      "Name: FS042 \n",
      "Name: FS043 \n",
      "Name: UDID007 \n",
      "Name: UDID020 \n",
      "Name: UDID043 \n",
      "Name: UDID044 \n",
      "Name: UDID045 \n",
      "Name: UDID048 \n",
      "Name: UDID053 \n",
      "Name: UDID067 \n",
      "Tissue :  iPSC-CM \n",
      "Name: FS003 \n",
      "Name: FS005 \n",
      "Name: FS006 \n",
      "Name: FS007 \n",
      "Name: FS008 \n",
      "Name: FS009 \n",
      "Name: FS010 \n",
      "Name: FS011 \n",
      "Name: FS014 \n",
      "Name: FS015 \n",
      "Name: FS016 \n",
      "Name: FS017 \n",
      "Name: FS018 \n",
      "Name: FS024 \n",
      "Name: UDID001 \n",
      "Name: UDID007 \n",
      "Name: UDID020 \n",
      "Name: UDID021 \n",
      "Name: UDID029 \n",
      "Name: UDID034 \n",
      "Name: UDID043 \n",
      "Name: UDID044 \n",
      "Name: UDID045 \n",
      "Name: UDID048 \n",
      "Name: UDID053 \n",
      "Name: UDID067 \n"
     ]
    }
   ],
   "source": [
    "started_analysis = 0\n",
    "mark= 'RNA-Seq' \n",
    "for (tissue in sort(unique(sample_table$Tissue)))\n",
    "{\n",
    "    cat(\"Tissue : \", tissue, \"\\n\")\n",
    "    this_tissue = sample_table[sample_table$Tissue == tissue,]\n",
    "    tissue_dir  = paste(analysis_dir, tissue, sep = \"/\")\n",
    "\n",
    "         for (name in sort(unique(this_tissue$UDID)))     ##### MODIFIED IN ORDER NOT TO MERGE REPLICATES OF SAME SUBJECT\n",
    "    {\n",
    "        cat(\"Name:\", name, \"\\n\")\n",
    "            \n",
    "            mbased_folder = paste(tissue_dir, name, \"mbased\", sep = \"/\")\n",
    "            \n",
    "        this_subject = this_tissue[this_tissue$UDID == name,]\n",
    "        subject      = unique(this_subject$subject)\n",
    "             \n",
    "             \n",
    "            locus_file    = paste(mbased_folder, \"/\", subject, \"_locus.tsv\"       , sep = \"\" )\n",
    "            snv_file      = paste(mbased_folder, \"/\", subject, \"_snv.tsv\"         , sep = \"\" )\n",
    "            in_file       = paste(mbased_folder, \"/\", subject, \"_mbased_input.tsv\", sep = \"\" )\n",
    "            \n",
    "            if ((file.exists(locus_file)== TRUE)&(file.exists(snv_file)== TRUE))\n",
    "            {\n",
    "                locus = read.table(locus_file, header = TRUE , sep = \"\\t\", stringsAsFactors = FALSE, row.names = 1, comment.char = \"\") \n",
    "                snv   = read.table(snv_file  , header = TRUE , sep = \"\\t\", stringsAsFactors = FALSE, row.names = 1, comment.char = \"\") \n",
    "                inp   = read.table(in_file   , header = TRUE , sep = \"\\t\", stringsAsFactors = FALSE, row.names = 1, comment.char = \"\") \n",
    "                \n",
    "                snv$ref_freq = snv$maf\n",
    "                snv[snv$ref_is_major == FALSE, \"ref_freq\"] = 1 - snv[snv$ref_is_major == FALSE, \"maf\"]\n",
    "                snv$coord   = paste(snv$chrom, snv$position, sep = \":\")\n",
    "                inp$coord   = paste(inp$contig, inp$position, sep = \":\")\n",
    "\n",
    "                locus$locus = rownames(locus)\n",
    "                snv$maf = NULL\n",
    "\n",
    "                out_data          = merge(locus, snv)\n",
    "                out_data          = merge(inp[, c(\"coord\", \"variantID\",\"refAllele\", \"altAllele\",  \"expectedRefFreq\", \"binomialPValue\",  'refCount','altCount',\"rawDepth\")], out_data)\n",
    "                out_data$subject  = subject\n",
    "                out_data$UDID     = name\n",
    "                out_data$mark     = mark\n",
    "                out_data$tissue   = tissue\n",
    "               \n",
    "                \n",
    "                if (started_analysis == 0)\n",
    "                {\n",
    "                    all_ase = out_data\n",
    "                    started_analysis = 1\n",
    "                    col_names_locus = colnames(locus)\n",
    "                }else\n",
    "                {\n",
    "                    all_ase = rbind(all_ase, out_data)\n",
    "                }\n",
    "            }else\n",
    "            {\n",
    "                cat(locus_file, \"does not exist\\n\")\n",
    "            }\n",
    "        }\n",
    "        #break\n",
    " }"
   ]
  },
  {
   "cell_type": "code",
   "execution_count": 15,
   "metadata": {
    "collapsed": true
   },
   "outputs": [],
   "source": [
    "write.table(all_ase, file = paste(results_dir, \"all_ase.txt\", sep = \"/\"), col.names = TRUE, row.names = FALSE, quote = FALSE, sep = \"\\t\")"
   ]
  },
  {
   "cell_type": "code",
   "execution_count": 16,
   "metadata": {
    "collapsed": true
   },
   "outputs": [],
   "source": [
    "sample_table$Mark=\"RNA-Seq\""
   ]
  },
  {
   "cell_type": "code",
   "execution_count": null,
   "metadata": {},
   "outputs": [],
   "source": [
    "all_ase  = read.table(paste(results_dir, \"all_ase.txt\", sep = \"/\"), header = TRUE , sep = \"\\t\", stringsAsFactors = FALSE) \n",
    "\n",
    "for (mark in sort(unique(sample_table$Mark)))\n",
    "    {\n",
    "        cat(\"Mark   : \", mark, \"\\n\")\n",
    "        this_mark = sample_table[sample_table$Mark == mark,]\n",
    "        \n",
    "        \n",
    "    for (tissue in sort(unique(this_mark$Tissue)))\n",
    "{\n",
    "    cat(\"Tissue : \", tissue, \"\\n\")\n",
    "    this_tissue = this_mark[this_mark$Tissue == tissue,]\n",
    "    tissue_dir  = paste(analysis_dir, tissue, sep = \"/\")\n",
    "        \n",
    "        separate_table = all_ase[all_ase$tissue == tissue & all_ase$mark == mark, ]\n",
    "        \n",
    "        this = unique(all_ase[all_ase$tissue == tissue & all_ase$mark == mark, c(col_names_locus, \"UDID\")])##### MODIFIED\n",
    "        \n",
    "        out_root = paste(results_dir, \"/\", tissue, \"_\", mark, sep = \"\")\n",
    "        \n",
    "        loci     = sort(unique(this$locus  ))\n",
    "        subjects = sort(unique(this$UDID))  ##### MODIFIED\n",
    "        \n",
    "        empty = matrix(nrow = length(loci), ncol = length(subjects))\n",
    "        rownames(empty) = loci\n",
    "        colnames(empty) = subjects\n",
    "        \n",
    "        empty_df = data.frame(empty, stringsAsFactors = FALSE)\n",
    "        \n",
    "        p_val_ases = empty_df\n",
    "        p_val_hets = empty_df\n",
    "        mafs       = empty_df\n",
    "        \n",
    "        for (ii in 1: length(this$locus))\n",
    "        {\n",
    "            locus     = this$locus            [[ii]]\n",
    "            subject   = this$UDID          [[ii]] ##### MODIFIED\n",
    "            p_val_ase = this$p_val_ase        [[ii]]\n",
    "            p_val_het = this$p_val_het        [[ii]]\n",
    "            maf       = this$major_allele_freq[[ii]]\n",
    "            \n",
    "            p_val_ases[locus, subject] = p_val_ase\n",
    "            p_val_hets[locus, subject] = p_val_het\n",
    "            mafs      [locus, subject] = maf\n",
    "        }\n",
    "        write.table(p_val_ases, file = paste(out_root, \"p_val_ase.txt\", sep = \".\"), col.names = NA, row.names = TRUE, quote = FALSE, sep = \"\\t\")\n",
    "        write.table(p_val_hets, file = paste(out_root, \"p_val_het.txt\", sep = \".\"), col.names = NA, row.names = TRUE, quote = FALSE, sep = \"\\t\")\n",
    "        write.table(mafs      , file = paste(out_root, \"major_allele_freq.txt\"      , sep = \".\"), col.names = NA, row.names = TRUE, quote = FALSE, sep = \"\\t\")\n",
    "        write.table(separate_table, file = paste(out_root, \"_ase_snv.txt\", sep = \"\"), col.names = TRUE, row.names = FALSE, quote = FALSE, sep = \"\\t\")               \n",
    " \n",
    "    }\n",
    "}\n"
   ]
  },
  {
   "cell_type": "code",
   "execution_count": null,
   "metadata": {
    "collapsed": true
   },
   "outputs": [],
   "source": []
  }
 ],
 "metadata": {
  "kernelspec": {
   "display_name": "R",
   "language": "R",
   "name": "ir"
  },
  "language_info": {
   "codemirror_mode": "r",
   "file_extension": ".r",
   "mimetype": "text/x-r-source",
   "name": "R",
   "pygments_lexer": "r",
   "version": "3.2.2"
  }
 },
 "nbformat": 4,
 "nbformat_minor": 1
}
