{
 "cells": [
  {
   "cell_type": "code",
   "execution_count": 46,
   "metadata": {
    "collapsed": false
   },
   "outputs": [
    {
     "name": "stderr",
     "output_type": "stream",
     "text": [
      "Warning message in dir.create(\"NKX25_v3\"):\n",
      "“'NKX25_v3' already exists”"
     ]
    }
   ],
   "source": [
    "setwd(\"/home/paola/Family1070/private_output/ASE_chip/pipeline/\")\n",
    "dir.create(\"NKX25\")\n",
    "home = \"/home/paola/Family1070/private_output/ASE_chip/pipeline/NKX25\"\n",
    "setwd(home)\n",
    "\n",
    "source(\"/frazer01/home/matteo/my_software/cardips_functions.R\") \n",
    "source(\"/frazer01/home/paola/my_software/ase_pipeline_functions.R\")    \n",
    "\n",
    "chips_pipeline_dir        = \"/frazer01/projects/CARDIPS/pipeline/ChIPseq/mark\"\n",
    "chips_pipeline_dir_sample = \"/frazer01/projects/CARDIPS/pipeline/ChIPseq/sample\""
   ]
  },
  {
   "cell_type": "code",
   "execution_count": 41,
   "metadata": {
    "collapsed": false,
    "scrolled": true
   },
   "outputs": [
    {
     "data": {
      "text/html": [
       "<table>\n",
       "<thead><tr><th scope=col>data_id_old</th><th scope=col>subject_id</th><th scope=col>data_id</th><th scope=col>subject</th><th scope=col>Tissue</th></tr></thead>\n",
       "<tbody>\n",
       "\t<tr><td>Sample_S07001_C4_CM_FS009_NKX25     </td><td>iPSCORE_2_1                         </td><td>024875a0-c6ca-42a3-b895-68d931d704ef</td><td>S07001                              </td><td>iPSC-CM                             </td></tr>\n",
       "\t<tr><td>Sample_S07001_C4_CM_FS016_NKX25     </td><td>iPSCORE_2_1                         </td><td>87f4d813-dda2-4943-804f-8bd314f8b221</td><td>S07001                              </td><td>iPSC-CM                             </td></tr>\n",
       "\t<tr><td>dcb68652-b569-4c3c-9934-d6e13b4b9649</td><td>iPSCORE_2_2                         </td><td>dcb68652-b569-4c3c-9934-d6e13b4b9649</td><td>S07002                              </td><td>iPSC-CM                             </td></tr>\n",
       "\t<tr><td>Sample_S07002_C7_CM_FS005_NKX25     </td><td>iPSCORE_2_2                         </td><td>6726450a-61c3-4fc5-b7da-3ee39e81234c</td><td>S07002                              </td><td>iPSC-CM                             </td></tr>\n",
       "\t<tr><td>Sample_S07003_C5_CM_FS003_NKX25     </td><td>iPSCORE_2_3                         </td><td>461dd89d-4b6c-4cec-9e2b-f51061480ff0</td><td>S07003                              </td><td>iPSC-CM                             </td></tr>\n",
       "\t<tr><td>Sample_S07003_C5_CM_FS010_NKX25     </td><td>iPSCORE_2_3                         </td><td>3cab1cc5-6d7f-4d0a-98da-1cdd402c4316</td><td>S07003                              </td><td>iPSC-CM                             </td></tr>\n",
       "</tbody>\n",
       "</table>\n"
      ],
      "text/latex": [
       "\\begin{tabular}{r|lllll}\n",
       " data\\_id\\_old & subject\\_id & data\\_id & subject & Tissue\\\\\n",
       "\\hline\n",
       "\t Sample\\_S07001\\_C4\\_CM\\_FS009\\_NKX25      & iPSCORE\\_2\\_1                                & 024875a0-c6ca-42a3-b895-68d931d704ef           & S07001                                         & iPSC-CM                                       \\\\\n",
       "\t Sample\\_S07001\\_C4\\_CM\\_FS016\\_NKX25      & iPSCORE\\_2\\_1                                & 87f4d813-dda2-4943-804f-8bd314f8b221           & S07001                                         & iPSC-CM                                       \\\\\n",
       "\t dcb68652-b569-4c3c-9934-d6e13b4b9649 & iPSCORE\\_2\\_2                      & dcb68652-b569-4c3c-9934-d6e13b4b9649 & S07002                               & iPSC-CM                             \\\\\n",
       "\t Sample\\_S07002\\_C7\\_CM\\_FS005\\_NKX25      & iPSCORE\\_2\\_2                                & 6726450a-61c3-4fc5-b7da-3ee39e81234c           & S07002                                         & iPSC-CM                                       \\\\\n",
       "\t Sample\\_S07003\\_C5\\_CM\\_FS003\\_NKX25      & iPSCORE\\_2\\_3                                & 461dd89d-4b6c-4cec-9e2b-f51061480ff0           & S07003                                         & iPSC-CM                                       \\\\\n",
       "\t Sample\\_S07003\\_C5\\_CM\\_FS010\\_NKX25      & iPSCORE\\_2\\_3                                & 3cab1cc5-6d7f-4d0a-98da-1cdd402c4316           & S07003                                         & iPSC-CM                                       \\\\\n",
       "\\end{tabular}\n"
      ],
      "text/plain": [
       "  data_id_old                          subject_id \n",
       "1 Sample_S07001_C4_CM_FS009_NKX25      iPSCORE_2_1\n",
       "2 Sample_S07001_C4_CM_FS016_NKX25      iPSCORE_2_1\n",
       "3 dcb68652-b569-4c3c-9934-d6e13b4b9649 iPSCORE_2_2\n",
       "4 Sample_S07002_C7_CM_FS005_NKX25      iPSCORE_2_2\n",
       "5 Sample_S07003_C5_CM_FS003_NKX25      iPSCORE_2_3\n",
       "6 Sample_S07003_C5_CM_FS010_NKX25      iPSCORE_2_3\n",
       "  data_id                              subject Tissue \n",
       "1 024875a0-c6ca-42a3-b895-68d931d704ef S07001  iPSC-CM\n",
       "2 87f4d813-dda2-4943-804f-8bd314f8b221 S07001  iPSC-CM\n",
       "3 dcb68652-b569-4c3c-9934-d6e13b4b9649 S07002  iPSC-CM\n",
       "4 6726450a-61c3-4fc5-b7da-3ee39e81234c S07002  iPSC-CM\n",
       "5 461dd89d-4b6c-4cec-9e2b-f51061480ff0 S07003  iPSC-CM\n",
       "6 3cab1cc5-6d7f-4d0a-98da-1cdd402c4316 S07003  iPSC-CM"
      ]
     },
     "metadata": {},
     "output_type": "display_data"
    }
   ],
   "source": [
    "sample_table = read.table(\"../sample.use.NKX.txt\", header = TRUE , stringsAsFactors = FALSE) \n",
    "head(sample_table)"
   ]
  },
  {
   "cell_type": "code",
   "execution_count": 42,
   "metadata": {
    "collapsed": true
   },
   "outputs": [],
   "source": [
    "bam_folder = \"/frazer01/projects/CARDIPS/pipeline/ChIPseq/mark/NKX\""
   ]
  },
  {
   "cell_type": "code",
   "execution_count": 48,
   "metadata": {
    "collapsed": false
   },
   "outputs": [
    {
     "name": "stdout",
     "output_type": "stream",
     "text": [
      "Tissue :  iPSC-CM \n",
      "Subject: S07001 \n",
      "Subject: S07002 \n",
      "Subject: S07003 \n",
      "Subject: S07004 \n",
      "Subject: S07006 \n",
      "Subject: S07007 \n",
      "Subject: S07009 \n"
     ]
    }
   ],
   "source": [
    "source(\"/frazer01/home/paola/my_software/ase_pipeline_functions.R\")    \n",
    "\n",
    "ppn        = 8\n",
    "vcf_phased = \"/projects/CARDIPS/analysis/family1070/sevenIndi.phased.variant.vcf.gz\"\n",
    "bed        = \"/home/paola/Family1070/private_output/PeakCalling/NKX25/meta_macs2_callPeak_peaks.q001.narrowPeak.collapse.bed\"\n",
    "\n",
    "analysis_dir = paste(home, \"analysis\", sep = \"/\")\n",
    "sh_dir       = paste(home, \"sh\"      , sep = \"/\")\n",
    "log_dir      = paste(home, \"log\"     , sep = \"/\")\n",
    "\n",
    "\n",
    "dir.create(analysis_dir, showWarnings = FALSE)\n",
    "dir.create(sh_dir      , showWarnings = FALSE)\n",
    "dir.create(log_dir     , showWarnings = FALSE)\n",
    "\n",
    "\n",
    "for (tissue in sort(unique(sample_table$Tissue)))\n",
    "{\n",
    "    cat(\"Tissue : \", tissue, \"\\n\")\n",
    "    this_tissue = sample_table[sample_table$Tissue == tissue,]\n",
    "    tissue_dir  = paste(analysis_dir, tissue, sep = \"/\")\n",
    "    \n",
    "    dir.create(tissue_dir, showWarnings = FALSE)\n",
    "\n",
    "    for (id in sort(unique(this_tissue$subject)))   # chnage into subject id when finalize\n",
    "    {\n",
    "        cat(\"Subject:\", id, \"\\n\")\n",
    "\n",
    "        this_subject = this_tissue[this_tissue$subject == id,]\n",
    "        subject      = unique(this_subject$subject)\n",
    "        subject_dir  = paste(tissue_dir, id, sep = \"/\")\n",
    "        full_name    = paste(tissue    , id, sep = \"_\")\n",
    "        out_bam      = paste(subject_dir, \"/\", subject, \".bam\", sep = \"\")\n",
    "        \n",
    "        \n",
    "        if (tissue == \"iPSC-CM\") {\n",
    "                bam_files = paste(bam_folder, \"/\", this_subject$data_id_old, \"/alignment/\", this_subject$data_id_old, \".filtered.cordSorted.bam\", sep = \"\")\n",
    "                }\n",
    "            \n",
    "        if (tissue != \"iPSC-CM\") {\n",
    "                bam_files = paste(chips_pipeline_dir_sample, \"/\", this_subject$UUID, \"/alignment/\", this_subject$UUID, \".filtered.cordSorted.bam\", sep = \"\")\n",
    "                }\n",
    "        \n",
    "        dir.create(subject_dir, showWarnings = FALSE)\n",
    "        \n",
    "        sh_file = runAse(full_name, sh_dir, subject, log_dir, subject, subject_dir, bam_files, out_bam, vcf_phased, bed, ppn, is.gz = TRUE, run = FALSE)\n",
    "    }\n",
    "}\n"
   ]
  },
  {
   "cell_type": "markdown",
   "metadata": {},
   "source": [
    "Run time ~ 3 hours"
   ]
  },
  {
   "cell_type": "markdown",
   "metadata": {
    "collapsed": true
   },
   "source": [
    "### After the previous analysis is done: merge data into tables"
   ]
  },
  {
   "cell_type": "code",
   "execution_count": 44,
   "metadata": {
    "collapsed": false
   },
   "outputs": [],
   "source": [
    "\n",
    "analysis_dir = paste(home, \"analysis\", sep = \"/\")"
   ]
  },
  {
   "cell_type": "code",
   "execution_count": 47,
   "metadata": {
    "collapsed": false
   },
   "outputs": [],
   "source": [
    "pipeline = \"/home/paola/Family1070/private_output/ASE_chip/pipeline/\"\n",
    "setwd(pipeline)\n",
    "results_dir  = paste(pipeline, \"results\"     , sep = \"/\")\n",
    "dir.create(results_dir)"
   ]
  },
  {
   "cell_type": "code",
   "execution_count": 33,
   "metadata": {
    "collapsed": false
   },
   "outputs": [
    {
     "name": "stdout",
     "output_type": "stream",
     "text": [
      "Tissue :  iPSC-CM \n",
      "Subject: S07001 \n",
      "Subject: S07002 \n",
      "Subject: S07003 \n",
      "Subject: S07004 \n",
      "Subject: S07006 \n",
      "Subject: S07007 \n",
      "Subject: S07009 \n"
     ]
    }
   ],
   "source": [
    "started_analysis = 0\n",
    "mark= 'NKX25' \n",
    "for (tissue in sort(unique(sample_table$Tissue)))\n",
    "{\n",
    "    cat(\"Tissue : \", tissue, \"\\n\")\n",
    "    this_tissue = sample_table[sample_table$Tissue == tissue,]\n",
    "    tissue_dir  = paste(analysis_dir, tissue, sep = \"/\")\n",
    "\n",
    "        for (subject in sort(unique(sample_table$subject)))\n",
    "        {\n",
    "            cat(\"Subject:\", subject, \"\\n\")\n",
    "            \n",
    "            mbased_folder = paste(tissue_dir, subject, \"mbased\", sep = \"/\")\n",
    "            \n",
    "            locus_file    = paste(mbased_folder, \"/\", subject, \"_locus.tsv\"       , sep = \"\" )\n",
    "            snv_file      = paste(mbased_folder, \"/\", subject, \"_snv.tsv\"         , sep = \"\" )\n",
    "            in_file       = paste(mbased_folder, \"/\", subject, \"_mbased_input.tsv\", sep = \"\" )\n",
    "            \n",
    "            if ((file.exists(locus_file)== TRUE)&(file.exists(snv_file)== TRUE))\n",
    "            {\n",
    "                locus = read.table(locus_file, header = TRUE , sep = \"\\t\", stringsAsFactors = FALSE, row.names = 1, comment.char = \"\") \n",
    "                snv   = read.table(snv_file  , header = TRUE , sep = \"\\t\", stringsAsFactors = FALSE, row.names = 1, comment.char = \"\") \n",
    "                inp   = read.table(in_file   , header = TRUE , sep = \"\\t\", stringsAsFactors = FALSE, row.names = 1, comment.char = \"\") \n",
    "                \n",
    "                snv$ref_freq = snv$maf\n",
    "                snv[snv$ref_is_major == FALSE, \"ref_freq\"] = 1 - snv[snv$ref_is_major == FALSE, \"maf\"]\n",
    "                snv$coord   = paste(snv$chrom, snv$position, sep = \":\")\n",
    "                inp$coord   = paste(inp$contig, inp$position, sep = \":\")\n",
    "\n",
    "                locus$locus = rownames(locus)\n",
    "                snv$maf = NULL\n",
    "\n",
    "                out_data          = merge(locus, snv)\n",
    "                out_data          = merge(inp[, c(\"coord\", \"variantID\",\"refAllele\", \"altAllele\",  \"expectedRefFreq\", \"binomialPValue\",  'refCount','altCount',\"rawDepth\")], out_data)\n",
    "                out_data$subject  = subject\n",
    "                out_data$mark     = mark\n",
    "                out_data$tissue   = tissue\n",
    "               \n",
    "                \n",
    "                if (started_analysis == 0)\n",
    "                {\n",
    "                    all_ase = out_data\n",
    "                    started_analysis = 1\n",
    "                    col_names_locus = colnames(locus)\n",
    "                }else\n",
    "                {\n",
    "                    all_ase = rbind(all_ase, out_data)\n",
    "                }\n",
    "            }else\n",
    "            {\n",
    "                cat(locus_file, \"does not exist\\n\")\n",
    "            }\n",
    "        }\n",
    "        #break\n",
    " }"
   ]
  },
  {
   "cell_type": "code",
   "execution_count": 48,
   "metadata": {
    "collapsed": true
   },
   "outputs": [],
   "source": [
    "write.table(all_ase, file = paste(results_dir, \"all_ase.txt\", sep = \"/\"), col.names = TRUE, row.names = FALSE, quote = FALSE, sep = \"\\t\")"
   ]
  },
  {
   "cell_type": "code",
   "execution_count": 35,
   "metadata": {
    "collapsed": true
   },
   "outputs": [],
   "source": [
    "sample_table$Mark=\"NKX25\""
   ]
  },
  {
   "cell_type": "code",
   "execution_count": 49,
   "metadata": {
    "collapsed": false
   },
   "outputs": [
    {
     "name": "stdout",
     "output_type": "stream",
     "text": [
      "Mark   :  NKX25 \n",
      "Tissue :  iPSC-CM \n"
     ]
    }
   ],
   "source": [
    "all_ase  = read.table(paste(results_dir, \"all_ase.txt\", sep = \"/\"), header = TRUE , sep = \"\\t\", stringsAsFactors = FALSE) \n",
    "\n",
    "for (mark in sort(unique(sample_table$Mark)))\n",
    "    {\n",
    "        cat(\"Mark   : \", mark, \"\\n\")\n",
    "        this_mark = sample_table[sample_table$Mark == mark,]\n",
    "        \n",
    "        \n",
    "    for (tissue in sort(unique(this_mark$Tissue)))\n",
    "{\n",
    "    cat(\"Tissue : \", tissue, \"\\n\")\n",
    "    this_tissue = this_mark[this_mark$Tissue == tissue,]\n",
    "    tissue_dir  = paste(analysis_dir, tissue, sep = \"/\")\n",
    "        \n",
    "        separate_table = all_ase[all_ase$tissue == tissue & all_ase$mark == mark, ]\n",
    "        \n",
    "        this = unique(all_ase[all_ase$tissue == tissue & all_ase$mark == mark, c(col_names_locus, \"subject\")])\n",
    "        \n",
    "        out_root = paste(results_dir, \"/\", tissue, \"_\", mark, sep = \"\")\n",
    "        \n",
    "        loci     = sort(unique(this$locus  ))\n",
    "        subjects = sort(unique(this$subject))\n",
    "        \n",
    "        empty = matrix(nrow = length(loci), ncol = length(subjects))\n",
    "        rownames(empty) = loci\n",
    "        colnames(empty) = subjects\n",
    "        \n",
    "        empty_df = data.frame(empty, stringsAsFactors = FALSE)\n",
    "        \n",
    "        p_val_ases = empty_df\n",
    "        p_val_hets = empty_df\n",
    "        mafs       = empty_df\n",
    "        \n",
    "        for (ii in 1: length(this$locus))\n",
    "        {\n",
    "            locus     = this$locus            [[ii]]\n",
    "            subject   = this$subject          [[ii]]\n",
    "            p_val_ase = this$p_val_ase        [[ii]]\n",
    "            p_val_het = this$p_val_het        [[ii]]\n",
    "            maf       = this$major_allele_freq[[ii]]\n",
    "            \n",
    "            p_val_ases[locus, subject] = p_val_ase\n",
    "            p_val_hets[locus, subject] = p_val_het\n",
    "            mafs      [locus, subject] = maf\n",
    "        }\n",
    "        write.table(p_val_ases, file = paste(out_root, \"p_val_ase.txt\", sep = \".\"), col.names = NA, row.names = TRUE, quote = FALSE, sep = \"\\t\")\n",
    "        write.table(p_val_hets, file = paste(out_root, \"p_val_het.txt\", sep = \".\"), col.names = NA, row.names = TRUE, quote = FALSE, sep = \"\\t\")\n",
    "        write.table(mafs      , file = paste(out_root, \"major_allele_freq.txt\"      , sep = \".\"), col.names = NA, row.names = TRUE, quote = FALSE, sep = \"\\t\")\n",
    "        write.table(separate_table, file = paste(out_root, \"_ase_snv.txt\", sep = \"\"), col.names = TRUE, row.names = FALSE, quote = FALSE, sep = \"\\t\")               \n",
    " \n",
    "    }\n",
    "}\n"
   ]
  },
  {
   "cell_type": "code",
   "execution_count": 40,
   "metadata": {
    "collapsed": false
   },
   "outputs": [
    {
     "data": {
      "text/html": [
       "<table>\n",
       "<thead><tr><th></th><th scope=col>S07001</th><th scope=col>S07002</th><th scope=col>S07003</th><th scope=col>S07004</th><th scope=col>S07006</th><th scope=col>S07007</th><th scope=col>S07009</th></tr></thead>\n",
       "<tbody>\n",
       "\t<tr><th scope=row>chr1:10002581-10003600</th><td>0.6995833</td><td>0.6640672</td><td>0.5669385</td><td>0.5641392</td><td>       NA</td><td>0.6157851</td><td>0.6337757</td></tr>\n",
       "\t<tr><th scope=row>chr1:100231958-100232256</th><td>       NA</td><td>0.5799927</td><td>0.6565772</td><td>0.5902094</td><td>0.5630158</td><td>0.5256183</td><td>0.6272820</td></tr>\n",
       "\t<tr><th scope=row>chr1:100274351-100274763</th><td>0.6658442</td><td>       NA</td><td>       NA</td><td>0.6855625</td><td>0.5976284</td><td>0.5707248</td><td>0.9100197</td></tr>\n",
       "\t<tr><th scope=row>chr1:100315705-100316705</th><td>0.5043563</td><td>0.6652631</td><td>       NA</td><td>       NA</td><td>0.6778725</td><td>0.5992848</td><td>       NA</td></tr>\n",
       "\t<tr><th scope=row>chr1:100598238-100598923</th><td>       NA</td><td>       NA</td><td>       NA</td><td>0.8070654</td><td>0.5949970</td><td>       NA</td><td>       NA</td></tr>\n",
       "\t<tr><th scope=row>chr1:100745859-100746096</th><td>       NA</td><td>0.5935802</td><td>       NA</td><td>0.7218975</td><td>0.7451218</td><td>       NA</td><td>0.7678855</td></tr>\n",
       "</tbody>\n",
       "</table>\n"
      ],
      "text/latex": [
       "\\begin{tabular}{r|lllllll}\n",
       "  & S07001 & S07002 & S07003 & S07004 & S07006 & S07007 & S07009\\\\\n",
       "\\hline\n",
       "\tchr1:10002581-10003600 & 0.6995833 & 0.6640672 & 0.5669385 & 0.5641392 &        NA & 0.6157851 & 0.6337757\\\\\n",
       "\tchr1:100231958-100232256 &        NA & 0.5799927 & 0.6565772 & 0.5902094 & 0.5630158 & 0.5256183 & 0.6272820\\\\\n",
       "\tchr1:100274351-100274763 & 0.6658442 &        NA &        NA & 0.6855625 & 0.5976284 & 0.5707248 & 0.9100197\\\\\n",
       "\tchr1:100315705-100316705 & 0.5043563 & 0.6652631 &        NA &        NA & 0.6778725 & 0.5992848 &        NA\\\\\n",
       "\tchr1:100598238-100598923 &        NA &        NA &        NA & 0.8070654 & 0.5949970 &        NA &        NA\\\\\n",
       "\tchr1:100745859-100746096 &        NA & 0.5935802 &        NA & 0.7218975 & 0.7451218 &        NA & 0.7678855\\\\\n",
       "\\end{tabular}\n"
      ],
      "text/plain": [
       "                         S07001    S07002    S07003    S07004    S07006   \n",
       "chr1:10002581-10003600   0.6995833 0.6640672 0.5669385 0.5641392        NA\n",
       "chr1:100231958-100232256        NA 0.5799927 0.6565772 0.5902094 0.5630158\n",
       "chr1:100274351-100274763 0.6658442        NA        NA 0.6855625 0.5976284\n",
       "chr1:100315705-100316705 0.5043563 0.6652631        NA        NA 0.6778725\n",
       "chr1:100598238-100598923        NA        NA        NA 0.8070654 0.5949970\n",
       "chr1:100745859-100746096        NA 0.5935802        NA 0.7218975 0.7451218\n",
       "                         S07007    S07009   \n",
       "chr1:10002581-10003600   0.6157851 0.6337757\n",
       "chr1:100231958-100232256 0.5256183 0.6272820\n",
       "chr1:100274351-100274763 0.5707248 0.9100197\n",
       "chr1:100315705-100316705 0.5992848        NA\n",
       "chr1:100598238-100598923        NA        NA\n",
       "chr1:100745859-100746096        NA 0.7678855"
      ]
     },
     "metadata": {},
     "output_type": "display_data"
    }
   ],
   "source": [
    "head(mafs)"
   ]
  },
  {
   "cell_type": "code",
   "execution_count": 28,
   "metadata": {
    "collapsed": false
   },
   "outputs": [
    {
     "data": {
      "text/html": [
       "<ol class=list-inline>\n",
       "\t<li>'major_allele_freq'</li>\n",
       "\t<li>'p_val_ase'</li>\n",
       "\t<li>'p_val_het'</li>\n",
       "\t<li>'locus'</li>\n",
       "</ol>\n"
      ],
      "text/latex": [
       "\\begin{enumerate*}\n",
       "\\item 'major\\_allele\\_freq'\n",
       "\\item 'p\\_val\\_ase'\n",
       "\\item 'p\\_val\\_het'\n",
       "\\item 'locus'\n",
       "\\end{enumerate*}\n"
      ],
      "text/markdown": [
       "1. 'major_allele_freq'\n",
       "2. 'p_val_ase'\n",
       "3. 'p_val_het'\n",
       "4. 'locus'\n",
       "\n",
       "\n"
      ],
      "text/plain": [
       "[1] \"major_allele_freq\" \"p_val_ase\"         \"p_val_het\"        \n",
       "[4] \"locus\"            "
      ]
     },
     "metadata": {},
     "output_type": "display_data"
    }
   ],
   "source": [
    "col_names_locus"
   ]
  },
  {
   "cell_type": "code",
   "execution_count": null,
   "metadata": {
    "collapsed": true
   },
   "outputs": [],
   "source": []
  }
 ],
 "metadata": {
  "kernelspec": {
   "display_name": "R",
   "language": "R",
   "name": "ir"
  },
  "language_info": {
   "codemirror_mode": "r",
   "file_extension": ".r",
   "mimetype": "text/x-r-source",
   "name": "R",
   "pygments_lexer": "r",
   "version": "3.2.2"
  }
 },
 "nbformat": 4,
 "nbformat_minor": 0
}
