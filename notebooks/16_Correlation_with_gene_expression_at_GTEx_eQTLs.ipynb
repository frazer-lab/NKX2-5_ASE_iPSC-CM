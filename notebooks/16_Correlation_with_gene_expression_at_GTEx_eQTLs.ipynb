{
 "cells": [
  {
   "cell_type": "markdown",
   "metadata": {
    "collapsed": true
   },
   "source": [
    "## Correlation of NKX2-5 ASE effect size with heart-specific eQTLs\n",
    "We have observed that there is no correlation between ASE in NKX2-5 and gene expression levels of the nearest gene in iPSC-CMs, however there is an enrichment for heart-specific eQTLS in NKX2-5 ASE. Test the same but restricted to heart or heart-specific eQTLs - gene pairs."
   ]
  },
  {
   "cell_type": "code",
   "execution_count": 1,
   "metadata": {},
   "outputs": [],
   "source": [
    "suppressPackageStartupMessages(library(stringr))\n",
    "suppressPackageStartupMessages(library(gplots))\n",
    "\n",
    "home     ='/home/paola/Family1070/private_output'\n",
    "setwd(home)\n",
    "ase_dir  = \"ASE_chip/correlationWithBeta/\"\n",
    "gtex_dir = \"Enrichment_annotations/GTEx/\"\n",
    "\n",
    "nm    = c('NKX25','H3K27AC_CM','H3K27AC_IPSC')\n",
    "loci  = nm\n",
    "QTL   = paste (nm, \"_eQTLs.txt\", sep=\"\") \n",
    "\n",
    "\n",
    "corr         = paste(ase_dir , \"Correlation_ase_snv_\", loci, \".txt\", sep=\"\")\n",
    "rna_cms      = 'PCA_rnaseq/iPSC_CM/residual_counts.txt'\n",
    "chip_tables  = paste(\"PCA_chipseq\", loci, 'residual_counts.txt',sep=\"/\")\n",
    "sample_table = read.csv(\"PCA_chipseq/fam1070_data_plus_production-1.csv\", stringsAsFactors = FALSE) \n",
    "\n",
    "\n",
    "gene_info <- read.table(\"/publicdata/gencode_v19_20151104/gene_info.tsv\", header=T, sep=\"\\t\", stringsAsFactor=F)"
   ]
  },
  {
   "cell_type": "code",
   "execution_count": 102,
   "metadata": {},
   "outputs": [
    {
     "name": "stderr",
     "output_type": "stream",
     "text": [
      "Warning message in dir.create(new.dir):\n",
      "\"'Coordination_ASE_effects/results/Coordination_at_heart_eQTLs' already exists\""
     ]
    }
   ],
   "source": [
    "new.dir = \"Coordination_ASE_effects/results/Coordination_at_heart_eQTLs\"\n",
    "dir.create(new.dir)"
   ]
  },
  {
   "cell_type": "code",
   "execution_count": 103,
   "metadata": {},
   "outputs": [],
   "source": [
    "scatterPlot_beta = function(ag, beta_x, beta_y,xlab, ylab, colors =\"#1B69AF\") {\n",
    "    \n",
    "ag = ag[order(ag$combined_fdr, decreasing=F),] \n",
    "\n",
    "\n",
    "xlim = c(-max(abs(ag[, beta_x])),max(abs(ag[, beta_x]))) \n",
    "ylim = c(-max(abs(ag[, beta_y])),max(abs(ag[, beta_y]))) \n",
    "\n",
    "plot(ag[, beta_x], ag[, beta_y], ylim=ylim, xlim=xlim,\n",
    "     pch=16, cex=0.5, col=colors, \n",
    "     cex.lab=1.1, cex.axis=1.1, xlab = paste (\"effect size\", xlab),\n",
    "     ylab = paste (\"effect size\", ylab), main=ylab)\n",
    "\n",
    "abline(h=0,v=0, lty=2, col=\"red\", lwd=1)\n",
    "\n",
    "  \n",
    "co = cor.test(ag[, beta_x], ag[, beta_y], method=\"spearman\", exact=F)\n",
    "l  = lm(ag[, beta_y]~ag[, beta_x] )\n",
    "abline(l)\n",
    "text (xlim[2]-xlim[2]/1.8, ylim[1]-ylim[1]/3\n",
    "      , paste( \"r=\",round(co$estimate,2), \"\\n P=\",signif(co$p.value,3) ),cex=1.1)\n",
    "\n",
    "    return(c(co$estimate, co$p.value))\n",
    "    \n",
    "}"
   ]
  },
  {
   "cell_type": "code",
   "execution_count": 109,
   "metadata": {
    "collapsed": true
   },
   "outputs": [],
   "source": [
    "i = 2"
   ]
  },
  {
   "cell_type": "code",
   "execution_count": 110,
   "metadata": {},
   "outputs": [
    {
     "data": {
      "text/html": [
       "<strong>png:</strong> 2"
      ],
      "text/latex": [
       "\\textbf{png:} 2"
      ],
      "text/markdown": [
       "**png:** 2"
      ],
      "text/plain": [
       "png \n",
       "  2 "
      ]
     },
     "metadata": {},
     "output_type": "display_data"
    }
   ],
   "source": [
    "eqtls = read.table( paste(gtex_dir, nm[i], \".GtexTable_hreg_aggregate.txt\", sep=\"\"), header=T,  sep=\"\\t\") \n",
    "\n",
    "heart_eqtls    = subset(eqtls, Hear>0)\n",
    "heart_specific = subset(eqtls, ((eqtls[,2]/2)-eqtls[,\"Hear\"])<=0)\n",
    "heart_eqtls    = merge( heart_eqtls [ ,c('snpID','gene')], gene_info[, c('gene_id','gene_name')], by.x ='gene', by.y='gene_name' )\n",
    "heart_specific = merge( heart_specific [ ,c('snpID','gene')], gene_info[, c('gene_id','gene_name')], by.x ='gene', by.y='gene_name' )\n",
    "\n",
    "ch = read.table(corr[i], header=TRUE, check.names=F)\n",
    "rn        = read.table(rna_cms, header=T, check.names=F)\n",
    "samp      = sample_table[sample_table$Cell_type == \"iPSC-CM\"& sample_table$Data_type==\"RNA-Seq\",]\n",
    "closest   = \"exp_iPSC_CM\"\n",
    "chp  = merge(ch, heart_eqtls, by.x=\"ID\", by.y=\"snpID\" )\n",
    "\n",
    "\n",
    "chpr = merge(chp [c(\"gene\", \"gene_id\",\"peakID\" ,\"varID\" ,\"combined_pv\", \"combined_fdr\" ,\"ref_freq\", \"Coefficient\",\n",
    "             \"ID\" ,\"REF\" ,\"ALT\",'iPSCORE_2_1', 'iPSCORE_2_2', 'iPSCORE_2_3' ,'iPSCORE_2_4', 'iPSCORE_2_6', 'iPSCORE_2_7' ,'iPSCORE_2_9')], \n",
    "                rn, by=\"gene_id\", by.y=\"row.names\")\n",
    "\n",
    "peaks      = subset(chpr, select=as.character(samp$UUID))        \n",
    "genotype   = subset(chpr, select=as.character(samp$Subject_ID))\n",
    "   \n",
    "\n",
    "res=data.frame()\n",
    "for( m in 1:nrow(chpr)) {    \n",
    "    \n",
    "    df         = data.frame(peaks=t(peaks)[,m], genotype=t(genotype)[,m])\n",
    "    df$subject = str_split_fixed(colnames(genotype), \"\\\\.\", 2)[,1]\n",
    "    df$peaks   = scale(df$peak) # z-score normalized\n",
    "    \n",
    "    mod<-lm(peaks ~ genotype, data=df)  \n",
    "    cof<-coef(summary(mod))[2,1]\n",
    "    pv<-coef(summary(mod))[2,4]\n",
    "    res[m,\"Coefficient_closest\"]<-cof\n",
    "    res[m,\"lm_pVal_closest\"]<-pv\n",
    "  \n",
    "  }  \n",
    "\n",
    "\n",
    "ag = cbind(chpr, res)\n",
    "write.table(ag, paste( new.dir, \"/Coordination_at_heart_eQTLs\",  loci[i], \"_with_\", closest, \".txt\", sep=\"\"), \n",
    "            sep=\"\\t\", row.names=FALSE, col.names=TRUE)\n",
    "\n",
    "    \n",
    "\n",
    "\n",
    "\n",
    "pdf(paste(new.dir, \"/Scatterplots_\", nm[i], \".pdf\", sep=\"\"))\n",
    "\n",
    "results = data.frame()\n",
    "results[\"n\",\"heart_eQTLs\"] = nrow(ag)\n",
    "\n",
    "par(mfrow=c(3,4), pin=c(1.3,1.3))\n",
    "\n",
    "results[paste(c(\"r_\",\"p_\"), closest,nm[i], sep =\"\"), \n",
    "        \"heart_eQTLs\"] = scatterPlot_beta(ag, 'Coefficient', 'Coefficient_closest',nm[i], closest, colors = \"brown\")\n",
    "\n",
    "ag_specific = subset (ag, ID %in% as.character(heart_specific$snpID) )\n",
    "results[\"n\",\"heart_spec_eQTLs\"] = nrow(ag_specific)\n",
    "\n",
    "results[paste(c(\"r_\",\"p_\"), closest,nm[i], sep =\"\"), \n",
    "        \"heart_spec_eQTLs\"] = scatterPlot_beta(ag_specific, 'Coefficient', 'Coefficient_closest',paste(nm[i], \"heart spec.\"), closest)\n",
    "\n",
    "plot.new()\n",
    "plot.new()\n",
    "h_tissues= c('Heart_Left_Ventricle_' , 'Heart_Atrial_Appendage_'  )\n",
    "\n",
    "for (g in 1:2){\n",
    "\n",
    "gtex_lv = read.table(paste(\"/publicdata/gtex_v6/\", h_tissues[g], \"Analysis.snpgenes\",sep=\"\"), header=T, sep=\"\\t\")\n",
    "\n",
    "gtex_lv$varID = paste(\"chr\", gtex_lv$snp_chrom, \":\", gtex_lv$snp_pos, sep=\"\")\n",
    "\n",
    "gtex_lv = subset(gtex_lv, varID %in% ag$varID)\n",
    "\n",
    "ag2 = merge( ag, gtex_lv [ ,c('beta', 'gene' ,'varID')], by.x=c(\"varID\", 'gene_id'), by.y=c(\"varID\", 'gene'))\n",
    "\n",
    "results[paste(c(\"r_\",\"p_\"), h_tissues[g],nm[i], sep =\"\"), \n",
    "        \"heart_eQTLs\"] = scatterPlot_beta(ag2, 'Coefficient','beta', nm[i],   h_tissues[g], colors = \"brown\")\n",
    "results[paste(c(\"r_\",\"p_\"), h_tissues[g],closest, sep =\"\"),\n",
    "        \"heart_eQTLs\"] = scatterPlot_beta(ag2,  'Coefficient_closest', 'beta', closest, h_tissues[g], colors = \"brown\")\n",
    "   \n",
    "ag2_specific = merge( ag_specific, gtex_lv [ ,c('beta', 'gene' ,'varID')], by.x=c(\"varID\", 'gene_id'), by.y=c(\"varID\", 'gene'))\n",
    "\n",
    "results[paste(c(\"r_\",\"p_\"), h_tissues[g],nm[i], sep =\"\"), \n",
    "        \"heart_spec_eQTLs\"] = scatterPlot_beta(ag2_specific, 'Coefficient' ,'beta', paste(nm[i], \"heart spec.\"),h_tissues[g])\n",
    "results[paste(c(\"r_\",\"p_\"), h_tissues[g],closest, sep =\"\"),\n",
    "        \"heart_spec_eQTLs\"] = scatterPlot_beta(ag2_specific,'Coefficient_closest', 'beta', paste(closest, \"heart spec.\"), h_tissues[g])\n",
    "   \n",
    " \n",
    "}\n",
    "dev.off()\n",
    "\n",
    "rho  = results[c(FALSE,TRUE), ]\n",
    "pval = results[c(TRUE,FALSE), ]\n",
    "pval = -log( pval [-1,],10)"
   ]
  },
  {
   "cell_type": "code",
   "execution_count": 111,
   "metadata": {
    "scrolled": true
   },
   "outputs": [
    {
     "name": "stderr",
     "output_type": "stream",
     "text": [
      "Warning message in heatmap.2(as.matrix(pval), srtRow = 0, srtCol = 45, offsetRow = -0.5, :\n",
      "\"Discrepancy: Rowv is FALSE, while dendrogram is `both'. Omitting row dendogram.\"Warning message in heatmap.2(as.matrix(pval), srtRow = 0, srtCol = 45, offsetRow = -0.5, :\n",
      "\"Discrepancy: Colv is FALSE, while dendrogram is `column'. Omitting column dendogram.\""
     ]
    },
    {
     "data": {
      "text/html": [
       "<strong>png:</strong> 2"
      ],
      "text/latex": [
       "\\textbf{png:} 2"
      ],
      "text/markdown": [
       "**png:** 2"
      ],
      "text/plain": [
       "png \n",
       "  2 "
      ]
     },
     "metadata": {},
     "output_type": "display_data"
    }
   ],
   "source": [
    "pdf(paste(new.dir, \"/Heatmap_\", nm[i], \".pdf\", sep=\"\"))\n",
    "my_palette = colorRampPalette(c( \"white\",\"dodgerblue3\"))(10)\n",
    "heatmap.2(as.matrix(pval) , srtRow=0, srtCol=45, offsetRow=-0.5, offsetCol=-0.5, \n",
    "          keysize=1, margins =c(28,29), trace=\"none\",Colv=F,Rowv=F,\n",
    "          key.title=\"-Log10(P)\", cellnote=round(rho,2), notecol=\"black\", \n",
    "          cexRow=1, cexCol=1, col=my_palette,\n",
    "          sepwidth=c(0.01,0.01),sepcolor=\"black\",colsep=0:ncol(pval),rowsep=0:nrow(pval))\n",
    "dev.off()"
   ]
  },
  {
   "cell_type": "markdown",
   "metadata": {},
   "source": [
    "In conclusion we observed that there is a a good correlation between the eQTLS from gtex ang the effects observed in iPSC-CMs at these loci. Possible implication of NKX2-5 binding"
   ]
  },
  {
   "cell_type": "markdown",
   "metadata": {},
   "source": [
    "### GO analysis on genes that have ASE in NKX2-5 and that have GTEx eQTL in heart (n=116) or heart-specific (n=39)"
   ]
  },
  {
   "cell_type": "code",
   "execution_count": 88,
   "metadata": {
    "collapsed": true
   },
   "outputs": [],
   "source": [
    "suppressPackageStartupMessages(library(goseq))"
   ]
  },
  {
   "cell_type": "code",
   "execution_count": 112,
   "metadata": {},
   "outputs": [
    {
     "name": "stderr",
     "output_type": "stream",
     "text": [
      "Warning message in dir.create(paste(new.dir, \"GO\", sep = \"/\")):\n",
      "\"'Coordination_ASE_effects/results/Coordination_at_heart_eQTLs/GO' already exists\"Loading hg19 length data...\n",
      "Fetching GO annotations...\n",
      "For 2822 genes, we could not find any categories. These genes will be excluded.\n",
      "To force their use, please run with use_genes_without_cat=TRUE (see documentation).\n",
      "This was the default behavior for version 1.15.1 and earlier.\n",
      "Calculating the p-values...\n",
      "'select()' returned 1:1 mapping between keys and columns\n",
      "Loading hg19 length data...\n",
      "Warning message in pcls(G):\n",
      "\"initial point very close to some inequality constraints\"Fetching GO annotations...\n",
      "For 2822 genes, we could not find any categories. These genes will be excluded.\n",
      "To force their use, please run with use_genes_without_cat=TRUE (see documentation).\n",
      "This was the default behavior for version 1.15.1 and earlier.\n",
      "Calculating the p-values...\n",
      "'select()' returned 1:1 mapping between keys and columns\n",
      "Loading hg19 length data...\n",
      "Warning message in pcls(G):\n",
      "\"initial point very close to some inequality constraints\"Fetching GO annotations...\n",
      "For 18 genes, we could not find any categories. These genes will be excluded.\n",
      "To force their use, please run with use_genes_without_cat=TRUE (see documentation).\n",
      "This was the default behavior for version 1.15.1 and earlier.\n",
      "Calculating the p-values...\n",
      "'select()' returned 1:1 mapping between keys and columns\n"
     ]
    },
    {
     "data": {
      "text/html": [
       "<strong>png:</strong> 2"
      ],
      "text/latex": [
       "\\textbf{png:} 2"
      ],
      "text/markdown": [
       "**png:** 2"
      ],
      "text/plain": [
       "png \n",
       "  2 "
      ]
     },
     "metadata": {},
     "output_type": "display_data"
    }
   ],
   "source": [
    "dir.create(paste( new.dir, \"GO\", sep=\"/\"))\n",
    "pdf(paste(new.dir, \"/GO/\", nm[i], \"_GO.pdf\", sep=\"\"))\n",
    "    par(mfrow=c(2,2), mar=c(2,15,2,1))    \n",
    "   \n",
    "for (t in 1:3){\n",
    "   \n",
    "if(t==1){    \n",
    "    set = \"heart_eqtls\"\n",
    "    test        = rownames(rn) %in% ag$gene_id\n",
    "    names(test) = str_split_fixed(rownames(rn),\"\\\\.\",2)[,1]\n",
    "    test = test[!duplicated(names(test))]\n",
    "    }\n",
    "if(t==2){    \n",
    "    set = \"heart_specific_eqtls\"\n",
    "    test        = rownames(rn) %in% ag_specific$gene_id\n",
    "    names(test) = str_split_fixed(rownames(rn),\"\\\\.\",2)[,1]\n",
    "    test = test[!duplicated(names(test))]\n",
    "    }\n",
    "if(t==3){    \n",
    "    set = \"heart_specific_versus_heart_ eqtls\"\n",
    "    test        = ag$gene_id %in% ag_specific$gene_id\n",
    "    names(test) = str_split_fixed(ag$gene_id,\"\\\\.\",2)[,1]\n",
    "    test        = test[!duplicated(names(test))]\n",
    "}\n",
    "\n",
    "    pwf         = nullp(test,\"hg19\",\"ensGene\", plot=F)\n",
    "    GO          = goseq(pwf,\"hg19\",\"ensGene\", test.cats=c(\"GO:BP\"))\n",
    "    GO$Bonferroni  = -log(p.adjust(GO$over_represented_pvalue, method=\"bonferroni\"),10)\n",
    "    GO             = GO[order(GO$over_represented_pvalue, decreasing=F),]\n",
    "      \n",
    "barplot(GO$Bonferroni[20:1], names.arg=GO$term[20:1], horiz=T, main=set,\n",
    "    las=1, cex.axis=0.8, cex.names=0.8, density=c(-1, 20)[(GO$Bonferroni[20:1]<=1.3)+1])\n",
    "    abline(v=1.3, lwd=2, lty=2, col=\"red\")      \n",
    "          \n",
    "}\n",
    "dev.off()"
   ]
  },
  {
   "cell_type": "markdown",
   "metadata": {},
   "source": [
    "No enrichment for GO term was found"
   ]
  },
  {
   "cell_type": "code",
   "execution_count": null,
   "metadata": {
    "collapsed": true
   },
   "outputs": [],
   "source": []
  }
 ],
 "metadata": {
  "kernelspec": {
   "display_name": "R",
   "language": "R",
   "name": "ir"
  },
  "language_info": {
   "codemirror_mode": "r",
   "file_extension": ".r",
   "mimetype": "text/x-r-source",
   "name": "R",
   "pygments_lexer": "r",
   "version": "3.2.2"
  }
 },
 "nbformat": 4,
 "nbformat_minor": 1
}
