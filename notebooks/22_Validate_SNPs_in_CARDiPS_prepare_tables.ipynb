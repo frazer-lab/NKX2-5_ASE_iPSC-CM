{
 "cells": [
  {
   "cell_type": "markdown",
   "metadata": {},
   "source": [
    "## Prepare tables of gene expression and genotypes to use for associations"
   ]
  },
  {
   "cell_type": "code",
   "execution_count": 41,
   "metadata": {
    "collapsed": true
   },
   "outputs": [],
   "source": [
    "home = \"/frazer01/home/paola/Family1070/private_output/Validation/data_tables\"\n",
    "setwd(home)\n"
   ]
  },
  {
   "cell_type": "code",
   "execution_count": 2,
   "metadata": {
    "collapsed": true
   },
   "outputs": [],
   "source": [
    "suppressPackageStartupMessages(library(stringr))\n",
    "suppressPackageStartupMessages(library(DESeq2))\n",
    "suppressPackageStartupMessages(library(limma))"
   ]
  },
  {
   "cell_type": "markdown",
   "metadata": {},
   "source": [
    "### 1. Get all rna-seq uuid done so far in iPSC-CMs \n",
    "this table (from Margaret D.) contains all cardips uuis for different assays. Only succesfull iPSC-CMs (cTNT>35%) were included\n"
   ]
  },
  {
   "cell_type": "code",
   "execution_count": 3,
   "metadata": {},
   "outputs": [
    {
     "data": {
      "text/plain": [
       "      \n",
       "       baseline family1070 production timecourse\n",
       "  atac        0         91        373         66\n",
       "  chip        0        123        112         12\n",
       "  rna       232         35        235         45"
      ]
     },
     "metadata": {},
     "output_type": "display_data"
    },
    {
     "data": {
      "text/html": [
       "<ol class=list-inline>\n",
       "\t<li>164</li>\n",
       "\t<li>10</li>\n",
       "</ol>\n"
      ],
      "text/latex": [
       "\\begin{enumerate*}\n",
       "\\item 164\n",
       "\\item 10\n",
       "\\end{enumerate*}\n"
      ],
      "text/markdown": [
       "1. 164\n",
       "2. 10\n",
       "\n",
       "\n"
      ],
      "text/plain": [
       "[1] 164  10"
      ]
     },
     "metadata": {},
     "output_type": "display_data"
    }
   ],
   "source": [
    "main = read.table (\"/frazer01/projects/CARDIPS/data/CARDiPS_production_metadata/assay_mastertable.txt\", sep= \"\\t\", header=T)\n",
    "main= main[!duplicated(main),]\n",
    "\n",
    "table(main$assay, main$dataset)\n",
    "\n",
    "rna_cm = droplevels(subset(main, dataset==\"production\" &assay ==\"rna\" & cell==\"CM\"))\n",
    "dim(rna_cm)"
   ]
  },
  {
   "cell_type": "code",
   "execution_count": 4,
   "metadata": {},
   "outputs": [
    {
     "data": {
      "text/html": [
       "<table>\n",
       "<thead><tr><th></th><th scope=col>subject_uuid</th><th scope=col>clone</th><th scope=col>passage</th><th scope=col>day</th><th scope=col>udid</th><th scope=col>assay_uuid</th><th scope=col>assay</th><th scope=col>assay_type</th><th scope=col>cell</th><th scope=col>dataset</th></tr></thead>\n",
       "<tbody>\n",
       "\t<tr><th scope=row>6</th><td>000a5dcf-764a-4f69-ab1c-5950cec4bbbe</td><td>3                                   </td><td>27                                  </td><td>25                                  </td><td>UDID106                             </td><td>eee96072-e740-4967-ba17-c9178796fde1</td><td>rna                                 </td><td>NA                                  </td><td>CM                                  </td><td>production                          </td></tr>\n",
       "\t<tr><th scope=row>12</th><td>032f42b3-42da-4a6a-9b01-cdf540e1866c</td><td>5                                   </td><td>20                                  </td><td>25                                  </td><td>UDID184                             </td><td>cbab32a9-f80d-4093-a2dc-7bdcaa4f8357</td><td>rna                                 </td><td>NA                                  </td><td>CM                                  </td><td>production                          </td></tr>\n",
       "\t<tr><th scope=row>13</th><td>03346cae-a4f3-4481-92ff-d76db0c82468</td><td>2                                   </td><td>22                                  </td><td>25                                  </td><td>UDID113                             </td><td>067afe59-e81d-4176-800d-f1b111c1ec82</td><td>rna                                 </td><td>NA                                  </td><td>CM                                  </td><td>production                          </td></tr>\n",
       "\t<tr><th scope=row>27</th><td>0bf3da28-3985-4c34-8197-5816fd73b588</td><td>5                                   </td><td>27                                  </td><td>25                                  </td><td>UDID064                             </td><td>cdccb7cb-5770-4585-a1e1-4f0ac6d5b676</td><td>rna                                 </td><td>NA                                  </td><td>CM                                  </td><td>production                          </td></tr>\n",
       "\t<tr><th scope=row>37</th><td>10479353-d46d-478d-86f0-c6be025de81b</td><td>2                                   </td><td>24                                  </td><td>25                                  </td><td>UDID138                             </td><td>e45ff871-b499-4c9a-8714-7d0b65eaa7b0</td><td>rna                                 </td><td>NA                                  </td><td>CM                                  </td><td>production                          </td></tr>\n",
       "\t<tr><th scope=row>47</th><td>10571d4e-c0e9-474b-80b6-75c59ebd1942</td><td>6                                   </td><td>21                                  </td><td>25                                  </td><td>UDID270                             </td><td>c6e37323-0e85-4d3c-8942-2bac6c563359</td><td>rna                                 </td><td>NA                                  </td><td>CM                                  </td><td>production                          </td></tr>\n",
       "</tbody>\n",
       "</table>\n"
      ],
      "text/latex": [
       "\\begin{tabular}{r|llllllllll}\n",
       "  & subject\\_uuid & clone & passage & day & udid & assay\\_uuid & assay & assay\\_type & cell & dataset\\\\\n",
       "\\hline\n",
       "\t6 & 000a5dcf-764a-4f69-ab1c-5950cec4bbbe & 3                                    & 27                                   & 25                                   & UDID106                              & eee96072-e740-4967-ba17-c9178796fde1 & rna                                  & NA                                   & CM                                   & production                          \\\\\n",
       "\t12 & 032f42b3-42da-4a6a-9b01-cdf540e1866c & 5                                    & 20                                   & 25                                   & UDID184                              & cbab32a9-f80d-4093-a2dc-7bdcaa4f8357 & rna                                  & NA                                   & CM                                   & production                          \\\\\n",
       "\t13 & 03346cae-a4f3-4481-92ff-d76db0c82468 & 2                                    & 22                                   & 25                                   & UDID113                              & 067afe59-e81d-4176-800d-f1b111c1ec82 & rna                                  & NA                                   & CM                                   & production                          \\\\\n",
       "\t27 & 0bf3da28-3985-4c34-8197-5816fd73b588 & 5                                    & 27                                   & 25                                   & UDID064                              & cdccb7cb-5770-4585-a1e1-4f0ac6d5b676 & rna                                  & NA                                   & CM                                   & production                          \\\\\n",
       "\t37 & 10479353-d46d-478d-86f0-c6be025de81b & 2                                    & 24                                   & 25                                   & UDID138                              & e45ff871-b499-4c9a-8714-7d0b65eaa7b0 & rna                                  & NA                                   & CM                                   & production                          \\\\\n",
       "\t47 & 10571d4e-c0e9-474b-80b6-75c59ebd1942 & 6                                    & 21                                   & 25                                   & UDID270                              & c6e37323-0e85-4d3c-8942-2bac6c563359 & rna                                  & NA                                   & CM                                   & production                          \\\\\n",
       "\\end{tabular}\n"
      ],
      "text/plain": [
       "   subject_uuid                         clone passage day udid   \n",
       "6  000a5dcf-764a-4f69-ab1c-5950cec4bbbe 3     27      25  UDID106\n",
       "12 032f42b3-42da-4a6a-9b01-cdf540e1866c 5     20      25  UDID184\n",
       "13 03346cae-a4f3-4481-92ff-d76db0c82468 2     22      25  UDID113\n",
       "27 0bf3da28-3985-4c34-8197-5816fd73b588 5     27      25  UDID064\n",
       "37 10479353-d46d-478d-86f0-c6be025de81b 2     24      25  UDID138\n",
       "47 10571d4e-c0e9-474b-80b6-75c59ebd1942 6     21      25  UDID270\n",
       "   assay_uuid                           assay assay_type cell dataset   \n",
       "6  eee96072-e740-4967-ba17-c9178796fde1 rna   NA         CM   production\n",
       "12 cbab32a9-f80d-4093-a2dc-7bdcaa4f8357 rna   NA         CM   production\n",
       "13 067afe59-e81d-4176-800d-f1b111c1ec82 rna   NA         CM   production\n",
       "27 cdccb7cb-5770-4585-a1e1-4f0ac6d5b676 rna   NA         CM   production\n",
       "37 e45ff871-b499-4c9a-8714-7d0b65eaa7b0 rna   NA         CM   production\n",
       "47 c6e37323-0e85-4d3c-8942-2bac6c563359 rna   NA         CM   production"
      ]
     },
     "metadata": {},
     "output_type": "display_data"
    }
   ],
   "source": [
    "head(rna_cm)"
   ]
  },
  {
   "cell_type": "markdown",
   "metadata": {},
   "source": [
    "### 2. Get the gene expression RNA-Seq data \n",
    "normalize, correct for TNNT and export it"
   ]
  },
  {
   "cell_type": "code",
   "execution_count": 7,
   "metadata": {},
   "outputs": [],
   "source": [
    "raw<-read.table(\"/projects/CARDIPS/pipeline/RNAseq/combined_files/rsem_expected_counts.tsv\", header=T, check.names=F, \n",
    "                  sep=\"\\t\", row.names=1)"
   ]
  },
  {
   "cell_type": "code",
   "execution_count": 8,
   "metadata": {
    "collapsed": true
   },
   "outputs": [],
   "source": [
    "tpm<-read.table(\"/projects/CARDIPS/pipeline/RNAseq/combined_files/rsem_tpm.tsv\", header=T, check.names=F, \n",
    "                  sep=\"\\t\", row.names=1)"
   ]
  },
  {
   "cell_type": "code",
   "execution_count": 9,
   "metadata": {},
   "outputs": [
    {
     "data": {
      "text/html": [
       "<ol class=list-inline>\n",
       "\t<li>'X'</li>\n",
       "\t<li>'20'</li>\n",
       "\t<li>'1'</li>\n",
       "\t<li>'6'</li>\n",
       "\t<li>'3'</li>\n",
       "\t<li>'7'</li>\n",
       "\t<li>'12'</li>\n",
       "\t<li>'11'</li>\n",
       "\t<li>'4'</li>\n",
       "\t<li>'17'</li>\n",
       "\t<li>'2'</li>\n",
       "\t<li>'16'</li>\n",
       "\t<li>'8'</li>\n",
       "\t<li>'19'</li>\n",
       "\t<li>'9'</li>\n",
       "\t<li>'13'</li>\n",
       "\t<li>'14'</li>\n",
       "\t<li>'5'</li>\n",
       "\t<li>'22'</li>\n",
       "\t<li>'10'</li>\n",
       "\t<li>'Y'</li>\n",
       "\t<li>'18'</li>\n",
       "\t<li>'15'</li>\n",
       "\t<li>'21'</li>\n",
       "\t<li>'M'</li>\n",
       "</ol>\n"
      ],
      "text/latex": [
       "\\begin{enumerate*}\n",
       "\\item 'X'\n",
       "\\item '20'\n",
       "\\item '1'\n",
       "\\item '6'\n",
       "\\item '3'\n",
       "\\item '7'\n",
       "\\item '12'\n",
       "\\item '11'\n",
       "\\item '4'\n",
       "\\item '17'\n",
       "\\item '2'\n",
       "\\item '16'\n",
       "\\item '8'\n",
       "\\item '19'\n",
       "\\item '9'\n",
       "\\item '13'\n",
       "\\item '14'\n",
       "\\item '5'\n",
       "\\item '22'\n",
       "\\item '10'\n",
       "\\item 'Y'\n",
       "\\item '18'\n",
       "\\item '15'\n",
       "\\item '21'\n",
       "\\item 'M'\n",
       "\\end{enumerate*}\n"
      ],
      "text/markdown": [
       "1. 'X'\n",
       "2. '20'\n",
       "3. '1'\n",
       "4. '6'\n",
       "5. '3'\n",
       "6. '7'\n",
       "7. '12'\n",
       "8. '11'\n",
       "9. '4'\n",
       "10. '17'\n",
       "11. '2'\n",
       "12. '16'\n",
       "13. '8'\n",
       "14. '19'\n",
       "15. '9'\n",
       "16. '13'\n",
       "17. '14'\n",
       "18. '5'\n",
       "19. '22'\n",
       "20. '10'\n",
       "21. 'Y'\n",
       "22. '18'\n",
       "23. '15'\n",
       "24. '21'\n",
       "25. 'M'\n",
       "\n",
       "\n"
      ],
      "text/plain": [
       " [1] \"X\"  \"20\" \"1\"  \"6\"  \"3\"  \"7\"  \"12\" \"11\" \"4\"  \"17\" \"2\"  \"16\" \"8\"  \"19\" \"9\" \n",
       "[16] \"13\" \"14\" \"5\"  \"22\" \"10\" \"Y\"  \"18\" \"15\" \"21\" \"M\" "
      ]
     },
     "metadata": {},
     "output_type": "display_data"
    }
   ],
   "source": [
    "gene_info<-read.table(\"/publicdata/gencode_v19_20151104/gene_info.tsv\", header=T, sep=\"\\t\")\n",
    "\n",
    "chromo<-str_split_fixed(gene_info$chrom, \"chr\", 2)[,2]\n",
    "unique(chromo)\n",
    "autoso<- as.character(1:22)\n"
   ]
  },
  {
   "cell_type": "code",
   "execution_count": 10,
   "metadata": {
    "collapsed": true
   },
   "outputs": [],
   "source": [
    "raw_sel<-raw[chromo %in% autoso,]\n",
    "tpm_sel<-tpm[chromo %in% autoso,]"
   ]
  },
  {
   "cell_type": "code",
   "execution_count": 11,
   "metadata": {},
   "outputs": [
    {
     "data": {
      "text/html": [
       "<ol class=list-inline>\n",
       "\t<li>13098</li>\n",
       "\t<li>164</li>\n",
       "</ol>\n"
      ],
      "text/latex": [
       "\\begin{enumerate*}\n",
       "\\item 13098\n",
       "\\item 164\n",
       "\\end{enumerate*}\n"
      ],
      "text/markdown": [
       "1. 13098\n",
       "2. 164\n",
       "\n",
       "\n"
      ],
      "text/plain": [
       "[1] 13098   164"
      ]
     },
     "metadata": {},
     "output_type": "display_data"
    },
    {
     "data": {
      "text/html": [
       "<ol class=list-inline>\n",
       "\t<li>13098</li>\n",
       "\t<li>164</li>\n",
       "</ol>\n"
      ],
      "text/latex": [
       "\\begin{enumerate*}\n",
       "\\item 13098\n",
       "\\item 164\n",
       "\\end{enumerate*}\n"
      ],
      "text/markdown": [
       "1. 13098\n",
       "2. 164\n",
       "\n",
       "\n"
      ],
      "text/plain": [
       "[1] 13098   164"
      ]
     },
     "metadata": {},
     "output_type": "display_data"
    }
   ],
   "source": [
    "raw_sel<-subset(raw_sel, select=c(as.character(rna_cm$assay_uuid)))\n",
    "tpm_sel<-subset(tpm_sel, select=c(as.character(rna_cm$assay_uuid)))\n",
    "raw_sel<-raw_sel[(rowMeans(tpm_sel)>2),]\n",
    "tpm_sel<-tpm_sel[(rowMeans(tpm_sel)>2),]\n",
    "\n",
    "dim(tpm_sel)\n",
    "dim(raw_sel)"
   ]
  },
  {
   "cell_type": "code",
   "execution_count": 12,
   "metadata": {},
   "outputs": [],
   "source": [
    "## put id first for Deseq\n",
    "rna_cm<-rna_cm[,c(6:length(rna_cm), 1:5)]\n",
    "rna_cm<-rna_cm[as.character(rna_cm$assay_uuid) %in% colnames(raw),]\n",
    "ctnt<- tpm_sel[as.character(gene_info[gene_info$gene_name==\"TNNT2\",\"gene_id\"]),]\n",
    "ctnt<- subset(ctnt, select=as.character(rna_cm$assay_uuid))\n",
    "rna_cm$cTNT_TPM = t(ctnt)[,1]"
   ]
  },
  {
   "cell_type": "code",
   "execution_count": 13,
   "metadata": {
    "collapsed": true
   },
   "outputs": [],
   "source": [
    "write.csv(rna_cm, \"Production_cm_samples.csv\")"
   ]
  },
  {
   "cell_type": "code",
   "execution_count": null,
   "metadata": {},
   "outputs": [
    {
     "name": "stderr",
     "output_type": "stream",
     "text": [
      "converting counts to integer mode\n",
      "gene-wise dispersion estimates\n"
     ]
    }
   ],
   "source": [
    "counts<-round(raw_sel,0)\n",
    "workingData<-DESeqDataSetFromMatrix(counts, rna_cm, design= ~ subject_uuid)\n",
    "workingData<-estimateSizeFactors(workingData)\n",
    "workingData<-estimateDispersions(workingData, fitType=\"parametric\")\n",
    "vst_workingData<-varianceStabilizingTransformation(workingData, blind=TRUE)\n",
    "\n",
    "mat<-as.data.frame(assay(vst_workingData))\n",
    "colnames(mat)<-as.character(rna_cm$assay_uuid)\n",
    "write.table(mat, file=\"Production_cms_vst_counts.txt\", quote=F, row.names=T, col.names=T, sep=\"\\t\")\n"
   ]
  },
  {
   "cell_type": "code",
   "execution_count": 9,
   "metadata": {
    "collapsed": true
   },
   "outputs": [],
   "source": [
    "rna_cm =read.csv( \"Production_cm_samples.csv\", row.names=1)\n"
   ]
  },
  {
   "cell_type": "code",
   "execution_count": 10,
   "metadata": {},
   "outputs": [
    {
     "data": {
      "text/html": [
       "<table>\n",
       "<thead><tr><th></th><th scope=col>assay_uuid</th><th scope=col>assay</th><th scope=col>assay_type</th><th scope=col>cell</th><th scope=col>dataset</th><th scope=col>subject_uuid</th><th scope=col>clone</th><th scope=col>passage</th><th scope=col>day</th><th scope=col>udid</th><th scope=col>cTNT_TPM</th></tr></thead>\n",
       "<tbody>\n",
       "\t<tr><th scope=row>6</th><td>eee96072-e740-4967-ba17-c9178796fde1</td><td>rna                                 </td><td>NA                                  </td><td>CM                                  </td><td>production                          </td><td>000a5dcf-764a-4f69-ab1c-5950cec4bbbe</td><td>3                                   </td><td>27                                  </td><td>25                                  </td><td>UDID106                             </td><td>5687.32                             </td></tr>\n",
       "\t<tr><th scope=row>12</th><td>cbab32a9-f80d-4093-a2dc-7bdcaa4f8357</td><td>rna                                 </td><td>NA                                  </td><td>CM                                  </td><td>production                          </td><td>032f42b3-42da-4a6a-9b01-cdf540e1866c</td><td>5                                   </td><td>20                                  </td><td>25                                  </td><td>UDID184                             </td><td>4710.74                             </td></tr>\n",
       "\t<tr><th scope=row>13</th><td>067afe59-e81d-4176-800d-f1b111c1ec82</td><td>rna                                 </td><td>NA                                  </td><td>CM                                  </td><td>production                          </td><td>03346cae-a4f3-4481-92ff-d76db0c82468</td><td>2                                   </td><td>22                                  </td><td>25                                  </td><td>UDID113                             </td><td>3555.09                             </td></tr>\n",
       "\t<tr><th scope=row>27</th><td>cdccb7cb-5770-4585-a1e1-4f0ac6d5b676</td><td>rna                                 </td><td>NA                                  </td><td>CM                                  </td><td>production                          </td><td>0bf3da28-3985-4c34-8197-5816fd73b588</td><td>5                                   </td><td>27                                  </td><td>25                                  </td><td>UDID064                             </td><td>6200.72                             </td></tr>\n",
       "\t<tr><th scope=row>37</th><td>e45ff871-b499-4c9a-8714-7d0b65eaa7b0</td><td>rna                                 </td><td>NA                                  </td><td>CM                                  </td><td>production                          </td><td>10479353-d46d-478d-86f0-c6be025de81b</td><td>2                                   </td><td>24                                  </td><td>25                                  </td><td>UDID138                             </td><td>6089.46                             </td></tr>\n",
       "\t<tr><th scope=row>47</th><td>c6e37323-0e85-4d3c-8942-2bac6c563359</td><td>rna                                 </td><td>NA                                  </td><td>CM                                  </td><td>production                          </td><td>10571d4e-c0e9-474b-80b6-75c59ebd1942</td><td>6                                   </td><td>21                                  </td><td>25                                  </td><td>UDID270                             </td><td>2532.27                             </td></tr>\n",
       "</tbody>\n",
       "</table>\n"
      ],
      "text/latex": [
       "\\begin{tabular}{r|lllllllllll}\n",
       "  & assay\\_uuid & assay & assay\\_type & cell & dataset & subject\\_uuid & clone & passage & day & udid & cTNT\\_TPM\\\\\n",
       "\\hline\n",
       "\t6 & eee96072-e740-4967-ba17-c9178796fde1 & rna                                  & NA                                   & CM                                   & production                           & 000a5dcf-764a-4f69-ab1c-5950cec4bbbe & 3                                    & 27                                   & 25                                   & UDID106                              & 5687.32                             \\\\\n",
       "\t12 & cbab32a9-f80d-4093-a2dc-7bdcaa4f8357 & rna                                  & NA                                   & CM                                   & production                           & 032f42b3-42da-4a6a-9b01-cdf540e1866c & 5                                    & 20                                   & 25                                   & UDID184                              & 4710.74                             \\\\\n",
       "\t13 & 067afe59-e81d-4176-800d-f1b111c1ec82 & rna                                  & NA                                   & CM                                   & production                           & 03346cae-a4f3-4481-92ff-d76db0c82468 & 2                                    & 22                                   & 25                                   & UDID113                              & 3555.09                             \\\\\n",
       "\t27 & cdccb7cb-5770-4585-a1e1-4f0ac6d5b676 & rna                                  & NA                                   & CM                                   & production                           & 0bf3da28-3985-4c34-8197-5816fd73b588 & 5                                    & 27                                   & 25                                   & UDID064                              & 6200.72                             \\\\\n",
       "\t37 & e45ff871-b499-4c9a-8714-7d0b65eaa7b0 & rna                                  & NA                                   & CM                                   & production                           & 10479353-d46d-478d-86f0-c6be025de81b & 2                                    & 24                                   & 25                                   & UDID138                              & 6089.46                             \\\\\n",
       "\t47 & c6e37323-0e85-4d3c-8942-2bac6c563359 & rna                                  & NA                                   & CM                                   & production                           & 10571d4e-c0e9-474b-80b6-75c59ebd1942 & 6                                    & 21                                   & 25                                   & UDID270                              & 2532.27                             \\\\\n",
       "\\end{tabular}\n"
      ],
      "text/plain": [
       "   assay_uuid                           assay assay_type cell dataset   \n",
       "6  eee96072-e740-4967-ba17-c9178796fde1 rna   NA         CM   production\n",
       "12 cbab32a9-f80d-4093-a2dc-7bdcaa4f8357 rna   NA         CM   production\n",
       "13 067afe59-e81d-4176-800d-f1b111c1ec82 rna   NA         CM   production\n",
       "27 cdccb7cb-5770-4585-a1e1-4f0ac6d5b676 rna   NA         CM   production\n",
       "37 e45ff871-b499-4c9a-8714-7d0b65eaa7b0 rna   NA         CM   production\n",
       "47 c6e37323-0e85-4d3c-8942-2bac6c563359 rna   NA         CM   production\n",
       "   subject_uuid                         clone passage day udid    cTNT_TPM\n",
       "6  000a5dcf-764a-4f69-ab1c-5950cec4bbbe 3     27      25  UDID106 5687.32 \n",
       "12 032f42b3-42da-4a6a-9b01-cdf540e1866c 5     20      25  UDID184 4710.74 \n",
       "13 03346cae-a4f3-4481-92ff-d76db0c82468 2     22      25  UDID113 3555.09 \n",
       "27 0bf3da28-3985-4c34-8197-5816fd73b588 5     27      25  UDID064 6200.72 \n",
       "37 10479353-d46d-478d-86f0-c6be025de81b 2     24      25  UDID138 6089.46 \n",
       "47 10571d4e-c0e9-474b-80b6-75c59ebd1942 6     21      25  UDID270 2532.27 "
      ]
     },
     "metadata": {},
     "output_type": "display_data"
    }
   ],
   "source": [
    "head(rna_cm)"
   ]
  },
  {
   "cell_type": "code",
   "execution_count": 6,
   "metadata": {
    "collapsed": true
   },
   "outputs": [],
   "source": [
    "mat = read.table( \"Production_cms_vst_counts.txt\", header=T, row.names=1, check.names=F)"
   ]
  },
  {
   "cell_type": "code",
   "execution_count": 12,
   "metadata": {},
   "outputs": [],
   "source": [
    "### normalize using residuals from TTNT2\n",
    "fit <- lmFit( mat, model.matrix(~ cTNT_TPM, rna_cm))\n",
    "res <- residuals(fit, mat)\n",
    "mat_corrected<- res + rowMeans(as.matrix(mat))\n",
    "write.table(mat_corrected, file=\"Production_cms_vst_counts_corrected_ctnt.txt\", quote=F, row.names=T, col.names=T, sep=\"\\t\")"
   ]
  },
  {
   "cell_type": "markdown",
   "metadata": {},
   "source": [
    "### 4. Get genotypes for selected SNPs and individuals "
   ]
  },
  {
   "cell_type": "code",
   "execution_count": 38,
   "metadata": {
    "collapsed": true
   },
   "outputs": [],
   "source": [
    "system(\"module load cardips\")"
   ]
  },
  {
   "cell_type": "code",
   "execution_count": 33,
   "metadata": {},
   "outputs": [
    {
     "data": {
      "text/html": [
       "<ol class=list-inline>\n",
       "\t<li>1941</li>\n",
       "\t<li>29</li>\n",
       "</ol>\n"
      ],
      "text/latex": [
       "\\begin{enumerate*}\n",
       "\\item 1941\n",
       "\\item 29\n",
       "\\end{enumerate*}\n"
      ],
      "text/markdown": [
       "1. 1941\n",
       "2. 29\n",
       "\n",
       "\n"
      ],
      "text/plain": [
       "[1] 1941   29"
      ]
     },
     "metadata": {},
     "output_type": "display_data"
    }
   ],
   "source": [
    "snps = read.table(\"../../Enrichment_annotations/Supplementary_table_ase_annotations.txt\",  header=T, fill=T)\n",
    "\n",
    "nkx_snps = subset(snps, mark==\"NKX25\")\n",
    "dim(nkx_snps)\n",
    "nkx_snps = str_split_fixed(nkx_snps$variantID, \":\",2)\n",
    "\n",
    "\n",
    "write.table(nkx_snps, \"NKX_ase_coord.txt\", sep=\"\\t\", quote=F, col.names=F, row.names=F)\n",
    "\n",
    "get_genotypes<- \"bcftools query -R NKX_ase_coord.txt -f '%CHROM\\t%POS\\t%ID\\t%REF\\t%ALT[\\t%GT]\\n' -H /projects/CARDIPS/pipeline/WGS/mergedVCF/CARDIPS_201512.PASS.274.hg19.vcf.gz -o Cardips_NKX25_ase_gt.tsv\"\n",
    "\n",
    "system (get_genotypes)"
   ]
  },
  {
   "cell_type": "code",
   "execution_count": null,
   "metadata": {
    "collapsed": true
   },
   "outputs": [],
   "source": [
    "### manually remove the # in the header"
   ]
  },
  {
   "cell_type": "code",
   "execution_count": 44,
   "metadata": {
    "collapsed": true
   },
   "outputs": [],
   "source": [
    "gt<-read.table(\"Cardips_NKX25_ase_gt.tsv\", header=T,check.names=F, stringsAsFactors=FALSE )\n",
    "\n",
    "gt <- replace(gt, gt == \"1/1\", 2)\n",
    "gt <- replace(gt, gt == \"0/1\", 1)\n",
    "gt <- replace(gt, gt == \"0/0\", 0)\n",
    "\n",
    "\n",
    "names<-str_split_fixed(colnames(gt), \"]\", 2)[,2]\n",
    "names2<-str_split_fixed(names[-c(1:5)], \":\",2)[,1]\n",
    "colnames(gt)<-c(names[1:5], names2)\n",
    "write.csv(gt, \"Cardips_NKX25_ase_genotypes_coded.csv\")"
   ]
  },
  {
   "cell_type": "code",
   "execution_count": 68,
   "metadata": {},
   "outputs": [
    {
     "data": {
      "text/html": [
       "<ol class=list-inline>\n",
       "\t<li>164</li>\n",
       "\t<li>11</li>\n",
       "</ol>\n"
      ],
      "text/latex": [
       "\\begin{enumerate*}\n",
       "\\item 164\n",
       "\\item 11\n",
       "\\end{enumerate*}\n"
      ],
      "text/markdown": [
       "1. 164\n",
       "2. 11\n",
       "\n",
       "\n"
      ],
      "text/plain": [
       "[1] 164  11"
      ]
     },
     "metadata": {},
     "output_type": "display_data"
    },
    {
     "data": {
      "text/html": [
       "<ol class=list-inline>\n",
       "\t<li>203</li>\n",
       "\t<li>12</li>\n",
       "</ol>\n"
      ],
      "text/latex": [
       "\\begin{enumerate*}\n",
       "\\item 203\n",
       "\\item 12\n",
       "\\end{enumerate*}\n"
      ],
      "text/markdown": [
       "1. 203\n",
       "2. 12\n",
       "\n",
       "\n"
      ],
      "text/plain": [
       "[1] 203  12"
      ]
     },
     "metadata": {},
     "output_type": "display_data"
    },
    {
     "data": {
      "text/html": [
       "<ol class=list-inline>\n",
       "\t<li>164</li>\n",
       "\t<li>12</li>\n",
       "</ol>\n"
      ],
      "text/latex": [
       "\\begin{enumerate*}\n",
       "\\item 164\n",
       "\\item 12\n",
       "\\end{enumerate*}\n"
      ],
      "text/markdown": [
       "1. 164\n",
       "2. 12\n",
       "\n",
       "\n"
      ],
      "text/plain": [
       "[1] 164  12"
      ]
     },
     "metadata": {},
     "output_type": "display_data"
    }
   ],
   "source": [
    "dim(rna_cm)\n",
    "wgs     = read.table (\"wgs.txt\", header=T)\n",
    "rna_cm<-merge(rna_cm, wgs, by.x=\"subject_uuid\", by.y=\"subject_id\")\n",
    "dim(rna_cm)\n",
    "rna_cm=  rna_cm [!duplicated(rna_cm),]\n",
    "rna_cm = subset(rna_cm, wgs_id %in% colnames(gt))\n",
    "dim(rna_cm)"
   ]
  },
  {
   "cell_type": "code",
   "execution_count": 69,
   "metadata": {
    "collapsed": true
   },
   "outputs": [],
   "source": [
    "write.csv(rna_cm, \"Production_cm_samples_wgsid.csv\")"
   ]
  },
  {
   "cell_type": "code",
   "execution_count": null,
   "metadata": {
    "collapsed": true
   },
   "outputs": [],
   "source": []
  }
 ],
 "metadata": {
  "kernelspec": {
   "display_name": "R",
   "language": "R",
   "name": "ir"
  },
  "language_info": {
   "codemirror_mode": "r",
   "file_extension": ".r",
   "mimetype": "text/x-r-source",
   "name": "R",
   "pygments_lexer": "r",
   "version": "3.2.2"
  }
 },
 "nbformat": 4,
 "nbformat_minor": 1
}
