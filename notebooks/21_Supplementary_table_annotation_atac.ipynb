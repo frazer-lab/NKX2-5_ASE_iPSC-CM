{
 "cells": [
  {
   "cell_type": "markdown",
   "metadata": {},
   "source": [
    "# Make final supplementary table"
   ]
  },
  {
   "cell_type": "code",
   "execution_count": 2,
   "metadata": {},
   "outputs": [],
   "source": [
    "library (stringr)\n",
    "home = \"/home/paola/Family1070/private_output/\"\n",
    "setwd(paste(home,\"Enrichment_annotations\", sep=\"/\"))\n",
    "ase_dir=\"/home/paola/Family1070/private_output/ASE_chip/pipeline/results\""
   ]
  },
  {
   "cell_type": "code",
   "execution_count": 3,
   "metadata": {},
   "outputs": [],
   "source": [
    "marks = c('ATAC_CM','ATAC_IPSC' )"
   ]
  },
  {
   "cell_type": "code",
   "execution_count": 5,
   "metadata": {},
   "outputs": [],
   "source": [
    "###### Closest Gene Annotation\n",
    "gi   = read.table(\"/frazer01/publicdata/gencode_v19_20151104/gene_info.tsv\", header=T)\n",
    "pro  = paste(home, \"Coordination_ASE_effects/matches/\", marks, \"_closest_gene.bed\", sep=\"\" )\n",
    "\n",
    "### Haploreg annotations\n",
    "\n",
    "HAP=paste ( \"Haploreg/\", marks, \"_haploreg.tab\", sep=\"\")\n",
    "QTL=paste ( \"GTEx/\", marks, \"_eQTLs.txt\", sep=\"\")\n",
    "\n",
    "#### Gwas annotations\n",
    "gwasCAT<- read.csv('GWAS/GwasForFinalAnnotation.csv', header=T)\n",
    "\n",
    "  gwasCAT$anno<-paste(gwasCAT$study,gwasCAT$LDsnp,gwasCAT$r2_pop.x, sep='|')\n",
    "  lead<-subset(gwasCAT, !duplicated(gwasCAT[,c(\"SNP_ID_CURRENT\", \"study\")]))\n",
    "  lead<-aggregate(study~SNP_ID_CURRENT, lead, paste, collapse=\";\")\n",
    "  ld<-subset(gwasCAT, !duplicated(gwasCAT[,c(\"LDsnp\", \"anno\")]))\n",
    "  ld<-aggregate(anno~LDsnp, ld, paste, collapse=\";\")\n",
    "\n",
    "##### left ventricle expression annot\n",
    "lv<-read.csv('GTEx/GTEx Portal.csv', header=T)\n",
    "aa<-read.csv('GTEx/GTEx Portal AA.csv', header=T)\n",
    "\n",
    "lv_eqtls<-read.table(\"/publicdata/gtex_v6/Heart_Left_Ventricle_Analysis.snpgenes\",  sep=\"\\t\", header=T)\n",
    "lv_eqtls$snpID<-paste(\"chr\",lv_eqtls$snp_chrom, \":\", lv_eqtls$snp_pos, sep=\"\")\n",
    "lv<-merge(lv, lv_eqtls[,c('gene', 'snpID' )], by.x='Gencode.Id', by.y='gene')\n",
    "\n",
    "aa_eqtls<-read.table(\"/publicdata/gtex_v6/Heart_Atrial_Appendage_Analysis.snpgenes\",  sep=\"\\t\", header=T)\n",
    "aa_eqtls$snpID<-paste(\"chr\",aa_eqtls$snp_chrom, \":\", aa_eqtls$snp_pos, sep=\"\")\n",
    "aa<-merge(aa, aa_eqtls[,c('gene', 'snpID' )], by.x='Gencode.Id', by.y='gene')\n",
    "\n"
   ]
  },
  {
   "cell_type": "code",
   "execution_count": 7,
   "metadata": {},
   "outputs": [
    {
     "name": "stdout",
     "output_type": "stream",
     "text": [
      "ATAC_CM \n",
      "ATAC_IPSC \n"
     ]
    }
   ],
   "source": [
    "m=data.frame()\n",
    "\n",
    "for (i in 1:length(marks)){\n",
    "  \n",
    "  cat(marks[i], \"\\n\")\n",
    "  mark=marks[i]\n",
    "  ase=read.csv(paste(\"Haploreg/SummaryAnnotations\", mark, \"csv\", sep=\".\"), header=T)\n",
    "  ase=subset(ase, ase$combined_fdr<0.05)\n",
    "  \n",
    "  \n",
    "  hap=read.table(HAP[i], header=F, sep=\"\\t\")\n",
    "  colnames(hap)=c(\"chrom\", \"pos\", \"id\", \"ref\", \"alt\", \"cons\", \"motif\", \"gene\",\"chromHMM\", \"DNAse\")\n",
    "  hap=hap[,c( \"id\", \"motif\", \"gene\",\"chromHMM\", \"DNAse\")]\n",
    "  ase=merge(ase,hap,by.x=\"snpID\", by.y=\"id\", all.x=T)\n",
    " \n",
    "  qtl<-read.table( QTL[i], fill=T, stringsAsFactors=F)\n",
    "  colnames(qtl)<-c(\"snp\",\"qtl\")\n",
    "  ase=merge(ase,qtl,by.x=\"snpID\", by.y=\"snp\", all.x=T)\n",
    "  \n",
    "  gene=read.table(pro[i])\n",
    "  colnames(gene)=c(\"chr\", \"start\", \"end\", \"chr2\", \n",
    "                   \"start2\", \"end2\", \"gene\", \"dot\", \"strand\", \"dist\")\n",
    "  gene$locus = paste (gene$chr,\":\", gene$start, \"-\" ,gene$end, sep=\"\")\n",
    "  gene=merge(gene, gi, by.x=\"gene\", by.y=\"gene_id\")\n",
    "  gene$closestGenes=paste(gene$gene, gene$gene_name, gene$dist, sep=\"|\")\n",
    "  gene=gene[,c(\"locus\", \"closestGenes\")]\n",
    "  gene=aggregate(closestGenes~locus, gene, paste, collapse=\",\")\n",
    "  ase=merge(ase,gene,by=\"locus\", all.x=T)\n",
    "  \n",
    "  \n",
    "  ase<-merge(ase, lead[, c(\"SNP_ID_CURRENT\", \"study\")], by.x=\"snpID\", by.y=\"SNP_ID_CURRENT\", all.x=T)\n",
    "  ase<-merge(ase, ld[, c(\"LDsnp\", \"anno\")], by.x=\"snpID\", by.y=\"LDsnp\", all.x=T)\n",
    "  \n",
    "eqtls = read.table( paste(\"GTEx/\", mark,  \".GtexTable_hreg_aggregate.txt\", sep=\"\"), header=T,  sep=\"\\t\") \n",
    "heart_specific = subset(eqtls, ((eqtls[,2]/2)-eqtls[,\"Hear\"])<=0)\n",
    "ase$heart_specific = ase$snpID %in% heart_specific$snpID\n",
    "  \n",
    " \n",
    "    ase$Motif_anno<-NA\n",
    "    \n",
    "  \n",
    "    \n",
    "\n",
    " if(i>1) {ase<-subset(ase, select=colnames(m))   }\n",
    "  \n",
    "    m<-rbind(m,ase)\n",
    "}\n",
    "\n",
    "\n",
    "m$topxp<-m$snpID %in% lv$snpID | m$snpID %in% aa$snpID\n",
    "m$bestp<-m$snpID %in% lv_eqtls$snpID[lv_eqtls$has_best_p==1] | \n",
    "m$snpID %in% aa_eqtls$snpID[aa_eqtls$has_best_p==1]\n",
    "\n",
    "\n",
    "write.table(m, \"Supplementary_table_ase_annotations_ATAC.txt\", sep=\"\\t\", row.names=FALSE, quote=FALSE)"
   ]
  },
  {
   "cell_type": "code",
   "execution_count": 8,
   "metadata": {},
   "outputs": [
    {
     "data": {
      "text/html": [
       "<ol class=list-inline>\n",
       "\t<li>208</li>\n",
       "\t<li>30</li>\n",
       "</ol>\n"
      ],
      "text/latex": [
       "\\begin{enumerate*}\n",
       "\\item 208\n",
       "\\item 30\n",
       "\\end{enumerate*}\n"
      ],
      "text/markdown": [
       "1. 208\n",
       "2. 30\n",
       "\n",
       "\n"
      ],
      "text/plain": [
       "[1] 208  30"
      ]
     },
     "metadata": {},
     "output_type": "display_data"
    }
   ],
   "source": [
    "dim(m)"
   ]
  },
  {
   "cell_type": "code",
   "execution_count": 14,
   "metadata": {},
   "outputs": [
    {
     "data": {
      "text/html": [
       "<table>\n",
       "<thead><tr><th scope=col>snpID</th><th scope=col>locus</th><th scope=col>variantID</th><th scope=col>combined_pv</th><th scope=col>combined_fdr</th><th scope=col>ref_freq</th><th scope=col>refAllele</th><th scope=col>altAllele</th><th scope=col>mark</th><th scope=col>tissue</th><th scope=col>...</th><th scope=col>chromHMM</th><th scope=col>DNAse</th><th scope=col>qtl</th><th scope=col>closestGenes</th><th scope=col>study</th><th scope=col>anno</th><th scope=col>heart_specific</th><th scope=col>Motif_anno</th><th scope=col>topxp</th><th scope=col>bestp</th></tr></thead>\n",
       "<tbody>\n",
       "\t<tr><td>.                                                         </td><td>chr1:15850369-15852010                                    </td><td>chr1:15851325                                             </td><td>3.067140e-06                                              </td><td>0.003006430                                               </td><td>0.9556486                                                 </td><td>T                                                         </td><td>C                                                         </td><td>ATAC                                                      </td><td>iPSC-CM                                                   </td><td>...                                                       </td><td>NA                                                        </td><td>NA                                                        </td><td>NA                                                        </td><td>ENSG00000132906.13|CASP9|0                                </td><td>NA                                                        </td><td>NA                                                        </td><td>FALSE                                                     </td><td>NA                                                        </td><td>FALSE                                                     </td><td>FALSE                                                     </td></tr>\n",
       "\t<tr><td>.                                                         </td><td>chr1:246171695-246171837                                  </td><td>chr1:246171805                                            </td><td>3.896270e-06                                              </td><td>0.003520212                                               </td><td>0.2185245                                                 </td><td>C                                                         </td><td>T                                                         </td><td>ATAC                                                      </td><td>iPSC-CM                                                   </td><td>...                                                       </td><td>NA                                                        </td><td>NA                                                        </td><td>NA                                                        </td><td>ENSG00000185420.14|SMYD3|0                                </td><td>NA                                                        </td><td>NA                                                        </td><td>FALSE                                                     </td><td>NA                                                        </td><td>FALSE                                                     </td><td>FALSE                                                     </td></tr>\n",
       "\t<tr><td>.                                                         </td><td>chr14:65568805-65569845                                   </td><td>chr14:65569461                                            </td><td>1.207191e-04                                              </td><td>0.041077401                                               </td><td>0.1987404                                                 </td><td>C                                                         </td><td>G                                                         </td><td>ATAC                                                      </td><td>iPSC-CM                                                   </td><td>...                                                       </td><td>NA                                                        </td><td>NA                                                        </td><td>NA                                                        </td><td>ENSG00000125952.14|MAX|0                                  </td><td>NA                                                        </td><td>NA                                                        </td><td>FALSE                                                     </td><td>NA                                                        </td><td>FALSE                                                     </td><td>FALSE                                                     </td></tr>\n",
       "\t<tr><td>.                                                         </td><td>chr19:9929455-9930480                                     </td><td>chr19:9930123                                             </td><td>1.554486e-06                                              </td><td>0.001851322                                               </td><td>0.9591885                                                 </td><td>A                                                         </td><td>G                                                         </td><td>ATAC                                                      </td><td>iPSC-CM                                                   </td><td>...                                                       </td><td>NA                                                        </td><td>NA                                                        </td><td>NA                                                        </td><td>ENSG00000127452.4|FBXL12|0                                </td><td>NA                                                        </td><td>NA                                                        </td><td>FALSE                                                     </td><td>NA                                                        </td><td>FALSE                                                     </td><td>FALSE                                                     </td></tr>\n",
       "\t<tr><td>.                                                         </td><td>chr3:150481611-150481879                                  </td><td>chr3:150481858                                            </td><td>1.461043e-04                                              </td><td>0.048456693                                               </td><td>0.9422222                                                 </td><td>G                                                         </td><td>T                                                         </td><td>ATAC                                                      </td><td>iPSC-CM                                                   </td><td>...                                                       </td><td>NA                                                        </td><td>NA                                                        </td><td>NA                                                        </td><td>ENSG00000181788.3|SIAH2|348                               </td><td>NA                                                        </td><td>NA                                                        </td><td>FALSE                                                     </td><td>NA                                                        </td><td>FALSE                                                     </td><td>FALSE                                                     </td></tr>\n",
       "\t<tr><td>.                                                         </td><td>chr9:21802947-21803073                                    </td><td>chr9:21803011                                             </td><td>5.045969e-05                                              </td><td>0.024480555                                               </td><td>0.8781367                                                 </td><td>A                                                         </td><td>G                                                         </td><td>ATAC                                                      </td><td>iPSC-CM                                                   </td><td>...                                                       </td><td>NA                                                        </td><td>NA                                                        </td><td>NA                                                        </td><td>ENSG00000099810.14|MTAP|0,ENSG00000264545.1|RP11-145E5.5|0</td><td>NA                                                        </td><td>NA                                                        </td><td>FALSE                                                     </td><td>NA                                                        </td><td>FALSE                                                     </td><td>FALSE                                                     </td></tr>\n",
       "</tbody>\n",
       "</table>\n"
      ],
      "text/latex": [
       "\\begin{tabular}{r|llllllllllllllllllllllllllllll}\n",
       " snpID & locus & variantID & combined\\_pv & combined\\_fdr & ref\\_freq & refAllele & altAllele & mark & tissue & ... & chromHMM & DNAse & qtl & closestGenes & study & anno & heart\\_specific & Motif\\_anno & topxp & bestp\\\\\n",
       "\\hline\n",
       "\t .                                                                              & chr1:15850369-15852010                                                         & chr1:15851325                                                                  & 3.067140e-06                                                                   & 0.003006430                                                                    & 0.9556486                                                                      & T                                                                              & C                                                                              & ATAC                                                                           & iPSC-CM                                                                        & ...                                                                            & NA                                                                             & NA                                                                             & NA                                                                             & ENSG00000132906.13\\textbar{}CASP9\\textbar{}0                                 & NA                                                                             & NA                                                                             & FALSE                                                                          & NA                                                                             & FALSE                                                                          & FALSE                                                                         \\\\\n",
       "\t .                                                                              & chr1:246171695-246171837                                                       & chr1:246171805                                                                 & 3.896270e-06                                                                   & 0.003520212                                                                    & 0.2185245                                                                      & C                                                                              & T                                                                              & ATAC                                                                           & iPSC-CM                                                                        & ...                                                                            & NA                                                                             & NA                                                                             & NA                                                                             & ENSG00000185420.14\\textbar{}SMYD3\\textbar{}0                                 & NA                                                                             & NA                                                                             & FALSE                                                                          & NA                                                                             & FALSE                                                                          & FALSE                                                                         \\\\\n",
       "\t .                                                                              & chr14:65568805-65569845                                                        & chr14:65569461                                                                 & 1.207191e-04                                                                   & 0.041077401                                                                    & 0.1987404                                                                      & C                                                                              & G                                                                              & ATAC                                                                           & iPSC-CM                                                                        & ...                                                                            & NA                                                                             & NA                                                                             & NA                                                                             & ENSG00000125952.14\\textbar{}MAX\\textbar{}0                                   & NA                                                                             & NA                                                                             & FALSE                                                                          & NA                                                                             & FALSE                                                                          & FALSE                                                                         \\\\\n",
       "\t .                                                                              & chr19:9929455-9930480                                                          & chr19:9930123                                                                  & 1.554486e-06                                                                   & 0.001851322                                                                    & 0.9591885                                                                      & A                                                                              & G                                                                              & ATAC                                                                           & iPSC-CM                                                                        & ...                                                                            & NA                                                                             & NA                                                                             & NA                                                                             & ENSG00000127452.4\\textbar{}FBXL12\\textbar{}0                                 & NA                                                                             & NA                                                                             & FALSE                                                                          & NA                                                                             & FALSE                                                                          & FALSE                                                                         \\\\\n",
       "\t .                                                                              & chr3:150481611-150481879                                                       & chr3:150481858                                                                 & 1.461043e-04                                                                   & 0.048456693                                                                    & 0.9422222                                                                      & G                                                                              & T                                                                              & ATAC                                                                           & iPSC-CM                                                                        & ...                                                                            & NA                                                                             & NA                                                                             & NA                                                                             & ENSG00000181788.3\\textbar{}SIAH2\\textbar{}348                                & NA                                                                             & NA                                                                             & FALSE                                                                          & NA                                                                             & FALSE                                                                          & FALSE                                                                         \\\\\n",
       "\t .                                                                                                  & chr9:21802947-21803073                                                                             & chr9:21803011                                                                                      & 5.045969e-05                                                                                       & 0.024480555                                                                                        & 0.8781367                                                                                          & A                                                                                                  & G                                                                                                  & ATAC                                                                                               & iPSC-CM                                                                                            & ...                                                                                                & NA                                                                                                 & NA                                                                                                 & NA                                                                                                 & ENSG00000099810.14\\textbar{}MTAP\\textbar{}0,ENSG00000264545.1\\textbar{}RP11-145E5.5\\textbar{}0 & NA                                                                                                 & NA                                                                                                 & FALSE                                                                                              & NA                                                                                                 & FALSE                                                                                              & FALSE                                                                                             \\\\\n",
       "\\end{tabular}\n"
      ],
      "text/plain": [
       "  snpID locus                    variantID      combined_pv  combined_fdr\n",
       "1 .     chr1:15850369-15852010   chr1:15851325  3.067140e-06 0.003006430 \n",
       "2 .     chr1:246171695-246171837 chr1:246171805 3.896270e-06 0.003520212 \n",
       "3 .     chr14:65568805-65569845  chr14:65569461 1.207191e-04 0.041077401 \n",
       "4 .     chr19:9929455-9930480    chr19:9930123  1.554486e-06 0.001851322 \n",
       "5 .     chr3:150481611-150481879 chr3:150481858 1.461043e-04 0.048456693 \n",
       "6 .     chr9:21802947-21803073   chr9:21803011  5.045969e-05 0.024480555 \n",
       "  ref_freq  refAllele altAllele mark tissue  ... chromHMM DNAse qtl\n",
       "1 0.9556486 T         C         ATAC iPSC-CM ... NA       NA    NA \n",
       "2 0.2185245 C         T         ATAC iPSC-CM ... NA       NA    NA \n",
       "3 0.1987404 C         G         ATAC iPSC-CM ... NA       NA    NA \n",
       "4 0.9591885 A         G         ATAC iPSC-CM ... NA       NA    NA \n",
       "5 0.9422222 G         T         ATAC iPSC-CM ... NA       NA    NA \n",
       "6 0.8781367 A         G         ATAC iPSC-CM ... NA       NA    NA \n",
       "  closestGenes                                               study anno\n",
       "1 ENSG00000132906.13|CASP9|0                                 NA    NA  \n",
       "2 ENSG00000185420.14|SMYD3|0                                 NA    NA  \n",
       "3 ENSG00000125952.14|MAX|0                                   NA    NA  \n",
       "4 ENSG00000127452.4|FBXL12|0                                 NA    NA  \n",
       "5 ENSG00000181788.3|SIAH2|348                                NA    NA  \n",
       "6 ENSG00000099810.14|MTAP|0,ENSG00000264545.1|RP11-145E5.5|0 NA    NA  \n",
       "  heart_specific Motif_anno topxp bestp\n",
       "1 FALSE          NA         FALSE FALSE\n",
       "2 FALSE          NA         FALSE FALSE\n",
       "3 FALSE          NA         FALSE FALSE\n",
       "4 FALSE          NA         FALSE FALSE\n",
       "5 FALSE          NA         FALSE FALSE\n",
       "6 FALSE          NA         FALSE FALSE"
      ]
     },
     "metadata": {},
     "output_type": "display_data"
    }
   ],
   "source": [
    "head(m)"
   ]
  },
  {
   "cell_type": "code",
   "execution_count": 25,
   "metadata": {
    "collapsed": true
   },
   "outputs": [],
   "source": [
    "m2 = m[,c(9,10,2,3,1,7,8,6,4,5,28,19,11,21,22,12,17,23,27,24,25,26, 15,16)]"
   ]
  },
  {
   "cell_type": "code",
   "execution_count": 21,
   "metadata": {},
   "outputs": [
    {
     "data": {
      "text/html": [
       "<ol class=list-inline>\n",
       "\t<li>208</li>\n",
       "\t<li>24</li>\n",
       "</ol>\n"
      ],
      "text/latex": [
       "\\begin{enumerate*}\n",
       "\\item 208\n",
       "\\item 24\n",
       "\\end{enumerate*}\n"
      ],
      "text/markdown": [
       "1. 208\n",
       "2. 24\n",
       "\n",
       "\n"
      ],
      "text/plain": [
       "[1] 208  24"
      ]
     },
     "metadata": {},
     "output_type": "display_data"
    }
   ],
   "source": [
    "dim(m2)"
   ]
  },
  {
   "cell_type": "code",
   "execution_count": 26,
   "metadata": {
    "collapsed": true
   },
   "outputs": [],
   "source": [
    "write.table(m2, \"Supplementary_table_ase_annotations_ATAC.txt\", sep=\"\\t\", row.names=FALSE, quote=FALSE)"
   ]
  },
  {
   "cell_type": "code",
   "execution_count": null,
   "metadata": {
    "collapsed": true
   },
   "outputs": [],
   "source": []
  }
 ],
 "metadata": {
  "kernelspec": {
   "display_name": "R",
   "language": "R",
   "name": "ir"
  },
  "language_info": {
   "codemirror_mode": "r",
   "file_extension": ".r",
   "mimetype": "text/x-r-source",
   "name": "R",
   "pygments_lexer": "r",
   "version": "3.2.2"
  }
 },
 "nbformat": 4,
 "nbformat_minor": 1
}
