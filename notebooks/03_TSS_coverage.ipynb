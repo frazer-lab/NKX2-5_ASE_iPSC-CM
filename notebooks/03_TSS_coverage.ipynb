{
 "cells": [
  {
   "cell_type": "markdown",
   "metadata": {},
   "source": [
    "### Plots of coverage a TSS of DEGs\n",
    "Use Homer to make tables of read counts in a 2kb window centered at the TSS of the most DEGs between iPSCs and iPSC-CMs. Use scripts in the scripts folder.\n",
    "1. v1 = dataset used\n",
    "2. v2 = comparison between purified vs non putified CMs\n",
    "3. v3 = combined with new ATAC data (15-01-19): note: the combined tag directory had a problem with estimated fragment size which gave too large peaks/fragments sized so I run the command: makeTagDirectory Combined_ATAC_iPSC_CM -update -fragLength 90 (forcing 90 bp) to correct this"
   ]
  },
  {
   "cell_type": "code",
   "execution_count": 79,
   "metadata": {
    "collapsed": false
   },
   "outputs": [],
   "source": [
    "setwd(\"/home/paola/Family1070/private_output\")\n",
    "setwd(\"TSS_plots\")"
   ]
  },
  {
   "cell_type": "code",
   "execution_count": 80,
   "metadata": {
    "collapsed": true
   },
   "outputs": [],
   "source": [
    "source(\"~/Family1070/scripts/Plotting_functions.r\")    "
   ]
  },
  {
   "cell_type": "code",
   "execution_count": 153,
   "metadata": {
    "collapsed": false
   },
   "outputs": [],
   "source": [
    "deg_list =    \"/home/paola/Family1070/private_output/PCA_rnaseq/DEG/Top_DEGs.txt\"\n",
    "dir_list1 = c('Meta_sample_ATAC_iPSC', 'Meta_sample_H3K27ac_iPSC', 'Meta_sample_ATAC_iPSC_CM_LAC' ,\n",
    "              'Meta_sample_H3K27ac_iPSC_CM' ,'Meta_sample_NKX25_iPSC_CM')\n",
    "dir_list2 = c('Meta_sample_ATAC_iPSC_CM_DAY15', 'Meta_sample_ATAC_iPSC_CM_LAC',\n",
    "              'Meta_sample_H3K27ac_iPSC_CM_DAY15' ,'Meta_sample_H3K27ac_iPSC_CM_LAC' ,\n",
    "              'ChIP-Seq_NKX2-5/CM.2_3_R1_FS003', 'ChIP-Seq_NKX2-5/CM.2_3_R4_FS024')\n",
    "dir_list3 = c('Combined_ATAC_iPSC', 'Meta_sample_H3K27ac_iPSC', 'Combined_ATAC_iPSC_CM' ,\n",
    "              'Meta_sample_H3K27ac_iPSC_CM' ,'Meta_sample_NKX25_iPSC_CM')\n",
    "\n",
    "command = paste(\"annotatePeaks.pl tss hg19 -list\", deg_list, \"-size 2000 -hist 25 -ghist -d\",\n",
    "                 paste0(dir_list3, collapse=\" \"), \"> TSS_counts_3.txt\", sep=\" \" )\n",
    "# command = paste(\"annotatePeaks.pl tss hg19 -list\", deg_list, \"-size 4000 -hist 50 -ghist -d\",\n",
    "#                  paste0(dir_list3, collapse=\" \"), \"> TSS_counts_6.txt\", sep=\" \" )"
   ]
  },
  {
   "cell_type": "code",
   "execution_count": 154,
   "metadata": {
    "collapsed": false
   },
   "outputs": [],
   "source": [
    "output_file = \"Tss_count.sh\"\n",
    "sh_file =paste( writeHeader(id = \"TSS_count\", folder = getwd(), ppn=8, que = \"short\"),\n",
    "                        \"module load cardips\", \n",
    "                        \"cd /frazer01/projects/CARDIPS/analysis/family1070_homer\",\n",
    "                         command,\n",
    "                         sep = \"\\n\\n\")\n",
    "write (sh_file, file = output_file)\n",
    "run = paste (\"qsub\", output_file)\n",
    "system(run)"
   ]
  },
  {
   "cell_type": "code",
   "execution_count": 15,
   "metadata": {
    "collapsed": true
   },
   "outputs": [],
   "source": [
    "library(pheatmap)\n",
    "library(RColorBrewer)"
   ]
  },
  {
   "cell_type": "code",
   "execution_count": 16,
   "metadata": {
    "collapsed": false
   },
   "outputs": [],
   "source": [
    "fc=read.table(deg_list, header=T)\n",
    "refseq=read.table('RefSeq_ids.txt',header=F)\n",
    "fc=merge(fc, refseq[,c(13,2)], by=1)\n",
    "colnames(fc)[length(fc)]<-\"refseq_ID\""
   ]
  },
  {
   "cell_type": "code",
   "execution_count": 17,
   "metadata": {
    "collapsed": true
   },
   "outputs": [],
   "source": [
    "file = \"TSS_counts_1.txt\"\n",
    "n=5"
   ]
  },
  {
   "cell_type": "code",
   "execution_count": 18,
   "metadata": {
    "collapsed": true
   },
   "outputs": [],
   "source": [
    "file = \"TSS_counts_2.txt\"\n",
    "n=6"
   ]
  },
  {
   "cell_type": "code",
   "execution_count": 157,
   "metadata": {
    "collapsed": true
   },
   "outputs": [],
   "source": [
    "file = \"../Homer/TSS_counts_3.txt\"\n",
    "n=5"
   ]
  },
  {
   "cell_type": "code",
   "execution_count": 158,
   "metadata": {
    "collapsed": false
   },
   "outputs": [],
   "source": [
    "tags=read.table(file,  header=T, row.names=1, check.names=F)"
   ]
  },
  {
   "cell_type": "code",
   "execution_count": 159,
   "metadata": {
    "collapsed": false
   },
   "outputs": [],
   "source": [
    "tags2=merge(fc, tags, by.y=\"row.names\", by.x=\"refseq_ID\")\n",
    "tags2=tags2[order(tags2$log2FoldChange, decreasing=T),]\n",
    "tags2<-subset(tags2, !duplicated(tags2$gene_name))\n",
    "rownames(tags2)=tags2$gene_name\n",
    "\n",
    "fc2<-subset(tags2, select=c(\"gene_name\", \"log2FoldChange\"))\n",
    "tags2=tags2[, 4:length(tags2)]"
   ]
  },
  {
   "cell_type": "code",
   "execution_count": 160,
   "metadata": {
    "collapsed": false
   },
   "outputs": [],
   "source": [
    "fc2[,2]=fc2[,2]>0\n",
    "fc2[,2]=as.character(fc2[,2])\n",
    "\n",
    "FC=data.frame(fc2[,2])\n",
    "colnames(FC)=\"FC_iPSC\"\n",
    "rownames(FC)=fc2[,1]\n",
    "\n",
    "FC_iPSC     <- c(\"magenta4\",\"limegreen\")\n",
    "names(FC_iPSC) <- c(\"FALSE\", \"TRUE\")\n",
    "anno_colors <- list(FC_iPSC = FC_iPSC)\n"
   ]
  },
  {
   "cell_type": "code",
   "execution_count": 161,
   "metadata": {
    "collapsed": false
   },
   "outputs": [
    {
     "data": {
      "text/html": [
       "<strong>png:</strong> 2"
      ],
      "text/latex": [
       "\\textbf{png:} 2"
      ],
      "text/markdown": [
       "**png:** 2"
      ],
      "text/plain": [
       "png \n",
       "  2 "
      ]
     },
     "metadata": {},
     "output_type": "display_data"
    }
   ],
   "source": [
    "#pdf(\"TagHeatmap_v3.png\", width=8, height=10)\n",
    "png(\"TagHeatmap_v3.png\", width = 5, height = 6, units = 'in', res = 300 )\n",
    "color1=colorRampPalette(c(\"white\", \"red2\"))(50)\n",
    "color2=colorRampPalette(c(\"red2\", \"red4\"))(10)\n",
    "\n",
    "pheatmap(tags2 ,\n",
    "         color = c(color1, color2), breaks=unique(c(seq(0, 20, length.out=50), seq(20, max(tags2),length.out=10))),\n",
    "         cellwidth = 0.5, cellheight = 0.075, fontsize=9, border_color=NA , show_rownames = F,\n",
    "         show_colnames = F, cluster_rows = F, cluster_cols = F,\n",
    "         annotation_row=FC, annotation_colors=anno_colors, annotation_legend=T)\n",
    "dev.off()"
   ]
  },
  {
   "cell_type": "code",
   "execution_count": 162,
   "metadata": {
    "collapsed": false
   },
   "outputs": [],
   "source": [
    "\n",
    "fc2=fc2[order(fc2[,2], decreasing=T),]\n",
    "p=sum(fc2[,2]==\"TRUE\")\n",
    "\n",
    "meansiPS=NA\n",
    "meansCM=NA\n",
    "\n",
    "for (i in 1:n){\n",
    "  df=tags2[, (81*(i-1)+1):(i*81)]\n",
    "  \n",
    "  means1=colMeans(df[1:p,])\n",
    "  means2=colMeans(df[(p+1):nrow(tags2),])\n",
    "  means= c(means1, means2)\n",
    "  \n",
    "  meansi=(means1-min(means))/(max(means)-min(means))\n",
    "  meansiPS[(81*(i-1)+1):(i*81)]=meansi\n",
    "  \n",
    "  meansc=(means2-min(means))/(max(means)-min(means))\n",
    "  meansCM[(81*(i-1)+1):(i*81)]=meansc\n",
    "  \n",
    "}\n",
    "\n"
   ]
  },
  {
   "cell_type": "code",
   "execution_count": 163,
   "metadata": {
    "collapsed": false
   },
   "outputs": [
    {
     "data": {
      "text/html": [
       "<strong>png:</strong> 2"
      ],
      "text/latex": [
       "\\textbf{png:} 2"
      ],
      "text/markdown": [
       "**png:** 2"
      ],
      "text/plain": [
       "png \n",
       "  2 "
      ]
     },
     "metadata": {},
     "output_type": "display_data"
    }
   ],
   "source": [
    "pdf(\"Histogram_averages_v3.pdf\")\n",
    "par(pin=c(n,0.8))\n",
    "plot(meansiPS, col=\"limegreen\", type=\"l\", lwd=2, las=2, axes=F)\n",
    "lines(meansCM,col=\"magenta4\", lwd=2 )\n",
    "abline(v=(1:7)*81, lwd=1, lty=2)\n",
    "abline(v=0, lwd=1, lty=2)\n",
    "abline(h=c(-0.01,1.01), lwd=1, lty=2)\n",
    "dev.off()\n"
   ]
  },
  {
   "cell_type": "code",
   "execution_count": 78,
   "metadata": {
    "collapsed": false
   },
   "outputs": [
    {
     "data": {
      "text/html": [
       "<strong>png:</strong> 2"
      ],
      "text/latex": [
       "\\textbf{png:} 2"
      ],
      "text/markdown": [
       "**png:** 2"
      ],
      "text/plain": [
       "png \n",
       "  2 "
      ]
     },
     "metadata": {},
     "output_type": "display_data"
    }
   ],
   "source": [
    "pdf(\"Histogram_averages_v2_lac_vs_nolac.pdf\")\n",
    "par(mfrow = c(3,1), pin=c(2,0.8), mar=c(2,10,2,10))\n",
    "\n",
    "for (i in 1:3){\n",
    "plot(meansCM[(1:162)+162*(i-1)],col=\"magenta4\", type=\"l\", lwd=2, las=2, axes=F, xlab=NA, ylim=c(0,1) )\n",
    "lines(meansiPS[(1:162)+162*(i-1)], col=\"limegreen\",  lwd=2)\n",
    "\n",
    "abline(v=(1:7)*81, lwd=1, lty=2)\n",
    "abline(v=0, lwd=1, lty=2)\n",
    "abline(h=c(-0.01,1.01), lwd=1, lty=2)\n",
    "}\n",
    "dev.off()"
   ]
  },
  {
   "cell_type": "code",
   "execution_count": null,
   "metadata": {
    "collapsed": true
   },
   "outputs": [],
   "source": []
  }
 ],
 "metadata": {
  "kernelspec": {
   "display_name": "R",
   "language": "R",
   "name": "ir"
  },
  "language_info": {
   "codemirror_mode": "r",
   "file_extension": ".r",
   "mimetype": "text/x-r-source",
   "name": "R",
   "pygments_lexer": "r",
   "version": "3.2.2"
  }
 },
 "nbformat": 4,
 "nbformat_minor": 0
}
