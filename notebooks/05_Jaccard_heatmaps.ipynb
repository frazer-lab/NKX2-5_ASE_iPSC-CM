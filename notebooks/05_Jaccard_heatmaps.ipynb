{
 "cells": [
  {
   "cell_type": "code",
   "execution_count": 1,
   "metadata": {},
   "outputs": [
    {
     "name": "stderr",
     "output_type": "stream",
     "text": [
      "\n",
      "Attaching package: ‘gplots’\n",
      "\n",
      "The following object is masked from ‘package:stats’:\n",
      "\n",
      "    lowess\n",
      "\n",
      "matrixStats v0.50.2 (2016-04-24) successfully loaded. See ?matrixStats for help.\n"
     ]
    }
   ],
   "source": [
    "home=\"/frazer01/home/paola/Family1070/private_output/Jaccard\"\n",
    "\n",
    "library(gplots)\n",
    "library(RColorBrewer)\n",
    "library(pheatmap)\n",
    "library(matrixStats)\n"
   ]
  },
  {
   "cell_type": "code",
   "execution_count": 2,
   "metadata": {},
   "outputs": [],
   "source": [
    "setwd(home)\n",
    "setwd(\"heatmaps\")\n",
    "ch=read.csv(\"Chrom_25states.csv\")\n",
    "ch.o=ch[order(ch$STATE.NO.),]\n",
    "col1=as.character(ch.o$COLOR_NAME)\n",
    "rownames(ch.o)=ch.o$Name\n",
    "\n",
    "ch.3=data.frame(ch.o[,3])\n",
    "colnames(ch.3)=\"ChromHMM\"\n",
    "rownames(ch.3)=rownames(ch.o)\n",
    "\n",
    "ChromHMM     <- as.character(ch.o[,4])\n",
    "names(ChromHMM) <- ch.3[,1]\n",
    "anno_colors <- list(ChromHMM = ChromHMM)\n"
   ]
  },
  {
   "cell_type": "code",
   "execution_count": 3,
   "metadata": {
    "collapsed": true
   },
   "outputs": [],
   "source": [
    "files=c(\n",
    "  '/home/paola/Jupiter_jaccard/output/jaccard_analysis_25_state/ATAC_CM_newdata/jaccard.tsv',\n",
    "  '/home/paola/Jupiter_jaccard/output/jaccard_analysis_25_state/ATAC_CM_meta_macs2/jaccard.tsv',\n",
    "  '/home/paola/Jupiter_jaccard/output/jaccard_analysis_25_state/ATAC_iPSC_meta_macs2/jaccard.tsv',\n",
    "  '/projects/CARDIPS/analysis/cardips-pfamily/output/jaccard_analysis_25_state/h3k27ac_cm/jaccard.tsv',\n",
    "  '/projects/CARDIPS/analysis/cardips-pfamily/output/jaccard_analysis_25_state/h3k27ac_ips/jaccard.tsv',\n",
    "  '/projects/CARDIPS/analysis/cardips-pfamily/output/jaccard_analysis_25_state/nkx25/jaccard.tsv',\n",
    "  '/projects/CARDIPS/analysis/cardips-pfamily/output/jaccard_analysis_25_state/srf/jaccard.tsv',\n",
    "  '/projects/CARDIPS/analysis/cardips-pfamily/output/jaccard_analysis_25_state/gro/jaccard.tsv'\n",
    ")\n",
    "names=c(\"ATAC-Seq_CM_newdata\", \"ATAC-Seq_CM\",\"ATAC-Seq_iPSC\",'H3K27ac_CM','H3K27ac_iPSC',\"NKX2-5_CM\", \"SRF_CM\",\"Gro-Seq_CM\"  )\n"
   ]
  },
  {
   "cell_type": "code",
   "execution_count": 4,
   "metadata": {
    "collapsed": true
   },
   "outputs": [],
   "source": [
    "files=list.files(\"/home/paola/Family1070/private_output/Jaccard/output/jaccard_analysis_25_state\")\n",
    "names = files\n",
    "names[length(files)]= 'NKX2-5'"
   ]
  },
  {
   "cell_type": "code",
   "execution_count": 5,
   "metadata": {},
   "outputs": [
    {
     "data": {
      "text/html": [
       "<ol class=list-inline>\n",
       "\t<li>'ATAC_CM'</li>\n",
       "\t<li>'ATAC_IPSC'</li>\n",
       "\t<li>'H3K27AC_CM'</li>\n",
       "\t<li>'H3K27AC_CM_FS003'</li>\n",
       "\t<li>'H3K27AC_CM_FS009'</li>\n",
       "\t<li>'H3K27AC_CM_FS011'</li>\n",
       "\t<li>'H3K27AC_CM_UDID01'</li>\n",
       "\t<li>'H3K27AC_CM_UDID045'</li>\n",
       "\t<li>'H3K27AC_IPSC'</li>\n",
       "\t<li>'NKX2-5'</li>\n",
       "</ol>\n"
      ],
      "text/latex": [
       "\\begin{enumerate*}\n",
       "\\item 'ATAC\\_CM'\n",
       "\\item 'ATAC\\_IPSC'\n",
       "\\item 'H3K27AC\\_CM'\n",
       "\\item 'H3K27AC\\_CM\\_FS003'\n",
       "\\item 'H3K27AC\\_CM\\_FS009'\n",
       "\\item 'H3K27AC\\_CM\\_FS011'\n",
       "\\item 'H3K27AC\\_CM\\_UDID01'\n",
       "\\item 'H3K27AC\\_CM\\_UDID045'\n",
       "\\item 'H3K27AC\\_IPSC'\n",
       "\\item 'NKX2-5'\n",
       "\\end{enumerate*}\n"
      ],
      "text/markdown": [
       "1. 'ATAC_CM'\n",
       "2. 'ATAC_IPSC'\n",
       "3. 'H3K27AC_CM'\n",
       "4. 'H3K27AC_CM_FS003'\n",
       "5. 'H3K27AC_CM_FS009'\n",
       "6. 'H3K27AC_CM_FS011'\n",
       "7. 'H3K27AC_CM_UDID01'\n",
       "8. 'H3K27AC_CM_UDID045'\n",
       "9. 'H3K27AC_IPSC'\n",
       "10. 'NKX2-5'\n",
       "\n",
       "\n"
      ],
      "text/plain": [
       " [1] \"ATAC_CM\"            \"ATAC_IPSC\"          \"H3K27AC_CM\"        \n",
       " [4] \"H3K27AC_CM_FS003\"   \"H3K27AC_CM_FS009\"   \"H3K27AC_CM_FS011\"  \n",
       " [7] \"H3K27AC_CM_UDID01\"  \"H3K27AC_CM_UDID045\" \"H3K27AC_IPSC\"      \n",
       "[10] \"NKX2-5\"            "
      ]
     },
     "metadata": {},
     "output_type": "display_data"
    }
   ],
   "source": [
    "names"
   ]
  },
  {
   "cell_type": "markdown",
   "metadata": {},
   "source": [
    "### Method 1: Use normalize using Z-Scores and plot only a subset of the tissues"
   ]
  },
  {
   "cell_type": "code",
   "execution_count": 14,
   "metadata": {},
   "outputs": [
    {
     "name": "stderr",
     "output_type": "stream",
     "text": [
      "Warning message in dir.create(method_folder):\n",
      "“'z-score' already exists”"
     ]
    }
   ],
   "source": [
    "method_folder=\"z-score\"\n",
    "dir.create(method_folder)\n",
    "\n",
    "\n",
    "for (i in 1:length(files)) {\n",
    "\n",
    "########################\n",
    "  file=paste( home, \"output/jaccard_analysis_25_state\", files[i], \"jaccard_z_score.tsv\", sep=\"/\")\n",
    "  mat=read.table(file, header=T , row.names=1, check.names=FALSE, stringsAsFactor=FALSE)\n",
    "  x=mat\n",
    "  ######################################################\n",
    "#   #Transform to BH pvalues\n",
    "#   mat2<-pnorm(as.matrix(abs(mat)),lower.tail=F)*2\n",
    "#   mat2<-p.adjust(mat2, method=\"BH\")\n",
    "#   mat2<-matrix(-log(mat2,10), nrow=nrow(mat))\n",
    "#   mat2<-mat*mat2/abs(mat)\n",
    "#   colnames(mat2)<-colnames(mat)\n",
    "#   rownames(mat2)<-rownames(mat)\n",
    "#   mat<-mat2\n",
    "#   x=mat2\n",
    "  ######################################################\n",
    "  ##### Min\n",
    "  \n",
    "  x1=min(x)\n",
    "  x2=min( x[x!=x1] )\n",
    "  x3=min( x[x!=x2&x!=x1] )\n",
    "  x4=min( x[x!=x3&x!=x2&x!=x1] )\n",
    "  x5=min( x[x!=x4&x!=x3&x!=x2&x!=x1] )\n",
    "  \n",
    "  a=which(mat==c(x1), arr.ind=T)\n",
    "  b=which(mat==c(x2), arr.ind=T)\n",
    "  c=which(mat==c(x3), arr.ind=T)\n",
    "  d=which(mat==c(x4), arr.ind=T)\n",
    "  e=which(mat==c(x5), arr.ind=T)\n",
    "  State=c(colnames(mat)[a[,2]],colnames(mat)[b[,2]],colnames(mat)[c[,2]],colnames(mat)[d[,2]],colnames(mat)[e[,2]])\n",
    "  Tissue=c(rownames(a),rownames(b), rownames(c),rownames(d),rownames(e))\n",
    "  Score=c(x1,x2,x3,x4,x5)\n",
    "  res=cbind(Tissue, State, Score)\n",
    "  \n",
    "  road_tissues=read.csv(\"EIDlegend.csv\", stringsAsFactor=F, check.names=F, header=FALSE)\n",
    "  \n",
    "  res=merge(res, road_tissues, by.x=1, by.y=1)\n",
    "  colnames(res)[4]=\"Tissue_name\"\n",
    "  write.table(res, paste( method_folder , \"/\", names[i], \".res.min.txt\", sep=\"\"), col.names=NA , sep=\"\\t\", quote=F)\n",
    "  \n",
    "  ####MAx\n",
    "  x1=max(x)\n",
    "  x2=max( x[x!=x1] )\n",
    "  x3=max( x[x!=x2&x!=x1] )\n",
    "  x4=max( x[x!=x3&x!=x2&x!=x1] )\n",
    "  x5=max( x[x!=x4&x!=x3&x!=x2&x!=x1] )\n",
    "  \n",
    "  a=which(mat==c(x1), arr.ind=T)\n",
    "  b=which(mat==c(x2), arr.ind=T)\n",
    "  c=which(mat==c(x3), arr.ind=T)\n",
    "  d=which(mat==c(x4), arr.ind=T)\n",
    "  e=which(mat==c(x5), arr.ind=T)\n",
    "  State=c(colnames(mat)[a[,2]],colnames(mat)[b[,2]],colnames(mat)[c[,2]],colnames(mat)[d[,2]],colnames(mat)[e[,2]])\n",
    "  Tissue=c(rownames(a),rownames(b), rownames(c),rownames(d),rownames(e))\n",
    "  Score=c(x1,x2,x3,x4,x5)\n",
    "  res=cbind(Tissue, State, Score)\n",
    "  \n",
    "  res=merge(res, road_tissues, by.x=1, by.y=1)\n",
    "  colnames(res)[4]=\"Tissue_name\"\n",
    "  write.table( res, paste(method_folder , \"/\",names[i], \".res.max.txt\", sep=\"\"), col.names=NA , sep=\"\\t\", quote=F)\n",
    "  \n",
    "  ########################################################################\n",
    "  ##### Heatmaps    ######################################################\n",
    "  \n",
    "  colnames(mat)=rownames(ch.3)\n",
    "  \n",
    "  tissue_list4=c(\"E002\", \"E004\", \"E011\", \"E012\", \"E013\", \"E014\", \"E020\", 'E021', \n",
    "                 'E029', 'E031', 'E034', 'E056', 'E059', 'E065', 'E082', 'E083', 'E084',\n",
    "                 'E090', 'E095', 'E098', 'E104', 'E105', 'E108', 'E113', \"E123\")\n",
    "  \n",
    "  tissue_list=tissue_list4 #final list to use\n",
    "  \n",
    "  \n",
    "  mat=mat[tissue_list,]\n",
    "  \n",
    "  road_tissues=read.csv(\"EIDlegend.csv\", stringsAsFactor=F, check.names=F, header=FALSE, row.names=1)\n",
    "  ti=road_tissues[tissue_list,]\n",
    "  rownames(mat)=ti\n",
    "  \n",
    "  # ###abbreviated names\n",
    "  # road_tissues=read.csv(\"../Roadmap_metadata.csv\", stringsAsFactor=F, check.names=F, header=TRUE,row.names=1)\n",
    "  # ti=road_tissues[tissue_list,]\n",
    "  # rownames(mat)=ti$name\n",
    "  \n",
    "color=colorRampPalette(c(\"dodgerblue3\", \"white\", \"orangered3\"))(50)\n",
    "#color=colorRampPalette(c( \"white\", \"dodgerblue3\"))(50)\n",
    "  \n",
    "  pdf(paste( method_folder , \"/\", names[i], \".heatmap_jaccard.pdf\", sep=\"\"), width=8, height=10)\n",
    "  pheatmap(mat, show_rownames=TRUE,cluster_rows=T,\n",
    "           annotation_col=ch.3, color = color,\n",
    "           cellwidth = 8, cellheight = 8, annotation_colors=anno_colors, annotation_legend=FALSE,\n",
    "           fontsize=9, border_color=NA, breaks=seq(-abs(max(mat)), abs(max(mat)), length.out=50) )\n",
    "  \n",
    "  \n",
    "    \n",
    "    \n",
    "  dev.off()\n",
    "  }\n"
   ]
  },
  {
   "cell_type": "markdown",
   "metadata": {},
   "source": [
    "### Method 2: Mean Center normalize"
   ]
  },
  {
   "cell_type": "code",
   "execution_count": 30,
   "metadata": {},
   "outputs": [
    {
     "name": "stderr",
     "output_type": "stream",
     "text": [
      "Warning message in dir.create(method_folder):\n",
      "\"'mean-center' already exists\""
     ]
    }
   ],
   "source": [
    "method_folder=\"mean-center\"\n",
    "dir.create(method_folder)\n",
    "\n",
    "\n",
    "for (i in 1:length(files)) {\n",
    "\n",
    "########################\n",
    "  file=paste( home, \"output/jaccard_analysis_25_state\", files[i], \"jaccard.tsv\", sep=\"/\")\n",
    "  mat=read.table(file, header=T , row.names=1, check.names=FALSE, stringsAsFactor=FALSE)\n",
    "  x=mat\n",
    "      \n",
    "    colnames(mat)=rownames(ch.3)\n",
    "    mat<-mat[order(rowMeans(mat), decreasing=T),]\n",
    "    mat=scale(mat, center = TRUE, scale = FALSE)\n",
    "\n",
    "  ########################################################################\n",
    "  ##### Heatmaps    ######################################################\n",
    "  \n",
    "\n",
    "  tissue_list=rownames(mat)  \n",
    "  \n",
    "  mat=mat[tissue_list,]\n",
    "  \n",
    "  road_tissues=read.csv(\"EIDlegend.csv\", stringsAsFactor=F, check.names=F, header=FALSE, row.names=1)\n",
    "  ti=road_tissues[tissue_list,]\n",
    "  rownames(mat)=ti\n",
    "  \n",
    "  # ###abbreviated names\n",
    "  # road_tissues=read.csv(\"Roadmap_metadata.csv\", stringsAsFactor=F, check.names=F, header=TRUE,row.names=1)\n",
    "  # ti=road_tissues[tissue_list,]\n",
    "  # rownames(mat)=ti$name\n",
    "  \n",
    "color=colorRampPalette(c(\"dodgerblue3\", \"white\", \"orangered3\"))(50)\n",
    "\n",
    "  \n",
    "   pdf(paste( method_folder , \"/\", names[i], \".heatmap_jaccard_all_tissues_mean_center.pdf\", sep=\"\"), width=10, height=20)\n",
    "  pheatmap(mat, show_rownames=TRUE,cluster_rows=F,\n",
    "           annotation_col=ch.3, color = color,\n",
    "           cellwidth = 8, cellheight = 8, annotation_colors=anno_colors, annotation_legend=FALSE,\n",
    "           fontsize=9, border_color=NA, breaks=seq(-abs(max(mat)), abs(max(mat)), length.out=50) )\n",
    "  \n",
    "  \n",
    "    \n",
    "    \n",
    "  dev.off()\n",
    "  }\n"
   ]
  },
  {
   "cell_type": "markdown",
   "metadata": {},
   "source": [
    "### Method 3: Mean center normalize only enhancers"
   ]
  },
  {
   "cell_type": "code",
   "execution_count": 16,
   "metadata": {},
   "outputs": [
    {
     "data": {
      "text/html": [
       "<ol class=list-inline>\n",
       "\t<li>'1_TssA'</li>\n",
       "\t<li>'2_PromU'</li>\n",
       "\t<li>'3_PromD1'</li>\n",
       "\t<li>'4_PromD2'</li>\n",
       "\t<li>'5_Tx5'</li>\n",
       "\t<li>'6_Tx'</li>\n",
       "\t<li>'7_Tx3'</li>\n",
       "\t<li>'8_TxWk'</li>\n",
       "\t<li>'9_TxReg'</li>\n",
       "\t<li>'10_TxEnh5'</li>\n",
       "\t<li>'11_TxEnh3'</li>\n",
       "\t<li>'12_TxEnhW'</li>\n",
       "\t<li>'13_EnhA1'</li>\n",
       "\t<li>'14_EnhA2'</li>\n",
       "\t<li>'15_EnhAF'</li>\n",
       "\t<li>'16_EnhW1'</li>\n",
       "\t<li>'17_EnhW2'</li>\n",
       "\t<li>'18_EnhAc'</li>\n",
       "\t<li>'19_DNase'</li>\n",
       "\t<li>'20_ZNF_Rpts'</li>\n",
       "\t<li>'21_Het'</li>\n",
       "\t<li>'22_PromP'</li>\n",
       "\t<li>'23_PromBiv'</li>\n",
       "\t<li>'24_ReprPC'</li>\n",
       "\t<li>'25_Quies'</li>\n",
       "</ol>\n"
      ],
      "text/latex": [
       "\\begin{enumerate*}\n",
       "\\item '1\\_TssA'\n",
       "\\item '2\\_PromU'\n",
       "\\item '3\\_PromD1'\n",
       "\\item '4\\_PromD2'\n",
       "\\item '5\\_Tx5'\n",
       "\\item '6\\_Tx'\n",
       "\\item '7\\_Tx3'\n",
       "\\item '8\\_TxWk'\n",
       "\\item '9\\_TxReg'\n",
       "\\item '10\\_TxEnh5'\n",
       "\\item '11\\_TxEnh3'\n",
       "\\item '12\\_TxEnhW'\n",
       "\\item '13\\_EnhA1'\n",
       "\\item '14\\_EnhA2'\n",
       "\\item '15\\_EnhAF'\n",
       "\\item '16\\_EnhW1'\n",
       "\\item '17\\_EnhW2'\n",
       "\\item '18\\_EnhAc'\n",
       "\\item '19\\_DNase'\n",
       "\\item '20\\_ZNF\\_Rpts'\n",
       "\\item '21\\_Het'\n",
       "\\item '22\\_PromP'\n",
       "\\item '23\\_PromBiv'\n",
       "\\item '24\\_ReprPC'\n",
       "\\item '25\\_Quies'\n",
       "\\end{enumerate*}\n"
      ],
      "text/markdown": [
       "1. '1_TssA'\n",
       "2. '2_PromU'\n",
       "3. '3_PromD1'\n",
       "4. '4_PromD2'\n",
       "5. '5_Tx5'\n",
       "6. '6_Tx'\n",
       "7. '7_Tx3'\n",
       "8. '8_TxWk'\n",
       "9. '9_TxReg'\n",
       "10. '10_TxEnh5'\n",
       "11. '11_TxEnh3'\n",
       "12. '12_TxEnhW'\n",
       "13. '13_EnhA1'\n",
       "14. '14_EnhA2'\n",
       "15. '15_EnhAF'\n",
       "16. '16_EnhW1'\n",
       "17. '17_EnhW2'\n",
       "18. '18_EnhAc'\n",
       "19. '19_DNase'\n",
       "20. '20_ZNF_Rpts'\n",
       "21. '21_Het'\n",
       "22. '22_PromP'\n",
       "23. '23_PromBiv'\n",
       "24. '24_ReprPC'\n",
       "25. '25_Quies'\n",
       "\n",
       "\n"
      ],
      "text/plain": [
       " [1] \"1_TssA\"      \"2_PromU\"     \"3_PromD1\"    \"4_PromD2\"    \"5_Tx5\"      \n",
       " [6] \"6_Tx\"        \"7_Tx3\"       \"8_TxWk\"      \"9_TxReg\"     \"10_TxEnh5\"  \n",
       "[11] \"11_TxEnh3\"   \"12_TxEnhW\"   \"13_EnhA1\"    \"14_EnhA2\"    \"15_EnhAF\"   \n",
       "[16] \"16_EnhW1\"    \"17_EnhW2\"    \"18_EnhAc\"    \"19_DNase\"    \"20_ZNF_Rpts\"\n",
       "[21] \"21_Het\"      \"22_PromP\"    \"23_PromBiv\"  \"24_ReprPC\"   \"25_Quies\"   "
      ]
     },
     "metadata": {},
     "output_type": "display_data"
    }
   ],
   "source": [
    "colnames(mat)"
   ]
  },
  {
   "cell_type": "code",
   "execution_count": 29,
   "metadata": {},
   "outputs": [
    {
     "name": "stderr",
     "output_type": "stream",
     "text": [
      "Warning message in dir.create(method_folder):\n",
      "\"'enhancers-mean-center' already exists\""
     ]
    }
   ],
   "source": [
    "method_folder=\"enhancers-mean-center\"\n",
    "dir.create(method_folder)\n",
    "\n",
    "\n",
    "enhancers=c('9_TxReg','10_TxEnh5', '11_TxEnh3', '12_TxEnhW' ,'13_EnhA1' ,'14_EnhA2', '15_EnhAF', '16_EnhW1' ,'17_EnhW2', '18_EnhAc')\n",
    "#enhancers=c('13_EnhA1' ,'14_EnhA2', '15_EnhAF', '16_EnhW1' ,'17_EnhW2', '18_EnhAc')\n",
    "\n",
    "for (i in 1:length(files)) {\n",
    "\n",
    "########################\n",
    "  file=paste( home, \"output/jaccard_analysis_25_state\", files[i], \"jaccard.tsv\", sep=\"/\")\n",
    "  mat=read.table(file, header=T , row.names=1, check.names=FALSE, stringsAsFactor=FALSE)\n",
    "  x=mat\n",
    "    \n",
    "    colnames(mat)=rownames(ch.3)\n",
    "    mat<-subset(mat, select=as.character(enhancers))\n",
    "    mat<-mat[order(rowMeans(mat), decreasing=T),]\n",
    "    #mat<-mat[order(rowMeans(mat[,c('13_EnhA1' ,'14_EnhA2', '15_EnhAF')]), decreasing=T),]\n",
    "    mat=scale(mat, center = TRUE, scale = FALSE)\n",
    "\n",
    "  ########################################################################\n",
    "  ##### Heatmaps    ######################################################\n",
    "  \n",
    "\n",
    "  tissue_list=rownames(mat)  \n",
    "  \n",
    "  mat=mat[tissue_list,]\n",
    "  \n",
    "  road_tissues=read.csv(\"EIDlegend.csv\", stringsAsFactor=F, check.names=F, header=FALSE, row.names=1)\n",
    "  ti=road_tissues[tissue_list,]\n",
    "  rownames(mat)=ti\n",
    "  \n",
    "  # ###abbreviated names\n",
    "  # road_tissues=read.csv(\"Roadmap_metadata.csv\", stringsAsFactor=F, check.names=F, header=TRUE,row.names=1)\n",
    "  # ti=road_tissues[tissue_list,]\n",
    "  # rownames(mat)=ti$name\n",
    "  \n",
    "color=colorRampPalette(c(\"dodgerblue3\", \"white\", \"orangered3\"))(50)\n",
    "#color=colorRampPalette(c( \"white\", \"dodgerblue3\"))(50)\n",
    "  \n",
    "  pdf(paste( method_folder , \"/\",  names[i], \".heatmap_jaccard_only_enhancers_mean_center.pdf\", sep=\"\"), width=7, height=20)\n",
    "  pheatmap(mat, show_rownames=TRUE,cluster_rows=F,\n",
    "           annotation_col=ch.3, color = color,\n",
    "           cellwidth = 8, cellheight = 8, annotation_colors=anno_colors, annotation_legend=FALSE,\n",
    "           fontsize=9, border_color=NA, breaks=seq(-abs(max(mat)), abs(max(mat)), length.out=50) )\n",
    "  \n",
    "  \n",
    "    \n",
    "    \n",
    "  dev.off()\n",
    "  }\n"
   ]
  },
  {
   "cell_type": "markdown",
   "metadata": {},
   "source": [
    "### Method 4: Mean-center normalize only promoters"
   ]
  },
  {
   "cell_type": "code",
   "execution_count": 31,
   "metadata": {},
   "outputs": [
    {
     "name": "stderr",
     "output_type": "stream",
     "text": [
      "Warning message in dir.create(method_folder):\n",
      "\"'promoters-mean-center' already exists\""
     ]
    }
   ],
   "source": [
    "method_folder=\"promoters-mean-center\"\n",
    "dir.create(method_folder)\n",
    "\n",
    "promoters=c('1_TssA' ,'2_PromU', '3_PromD1', '4_PromD2' ,'22_PromP' ,'23_PromBiv')\n",
    "\n",
    "for (i in 1:length(files)) {\n",
    "\n",
    "########################\n",
    "  file=paste( home, \"output/jaccard_analysis_25_state\", files[i], \"jaccard.tsv\", sep=\"/\")\n",
    "  mat=read.table(file, header=T , row.names=1, check.names=FALSE, stringsAsFactor=FALSE)\n",
    "  x=mat\n",
    "    \n",
    "    colnames(mat)=rownames(ch.3)\n",
    "    mat<-subset(mat, select=as.character(promoters))\n",
    "    mat<-mat[order(rowMeans(mat), decreasing=T),]\n",
    "    #mat=scale(mat, center = TRUE, scale = TRUE)\n",
    "\n",
    "  ########################################################################\n",
    "  ##### Heatmaps    ######################################################\n",
    "  \n",
    "\n",
    "  tissue_list=rownames(mat)  \n",
    "  \n",
    "  mat=mat[tissue_list,]\n",
    "  \n",
    "  road_tissues=read.csv(\"EIDlegend.csv\", stringsAsFactor=F, check.names=F, header=FALSE, row.names=1)\n",
    "  ti=road_tissues[tissue_list,]\n",
    "  rownames(mat)=make.unique(ti)\n",
    "  \n",
    "  # ###abbreviated names\n",
    "  # road_tissues=read.csv(\"Roadmap_metadata.csv\", stringsAsFactor=F, check.names=F, header=TRUE,row.names=1)\n",
    "  # ti=road_tissues[tissue_list,]\n",
    "  # rownames(mat)=ti$name\n",
    "  \n",
    "color=colorRampPalette(c(\"dodgerblue3\", \"white\", \"orangered3\"))(50)\n",
    "#color=colorRampPalette(c( \"white\", \"dodgerblue3\"))(50)\n",
    "  \n",
    "  pdf(paste( method_folder , \"/\",  names[i], \".heatmap_jaccard_only_promoters_mean_center.pdf\", sep=\"\"), width=7, height=20)\n",
    "  pheatmap(mat, show_rownames=TRUE,cluster_rows=F,\n",
    "           annotation_col=ch.3, color = color,\n",
    "           cellwidth = 8, cellheight = 8, annotation_colors=anno_colors, annotation_legend=FALSE,\n",
    "           fontsize=9, border_color=NA, breaks=seq(-abs(max(mat)), abs(max(mat)), length.out=50) )\n",
    "  \n",
    "  \n",
    "    \n",
    "    \n",
    "  dev.off()\n",
    "  }\n"
   ]
  },
  {
   "cell_type": "markdown",
   "metadata": {},
   "source": [
    "### Method 5: Mean centers all states, ordered by enhancers"
   ]
  },
  {
   "cell_type": "code",
   "execution_count": 32,
   "metadata": {},
   "outputs": [],
   "source": [
    "method_folder=\"mean-center\"\n",
    "\n",
    "enhancers=c('10_TxEnh5', '11_TxEnh3', '12_TxEnhW' ,'13_EnhA1' ,'14_EnhA2', '15_EnhAF', '16_EnhW1' ,'17_EnhW2', '18_EnhAc')\n",
    "\n",
    "\n",
    "for (i in 1:length(files)) {\n",
    "\n",
    "########################\n",
    "  file=paste( home, \"output/jaccard_analysis_25_state\", files[i], \"jaccard.tsv\", sep=\"/\")\n",
    "  mat=read.table(file, header=T , row.names=1, check.names=FALSE, stringsAsFactor=FALSE)\n",
    "  \n",
    "    colnames(mat)=rownames(ch.3)\n",
    "    x<-subset(mat, select=as.character(enhancers))\n",
    "    mat<-mat[order(rowMeans(x), decreasing=T),]\n",
    "    mat=scale(mat, center = TRUE, scale = FALSE)\n",
    "\n",
    "  ########################################################################\n",
    "  ##### Heatmaps    ######################################################\n",
    "  \n",
    "\n",
    "  tissue_list=rownames(mat)  \n",
    "  \n",
    "  mat=mat[tissue_list,]\n",
    "  \n",
    "  road_tissues=read.csv(\"EIDlegend.csv\", stringsAsFactor=F, check.names=F, header=FALSE, row.names=1)\n",
    "  ti=road_tissues[tissue_list,]\n",
    "  rownames(mat)=ti\n",
    "  \n",
    "  # ###abbreviated names\n",
    "  # road_tissues=read.csv(\"Roadmap_metadata.csv\", stringsAsFactor=F, check.names=F, header=TRUE,row.names=1)\n",
    "  # ti=road_tissues[tissue_list,]\n",
    "  # rownames(mat)=ti$name\n",
    "  \n",
    "color=colorRampPalette(c(\"dodgerblue3\", \"white\", \"orangered3\"))(50)\n",
    "\n",
    "  \n",
    "   pdf(paste( method_folder , \"/\", names[i], \".heatmap_jaccard_all_tissues_mean_center_ordered_by_enhancers.pdf\", sep=\"\"), width=10, height=20)\n",
    "  pheatmap(mat, show_rownames=TRUE,cluster_rows=F,\n",
    "           annotation_col=ch.3, color = color,\n",
    "           cellwidth = 8, cellheight = 8, annotation_colors=anno_colors, annotation_legend=FALSE,\n",
    "           fontsize=9, border_color=NA, breaks=seq(-abs(max(mat)), abs(max(mat)), length.out=50) )\n",
    "  \n",
    "  \n",
    "    \n",
    "    \n",
    "  dev.off()\n",
    "  }\n"
   ]
  },
  {
   "cell_type": "markdown",
   "metadata": {
    "collapsed": true
   },
   "source": [
    "### Method 6: Mean-center normalize  promoters and enhancers"
   ]
  },
  {
   "cell_type": "code",
   "execution_count": 33,
   "metadata": {},
   "outputs": [
    {
     "name": "stderr",
     "output_type": "stream",
     "text": [
      "Warning message in dir.create(method_folder):\n",
      "\"'enhancers-and-promoters-mean-center' already exists\""
     ]
    }
   ],
   "source": [
    "method_folder=\"enhancers-and-promoters-mean-center\"\n",
    "dir.create(method_folder)\n",
    "\n",
    "\n",
    "enhancers=c('2_PromU', '3_PromD1', '4_PromD2' ,'22_PromP' ,'23_PromBiv',\n",
    "            '13_EnhA1' ,'14_EnhA2', '15_EnhAF' )\n",
    "\n",
    "for (i in 1:length(files)) {\n",
    "\n",
    "########################\n",
    "  file=paste( home, \"output/jaccard_analysis_25_state\", files[i], \"jaccard.tsv\", sep=\"/\")\n",
    "  mat=read.table(file, header=T , row.names=1, check.names=FALSE, stringsAsFactor=FALSE)\n",
    "  x=mat\n",
    "    \n",
    "    colnames(mat)=rownames(ch.3)\n",
    "    mat<-subset(mat, select=as.character(enhancers))\n",
    "    mat<-mat[order(rowMeans(mat), decreasing=T),]\n",
    "    mat=scale(mat, center = TRUE, scale = FALSE)\n",
    "\n",
    "  ########################################################################\n",
    "  ##### Heatmaps    ######################################################\n",
    "  \n",
    "\n",
    "  tissue_list=rownames(mat)  \n",
    "  \n",
    "  mat=mat[tissue_list,]\n",
    "  \n",
    "  road_tissues=read.csv(\"EIDlegend.csv\", stringsAsFactor=F, check.names=F, header=FALSE, row.names=1)\n",
    "  ti=road_tissues[tissue_list,]\n",
    "  rownames(mat)=ti\n",
    "  \n",
    "  # ###abbreviated names\n",
    "  # road_tissues=read.csv(\"Roadmap_metadata.csv\", stringsAsFactor=F, check.names=F, header=TRUE,row.names=1)\n",
    "  # ti=road_tissues[tissue_list,]\n",
    "  # rownames(mat)=ti$name\n",
    "  \n",
    "color=colorRampPalette(c(\"dodgerblue3\", \"white\", \"orangered3\"))(50)\n",
    "#color=colorRampPalette(c( \"white\", \"dodgerblue3\"))(50)\n",
    "  \n",
    "  pdf(paste( method_folder , \"/\",  names[i], \".heatmap_jaccard_enhancers_and_promoters_mean_center.pdf\", sep=\"\"), width=7, height=20)\n",
    "  pheatmap(mat, show_rownames=TRUE,cluster_rows=F,\n",
    "           annotation_col=ch.3, color = color,\n",
    "           cellwidth = 8, cellheight = 8, annotation_colors=anno_colors, annotation_legend=FALSE,\n",
    "           fontsize=9, border_color=NA, breaks=seq(-abs(max(mat)), abs(max(mat)), length.out=50) )\n",
    "  \n",
    "  \n",
    "    \n",
    "    \n",
    "  dev.off()\n",
    "  }\n"
   ]
  },
  {
   "cell_type": "code",
   "execution_count": null,
   "metadata": {
    "collapsed": true
   },
   "outputs": [],
   "source": []
  }
 ],
 "metadata": {
  "kernelspec": {
   "display_name": "R",
   "language": "R",
   "name": "ir"
  },
  "language_info": {
   "codemirror_mode": "r",
   "file_extension": ".r",
   "mimetype": "text/x-r-source",
   "name": "R",
   "pygments_lexer": "r",
   "version": "3.4.1"
  }
 },
 "nbformat": 4,
 "nbformat_minor": 1
}
