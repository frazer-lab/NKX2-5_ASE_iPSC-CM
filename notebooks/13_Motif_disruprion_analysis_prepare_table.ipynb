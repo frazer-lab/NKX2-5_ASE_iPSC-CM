{
 "cells": [
  {
   "cell_type": "markdown",
   "metadata": {},
   "source": [
    "## Prepare the tables necessary to calculate motif disruption\n",
    "1. Get the SNPs to test: in this case I am testing all heterozygous SNPs that were tested for ASE in ChIP-Seq\n",
    "2. Get the fasta for a 41 bp window (20 bases upstream and downstream), for both alleles\n",
    "3. Get the results of the 20 most enrichemt motif e from Homer\n",
    "4. Run the analysis using the script scoreMotifs_m1.R (computationally intense and long)"
   ]
  },
  {
   "cell_type": "code",
   "execution_count": 1,
   "metadata": {},
   "outputs": [],
   "source": [
    "library (stringr)\n",
    "home=\"/home/paola/Family1070/private_output/\"\n",
    "dir=\"ASE_chip/correlationWithBeta/\"\n",
    "names=c(\"NKX25\", \"H3K27AC_IPSC\",  \"H3K27AC_CM\",\"ATAC_IPSC\", \"ATAC_CM\")  #also names of directories\n",
    "files= paste('ASE.tested', names, 'txt', sep=\".\")\n",
    "setwd(home)\n",
    "setwd(\"Motif_analysis_R\")"
   ]
  },
  {
   "cell_type": "code",
   "execution_count": 2,
   "metadata": {},
   "outputs": [],
   "source": [
    "FILES = files[1]\n",
    "name  = names[1]\n",
    "#dir.create(name)"
   ]
  },
  {
   "cell_type": "code",
   "execution_count": 7,
   "metadata": {},
   "outputs": [],
   "source": [
    "ase=read.table(paste(home,dir,FILES,sep=\"\"), sep=\"\\t\", header=T)\n",
    "test=str_split_fixed(ase$variantID, \":\", 2)\n",
    "ase$chr=test[,1]\n",
    "ase$POS=as.numeric(test[,2])\n",
    "ase$bed.start=ase$POS-20\n",
    "ase$bed.end=ase$POS+20\n",
    "\n",
    "write.table(ase[,c(\"chr\", \"bed.start\", \"bed.end\",\"variantID\")],\n",
    "            paste(name, \"all_snps.bed\", sep=\"/\"), row.names=F, col.names=F, sep=\"\\t\", quote=FALSE)\n",
    "\n",
    "\n",
    "\n",
    "command= paste(\"bedtools getfasta -fi /publicdata/hg19_20151104/hg19_sorted.fa -bed  \", \n",
    "               name, \"/all_snps.bed -fo \" , name,  \"/all_fasta.tab -name -tab\", sep=\"\")\n",
    "\n",
    "system(\"module load cardips\")\n",
    "system(command)\n",
    "\n",
    "\n",
    "  file=paste(name, \"all_fasta.tab\", sep=\"/\")\n",
    "  fas=read.table(file)\n",
    "  \n",
    "  fas=cbind(fas,ase[,c(\"refAllele\", \"altAllele\", 'ref_freq', 'combined_fdr')])\n",
    "  # fas=cbind(fas,ase[,c(\"refAllele\", \"altAllele\", 'new_maf', 'combined_fdr')]) # colum name of previous file\n",
    "  colnames(fas)=c(\"pos\",\"seq\",\"ref\",\"alt\",'ref_freq', 'combined_fdr')\n",
    "  fas[,1:4]=sapply(fas[,1:4], as.character)\n",
    "  fas1=fas\n",
    "  \n",
    "  \n",
    "  # Commands for writing fasta format\n",
    "  Xfasta <- character(nrow(fas) * 2)\n",
    "  Xfasta[c(TRUE, FALSE)] <- paste0(\">\", fas$pos)\n",
    "  Xfasta[c(FALSE, TRUE)] <- fas$seq\n",
    "  writeLines(Xfasta, paste(name,\"ref.fasta\", sep=\"/\"))\n",
    "\n",
    "  ###########\n",
    "  for (i in 1:nrow(fas1)){\n",
    "   \n",
    "      substr(fas1[i,\"seq\"], 20, 20) <- fas1[i,\"alt\"]\n",
    "    \n",
    "  }\n",
    "  \n",
    "  # Commands for writing fasta format\n",
    "  Xfasta <- character(nrow(fas1) * 2)\n",
    "  Xfasta[c(TRUE, FALSE)] <- paste0(\">\", fas1$pos)\n",
    "  Xfasta[c(FALSE, TRUE)] <- fas1$seq\n",
    "  writeLines(Xfasta, paste(name,\"alt.fasta\", sep=\"/\"))\n",
    "  \n",
    "\n",
    "\n",
    "##### Make table to use in Erin's program\n",
    "matr=cbind(fas, fas1[,c(\"seq\")])\n",
    "matr=matr[c(1,3,4,5,6,2,7)]\n",
    "#adapt column names to erin's script \n",
    "colnames(matr)[c(1,6,7)]=c(\"Variant\", \"REfSeq\", \"ALtSeq\")\n",
    "matr$REfSeq<-toupper(matr$REfSeq)\n",
    "matr$ALtSeq<-toupper(matr$ALtSeq)\n",
    "\n",
    "write.table(matr, paste(name, \"TestMAtr.txt\", sep=\"/\"), row.names=F, col.names=T, sep=\"\\t\", quote=F)\n",
    "\n"
   ]
  },
  {
   "cell_type": "code",
   "execution_count": 8,
   "metadata": {},
   "outputs": [
    {
     "data": {
      "text/html": [
       "<table>\n",
       "<thead><tr><th scope=col>Variant</th><th scope=col>ref</th><th scope=col>alt</th><th scope=col>ref_freq</th><th scope=col>combined_fdr</th><th scope=col>REfSeq</th><th scope=col>ALtSeq</th></tr></thead>\n",
       "<tbody>\n",
       "\t<tr><td>chr10:100104314                         </td><td>T                                       </td><td>C                                       </td><td>0.5174881                               </td><td>0.9975985                               </td><td>CTGCCTCCTCCTCCTCCTCTGTGGTTGGGAGATTTCACAT</td><td>CTGCCTCCTCCTCCTCCTCCGTGGTTGGGAGATTTCACAT</td></tr>\n",
       "\t<tr><td>chr10:100220928                         </td><td>A                                       </td><td>T                                       </td><td>0.4915662                               </td><td>0.8244251                               </td><td>GAGAGAGATAATCAGACCCATGCCCAATAGAGCAGTGAAT</td><td>GAGAGAGATAATCAGACCCTTGCCCAATAGAGCAGTGAAT</td></tr>\n",
       "\t<tr><td>chr10:100221081                         </td><td>T                                       </td><td>C                                       </td><td>0.5220204                               </td><td>1.0000000                               </td><td>AGGGAGCAGGCCCCCTCCCTTTGCTAGAATGACTGAGTGA</td><td>AGGGAGCAGGCCCCCTCCCCTTGCTAGAATGACTGAGTGA</td></tr>\n",
       "\t<tr><td>chr10:10034807                          </td><td>G                                       </td><td>A                                       </td><td>0.4623286                               </td><td>0.9635344                               </td><td>TCGCCAAGCAGACAATCACGGAGGCTTAAGGCCGTGCATT</td><td>TCGCCAAGCAGACAATCACAGAGGCTTAAGGCCGTGCATT</td></tr>\n",
       "\t<tr><td>chr10:100361679                         </td><td>G                                       </td><td>T                                       </td><td>0.2781205                               </td><td>0.4605427                               </td><td>AGCAAAGGCAAACTTGTTAGCTTGCAAATAGGGTAACTCT</td><td>AGCAAAGGCAAACTTGTTATCTTGCAAATAGGGTAACTCT</td></tr>\n",
       "\t<tr><td>chr10:10043586                          </td><td>A                                       </td><td>T                                       </td><td>0.5519033                               </td><td>0.8423266                               </td><td>GTACAAGGTCATCCCCCACAAAGAGTGTGAGCAACCTTAG</td><td>GTACAAGGTCATCCCCCACTAAGAGTGTGAGCAACCTTAG</td></tr>\n",
       "</tbody>\n",
       "</table>\n"
      ],
      "text/latex": [
       "\\begin{tabular}{r|lllllll}\n",
       " Variant & ref & alt & ref\\_freq & combined\\_fdr & REfSeq & ALtSeq\\\\\n",
       "\\hline\n",
       "\t chr10:100104314                          & T                                        & C                                        & 0.5174881                                & 0.9975985                                & CTGCCTCCTCCTCCTCCTCTGTGGTTGGGAGATTTCACAT & CTGCCTCCTCCTCCTCCTCCGTGGTTGGGAGATTTCACAT\\\\\n",
       "\t chr10:100220928                          & A                                        & T                                        & 0.4915662                                & 0.8244251                                & GAGAGAGATAATCAGACCCATGCCCAATAGAGCAGTGAAT & GAGAGAGATAATCAGACCCTTGCCCAATAGAGCAGTGAAT\\\\\n",
       "\t chr10:100221081                          & T                                        & C                                        & 0.5220204                                & 1.0000000                                & AGGGAGCAGGCCCCCTCCCTTTGCTAGAATGACTGAGTGA & AGGGAGCAGGCCCCCTCCCCTTGCTAGAATGACTGAGTGA\\\\\n",
       "\t chr10:10034807                           & G                                        & A                                        & 0.4623286                                & 0.9635344                                & TCGCCAAGCAGACAATCACGGAGGCTTAAGGCCGTGCATT & TCGCCAAGCAGACAATCACAGAGGCTTAAGGCCGTGCATT\\\\\n",
       "\t chr10:100361679                          & G                                        & T                                        & 0.2781205                                & 0.4605427                                & AGCAAAGGCAAACTTGTTAGCTTGCAAATAGGGTAACTCT & AGCAAAGGCAAACTTGTTATCTTGCAAATAGGGTAACTCT\\\\\n",
       "\t chr10:10043586                           & A                                        & T                                        & 0.5519033                                & 0.8423266                                & GTACAAGGTCATCCCCCACAAAGAGTGTGAGCAACCTTAG & GTACAAGGTCATCCCCCACTAAGAGTGTGAGCAACCTTAG\\\\\n",
       "\\end{tabular}\n"
      ],
      "text/plain": [
       "  Variant         ref alt ref_freq  combined_fdr\n",
       "1 chr10:100104314 T   C   0.5174881 0.9975985   \n",
       "2 chr10:100220928 A   T   0.4915662 0.8244251   \n",
       "3 chr10:100221081 T   C   0.5220204 1.0000000   \n",
       "4 chr10:10034807  G   A   0.4623286 0.9635344   \n",
       "5 chr10:100361679 G   T   0.2781205 0.4605427   \n",
       "6 chr10:10043586  A   T   0.5519033 0.8423266   \n",
       "  REfSeq                                  \n",
       "1 CTGCCTCCTCCTCCTCCTCTGTGGTTGGGAGATTTCACAT\n",
       "2 GAGAGAGATAATCAGACCCATGCCCAATAGAGCAGTGAAT\n",
       "3 AGGGAGCAGGCCCCCTCCCTTTGCTAGAATGACTGAGTGA\n",
       "4 TCGCCAAGCAGACAATCACGGAGGCTTAAGGCCGTGCATT\n",
       "5 AGCAAAGGCAAACTTGTTAGCTTGCAAATAGGGTAACTCT\n",
       "6 GTACAAGGTCATCCCCCACAAAGAGTGTGAGCAACCTTAG\n",
       "  ALtSeq                                  \n",
       "1 CTGCCTCCTCCTCCTCCTCCGTGGTTGGGAGATTTCACAT\n",
       "2 GAGAGAGATAATCAGACCCTTGCCCAATAGAGCAGTGAAT\n",
       "3 AGGGAGCAGGCCCCCTCCCCTTGCTAGAATGACTGAGTGA\n",
       "4 TCGCCAAGCAGACAATCACAGAGGCTTAAGGCCGTGCATT\n",
       "5 AGCAAAGGCAAACTTGTTATCTTGCAAATAGGGTAACTCT\n",
       "6 GTACAAGGTCATCCCCCACTAAGAGTGTGAGCAACCTTAG"
      ]
     },
     "metadata": {},
     "output_type": "display_data"
    }
   ],
   "source": [
    "head(matr)"
   ]
  },
  {
   "cell_type": "code",
   "execution_count": 46,
   "metadata": {},
   "outputs": [
    {
     "name": "stderr",
     "output_type": "stream",
     "text": [
      "Warning message in dir.create(motif_dir_new):\n",
      "\"'NKX25/analysis/PWMs' already exists\""
     ]
    }
   ],
   "source": [
    "motif_dir_new = paste(name, \"analysis\",\"PWMs\", sep=\"/\")\n",
    "dir.create(motif_dir_new)"
   ]
  },
  {
   "cell_type": "code",
   "execution_count": 47,
   "metadata": {
    "collapsed": true
   },
   "outputs": [],
   "source": [
    "motif_dir = paste(home, \"Homer_motif_enrichment/\", name, \"/knownResults/\", sep=\"\")"
   ]
  },
  {
   "cell_type": "code",
   "execution_count": 52,
   "metadata": {},
   "outputs": [],
   "source": [
    "homer_scores = data.frame()\n",
    "for( i in 1:20){\n",
    "   \n",
    "   pwm = read.table(paste(motif_dir, \"known\",i, \".motif\", sep=\"\"), sep=\"\\t\", skip=1)\n",
    "   colnames(pwm)=c('A','C','G','T')\n",
    "   \n",
    "    head = read.table(paste(motif_dir, \"known\",i, \".motif\", sep=\"\"), sep=\"\\t\", nrows=1, stringsAsFactor=F) \n",
    "    homer_scores[i,1]= str_split_fixed(head$V2, \"\\\\(\", 2 )[,1]\n",
    "    homer_scores[i,2]= head$V3\n",
    "    \n",
    "    write.table(pwm, paste(motif_dir_new, homer_scores[i,1], sep=\"/\" ),  sep=\"\\t\",  row.names=F, quote=F) \n",
    "}\n",
    "\n",
    "\n",
    "write.table(homer_scores, paste(name, \"analysis\", \"HomerScores.txt\" , sep=\"/\"), quote= F, col.names=F, row.names=F) "
   ]
  },
  {
   "cell_type": "markdown",
   "metadata": {},
   "source": [
    "To run the analysis, qsub the code 2_scoreMotifs_m1.R  --- it takes about an hour per motif."
   ]
  },
  {
   "cell_type": "code",
   "execution_count": null,
   "metadata": {
    "collapsed": true
   },
   "outputs": [],
   "source": []
  }
 ],
 "metadata": {
  "kernelspec": {
   "display_name": "R",
   "language": "R",
   "name": "ir"
  },
  "language_info": {
   "codemirror_mode": "r",
   "file_extension": ".r",
   "mimetype": "text/x-r-source",
   "name": "R",
   "pygments_lexer": "r",
   "version": "3.2.2"
  }
 },
 "nbformat": 4,
 "nbformat_minor": 1
}
