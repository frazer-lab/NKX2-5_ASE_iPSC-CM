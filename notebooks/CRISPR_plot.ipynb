{
 "cells": [
  {
   "cell_type": "code",
   "execution_count": 65,
   "metadata": {},
   "outputs": [],
   "source": [
    "cav1_38  = c(0.567486023,0.414790547,0.229539959)\n",
    "cav1_40  = c(0.223664162,0.153973459,0.208344985)\n",
    "cav2_38  = c(0.671055854,0.576266761,0.606196047)\n",
    "cav2_40  = c(0.494087558,0.356545572,0.402859258)\n",
    "ssbp3_40 = c(2.644524137,1.803782343,2.477554387)\n",
    "ssbp3_38 = c(2.359388276,1.367806587,1.725832535)"
   ]
  },
  {
   "cell_type": "code",
   "execution_count": 90,
   "metadata": {},
   "outputs": [],
   "source": [
    "li = list(cav1_38=cav1_38, cav2_38=cav2_38, ssbp3_38=ssbp3_38,\n",
    "          cav1_40=cav1_40, cav2_40=cav2_40, ssbp3_40=ssbp3_40)"
   ]
  },
  {
   "cell_type": "code",
   "execution_count": 67,
   "metadata": {},
   "outputs": [],
   "source": [
    "library(beeswarm)"
   ]
  },
  {
   "cell_type": "code",
   "execution_count": 84,
   "metadata": {},
   "outputs": [],
   "source": [
    "ovplots = function(vals, title){\n",
    "\n",
    "avg = mean(vals)\n",
    "stdev = sd(vals)\n",
    "maxi = max(1.1,(avg+stdev )+0.5)\n",
    "bp = barplot(c(1,avg), las=1 , names.arg= c('gCTL', 'gSNP'), col=\"black\", ylim=c(0, maxi), \n",
    "             space=1, main = title)\n",
    "abline(h=0)\n",
    "arrows(bp[2],avg+stdev, bp[2], avg-stdev, angle=90, code=1, lwd=2, length = 0.1)\n",
    "points(rep(bp, each=length(vals)), c(1,1,1, vals), pch=16, col=\"gray\")\n",
    "}"
   ]
  },
  {
   "cell_type": "code",
   "execution_count": 91,
   "metadata": {},
   "outputs": [
    {
     "data": {
      "text/html": [
       "<strong>png:</strong> 2"
      ],
      "text/latex": [
       "\\textbf{png:} 2"
      ],
      "text/markdown": [
       "**png:** 2"
      ],
      "text/plain": [
       "png \n",
       "  2 "
      ]
     },
     "metadata": {},
     "output_type": "display_data"
    }
   ],
   "source": [
    "pdf(\"../private_output/Figures/Crispri_plots.pdf\")\n",
    "par(mfrow=c(2,3), pin=c(1,1.5))\n",
    "invisible(lapply(1:6, function(x) ovplots(li[[x]], names(li)[x])))\n",
    "dev.off()"
   ]
  },
  {
   "cell_type": "code",
   "execution_count": null,
   "metadata": {},
   "outputs": [],
   "source": []
  }
 ],
 "metadata": {
  "kernelspec": {
   "display_name": "R",
   "language": "R",
   "name": "ir"
  },
  "language_info": {
   "codemirror_mode": "r",
   "file_extension": ".r",
   "mimetype": "text/x-r-source",
   "name": "R",
   "pygments_lexer": "r",
   "version": "3.2.2"
  }
 },
 "nbformat": 4,
 "nbformat_minor": 2
}
