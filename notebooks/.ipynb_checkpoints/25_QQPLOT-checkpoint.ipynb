{
 "cells": [
  {
   "cell_type": "markdown",
   "metadata": {},
   "source": [
    "USe summary statistics from the heart rate GWAS (meta-analysis) from denHoed et al and see if there is an enrichemnt for NKX2-5 SNVS"
   ]
  },
  {
   "cell_type": "code",
   "execution_count": 2,
   "metadata": {
    "collapsed": true
   },
   "outputs": [],
   "source": [
    "home       = \"/frazer01/home/paola/Family1070/private_output\"\n",
    "setwd(home)"
   ]
  },
  {
   "cell_type": "code",
   "execution_count": 1,
   "metadata": {
    "collapsed": true
   },
   "outputs": [],
   "source": [
    "gwas = read.table(\"/publicdata/gwas_summary_stats_20180124/denHoed/rsid_pval.txt\", header=T, sep=\"\\t\")"
   ]
  },
  {
   "cell_type": "code",
   "execution_count": 3,
   "metadata": {
    "collapsed": true
   },
   "outputs": [],
   "source": [
    "## SNPS in NKX2-5 peaks tested for ASE\n",
    "snvs = read.table('ASE_chip/correlationWithBeta/ASE.tested.NKX25.txt', header=T, check.names=F, sep=\"\\t\")"
   ]
  },
  {
   "cell_type": "code",
   "execution_count": 7,
   "metadata": {
    "collapsed": true
   },
   "outputs": [],
   "source": [
    "gwas_nkx = subset(gwas, rsid %in% snvs$snpID)"
   ]
  },
  {
   "cell_type": "code",
   "execution_count": 8,
   "metadata": {
    "collapsed": true
   },
   "outputs": [],
   "source": [
    "gwas_ase = subset(gwas, rsid %in% snvs$snpID[snvs$combined_fdr<0.05])"
   ]
  },
  {
   "cell_type": "code",
   "execution_count": 121,
   "metadata": {
    "collapsed": false
   },
   "outputs": [],
   "source": [
    "writeLines(as.character(snvs$snpID[snvs$combined_fdr<0.05 & snvs$snpID!=\".\"]),\n",
    "           '/projects/CARDIPS/analysis/gwas_enrichment_in_peaks/concat_bed/rsid_ASE_NKX25.txt' )"
   ]
  },
  {
   "cell_type": "code",
   "execution_count": 122,
   "metadata": {
    "collapsed": true
   },
   "outputs": [],
   "source": [
    "snvs2 = read.table('ASE_chip/correlationWithBeta/ASE.tested.H3K27AC_CM.txt', header=T, check.names=F, sep=\"\\t\")\n",
    "writeLines(as.character(snvs2$snpID[snvs2$combined_fdr<0.05 & snvs2$snpID!=\".\"]),\n",
    "           '/projects/CARDIPS/analysis/gwas_enrichment_in_peaks/concat_bed/rsid_ASE_H3K27AC.txt' )"
   ]
  },
  {
   "cell_type": "code",
   "execution_count": 9,
   "metadata": {
    "collapsed": false
   },
   "outputs": [
    {
     "data": {
      "text/html": [
       "<ol class=list-inline>\n",
       "\t<li>8971</li>\n",
       "\t<li>2</li>\n",
       "</ol>\n"
      ],
      "text/latex": [
       "\\begin{enumerate*}\n",
       "\\item 8971\n",
       "\\item 2\n",
       "\\end{enumerate*}\n"
      ],
      "text/markdown": [
       "1. 8971\n",
       "2. 2\n",
       "\n",
       "\n"
      ],
      "text/plain": [
       "[1] 8971    2"
      ]
     },
     "metadata": {},
     "output_type": "display_data"
    },
    {
     "data": {
      "text/html": [
       "<ol class=list-inline>\n",
       "\t<li>1070</li>\n",
       "\t<li>2</li>\n",
       "</ol>\n"
      ],
      "text/latex": [
       "\\begin{enumerate*}\n",
       "\\item 1070\n",
       "\\item 2\n",
       "\\end{enumerate*}\n"
      ],
      "text/markdown": [
       "1. 1070\n",
       "2. 2\n",
       "\n",
       "\n"
      ],
      "text/plain": [
       "[1] 1070    2"
      ]
     },
     "metadata": {},
     "output_type": "display_data"
    }
   ],
   "source": [
    "dim(gwas_nkx)\n",
    "dim(gwas_ase)"
   ]
  },
  {
   "cell_type": "code",
   "execution_count": 89,
   "metadata": {
    "collapsed": true
   },
   "outputs": [],
   "source": [
    "## HapMapCEU snps in NLX2-5 peaks\n",
    "hap = read.table('/projects/CARDIPS/analysis/gwas_enrichment_in_peaks/concat_bed/HapMapCEU_int_NKX25.txt', header=F, sep=\"\\t\")"
   ]
  },
  {
   "cell_type": "code",
   "execution_count": 91,
   "metadata": {
    "collapsed": false
   },
   "outputs": [
    {
     "data": {
      "text/html": [
       "<ol class=list-inline>\n",
       "\t<li>19983</li>\n",
       "\t<li>2</li>\n",
       "</ol>\n"
      ],
      "text/latex": [
       "\\begin{enumerate*}\n",
       "\\item 19983\n",
       "\\item 2\n",
       "\\end{enumerate*}\n"
      ],
      "text/markdown": [
       "1. 19983\n",
       "2. 2\n",
       "\n",
       "\n"
      ],
      "text/plain": [
       "[1] 19983     2"
      ]
     },
     "metadata": {},
     "output_type": "display_data"
    }
   ],
   "source": [
    "gwas_hap = subset(gwas, rsid %in% hap$V4)\n",
    "dim(gwas_hap)"
   ]
  },
  {
   "cell_type": "code",
   "execution_count": 26,
   "metadata": {
    "collapsed": true
   },
   "outputs": [],
   "source": [
    "subthr = subset(gwas_ase, -log(gwas_ase$P_VALUE, 10)>3)"
   ]
  },
  {
   "cell_type": "code",
   "execution_count": 27,
   "metadata": {
    "collapsed": false
   },
   "outputs": [
    {
     "data": {
      "text/html": [
       "<table>\n",
       "<thead><tr><th></th><th scope=col>rsid</th><th scope=col>P_VALUE</th></tr></thead>\n",
       "<tbody>\n",
       "\t<tr><th scope=row>662401</th><td>rs13090638</td><td>1.598e-04 </td></tr>\n",
       "\t<tr><th scope=row>1021024</th><td>rs176107  </td><td>1.682e-04 </td></tr>\n",
       "\t<tr><th scope=row>1054915</th><td>rs17825415</td><td>4.483e-04 </td></tr>\n",
       "\t<tr><th scope=row>1347002</th><td>rs2684222 </td><td>9.896e-05 </td></tr>\n",
       "\t<tr><th scope=row>1402827</th><td>rs2878156 </td><td>2.467e-04 </td></tr>\n",
       "\t<tr><th scope=row>1529587</th><td>rs3943037 </td><td>2.191e-04 </td></tr>\n",
       "\t<tr><th scope=row>1705773</th><td>rs4882284 </td><td>3.912e-04 </td></tr>\n",
       "\t<tr><th scope=row>1864067</th><td>rs6569252 </td><td>4.020e-05 </td></tr>\n",
       "\t<tr><th scope=row>1875908</th><td>rs6606689 </td><td>7.922e-06 </td></tr>\n",
       "\t<tr><th scope=row>1925345</th><td>rs6801957 </td><td>3.348e-04 </td></tr>\n",
       "\t<tr><th scope=row>1969690</th><td>rs6942457 </td><td>2.435e-04 </td></tr>\n",
       "\t<tr><th scope=row>2147591</th><td>rs7612445 </td><td>2.412e-07 </td></tr>\n",
       "\t<tr><th scope=row>2281564</th><td>rs8044595 </td><td>1.872e-05 </td></tr>\n",
       "\t<tr><th scope=row>2361290</th><td>rs9320649 </td><td>6.330e-10 </td></tr>\n",
       "</tbody>\n",
       "</table>\n"
      ],
      "text/latex": [
       "\\begin{tabular}{r|ll}\n",
       "  & rsid & P\\_VALUE\\\\\n",
       "\\hline\n",
       "\t662401 & rs13090638 & 1.598e-04 \\\\\n",
       "\t1021024 & rs176107   & 1.682e-04 \\\\\n",
       "\t1054915 & rs17825415 & 4.483e-04 \\\\\n",
       "\t1347002 & rs2684222  & 9.896e-05 \\\\\n",
       "\t1402827 & rs2878156  & 2.467e-04 \\\\\n",
       "\t1529587 & rs3943037  & 2.191e-04 \\\\\n",
       "\t1705773 & rs4882284  & 3.912e-04 \\\\\n",
       "\t1864067 & rs6569252  & 4.020e-05 \\\\\n",
       "\t1875908 & rs6606689  & 7.922e-06 \\\\\n",
       "\t1925345 & rs6801957  & 3.348e-04 \\\\\n",
       "\t1969690 & rs6942457  & 2.435e-04 \\\\\n",
       "\t2147591 & rs7612445  & 2.412e-07 \\\\\n",
       "\t2281564 & rs8044595  & 1.872e-05 \\\\\n",
       "\t2361290 & rs9320649  & 6.330e-10 \\\\\n",
       "\\end{tabular}\n"
      ],
      "text/plain": [
       "        rsid       P_VALUE  \n",
       "662401  rs13090638 1.598e-04\n",
       "1021024 rs176107   1.682e-04\n",
       "1054915 rs17825415 4.483e-04\n",
       "1347002 rs2684222  9.896e-05\n",
       "1402827 rs2878156  2.467e-04\n",
       "1529587 rs3943037  2.191e-04\n",
       "1705773 rs4882284  3.912e-04\n",
       "1864067 rs6569252  4.020e-05\n",
       "1875908 rs6606689  7.922e-06\n",
       "1925345 rs6801957  3.348e-04\n",
       "1969690 rs6942457  2.435e-04\n",
       "2147591 rs7612445  2.412e-07\n",
       "2281564 rs8044595  1.872e-05\n",
       "2361290 rs9320649  6.330e-10"
      ]
     },
     "metadata": {},
     "output_type": "display_data"
    }
   ],
   "source": [
    "subthr"
   ]
  },
  {
   "cell_type": "code",
   "execution_count": 110,
   "metadata": {
    "collapsed": true
   },
   "outputs": [],
   "source": [
    "gwasP = sort(-log(gwas$P_VALUE, 10))"
   ]
  },
  {
   "cell_type": "code",
   "execution_count": 111,
   "metadata": {
    "collapsed": true
   },
   "outputs": [],
   "source": [
    "nkxP = sort(-log(gwas_nkx$P_VALUE, 10))\n",
    "aseP = sort(-log(gwas_ase$P_VALUE, 10))\n",
    "hapP = sort(-log(gwas_hap$P_VALUE, 10))"
   ]
  },
  {
   "cell_type": "code",
   "execution_count": 112,
   "metadata": {
    "collapsed": true
   },
   "outputs": [],
   "source": [
    "set.seed(2)\n",
    "uniP = runif(length(gwasP))\n",
    "uniP = sort(-log10(uniP))\n",
    "\n",
    "uniN = runif(length(nkxP))\n",
    "uniN = sort(-log10(uniN))\n",
    "\n",
    "uniA = runif(length(aseP))\n",
    "uniA = sort(-log10(uniA))\n",
    "\n",
    "uniH = runif(length(hapP))\n",
    "uniH = sort(-log10(uniH))"
   ]
  },
  {
   "cell_type": "code",
   "execution_count": 113,
   "metadata": {
    "collapsed": false
   },
   "outputs": [],
   "source": [
    "rand = sort(sample(gwasP, 10000))"
   ]
  },
  {
   "cell_type": "code",
   "execution_count": 114,
   "metadata": {
    "collapsed": false
   },
   "outputs": [],
   "source": [
    "uniR = sort(runif(length(rand)))\n",
    "uniR = sort(-log10(uniR))"
   ]
  },
  {
   "cell_type": "code",
   "execution_count": 115,
   "metadata": {
    "collapsed": false
   },
   "outputs": [
    {
     "data": {
      "image/png": "[encoded data removed]",
      "text/plain": [
       "plot without title"
      ]
     },
     "metadata": {},
     "output_type": "display_data"
    }
   ],
   "source": [
    "#png(\"Figures/QQplot_HR_gwas.png\")\n",
    "par(mfrow=c(2,2), pin=c(2,2))\n",
    "plot(uniP, gwasP, pch=20, cex=0.8, xlab=\"Theoretical -Log10(P)\", ylab=\"-Log10(P) GWAS\")\n",
    "points(uniH, hapP, pch=20, cex=0.8, col=\"red\")\n",
    "points(uniN, nkxP, pch=20, cex=0.8, col=\"orange\")\n",
    "points(uniA, aseP, pch=20, cex=0.8, col='#00E5FFFF')\n",
    "abline(0,1)\n",
    "plot.new()\n",
    "legend(\"topleft\", legend= c(\"All SNPs\", \"in NKX2-5 peaks\", \"NKX2-5 tested\", \"NKX2-5 ASE\"), col=c(\"black\", \"red\", \"orange\", '#00E5FFFF'), pch=19, cex=0.8 )\n",
    "#dev.off()"
   ]
  },
  {
   "cell_type": "code",
   "execution_count": 116,
   "metadata": {
    "collapsed": false
   },
   "outputs": [
    {
     "data": {
      "text/html": [
       "<strong>png:</strong> 2"
      ],
      "text/latex": [
       "\\textbf{png:} 2"
      ],
      "text/markdown": [
       "**png:** 2"
      ],
      "text/plain": [
       "png \n",
       "  2 "
      ]
     },
     "metadata": {},
     "output_type": "display_data"
    }
   ],
   "source": [
    "pdf(\"Figures/QQplot_HR_gwas.pdf\")\n",
    "par(mfrow=c(2,2), pin=c(2,2))\n",
    "plot(uniP, gwasP, pch=20, cex=0.8, xlab=\"Theoretical -Log10(P)\", ylab=\"-Log10(P) GWAS\")\n",
    "points(uniH, hapP, pch=20, cex=0.8, col=\"red\")\n",
    "#points(uniN, nkxP, pch=20, cex=0.8, col=\"orange\")\n",
    "points(uniA, aseP, pch=20, cex=0.8, col='#00E5FFFF')\n",
    "abline(0,1)\n",
    "#plot.new()\n",
    "legend(\"topleft\", legend= c(\"All SNPs\", \"NKX2-5 peaks\",  \"NKX2-5 ASE\"), col=c(\"black\", \"red\",'#00E5FFFF'), pch=19, cex=0.8 )\n",
    "dev.off()"
   ]
  },
  {
   "cell_type": "code",
   "execution_count": 133,
   "metadata": {
    "collapsed": false
   },
   "outputs": [
    {
     "data": {
      "text/html": [
       "<strong>png:</strong> 2"
      ],
      "text/latex": [
       "\\textbf{png:} 2"
      ],
      "text/markdown": [
       "**png:** 2"
      ],
      "text/plain": [
       "png \n",
       "  2 "
      ]
     },
     "metadata": {},
     "output_type": "display_data"
    }
   ],
   "source": [
    "#jpeg(\"Figures/QQplot_HR_gwas.jpeg\", width = 4, height = 4, units = 'in', res = 300)\n",
    "png(\"Figures/QQplot_HR_gwas.png\", width = 4, height = 4, units = 'in', res = 300)\n",
    "\n",
    "#par(mfrow=c(2,2), pin=c(2,2))\n",
    "plot(uniP, gwasP, pch=20, cex=0.8, xlab=\"Theoretical -Log10(P)\", ylab=\"-Log10(P) GWAS\")\n",
    "points(uniH, hapP, pch=20, cex=0.8, col=\"red\")\n",
    "#points(uniN, nkxP, pch=20, cex=0.8, col=\"orange\")\n",
    "points(uniA, aseP, pch=20, cex=0.8, col='#00E5FFFF')\n",
    "abline(0,1)\n",
    "#plot.new()\n",
    "legend(\"topleft\", legend= c(\"All SNPs\", \"NKX2-5 peaks\",  \"NKX2-5 ASE\"), col=c(\"black\", \"red\",'#00E5FFFF'), pch=19, cex=0.8 )\n",
    "dev.off()"
   ]
  },
  {
   "cell_type": "code",
   "execution_count": null,
   "metadata": {
    "collapsed": true
   },
   "outputs": [],
   "source": []
  },
  {
   "cell_type": "code",
   "execution_count": 86,
   "metadata": {
    "collapsed": false
   },
   "outputs": [
    {
     "data": {
      "image/png": "[encoded data removed]",
      "text/plain": [
       "plot without title"
      ]
     },
     "metadata": {},
     "output_type": "display_data"
    }
   ],
   "source": [
    "#png(\"Figures/QQplot_HR_gwas.png\")\n",
    "# par(mfrow=c(2,2), pin=c(2,2))\n",
    "# plot(uniP, gwasP, pch=20, cex=0.8, xlab=\"Theoretical -log10P\", ylab=\"Observed -log10P\")\n",
    "# points(uniN, nkxP, pch=20, cex=0.8, col=\"red\")\n",
    "# points(uniA, aseP, pch=20, cex=0.8, col=\"orange\")\n",
    "# abline(0,1)\n",
    "# plot.new()\n",
    "# legend(\"topleft\", legend= c(\"HR_gwas\", \"NKX tested\", \"NKX ASE\"), col=c(\"black\", \"red\", \"orange\"), pch=19 )\n",
    "\n",
    "# # use random so it's quicker\n",
    "# par(mfrow=c(2,2), pin=c(2,2))\n",
    "# plot(uniR, rand, pch=20, cex=0.8, xlab=\"Theoretical -log10P\", ylab=\"Observed -log10P\")\n",
    "# points(uniN, nkxP, pch=20, cex=0.8, col=\"red\")\n",
    "# points(uniA, aseP, pch=20, cex=0.8, col=\"orange\")\n",
    "# abline(0,1)\n",
    "# plot.new()\n",
    "# legend(\"topleft\", legend= c(\"HR_gwas\", \"NKX tested\", \"NKX ASE\"), col=c(\"black\", \"red\", \"orange\"), pch=19 )\n",
    "#dev.off()"
   ]
  },
  {
   "cell_type": "code",
   "execution_count": 65,
   "metadata": {
    "collapsed": false
   },
   "outputs": [
    {
     "data": {
      "text/html": [
       "'#00E5FFFF'"
      ],
      "text/latex": [
       "'\\#00E5FFFF'"
      ],
      "text/markdown": [
       "'#00E5FFFF'"
      ],
      "text/plain": [
       "[1] \"#00E5FFFF\""
      ]
     },
     "metadata": {},
     "output_type": "display_data"
    }
   ],
   "source": [
    "topo.colors(2)[2]"
   ]
  },
  {
   "cell_type": "code",
   "execution_count": 68,
   "metadata": {
    "collapsed": false
   },
   "outputs": [
    {
     "data": {
      "text/html": [
       "2487452"
      ],
      "text/latex": [
       "2487452"
      ],
      "text/markdown": [
       "2487452"
      ],
      "text/plain": [
       "[1] 2487452"
      ]
     },
     "metadata": {},
     "output_type": "display_data"
    }
   ],
   "source": [
    "sum(gwasP<5)"
   ]
  },
  {
   "cell_type": "code",
   "execution_count": null,
   "metadata": {
    "collapsed": true
   },
   "outputs": [],
   "source": []
  }
 ],
 "metadata": {
  "kernelspec": {
   "display_name": "R",
   "language": "R",
   "name": "ir"
  },
  "language_info": {
   "codemirror_mode": "r",
   "file_extension": ".r",
   "mimetype": "text/x-r-source",
   "name": "R",
   "pygments_lexer": "r",
   "version": "3.2.2"
  }
 },
 "nbformat": 4,
 "nbformat_minor": 0
}
