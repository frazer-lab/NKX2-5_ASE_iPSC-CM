{
 "cells": [
  {
   "cell_type": "markdown",
   "metadata": {},
   "source": [
    "### Heatmap of the top fGWAS results"
   ]
  },
  {
   "cell_type": "code",
   "execution_count": 22,
   "metadata": {
    "collapsed": true
   },
   "outputs": [],
   "source": [
    "library(plotrix)\n",
    "suppressPackageStartupMessages(library(gplots))"
   ]
  },
  {
   "cell_type": "code",
   "execution_count": 2,
   "metadata": {
    "collapsed": false
   },
   "outputs": [],
   "source": [
    "res = read.table('/home/bill/paola-heart-finemapping/Data/Optimize_Model_ASE/No_Marks_Removed/No_Marks_Removed.bfs', header=T)"
   ]
  },
  {
   "cell_type": "code",
   "execution_count": 3,
   "metadata": {
    "collapsed": true
   },
   "outputs": [],
   "source": [
    "seg = read.table('/home/bill/paola-heart-finemapping/Data/Optimize_Model_ASE/No_Marks_Removed/No_Marks_Removed.segbfs', header=T)"
   ]
  },
  {
   "cell_type": "code",
   "execution_count": 4,
   "metadata": {
    "collapsed": false
   },
   "outputs": [],
   "source": [
    "res = merge(res,seg[,c('chunk', 'PPA')], by=\"chunk\" )"
   ]
  },
  {
   "cell_type": "code",
   "execution_count": 5,
   "metadata": {
    "collapsed": false
   },
   "outputs": [],
   "source": [
    "res$PPA = res$PPA.x *res$PPA.y"
   ]
  },
  {
   "cell_type": "code",
   "execution_count": 6,
   "metadata": {
    "collapsed": false
   },
   "outputs": [],
   "source": [
    "res = res[order(res$PPA, decreasing=T),]"
   ]
  },
  {
   "cell_type": "markdown",
   "metadata": {},
   "source": [
    "*Choose a cutoff of 30% PPA, then re-adjust the PPA by multipling by 1 if the Locus is known for heart rate (manually added)*"
   ]
  },
  {
   "cell_type": "code",
   "execution_count": 9,
   "metadata": {
    "collapsed": false
   },
   "outputs": [],
   "source": [
    "seg = res[res$PPA >0.3, c('id', 'PPA','NKX25.ASE','NKX25','H3K27AC','ATAC', 'PPA.x', 'PPA.y')]"
   ]
  },
  {
   "cell_type": "code",
   "execution_count": 16,
   "metadata": {
    "collapsed": false
   },
   "outputs": [],
   "source": [
    "seg = seg[order(seg$PPA.x, decreasing=T),]"
   ]
  },
  {
   "cell_type": "code",
   "execution_count": 12,
   "metadata": {
    "collapsed": true
   },
   "outputs": [],
   "source": [
    "known =c(1,1,1,1,0,1,1,0,0,0,1,0,1,0,1,0,0,1,1,0,0)"
   ]
  },
  {
   "cell_type": "code",
   "execution_count": 15,
   "metadata": {
    "collapsed": false
   },
   "outputs": [],
   "source": [
    "seg$known_locus = known"
   ]
  },
  {
   "cell_type": "code",
   "execution_count": 19,
   "metadata": {
    "collapsed": false
   },
   "outputs": [],
   "source": [
    "seg$PPA_locus = seg$PPA.y\n",
    "seg$PPA_locus [seg$known_locus==1]<-1\n",
    "seg$PPA_adj =  seg$PPA_locus * seg$PPA.x\n",
    "seg = seg[order(seg$PPA_adj, decreasing=T),]"
   ]
  },
  {
   "cell_type": "code",
   "execution_count": 21,
   "metadata": {
    "collapsed": false
   },
   "outputs": [
    {
     "data": {
      "text/html": [
       "<table>\n",
       "<thead><tr><th></th><th scope=col>id</th><th scope=col>PPA</th><th scope=col>NKX25.ASE</th><th scope=col>NKX25</th><th scope=col>H3K27AC</th><th scope=col>ATAC</th><th scope=col>PPA.x</th><th scope=col>PPA.y</th><th scope=col>known_locus</th><th scope=col>PPA_locus</th><th scope=col>PPA_adj</th></tr></thead>\n",
       "<tbody>\n",
       "\t<tr><th scope=row>568280</th><td>rs7612445 </td><td>0.9760756 </td><td>1         </td><td>1         </td><td>0         </td><td>0         </td><td>0.981160  </td><td>0.994818  </td><td>1         </td><td>1.000000  </td><td>0.9811600 </td></tr>\n",
       "\t<tr><th scope=row>2164555</th><td>rs8044595 </td><td>0.8929185 </td><td>1         </td><td>1         </td><td>1         </td><td>1         </td><td>0.938994  </td><td>0.950931  </td><td>1         </td><td>1.000000  </td><td>0.9389940 </td></tr>\n",
       "\t<tr><th scope=row>1997938</th><td>rs365990  </td><td>0.9230210 </td><td>0         </td><td>0         </td><td>1         </td><td>0         </td><td>0.923021  </td><td>1.000000  </td><td>1         </td><td>1.000000  </td><td>0.9230210 </td></tr>\n",
       "\t<tr><th scope=row>355112</th><td>rs17362588</td><td>0.9070130 </td><td>0         </td><td>0         </td><td>0         </td><td>0         </td><td>0.907013  </td><td>1.000000  </td><td>1         </td><td>1.000000  </td><td>0.9070130 </td></tr>\n",
       "\t<tr><th scope=row>1870136</th><td>rs6606689 </td><td>0.8590870 </td><td>1         </td><td>1         </td><td>1         </td><td>1         </td><td>0.880833  </td><td>0.975312  </td><td>0         </td><td>0.975312  </td><td>0.8590870 </td></tr>\n",
       "\t<tr><th scope=row>1036758</th><td>rs11153730</td><td>0.8358900 </td><td>0         </td><td>0         </td><td>0         </td><td>0         </td><td>0.835890  </td><td>1.000000  </td><td>1         </td><td>1.000000  </td><td>0.8358900 </td></tr>\n",
       "\t<tr><th scope=row>561469</th><td>rs4894803 </td><td>0.8099198 </td><td>0         </td><td>1         </td><td>1         </td><td>1         </td><td>0.831955  </td><td>0.973514  </td><td>1         </td><td>1.000000  </td><td>0.8319550 </td></tr>\n",
       "\t<tr><th scope=row>354777</th><td>rs17304212</td><td>0.5882360 </td><td>0         </td><td>0         </td><td>0         </td><td>0         </td><td>0.588236  </td><td>1.000000  </td><td>0         </td><td>1.000000  </td><td>0.5882360 </td></tr>\n",
       "\t<tr><th scope=row>450518</th><td>rs6801957 </td><td>0.3512142 </td><td>1         </td><td>1         </td><td>1         </td><td>1         </td><td>0.570976  </td><td>0.615112  </td><td>1         </td><td>1.000000  </td><td>0.5709760 </td></tr>\n",
       "\t<tr><th scope=row>1184772</th><td>rs13245899</td><td>0.5444290 </td><td>0         </td><td>0         </td><td>0         </td><td>0         </td><td>0.544429  </td><td>1.000000  </td><td>1         </td><td>1.000000  </td><td>0.5444290 </td></tr>\n",
       "\t<tr><th scope=row>824953</th><td>rs176107  </td><td>0.5295381 </td><td>1         </td><td>1         </td><td>1         </td><td>1         </td><td>0.713870  </td><td>0.741785  </td><td>0         </td><td>0.741785  </td><td>0.5295381 </td></tr>\n",
       "\t<tr><th scope=row>2121736</th><td>rs7172038 </td><td>0.4732810 </td><td>0         </td><td>1         </td><td>1         </td><td>1         </td><td>0.473281  </td><td>1.000000  </td><td>1         </td><td>1.000000  </td><td>0.4732810 </td></tr>\n",
       "\t<tr><th scope=row>1696227</th><td>rs174549  </td><td>0.4609401 </td><td>0         </td><td>0         </td><td>0         </td><td>0         </td><td>0.460941  </td><td>0.999998  </td><td>1         </td><td>1.000000  </td><td>0.4609410 </td></tr>\n",
       "\t<tr><th scope=row>1036578</th><td>rs1413845 </td><td>0.4438096 </td><td>0         </td><td>0         </td><td>0         </td><td>0         </td><td>0.471123  </td><td>0.942025  </td><td>0         </td><td>0.942025  </td><td>0.4438096 </td></tr>\n",
       "\t<tr><th scope=row>1791303</th><td>rs17287293</td><td>0.4213455 </td><td>0         </td><td>0         </td><td>0         </td><td>0         </td><td>0.421348  </td><td>0.999994  </td><td>1         </td><td>1.000000  </td><td>0.4213480 </td></tr>\n",
       "\t<tr><th scope=row>354780</th><td>rs17225700</td><td>0.4117640 </td><td>0         </td><td>0         </td><td>0         </td><td>0         </td><td>0.411764  </td><td>1.000000  </td><td>0         </td><td>1.000000  </td><td>0.4117640 </td></tr>\n",
       "\t<tr><th scope=row>648600</th><td>rs3943037 </td><td>0.4077468 </td><td>1         </td><td>1         </td><td>1         </td><td>1         </td><td>0.612351  </td><td>0.665871  </td><td>0         </td><td>0.665871  </td><td>0.4077468 </td></tr>\n",
       "\t<tr><th scope=row>1117728</th><td>rs6942457 </td><td>0.3969675 </td><td>1         </td><td>1         </td><td>1         </td><td>1         </td><td>0.558143  </td><td>0.711229  </td><td>0         </td><td>0.711229  </td><td>0.3969675 </td></tr>\n",
       "\t<tr><th scope=row>40091</th><td>rs2819483 </td><td>0.3240479 </td><td>0         </td><td>1         </td><td>1         </td><td>1         </td><td>0.505954  </td><td>0.640469  </td><td>0         </td><td>0.640469  </td><td>0.3240479 </td></tr>\n",
       "\t<tr><th scope=row>1430052</th><td>rs12345385</td><td>0.3170011 </td><td>0         </td><td>0         </td><td>0         </td><td>0         </td><td>0.472671  </td><td>0.670659  </td><td>0         </td><td>0.670659  </td><td>0.3170011 </td></tr>\n",
       "\t<tr><th scope=row>459436</th><td>rs4687576 </td><td>0.3151547 </td><td>0         </td><td>0         </td><td>1         </td><td>0         </td><td>0.315892  </td><td>0.997666  </td><td>0         </td><td>0.997666  </td><td>0.3151547 </td></tr>\n",
       "</tbody>\n",
       "</table>\n"
      ],
      "text/latex": [
       "\\begin{tabular}{r|lllllllllll}\n",
       "  & id & PPA & NKX25.ASE & NKX25 & H3K27AC & ATAC & PPA.x & PPA.y & known\\_locus & PPA\\_locus & PPA\\_adj\\\\\n",
       "\\hline\n",
       "\t568280 & rs7612445  & 0.9760756  & 1          & 1          & 0          & 0          & 0.981160   & 0.994818   & 1          & 1.000000   & 0.9811600 \\\\\n",
       "\t2164555 & rs8044595  & 0.8929185  & 1          & 1          & 1          & 1          & 0.938994   & 0.950931   & 1          & 1.000000   & 0.9389940 \\\\\n",
       "\t1997938 & rs365990   & 0.9230210  & 0          & 0          & 1          & 0          & 0.923021   & 1.000000   & 1          & 1.000000   & 0.9230210 \\\\\n",
       "\t355112 & rs17362588 & 0.9070130  & 0          & 0          & 0          & 0          & 0.907013   & 1.000000   & 1          & 1.000000   & 0.9070130 \\\\\n",
       "\t1870136 & rs6606689  & 0.8590870  & 1          & 1          & 1          & 1          & 0.880833   & 0.975312   & 0          & 0.975312   & 0.8590870 \\\\\n",
       "\t1036758 & rs11153730 & 0.8358900  & 0          & 0          & 0          & 0          & 0.835890   & 1.000000   & 1          & 1.000000   & 0.8358900 \\\\\n",
       "\t561469 & rs4894803  & 0.8099198  & 0          & 1          & 1          & 1          & 0.831955   & 0.973514   & 1          & 1.000000   & 0.8319550 \\\\\n",
       "\t354777 & rs17304212 & 0.5882360  & 0          & 0          & 0          & 0          & 0.588236   & 1.000000   & 0          & 1.000000   & 0.5882360 \\\\\n",
       "\t450518 & rs6801957  & 0.3512142  & 1          & 1          & 1          & 1          & 0.570976   & 0.615112   & 1          & 1.000000   & 0.5709760 \\\\\n",
       "\t1184772 & rs13245899 & 0.5444290  & 0          & 0          & 0          & 0          & 0.544429   & 1.000000   & 1          & 1.000000   & 0.5444290 \\\\\n",
       "\t824953 & rs176107   & 0.5295381  & 1          & 1          & 1          & 1          & 0.713870   & 0.741785   & 0          & 0.741785   & 0.5295381 \\\\\n",
       "\t2121736 & rs7172038  & 0.4732810  & 0          & 1          & 1          & 1          & 0.473281   & 1.000000   & 1          & 1.000000   & 0.4732810 \\\\\n",
       "\t1696227 & rs174549   & 0.4609401  & 0          & 0          & 0          & 0          & 0.460941   & 0.999998   & 1          & 1.000000   & 0.4609410 \\\\\n",
       "\t1036578 & rs1413845  & 0.4438096  & 0          & 0          & 0          & 0          & 0.471123   & 0.942025   & 0          & 0.942025   & 0.4438096 \\\\\n",
       "\t1791303 & rs17287293 & 0.4213455  & 0          & 0          & 0          & 0          & 0.421348   & 0.999994   & 1          & 1.000000   & 0.4213480 \\\\\n",
       "\t354780 & rs17225700 & 0.4117640  & 0          & 0          & 0          & 0          & 0.411764   & 1.000000   & 0          & 1.000000   & 0.4117640 \\\\\n",
       "\t648600 & rs3943037  & 0.4077468  & 1          & 1          & 1          & 1          & 0.612351   & 0.665871   & 0          & 0.665871   & 0.4077468 \\\\\n",
       "\t1117728 & rs6942457  & 0.3969675  & 1          & 1          & 1          & 1          & 0.558143   & 0.711229   & 0          & 0.711229   & 0.3969675 \\\\\n",
       "\t40091 & rs2819483  & 0.3240479  & 0          & 1          & 1          & 1          & 0.505954   & 0.640469   & 0          & 0.640469   & 0.3240479 \\\\\n",
       "\t1430052 & rs12345385 & 0.3170011  & 0          & 0          & 0          & 0          & 0.472671   & 0.670659   & 0          & 0.670659   & 0.3170011 \\\\\n",
       "\t459436 & rs4687576  & 0.3151547  & 0          & 0          & 1          & 0          & 0.315892   & 0.997666   & 0          & 0.997666   & 0.3151547 \\\\\n",
       "\\end{tabular}\n"
      ],
      "text/plain": [
       "        id         PPA       NKX25.ASE NKX25 H3K27AC ATAC PPA.x    PPA.y   \n",
       "568280  rs7612445  0.9760756 1         1     0       0    0.981160 0.994818\n",
       "2164555 rs8044595  0.8929185 1         1     1       1    0.938994 0.950931\n",
       "1997938 rs365990   0.9230210 0         0     1       0    0.923021 1.000000\n",
       "355112  rs17362588 0.9070130 0         0     0       0    0.907013 1.000000\n",
       "1870136 rs6606689  0.8590870 1         1     1       1    0.880833 0.975312\n",
       "1036758 rs11153730 0.8358900 0         0     0       0    0.835890 1.000000\n",
       "561469  rs4894803  0.8099198 0         1     1       1    0.831955 0.973514\n",
       "354777  rs17304212 0.5882360 0         0     0       0    0.588236 1.000000\n",
       "450518  rs6801957  0.3512142 1         1     1       1    0.570976 0.615112\n",
       "1184772 rs13245899 0.5444290 0         0     0       0    0.544429 1.000000\n",
       "824953  rs176107   0.5295381 1         1     1       1    0.713870 0.741785\n",
       "2121736 rs7172038  0.4732810 0         1     1       1    0.473281 1.000000\n",
       "1696227 rs174549   0.4609401 0         0     0       0    0.460941 0.999998\n",
       "1036578 rs1413845  0.4438096 0         0     0       0    0.471123 0.942025\n",
       "1791303 rs17287293 0.4213455 0         0     0       0    0.421348 0.999994\n",
       "354780  rs17225700 0.4117640 0         0     0       0    0.411764 1.000000\n",
       "648600  rs3943037  0.4077468 1         1     1       1    0.612351 0.665871\n",
       "1117728 rs6942457  0.3969675 1         1     1       1    0.558143 0.711229\n",
       "40091   rs2819483  0.3240479 0         1     1       1    0.505954 0.640469\n",
       "1430052 rs12345385 0.3170011 0         0     0       0    0.472671 0.670659\n",
       "459436  rs4687576  0.3151547 0         0     1       0    0.315892 0.997666\n",
       "        known_locus PPA_locus PPA_adj  \n",
       "568280  1           1.000000  0.9811600\n",
       "2164555 1           1.000000  0.9389940\n",
       "1997938 1           1.000000  0.9230210\n",
       "355112  1           1.000000  0.9070130\n",
       "1870136 0           0.975312  0.8590870\n",
       "1036758 1           1.000000  0.8358900\n",
       "561469  1           1.000000  0.8319550\n",
       "354777  0           1.000000  0.5882360\n",
       "450518  1           1.000000  0.5709760\n",
       "1184772 1           1.000000  0.5444290\n",
       "824953  0           0.741785  0.5295381\n",
       "2121736 1           1.000000  0.4732810\n",
       "1696227 1           1.000000  0.4609410\n",
       "1036578 0           0.942025  0.4438096\n",
       "1791303 1           1.000000  0.4213480\n",
       "354780  0           1.000000  0.4117640\n",
       "648600  0           0.665871  0.4077468\n",
       "1117728 0           0.711229  0.3969675\n",
       "40091   0           0.640469  0.3240479\n",
       "1430052 0           0.670659  0.3170011\n",
       "459436  0           0.997666  0.3151547"
      ]
     },
     "metadata": {},
     "output_type": "display_data"
    }
   ],
   "source": [
    "seg"
   ]
  },
  {
   "cell_type": "code",
   "execution_count": 32,
   "metadata": {
    "collapsed": true
   },
   "outputs": [],
   "source": [
    "gwas = read.table(\"/publicdata/gwas_summary_stats_20180124/denHoed/rsid_pval.txt\", header=T, sep=\"\\t\")"
   ]
  },
  {
   "cell_type": "code",
   "execution_count": 33,
   "metadata": {
    "collapsed": true
   },
   "outputs": [],
   "source": [
    "# cutoff 0.5\n",
    "mat = seg[1:11, c('id',  'PPA_adj','NKX25.ASE','NKX25','H3K27AC','ATAC')]"
   ]
  },
  {
   "cell_type": "code",
   "execution_count": 54,
   "metadata": {
    "collapsed": true
   },
   "outputs": [],
   "source": [
    "# cutoff 0.3\n",
    "mat = seg[, c('id',  'PPA_adj','NKX25.ASE','NKX25','H3K27AC','ATAC')]"
   ]
  },
  {
   "cell_type": "code",
   "execution_count": 58,
   "metadata": {
    "collapsed": true
   },
   "outputs": [],
   "source": [
    "mat$GWAS_locus_this = mat$id %in% gwas$rsid[gwas$P_VALUE<1e-5]\n",
    "mat$GWAS_other = seg[1:nrow(mat), \"known_locus\"]\n",
    "\n",
    "mat2 = mat[,2:length(mat)]\n",
    "rownames(mat2)=mat$id\n",
    "\n",
    "lab = mat2\n",
    "lab[, 2:length(mat2)]<-NA\n",
    "lab[,1]<-round(lab[,1],2)\n",
    "\n",
    "suppressPackageStartupMessages(library(RColorBrewer))\n",
    "cols = brewer.pal(9, \"Reds\")[2:8]\n",
    "\n",
    "breaks=seq(0.5, 1.1, by=0.1) # cutoff 0.5\n",
    "breaks=seq(0.3, 1.1, by=0.1) # cutoff 0.3\n",
    "\n",
    "my_palette = c(colorRampPalette(cols)(length(breaks)-2), \"deepskyblue3\")"
   ]
  },
  {
   "cell_type": "code",
   "execution_count": 59,
   "metadata": {
    "collapsed": true
   },
   "outputs": [],
   "source": [
    "mat2[mat2==0]<- NA\n",
    "mat2[mat2==TRUE]<- 1\n",
    "mat2[mat2==1]<- 2"
   ]
  },
  {
   "cell_type": "code",
   "execution_count": 53,
   "metadata": {
    "collapsed": false
   },
   "outputs": [
    {
     "name": "stderr",
     "output_type": "stream",
     "text": [
      "Warning message in heatmap.2(as.matrix(mat2), Colv = F, Rowv = F, srtRow = 0, srtCol = 45, :\n",
      "“Discrepancy: Rowv is FALSE, while dendrogram is `both'. Omitting row dendogram.”Warning message in heatmap.2(as.matrix(mat2), Colv = F, Rowv = F, srtRow = 0, srtCol = 45, :\n",
      "“Discrepancy: Colv is FALSE, while dendrogram is `column'. Omitting column dendogram.”"
     ]
    },
    {
     "data": {
      "text/html": [
       "<strong>png:</strong> 2"
      ],
      "text/latex": [
       "\\textbf{png:} 2"
      ],
      "text/markdown": [
       "**png:** 2"
      ],
      "text/plain": [
       "png \n",
       "  2 "
      ]
     },
     "metadata": {},
     "output_type": "display_data"
    }
   ],
   "source": [
    "pdf('/frazer01/home/paola/Family1070/private_output/Fgwas/Table_snps_fgwas_cutoff_0.5.pdf')\n",
    "heatmap.2(as.matrix(mat2), \n",
    "         Colv=F,Rowv=F, srtRow=0, srtCol=45, offsetRow=-1, offsetCol=-0.5,\n",
    "          keysize=1, margins =c(23,25), trace=\"none\",key.title=\"OR\", tracecol=NA,\n",
    "          cexRow=1, cexCol=1, na.color=\"white\", col=my_palette, breaks=breaks, cellnote=lab, notecex=0.8)\n",
    "dev.off()"
   ]
  },
  {
   "cell_type": "code",
   "execution_count": 61,
   "metadata": {
    "collapsed": false
   },
   "outputs": [
    {
     "name": "stderr",
     "output_type": "stream",
     "text": [
      "Warning message in heatmap.2(as.matrix(mat2), Colv = F, Rowv = F, srtRow = 0, srtCol = 45, :\n",
      "“Discrepancy: Rowv is FALSE, while dendrogram is `both'. Omitting row dendogram.”Warning message in heatmap.2(as.matrix(mat2), Colv = F, Rowv = F, srtRow = 0, srtCol = 45, :\n",
      "“Discrepancy: Colv is FALSE, while dendrogram is `column'. Omitting column dendogram.”"
     ]
    },
    {
     "data": {
      "text/html": [
       "<strong>png:</strong> 2"
      ],
      "text/latex": [
       "\\textbf{png:} 2"
      ],
      "text/markdown": [
       "**png:** 2"
      ],
      "text/plain": [
       "png \n",
       "  2 "
      ]
     },
     "metadata": {},
     "output_type": "display_data"
    }
   ],
   "source": [
    "pdf('/frazer01/home/paola/Family1070/private_output/Fgwas/Table_snps_fgwas_cutoff_0.3.pdf')\n",
    "heatmap.2(as.matrix(mat2), \n",
    "         Colv=F,Rowv=F, srtRow=0, srtCol=45, offsetRow=-1, offsetCol=-0.5,\n",
    "          keysize=1, margins =c(20,25), trace=\"none\",key.title=\"OR\", tracecol=NA,\n",
    "          cexRow=1, cexCol=1, na.color=\"white\", col=my_palette, breaks=breaks, cellnote=lab, notecex=0.8)\n",
    "dev.off()"
   ]
  },
  {
   "cell_type": "markdown",
   "metadata": {},
   "source": [
    "### Forest plot of the parametes aenriched"
   ]
  },
  {
   "cell_type": "code",
   "execution_count": 59,
   "metadata": {
    "collapsed": true
   },
   "outputs": [],
   "source": [
    "# params = read.table('/home/bill/paola-heart-finemapping/Data/Optimize_Model_ASE/No_Marks_Removed/No_Marks_Removed.params', \n",
    "#                     header=T, stringsAsFactors=F)"
   ]
  },
  {
   "cell_type": "code",
   "execution_count": 120,
   "metadata": {
    "collapsed": true
   },
   "outputs": [],
   "source": [
    "params = read.table('/frazer01/home/paola/Family1070/private_output/Fgwas/parameters', \n",
    "                    header=T, stringsAsFactors=F) "
   ]
  },
  {
   "cell_type": "code",
   "execution_count": 121,
   "metadata": {
    "collapsed": false
   },
   "outputs": [],
   "source": [
    "params = params[-1,]\n",
    "params = params[c(1,2,3,5,4),]"
   ]
  },
  {
   "cell_type": "code",
   "execution_count": 127,
   "metadata": {
    "collapsed": true
   },
   "outputs": [],
   "source": [
    "#manually change the numbers to min max 8\n",
    "params[5, 2]<- -6\n",
    "params[5, 3]<- -5.9"
   ]
  },
  {
   "cell_type": "code",
   "execution_count": 124,
   "metadata": {
    "collapsed": false
   },
   "outputs": [
    {
     "data": {
      "text/html": [
       "<table>\n",
       "<thead><tr><th></th><th scope=col>parameter</th><th scope=col>CI_lo</th><th scope=col>estimate</th><th scope=col>CI_hi</th></tr></thead>\n",
       "<tbody>\n",
       "\t<tr><th scope=row>2</th><td>NKX25-ASE_ln  </td><td> 2.084570     </td><td> 3.5021400    </td><td>4.56848       </td></tr>\n",
       "\t<tr><th scope=row>3</th><td>H3K27AC_ln    </td><td> 0.729732     </td><td> 1.7651100    </td><td>2.69017       </td></tr>\n",
       "\t<tr><th scope=row>4</th><td>NKX25_ln      </td><td>-0.599693     </td><td> 0.6887870    </td><td>1.64637       </td></tr>\n",
       "\t<tr><th scope=row>6</th><td>ATAC_ln       </td><td>-1.513650     </td><td> 0.0770625    </td><td>1.15726       </td></tr>\n",
       "\t<tr><th scope=row>5</th><td>H3K27AC-ASE_ln</td><td>-8.000000     </td><td>-7.9000000    </td><td>3.87346       </td></tr>\n",
       "</tbody>\n",
       "</table>\n"
      ],
      "text/latex": [
       "\\begin{tabular}{r|llll}\n",
       "  & parameter & CI\\_lo & estimate & CI\\_hi\\\\\n",
       "\\hline\n",
       "\t2 & NKX25-ASE\\_ln   &  2.084570        &  3.5021400       & 4.56848         \\\\\n",
       "\t3 & H3K27AC\\_ln     &  0.729732        &  1.7651100       & 2.69017         \\\\\n",
       "\t4 & NKX25\\_ln       & -0.599693        &  0.6887870       & 1.64637         \\\\\n",
       "\t6 & ATAC\\_ln        & -1.513650        &  0.0770625       & 1.15726         \\\\\n",
       "\t5 & H3K27AC-ASE\\_ln & -8.000000        & -7.9000000       & 3.87346         \\\\\n",
       "\\end{tabular}\n"
      ],
      "text/plain": [
       "  parameter      CI_lo     estimate   CI_hi  \n",
       "2 NKX25-ASE_ln    2.084570  3.5021400 4.56848\n",
       "3 H3K27AC_ln      0.729732  1.7651100 2.69017\n",
       "4 NKX25_ln       -0.599693  0.6887870 1.64637\n",
       "6 ATAC_ln        -1.513650  0.0770625 1.15726\n",
       "5 H3K27AC-ASE_ln -8.000000 -7.9000000 3.87346"
      ]
     },
     "metadata": {},
     "output_type": "display_data"
    }
   ],
   "source": [
    "params"
   ]
  },
  {
   "cell_type": "code",
   "execution_count": 159,
   "metadata": {
    "collapsed": false
   },
   "outputs": [
    {
     "data": {
      "text/html": [
       "<strong>png:</strong> 2"
      ],
      "text/latex": [
       "\\textbf{png:} 2"
      ],
      "text/markdown": [
       "**png:** 2"
      ],
      "text/plain": [
       "png \n",
       "  2 "
      ]
     },
     "metadata": {},
     "output_type": "display_data"
    }
   ],
   "source": [
    "#options(warn=-1)\n",
    "pdf('/frazer01/home/paola/Family1070/private_output/Fgwas/Enrichment_fgwas.pdf')\n",
    "colors=c(rep(\"red\",2), rep(\"black\",3))\n",
    "par(mfrow=c(2,2), pin=c(1.5,2), las=1)\n",
    "plotCI(x=params$estimate,y=5:1,ui=params$CI_hi, li=params$CI_lo, err=\"x\", xlim=c(-6,+6),\n",
    "       scol=colors, col=colors,pch=19, cex=1.2,lwd=2,\n",
    "  sfrac=0,gap=0,slty=par(\"lty\"),add=FALSE, xlab=\"ln(Enrichment)\" , axes=FALSE, ylab=\"\")\n",
    "axis(side=2, at=5:1, label=params$parameter)         \n",
    "axis(side=1, at=-6:6 , label=-6:6)\n",
    "box()\n",
    "grid()\n",
    "abline(v=0, lwd=1, lty=2, col=\"red\")\n",
    "options(warn=0)\n",
    "dev.off()"
   ]
  },
  {
   "cell_type": "code",
   "execution_count": 15,
   "metadata": {
    "collapsed": true
   },
   "outputs": [],
   "source": [
    "chunk = subset(res,chunk==505 )"
   ]
  },
  {
   "cell_type": "code",
   "execution_count": 16,
   "metadata": {
    "collapsed": false
   },
   "outputs": [
    {
     "data": {
      "text/html": [
       "<ol class=list-inline>\n",
       "\t<li>896</li>\n",
       "\t<li>16</li>\n",
       "</ol>\n"
      ],
      "text/latex": [
       "\\begin{enumerate*}\n",
       "\\item 896\n",
       "\\item 16\n",
       "\\end{enumerate*}\n"
      ],
      "text/markdown": [
       "1. 896\n",
       "2. 16\n",
       "\n",
       "\n"
      ],
      "text/plain": [
       "[1] 896  16"
      ]
     },
     "metadata": {},
     "output_type": "display_data"
    }
   ],
   "source": [
    "dim(chunk)"
   ]
  },
  {
   "cell_type": "code",
   "execution_count": 17,
   "metadata": {
    "collapsed": true
   },
   "outputs": [],
   "source": [
    "chunk = chunk[order(chunk$PPA, decreasing=T),]"
   ]
  },
  {
   "cell_type": "code",
   "execution_count": 18,
   "metadata": {
    "collapsed": false
   },
   "outputs": [
    {
     "data": {
      "text/html": [
       "<table>\n",
       "<thead><tr><th></th><th scope=col>id</th><th scope=col>chr</th><th scope=col>pos</th><th scope=col>logBF</th><th scope=col>Z</th><th scope=col>V</th><th scope=col>pi</th><th scope=col>pseudologPO</th><th scope=col>pseudoPPA</th><th scope=col>PPA</th><th scope=col>chunk</th><th scope=col>NKX25.ASE</th><th scope=col>H3K27AC</th><th scope=col>NKX25</th><th scope=col>H3K27AC.ASE</th><th scope=col>ATAC</th></tr></thead>\n",
       "<tbody>\n",
       "\t<tr><th scope=row>450518</th><td>rs6801957 </td><td>3         </td><td>38767315  </td><td>4.22224   </td><td>-3.59038  </td><td>0.00270400</td><td>-1.40103  </td><td> 0.329954 </td><td>0.58174800</td><td>0.57097600</td><td>505       </td><td>1         </td><td>1         </td><td>1         </td><td>0         </td><td>1         </td></tr>\n",
       "\t<tr><th scope=row>450515</th><td>rs6795970 </td><td>3         </td><td>38766675  </td><td>3.81618   </td><td>-3.46374  </td><td>0.00274576</td><td>-5.84433  </td><td>-4.539370 </td><td>0.01056730</td><td>0.00447267</td><td>505       </td><td>0         </td><td>1         </td><td>0         </td><td>0         </td><td>0         </td></tr>\n",
       "\t<tr><th scope=row>450520</th><td>rs7433306 </td><td>3         </td><td>38770639  </td><td>5.12283   </td><td>-3.85433  </td><td>0.00258064</td><td>-7.33938  </td><td>-4.727950 </td><td>0.00876707</td><td>0.00370464</td><td>505       </td><td>0         </td><td>0         </td><td>0         </td><td>0         </td><td>0         </td></tr>\n",
       "\t<tr><th scope=row>450524</th><td>rs6800541 </td><td>3         </td><td>38774832  </td><td>5.02914   </td><td> 3.82772  </td><td>0.00255025</td><td>-7.33938  </td><td>-4.821630 </td><td>0.00798928</td><td>0.00337333</td><td>505       </td><td>0         </td><td>0         </td><td>0         </td><td>0         </td><td>0         </td></tr>\n",
       "\t<tr><th scope=row>450528</th><td>rs6599250 </td><td>3         </td><td>38784029  </td><td>4.46456   </td><td>-3.66337  </td><td>0.00255025</td><td>-7.33938  </td><td>-5.386210 </td><td>0.00455841</td><td>0.00191807</td><td>505       </td><td>0         </td><td>0         </td><td>0         </td><td>0         </td><td>0         </td></tr>\n",
       "\t<tr><th scope=row>450529</th><td>rs6599251 </td><td>3         </td><td>38785809  </td><td>4.24911   </td><td> 3.59841  </td><td>0.00253009</td><td>-7.33938  </td><td>-5.601670 </td><td>0.00367812</td><td>0.00154630</td><td>505       </td><td>0         </td><td>0         </td><td>0         </td><td>0         </td><td>0         </td></tr>\n",
       "</tbody>\n",
       "</table>\n"
      ],
      "text/latex": [
       "\\begin{tabular}{r|llllllllllllllll}\n",
       "  & id & chr & pos & logBF & Z & V & pi & pseudologPO & pseudoPPA & PPA & chunk & NKX25.ASE & H3K27AC & NKX25 & H3K27AC.ASE & ATAC\\\\\n",
       "\\hline\n",
       "\t450518 & rs6801957  & 3          & 38767315   & 4.22224    & -3.59038   & 0.00270400 & -1.40103   &  0.329954  & 0.58174800 & 0.57097600 & 505        & 1          & 1          & 1          & 0          & 1         \\\\\n",
       "\t450515 & rs6795970  & 3          & 38766675   & 3.81618    & -3.46374   & 0.00274576 & -5.84433   & -4.539370  & 0.01056730 & 0.00447267 & 505        & 0          & 1          & 0          & 0          & 0         \\\\\n",
       "\t450520 & rs7433306  & 3          & 38770639   & 5.12283    & -3.85433   & 0.00258064 & -7.33938   & -4.727950  & 0.00876707 & 0.00370464 & 505        & 0          & 0          & 0          & 0          & 0         \\\\\n",
       "\t450524 & rs6800541  & 3          & 38774832   & 5.02914    &  3.82772   & 0.00255025 & -7.33938   & -4.821630  & 0.00798928 & 0.00337333 & 505        & 0          & 0          & 0          & 0          & 0         \\\\\n",
       "\t450528 & rs6599250  & 3          & 38784029   & 4.46456    & -3.66337   & 0.00255025 & -7.33938   & -5.386210  & 0.00455841 & 0.00191807 & 505        & 0          & 0          & 0          & 0          & 0         \\\\\n",
       "\t450529 & rs6599251  & 3          & 38785809   & 4.24911    &  3.59841   & 0.00253009 & -7.33938   & -5.601670  & 0.00367812 & 0.00154630 & 505        & 0          & 0          & 0          & 0          & 0         \\\\\n",
       "\\end{tabular}\n"
      ],
      "text/plain": [
       "       id        chr pos      logBF   Z        V          pi       pseudologPO\n",
       "450518 rs6801957 3   38767315 4.22224 -3.59038 0.00270400 -1.40103  0.329954  \n",
       "450515 rs6795970 3   38766675 3.81618 -3.46374 0.00274576 -5.84433 -4.539370  \n",
       "450520 rs7433306 3   38770639 5.12283 -3.85433 0.00258064 -7.33938 -4.727950  \n",
       "450524 rs6800541 3   38774832 5.02914  3.82772 0.00255025 -7.33938 -4.821630  \n",
       "450528 rs6599250 3   38784029 4.46456 -3.66337 0.00255025 -7.33938 -5.386210  \n",
       "450529 rs6599251 3   38785809 4.24911  3.59841 0.00253009 -7.33938 -5.601670  \n",
       "       pseudoPPA  PPA        chunk NKX25.ASE H3K27AC NKX25 H3K27AC.ASE ATAC\n",
       "450518 0.58174800 0.57097600 505   1         1       1     0           1   \n",
       "450515 0.01056730 0.00447267 505   0         1       0     0           0   \n",
       "450520 0.00876707 0.00370464 505   0         0       0     0           0   \n",
       "450524 0.00798928 0.00337333 505   0         0       0     0           0   \n",
       "450528 0.00455841 0.00191807 505   0         0       0     0           0   \n",
       "450529 0.00367812 0.00154630 505   0         0       0     0           0   "
      ]
     },
     "metadata": {},
     "output_type": "display_data"
    }
   ],
   "source": [
    "head(chunk)"
   ]
  },
  {
   "cell_type": "markdown",
   "metadata": {},
   "source": [
    "### Not corrected heatmap "
   ]
  },
  {
   "cell_type": "code",
   "execution_count": 241,
   "metadata": {
    "collapsed": false
   },
   "outputs": [],
   "source": [
    "mat = res[1:14, c('id',  'PPA','NKX25.ASE','NKX25','H3K27AC','ATAC')]"
   ]
  },
  {
   "cell_type": "code",
   "execution_count": 163,
   "metadata": {
    "collapsed": true
   },
   "outputs": [],
   "source": [
    "gwas = read.table(\"/publicdata/gwas_summary_stats_20180124/denHoed/rsid_pval.txt\", header=T, sep=\"\\t\")"
   ]
  },
  {
   "cell_type": "code",
   "execution_count": 244,
   "metadata": {
    "collapsed": true
   },
   "outputs": [],
   "source": [
    "mat$GWAS_locus_this = mat$id %in% gwas$rsid[gwas$P_VALUE<1e-5]\n",
    "mat$GWAS_locus_other = c(TRUE, TRUE, TRUE, )\n",
    "\n",
    "mat2 = mat[,2:length(mat)]\n",
    "rownames(mat2)=mat$id\n",
    "\n",
    "lab = mat2\n",
    "lab[, 2:length(mat2)]<-NA\n",
    "lab[,1]<-round(lab[,1],2)\n",
    "\n",
    "suppressPackageStartupMessages(library(RColorBrewer))\n",
    "cols = brewer.pal(9, \"Reds\")\n",
    "\n",
    "breaks=seq(0.5, 1.1, by=0.1) \n",
    "my_palette = c(colorRampPalette(cols)(length(breaks)-2), \"orange\")"
   ]
  },
  {
   "cell_type": "code",
   "execution_count": 223,
   "metadata": {
    "collapsed": false
   },
   "outputs": [],
   "source": [
    "mat2[mat2==0]<- NA\n",
    "mat2[mat2==TRUE]<- 1\n",
    "mat2[mat2==1]<- 2"
   ]
  },
  {
   "cell_type": "code",
   "execution_count": 229,
   "metadata": {
    "collapsed": false
   },
   "outputs": [
    {
     "name": "stderr",
     "output_type": "stream",
     "text": [
      "Warning message in heatmap.2(as.matrix(mat2), Colv = F, Rowv = F, srtRow = 0, srtCol = 45, :\n",
      "“Discrepancy: Rowv is FALSE, while dendrogram is `both'. Omitting row dendogram.”Warning message in heatmap.2(as.matrix(mat2), Colv = F, Rowv = F, srtRow = 0, srtCol = 45, :\n",
      "“Discrepancy: Colv is FALSE, while dendrogram is `column'. Omitting column dendogram.”"
     ]
    },
    {
     "data": {
      "text/html": [
       "<strong>png:</strong> 2"
      ],
      "text/latex": [
       "\\textbf{png:} 2"
      ],
      "text/markdown": [
       "**png:** 2"
      ],
      "text/plain": [
       "png \n",
       "  2 "
      ]
     },
     "metadata": {},
     "output_type": "display_data"
    }
   ],
   "source": [
    "pdf('/frazer01/home/paola/Family1070/private_output/Fgwas/Table_snps_fgwas.pdf')\n",
    "heatmap.2(as.matrix(mat2), \n",
    "         Colv=F,Rowv=F, srtRow=0, srtCol=45, offsetRow=-1, offsetCol=-0.5,\n",
    "          keysize=1, margins =c(21,25), trace=\"none\",key.title=\"OR\", tracecol=NA,\n",
    "         sepwidth=c(0.0005,0.0005),sepcolor=\"black\",colsep=0:nrow(mat2),rowsep=0:nrow(mat2),\n",
    "          cexRow=1, cexCol=1, na.color=\"white\", col=my_palette, breaks=breaks, cellnote=lab, notecex=0.8)\n",
    "dev.off()"
   ]
  },
  {
   "cell_type": "code",
   "execution_count": 220,
   "metadata": {
    "collapsed": false
   },
   "outputs": [
    {
     "data": {
      "text/html": [
       "<ol class=list-inline>\n",
       "\t<li>0.5</li>\n",
       "\t<li>0.6</li>\n",
       "\t<li>0.7</li>\n",
       "\t<li>0.8</li>\n",
       "\t<li>0.9</li>\n",
       "\t<li>1</li>\n",
       "\t<li>1.1</li>\n",
       "</ol>\n"
      ],
      "text/latex": [
       "\\begin{enumerate*}\n",
       "\\item 0.5\n",
       "\\item 0.6\n",
       "\\item 0.7\n",
       "\\item 0.8\n",
       "\\item 0.9\n",
       "\\item 1\n",
       "\\item 1.1\n",
       "\\end{enumerate*}\n"
      ],
      "text/markdown": [
       "1. 0.5\n",
       "2. 0.6\n",
       "3. 0.7\n",
       "4. 0.8\n",
       "5. 0.9\n",
       "6. 1\n",
       "7. 1.1\n",
       "\n",
       "\n"
      ],
      "text/plain": [
       "[1] 0.5 0.6 0.7 0.8 0.9 1.0 1.1"
      ]
     },
     "metadata": {},
     "output_type": "display_data"
    }
   ],
   "source": [
    "breaks"
   ]
  },
  {
   "cell_type": "code",
   "execution_count": null,
   "metadata": {
    "collapsed": true
   },
   "outputs": [],
   "source": []
  }
 ],
 "metadata": {
  "kernelspec": {
   "display_name": "R",
   "language": "R",
   "name": "ir"
  },
  "language_info": {
   "codemirror_mode": "r",
   "file_extension": ".r",
   "mimetype": "text/x-r-source",
   "name": "R",
   "pygments_lexer": "r",
   "version": "3.2.2"
  }
 },
 "nbformat": 4,
 "nbformat_minor": 0
}
