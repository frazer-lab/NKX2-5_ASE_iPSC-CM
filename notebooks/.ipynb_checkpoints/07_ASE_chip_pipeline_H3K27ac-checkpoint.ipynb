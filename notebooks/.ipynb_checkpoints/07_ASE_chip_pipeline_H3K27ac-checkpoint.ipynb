{
 "cells": [
  {
   "cell_type": "code",
   "execution_count": 1,
   "metadata": {},
   "outputs": [
    {
     "name": "stderr",
     "output_type": "stream",
     "text": [
      "Warning message in dir.create(\"H3K27AC\"):\n",
      "“'H3K27AC' already exists”"
     ]
    }
   ],
   "source": [
    "setwd(\"/home/paola/Family1070/private_output/ASE_chip/pipeline/\")\n",
    "dir.create(\"H3K27AC\")\n",
    "home = \"/home/paola/Family1070/private_output/ASE_chip/pipeline/H3K27AC\"\n",
    "setwd(home)\n",
    "\n",
    "source(\"/frazer01/home/matteo/my_software/cardips_functions.R\") \n",
    "source(\"/frazer01/home/paola/my_software/ase_pipeline_functions.R\")    \n",
    "\n",
    "chips_pipeline_dir_sample = \"/frazer01/projects/CARDIPS/pipeline/ChIPseq/sample\""
   ]
  },
  {
   "cell_type": "code",
   "execution_count": 2,
   "metadata": {
    "scrolled": true
   },
   "outputs": [],
   "source": [
    "sample_table = read.csv(\"/home/paola/Family1070/private_output/PCA_chipseq/fam1070_data_plus_production-1.csv\", stringsAsFactors = FALSE) \n",
    "sample_table= subset(sample_table, Data_type==\"ChIP-Seq H3K27ac\")\n",
    "sample_table= subset(sample_table, Subject!=\"Pool\")\n",
    "sample_table$Tissue = sample_table$Cell_type\n",
    "sample_table$subject = sample_table$Subject\n"
   ]
  },
  {
   "cell_type": "code",
   "execution_count": 3,
   "metadata": {},
   "outputs": [
    {
     "data": {
      "text/plain": [
       "                  \n",
       "                   iPSC iPSC-CM\n",
       "  ChIP-Seq H3K27ac   21      27"
      ]
     },
     "metadata": {},
     "output_type": "display_data"
    }
   ],
   "source": [
    "table(sample_table$Data_type, sample_table$Cell_type)"
   ]
  },
  {
   "cell_type": "code",
   "execution_count": 5,
   "metadata": {},
   "outputs": [],
   "source": [
    "source(\"/frazer01/home/paola/my_software/ase_pipeline_functions.R\")    \n",
    "\n",
    "ppn        = 8\n",
    "vcf_phased = \"/projects/CARDIPS/analysis/family1070/sevenIndi.phased.variant.vcf.gz\"\n",
    "\n",
    "analysis_dir = paste(home, \"analysis\", sep = \"/\")\n",
    "sh_dir       = paste(home, \"sh\"      , sep = \"/\")\n",
    "log_dir      = paste(home, \"log\"     , sep = \"/\")\n",
    "\n",
    "\n",
    "dir.create(analysis_dir, showWarnings = FALSE)\n",
    "dir.create(sh_dir      , showWarnings = FALSE)\n",
    "dir.create(log_dir     , showWarnings = FALSE)\n",
    "\n",
    "\n",
    "for (tissue in sort(unique(sample_table$Tissue)))\n",
    "{\n",
    "    cat(\"Tissue : \", tissue, \"\\n\")\n",
    "    \n",
    "    if(tissue==\"iPSC\"){\n",
    "    bed        = \"/home/paola/Family1070/private_output/PeakCalling/H3K27AC_IPSC/meta_macs2_callPeak_peaks.q001.narrowPeak.collapse.bed\"}\n",
    "    if(tissue==\"iPSC-CM\"){\n",
    "    bed        = \"/home/paola/Family1070/private_output/PeakCalling/H3K27AC_CM/meta_macs2_callPeak_peaks.q001.narrowPeak.collapse.bed\"}\n",
    "  \n",
    "    this_tissue = sample_table[sample_table$Tissue == tissue,]\n",
    "    tissue_dir  = paste(analysis_dir, tissue, sep = \"/\")\n",
    "    \n",
    "    dir.create(tissue_dir, showWarnings = FALSE)\n",
    "\n",
    "    for (id in sort(unique(this_tissue$subject)))   # chnage into subject id when finalize\n",
    "    {\n",
    "        cat(\"Subject:\", id, \"\\n\")\n",
    "\n",
    "        this_subject = this_tissue[this_tissue$subject == id,]\n",
    "        subject      = unique(this_subject$subject)\n",
    "        subject_dir  = paste(tissue_dir, id, sep = \"/\")\n",
    "        full_name    = paste(tissue    , id, sep = \"_\")\n",
    "        out_bam      = paste(subject_dir, \"/\", subject, \".bam\", sep = \"\")\n",
    "        \n",
    "        bam_files    = paste(chips_pipeline_dir_sample, \"/\", this_subject$UUID, \"/alignment/\", this_subject$UUID, \".filtered.cordSorted.bam\", sep = \"\")\n",
    "                \n",
    "        \n",
    "        dir.create(subject_dir, showWarnings = FALSE)\n",
    "        \n",
    "        sh_file = runAse(full_name, sh_dir, subject, log_dir, subject, subject_dir, bam_files, out_bam, vcf_phased, bed, ppn, is.gz = TRUE, run = TRUE)\n",
    "    }\n",
    "}\n"
   ]
  },
  {
   "cell_type": "markdown",
   "metadata": {},
   "source": [
    "Run time ~ 3 hours"
   ]
  },
  {
   "cell_type": "markdown",
   "metadata": {
    "collapsed": true
   },
   "source": [
    "### After the previous analysis is done: merge data into tables"
   ]
  },
  {
   "cell_type": "code",
   "execution_count": 4,
   "metadata": {},
   "outputs": [],
   "source": [
    "\n",
    "analysis_dir = paste(home, \"analysis\", sep = \"/\")"
   ]
  },
  {
   "cell_type": "code",
   "execution_count": 5,
   "metadata": {},
   "outputs": [
    {
     "name": "stderr",
     "output_type": "stream",
     "text": [
      "Warning message in dir.create(results_dir):\n",
      "“'/home/paola/Family1070/private_output/ASE_chip/pipeline//results' already exists”"
     ]
    }
   ],
   "source": [
    "pipeline = \"/home/paola/Family1070/private_output/ASE_chip/pipeline/\"\n",
    "setwd(pipeline)\n",
    "results_dir  = paste(pipeline, \"results\"     , sep = \"/\")\n",
    "dir.create(results_dir)"
   ]
  },
  {
   "cell_type": "code",
   "execution_count": 6,
   "metadata": {},
   "outputs": [],
   "source": [
    "started_analysis = 0\n",
    "mark= 'H3K27AC' \n",
    "for (tissue in sort(unique(sample_table$Tissue)))\n",
    "{\n",
    "    cat(\"Tissue : \", tissue, \"\\n\")\n",
    "    this_tissue = sample_table[sample_table$Tissue == tissue,]\n",
    "    tissue_dir  = paste(analysis_dir, tissue, sep = \"/\")\n",
    "\n",
    "        for (subject in sort(unique(sample_table$subject)))\n",
    "        {\n",
    "            cat(\"Subject:\", subject, \"\\n\")\n",
    "            \n",
    "            mbased_folder = paste(tissue_dir, subject, \"mbased\", sep = \"/\")\n",
    "            \n",
    "            locus_file    = paste(mbased_folder, \"/\", subject, \"_locus.tsv\"       , sep = \"\" )\n",
    "            snv_file      = paste(mbased_folder, \"/\", subject, \"_snv.tsv\"         , sep = \"\" )\n",
    "            in_file       = paste(mbased_folder, \"/\", subject, \"_mbased_input.tsv\", sep = \"\" )\n",
    "            \n",
    "            if ((file.exists(locus_file)== TRUE)&(file.exists(snv_file)== TRUE))\n",
    "            {\n",
    "                locus = read.table(locus_file, header = TRUE , sep = \"\\t\", stringsAsFactors = FALSE, row.names = 1, comment.char = \"\") \n",
    "                snv   = read.table(snv_file  , header = TRUE , sep = \"\\t\", stringsAsFactors = FALSE, row.names = 1, comment.char = \"\") \n",
    "                inp   = read.table(in_file   , header = TRUE , sep = \"\\t\", stringsAsFactors = FALSE, row.names = 1, comment.char = \"\") \n",
    "                \n",
    "                snv$ref_freq = snv$maf\n",
    "                snv[snv$ref_is_major == FALSE, \"ref_freq\"] = 1 - snv[snv$ref_is_major == FALSE, \"maf\"]\n",
    "                snv$coord   = paste(snv$chrom, snv$position, sep = \":\")\n",
    "                inp$coord   = paste(inp$contig, inp$position, sep = \":\")\n",
    "\n",
    "                locus$locus = rownames(locus)\n",
    "                snv$maf = NULL\n",
    "\n",
    "                out_data          = merge(locus, snv)\n",
    "                out_data          = merge(inp[, c(\"coord\", \"variantID\",\"refAllele\", \"altAllele\",  \"expectedRefFreq\", \"binomialPValue\",  'refCount','altCount',\"rawDepth\")], out_data)\n",
    "                out_data$subject  = subject\n",
    "                out_data$mark     = mark\n",
    "                out_data$tissue   = tissue\n",
    "               \n",
    "                \n",
    "                if (started_analysis == 0)\n",
    "                {\n",
    "                    all_ase = out_data\n",
    "                    started_analysis = 1\n",
    "                    col_names_locus = colnames(locus)\n",
    "                }else\n",
    "                {\n",
    "                    all_ase = rbind(all_ase, out_data)\n",
    "                }\n",
    "            }else\n",
    "            {\n",
    "                cat(locus_file, \"does not exist\\n\")\n",
    "            }\n",
    "        }\n",
    "        #break\n",
    " }"
   ]
  },
  {
   "cell_type": "code",
   "execution_count": 7,
   "metadata": {
    "collapsed": true
   },
   "outputs": [],
   "source": [
    "write.table(all_ase, file = paste(results_dir, \"all_ase.txt\", sep = \"/\"), col.names = TRUE, row.names = FALSE, quote = FALSE, sep = \"\\t\")"
   ]
  },
  {
   "cell_type": "code",
   "execution_count": 8,
   "metadata": {
    "collapsed": true
   },
   "outputs": [],
   "source": [
    "sample_table$Mark=\"H3K27AC\""
   ]
  },
  {
   "cell_type": "code",
   "execution_count": 9,
   "metadata": {},
   "outputs": [
    {
     "name": "stdout",
     "output_type": "stream",
     "text": [
      "Mark   :  H3K27AC \n",
      "Tissue :  iPSC \n",
      "Tissue :  iPSC-CM \n"
     ]
    }
   ],
   "source": [
    "all_ase  = read.table(paste(results_dir, \"all_ase.txt\", sep = \"/\"), header = TRUE , sep = \"\\t\", stringsAsFactors = FALSE) \n",
    "\n",
    "for (mark in sort(unique(sample_table$Mark)))\n",
    "    {\n",
    "        cat(\"Mark   : \", mark, \"\\n\")\n",
    "        this_mark = sample_table[sample_table$Mark == mark,]\n",
    "        \n",
    "        \n",
    "    for (tissue in sort(unique(this_mark$Tissue)))\n",
    "{\n",
    "    cat(\"Tissue : \", tissue, \"\\n\")\n",
    "    this_tissue = this_mark[this_mark$Tissue == tissue,]\n",
    "    tissue_dir  = paste(analysis_dir, tissue, sep = \"/\")\n",
    "        \n",
    "        separate_table = all_ase[all_ase$tissue == tissue & all_ase$mark == mark, ]\n",
    "        \n",
    "        this = unique(all_ase[all_ase$tissue == tissue & all_ase$mark == mark, c(col_names_locus, \"subject\")])\n",
    "        \n",
    "        out_root = paste(results_dir, \"/\", tissue, \"_\", mark, sep = \"\")\n",
    "        \n",
    "        loci     = sort(unique(this$locus  ))\n",
    "        subjects = sort(unique(this$subject))\n",
    "        \n",
    "        empty = matrix(nrow = length(loci), ncol = length(subjects))\n",
    "        rownames(empty) = loci\n",
    "        colnames(empty) = subjects\n",
    "        \n",
    "        empty_df = data.frame(empty, stringsAsFactors = FALSE)\n",
    "        \n",
    "        p_val_ases = empty_df\n",
    "        p_val_hets = empty_df\n",
    "        mafs       = empty_df\n",
    "        \n",
    "        for (ii in 1: length(this$locus))\n",
    "        {\n",
    "            locus     = this$locus            [[ii]]\n",
    "            subject   = this$subject          [[ii]]\n",
    "            p_val_ase = this$p_val_ase        [[ii]]\n",
    "            p_val_het = this$p_val_het        [[ii]]\n",
    "            maf       = this$major_allele_freq[[ii]]\n",
    "            \n",
    "            p_val_ases[locus, subject] = p_val_ase\n",
    "            p_val_hets[locus, subject] = p_val_het\n",
    "            mafs      [locus, subject] = maf\n",
    "        }\n",
    "        write.table(p_val_ases, file = paste(out_root, \"p_val_ase.txt\", sep = \".\"), col.names = NA, row.names = TRUE, quote = FALSE, sep = \"\\t\")\n",
    "        write.table(p_val_hets, file = paste(out_root, \"p_val_het.txt\", sep = \".\"), col.names = NA, row.names = TRUE, quote = FALSE, sep = \"\\t\")\n",
    "        write.table(mafs      , file = paste(out_root, \"major_allele_freq.txt\"      , sep = \".\"), col.names = NA, row.names = TRUE, quote = FALSE, sep = \"\\t\")\n",
    "        write.table(separate_table, file = paste(out_root, \"_ase_snv.txt\", sep = \"\"), col.names = TRUE, row.names = FALSE, quote = FALSE, sep = \"\\t\")               \n",
    " \n",
    "    }\n",
    "}\n"
   ]
  },
  {
   "cell_type": "code",
   "execution_count": 28,
   "metadata": {},
   "outputs": [
    {
     "data": {
      "text/html": [
       "<ol class=list-inline>\n",
       "\t<li>'major_allele_freq'</li>\n",
       "\t<li>'p_val_ase'</li>\n",
       "\t<li>'p_val_het'</li>\n",
       "\t<li>'locus'</li>\n",
       "</ol>\n"
      ],
      "text/latex": [
       "\\begin{enumerate*}\n",
       "\\item 'major\\_allele\\_freq'\n",
       "\\item 'p\\_val\\_ase'\n",
       "\\item 'p\\_val\\_het'\n",
       "\\item 'locus'\n",
       "\\end{enumerate*}\n"
      ],
      "text/markdown": [
       "1. 'major_allele_freq'\n",
       "2. 'p_val_ase'\n",
       "3. 'p_val_het'\n",
       "4. 'locus'\n",
       "\n",
       "\n"
      ],
      "text/plain": [
       "[1] \"major_allele_freq\" \"p_val_ase\"         \"p_val_het\"        \n",
       "[4] \"locus\"            "
      ]
     },
     "metadata": {},
     "output_type": "display_data"
    }
   ],
   "source": [
    "col_names_locus"
   ]
  },
  {
   "cell_type": "code",
   "execution_count": null,
   "metadata": {
    "collapsed": true
   },
   "outputs": [],
   "source": []
  }
 ],
 "metadata": {
  "kernelspec": {
   "display_name": "R",
   "language": "R",
   "name": "ir"
  },
  "language_info": {
   "codemirror_mode": "r",
   "file_extension": ".r",
   "mimetype": "text/x-r-source",
   "name": "R",
   "pygments_lexer": "r",
   "version": "3.2.2"
  }
 },
 "nbformat": 4,
 "nbformat_minor": 1
}
