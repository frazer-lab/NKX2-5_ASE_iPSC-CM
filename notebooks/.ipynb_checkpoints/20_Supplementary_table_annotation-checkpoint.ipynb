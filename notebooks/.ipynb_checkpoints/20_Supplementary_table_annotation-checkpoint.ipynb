{
 "cells": [
  {
   "cell_type": "markdown",
   "metadata": {},
   "source": [
    "# Make final supplementary table"
   ]
  },
  {
   "cell_type": "code",
   "execution_count": 1,
   "metadata": {},
   "outputs": [],
   "source": [
    "library (stringr)\n",
    "home = \"/home/paola/Family1070/private_output/\"\n",
    "setwd(paste(home,\"Enrichment_annotations\", sep=\"/\"))\n",
    "ase_dir=\"/home/paola/Family1070/private_output/ASE_chip/pipeline/results\"\n",
    "peaks = list.files(\"/frazer01/home/paola/Family1070/private_output/PeakCalling/\")\n"
   ]
  },
  {
   "cell_type": "code",
   "execution_count": 2,
   "metadata": {},
   "outputs": [],
   "source": [
    "marks= peaks[3:5]"
   ]
  },
  {
   "cell_type": "code",
   "execution_count": 3,
   "metadata": {},
   "outputs": [],
   "source": [
    "###### Closest Gene Annotation\n",
    "gi   = read.table(\"/frazer01/publicdata/gencode_v19_20151104/gene_info.tsv\", header=T)\n",
    "pro  = paste(home, \"Coordination_ASE_effects/matches/\", marks, \"_closest_gene.bed\", sep=\"\" )\n",
    "\n",
    "##### Motif disruption calculated here \n",
    "\n",
    "motR = '/frazer01/home/paola/Family1070/private_output/Motif_analysis_R/NKX25/analysis/AlleleAlteringSites_scores_1.txt'\n",
    "motR2 = '/frazer01/home/paola/Family1070/private_output/Motif_analysis_R/NKX25/analysis_denovo/AlleleAlteringSites_scores_1.txt'\n",
    "motR3 = '/frazer01/home/paola/Family1070/private_output/Motif_analysis_R/NKX25/analysis_denovo_part2/AlleleAlteringSites_scores_1.txt'\n",
    "        \n",
    "### Haploreg annotations\n",
    "\n",
    "HAP=paste ( \"Haploreg/\", marks, \"_haploreg.tab\", sep=\"\")\n",
    "QTL=paste ( \"GTEx/\", marks, \"_eQTLs.txt\", sep=\"\")\n",
    "\n",
    "#### Gwas annotations\n",
    "gwasCAT<- read.csv('GWAS/GwasForFinalAnnotation.csv', header=T)\n",
    "\n",
    "  gwasCAT$anno<-paste(gwasCAT$study,gwasCAT$LDsnp,gwasCAT$r2_pop.x, sep='|')\n",
    "  lead<-subset(gwasCAT, !duplicated(gwasCAT[,c(\"SNP_ID_CURRENT\", \"study\")]))\n",
    "  lead<-aggregate(study~SNP_ID_CURRENT, lead, paste, collapse=\";\")\n",
    "  ld<-subset(gwasCAT, !duplicated(gwasCAT[,c(\"LDsnp\", \"anno\")]))\n",
    "  ld<-aggregate(anno~LDsnp, ld, paste, collapse=\";\")\n",
    "\n",
    "##### left ventricle expression annot\n",
    "lv<-read.csv('GTEx/GTEx Portal.csv', header=T)\n",
    "aa<-read.csv('GTEx/GTEx Portal AA.csv', header=T)\n",
    "\n",
    "lv_eqtls<-read.table(\"/publicdata/gtex_v6/Heart_Left_Ventricle_Analysis.snpgenes\",  sep=\"\\t\", header=T)\n",
    "lv_eqtls$snpID<-paste(\"chr\",lv_eqtls$snp_chrom, \":\", lv_eqtls$snp_pos, sep=\"\")\n",
    "lv<-merge(lv, lv_eqtls[,c('gene', 'snpID' )], by.x='Gencode.Id', by.y='gene')\n",
    "\n",
    "aa_eqtls<-read.table(\"/publicdata/gtex_v6/Heart_Atrial_Appendage_Analysis.snpgenes\",  sep=\"\\t\", header=T)\n",
    "aa_eqtls$snpID<-paste(\"chr\",aa_eqtls$snp_chrom, \":\", aa_eqtls$snp_pos, sep=\"\")\n",
    "aa<-merge(aa, aa_eqtls[,c('gene', 'snpID' )], by.x='Gencode.Id', by.y='gene')\n",
    "\n"
   ]
  },
  {
   "cell_type": "code",
   "execution_count": 25,
   "metadata": {},
   "outputs": [
    {
     "name": "stdout",
     "output_type": "stream",
     "text": [
      "H3K27AC_CM \n",
      "H3K27AC_IPSC \n",
      "NKX25 \n"
     ]
    }
   ],
   "source": [
    "m=data.frame()\n",
    "\n",
    "for (i in 1:length(marks)){\n",
    "  \n",
    "  cat(marks[i], \"\\n\")\n",
    "  mark=marks[i]\n",
    "  ase=read.csv(paste(\"Haploreg/SummaryAnnotations\", mark, \"csv\", sep=\".\"), header=T)\n",
    "  ase=subset(ase, ase$combined_fdr<0.05)\n",
    "  \n",
    "  \n",
    "  hap=read.table(HAP[i], header=F, sep=\"\\t\")\n",
    "  colnames(hap)=c(\"chrom\", \"pos\", \"id\", \"ref\", \"alt\", \"cons\", \"motif\", \"gene\",\"chromHMM\", \"DNAse\")\n",
    "  hap=hap[,c( \"id\", \"motif\", \"gene\",\"chromHMM\", \"DNAse\")]\n",
    "  ase=merge(ase,hap,by.x=\"snpID\", by.y=\"id\", all.x=T)\n",
    " \n",
    "  qtl<-read.table( QTL[i], fill=T, stringsAsFactors=F)\n",
    "  colnames(qtl)<-c(\"snp\",\"qtl\")\n",
    "  ase=merge(ase,qtl,by.x=\"snpID\", by.y=\"snp\", all.x=T)\n",
    "  \n",
    "  gene=read.table(pro[i])\n",
    "  colnames(gene)=c(\"chr\", \"start\", \"end\", \"chr2\", \n",
    "                   \"start2\", \"end2\", \"gene\", \"dot\", \"strand\", \"dist\")\n",
    "  gene$locus = paste (gene$chr,\":\", gene$start, \"-\" ,gene$end, sep=\"\")\n",
    "  gene=merge(gene, gi, by.x=\"gene\", by.y=\"gene_id\")\n",
    "  gene$closestGenes=paste(gene$gene, gene$gene_name, gene$dist, sep=\"|\")\n",
    "  gene=gene[,c(\"locus\", \"closestGenes\")]\n",
    "  gene=aggregate(closestGenes~locus, gene, paste, collapse=\",\")\n",
    "  ase=merge(ase,gene,by=\"locus\", all.x=T)\n",
    "  \n",
    "  \n",
    "  ase<-merge(ase, lead[, c(\"SNP_ID_CURRENT\", \"study\")], by.x=\"snpID\", by.y=\"SNP_ID_CURRENT\", all.x=T)\n",
    "  ase<-merge(ase, ld[, c(\"LDsnp\", \"anno\")], by.x=\"snpID\", by.y=\"LDsnp\", all.x=T)\n",
    "  \n",
    "eqtls = read.table( paste(\"GTEx/\", mark,  \".GtexTable_hreg_aggregate.txt\", sep=\"\"), header=T,  sep=\"\\t\") \n",
    "heart_specific = subset(eqtls, ((eqtls[,2]/2)-eqtls[,\"Hear\"])<=0)\n",
    "ase$heart_specific = ase$snpID %in% heart_specific$snpID\n",
    "  \n",
    "    if (mark == \"NKX25\"){\n",
    "  mymot  = read.table(motR, header=T,stringsAsFactor=F)\n",
    "  mymot2 = read.table(motR2, header=T,stringsAsFactor=F)\n",
    "  mymot3 = read.table(motR3, header=T,stringsAsFactor=F)   \n",
    "\n",
    "  mymot=rbind(mymot,mymot2,mymot3)\n",
    "  mymot[is.na(mymot)]<-0\n",
    "  mymot=merge(mymot, ase[,c('variantID', 'ref_freq')], by.x=\"SNP\", by.y=\"variantID\")\n",
    "\n",
    "  mymot$Diff<-round(mymot$maxAltScore-mymot$maxRefScore,2)  \n",
    "  mymot$Motif_anno<-paste(mymot$Motif, mymot$Diff,mymot$maxRefScoreStrand, \n",
    "                          round(mymot$maxRefScore,2), round(mymot$maxAltScore,2), sep=\"|\" )\n",
    "  agg=aggregate(Motif_anno~SNP, mymot, paste, collapse=\",\")\n",
    "  ase=merge(ase, agg, by.x=\"variantID\", by.y=\"SNP\", all.x=T)\n",
    " \n",
    "  }\n",
    "  \n",
    "  \n",
    "  else{\n",
    "    \n",
    "    ase$Motif_anno<-NA\n",
    "    \n",
    "  }\n",
    "    \n",
    "\n",
    " if(i>1)      {ase<-subset(ase, select=colnames(m))   }\n",
    "  \n",
    "    \n",
    "    m<-rbind(m,ase)\n",
    "  \n",
    "}\n",
    "\n",
    "\n",
    "m$topxp<-m$snpID %in% lv$snpID | m$snpID %in% aa$snpID\n",
    "m$bestp<-m$snpID %in% lv_eqtls$snpID[lv_eqtls$has_best_p==1] | \n",
    "m$snpID %in% aa_eqtls$snpID[aa_eqtls$has_best_p==1]\n",
    "\n",
    "\n",
    "write.table(m, \"Supplementary_table_ase_annotations.txt\", sep=\"\\t\", row.names=FALSE, quote=FALSE)"
   ]
  },
  {
   "cell_type": "code",
   "execution_count": null,
   "metadata": {
    "collapsed": true
   },
   "outputs": [],
   "source": []
  }
 ],
 "metadata": {
  "kernelspec": {
   "display_name": "R",
   "language": "R",
   "name": "ir"
  },
  "language_info": {
   "codemirror_mode": "r",
   "file_extension": ".r",
   "mimetype": "text/x-r-source",
   "name": "R",
   "pygments_lexer": "r",
   "version": "3.2.2"
  }
 },
 "nbformat": 4,
 "nbformat_minor": 1
}
