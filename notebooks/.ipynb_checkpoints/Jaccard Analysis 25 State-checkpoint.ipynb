{
 "cells": [
  {
   "cell_type": "code",
   "execution_count": 1,
   "metadata": {
    "collapsed": false,
    "deletable": true,
    "editable": true,
    "scrolled": true
   },
   "outputs": [],
   "source": [
    "import cPickle\n",
    "import glob\n",
    "import os\n",
    "import subprocess\n",
    "import tempfile\n",
    "\n",
    "import cdpybio as cpb\n",
    "import matplotlib.pyplot as plt\n",
    "import numpy as np\n",
    "import pandas as pd\n",
    "import pybedtools as pbt\n",
    "from scipy.linalg import svd\n",
    "#import seaborn as sns\n",
    "\n",
    "#import fampy as fpy\n",
    "import cardipspy as cpy\n",
    "\n",
    "%matplotlib inline"
   ]
  },
  {
   "cell_type": "code",
   "execution_count": 2,
   "metadata": {
    "collapsed": false,
    "deletable": true,
    "editable": true
   },
   "outputs": [],
   "source": [
    "outdir = os.path.join('/home/paola/Family1070/private_output/Jaccard', 'output',\n",
    "                      'jaccard_analysis_25_state')\n",
    "cpy.makedir(outdir)\n",
    "\n",
    "private_outdir = os.path.join('/home/paola/Family1070/private_output/Jaccard', 'private_output',\n",
    "                              'jaccard_analysis_25_state')\n",
    "cpy.makedir(private_outdir)"
   ]
  },
  {
   "cell_type": "code",
   "execution_count": 3,
   "metadata": {
    "collapsed": false,
    "deletable": true,
    "editable": true
   },
   "outputs": [],
   "source": [
    "# Roadmap 25 state data.\n",
    "\n",
    "roadmap_beds = sorted(cpy.roadmap_25_state_beds)\n",
    "\n",
    "fn = os.path.join(os.path.split(cpy.roadmap_25_state_annotation)[0], 'EIDlegend.txt')\n",
    "\n",
    "roadmap_ids = pd.read_table(fn, index_col=0, header=None, squeeze=True)\n",
    "state_annot = pd.read_table(cpy.roadmap_25_state_annotation, index_col=0)"
   ]
  },
  {
   "cell_type": "code",
   "execution_count": 4,
   "metadata": {
    "collapsed": true,
    "deletable": true,
    "editable": true
   },
   "outputs": [],
   "source": [
    "# This defines a subset of lines for plotting.\n",
    "lines = ['E003', 'E011', 'E012', 'E013', 'E020', 'E032', 'E034', 'E055',\n",
    "         'E063', 'E065', 'E066', 'E071', 'E083', 'E082', 'E096', 'E104',\n",
    "         'E105', 'E108', 'E116', 'E117']\n",
    "names = ['H9 hESC', 'hESC-Endoderm', 'hESC-Ectoderm', 'hESC-Mesoderm',\n",
    "         'hiPSC', 'Blood B cells', 'Blood T cells', 'Fibroblasts  ',\n",
    "         'Adipocytes', 'Aorta', 'Liver', 'Hippocampus ', 'Fetal Heart',\n",
    "         'Fetal Brain', 'Lung', 'Right Atrium', 'Right Ventricle',\n",
    "         'Skeletal Muscle', 'Lymphoblastoids', 'HeLa cells']\n",
    "subset = pd.Series(lines, index=names)"
   ]
  },
  {
   "cell_type": "code",
   "execution_count": 5,
   "metadata": {
    "collapsed": true,
    "deletable": true,
    "editable": true
   },
   "outputs": [],
   "source": [
    "def jaccard_similarity(peaks_bed, hmm_bed, outdir):\n",
    "    eid = os.path.split(hmm_bed)[1][0:4]\n",
    "    out = os.path.join(outdir, '{}_jac.tsv'.format(eid))\n",
    "    bt_jacs = []\n",
    "    bt = pbt.BedTool(hmm_bed)\n",
    "    for state in state_annot.name:\n",
    "        new_bt = bt.filter(lambda x: x.name == state)\n",
    "        tf = tempfile.NamedTemporaryFile(delete=False)\n",
    "        new_bt.saveas(tf.name)\n",
    "        c = '/frazer01/software/bedtools-2.25.0/bin/bedtools jaccard -a {} -b {}'.format(peaks_bed.fn, tf.name)\n",
    "        res = subprocess.check_output(c, shell=True)\n",
    "        os.remove(tf.name)\n",
    "        names, values = [x.split('\\t') for x in res.strip().split('\\n')]\n",
    "        bt_jacs.append(pd.Series(values, index=names).astype(float))\n",
    "    pd.DataFrame(bt_jacs, index=state_annot.name).to_csv(out, sep='\\t')"
   ]
  },
  {
   "cell_type": "code",
   "execution_count": 6,
   "metadata": {
    "collapsed": false,
    "deletable": true,
    "editable": true
   },
   "outputs": [
    {
     "name": "stdout",
     "output_type": "stream",
     "text": [
      "Cluster has 20 engines.\n"
     ]
    }
   ],
   "source": [
    "from ipyparallel import Client  \n",
    "parallel_client = Client()#profile='parallel')\n",
    "dview = parallel_client[:]\n",
    "print('Cluster has {} engines.'.format(len(parallel_client.ids)))"
   ]
  },
  {
   "cell_type": "code",
   "execution_count": 7,
   "metadata": {
    "collapsed": false,
    "deletable": true,
    "editable": true
   },
   "outputs": [
    {
     "name": "stdout",
     "output_type": "stream",
     "text": [
      "importing glob on engine(s)\n",
      "importing os on engine(s)\n",
      "importing subprocess on engine(s)\n",
      "importing tempfile on engine(s)\n",
      "importing pandas on engine(s)\n",
      "importing cardipspy on engine(s)\n",
      "importing pybedtools on engine(s)\n"
     ]
    }
   ],
   "source": [
    "with dview.sync_imports():\n",
    "    import glob\n",
    "    import os\n",
    "    import subprocess\n",
    "    import tempfile\n",
    "    import pandas\n",
    "    import cardipspy\n",
    "    import pybedtools"
   ]
  },
  {
   "cell_type": "code",
   "execution_count": 8,
   "metadata": {
    "collapsed": false,
    "deletable": true,
    "editable": true
   },
   "outputs": [],
   "source": [
    "%px pd = pandas\n",
    "%px cpy = cardipspy\n",
    "%px pbt = pybedtools"
   ]
  },
  {
   "cell_type": "code",
   "execution_count": 9,
   "metadata": {
    "collapsed": false,
    "deletable": true,
    "editable": true
   },
   "outputs": [
    {
     "data": {
      "text/plain": [
       "<AsyncResult: scatter>"
      ]
     },
     "execution_count": 9,
     "metadata": {},
     "output_type": "execute_result"
    }
   ],
   "source": [
    "dview.push(dict(state_annot=state_annot, jaccard_similarity=jaccard_similarity))\n",
    "dview.scatter('roadmap_beds', roadmap_beds)"
   ]
  },
  {
   "cell_type": "code",
   "execution_count": 10,
   "metadata": {
    "collapsed": true,
    "deletable": true,
    "editable": true
   },
   "outputs": [],
   "source": [
    "def make_jaccard_table(dy):\n",
    "    \"\"\"Combine individual jaccard results into a table.\"\"\"\n",
    "    fns = glob.glob(os.path.join(dy, 'E*_jac.tsv'))\n",
    "    res = []\n",
    "    for fn in fns:\n",
    "        df = pd.read_table(fn, index_col=0)\n",
    "        res.append(df.jaccard)\n",
    "    df = pd.DataFrame(res, index=[os.path.split(x)[1][0:4] for x in fns])\n",
    "    df = df.ix[sorted(df.index)]\n",
    "    return df"
   ]
  },
  {
   "cell_type": "code",
   "execution_count": 11,
   "metadata": {
    "collapsed": true,
    "deletable": true,
    "editable": true
   },
   "outputs": [],
   "source": [
    "def do_analysis(name, bed):\n",
    "    bt = pbt.BedTool(bed)\n",
    "    bt = bt.sort()\n",
    "    dview.push(dict(bt=bt))\n",
    "\n",
    "    toutdir = os.path.join(outdir, name)\n",
    "    cpy.makedir(toutdir)\n",
    "    dview.push(dict(outdir=toutdir))\n",
    "\n",
    "    %px [jaccard_similarity(bt, x, outdir) for x in roadmap_beds];\n",
    "\n",
    "    res = make_jaccard_table(toutdir)\n",
    "    res.to_csv(os.path.join(toutdir, 'jaccard.tsv'), sep='\\t')\n",
    "    res = res - res.mean()\n",
    "    res = res / res.std()\n",
    "    res.to_csv(os.path.join(toutdir, 'jaccard_z_score.tsv'), sep='\\t')"
   ]
  },
  {
   "cell_type": "code",
   "execution_count": 12,
   "metadata": {
    "collapsed": false,
    "deletable": true,
    "editable": true
   },
   "outputs": [],
   "source": [
    "name = 'NKX25'\n",
    "bt = pbt.BedTool('/home/paola/Family1070/private_output/PeakCalling/NKX25/meta_macs2_callPeak_peaks.q001.narrowPeak.collapse.bed')\n",
    "bt = bt.sort()\n",
    "dview.push(dict(bt=bt))\n",
    "\n",
    "toutdir = os.path.join(outdir, name)"
   ]
  },
  {
   "cell_type": "code",
   "execution_count": 13,
   "metadata": {
    "collapsed": false,
    "deletable": true,
    "editable": true
   },
   "outputs": [],
   "source": [
    "cpy.makedir(toutdir)\n",
    "dview.push(dict(outdir=toutdir))\n",
    "\n",
    "#%px [jaccard_similarity(bt, x, outdir) for x in roadmap_beds];\n",
    "res = dview.map_sync(lambda x: jaccard_similarity(bt, x, outdir), roadmap_beds)\n",
    "\n",
    "res = make_jaccard_table(toutdir)\n",
    "res.to_csv(os.path.join(toutdir, 'jaccard.tsv'), sep='\\t')\n",
    "res = res - res.mean()\n",
    "res = res / res.std()\n",
    "res.to_csv(os.path.join(toutdir, 'jaccard_z_score.tsv'), sep='\\t')"
   ]
  },
  {
   "cell_type": "code",
   "execution_count": null,
   "metadata": {
    "collapsed": true,
    "deletable": true,
    "editable": true
   },
   "outputs": [],
   "source": []
  },
  {
   "cell_type": "code",
   "execution_count": null,
   "metadata": {
    "collapsed": true,
    "deletable": true,
    "editable": true
   },
   "outputs": [],
   "source": []
  }
 ],
 "metadata": {
  "kernelspec": {
   "display_name": "Python (cardips)",
   "language": "python",
   "name": "cardips"
  },
  "language_info": {
   "codemirror_mode": {
    "name": "ipython",
    "version": 2
   },
   "file_extension": ".py",
   "mimetype": "text/x-python",
   "name": "python",
   "nbconvert_exporter": "python",
   "pygments_lexer": "ipython2",
   "version": "2.7.11"
  }
 },
 "nbformat": 4,
 "nbformat_minor": 0
}
