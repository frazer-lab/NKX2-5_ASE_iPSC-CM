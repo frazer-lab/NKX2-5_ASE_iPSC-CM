{
 "cells": [
  {
   "cell_type": "markdown",
   "metadata": {},
   "source": [
    "## Combine results across individuals for meta analysis\n",
    "To combine ASE results at each SNV across samples, we performed a meta-analysis on all samples that were heterozygous for a given SNV and for which ASE could be tested. The binomial P-values of heterozygous SNVs were combined using the Stouffer z-score transformation method. P-values were first transformed to z-scores with negative or positive sign according to the direction of the effect with respect to the alternate allele, then summed and transformed using the formula Z ~(∑_(i=1)^k Z_i   )/√k, where Z is the z-score and k is the number of individuals for each SNV. The combined meta z-scores were transformed to P-values and a BH FDR was calculated using “p.adjust” in R. The alternate allele frequency was averaged across all heterozygous samples. For downstream analyses, a cutoff of FDR<0.05 was used."
   ]
  },
  {
   "cell_type": "code",
   "execution_count": 1,
   "metadata": {
    "collapsed": false
   },
   "outputs": [],
   "source": [
    "library(stringr)\n",
    "home       = '/home/paola/Family1070/private_output/ASE_chip/correlationWithBeta'\n",
    "dir_counts = '/home/paola/Family1070/private_output/PeakCalling'\n",
    "dir_ase    = '/home/paola/Family1070/private_output/ASE_chip/pipeline/results'\n",
    "marks      =  list.files(\"/home/paola/Family1070/private_output/PeakCalling\")\n",
    "#marks      =  \"NKX25\"\n",
    "\n",
    "setwd(home)\n",
    "ase_names = c('/iPSC-CM_ATAC','/iPSC_ATAC','/iPSC-CM_H3K27AC','/iPSC_H3K27AC','/iPSC-CM_NKX25' )\n",
    "ase_files = paste(dir_ase, ase_names, '_ase_snv.txt', sep=\"\")\n"
   ]
  },
  {
   "cell_type": "code",
   "execution_count": 10,
   "metadata": {
    "collapsed": false
   },
   "outputs": [],
   "source": [
    "# dir.create(\"filtered_by_length\")\n",
    "# setwd(\"filtered_by_length\") ## use this and activate filter in the loop for filtering"
   ]
  },
  {
   "cell_type": "code",
   "execution_count": 3,
   "metadata": {
    "collapsed": false
   },
   "outputs": [],
   "source": [
    "marks = marks[-c(1,7)]"
   ]
  },
  {
   "cell_type": "code",
   "execution_count": 12,
   "metadata": {
    "collapsed": false
   },
   "outputs": [],
   "source": [
    "#marks = c('ATAC_CM_new', 'ATAC_IPSC_new')"
   ]
  },
  {
   "cell_type": "code",
   "execution_count": 8,
   "metadata": {
    "collapsed": false
   },
   "outputs": [
    {
     "name": "stdout",
     "output_type": "stream",
     "text": [
      "ATAC_CM \n",
      "ATAC_IPSC \n",
      "H3K27AC_CM \n",
      "H3K27AC_IPSC \n",
      "NKX25 \n"
     ]
    }
   ],
   "source": [
    "for (f in 1:length(marks)){\n",
    "\n",
    "snv=read.table(ase_files[f], sep=\"\\t\", header=T)\n",
    "\n",
    "cat(marks[f], \"\\n\")\n",
    "    \n",
    "#     ##  Filter for peak length\n",
    "    \n",
    "#     d<-str_split_fixed(snv$locus,\"\\\\:\",2)\n",
    "#     e<-apply(str_split_fixed(d[,2],\"\\\\-\",2),2,as.integer)\n",
    "#     snv$size=e[,2]-e[,1]\n",
    " \n",
    "#     if(f<3) {snv<-subset(snv, snv$size<=2000)}\n",
    "#     if(f>=3) {snv<-subset(snv, snv$size<=5000)}\n",
    "    \n",
    "#     ## \n",
    "    \n",
    "\n",
    "colnames(snv)[1:2]<-c(\"variantID\", \"snpID\")\n",
    "\n",
    "#Set the minumum pvalue different than 0\n",
    "snv$binomialPValue[snv$binomialPValue==0] <-min(snv$binomialPValue[snv$binomialPValue>0])\n",
    "\n",
    "#### Make a meta analysis of pvalues in different people\n",
    "## Calculate Z scores from binomial p-value\n",
    "snv$z_score=qnorm(snv$binomialPValue/2)*c(-1,1)[snv$ref_is_major+1]\n",
    "## Combine the Z-scores using the Z-transform test from Stouffer 1948 DOI: 10.1111/j.1420-9101.2005.00917.x\n",
    "\n",
    "ag1=aggregate(z_score~variantID,snv, sum)\n",
    "ag2=aggregate(z_score~variantID,snv, length)\n",
    "czs=ag1$z_score/sqrt(ag2$z_score)\n",
    "ag1$combined_pv=pnorm(abs(czs),lower.tail=FALSE)*2\n",
    "ag1$combined_fdr=p.adjust(ag1$combined_pv, method=\"BH\")\n",
    "\n",
    "\n",
    "#### Now calculate the average of allele frequency in the ones that were tested and merge with the rest of the data\n",
    "avg=aggregate(ref_freq~variantID,snv,mean) #note that the mean is calculated on all the het subjects\n",
    "    \n",
    "ag=merge(ag1[,-2], avg, by=\"variantID\")\n",
    "\n",
    "    \n",
    "### get also the average depth at each variant\n",
    "    \n",
    "rc=aggregate(rawDepth ~variantID,snv,mean)   \n",
    "ag=merge(ag, rc, by=\"variantID\")\n",
    "#######    \n",
    "    \n",
    "###retrieve rsID and write it on files for annotations\n",
    "snv2=snv[,c(\"variantID\",\"snpID\",\"refAllele\", \"altAllele\", \"locus\",\"mark\", \"tissue\") ]\n",
    "snv2=snv2[!duplicated(snv2),]\n",
    "\n",
    "m=merge(ag, snv2,  by=\"variantID\")\n",
    "\n",
    "write.table(m, paste(\"ASE.tested\", marks[f], \"txt\", sep=\".\"), sep=\"\\t\", row.names=FALSE, col.names=TRUE, quote=FALSE)               \n",
    "\n",
    "m=m[m$snpID!=\".\",]\n",
    "write.table(m$snpID , paste(\"rs.variants\", marks[f], \"txt\", sep=\".\"), col.names=FALSE, row.names=FALSE, quote=FALSE)\n",
    "\n",
    "##### Combine with Regression results note: ase hets in all members are excluded ##### \n",
    "# ag=merge(ag, reg, by.x=\"variantID\", by.y=\"varID\")\n",
    "# ag=ag[order(ag$combined_pv ),]\n",
    "# write.table(ag, paste(\"Correlation_all_pv\", marks[f], sep=\"_\"), sep=\"\\t\", row.names=FALSE, col.names=TRUE)\n",
    "    \n",
    "\n",
    "}"
   ]
  },
  {
   "cell_type": "code",
   "execution_count": 7,
   "metadata": {
    "collapsed": false
   },
   "outputs": [
    {
     "data": {
      "text/html": [
       "<ol class=list-inline>\n",
       "\t<li>'variantID'</li>\n",
       "\t<li>'snpID'</li>\n",
       "\t<li>'refAllele'</li>\n",
       "\t<li>'altAllele'</li>\n",
       "\t<li>'expectedRefFreq'</li>\n",
       "\t<li>'binomialPValue'</li>\n",
       "\t<li>'refCount'</li>\n",
       "\t<li>'altCount'</li>\n",
       "\t<li>'rawDepth'</li>\n",
       "\t<li>'locus'</li>\n",
       "\t<li>'major_allele_freq'</li>\n",
       "\t<li>'p_val_ase'</li>\n",
       "\t<li>'p_val_het'</li>\n",
       "\t<li>'chrom'</li>\n",
       "\t<li>'position'</li>\n",
       "\t<li>'ref'</li>\n",
       "\t<li>'alt'</li>\n",
       "\t<li>'ref_is_major'</li>\n",
       "\t<li>'ref_freq'</li>\n",
       "\t<li>'subject'</li>\n",
       "\t<li>'mark'</li>\n",
       "\t<li>'tissue'</li>\n",
       "\t<li>'z_score'</li>\n",
       "</ol>\n"
      ],
      "text/latex": [
       "\\begin{enumerate*}\n",
       "\\item 'variantID'\n",
       "\\item 'snpID'\n",
       "\\item 'refAllele'\n",
       "\\item 'altAllele'\n",
       "\\item 'expectedRefFreq'\n",
       "\\item 'binomialPValue'\n",
       "\\item 'refCount'\n",
       "\\item 'altCount'\n",
       "\\item 'rawDepth'\n",
       "\\item 'locus'\n",
       "\\item 'major\\_allele\\_freq'\n",
       "\\item 'p\\_val\\_ase'\n",
       "\\item 'p\\_val\\_het'\n",
       "\\item 'chrom'\n",
       "\\item 'position'\n",
       "\\item 'ref'\n",
       "\\item 'alt'\n",
       "\\item 'ref\\_is\\_major'\n",
       "\\item 'ref\\_freq'\n",
       "\\item 'subject'\n",
       "\\item 'mark'\n",
       "\\item 'tissue'\n",
       "\\item 'z\\_score'\n",
       "\\end{enumerate*}\n"
      ],
      "text/markdown": [
       "1. 'variantID'\n",
       "2. 'snpID'\n",
       "3. 'refAllele'\n",
       "4. 'altAllele'\n",
       "5. 'expectedRefFreq'\n",
       "6. 'binomialPValue'\n",
       "7. 'refCount'\n",
       "8. 'altCount'\n",
       "9. 'rawDepth'\n",
       "10. 'locus'\n",
       "11. 'major_allele_freq'\n",
       "12. 'p_val_ase'\n",
       "13. 'p_val_het'\n",
       "14. 'chrom'\n",
       "15. 'position'\n",
       "16. 'ref'\n",
       "17. 'alt'\n",
       "18. 'ref_is_major'\n",
       "19. 'ref_freq'\n",
       "20. 'subject'\n",
       "21. 'mark'\n",
       "22. 'tissue'\n",
       "23. 'z_score'\n",
       "\n",
       "\n"
      ],
      "text/plain": [
       " [1] \"variantID\"         \"snpID\"             \"refAllele\"        \n",
       " [4] \"altAllele\"         \"expectedRefFreq\"   \"binomialPValue\"   \n",
       " [7] \"refCount\"          \"altCount\"          \"rawDepth\"         \n",
       "[10] \"locus\"             \"major_allele_freq\" \"p_val_ase\"        \n",
       "[13] \"p_val_het\"         \"chrom\"             \"position\"         \n",
       "[16] \"ref\"               \"alt\"               \"ref_is_major\"     \n",
       "[19] \"ref_freq\"          \"subject\"           \"mark\"             \n",
       "[22] \"tissue\"            \"z_score\"          "
      ]
     },
     "metadata": {},
     "output_type": "display_data"
    }
   ],
   "source": [
    "colnames(snv)"
   ]
  },
  {
   "cell_type": "code",
   "execution_count": 16,
   "metadata": {
    "collapsed": true
   },
   "outputs": [],
   "source": [
    "mcm = read.table(paste(\"ASE.tested\", marks[1], \"txt\", sep=\".\"), header=T)"
   ]
  },
  {
   "cell_type": "code",
   "execution_count": 17,
   "metadata": {
    "collapsed": false
   },
   "outputs": [
    {
     "data": {
      "text/html": [
       "79"
      ],
      "text/latex": [
       "79"
      ],
      "text/markdown": [
       "79"
      ],
      "text/plain": [
       "[1] 79"
      ]
     },
     "metadata": {},
     "output_type": "display_data"
    }
   ],
   "source": [
    "sum(mcm$combined_fdr<0.05)"
   ]
  },
  {
   "cell_type": "code",
   "execution_count": 18,
   "metadata": {
    "collapsed": false
   },
   "outputs": [
    {
     "data": {
      "text/html": [
       "<ol class=list-inline>\n",
       "\t<li>26201</li>\n",
       "\t<li>10</li>\n",
       "</ol>\n"
      ],
      "text/latex": [
       "\\begin{enumerate*}\n",
       "\\item 26201\n",
       "\\item 10\n",
       "\\end{enumerate*}\n"
      ],
      "text/markdown": [
       "1. 26201\n",
       "2. 10\n",
       "\n",
       "\n"
      ],
      "text/plain": [
       "[1] 26201    10"
      ]
     },
     "metadata": {},
     "output_type": "display_data"
    }
   ],
   "source": [
    "dim(mcm)"
   ]
  },
  {
   "cell_type": "markdown",
   "metadata": {
    "collapsed": true
   },
   "source": [
    "## Calculate with linear regression the B at ASE SNPs\n",
    "To evaluate if the allelic effect of ASE was consistent with the direction of homozygous effects within all family members, we performed linear regression on the gene expression or peak coverage as a function of genotype. Gene expression or peak coverage was normalized to vst, corrected for known variables using residuals and then normalized to z-scores across individuals. Genotypes were coded as 0, 1 or 2 for homozygous reference, heterozygous, and homozygous alternate respectively, and only one SNV per region (with the lowest combined ASE P-value) was used. A linear model in R ‘lm(z-score~genotype)’ was used to obtain the ß coefficient indicating the direction of effect. Spearman correlation was used to compare ß to the average allele proportion of the alternate allele to estimate the consistency of effects "
   ]
  },
  {
   "cell_type": "code",
   "execution_count": 23,
   "metadata": {
    "collapsed": false
   },
   "outputs": [],
   "source": [
    "outfile  = paste (\"Regression_Results_ase_snp_\", marks, \".txt\" , sep=\"\")\n",
    "\n",
    "genot    = paste (dir_counts, \"/\", marks, \"/\" , marks, \"_p200_filtered_variants.txt\", sep=\"\" )\n",
    "samples  = paste(dir_counts, marks, \"sample.use.list\", sep=\"/\")\n",
    "tables   = c(\"normalized_filtered_counts.txt\",\"residual_counts.txt\" )\n",
    "dir_tables      =  \"/home/paola/Family1070/private_output/PCA_chipseq\""
   ]
  },
  {
   "cell_type": "code",
   "execution_count": 30,
   "metadata": {
    "collapsed": false,
    "scrolled": false
   },
   "outputs": [
    {
     "name": "stdout",
     "output_type": "stream",
     "text": [
      "H3K27AC_CM \n",
      "normalized_filtered_counts.txt \n",
      "residual_counts.txt \n",
      "H3K27AC_IPSC \n",
      "normalized_filtered_counts.txt \n",
      "residual_counts.txt \n",
      "NKX25 \n",
      "normalized_filtered_counts.txt \n",
      "residual_counts.txt \n"
     ]
    }
   ],
   "source": [
    "for(i in 3:5){\n",
    "cat(marks[i], \"\\n\")    \n",
    "mat    = read.table(paste(\"ASE.tested\", marks[i], \"txt\", sep=\".\"), header=TRUE)\n",
    "mat    = subset(mat, mat$combined_fdr<0.05)\n",
    "\n",
    "gt   = read.csv(genot[i], stringsAsFactors=F) \n",
    "gt   = gt[,c(1:18, length(gt))]\n",
    "gt = subset(gt, varID %in% mat$variantID)    \n",
    "\n",
    "samp = read.table(samples[i], header=F, check.names=F)\n",
    "colnames(samp)  = c('uuid0', 'subject', 'uuid')\n",
    "\n",
    "\n",
    "for(f in 1:2){\n",
    "cat(tables[f], \"\\n\")   \n",
    "    t    = read.table(paste( dir_tables, marks[i], tables[f],sep=\"/\"), header=T, check.names=F, row.names=1 )\n",
    "    int  = merge(t,gt, by.x=\"row.names\", by.y=\"peakID\")\n",
    "    int  = int [rowSums(int[,as.character(samp$subject)])!=length(as.character(samp$subject)),]\n",
    "    colnames(int)[1]=\"peakID\"\n",
    "     \n",
    "    peaks      = subset(int, select=as.character(samp$uuid))\n",
    "    genotype   = subset(int, select=as.character(samp$subject))\n",
    "      \n",
    "    res=data.frame(NA)\n",
    "\n",
    "for( m in 1:nrow(peaks)) {    \n",
    "    \n",
    "    df         = data.frame(peaks=t(peaks)[,m], genotype=t(genotype)[,m])\n",
    "    df$subject = str_split_fixed(colnames(genotype), \"\\\\.\", 2)[,1]\n",
    "    df$peaks   = scale(df$peak) # z-score normalized\n",
    "    \n",
    "    mod<-lm(peaks ~ genotype, data=df)  \n",
    "    cof<-coef(summary(mod))[2,1]\n",
    "    pr<-coef(summary(mod))[2,4]\n",
    "    res[m,1]<-cof\n",
    "    res[m,2]<-pr\n",
    "  \n",
    "  }  \n",
    "\n",
    "    if(f==1){res2 = res}\n",
    "}\n",
    "    colnames(res)[1]<-\"Coefficient\"\n",
    "    colnames(res)[2]<-\"lm_pVal\"\n",
    "\n",
    "    colnames(res2)[1]<-\"Coefficient_2\"\n",
    "    colnames(res2)[2]<-\"lm_pVal_2\"\n",
    "\n",
    "    Res=cbind(int,res,res2)\n",
    "\n",
    "  write.table(Res, outfile[i], sep=\"\\t\", row.names=F, col.names=T )\n",
    "\n",
    "  ag = merge(Res, mat[, c('variantID','combined_pv','combined_fdr','ref_freq')],  by.y=\"variantID\", by.x=\"varID\")\n",
    "  ag=ag[order(ag$combined_pv ),]\n",
    "  write.table(ag, paste(\"Correlation_ase_snv_\", marks[i], \".txt\", sep=\"\"), sep=\"\\t\", row.names=FALSE, col.names=TRUE)\n",
    "\n",
    "\n",
    "}"
   ]
  },
  {
   "cell_type": "markdown",
   "metadata": {},
   "source": [
    "## Plot Results"
   ]
  },
  {
   "cell_type": "code",
   "execution_count": 31,
   "metadata": {
    "collapsed": false
   },
   "outputs": [],
   "source": [
    "tested  = paste(\"ASE.tested\", marks, \"txt\", sep=\".\")[3:5]\n",
    "corr    = paste(\"Correlation_ase_snv_\", marks, \".txt\", sep=\"\")[3:5]\n",
    "pvalues = paste(dir_ase, ase_names, '.p_val_ase.txt', sep=\"\")[3:5]"
   ]
  },
  {
   "cell_type": "code",
   "execution_count": 32,
   "metadata": {
    "collapsed": false
   },
   "outputs": [
    {
     "data": {
      "image/png": "[encoded data removed]",
      "text/plain": [
       "Plot with title \"H3K27AC_CM\""
      ]
     },
     "metadata": {},
     "output_type": "display_data"
    }
   ],
   "source": [
    "CEX=c(0.45,0.45, 0.45,0.45)\n",
    "n.ase=data.frame()\n",
    "n.snps=data.frame()\n",
    "p.per=data.frame()\n",
    "\n",
    "######################################################################################\n",
    "\n",
    "par(mar=c(10,10,10,10), pin=c(2,2), mfrow=c(2,2))\n",
    "\n",
    "\n",
    "for (f in 1:3){\n",
    "\n",
    "nsnps = read.table(tested[f], header=TRUE)\n",
    "ag    = read.table(corr[f], header=TRUE)\n",
    "pval  = read.table(pvalues[f], sep=\"\\t\", header=T, row.names=1) \n",
    "\n",
    "n.snps[f,1]<-nrow(nsnps)\n",
    "n.snps[f,2]<-sum(nsnps$combined_fdr<0.05)\n",
    "\n",
    "nsnps = nsnps[order(nsnps$combined_fdr, decreasing=F),] \n",
    "nsnps = subset(nsnps, !duplicated(nsnps$locus))\n",
    " \n",
    "n.ase[f,1]<-nrow(nsnps)\n",
    "n.ase[f,2]<-sum(nsnps$combined_fdr<0.05)\n",
    "p.per[1:7,f]<-colSums(pval<0.005,na.rm=T)/nrow(pval)\n",
    "\n",
    "\n",
    "ag$alt_freq=1-ag$ref_freq    \n",
    "ag=ag[order(ag$combined_fdr, decreasing=F),] \n",
    "ag=subset(ag, !duplicated(ag$peakID))\n",
    "ag=ag[order(ag$combined_fdr, decreasing=T),] # to plot the more sign on the top\n",
    "\n",
    "n.snps[f,3]<-n.ase[f,3]<-sum(ag$combined_fdr<0.05)\n",
    "\n",
    "colors=c(\"gray70\", \"gray30\")[(ag$combined_fdr<0.05)+1]\n",
    "ylim=c(-max(abs(ag$Coefficient)),max(abs(ag$Coefficient)))\n",
    "    ylim=c(-3, 3)\n",
    "plot(Coefficient~alt_freq,data=ag, ylim=ylim,\n",
    "     pch=16, cex=CEX[f], col=colors, xlim=c(0,1), xlab=\"Alternate. allele freq.\", ylab=\"Beta\", \n",
    "     cex.lab=1.1, cex.axis=1.1, main=marks[f])\n",
    "abline(a=0,b=0, lty=2, col=\"red\", lwd=2)\n",
    "abline(v=0.5, lty=2, col=\"red\", lwd=2)\n",
    "  \n",
    "co=cor.test(ag$Coefficient, ag$alt_freq, method=\"spearman\", exact=F)\n",
    "l=lm(Coefficient~alt_freq,data=ag)\n",
    "abline(l)\n",
    "text (0.8, -2, paste( \"Rho=\",round(co$estimate,2), \"\\n p.val=\",signif(co$p.value,3) ),cex=1.1)\n",
    "\n",
    "    write.table(ag, paste(\"Plotted\", corr[f], sep=\"_\"), sep=\"\\t\", row.names=FALSE, col.names=TRUE)\n",
    "\n",
    "}\n"
   ]
  },
  {
   "cell_type": "code",
   "execution_count": 33,
   "metadata": {
    "collapsed": false
   },
   "outputs": [],
   "source": [
    "rownames(n.snps)<-rownames(n.ase)<-c(  \"H3K27ac (CMs)\", \"H3K27ac (iPSCs)\" ,\"NKX2-5 (CMs)\" )\n",
    "colnames(n.ase)<-colnames(n.snps)<- c( \"Tested\", \"ASE q<0.05\",\"plotted ASE q<0.05\")\n",
    "colnames(p.per)<-rownames(n.ase)\n",
    "rownames(p.per)<-colnames(pval)"
   ]
  },
  {
   "cell_type": "code",
   "execution_count": 34,
   "metadata": {
    "collapsed": false
   },
   "outputs": [
    {
     "data": {
      "text/html": [
       "<table>\n",
       "<thead><tr><th></th><th scope=col>Tested</th><th scope=col>ASE q&lt;0.05</th><th scope=col>plotted ASE q&lt;0.05</th></tr></thead>\n",
       "<tbody>\n",
       "\t<tr><th scope=row>H3K27ac (CMs)</th><td>123151</td><td> 803  </td><td> 550  </td></tr>\n",
       "\t<tr><th scope=row>H3K27ac (iPSCs)</th><td>116898</td><td> 373  </td><td> 255  </td></tr>\n",
       "\t<tr><th scope=row>NKX2-5 (CMs)</th><td> 19371</td><td>1941  </td><td>1714  </td></tr>\n",
       "</tbody>\n",
       "</table>\n"
      ],
      "text/latex": [
       "\\begin{tabular}{r|lll}\n",
       "  & Tested & ASE q<0.05 & plotted ASE q<0.05\\\\\n",
       "\\hline\n",
       "\tH3K27ac (CMs) & 123151 &  803   &  550  \\\\\n",
       "\tH3K27ac (iPSCs) & 116898 &  373   &  255  \\\\\n",
       "\tNKX2-5 (CMs) &  19371 & 1941   & 1714  \\\\\n",
       "\\end{tabular}\n"
      ],
      "text/plain": [
       "                Tested ASE q<0.05 plotted ASE q<0.05\n",
       "H3K27ac (CMs)   123151  803        550              \n",
       "H3K27ac (iPSCs) 116898  373        255              \n",
       "NKX2-5 (CMs)     19371 1941       1714              "
      ]
     },
     "metadata": {},
     "output_type": "display_data"
    },
    {
     "data": {
      "text/html": [
       "<table>\n",
       "<thead><tr><th></th><th scope=col>Tested</th><th scope=col>ASE q&lt;0.05</th><th scope=col>plotted ASE q&lt;0.05</th></tr></thead>\n",
       "<tbody>\n",
       "\t<tr><th scope=row>H3K27ac (CMs)</th><td>49597</td><td> 646 </td><td> 550 </td></tr>\n",
       "\t<tr><th scope=row>H3K27ac (iPSCs)</th><td>57631</td><td> 301 </td><td> 255 </td></tr>\n",
       "\t<tr><th scope=row>NKX2-5 (CMs)</th><td>14695</td><td>1828 </td><td>1714 </td></tr>\n",
       "</tbody>\n",
       "</table>\n"
      ],
      "text/latex": [
       "\\begin{tabular}{r|lll}\n",
       "  & Tested & ASE q<0.05 & plotted ASE q<0.05\\\\\n",
       "\\hline\n",
       "\tH3K27ac (CMs) & 49597 &  646  &  550 \\\\\n",
       "\tH3K27ac (iPSCs) & 57631 &  301  &  255 \\\\\n",
       "\tNKX2-5 (CMs) & 14695 & 1828  & 1714 \\\\\n",
       "\\end{tabular}\n"
      ],
      "text/plain": [
       "                Tested ASE q<0.05 plotted ASE q<0.05\n",
       "H3K27ac (CMs)   49597   646        550              \n",
       "H3K27ac (iPSCs) 57631   301        255              \n",
       "NKX2-5 (CMs)    14695  1828       1714              "
      ]
     },
     "metadata": {},
     "output_type": "display_data"
    }
   ],
   "source": [
    "n.snps\n",
    "n.ase"
   ]
  },
  {
   "cell_type": "code",
   "execution_count": 35,
   "metadata": {
    "collapsed": true
   },
   "outputs": [],
   "source": [
    "write.csv(n.snps, paste(dir_ase, \"Summary_ase_per_snv.csv\", sep=\"/\"))\n",
    "write.csv(n.ase,  paste(dir_ase, \"Summary_ase_per_region.csv\", sep=\"/\"))\n",
    "write.csv(p.per,  paste(dir_ase, \"Summary_ase_per_sample.csv\", sep=\"/\"))\n"
   ]
  },
  {
   "cell_type": "markdown",
   "metadata": {},
   "source": [
    "### Plot summary togheter  the results of ChiP-Seq and RNA-Seq"
   ]
  },
  {
   "cell_type": "code",
   "execution_count": 1,
   "metadata": {
    "collapsed": false
   },
   "outputs": [
    {
     "data": {
      "text/html": [
       "<table>\n",
       "<thead><tr><th></th><th scope=col>Tested</th><th scope=col>ASE.q.0.05</th><th scope=col>plotted.ASE.q.0.05</th></tr></thead>\n",
       "<tbody>\n",
       "\t<tr><th scope=row>RNA-Seq (CMs)</th><td> 50097</td><td>1262  </td><td> 799  </td></tr>\n",
       "\t<tr><th scope=row>RNA-Seq (iPSCs)</th><td> 50953</td><td>1809  </td><td> 970  </td></tr>\n",
       "\t<tr><th scope=row>H3K27ac (CMs)</th><td>123151</td><td> 803  </td><td> 550  </td></tr>\n",
       "\t<tr><th scope=row>H3K27ac (iPSCs)</th><td>116898</td><td> 373  </td><td> 255  </td></tr>\n",
       "\t<tr><th scope=row>NKX2-5 (CMs)</th><td> 19371</td><td>1941  </td><td>1714  </td></tr>\n",
       "</tbody>\n",
       "</table>\n"
      ],
      "text/latex": [
       "\\begin{tabular}{r|lll}\n",
       "  & Tested & ASE.q.0.05 & plotted.ASE.q.0.05\\\\\n",
       "\\hline\n",
       "\tRNA-Seq (CMs) &  50097 & 1262   &  799  \\\\\n",
       "\tRNA-Seq (iPSCs) &  50953 & 1809   &  970  \\\\\n",
       "\tH3K27ac (CMs) & 123151 &  803   &  550  \\\\\n",
       "\tH3K27ac (iPSCs) & 116898 &  373   &  255  \\\\\n",
       "\tNKX2-5 (CMs) &  19371 & 1941   & 1714  \\\\\n",
       "\\end{tabular}\n"
      ],
      "text/plain": [
       "                Tested ASE.q.0.05 plotted.ASE.q.0.05\n",
       "RNA-Seq (CMs)    50097 1262        799              \n",
       "RNA-Seq (iPSCs)  50953 1809        970              \n",
       "H3K27ac (CMs)   123151  803        550              \n",
       "H3K27ac (iPSCs) 116898  373        255              \n",
       "NKX2-5 (CMs)     19371 1941       1714              "
      ]
     },
     "metadata": {},
     "output_type": "display_data"
    }
   ],
   "source": [
    "dir_ase  = paste ('/home/paola/Family1070/private_output', c('ASE_rna', 'ASE_chip') , 'pipeline/results', sep=\"/\")\n",
    "\n",
    "n.snpsc = read.csv(paste(dir_ase[2], \"Summary_ase_per_snv.csv\", sep=\"/\"), row.names=1)\n",
    "n.asec = read.csv(paste(dir_ase[2], \"Summary_ase_per_region.csv\", sep=\"/\"), row.names=1)\n",
    "p.perc = read.csv(paste(dir_ase[2], \"Summary_ase_per_sample.csv\", sep=\"/\"), row.names=1)\n",
    "\n",
    "n.snpsr = read.csv(paste(dir_ase[1], \"Summary_ase_per_snv.csv\", sep=\"/\"), row.names=1)\n",
    "n.aser = read.csv(paste(dir_ase[1], \"Summary_ase_per_region.csv\", sep=\"/\"), row.names=1)\n",
    "p.perr = read.csv(paste(dir_ase[1], \"Summary_ase_per_sample.csv\", sep=\"/\"), row.names=1)\n",
    "\n",
    "\n",
    "n.snps = rbind(n.snpsr,n.snpsc )\n",
    "n.ase  = rbind(n.aser,n.asec )\n",
    "n.snps"
   ]
  },
  {
   "cell_type": "code",
   "execution_count": 2,
   "metadata": {
    "collapsed": false
   },
   "outputs": [
    {
     "data": {
      "text/html": [
       "<table>\n",
       "<thead><tr><th></th><th scope=col>Tested</th><th scope=col>ASE.q.0.05</th><th scope=col>plotted.ASE.q.0.05</th></tr></thead>\n",
       "<tbody>\n",
       "\t<tr><th scope=row>H3K27ac (CMs)</th><td>49597</td><td> 646 </td><td> 550 </td></tr>\n",
       "\t<tr><th scope=row>H3K27ac (iPSCs)</th><td>57631</td><td> 301 </td><td> 255 </td></tr>\n",
       "\t<tr><th scope=row>NKX2-5 (CMs)</th><td>14695</td><td>1828 </td><td>1714 </td></tr>\n",
       "</tbody>\n",
       "</table>\n"
      ],
      "text/latex": [
       "\\begin{tabular}{r|lll}\n",
       "  & Tested & ASE.q.0.05 & plotted.ASE.q.0.05\\\\\n",
       "\\hline\n",
       "\tH3K27ac (CMs) & 49597 &  646  &  550 \\\\\n",
       "\tH3K27ac (iPSCs) & 57631 &  301  &  255 \\\\\n",
       "\tNKX2-5 (CMs) & 14695 & 1828  & 1714 \\\\\n",
       "\\end{tabular}\n"
      ],
      "text/plain": [
       "                Tested ASE.q.0.05 plotted.ASE.q.0.05\n",
       "H3K27ac (CMs)   49597   646        550              \n",
       "H3K27ac (iPSCs) 57631   301        255              \n",
       "NKX2-5 (CMs)    14695  1828       1714              "
      ]
     },
     "metadata": {},
     "output_type": "display_data"
    }
   ],
   "source": [
    "n.asec"
   ]
  },
  {
   "cell_type": "code",
   "execution_count": 3,
   "metadata": {
    "collapsed": false
   },
   "outputs": [],
   "source": [
    "n.snps = n.snps[c(2,1,4,3,5),]\n",
    "n.ase = n.ase[c(2,1,4,3,5),]"
   ]
  },
  {
   "cell_type": "code",
   "execution_count": 38,
   "metadata": {
    "collapsed": false
   },
   "outputs": [
    {
     "data": {
      "text/html": [
       "<strong>png:</strong> 2"
      ],
      "text/latex": [
       "\\textbf{png:} 2"
      ],
      "text/markdown": [
       "**png:** 2"
      ],
      "text/plain": [
       "png \n",
       "  2 "
      ]
     },
     "metadata": {},
     "output_type": "display_data"
    }
   ],
   "source": [
    "pdf('/home/paola/Family1070/private_output/Figures/Summary_ASE_significant.pdf')\n",
    "par(mar=c(10,10,10,10), pin=c(2,1.5), mfrow=c(2,2))\n",
    "\n",
    "\n",
    "#############\n",
    "ptc<-(n.snps[,2]/n.snps[,1])*100\n",
    "ptc2<-(n.ase[,2]/n.ase[,1])*100\n",
    "\n",
    "barplot(t(cbind(n.ase[,1], n.snps[,1])), beside=T, legend.text=c(\"Regions\", \"SNVs\"),\n",
    "        xpd=FALSE, las=2, col=c(\"tomato\", \"bisque\"), space=c(0,0.4), names.arg=rownames(n.ase) )\n",
    "\n",
    "\n",
    "barplot(t(cbind(n.ase[,2], n.snps[,2])), beside=T, legend.text=c(\"Regions\", \"SNVs\"),\n",
    "        xpd=FALSE, las=2, col=c(\"tomato\", \"bisque\"), space=c(0,0.4), names.arg=rownames(n.ase) )\n",
    "#################\n",
    "\n",
    "#boxplot(p.per, cex.axis=1, outline=F, las=2)\n",
    "#stripchart(t(p.per)~c(1:4), vertical = TRUE, method = \"jitter\", add = TRUE, pch = 21, , cex=1, col = \"black\", bg = \"bisque\")\n",
    "\n",
    "\n",
    "###############\n",
    "\n",
    "dev.off()"
   ]
  },
  {
   "cell_type": "code",
   "execution_count": 22,
   "metadata": {
    "collapsed": false
   },
   "outputs": [
    {
     "data": {
      "text/html": [
       "<table>\n",
       "<thead><tr><th></th><th scope=col>Tested</th><th scope=col>ASE.q.0.05</th><th scope=col>plotted.ASE.q.0.05</th></tr></thead>\n",
       "<tbody>\n",
       "\t<tr><th scope=row>RNA-Seq (iPSCs)</th><td>12492</td><td>1108 </td><td> 970 </td></tr>\n",
       "\t<tr><th scope=row>RNA-Seq (CMs)</th><td>12701</td><td> 894 </td><td> 799 </td></tr>\n",
       "\t<tr><th scope=row>H3K27ac (iPSCs)</th><td>57631</td><td> 301 </td><td> 255 </td></tr>\n",
       "\t<tr><th scope=row>H3K27ac (CMs)</th><td>49597</td><td> 646 </td><td> 550 </td></tr>\n",
       "\t<tr><th scope=row>NKX2-5 (CMs)</th><td>14695</td><td>1828 </td><td>1714 </td></tr>\n",
       "</tbody>\n",
       "</table>\n"
      ],
      "text/latex": [
       "\\begin{tabular}{r|lll}\n",
       "  & Tested & ASE.q.0.05 & plotted.ASE.q.0.05\\\\\n",
       "\\hline\n",
       "\tRNA-Seq (iPSCs) & 12492 & 1108  &  970 \\\\\n",
       "\tRNA-Seq (CMs) & 12701 &  894  &  799 \\\\\n",
       "\tH3K27ac (iPSCs) & 57631 &  301  &  255 \\\\\n",
       "\tH3K27ac (CMs) & 49597 &  646  &  550 \\\\\n",
       "\tNKX2-5 (CMs) & 14695 & 1828  & 1714 \\\\\n",
       "\\end{tabular}\n"
      ],
      "text/plain": [
       "                Tested ASE.q.0.05 plotted.ASE.q.0.05\n",
       "RNA-Seq (iPSCs) 12492  1108        970              \n",
       "RNA-Seq (CMs)   12701   894        799              \n",
       "H3K27ac (iPSCs) 57631   301        255              \n",
       "H3K27ac (CMs)   49597   646        550              \n",
       "NKX2-5 (CMs)    14695  1828       1714              "
      ]
     },
     "metadata": {},
     "output_type": "display_data"
    }
   ],
   "source": [
    "n.ase"
   ]
  },
  {
   "cell_type": "markdown",
   "metadata": {},
   "source": [
    "### Plot together the correlation with B"
   ]
  },
  {
   "cell_type": "code",
   "execution_count": 107,
   "metadata": {
    "collapsed": false
   },
   "outputs": [],
   "source": [
    "marks = c('iPSC-CM_RNA-Seq', 'H3K27AC_CM', 'NKX25','iPSC_RNA-Seq', 'H3K27AC_IPSC')"
   ]
  },
  {
   "cell_type": "code",
   "execution_count": 108,
   "metadata": {
    "collapsed": false
   },
   "outputs": [],
   "source": [
    "fig = '/home/paola/Family1070/private_output/Figures'\n",
    "home_chip = \"/home/paola/Family1070/private_output/ASE_chip/correlationWithBeta/\"\n",
    "home_rna = \"/home/paola/Family1070/private_output/ASE_rna/correlationWithBeta/\"\n",
    "corr    = paste(c(home_rna,home_chip,home_chip,home_rna,home_chip ),\"Plotted_Correlation_ase_snv_\", marks, \".txt\", sep=\"\")"
   ]
  },
  {
   "cell_type": "code",
   "execution_count": 42,
   "metadata": {
    "collapsed": false
   },
   "outputs": [
    {
     "data": {
      "text/html": [
       "<strong>png:</strong> 2"
      ],
      "text/latex": [
       "\\textbf{png:} 2"
      ],
      "text/markdown": [
       "**png:** 2"
      ],
      "text/plain": [
       "png \n",
       "  2 "
      ]
     },
     "metadata": {},
     "output_type": "display_data"
    }
   ],
   "source": [
    "pdf(paste(fig, \"Correlation of_ASE_with_effect_size.pdf\", sep=\"/\"))\n",
    "par(mar=c(5,5,5,5), pin=c(1.2,1.2), mfrow=c(3,3))\n",
    "\n",
    "\n",
    "for (f in 1:length(marks)){\n",
    "\n",
    "\n",
    "ag    = read.table(corr[f], header=TRUE, check.names=F)\n",
    "\n",
    "colors=c(\"gray70\", \"gray30\")[(ag$combined_fdr<0.05)+1]\n",
    "ylim=c(-max(abs(ag$Coefficient)),max(abs(ag$Coefficient)))\n",
    "    ylim=c(-3, 3)\n",
    "plot(Coefficient~alt_freq,data=ag, ylim=ylim,\n",
    "     pch=16, cex=0.45, col=colors, xlim=c(0,1), xlab=\"Alternate. allele freq.\", ylab=\"Effect size (B)\", \n",
    "     cex.lab=1.1, cex.axis=1.1, main=marks[f])\n",
    "    \n",
    "abline(a=0,b=0, lty=2, col=\"red\", lwd=2)\n",
    "abline(v=0.5, lty=2, col=\"red\", lwd=2)\n",
    "  \n",
    "co=cor.test(ag$Coefficient, ag$alt_freq, method=\"spearman\", exact=F)\n",
    "l=lm(Coefficient~alt_freq,data=ag)\n",
    "abline(l)\n",
    "text (0.8, -2, paste( \"r=\",round(co$estimate,2), \"\\n P=\",signif(co$p.value,3) ),cex=1)\n",
    "\n",
    "\n",
    "}\n",
    "dev.off()"
   ]
  },
  {
   "cell_type": "markdown",
   "metadata": {
    "collapsed": true
   },
   "source": [
    "## Shared ASE between iPSCs and iPSC CMs"
   ]
  },
  {
   "cell_type": "code",
   "execution_count": 5,
   "metadata": {
    "collapsed": false
   },
   "outputs": [],
   "source": [
    "setwd('/frazer01/home/paola/Family1070/private_output/')"
   ]
  },
  {
   "cell_type": "code",
   "execution_count": 6,
   "metadata": {
    "collapsed": true
   },
   "outputs": [],
   "source": [
    "h3ips = read.table('ASE_chip/correlationWithBeta/Correlation_ase_snv_H3K27AC_IPSC.txt', sep=\"\\t\", header=T)\n",
    "h3cm  = read.table('ASE_chip/correlationWithBeta/Correlation_ase_snv_H3K27AC_CM.txt', sep=\"\\t\", header=T)\n",
    "rnaips = read.table('ASE_rna/correlationWithBeta/Correlation_ase_snv_iPSC_RNA-Seq.txt', sep=\"\\t\", header=T)\n",
    "rnacm = read.table('ASE_rna/correlationWithBeta/Correlation_ase_snv_iPSC-CM_RNA-Seq.txt', sep=\"\\t\", header=T)"
   ]
  },
  {
   "cell_type": "code",
   "execution_count": 7,
   "metadata": {
    "collapsed": false
   },
   "outputs": [],
   "source": [
    "meged_rna= merge(rnaips[,c(\"varID\", \"ref_freq\")], rnacm[,c(\"varID\", \"ref_freq\")], by=\"varID\")"
   ]
  },
  {
   "cell_type": "code",
   "execution_count": 8,
   "metadata": {
    "collapsed": true
   },
   "outputs": [],
   "source": [
    "meged_h3k= merge(h3ips[,c(\"varID\", \"ref_freq\")], h3cm[,c(\"varID\", \"ref_freq\")], by=\"varID\")"
   ]
  },
  {
   "cell_type": "code",
   "execution_count": 9,
   "metadata": {
    "collapsed": false
   },
   "outputs": [],
   "source": [
    "shared_snps =c(sum(rnaips$varID %in% rnacm$varID), sum(rnacm$varID %in% rnaips$varID), \n",
    "               sum(h3ips$varID %in% h3cm$varID), sum(h3cm$varID %in% h3ips$varID),0)\n",
    "\n",
    "shared_regions =c(length(unique(rnaips$locus[rnaips$varID %in% rnacm$varID])), length(unique(rnacm$locus[rnacm$varID %in% rnaips$varID])),\n",
    "               length(unique(h3ips$peakID[h3ips$varID %in% h3cm$varID])), length(unique(h3cm$peakID[h3cm$varID %in% h3ips$varID])),0)\n",
    "\n",
    "\n"
   ]
  },
  {
   "cell_type": "code",
   "execution_count": 65,
   "metadata": {
    "collapsed": false
   },
   "outputs": [
    {
     "data": {
      "text/html": [
       "<strong>png:</strong> 2"
      ],
      "text/latex": [
       "\\textbf{png:} 2"
      ],
      "text/markdown": [
       "**png:** 2"
      ],
      "text/plain": [
       "png \n",
       "  2 "
      ]
     },
     "metadata": {},
     "output_type": "display_data"
    }
   ],
   "source": [
    "pdf('/home/paola/Family1070/private_output/Figures/Summary_ASE_significant_with_shared.pdf')\n",
    "par(mar=c(10,10,10,10), pin=c(2,1.5), mfrow=c(2,2))\n",
    "\n",
    "barplot(t(cbind(n.ase[,1], n.snps[,1])), beside=T, legend.text=c(\"Regions\", \"SNVs\"),\n",
    "        xpd=FALSE, las=2, col=c(\"tomato\", \"bisque\"), space=c(0,0.4), names.arg=rownames(n.ase) )\n",
    "\n",
    "\n",
    "barplot(t(cbind(n.ase[,2], n.snps[,2])), beside=T, \n",
    "        xpd=FALSE, las=2, col=c(\"tomato\", \"bisque\"), space=c(0,0.4), names.arg=rownames(n.ase), ylim=c(0, 2000) )\n",
    "barplot(t(cbind(shared_regions , shared_snps)), beside=T, \n",
    "        xpd=FALSE, las=2 ,density =20, col=\"black\", space=c(0,0.4) , add=T, legend.text=\"Shared\")\n",
    "dev.off()"
   ]
  },
  {
   "cell_type": "code",
   "execution_count": 179,
   "metadata": {
    "collapsed": true
   },
   "outputs": [],
   "source": [
    "plot_co = function(x,y, posx,posy, col, label )  {\n",
    "co=cor.test(x, y, method=\"spearman\", exact=F)\n",
    "l=lm(y~x)\n",
    "abline(l, col=col, lwd=2)\n",
    "text (posx,posy, paste(label, \"\\n r=\" , round(co$estimate,2), \"\\n P=\",signif(co$p.value,1) ),cex=1, col=col)\n",
    "    \n",
    "}\n"
   ]
  },
  {
   "cell_type": "code",
   "execution_count": 200,
   "metadata": {
    "collapsed": false
   },
   "outputs": [
    {
     "data": {
      "text/html": [
       "<strong>png:</strong> 2"
      ],
      "text/latex": [
       "\\textbf{png:} 2"
      ],
      "text/markdown": [
       "**png:** 2"
      ],
      "text/plain": [
       "png \n",
       "  2 "
      ]
     },
     "metadata": {},
     "output_type": "display_data"
    }
   ],
   "source": [
    "pdf('/home/paola/Family1070/private_output/Figures/Combined_ASE_figure.pdf')\n",
    "\n",
    "par(mar=c(4,4,4,4), mfrow=c(2,3))\n",
    "par( pin=c(1.8,1.2))\n",
    "\n",
    "colors=c(\"tomato\", \"bisque\")\n",
    "\n",
    "barplot(t(cbind(n.ase[,1], n.snps[,1])), beside=T, legend.text=c(\"Regions\", \"SNVs\"),\n",
    "        xpd=FALSE, las=2, col=colors, space=c(0,0.4), names.arg=rownames(n.ase) )\n",
    "\n",
    "\n",
    "barplot(t(cbind(n.ase[,2], n.snps[,2])), beside=T, \n",
    "        xpd=FALSE, las=2, col=colors, space=c(0,0.4), names.arg=rownames(n.ase), ylim=c(0, 2000))\n",
    "barplot(t(cbind(shared_regions , shared_snps)), beside=T, \n",
    "        xpd=FALSE, las=2 ,density =20, col=\"black\", space=c(0,0.4) , add=T, legend.text=\"Shared\")\n",
    "\n",
    "par( pin=c(1.2,1.2))\n",
    "colors=c( \"gray20\",\"tomato\")\n",
    "plot(ref_freq.y~ ref_freq.x, meged_rna, col=colors[1], pch=20, cex=0.45, bty='n', xlim=c(0,1), ylim=c(0,1),\n",
    "     xlab=\"ASE iPSCs\", ylab=\"ASE iPSC-CMs\",cex.lab=1.1, cex.axis=1.1)\n",
    "points(ref_freq.y~ ref_freq.x, meged_h3k,  col=colors[2], pch=20, cex=0.45)\n",
    "plot_co (meged_rna$ref_freq.x,meged_rna$ref_freq.y, 0.8,0.2, col=colors[1], \"mRNA\" )\n",
    "plot_co (meged_h3k$ref_freq.x,meged_h3k$ref_freq.y, 0.2,0.8, col=colors[2], \"H3K27ac\" )\n",
    "\n",
    "marks_use = marks[c(4,1,5,2,3)]\n",
    "corr    = paste(c(home_rna,home_rna,home_chip,home_chip,home_chip ),\"Plotted_Correlation_ase_snv_\", marks_use, \".txt\", sep=\"\")\n",
    "par( pin=c(1.4,1.4))\n",
    "colors=c( \"gray60\",\"gray20\",\"gray60\",\"gray20\",\"gray20\")\n",
    "#colors=c( \"tomato\",\"gray30\",\"tomato\",\"gray30\",\"gray30\")\n",
    "\n",
    "for (f in 1:length(marks)){\n",
    "ag    = read.table(corr[f], header=TRUE, check.names=F)\n",
    "\n",
    "    if(f%%2){\n",
    "        \n",
    "plot(Coefficient~alt_freq, data=ag, ylim=c(-3,3), xlim=c(0,1), #bty='n',\n",
    "     pch=20, cex=0.5, col=colors[f], xlab=\"Alt. proportion (ASE)\", ylab=\"Effect size (B)\", \n",
    "     cex.lab=1.1, cex.axis=1.1)\n",
    "        abline(v=0.5, h=0, lty=2, lwd =2, col=\"red\")\n",
    "plot_co ( ag$alt_freq, ag$Coefficient,0.2,2.5, col=colors[f], marks_use[f] )\n",
    "}\n",
    "    \n",
    "    \n",
    "    else{\n",
    "        \n",
    "    points(Coefficient~alt_freq,data=ag, ylim=c(-3,3), xlim=c(0,1), \n",
    "     pch=20, cex=0.5, col=colors[f])\n",
    "plot_co (ag$alt_freq,ag$Coefficient,  0.8,-2.5, col=colors[f] , marks_use[f])\n",
    "\n",
    "        \n",
    "    } \n",
    "       \n",
    "       }\n",
    "    \n",
    "dev.off()"
   ]
  },
  {
   "cell_type": "markdown",
   "metadata": {
    "collapsed": true
   },
   "source": [
    "### Add ATAC-Seq"
   ]
  },
  {
   "cell_type": "code",
   "execution_count": 12,
   "metadata": {
    "collapsed": true
   },
   "outputs": [],
   "source": [
    "aip = read.table(\"ASE_chip/correlationWithBeta/ASE.tested.ATAC_IPSC.txt\", header=T)\n",
    "acm = read.table(\"ASE_chip/correlationWithBeta/ASE.tested.ATAC_CM.txt\", header=T)"
   ]
  },
  {
   "cell_type": "code",
   "execution_count": 13,
   "metadata": {
    "collapsed": true
   },
   "outputs": [],
   "source": [
    "count_ase = function( nsnps) {\n",
    "snps = c( nrow(nsnps), sum(nsnps$combined_fdr<0.05))\n",
    "\n",
    "nsnps = nsnps[order(nsnps$combined_fdr, decreasing=F),] \n",
    "nsnps = subset(nsnps, !duplicated(nsnps$locus))\n",
    " \n",
    "regions = c( nrow(nsnps), sum(nsnps$combined_fdr<0.05))\n",
    "    return(list(snps, regions))\n",
    "}"
   ]
  },
  {
   "cell_type": "code",
   "execution_count": 29,
   "metadata": {
    "collapsed": false
   },
   "outputs": [],
   "source": [
    "asnps = rbind(count_ase(aip)[[1]], count_ase(acm)[[1]])\n",
    "aregi = rbind(count_ase(aip)[[2]], count_ase(acm)[[2]])\n",
    "colnames(asnps) = colnames(aregi) = colnames(n.ase)[1:2]\n",
    "rownames(asnps) = rownames(aregi) = c(\"ATAC (iPSCs)\", \"ATAC (CMs)\")"
   ]
  },
  {
   "cell_type": "code",
   "execution_count": 30,
   "metadata": {
    "collapsed": false
   },
   "outputs": [],
   "source": [
    "new.ase  = rbind(n.ase[1:4,1:2], aregi, n.ase[5,1:2])\n",
    "new.snps = rbind(n.snps[1:4,1:2], asnps, n.snps[5,1:2])"
   ]
  },
  {
   "cell_type": "code",
   "execution_count": 33,
   "metadata": {
    "collapsed": false
   },
   "outputs": [],
   "source": [
    "aip = subset(aip, combined_fdr<0.05)\n",
    "acm = subset(acm, combined_fdr<0.05)\n",
    "\n",
    "shs = c(sum(aip$variantID %in% acm$variantID), sum(acm$variantID %in% aip$variantID))\n",
    "              \n",
    "shr = c(length(unique(aip$locus[aip$variantID %in% acm$variantID])), length(unique(acm$locus[acm$variantID %in% aip$variantID])))"
   ]
  },
  {
   "cell_type": "code",
   "execution_count": 36,
   "metadata": {
    "collapsed": false
   },
   "outputs": [],
   "source": [
    "shared_regions = c(shared_regions[1:4], shr,0)\n",
    "shared_snps   = c( shared_snps[1:4], shs,0)"
   ]
  },
  {
   "cell_type": "code",
   "execution_count": 41,
   "metadata": {
    "collapsed": false
   },
   "outputs": [
    {
     "data": {
      "text/html": [
       "<strong>png:</strong> 2"
      ],
      "text/latex": [
       "\\textbf{png:} 2"
      ],
      "text/markdown": [
       "**png:** 2"
      ],
      "text/plain": [
       "png \n",
       "  2 "
      ]
     },
     "metadata": {},
     "output_type": "display_data"
    }
   ],
   "source": [
    "pdf('/home/paola/Family1070/private_output/Figures/ASE_figure_with_ATAC.pdf')\n",
    "\n",
    "par(mar=c(10,10,10,10), pin=c(2,1.5), mfrow=c(2,2))\n",
    "\n",
    "barplot(t(cbind(new.ase[,1], new.snps[,1])), beside=T, legend.text=c(\"Regions\", \"SNVs\"),\n",
    "        xpd=FALSE, las=2, col=c(\"tomato\", \"bisque\"), space=c(0,0.4), names.arg=rownames(new.ase) )\n",
    "\n",
    "\n",
    "barplot(t(cbind(new.ase[,2], new.snps[,2])), beside=T, \n",
    "        xpd=FALSE, las=2, col=c(\"tomato\", \"bisque\"), space=c(0,0.4), names.arg=rownames(new.ase), ylim=c(0, 2000) )\n",
    "barplot(t(cbind(shared_regions , shared_snps)), beside=T, \n",
    "        xpd=FALSE, las=2 ,density =20, col=\"black\", space=c(0,0.4) , add=T, legend.text=\"Shared\")\n",
    "dev.off()"
   ]
  },
  {
   "cell_type": "code",
   "execution_count": 47,
   "metadata": {
    "collapsed": false
   },
   "outputs": [
    {
     "data": {
      "text/html": [
       "<ol class=list-inline>\n",
       "\t<li>3.55</li>\n",
       "\t<li>2.52</li>\n",
       "\t<li>0.32</li>\n",
       "\t<li>0.65</li>\n",
       "\t<li>0.42</li>\n",
       "\t<li>0.3</li>\n",
       "\t<li>10.02</li>\n",
       "</ol>\n"
      ],
      "text/latex": [
       "\\begin{enumerate*}\n",
       "\\item 3.55\n",
       "\\item 2.52\n",
       "\\item 0.32\n",
       "\\item 0.65\n",
       "\\item 0.42\n",
       "\\item 0.3\n",
       "\\item 10.02\n",
       "\\end{enumerate*}\n"
      ],
      "text/markdown": [
       "1. 3.55\n",
       "2. 2.52\n",
       "3. 0.32\n",
       "4. 0.65\n",
       "5. 0.42\n",
       "6. 0.3\n",
       "7. 10.02\n",
       "\n",
       "\n"
      ],
      "text/plain": [
       "[1]  3.55  2.52  0.32  0.65  0.42  0.30 10.02"
      ]
     },
     "metadata": {},
     "output_type": "display_data"
    }
   ],
   "source": [
    "round((new.snps[,2]/new.snps[,1])*100,2)"
   ]
  },
  {
   "cell_type": "code",
   "execution_count": 45,
   "metadata": {
    "collapsed": false
   },
   "outputs": [
    {
     "data": {
      "text/html": [
       "<ol class=list-inline>\n",
       "\t<li>'RNA-Seq (iPSCs)'</li>\n",
       "\t<li>'RNA-Seq (CMs)'</li>\n",
       "\t<li>'H3K27ac (iPSCs)'</li>\n",
       "\t<li>'H3K27ac (CMs)'</li>\n",
       "\t<li>'ATAC (iPSCs)'</li>\n",
       "\t<li>'ATAC (CMs)'</li>\n",
       "\t<li>'NKX2-5 (CMs)'</li>\n",
       "</ol>\n"
      ],
      "text/latex": [
       "\\begin{enumerate*}\n",
       "\\item 'RNA-Seq (iPSCs)'\n",
       "\\item 'RNA-Seq (CMs)'\n",
       "\\item 'H3K27ac (iPSCs)'\n",
       "\\item 'H3K27ac (CMs)'\n",
       "\\item 'ATAC (iPSCs)'\n",
       "\\item 'ATAC (CMs)'\n",
       "\\item 'NKX2-5 (CMs)'\n",
       "\\end{enumerate*}\n"
      ],
      "text/markdown": [
       "1. 'RNA-Seq (iPSCs)'\n",
       "2. 'RNA-Seq (CMs)'\n",
       "3. 'H3K27ac (iPSCs)'\n",
       "4. 'H3K27ac (CMs)'\n",
       "5. 'ATAC (iPSCs)'\n",
       "6. 'ATAC (CMs)'\n",
       "7. 'NKX2-5 (CMs)'\n",
       "\n",
       "\n"
      ],
      "text/plain": [
       "[1] \"RNA-Seq (iPSCs)\" \"RNA-Seq (CMs)\"   \"H3K27ac (iPSCs)\" \"H3K27ac (CMs)\"  \n",
       "[5] \"ATAC (iPSCs)\"    \"ATAC (CMs)\"      \"NKX2-5 (CMs)\"   "
      ]
     },
     "metadata": {},
     "output_type": "display_data"
    }
   ],
   "source": [
    "rownames(new.snps)"
   ]
  },
  {
   "cell_type": "code",
   "execution_count": 48,
   "metadata": {
    "collapsed": false
   },
   "outputs": [
    {
     "data": {
      "text/html": [
       "<table>\n",
       "<thead><tr><th></th><th scope=col>Tested</th><th scope=col>ASE.q.0.05</th></tr></thead>\n",
       "<tbody>\n",
       "\t<tr><th scope=row>RNA-Seq (iPSCs)</th><td> 50953</td><td>1809  </td></tr>\n",
       "\t<tr><th scope=row>RNA-Seq (CMs)</th><td> 50097</td><td>1262  </td></tr>\n",
       "\t<tr><th scope=row>H3K27ac (iPSCs)</th><td>116898</td><td> 373  </td></tr>\n",
       "\t<tr><th scope=row>H3K27ac (CMs)</th><td>123151</td><td> 803  </td></tr>\n",
       "\t<tr><th scope=row>ATAC (iPSCs)</th><td> 30463</td><td> 129  </td></tr>\n",
       "\t<tr><th scope=row>ATAC (CMs)</th><td> 26201</td><td>  79  </td></tr>\n",
       "\t<tr><th scope=row>NKX2-5 (CMs)</th><td> 19371</td><td>1941  </td></tr>\n",
       "</tbody>\n",
       "</table>\n"
      ],
      "text/latex": [
       "\\begin{tabular}{r|ll}\n",
       "  & Tested & ASE.q.0.05\\\\\n",
       "\\hline\n",
       "\tRNA-Seq (iPSCs) &  50953 & 1809  \\\\\n",
       "\tRNA-Seq (CMs) &  50097 & 1262  \\\\\n",
       "\tH3K27ac (iPSCs) & 116898 &  373  \\\\\n",
       "\tH3K27ac (CMs) & 123151 &  803  \\\\\n",
       "\tATAC (iPSCs) &  30463 &  129  \\\\\n",
       "\tATAC (CMs) &  26201 &   79  \\\\\n",
       "\tNKX2-5 (CMs) &  19371 & 1941  \\\\\n",
       "\\end{tabular}\n"
      ],
      "text/plain": [
       "                Tested ASE.q.0.05\n",
       "RNA-Seq (iPSCs)  50953 1809      \n",
       "RNA-Seq (CMs)    50097 1262      \n",
       "H3K27ac (iPSCs) 116898  373      \n",
       "H3K27ac (CMs)   123151  803      \n",
       "ATAC (iPSCs)     30463  129      \n",
       "ATAC (CMs)       26201   79      \n",
       "NKX2-5 (CMs)     19371 1941      "
      ]
     },
     "metadata": {},
     "output_type": "display_data"
    }
   ],
   "source": [
    "new.snps"
   ]
  },
  {
   "cell_type": "code",
   "execution_count": null,
   "metadata": {
    "collapsed": true
   },
   "outputs": [],
   "source": []
  }
 ],
 "metadata": {
  "kernelspec": {
   "display_name": "R",
   "language": "R",
   "name": "ir"
  },
  "language_info": {
   "codemirror_mode": "r",
   "file_extension": ".r",
   "mimetype": "text/x-r-source",
   "name": "R",
   "pygments_lexer": "r",
   "version": "3.2.2"
  }
 },
 "nbformat": 4,
 "nbformat_minor": 0
}
