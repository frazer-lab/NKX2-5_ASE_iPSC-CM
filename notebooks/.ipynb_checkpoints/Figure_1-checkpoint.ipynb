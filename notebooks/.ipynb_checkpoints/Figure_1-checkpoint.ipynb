{
 "cells": [
  {
   "cell_type": "markdown",
   "metadata": {},
   "source": [
    "### Principal component plot of gene expression"
   ]
  },
  {
   "cell_type": "code",
   "execution_count": 15,
   "metadata": {
    "collapsed": true
   },
   "outputs": [],
   "source": [
    "homedir=\"/home/paola/Family1070/private_output/\"\n",
    "setwd(homedir)\n",
    "mat  <- read.table(\"PCA_rnaseq/1070_production_and_refs_vst_counts.txt\", row.names=1, header=T, sep=\"\\t\", check.names=F)\n",
    "info <- read.table(\"PCA_rnaseq/1070_production_and_refs_info.txt\", row.names=1, header=T, sep=\"\\t\", check.names=F)\n",
    "mat<-subset(mat, select=as.character(info$ids))"
   ]
  },
  {
   "cell_type": "code",
   "execution_count": 16,
   "metadata": {
    "collapsed": true
   },
   "outputs": [],
   "source": [
    "pca <- prcomp(t(mat))\n",
    "percentVar <- pca$sdev^2 / sum( pca$sdev^2 )"
   ]
  },
  {
   "cell_type": "code",
   "execution_count": 17,
   "metadata": {
    "collapsed": true
   },
   "outputs": [],
   "source": [
    "plot_pca<-function (pcx,pcy){\n",
    "d <- data.frame(PC1=pca$x[,pcx], PC2=pca$x[,pcy], info)\n",
    "\n",
    "    plot(data=d, PC2~PC1,  xlab=(paste0(\"PC\", pcx, \":\" ,round(percentVar[pcx] * 100),\"% variance\")),\n",
    "       ylab=(paste0(\"PC\", pcy, \":\",round(percentVar[pcy] * 100),\"% variance\")) , \n",
    "     pch=c(rep(21,nrow(info)-8), rep(23,8) ), \n",
    "     bg= colors[as.numeric(d$cell_type)], \n",
    "     #bg= as.character(d$subject.color),   \n",
    "          cex=1.8, las=1, xlim=c(min(d$PC1)-1, max(d$PC1)+1) , \n",
    "     \n",
    "         ylim=c(min(d$PC2)-1, max(d$PC2)+1) )\n",
    "grid()\n",
    "text(d$PC1, d$PC2, labels=d$label, pos=c(1,3), cex=1)\n",
    "\n",
    "}"
   ]
  },
  {
   "cell_type": "code",
   "execution_count": 33,
   "metadata": {
    "collapsed": false,
    "scrolled": false
   },
   "outputs": [
    {
     "data": {
      "text/html": [
       "<strong>png:</strong> 2"
      ],
      "text/latex": [
       "\\textbf{png:} 2"
      ],
      "text/markdown": [
       "**png:** 2"
      ],
      "text/plain": [
       "png \n",
       "  2 "
      ]
     },
     "metadata": {},
     "output_type": "display_data"
    }
   ],
   "source": [
    "colors<-c(\"dodgerblue4\", \"gold\", \"lightsteelblue1\", \"bisque\", \"pink\", \"orangered\", \"dodgerblue\"  )\n",
    "pdf(\"Figures/PCA_with_reference.pdf\")\n",
    "par(pin=c(4,2.5))\n",
    "plot_pca(1,2)\n",
    "#plot_pca(1,3)\n",
    "#plot_pca(2,3)\n",
    "\n",
    "legend(\"bottomleft\", pch=c(21,21,21,21,23,23,23),cex=1,\n",
    "       pt.bg=colors[as.numeric(unique(info$cell_type))], legend=unique(info$cell_type), pt.cex=1.8)\n",
    "\n",
    "\n",
    "dev.off()"
   ]
  },
  {
   "cell_type": "code",
   "execution_count": 34,
   "metadata": {
    "collapsed": false
   },
   "outputs": [
    {
     "data": {
      "text/html": [
       "<ol class=list-inline>\n",
       "\t<li>15725</li>\n",
       "\t<li>57</li>\n",
       "</ol>\n"
      ],
      "text/latex": [
       "\\begin{enumerate*}\n",
       "\\item 15725\n",
       "\\item 57\n",
       "\\end{enumerate*}\n"
      ],
      "text/markdown": [
       "1. 15725\n",
       "2. 57\n",
       "\n",
       "\n"
      ],
      "text/plain": [
       "[1] 15725    57"
      ]
     },
     "metadata": {},
     "output_type": "display_data"
    }
   ],
   "source": [
    "dim(mat)"
   ]
  },
  {
   "cell_type": "code",
   "execution_count": 35,
   "metadata": {
    "collapsed": false
   },
   "outputs": [
    {
     "data": {
      "text/html": [
       "<ol class=list-inline>\n",
       "\t<li>57</li>\n",
       "\t<li>5</li>\n",
       "</ol>\n"
      ],
      "text/latex": [
       "\\begin{enumerate*}\n",
       "\\item 57\n",
       "\\item 5\n",
       "\\end{enumerate*}\n"
      ],
      "text/markdown": [
       "1. 57\n",
       "2. 5\n",
       "\n",
       "\n"
      ],
      "text/plain": [
       "[1] 57  5"
      ]
     },
     "metadata": {},
     "output_type": "display_data"
    }
   ],
   "source": [
    "dim(info)"
   ]
  },
  {
   "cell_type": "code",
   "execution_count": 36,
   "metadata": {
    "collapsed": false
   },
   "outputs": [
    {
     "data": {
      "text/plain": [
       "\n",
       "         ESC        heart         iPSC iPSC-CM.15.0 iPSC-CM.15.1 iPSC-CM.25.1 \n",
       "           2            4           22           14            1           12 \n",
       "      iPSC_r \n",
       "           2 "
      ]
     },
     "metadata": {},
     "output_type": "display_data"
    }
   ],
   "source": [
    "table(info$cell_type)"
   ]
  },
  {
   "cell_type": "code",
   "execution_count": null,
   "metadata": {
    "collapsed": true
   },
   "outputs": [],
   "source": []
  }
 ],
 "metadata": {
  "kernelspec": {
   "display_name": "R",
   "language": "R",
   "name": "ir"
  },
  "language_info": {
   "codemirror_mode": "r",
   "file_extension": ".r",
   "mimetype": "text/x-r-source",
   "name": "R",
   "pygments_lexer": "r",
   "version": "3.2.2"
  }
 },
 "nbformat": 4,
 "nbformat_minor": 0
}
