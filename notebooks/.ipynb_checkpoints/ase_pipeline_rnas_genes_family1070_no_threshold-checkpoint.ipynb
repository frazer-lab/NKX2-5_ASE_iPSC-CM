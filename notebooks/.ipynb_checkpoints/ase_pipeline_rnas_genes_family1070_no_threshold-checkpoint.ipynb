{
 "cells": [
  {
   "cell_type": "code",
   "execution_count": 4,
   "metadata": {
    "collapsed": false
   },
   "outputs": [
    {
     "name": "stderr",
     "output_type": "stream",
     "text": [
      "Warning message in file(filename, \"r\", encoding = encoding):\n",
      "“cannot open file '/frazer01/home/paola/my_software/cardips_functions_mod.R': No such file or directory”"
     ]
    },
    {
     "ename": "ERROR",
     "evalue": "Error in file(filename, \"r\", encoding = encoding): cannot open the connection\n",
     "output_type": "error",
     "traceback": [
      "Error in file(filename, \"r\", encoding = encoding): cannot open the connection\nTraceback:\n",
      "1. source(\"/frazer01/home/paola/my_software/cardips_functions_mod.R\")",
      "2. file(filename, \"r\", encoding = encoding)"
     ]
    }
   ],
   "source": [
    "suppressPackageStartupMessages(library(RMySQL))\n",
    "\n",
    "home = \"/frazer01/projects/CARDIPS/analysis/family1070/ase_rnas_v4\"\n",
    "setwd(home)\n",
    "\n",
    "source(\"/frazer01/home/paola/my_software/cardips_functions.R\") \n",
    "source(\"/frazer01/home/paola/my_software/ase_pipeline/ase_pipeline_functions_mod.R\")    \n",
    "\n",
    "chips_pipeline_dir = \"/frazer01/projects/CARDIPS/pipeline/ChIPseq/mark\""
   ]
  },
  {
   "cell_type": "code",
   "execution_count": 2,
   "metadata": {
    "collapsed": false
   },
   "outputs": [
    {
     "data": {
      "text/html": [
       "<table>\n",
       "<thead><tr><th scope=col>uuid</th><th scope=col>subject</th><th scope=col>Tissue</th></tr></thead>\n",
       "<tbody>\n",
       "\t<tr><td>349de0b8-ea4a-45eb-9631-8259b539f7b8</td><td>S07001                              </td><td>iPSC                                </td></tr>\n",
       "\t<tr><td>15898f77-a5f6-4c94-b3da-687fb0c88945</td><td>S07001                              </td><td>iPSC                                </td></tr>\n",
       "\t<tr><td>eb81d0ea-7263-4459-bb83-3de9894c60b2</td><td>S07002                              </td><td>iPSC                                </td></tr>\n",
       "\t<tr><td>8bcaed11-47e9-4a38-a2b0-d0949a74235a</td><td>S07002                              </td><td>iPSC                                </td></tr>\n",
       "\t<tr><td>9e5035d3-9ced-4b81-b77b-87d6aaf2631d</td><td>S07003                              </td><td>iPSC                                </td></tr>\n",
       "\t<tr><td>96869dde-d2bf-49a2-846b-36f7f1b53df7</td><td>S07003                              </td><td>iPSC                                </td></tr>\n",
       "\t<tr><td>683d39a0-cc9d-4e6b-8778-f7bb98101a94</td><td>S07004                              </td><td>iPSC                                </td></tr>\n",
       "\t<tr><td>1d39387d-681a-4576-a921-8db18c31de3e</td><td>S07004                              </td><td>iPSC                                </td></tr>\n",
       "\t<tr><td>1d040183-856b-4510-a6a2-9eef729bfc45</td><td>S07006                              </td><td>iPSC                                </td></tr>\n",
       "\t<tr><td>7855c945-e8f9-4df0-9532-98e1966b3bf8</td><td>S07006                              </td><td>iPSC                                </td></tr>\n",
       "\t<tr><td>70a36144-e2ae-4fa2-a1e2-6eb972fc96d2</td><td>S07007                              </td><td>iPSC                                </td></tr>\n",
       "\t<tr><td>903a9f7a-bec4-4dd3-98c7-80bc712137bf</td><td>S07007                              </td><td>iPSC                                </td></tr>\n",
       "\t<tr><td>42b68828-6c5e-4004-ae2e-96e1a0f47391</td><td>S07009                              </td><td>iPSC                                </td></tr>\n",
       "\t<tr><td>3538d9a9-0e7d-47b4-991e-562d9c6892b2</td><td>S07009                              </td><td>iPSC                                </td></tr>\n",
       "\t<tr><td>1198c156-b1d3-440e-804f-5c66457eebe7</td><td>S07001                              </td><td>CM                                  </td></tr>\n",
       "\t<tr><td>7ed45406-0db1-4e52-9d2b-fd113e2df425</td><td>S07001                              </td><td>CM                                  </td></tr>\n",
       "\t<tr><td>8fd94ff1-9f53-4b85-bdb1-69be4cd62f10</td><td>S07002                              </td><td>CM                                  </td></tr>\n",
       "\t<tr><td>d7e18ad6-6137-43bc-bd0a-de8885494d51</td><td>S07002                              </td><td>CM                                  </td></tr>\n",
       "\t<tr><td>ef1f05e2-fa53-4aa0-9490-2cd02eb9d8d5</td><td>S07003                              </td><td>CM                                  </td></tr>\n",
       "\t<tr><td>389af0a1-6076-4bae-9bb2-d8b42229f17a</td><td>S07003                              </td><td>CM                                  </td></tr>\n",
       "\t<tr><td>4bedc357-aa29-4139-a901-f9b88fd1fdc0</td><td>S07004                              </td><td>CM                                  </td></tr>\n",
       "\t<tr><td>fada091d-3477-48cc-8de1-42d76bb87587</td><td>S07004                              </td><td>CM                                  </td></tr>\n",
       "\t<tr><td>82323342-825f-4ec9-8b7f-5a827a0c979d</td><td>S07006                              </td><td>CM                                  </td></tr>\n",
       "\t<tr><td>04ec8b03-6878-4707-af15-418fd78aac97</td><td>S07006                              </td><td>CM                                  </td></tr>\n",
       "\t<tr><td>cadea57b-d7a5-4838-8a2f-bf019bdd2b28</td><td>S07007                              </td><td>CM                                  </td></tr>\n",
       "\t<tr><td>4d562aa3-9c2a-4154-acb2-1c14a12c58cc</td><td>S07007                              </td><td>CM                                  </td></tr>\n",
       "\t<tr><td>d98f48f5-de74-491e-be50-678d8127ca00</td><td>S07009                              </td><td>CM                                  </td></tr>\n",
       "\t<tr><td>00d5b244-97b4-42eb-9a21-370776533f09</td><td>S07009                              </td><td>CM                                  </td></tr>\n",
       "</tbody>\n",
       "</table>\n"
      ],
      "text/latex": [
       "\\begin{tabular}{r|lll}\n",
       " uuid & subject & Tissue\\\\\n",
       "\\hline\n",
       "\t 349de0b8-ea4a-45eb-9631-8259b539f7b8 & S07001                               & iPSC                                \\\\\n",
       "\t 15898f77-a5f6-4c94-b3da-687fb0c88945 & S07001                               & iPSC                                \\\\\n",
       "\t eb81d0ea-7263-4459-bb83-3de9894c60b2 & S07002                               & iPSC                                \\\\\n",
       "\t 8bcaed11-47e9-4a38-a2b0-d0949a74235a & S07002                               & iPSC                                \\\\\n",
       "\t 9e5035d3-9ced-4b81-b77b-87d6aaf2631d & S07003                               & iPSC                                \\\\\n",
       "\t 96869dde-d2bf-49a2-846b-36f7f1b53df7 & S07003                               & iPSC                                \\\\\n",
       "\t 683d39a0-cc9d-4e6b-8778-f7bb98101a94 & S07004                               & iPSC                                \\\\\n",
       "\t 1d39387d-681a-4576-a921-8db18c31de3e & S07004                               & iPSC                                \\\\\n",
       "\t 1d040183-856b-4510-a6a2-9eef729bfc45 & S07006                               & iPSC                                \\\\\n",
       "\t 7855c945-e8f9-4df0-9532-98e1966b3bf8 & S07006                               & iPSC                                \\\\\n",
       "\t 70a36144-e2ae-4fa2-a1e2-6eb972fc96d2 & S07007                               & iPSC                                \\\\\n",
       "\t 903a9f7a-bec4-4dd3-98c7-80bc712137bf & S07007                               & iPSC                                \\\\\n",
       "\t 42b68828-6c5e-4004-ae2e-96e1a0f47391 & S07009                               & iPSC                                \\\\\n",
       "\t 3538d9a9-0e7d-47b4-991e-562d9c6892b2 & S07009                               & iPSC                                \\\\\n",
       "\t 1198c156-b1d3-440e-804f-5c66457eebe7 & S07001                               & CM                                  \\\\\n",
       "\t 7ed45406-0db1-4e52-9d2b-fd113e2df425 & S07001                               & CM                                  \\\\\n",
       "\t 8fd94ff1-9f53-4b85-bdb1-69be4cd62f10 & S07002                               & CM                                  \\\\\n",
       "\t d7e18ad6-6137-43bc-bd0a-de8885494d51 & S07002                               & CM                                  \\\\\n",
       "\t ef1f05e2-fa53-4aa0-9490-2cd02eb9d8d5 & S07003                               & CM                                  \\\\\n",
       "\t 389af0a1-6076-4bae-9bb2-d8b42229f17a & S07003                               & CM                                  \\\\\n",
       "\t 4bedc357-aa29-4139-a901-f9b88fd1fdc0 & S07004                               & CM                                  \\\\\n",
       "\t fada091d-3477-48cc-8de1-42d76bb87587 & S07004                               & CM                                  \\\\\n",
       "\t 82323342-825f-4ec9-8b7f-5a827a0c979d & S07006                               & CM                                  \\\\\n",
       "\t 04ec8b03-6878-4707-af15-418fd78aac97 & S07006                               & CM                                  \\\\\n",
       "\t cadea57b-d7a5-4838-8a2f-bf019bdd2b28 & S07007                               & CM                                  \\\\\n",
       "\t 4d562aa3-9c2a-4154-acb2-1c14a12c58cc & S07007                               & CM                                  \\\\\n",
       "\t d98f48f5-de74-491e-be50-678d8127ca00 & S07009                               & CM                                  \\\\\n",
       "\t 00d5b244-97b4-42eb-9a21-370776533f09 & S07009                               & CM                                  \\\\\n",
       "\\end{tabular}\n"
      ],
      "text/plain": [
       "   uuid                                 subject Tissue\n",
       "1  349de0b8-ea4a-45eb-9631-8259b539f7b8 S07001  iPSC  \n",
       "2  15898f77-a5f6-4c94-b3da-687fb0c88945 S07001  iPSC  \n",
       "3  eb81d0ea-7263-4459-bb83-3de9894c60b2 S07002  iPSC  \n",
       "4  8bcaed11-47e9-4a38-a2b0-d0949a74235a S07002  iPSC  \n",
       "5  9e5035d3-9ced-4b81-b77b-87d6aaf2631d S07003  iPSC  \n",
       "6  96869dde-d2bf-49a2-846b-36f7f1b53df7 S07003  iPSC  \n",
       "7  683d39a0-cc9d-4e6b-8778-f7bb98101a94 S07004  iPSC  \n",
       "8  1d39387d-681a-4576-a921-8db18c31de3e S07004  iPSC  \n",
       "9  1d040183-856b-4510-a6a2-9eef729bfc45 S07006  iPSC  \n",
       "10 7855c945-e8f9-4df0-9532-98e1966b3bf8 S07006  iPSC  \n",
       "11 70a36144-e2ae-4fa2-a1e2-6eb972fc96d2 S07007  iPSC  \n",
       "12 903a9f7a-bec4-4dd3-98c7-80bc712137bf S07007  iPSC  \n",
       "13 42b68828-6c5e-4004-ae2e-96e1a0f47391 S07009  iPSC  \n",
       "14 3538d9a9-0e7d-47b4-991e-562d9c6892b2 S07009  iPSC  \n",
       "15 1198c156-b1d3-440e-804f-5c66457eebe7 S07001  CM    \n",
       "16 7ed45406-0db1-4e52-9d2b-fd113e2df425 S07001  CM    \n",
       "17 8fd94ff1-9f53-4b85-bdb1-69be4cd62f10 S07002  CM    \n",
       "18 d7e18ad6-6137-43bc-bd0a-de8885494d51 S07002  CM    \n",
       "19 ef1f05e2-fa53-4aa0-9490-2cd02eb9d8d5 S07003  CM    \n",
       "20 389af0a1-6076-4bae-9bb2-d8b42229f17a S07003  CM    \n",
       "21 4bedc357-aa29-4139-a901-f9b88fd1fdc0 S07004  CM    \n",
       "22 fada091d-3477-48cc-8de1-42d76bb87587 S07004  CM    \n",
       "23 82323342-825f-4ec9-8b7f-5a827a0c979d S07006  CM    \n",
       "24 04ec8b03-6878-4707-af15-418fd78aac97 S07006  CM    \n",
       "25 cadea57b-d7a5-4838-8a2f-bf019bdd2b28 S07007  CM    \n",
       "26 4d562aa3-9c2a-4154-acb2-1c14a12c58cc S07007  CM    \n",
       "27 d98f48f5-de74-491e-be50-678d8127ca00 S07009  CM    \n",
       "28 00d5b244-97b4-42eb-9a21-370776533f09 S07009  CM    "
      ]
     },
     "metadata": {},
     "output_type": "display_data"
    }
   ],
   "source": [
    "rnas_table = read.csv(\"rnas.csv\", header = TRUE , stringsAsFactors = FALSE) \n",
    "colnames(rnas_table) = c(\"uuid\", \"subject\", \"Tissue\")\n",
    "rnas_table"
   ]
  },
  {
   "cell_type": "markdown",
   "metadata": {},
   "source": [
    "For each tissue (iPSC, CM), for each subject (S07001...) get all the BAM files and merge them.\n",
    "\n",
    "Each goes to a sub-folder in /frazer01/projects/CARDIPS/analysis/family1070/ase_rnas"
   ]
  },
  {
   "cell_type": "code",
   "execution_count": 3,
   "metadata": {
    "collapsed": true
   },
   "outputs": [],
   "source": [
    "bam_folder = \"/frazer01/projects/CARDIPS/pipeline/RNAseq/sample\""
   ]
  },
  {
   "cell_type": "code",
   "execution_count": 4,
   "metadata": {
    "collapsed": false
   },
   "outputs": [],
   "source": [
    "rnas_table$bam = paste(bam_folder, \"/\", rnas_table$uuid, \"/alignment/\", rnas_table$uuid, \"_sorted_mdup.bam\", sep = \"\")"
   ]
  },
  {
   "cell_type": "code",
   "execution_count": 5,
   "metadata": {
    "collapsed": false
   },
   "outputs": [
    {
     "name": "stdout",
     "output_type": "stream",
     "text": [
      "Tissue :  CM \n",
      "Subject: S07001 \n",
      "Subject: S07002 \n",
      "Subject: S07003 \n",
      "Subject: S07004 \n",
      "Subject: S07006 \n",
      "Subject: S07007 \n",
      "Subject: S07009 \n",
      "Tissue :  iPSC \n",
      "Subject: S07001 \n",
      "Subject: S07002 \n",
      "Subject: S07003 \n",
      "Subject: S07004 \n",
      "Subject: S07006 \n",
      "Subject: S07007 \n",
      "Subject: S07009 \n"
     ]
    }
   ],
   "source": [
    "source(\"/frazer01/home/matteo/my_software/ase_pipeline/ase_pipeline_functions.R\")    \n",
    "\n",
    "ppn        = 8\n",
    "vcf_phased = \"/projects/CARDIPS/analysis/family1070/sevenIndi.phased.variant.vcf.gz\"\n",
    "bed        = \"/frazer01/publicdata/gencode_v19_20151104/genes.bed\"\n",
    "\n",
    "analysis_dir = paste(home, \"analysis\", sep = \"/\")\n",
    "sh_dir       = paste(home, \"sh\"      , sep = \"/\")\n",
    "log_dir      = paste(home, \"log\"     , sep = \"/\")\n",
    "\n",
    "dir.create(analysis_dir, showWarnings = FALSE)\n",
    "dir.create(sh_dir      , showWarnings = FALSE)\n",
    "dir.create(log_dir     , showWarnings = FALSE)\n",
    "\n",
    "for (tissue in sort(unique(rnas_table$Tissue)))\n",
    "{\n",
    "    cat(\"Tissue : \", tissue, \"\\n\")\n",
    "    this_tissue = rnas_table[rnas_table$Tissue == tissue,]\n",
    "    tissue_dir  = paste(analysis_dir, tissue, sep = \"/\")\n",
    "    \n",
    "    dir.create(tissue_dir, showWarnings = FALSE)\n",
    "\n",
    "    for (subject in sort(unique(this_tissue$subject)))\n",
    "    {\n",
    "        cat(\"Subject:\", subject, \"\\n\")\n",
    "\n",
    "        this_subject = this_tissue[this_tissue$subject == subject,]\n",
    "        subject_dir  = paste(tissue_dir, subject,          sep = \"/\")\n",
    "        full_name    = paste(tissue    , subject, \"genes\", sep = \"_\")\n",
    "        out_bam      = paste(subject_dir, \"/\", subject, \".bam\", sep = \"\")\n",
    "        bam_files    = unique(this_subject$bam)\n",
    "        \n",
    "        dir.create(subject_dir, showWarnings = FALSE)\n",
    "        \n",
    "        sh_file = runMbased(full_name, sh_dir, subject, log_dir, subject, subject_dir, bam_files, out_bam, vcf_phased, bed, ppn, is.gz = TRUE, run = FALSE)\n",
    "    }\n",
    "}\n"
   ]
  },
  {
   "cell_type": "markdown",
   "metadata": {
    "collapsed": true
   },
   "source": [
    "### After the previous analysis is done: merge data into a single table"
   ]
  },
  {
   "cell_type": "code",
   "execution_count": 6,
   "metadata": {
    "collapsed": false
   },
   "outputs": [],
   "source": [
    "analysis_dir = paste(home, \"analysis\", sep = \"/\")"
   ]
  },
  {
   "cell_type": "code",
   "execution_count": 7,
   "metadata": {
    "collapsed": false
   },
   "outputs": [
    {
     "name": "stdout",
     "output_type": "stream",
     "text": [
      "Tissue :  CM \n",
      "Subject: S07001 \n",
      "Subject: S07002 \n",
      "Subject: S07003 \n",
      "Subject: S07004 \n",
      "Subject: S07006 \n",
      "Subject: S07007 \n",
      "Subject: S07009 \n",
      "Tissue :  iPSC \n",
      "Subject: S07001 \n",
      "Subject: S07002 \n",
      "Subject: S07003 \n",
      "Subject: S07004 \n",
      "Subject: S07006 \n",
      "Subject: S07007 \n",
      "Subject: S07009 \n"
     ]
    }
   ],
   "source": [
    "started_analysis = 0\n",
    "\n",
    "for (tissue in sort(unique(rnas_table$Tissue)))\n",
    "{\n",
    "    cat(\"Tissue : \", tissue, \"\\n\")\n",
    "    this_tissue = rnas_table[rnas_table$Tissue == tissue,]\n",
    "    tissue_dir  = paste(analysis_dir, tissue, sep = \"/\")\n",
    "    \n",
    "    for (subject in sort(unique(this_tissue$subject)))\n",
    "    {\n",
    "        cat(\"Subject:\", subject, \"\\n\")\n",
    "\n",
    "        mbased_folder = paste(tissue_dir, subject, \"mbased_genes\", sep = \"/\")\n",
    "\n",
    "        locus_file    = paste(mbased_folder, \"/\", subject, \"_locus.tsv\"       , sep = \"\" )\n",
    "        snv_file      = paste(mbased_folder, \"/\", subject, \"_snv.tsv\"         , sep = \"\" )\n",
    "        in_file       = paste(mbased_folder, \"/\", subject, \"_mbased_input.tsv\", sep = \"\" )\n",
    "\n",
    "        if ((file.exists(locus_file)== TRUE)&(file.exists(snv_file)== TRUE))\n",
    "        {\n",
    "            locus = read.table(locus_file, header = TRUE , sep = \"\\t\", stringsAsFactors = FALSE, row.names = 1, comment.char = \"\") \n",
    "            snv   = read.table(snv_file  , header = TRUE , sep = \"\\t\", stringsAsFactors = FALSE, row.names = 1, comment.char = \"\") \n",
    "            inp   = read.table(in_file   , header = TRUE , sep = \"\\t\", stringsAsFactors = FALSE, row.names = 1, comment.char = \"\") \n",
    "\n",
    "            snv$new_maf = snv$maf\n",
    "            snv[snv$ref_is_major == FALSE, \"new_maf\"] = 1 - snv[snv$ref_is_major == FALSE, \"maf\"]\n",
    "            snv$coord   = paste(snv$chrom, snv$position, sep = \":\")\n",
    "            inp$coord   = paste(inp$contig, inp$position, sep = \":\")\n",
    "\n",
    "            locus$locus = rownames(locus)\n",
    "            snv$maf = NULL\n",
    "\n",
    "            out_data          = merge(locus, snv)\n",
    "            out_data          = merge(inp[, c(\"coord\", \"variantID\", \"expectedRefFreq\", \"binomialPValue\")], out_data)\n",
    "            out_data$subject  = subject\n",
    "            out_data$tissue   = tissue\n",
    "\n",
    "            if (started_analysis == 0)\n",
    "            {\n",
    "                all_ase = out_data\n",
    "                started_analysis = 1\n",
    "                col_names_locus = colnames(locus)\n",
    "            }else\n",
    "            {\n",
    "                all_ase = rbind(all_ase, out_data)\n",
    "            }\n",
    "        }else\n",
    "        {\n",
    "            cat(locus_file, \"does not exist\\n\")\n",
    "        }\n",
    "    }\n",
    "    #break\n",
    "}"
   ]
  },
  {
   "cell_type": "code",
   "execution_count": 8,
   "metadata": {
    "collapsed": true
   },
   "outputs": [],
   "source": [
    "write.table(all_ase, file = paste(analysis_dir, \"all_ase.genes.txt\", sep = \"/\"), col.names = TRUE, row.names = FALSE, quote = FALSE, sep = \"\\t\")"
   ]
  },
  {
   "cell_type": "code",
   "execution_count": 9,
   "metadata": {
    "collapsed": false
   },
   "outputs": [
    {
     "name": "stdout",
     "output_type": "stream",
     "text": [
      "Tissue :  CM \n",
      "Tissue :  iPSC \n"
     ]
    }
   ],
   "source": [
    "all_ase  = read.table(paste(analysis_dir, \"all_ase.genes.txt\", sep = \"/\"), header = TRUE , sep = \"\\t\", stringsAsFactors = FALSE) \n",
    "\n",
    "for (tissue in sort(unique(rnas_table$Tissue)))\n",
    "{\n",
    "    cat(\"Tissue : \", tissue, \"\\n\")\n",
    "    this_tissue = rnas_table[rnas_table$Tissue == tissue,]\n",
    "    tissue_dir  = paste(analysis_dir, tissue, sep = \"/\")\n",
    "    \n",
    "    this = unique(all_ase[all_ase$tissue == tissue, c(col_names_locus, \"subject\")])\n",
    "\n",
    "    out_root = paste(analysis_dir, \"/\", tissue, sep = \"\")\n",
    "\n",
    "    loci     = sort(unique(this$locus  ))\n",
    "    subjects = sort(unique(this$subject))\n",
    "\n",
    "    empty = matrix(nrow = length(loci), ncol = length(subjects))\n",
    "    rownames(empty) = loci\n",
    "    colnames(empty) = subjects\n",
    "\n",
    "    empty_df = data.frame(empty, stringsAsFactors = FALSE)\n",
    "\n",
    "    p_val_ases = empty_df\n",
    "    p_val_hets = empty_df\n",
    "    mafs       = empty_df\n",
    "\n",
    "    for (ii in 1: length(this$locus))\n",
    "    {\n",
    "        locus     = this$locus            [[ii]]\n",
    "        subject   = this$subject          [[ii]]\n",
    "        p_val_ase = this$p_val_ase        [[ii]]\n",
    "        p_val_het = this$p_val_het        [[ii]]\n",
    "        maf       = this$major_allele_freq[[ii]]\n",
    "\n",
    "        p_val_ases[locus, subject] = p_val_ase\n",
    "        p_val_hets[locus, subject] = p_val_het\n",
    "        mafs      [locus, subject] = maf\n",
    "    }\n",
    "    write.table(p_val_ases, file = paste(out_root, \"genes.p_val_ase.txt\", sep = \".\"), col.names = NA, row.names = TRUE, quote = FALSE, sep = \"\\t\")\n",
    "    write.table(p_val_hets, file = paste(out_root, \"genes.p_val_het.txt\", sep = \".\"), col.names = NA, row.names = TRUE, quote = FALSE, sep = \"\\t\")\n",
    "    write.table(mafs      , file = paste(out_root, \"genes.maf.txt\"      , sep = \".\"), col.names = NA, row.names = TRUE, quote = FALSE, sep = \"\\t\")\n",
    "}\n"
   ]
  },
  {
   "cell_type": "code",
   "execution_count": 10,
   "metadata": {
    "collapsed": false
   },
   "outputs": [
    {
     "name": "stdout",
     "output_type": "stream",
     "text": [
      "Tissue :  CM \n",
      "Tissue :  iPSC \n"
     ]
    }
   ],
   "source": [
    "all_ase  = read.table(paste(analysis_dir, \"all_ase.genes.txt\", sep = \"/\"), header = TRUE , sep = \"\\t\", stringsAsFactors = FALSE) \n",
    "tissues  = sort(unique(rnas_table$Tissue))\n",
    "#tissues  = c(\"CM\")\n",
    "\n",
    "for (tissue in tissues)\n",
    "{\n",
    "    cat(\"Tissue : \", tissue, \"\\n\")\n",
    "    this_tissue = rnas_table[rnas_table$Tissue == tissue,]\n",
    "    tissue_dir  = paste(analysis_dir, tissue, sep = \"/\")\n",
    "\n",
    "    this = unique(all_ase[all_ase$tissue == tissue, ])\n",
    "\n",
    "    this$coord = paste(this$chrom, this$position, sep = \":\")\n",
    "\n",
    "    out_root = paste(analysis_dir, \"/\", tissue, sep = \"\")\n",
    "\n",
    "    coords   = sort(unique(this$coord  ))\n",
    "    subjects = sort(unique(this$subject))\n",
    "\n",
    "    heads = c(\"locus\", \"coord\", \"ref\", \"alt\")\n",
    "\n",
    "    mafs  = unique(this[,heads])\n",
    "    mafs[,subjects] = NA\n",
    "\n",
    "    rownames(mafs) = mafs$coord\n",
    "    mafs$coord = NULL\n",
    "\n",
    "    for (ii in 1: length(this$coord))\n",
    "    {\n",
    "        coord     = this$coord  [[ii]]\n",
    "        subject   = this$subject[[ii]]\n",
    "        maf       = this$new_maf[[ii]]\n",
    "\n",
    "        mafs      [coord, subject] = maf\n",
    "    }\n",
    "    write.table(mafs      , file = paste(out_root, \"genes.maf_by_snv.txt\", sep = \".\"), col.names = NA, row.names = TRUE, quote = FALSE, sep = \"\\t\")\n",
    "    #break\n",
    "}\n"
   ]
  },
  {
   "cell_type": "code",
   "execution_count": null,
   "metadata": {
    "collapsed": true
   },
   "outputs": [],
   "source": []
  }
 ],
 "metadata": {
  "kernelspec": {
   "display_name": "R",
   "language": "R",
   "name": "ir"
  },
  "language_info": {
   "codemirror_mode": "r",
   "file_extension": ".r",
   "mimetype": "text/x-r-source",
   "name": "R",
   "pygments_lexer": "r",
   "version": "3.2.2"
  }
 },
 "nbformat": 4,
 "nbformat_minor": 0
}
