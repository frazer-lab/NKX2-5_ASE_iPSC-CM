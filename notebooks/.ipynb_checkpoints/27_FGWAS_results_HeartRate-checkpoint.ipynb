{
 "cells": [
  {
   "cell_type": "markdown",
   "metadata": {},
   "source": [
    "### Heatmap of the top fGWAS results"
   ]
  },
  {
   "cell_type": "code",
   "execution_count": 6,
   "metadata": {
    "collapsed": false
   },
   "outputs": [],
   "source": [
    "setwd(\"../private_output/Fgwas/\")"
   ]
  },
  {
   "cell_type": "code",
   "execution_count": 2,
   "metadata": {
    "collapsed": true
   },
   "outputs": [],
   "source": [
    "library(plotrix)\n",
    "suppressPackageStartupMessages(library(gplots))"
   ]
  },
  {
   "cell_type": "code",
   "execution_count": 7,
   "metadata": {
    "collapsed": false
   },
   "outputs": [],
   "source": [
    "res = read.table('~/Family1070/private_output/fgwas_analysis/HR/pipeline_out/Final_Model/Final_Model.bfs', header=T)\n",
    "seg = read.table('~/Family1070/private_output/fgwas_analysis/HR/pipeline_out/Final_Model/Final_Model.segbfs', header=T)\n",
    "res = merge(res,seg[,c('chunk', 'PPA')], by=\"chunk\" )\n",
    "res$PPA = res$PPA.x *res$PPA.y\n",
    "res = res[order(res$PPA, decreasing=T),]"
   ]
  },
  {
   "cell_type": "markdown",
   "metadata": {},
   "source": [
    "*Choose a cutoff of  PPA, then re-adjust the PPA by multipling by 1 if the Locus is known"
   ]
  },
  {
   "cell_type": "code",
   "execution_count": 8,
   "metadata": {
    "collapsed": false
   },
   "outputs": [],
   "source": [
    "seg = res[res$PPA >0.3, ]"
   ]
  },
  {
   "cell_type": "code",
   "execution_count": 11,
   "metadata": {
    "collapsed": false
   },
   "outputs": [],
   "source": [
    "gwas = \"/publicdata/gwas_summary_stats_20180124/denHoed/rsid_pval.txt\"\n",
    "p = paste( \"grep -E '\", paste(seg$id, collapse=\"|\"), \"' \", gwas ,\" > HR_selected_variants.tsv\", sep=\"\")"
   ]
  },
  {
   "cell_type": "code",
   "execution_count": 12,
   "metadata": {
    "collapsed": false
   },
   "outputs": [],
   "source": [
    "system(p)"
   ]
  },
  {
   "cell_type": "code",
   "execution_count": 13,
   "metadata": {
    "collapsed": false
   },
   "outputs": [],
   "source": [
    "r = read.table(\"HR_selected_variants.tsv\")"
   ]
  },
  {
   "cell_type": "code",
   "execution_count": 16,
   "metadata": {
    "collapsed": true
   },
   "outputs": [],
   "source": [
    "seg = merge(seg, r, by.x=\"id\", by.y=\"V1\")\n",
    "colnames(seg)[ncol(seg)] = \"P_value\""
   ]
  },
  {
   "cell_type": "code",
   "execution_count": 17,
   "metadata": {
    "collapsed": false
   },
   "outputs": [],
   "source": [
    "writeLines(as.character(seg$id), \"TOP_rs_variants_HR\")"
   ]
  },
  {
   "cell_type": "code",
   "execution_count": 18,
   "metadata": {
    "collapsed": true
   },
   "outputs": [],
   "source": [
    "system(\"module load cardips\")\n",
    "\n",
    "command1 = \"vcftools --vcf /publicdata/haploreg_v4.0_20151021/haploreg_v4.0_20151021.vcf --snps TOP_rs_variants_HR --recode --recode-INFO-all --out HR\"\n",
    "### double escape to use in R\n",
    "command2 = paste(\"bcftools query -f \", \"'%ID\\\\t%INFO/DBSNP\\\\t%INFO/NEAREST_GENCODE\\\\n' \",\n",
    "                    \"HR.recode.vcf > HR_haploreg.tab\", sep=\"\")\n",
    "           \n",
    "system(command1)\n",
    "system(command2)"
   ]
  },
  {
   "cell_type": "code",
   "execution_count": 19,
   "metadata": {
    "collapsed": false
   },
   "outputs": [],
   "source": [
    "a = read.table(\"HR_haploreg.tab\")\n",
    "colnames(a)=c('id', 'dbSNP', 'gencode')\n",
    "seg = merge(seg, a, by=1)"
   ]
  },
  {
   "cell_type": "code",
   "execution_count": 20,
   "metadata": {
    "collapsed": true
   },
   "outputs": [],
   "source": [
    "seg = seg[order(seg$PPA, decreasing=T),]\n",
    "write.csv(seg, 'fgwas_results_HR.csv', row.names=FALSE)"
   ]
  },
  {
   "cell_type": "code",
   "execution_count": 43,
   "metadata": {
    "collapsed": false
   },
   "outputs": [],
   "source": [
    "seg = subset(seg, dbSNP!=\"NSM\")"
   ]
  },
  {
   "cell_type": "code",
   "execution_count": 46,
   "metadata": {
    "collapsed": false
   },
   "outputs": [],
   "source": [
    "se = seg[,c('NKX25_ASE','NKX25','H3K27AC','ATAC')]"
   ]
  },
  {
   "cell_type": "code",
   "execution_count": 47,
   "metadata": {
    "collapsed": true
   },
   "outputs": [],
   "source": [
    "mat = seg[rowSums(se)>0 & seg$P_value<1e-3 , c('id',  'PPA','NKX25_ASE','NKX25','H3K27AC','ATAC')]"
   ]
  },
  {
   "cell_type": "code",
   "execution_count": null,
   "metadata": {
    "collapsed": true
   },
   "outputs": [],
   "source": []
  },
  {
   "cell_type": "code",
   "execution_count": 49,
   "metadata": {
    "collapsed": false
   },
   "outputs": [],
   "source": [
    "mat$GWAS_P = mat$id %in% seg$id[seg$P_value<1e-8]\n",
    "#mat$GWAS_other      = mat$id %in% seg$id[seg$P_value<1e-4]\n",
    "\n",
    "mat2 = mat[,2:length(mat)]\n",
    "rownames(mat2)=mat$id\n",
    "\n",
    "lab = mat2\n",
    "lab[, 2:length(mat2)]<-NA\n",
    "lab[,1]<-round(lab[,1],2)\n",
    "\n",
    "suppressPackageStartupMessages(library(RColorBrewer))\n",
    "cols = brewer.pal(9, \"Reds\")[2:8]\n",
    "\n",
    "breaks=seq(0.5, 1.1, by=0.1) # cutoff 0.5\n",
    "breaks=seq(0.3, 1.1, by=0.1) # cutoff 0.3\n",
    "\n",
    "my_palette = c(colorRampPalette(cols)(length(breaks)-2), \"deepskyblue3\")"
   ]
  },
  {
   "cell_type": "code",
   "execution_count": 50,
   "metadata": {
    "collapsed": true
   },
   "outputs": [],
   "source": [
    "mat2[mat2==0]<- NA\n",
    "mat2[mat2==TRUE]<- 1\n",
    "mat2[mat2==1]<- 2"
   ]
  },
  {
   "cell_type": "code",
   "execution_count": 57,
   "metadata": {
    "collapsed": false
   },
   "outputs": [
    {
     "data": {
      "text/html": [
       "<strong>png:</strong> 2"
      ],
      "text/latex": [
       "\\textbf{png:} 2"
      ],
      "text/markdown": [
       "**png:** 2"
      ],
      "text/plain": [
       "png \n",
       "  2 "
      ]
     },
     "metadata": {},
     "output_type": "display_data"
    }
   ],
   "source": [
    "pdf('Table_snps_fgwas_heart_rate.pdf')\n",
    "heatmap.2(as.matrix(mat2), \n",
    "         Colv=F,Rowv=F, srtRow=0, srtCol=45, offsetRow=-1, offsetCol=-0.5,dendrogram=\"none\",\n",
    "          keysize=1, margins =c(25,25), trace=\"none\",key.title=\"OR\", tracecol=NA,\n",
    "          cexRow=1, cexCol=1, na.color=\"white\", col=my_palette, breaks=breaks, cellnote=lab, notecex=0.8)\n",
    "dev.off()"
   ]
  },
  {
   "cell_type": "code",
   "execution_count": 52,
   "metadata": {
    "collapsed": true
   },
   "outputs": [],
   "source": [
    "m = seg[rowSums(se)>0 & seg$P_value<1e-3 ,]"
   ]
  },
  {
   "cell_type": "code",
   "execution_count": 64,
   "metadata": {
    "collapsed": false
   },
   "outputs": [],
   "source": [
    "m = seg[rowSums(se)>0,]"
   ]
  },
  {
   "cell_type": "code",
   "execution_count": 65,
   "metadata": {
    "collapsed": false
   },
   "outputs": [
    {
     "data": {
      "text/html": [
       "<ol class=list-inline>\n",
       "\t<li>11</li>\n",
       "\t<li>21</li>\n",
       "</ol>\n"
      ],
      "text/latex": [
       "\\begin{enumerate*}\n",
       "\\item 11\n",
       "\\item 21\n",
       "\\end{enumerate*}\n"
      ],
      "text/markdown": [
       "1. 11\n",
       "2. 21\n",
       "\n",
       "\n"
      ],
      "text/plain": [
       "[1] 11 21"
      ]
     },
     "metadata": {},
     "output_type": "display_data"
    }
   ],
   "source": [
    "dim(m)"
   ]
  },
  {
   "cell_type": "code",
   "execution_count": null,
   "metadata": {
    "collapsed": true
   },
   "outputs": [],
   "source": []
  }
 ],
 "metadata": {
  "kernelspec": {
   "display_name": "R",
   "language": "R",
   "name": "ir"
  },
  "language_info": {
   "codemirror_mode": "r",
   "file_extension": ".r",
   "mimetype": "text/x-r-source",
   "name": "R",
   "pygments_lexer": "r",
   "version": "3.2.2"
  }
 },
 "nbformat": 4,
 "nbformat_minor": 0
}
