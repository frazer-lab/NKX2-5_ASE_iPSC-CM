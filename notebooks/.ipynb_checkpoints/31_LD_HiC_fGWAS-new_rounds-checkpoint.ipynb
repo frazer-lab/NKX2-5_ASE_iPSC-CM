{
 "cells": [
  {
   "cell_type": "markdown",
   "metadata": {},
   "source": [
    "# Make regional plot for SNPs fine mapping\n",
    "\n",
    "\n",
    "\n"
   ]
  },
  {
   "cell_type": "markdown",
   "metadata": {},
   "source": [
    "recombination rate and 1KG pilot LD data are taken from the \"SNAP\" web-application and copied manually to the cluster\n",
    "http://archive.broadinstitute.org/mpg/snap/ldplot.php"
   ]
  },
  {
   "cell_type": "markdown",
   "metadata": {},
   "source": [
    "PR interval"
   ]
  },
  {
   "cell_type": "code",
   "execution_count": 2,
   "metadata": {
    "collapsed": true
   },
   "outputs": [],
   "source": [
    "gwas  = read.table(\"/publicdata/gwas_summary_stats_20180124/vanSetten_2018/PR_interval_July2018_summary_results.hg19.txt\", header=T, sep=\"\\t\")"
   ]
  },
  {
   "cell_type": "code",
   "execution_count": 3,
   "metadata": {
    "collapsed": true
   },
   "outputs": [],
   "source": [
    "fgwas = read.table('~/Family1070/private_output/fgwas_analysis/PR_interval/pipeline_out/Final_Model/Final_Model.bfs', header=T)\n",
    "chunks = read.table('~/Family1070/private_output/fgwas_analysis/PR_interval/pipeline_out/Final_Model/Final_Model.segbfs', header=T)"
   ]
  },
  {
   "cell_type": "code",
   "execution_count": 6,
   "metadata": {
    "collapsed": false
   },
   "outputs": [],
   "source": [
    "fgwas  = merge (gwas, fgwas, by.x=\"SNP\", by.y=\"id\")"
   ]
  },
  {
   "cell_type": "code",
   "execution_count": 14,
   "metadata": {
    "collapsed": false
   },
   "outputs": [],
   "source": [
    "colnames(fgwas)[c(1, 2, 9, 10)] = c('rsid', \"chr\", \"P_VALUE\", \"pos\")"
   ]
  },
  {
   "cell_type": "code",
   "execution_count": 57,
   "metadata": {
    "collapsed": true
   },
   "outputs": [],
   "source": [
    "pr = fgwas"
   ]
  },
  {
   "cell_type": "markdown",
   "metadata": {},
   "source": [
    "P-wave duration"
   ]
  },
  {
   "cell_type": "code",
   "execution_count": 37,
   "metadata": {
    "collapsed": true
   },
   "outputs": [],
   "source": [
    "gwas2  = read.table(\"/publicdata/gwas_summary_stats_20180124/Pwave_Christophersen2017/Pwave_duration_GWAS_ALL_maf0.01.txt\", header=T, sep=\"\\t\")"
   ]
  },
  {
   "cell_type": "code",
   "execution_count": 40,
   "metadata": {
    "collapsed": true
   },
   "outputs": [],
   "source": [
    "fgwas2 = read.table('~/Family1070/private_output/fgwas_analysis/P_wave_2k/pipeline_out/Final_Model/Final_Model.bfs', header=T)"
   ]
  },
  {
   "cell_type": "code",
   "execution_count": 45,
   "metadata": {
    "collapsed": true
   },
   "outputs": [],
   "source": [
    "fgwas2  = merge (gwas2, fgwas2, by.x=\"MarkerName\", by.y=\"id\")"
   ]
  },
  {
   "cell_type": "code",
   "execution_count": 48,
   "metadata": {
    "collapsed": true
   },
   "outputs": [],
   "source": [
    "colnames(fgwas2)[c(1, 4, 8, 5)] = c('rsid', \"chr\", \"P_VALUE\", \"pos\")"
   ]
  },
  {
   "cell_type": "code",
   "execution_count": 49,
   "metadata": {
    "collapsed": false
   },
   "outputs": [],
   "source": [
    "pw = fgwas2"
   ]
  },
  {
   "cell_type": "markdown",
   "metadata": {},
   "source": [
    "Atrial fibrillation"
   ]
  },
  {
   "cell_type": "code",
   "execution_count": 50,
   "metadata": {
    "collapsed": true
   },
   "outputs": [],
   "source": [
    "gwas3  = read.table(\"/publicdata/gwas_summary_stats_20180124/AF_Christophersen2017/AF_GWAS_ALLv31_maf0.01.txt\", header=T, sep=\"\\t\")"
   ]
  },
  {
   "cell_type": "code",
   "execution_count": 51,
   "metadata": {
    "collapsed": true
   },
   "outputs": [],
   "source": [
    "fgwas3 = read.table('~/Family1070/private_output/fgwas_analysis/A_fib/pipeline_out/Final_Model/Final_Model.bfs', header=T)"
   ]
  },
  {
   "cell_type": "code",
   "execution_count": 53,
   "metadata": {
    "collapsed": true
   },
   "outputs": [],
   "source": [
    "fgwas3  = merge (gwas3, fgwas3, by.x=\"MarkerName\", by.y=\"id\")"
   ]
  },
  {
   "cell_type": "code",
   "execution_count": 55,
   "metadata": {
    "collapsed": false
   },
   "outputs": [],
   "source": [
    "colnames(fgwas3)[c(1, 4, 8, 5)] = c('rsid', \"chr\", \"P_VALUE\", \"pos\")"
   ]
  },
  {
   "cell_type": "code",
   "execution_count": 56,
   "metadata": {
    "collapsed": true
   },
   "outputs": [],
   "source": [
    "af = fgwas3"
   ]
  },
  {
   "cell_type": "markdown",
   "metadata": {},
   "source": [
    "#### produce a bed file to be lifted over from hg18 to hg19"
   ]
  },
  {
   "cell_type": "code",
   "execution_count": 13,
   "metadata": {
    "collapsed": false
   },
   "outputs": [],
   "source": [
    "liftover = function(snapfile){\n",
    "\n",
    "data.file <- read.table(snapfile, header=T, na.strings=\"N/A\")\n",
    "data.file$end<-data.file$Coordinate_HG18+1\n",
    "write.table(data.file[complete.cases(data.file[,c(5,6,8,2)]),c(5,6,8,2)], \"data.file.bed\", sep=\"\\t\", quote=F, col.names=F, row.names=F)\n",
    "system(\"liftOver data.file.bed /publicdata/liftover_20160308/hg18ToHg19.over.chain data.file.hg19.bed data.file.hg19.unlifted.bed\")\n",
    "df19<-read.table('data.file.hg19.bed', header=F)\n",
    "df19<-merge(df19[,c(4,2)], data.file, by.x=1, by.y=2)\n",
    "colnames(df19)[1:2]<-c(\"Proxy\", \"Coordinate_HG19\")\n",
    "df19<-df19[,-c(7,9)]\n",
    "write.table(df19, \"data.file.hg19.txt\", row.names=F,col.names=T, sep=\"\\t\")\n",
    "    return(df19)\n",
    "    }"
   ]
  },
  {
   "cell_type": "markdown",
   "metadata": {},
   "source": [
    "#### regional plot of GWAS P-values taken from summary statistics"
   ]
  },
  {
   "cell_type": "code",
   "execution_count": 28,
   "metadata": {
    "collapsed": false
   },
   "outputs": [],
   "source": [
    "gwas_plot <- function(data, snp, snp_ld , place=\"topleft\"){\n",
    "\n",
    "#data    = merge(fgwas, data, by=1)\n",
    "chro    = as.numeric(substring(data$Chromosome[1], 4))\n",
    "fgwas_s = subset(fgwas, chr == chro & pos >= min(data$Coordinate_HG19) & pos <= max(data$Coordinate_HG19))\n",
    "data    = merge(fgwas_s, data, by=1, all.x=T)\n",
    "#data    = data[order(data$pos),]\n",
    "\n",
    "data$log10p = -log(data$P_VALUE,10)\n",
    "    \n",
    "offset = round(((maxp-minp)*0.04),0)    \n",
    "min.pos<-minp+offset \n",
    "max.pos<-maxp-offset\n",
    "\n",
    "data$group=cut(data$RSquared, breaks=c(0,0.2,0.4,0.6,0.8,1))\n",
    "\n",
    "color_scheme = c(\"#26285a\", \"#8ec7e0\", \"#69b34b\", \"#eb9d3c\", \"#d62a31\")\n",
    "par (pin= c(6,1.5))\n",
    "\n",
    "plot(data$pos, data$log10p,  xlim=c(min.pos, max.pos), pch=c(21,23)[(data$rsid %in% c(snp,snp_ld)) +1], \n",
    "     cex=c(1.7), bg=color_scheme[data$group], xaxt=\"n\", las=1 ,  xlab = \"\",  ylab = \"-log10(P)\", cex.axis=1.5)\n",
    "\n",
    "axis(3, las=1, cex.axis=1.5)\n",
    "snp_lables=as.character(data$rsid)\n",
    "snp_lables[!(snp_lables %in% c(snp,snp_ld))]<-\"\"\n",
    "text(data$pos, data$log10p,  snp_lables,cex=1.5, pos=c(1,2) )\n",
    "legend(place, legend = c(\"[0,0.2]\", \"(0.2,0.4]\", \"(0.4,0.6]\", \"(0.6,0.8]\", \"(0.8,1.0]\"), fill=color_scheme, cex=1.5,\n",
    "      title= \"LD\")\n",
    "\n",
    "par(new=TRUE)\n",
    "data.RR.ordered <- data[order(data$pos),]\n",
    "    \n",
    "plot(1, 1, type = \"n\", xlim = c(min.pos, max.pos), axes = FALSE,  xlab = \"\", ylim = c(0,100))\n",
    "    abline(h = 0)\n",
    "    lines(data.RR.ordered$Coordinate_HG19 ,data.RR.ordered$RecombinationRate, col = \"skyblue3\", lwd=1.5)\n",
    "    axis(4, las=1, cex.axis=1.5)\n",
    "\n",
    "\n",
    "}\n"
   ]
  },
  {
   "cell_type": "markdown",
   "metadata": {},
   "source": [
    "### Regional plots using fGWAS results"
   ]
  },
  {
   "cell_type": "code",
   "execution_count": 23,
   "metadata": {
    "collapsed": false
   },
   "outputs": [],
   "source": [
    "fgwas_plot <- function(data, snp, snp_ld ){\n",
    "\n",
    "#data    = merge(fgwas, data, by=1)\n",
    "chro    = as.numeric(substring(data$Chromosome[1], 4))\n",
    "fgwas_s = subset(fgwas, chr == chro & pos >= min(data$Coordinate_HG19) & pos <= max(data$Coordinate_HG19))\n",
    "data    = merge(fgwas_s, data, by=1, all.x=T)\n",
    "    \n",
    "data$log10p = data$PPA\n",
    "    \n",
    "offset = round(((maxp-minp)*0.04),0)    \n",
    "min.pos<-minp+offset \n",
    "max.pos<-maxp-offset\n",
    "\n",
    "par (pin= c(6,0.8))\n",
    "\n",
    "plot(data$pos, data$log10p,  xlim=c(min.pos, max.pos), pch=c(21,23)[(data$rsid %in% c(snp,snp_ld)) +1], \n",
    "     cex=c(1.7), bg=\"gray\", xaxt=\"n\", las=1 ,  xlab = \"\",  cex.axis=1.5, ylim=c(0,1))\n",
    "\n",
    "data    = data[order(data$pos),]\n",
    "chu     = data[!duplicated(data$chunk), c(\"pos\" ,\"chunk\")]\n",
    "\n",
    "abline(v=chu$pos, col=\"gray\", lwd=2, lty=2)\n",
    "    \n",
    "#axis(3, las=1, cex.axis=1.5)\n",
    "snp_lables=as.character(data$rsid)\n",
    "snp_lables[!(snp_lables %in% c(snp,snp_ld))]<-\"\"\n",
    "text(data$pos, data$log10p,  snp_lables,\n",
    "     pos=c(1,2) , cex=1.5)\n",
    "}\n"
   ]
  },
  {
   "cell_type": "markdown",
   "metadata": {},
   "source": [
    "### HiC plots"
   ]
  },
  {
   "cell_type": "code",
   "execution_count": 18,
   "metadata": {
    "collapsed": true
   },
   "outputs": [],
   "source": [
    "suppressPackageStartupMessages(library(RColorBrewer))\n",
    "suppressPackageStartupMessages(library(gplots))"
   ]
  },
  {
   "cell_type": "code",
   "execution_count": 19,
   "metadata": {
    "collapsed": true
   },
   "outputs": [],
   "source": [
    "upperHalfCircle = function(x, y, r, nsteps = 100, color = \"red\")\n",
    "{  \n",
    "   rs = seq(0, pi, len = nsteps)\n",
    "   xc = x + r * cos(rs)\n",
    "   yc = y + r * sin(rs)\n",
    "   lines(xc, yc, col = color) \n",
    "}"
   ]
  },
  {
   "cell_type": "code",
   "execution_count": 20,
   "metadata": {
    "collapsed": true
   },
   "outputs": [],
   "source": [
    "plot_loops = function(loops, chrom, minp, maxp, h=0.5e6 ){\n",
    "\n",
    "offset = round(((maxp-minp)*0.04),0)    \n",
    "\n",
    "min.pos<-minp+offset \n",
    "max.pos<-maxp-offset\n",
    "\n",
    "loops_subs = loops[(loops$V1 == as.character(chrom) & ((loops$V2 >= min.pos & loops$V3 <= max.pos)  |\n",
    "                  (loops$V2 >= min.pos & loops$V2 <= max.pos) | (loops$V3 >= min.pos & loops$V3 <= max.pos))),]\n",
    "par (pin= c(6,1.5))\n",
    "plot(1, 1, type = \"n\", xlim = c(min.pos, max.pos), ylab = \"\", axes= F, ylim=c(h,0))\n",
    "\n",
    "for (loo in 1:nrow (loops_subs)){\n",
    "    dist = loops_subs[loo,3]-loops_subs[loo,2]\n",
    "upperHalfCircle(loops_subs[loo,2]+(dist/2) ,0, dist/2)\n",
    "\n",
    "}\n",
    "    }"
   ]
  },
  {
   "cell_type": "code",
   "execution_count": 21,
   "metadata": {
    "collapsed": true
   },
   "outputs": [],
   "source": [
    "loops = read.table(\"/frazer01/home/paola/Family1070/private_output/HiC_loops_correlation/pgltools/CM.reference.bed\", sep=\"\\t\", skip=1)"
   ]
  },
  {
   "cell_type": "markdown",
   "metadata": {},
   "source": [
    "### CAV1"
   ]
  },
  {
   "cell_type": "code",
   "execution_count": 26,
   "metadata": {
    "collapsed": true
   },
   "outputs": [],
   "source": [
    "snp <- \"rs3807989\"\n",
    "setwd(\"/frazer01/home/paola/Family1070/private_output/LD_plots/CAV1/\")\n",
    "minp <-116131270\n",
    "maxp <-116204071"
   ]
  },
  {
   "cell_type": "code",
   "execution_count": 29,
   "metadata": {
    "collapsed": false
   },
   "outputs": [
    {
     "data": {
      "text/html": [
       "<strong>png:</strong> 2"
      ],
      "text/latex": [
       "\\textbf{png:} 2"
      ],
      "text/markdown": [
       "**png:** 2"
      ],
      "text/plain": [
       "png \n",
       "  2 "
      ]
     },
     "metadata": {},
     "output_type": "display_data"
    }
   ],
   "source": [
    "snapfile = \"plotdata/snap4165288664587760079.data.tmp\"\n",
    "data = liftover(snapfile)\n",
    "pdf(paste(snp,\"fgwas_PR_int.pdf\", sep=\".\"))\n",
    "par (mfrow=c(3,1))\n",
    "gwas_plot(data, snp, NA)\n",
    "fgwas_plot(data, snp, NA)\n",
    "\n",
    "chrom=data$Chromosome[1]\n",
    "plot_loops(loops, chrom, minp, maxp, h=0.5e6)\n",
    "dev.off()"
   ]
  },
  {
   "cell_type": "code",
   "execution_count": 58,
   "metadata": {
    "collapsed": true
   },
   "outputs": [],
   "source": [
    "fgwas = af"
   ]
  },
  {
   "cell_type": "code",
   "execution_count": 59,
   "metadata": {
    "collapsed": false
   },
   "outputs": [
    {
     "data": {
      "text/html": [
       "<strong>png:</strong> 2"
      ],
      "text/latex": [
       "\\textbf{png:} 2"
      ],
      "text/markdown": [
       "**png:** 2"
      ],
      "text/plain": [
       "png \n",
       "  2 "
      ]
     },
     "metadata": {},
     "output_type": "display_data"
    }
   ],
   "source": [
    "snapfile = \"plotdata/snap4165288664587760079.data.tmp\"\n",
    "data = liftover(snapfile)\n",
    "pdf(paste(snp,\"fgwas_af.pdf\", sep=\".\"))\n",
    "par (mfrow=c(3,1))\n",
    "gwas_plot(data, snp, NA)\n",
    "fgwas_plot(data, snp, NA)\n",
    "\n",
    "chrom=data$Chromosome[1]\n",
    "plot_loops(loops, chrom, minp, maxp, h=0.5e6)\n",
    "dev.off()"
   ]
  },
  {
   "cell_type": "markdown",
   "metadata": {},
   "source": [
    "### SSBP3"
   ]
  },
  {
   "cell_type": "code",
   "execution_count": 68,
   "metadata": {
    "collapsed": true
   },
   "outputs": [],
   "source": [
    "fgwas = pw"
   ]
  },
  {
   "cell_type": "code",
   "execution_count": 69,
   "metadata": {
    "collapsed": true
   },
   "outputs": [],
   "source": [
    "setwd(\"/frazer01/home/paola/Family1070/private_output/LD_plots/SSBP3/\")\n",
    "snp <- \"rs562408\"\n",
    "snp_ld <- \"rs590041\"\n",
    "\n",
    "minp<-54665938\n",
    "maxp<-54894514\n"
   ]
  },
  {
   "cell_type": "code",
   "execution_count": 70,
   "metadata": {
    "collapsed": false
   },
   "outputs": [
    {
     "data": {
      "text/html": [
       "<strong>png:</strong> 2"
      ],
      "text/latex": [
       "\\textbf{png:} 2"
      ],
      "text/markdown": [
       "**png:** 2"
      ],
      "text/plain": [
       "png \n",
       "  2 "
      ]
     },
     "metadata": {},
     "output_type": "display_data"
    }
   ],
   "source": [
    "snapfile = \"plotdata/snap8033376280739056554.data.tmp\"\n",
    "data = liftover(snapfile)\n",
    "\n",
    "pdf (paste(snp,\"fgwas_pw.pdf\", sep=\".\"))\n",
    "par (mfrow=c(3,1))\n",
    "gwas_plot (data, snp,snp_ld, NA)\n",
    "fgwas_plot(data, snp, NA)\n",
    "\n",
    "chrom=data$Chromosome[1]\n",
    "plot_loops(loops, chrom, minp, maxp, h=0.5e6)\n",
    "dev.off()"
   ]
  },
  {
   "cell_type": "markdown",
   "metadata": {},
   "source": [
    "### TBX3"
   ]
  },
  {
   "cell_type": "code",
   "execution_count": 63,
   "metadata": {
    "collapsed": true
   },
   "outputs": [],
   "source": [
    "snp <- \"rs7132327\"\n",
    "setwd(\"/frazer01/home/paola/Family1070/private_output/LD_plots/TBX3/\")\n",
    "minp <-114782575\n",
    "maxp <-115403399"
   ]
  },
  {
   "cell_type": "code",
   "execution_count": 64,
   "metadata": {
    "collapsed": true
   },
   "outputs": [],
   "source": [
    "fgwas = pr"
   ]
  },
  {
   "cell_type": "code",
   "execution_count": 65,
   "metadata": {
    "collapsed": true
   },
   "outputs": [],
   "source": [
    "snapfile = \"plotdata/snap7989476421662336404.data.tmp\"\n",
    "data = liftover(snapfile)"
   ]
  },
  {
   "cell_type": "code",
   "execution_count": 66,
   "metadata": {
    "collapsed": true
   },
   "outputs": [],
   "source": [
    "snp_ld <- c(\"rs10850409\", \"rs1896312\",\"rs3914956\")\n"
   ]
  },
  {
   "cell_type": "code",
   "execution_count": 67,
   "metadata": {
    "collapsed": false
   },
   "outputs": [
    {
     "data": {
      "text/html": [
       "<strong>png:</strong> 2"
      ],
      "text/latex": [
       "\\textbf{png:} 2"
      ],
      "text/markdown": [
       "**png:** 2"
      ],
      "text/plain": [
       "png \n",
       "  2 "
      ]
     },
     "metadata": {},
     "output_type": "display_data"
    }
   ],
   "source": [
    "pdf (paste(snp,\"fgwas_pr.pdf\", sep=\".\"))\n",
    "par (mfrow=c(3,1))\n",
    "\n",
    "gwas_plot (data, snp,snp_ld, NA)\n",
    "fgwas_plot(data, snp, NA)\n",
    "\n",
    "chrom=data$Chromosome[1]\n",
    "plot_loops(loops, chrom, minp, maxp, h=0.5e6)\n",
    "dev.off()"
   ]
  },
  {
   "cell_type": "code",
   "execution_count": null,
   "metadata": {
    "collapsed": true
   },
   "outputs": [],
   "source": []
  }
 ],
 "metadata": {
  "kernelspec": {
   "display_name": "R",
   "language": "R",
   "name": "ir"
  },
  "language_info": {
   "codemirror_mode": "r",
   "file_extension": ".r",
   "mimetype": "text/x-r-source",
   "name": "R",
   "pygments_lexer": "r",
   "version": "3.2.2"
  }
 },
 "nbformat": 4,
 "nbformat_minor": 0
}
