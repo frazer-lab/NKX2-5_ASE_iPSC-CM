{
 "cells": [
  {
   "cell_type": "code",
   "execution_count": 6,
   "metadata": {
    "collapsed": false
   },
   "outputs": [],
   "source": [
    "home = \"/home/paola/Family1070/private_output/ASE_rna/pipeline_HiCpaper/\"\n",
    "setwd(home)\n",
    "\n",
    "source(\"/frazer01/home/matteo/my_software/cardips_functions.R\") \n",
    "source(\"/frazer01/home/paola/my_software/ase_pipeline_functions.R\")    \n",
    "\n",
    "rna_pipeline_dir_sample = \"/frazer01/projects/CARDIPS/pipeline/RNAseq/sample\""
   ]
  },
  {
   "cell_type": "code",
   "execution_count": 7,
   "metadata": {
    "collapsed": false,
    "scrolled": true
   },
   "outputs": [],
   "source": [
    "sample_table = read.csv(\"../fam1070_data_plus_production-v3.csv\", stringsAsFactors = FALSE) \n",
    "sample_table= subset(sample_table, Data_type==\"RNA-Seq\")\n",
    "sample_table$Tissue = sample_table$Cell_type\n",
    "sample_table$subject = sample_table$Subject\n"
   ]
  },
  {
   "cell_type": "code",
   "execution_count": 8,
   "metadata": {
    "collapsed": false
   },
   "outputs": [
    {
     "data": {
      "text/plain": [
       "         \n",
       "          iPSC iPSC-CM\n",
       "  RNA-Seq   29      27"
      ]
     },
     "metadata": {},
     "output_type": "display_data"
    }
   ],
   "source": [
    "table(sample_table$Data_type, sample_table$Cell_type)"
   ]
  },
  {
   "cell_type": "code",
   "execution_count": 9,
   "metadata": {
    "collapsed": false
   },
   "outputs": [
    {
     "data": {
      "text/html": [
       "<table>\n",
       "<thead><tr><th scope=col>UUID</th><th scope=col>Subject_ID</th><th scope=col>Clone</th><th scope=col>Subject</th><th scope=col>Cell_type</th><th scope=col>UDID</th><th scope=col>Technical_replicate_ID</th><th scope=col>Data_type</th><th scope=col>Input_reads</th><th scope=col>Read_length</th><th scope=col>Uniquely_mapped_and_filtered_reads</th><th scope=col>ChIP.Seq_ATAC.Seq_number_of_peaks</th><th scope=col>ChIP.Seq_ATAC.Seq_FRiP</th><th scope=col>iPS_batch</th><th scope=col>Tissue</th><th scope=col>subject</th></tr></thead>\n",
       "<tbody>\n",
       "\t<tr><td>349de0b8-ea4a-45eb-9631-8259b539f7b8</td><td>iPSCORE_2_1                         </td><td>clone1                              </td><td>S07001                              </td><td>iPSC                                </td><td>2_1.C4.P12                          </td><td>                                    </td><td>RNA-Seq                             </td><td>20747348                            </td><td>100 PE                              </td><td>18880087                            </td><td>NA                                  </td><td>NA                                  </td><td>BASELINE                            </td><td>iPSC                                </td><td>S07001                              </td></tr>\n",
       "\t<tr><td>15898f77-a5f6-4c94-b3da-687fb0c88945</td><td>iPSCORE_2_1                         </td><td>clone1                              </td><td>S07001                              </td><td>iPSC                                </td><td>FS035                               </td><td>                                    </td><td>RNA-Seq                             </td><td>22173769                            </td><td>100 PE                              </td><td>20178130                            </td><td>NA                                  </td><td>NA                                  </td><td>FAM1070                             </td><td>iPSC                                </td><td>S07001                              </td></tr>\n",
       "\t<tr><td>02e9fa84-3521-4f36-bea2-5b0462869aa2</td><td>iPSCORE_2_1                         </td><td>clone1                              </td><td>S07001                              </td><td>iPSC                                </td><td>UDID007                             </td><td>                                    </td><td>RNA-Seq                             </td><td>33324718                            </td><td>100 PE                              </td><td>30658741                            </td><td>NA                                  </td><td>NA                                  </td><td>PRODUCTION                          </td><td>iPSC                                </td><td>S07001                              </td></tr>\n",
       "\t<tr><td>1342ed09-a675-4e07-b342-757895f4fa3d</td><td>iPSCORE_2_1                         </td><td>clone1                              </td><td>S07001                              </td><td>iPSC                                </td><td>UDID043                             </td><td>                                    </td><td>RNA-Seq                             </td><td>26353366                            </td><td>100 PE                              </td><td>24245097                            </td><td>NA                                  </td><td>NA                                  </td><td>PRODUCTION                          </td><td>iPSC                                </td><td>S07001                              </td></tr>\n",
       "\t<tr><td>b6641cf0-9356-4888-8b24-e8b70a39faeb</td><td>iPSCORE_2_1                         </td><td>clone2                              </td><td>S07001                              </td><td>iPSC                                </td><td>UDID048                             </td><td>                                    </td><td>RNA-Seq                             </td><td>24684805                            </td><td>100 PE                              </td><td>22463173                            </td><td>NA                                  </td><td>NA                                  </td><td>PRODUCTION                          </td><td>iPSC                                </td><td>S07001                              </td></tr>\n",
       "\t<tr><td>fbcd3e04-9962-4169-a792-ef2b09681221</td><td>iPSCORE_2_1                         </td><td>clone1                              </td><td>S07001                              </td><td>iPSC                                </td><td>FS030                               </td><td>                                    </td><td>RNA-Seq                             </td><td>25047659                            </td><td>100 PE                              </td><td>22542893                            </td><td>NA                                  </td><td>NA                                  </td><td>FAM1070                             </td><td>iPSC                                </td><td>S07001                              </td></tr>\n",
       "</tbody>\n",
       "</table>\n"
      ],
      "text/latex": [
       "\\begin{tabular}{r|llllllllllllllll}\n",
       " UUID & Subject\\_ID & Clone & Subject & Cell\\_type & UDID & Technical\\_replicate\\_ID & Data\\_type & Input\\_reads & Read\\_length & Uniquely\\_mapped\\_and\\_filtered\\_reads & ChIP.Seq\\_ATAC.Seq\\_number\\_of\\_peaks & ChIP.Seq\\_ATAC.Seq\\_FRiP & iPS\\_batch & Tissue & subject\\\\\n",
       "\\hline\n",
       "\t 349de0b8-ea4a-45eb-9631-8259b539f7b8 & iPSCORE\\_2\\_1                      & clone1                               & S07001                               & iPSC                                 & 2\\_1.C4.P12                         &                                      & RNA-Seq                              & 20747348                             & 100 PE                               & 18880087                             & NA                                   & NA                                   & BASELINE                             & iPSC                                 & S07001                              \\\\\n",
       "\t 15898f77-a5f6-4c94-b3da-687fb0c88945 & iPSCORE\\_2\\_1                      & clone1                               & S07001                               & iPSC                                 & FS035                                &                                      & RNA-Seq                              & 22173769                             & 100 PE                               & 20178130                             & NA                                   & NA                                   & FAM1070                              & iPSC                                 & S07001                              \\\\\n",
       "\t 02e9fa84-3521-4f36-bea2-5b0462869aa2 & iPSCORE\\_2\\_1                      & clone1                               & S07001                               & iPSC                                 & UDID007                              &                                      & RNA-Seq                              & 33324718                             & 100 PE                               & 30658741                             & NA                                   & NA                                   & PRODUCTION                           & iPSC                                 & S07001                              \\\\\n",
       "\t 1342ed09-a675-4e07-b342-757895f4fa3d & iPSCORE\\_2\\_1                      & clone1                               & S07001                               & iPSC                                 & UDID043                              &                                      & RNA-Seq                              & 26353366                             & 100 PE                               & 24245097                             & NA                                   & NA                                   & PRODUCTION                           & iPSC                                 & S07001                              \\\\\n",
       "\t b6641cf0-9356-4888-8b24-e8b70a39faeb & iPSCORE\\_2\\_1                      & clone2                               & S07001                               & iPSC                                 & UDID048                              &                                      & RNA-Seq                              & 24684805                             & 100 PE                               & 22463173                             & NA                                   & NA                                   & PRODUCTION                           & iPSC                                 & S07001                              \\\\\n",
       "\t fbcd3e04-9962-4169-a792-ef2b09681221 & iPSCORE\\_2\\_1                      & clone1                               & S07001                               & iPSC                                 & FS030                                &                                      & RNA-Seq                              & 25047659                             & 100 PE                               & 22542893                             & NA                                   & NA                                   & FAM1070                              & iPSC                                 & S07001                              \\\\\n",
       "\\end{tabular}\n"
      ],
      "text/plain": [
       "  UUID                                 Subject_ID  Clone  Subject Cell_type\n",
       "1 349de0b8-ea4a-45eb-9631-8259b539f7b8 iPSCORE_2_1 clone1 S07001  iPSC     \n",
       "2 15898f77-a5f6-4c94-b3da-687fb0c88945 iPSCORE_2_1 clone1 S07001  iPSC     \n",
       "3 02e9fa84-3521-4f36-bea2-5b0462869aa2 iPSCORE_2_1 clone1 S07001  iPSC     \n",
       "4 1342ed09-a675-4e07-b342-757895f4fa3d iPSCORE_2_1 clone1 S07001  iPSC     \n",
       "5 b6641cf0-9356-4888-8b24-e8b70a39faeb iPSCORE_2_1 clone2 S07001  iPSC     \n",
       "6 fbcd3e04-9962-4169-a792-ef2b09681221 iPSCORE_2_1 clone1 S07001  iPSC     \n",
       "  UDID       Technical_replicate_ID Data_type Input_reads Read_length\n",
       "1 2_1.C4.P12                        RNA-Seq   20747348    100 PE     \n",
       "2 FS035                             RNA-Seq   22173769    100 PE     \n",
       "3 UDID007                           RNA-Seq   33324718    100 PE     \n",
       "4 UDID043                           RNA-Seq   26353366    100 PE     \n",
       "5 UDID048                           RNA-Seq   24684805    100 PE     \n",
       "6 FS030                             RNA-Seq   25047659    100 PE     \n",
       "  Uniquely_mapped_and_filtered_reads ChIP.Seq_ATAC.Seq_number_of_peaks\n",
       "1 18880087                           NA                               \n",
       "2 20178130                           NA                               \n",
       "3 30658741                           NA                               \n",
       "4 24245097                           NA                               \n",
       "5 22463173                           NA                               \n",
       "6 22542893                           NA                               \n",
       "  ChIP.Seq_ATAC.Seq_FRiP iPS_batch  Tissue subject\n",
       "1 NA                     BASELINE   iPSC   S07001 \n",
       "2 NA                     FAM1070    iPSC   S07001 \n",
       "3 NA                     PRODUCTION iPSC   S07001 \n",
       "4 NA                     PRODUCTION iPSC   S07001 \n",
       "5 NA                     PRODUCTION iPSC   S07001 \n",
       "6 NA                     FAM1070    iPSC   S07001 "
      ]
     },
     "metadata": {},
     "output_type": "display_data"
    }
   ],
   "source": [
    "head(sample_table)"
   ]
  },
  {
   "cell_type": "code",
   "execution_count": 10,
   "metadata": {
    "collapsed": false
   },
   "outputs": [
    {
     "name": "stdout",
     "output_type": "stream",
     "text": [
      "Tissue :  iPSC \n",
      "Name: S07001 \n",
      "Name: S07002 \n",
      "Name: S07003 \n",
      "Name: S07004 \n",
      "Name: S07006 \n",
      "Name: S07007 \n",
      "Name: S07009 \n",
      "Tissue :  iPSC-CM \n",
      "Name: S07001 \n",
      "Name: S07002 \n",
      "Name: S07003 \n",
      "Name: S07004 \n",
      "Name: S07006 \n",
      "Name: S07007 \n",
      "Name: S07009 \n"
     ]
    }
   ],
   "source": [
    "source(\"/frazer01/home/paola/my_software/ase_pipeline_functions.R\")    \n",
    "\n",
    "#####################################################################################\n",
    "ppn        = 12\n",
    "vcf_phased = \"/projects/CARDIPS/analysis/family1070/sevenIndi.phased.variant.vcf.gz\"\n",
    "bed        = \"/frazer01/publicdata/gencode_v19_20151104/genes.bed\"\n",
    "\n",
    "analysis_dir = paste(home, \"analysis\", sep = \"/\")\n",
    "sh_dir       = paste(home, \"sh\"      , sep = \"/\")\n",
    "log_dir      = paste(home, \"log\"     , sep = \"/\")\n",
    "\n",
    "\n",
    "dir.create(analysis_dir, showWarnings = FALSE)\n",
    "dir.create(sh_dir      , showWarnings = FALSE)\n",
    "dir.create(log_dir     , showWarnings = FALSE)\n",
    "\n",
    "\n",
    "for (tissue in sort(unique(sample_table$Tissue)))\n",
    "{\n",
    "    cat(\"Tissue : \", tissue, \"\\n\")\n",
    "    \n",
    "    this_tissue = sample_table[sample_table$Tissue == tissue,]\n",
    "    tissue_dir  = paste(analysis_dir, tissue, sep = \"/\")\n",
    "    \n",
    "    dir.create(tissue_dir, showWarnings = FALSE)\n",
    "\n",
    "     for (name in sort(unique(this_tissue$subject)))     ##### MERGE REPLICATES OF SAME SUBJECT\n",
    "    {\n",
    "        cat(\"Name:\", name, \"\\n\")\n",
    "        \n",
    "       \n",
    "        this_subject = this_tissue[this_tissue$subject == name,]\n",
    "        subject      = unique(this_subject$subject)\n",
    "        subject_dir  = paste(tissue_dir, name,          sep = \"/\")\n",
    "        full_name    = paste(tissue    , name, \"genes\", sep = \"_\")\n",
    "        out_bam      = paste(subject_dir, \"/\", subject, \".bam\", sep = \"\")\n",
    "        bam_files    = paste(rna_pipeline_dir_sample, \"/\", this_subject$UUID, \"/alignment/\", this_subject$UUID, \"_sorted_mdup.bam\", sep = \"\")\n",
    "        \n",
    "        dir.create(subject_dir, showWarnings = FALSE)\n",
    "        \n",
    "        sh_file = runAse(full_name, sh_dir, subject, log_dir, subject, subject_dir, bam_files, out_bam, vcf_phased, bed, ppn, is.gz = TRUE, run = TRUE)\n",
    "       \n",
    "        # sh_file = runMbased(full_name, sh_dir, subject, log_dir, subject, subject_dir, bam_files, out_bam, vcf_phased, bed, ppn, is.gz = TRUE, run = TRUE)\n",
    "    }\n",
    "}\n"
   ]
  },
  {
   "cell_type": "markdown",
   "metadata": {},
   "source": [
    "Run time ~ 3 hours"
   ]
  },
  {
   "cell_type": "markdown",
   "metadata": {
    "collapsed": true
   },
   "source": [
    "### After the previous analysis is done: merge data into tables"
   ]
  },
  {
   "cell_type": "code",
   "execution_count": 8,
   "metadata": {
    "collapsed": false
   },
   "outputs": [],
   "source": [
    "analysis_dir = paste(home, \"analysis\", sep = \"\")"
   ]
  },
  {
   "cell_type": "code",
   "execution_count": 9,
   "metadata": {
    "collapsed": true
   },
   "outputs": [],
   "source": [
    "sample_table = sample_table_full"
   ]
  },
  {
   "cell_type": "code",
   "execution_count": 12,
   "metadata": {
    "collapsed": false
   },
   "outputs": [
    {
     "name": "stderr",
     "output_type": "stream",
     "text": [
      "Warning message in dir.create(results_dir):\n",
      "\"'/home/paola/Family1070/private_output/ASE_rna/pipeline/results' already exists\""
     ]
    }
   ],
   "source": [
    "pipeline = \"/home/paola/Family1070/private_output/ASE_rna/pipeline/\"\n",
    "setwd(pipeline)\n",
    "results_dir  = paste(pipeline, \"results\"     , sep = \"\")\n",
    "dir.create(results_dir)"
   ]
  },
  {
   "cell_type": "code",
   "execution_count": 14,
   "metadata": {
    "collapsed": false
   },
   "outputs": [
    {
     "name": "stdout",
     "output_type": "stream",
     "text": [
      "Tissue :  iPSC \n",
      "Name: 2_1.C4.P12 \n",
      "Name: 2_2.C7.P13 \n",
      "Name: 2_3.C5.P13 \n",
      "Name: 2_4.C2.P13 \n",
      "Name: 2_6.C1.P12 \n",
      "Name: 2_7.C3.P12 \n",
      "Name: 2_9.C5.P12 \n",
      "Name: FS026 \n",
      "Name: FS027 \n",
      "Name: FS028 \n",
      "Name: FS029 \n",
      "Name: FS030 \n",
      "Name: FS031 \n",
      "Name: FS033 \n",
      "Name: FS034 \n",
      "Name: FS035 \n",
      "Name: FS036 \n",
      "Name: FS037 \n",
      "Name: FS040 \n",
      "Name: FS042 \n",
      "Name: FS043 \n",
      "Name: UDID007 \n",
      "Name: UDID020 \n",
      "Name: UDID043 \n",
      "Name: UDID044 \n",
      "Name: UDID045 \n",
      "Name: UDID048 \n",
      "Name: UDID053 \n",
      "Name: UDID067 \n",
      "Tissue :  iPSC-CM \n",
      "Name: FS003 \n",
      "Name: FS005 \n",
      "Name: FS006 \n",
      "Name: FS007 \n",
      "Name: FS008 \n",
      "Name: FS009 \n",
      "Name: FS010 \n",
      "Name: FS011 \n",
      "Name: FS014 \n",
      "Name: FS015 \n",
      "Name: FS016 \n",
      "Name: FS017 \n",
      "Name: FS018 \n",
      "Name: FS024 \n",
      "Name: UDID001 \n",
      "Name: UDID007 \n",
      "Name: UDID020 \n",
      "Name: UDID021 \n",
      "Name: UDID029 \n",
      "Name: UDID034 \n",
      "Name: UDID043 \n",
      "Name: UDID044 \n",
      "Name: UDID045 \n",
      "Name: UDID048 \n",
      "Name: UDID053 \n",
      "Name: UDID067 \n"
     ]
    }
   ],
   "source": [
    "started_analysis = 0\n",
    "mark= 'RNA-Seq' \n",
    "for (tissue in sort(unique(sample_table$Tissue)))\n",
    "{\n",
    "    cat(\"Tissue : \", tissue, \"\\n\")\n",
    "    this_tissue = sample_table[sample_table$Tissue == tissue,]\n",
    "    tissue_dir  = paste(analysis_dir, tissue, sep = \"/\")\n",
    "\n",
    "         for (name in sort(unique(this_tissue$UDID)))     ##### MODIFIED IN ORDER NOT TO MERGE REPLICATES OF SAME SUBJECT\n",
    "    {\n",
    "        cat(\"Name:\", name, \"\\n\")\n",
    "            \n",
    "            mbased_folder = paste(tissue_dir, name, \"mbased\", sep = \"/\")\n",
    "            \n",
    "        this_subject = this_tissue[this_tissue$UDID == name,]\n",
    "        subject      = unique(this_subject$subject)\n",
    "             \n",
    "             \n",
    "            locus_file    = paste(mbased_folder, \"/\", subject, \"_locus.tsv\"       , sep = \"\" )\n",
    "            snv_file      = paste(mbased_folder, \"/\", subject, \"_snv.tsv\"         , sep = \"\" )\n",
    "            in_file       = paste(mbased_folder, \"/\", subject, \"_mbased_input.tsv\", sep = \"\" )\n",
    "            \n",
    "            if ((file.exists(locus_file)== TRUE)&(file.exists(snv_file)== TRUE))\n",
    "            {\n",
    "                locus = read.table(locus_file, header = TRUE , sep = \"\\t\", stringsAsFactors = FALSE, row.names = 1, comment.char = \"\") \n",
    "                snv   = read.table(snv_file  , header = TRUE , sep = \"\\t\", stringsAsFactors = FALSE, row.names = 1, comment.char = \"\") \n",
    "                inp   = read.table(in_file   , header = TRUE , sep = \"\\t\", stringsAsFactors = FALSE, row.names = 1, comment.char = \"\") \n",
    "                \n",
    "                snv$ref_freq = snv$maf\n",
    "                snv[snv$ref_is_major == FALSE, \"ref_freq\"] = 1 - snv[snv$ref_is_major == FALSE, \"maf\"]\n",
    "                snv$coord   = paste(snv$chrom, snv$position, sep = \":\")\n",
    "                inp$coord   = paste(inp$contig, inp$position, sep = \":\")\n",
    "\n",
    "                locus$locus = rownames(locus)\n",
    "                snv$maf = NULL\n",
    "\n",
    "                out_data          = merge(locus, snv)\n",
    "                out_data          = merge(inp[, c(\"coord\", \"variantID\",\"refAllele\", \"altAllele\",  \"expectedRefFreq\", \"binomialPValue\",  'refCount','altCount',\"rawDepth\")], out_data)\n",
    "                out_data$subject  = subject\n",
    "                out_data$UDID     = name\n",
    "                out_data$mark     = mark\n",
    "                out_data$tissue   = tissue\n",
    "               \n",
    "                \n",
    "                if (started_analysis == 0)\n",
    "                {\n",
    "                    all_ase = out_data\n",
    "                    started_analysis = 1\n",
    "                    col_names_locus = colnames(locus)\n",
    "                }else\n",
    "                {\n",
    "                    all_ase = rbind(all_ase, out_data)\n",
    "                }\n",
    "            }else\n",
    "            {\n",
    "                cat(locus_file, \"does not exist\\n\")\n",
    "            }\n",
    "        }\n",
    "        #break\n",
    " }"
   ]
  },
  {
   "cell_type": "code",
   "execution_count": 15,
   "metadata": {
    "collapsed": true
   },
   "outputs": [],
   "source": [
    "write.table(all_ase, file = paste(results_dir, \"all_ase.txt\", sep = \"/\"), col.names = TRUE, row.names = FALSE, quote = FALSE, sep = \"\\t\")"
   ]
  },
  {
   "cell_type": "code",
   "execution_count": 16,
   "metadata": {
    "collapsed": true
   },
   "outputs": [],
   "source": [
    "sample_table$Mark=\"RNA-Seq\""
   ]
  },
  {
   "cell_type": "code",
   "execution_count": null,
   "metadata": {
    "collapsed": false
   },
   "outputs": [],
   "source": [
    "all_ase  = read.table(paste(results_dir, \"all_ase.txt\", sep = \"/\"), header = TRUE , sep = \"\\t\", stringsAsFactors = FALSE) \n",
    "\n",
    "for (mark in sort(unique(sample_table$Mark)))\n",
    "    {\n",
    "        cat(\"Mark   : \", mark, \"\\n\")\n",
    "        this_mark = sample_table[sample_table$Mark == mark,]\n",
    "        \n",
    "        \n",
    "    for (tissue in sort(unique(this_mark$Tissue)))\n",
    "{\n",
    "    cat(\"Tissue : \", tissue, \"\\n\")\n",
    "    this_tissue = this_mark[this_mark$Tissue == tissue,]\n",
    "    tissue_dir  = paste(analysis_dir, tissue, sep = \"/\")\n",
    "        \n",
    "        separate_table = all_ase[all_ase$tissue == tissue & all_ase$mark == mark, ]\n",
    "        \n",
    "        this = unique(all_ase[all_ase$tissue == tissue & all_ase$mark == mark, c(col_names_locus, \"UDID\")])##### MODIFIED\n",
    "        \n",
    "        out_root = paste(results_dir, \"/\", tissue, \"_\", mark, sep = \"\")\n",
    "        \n",
    "        loci     = sort(unique(this$locus  ))\n",
    "        subjects = sort(unique(this$UDID))  ##### MODIFIED\n",
    "        \n",
    "        empty = matrix(nrow = length(loci), ncol = length(subjects))\n",
    "        rownames(empty) = loci\n",
    "        colnames(empty) = subjects\n",
    "        \n",
    "        empty_df = data.frame(empty, stringsAsFactors = FALSE)\n",
    "        \n",
    "        p_val_ases = empty_df\n",
    "        p_val_hets = empty_df\n",
    "        mafs       = empty_df\n",
    "        \n",
    "        for (ii in 1: length(this$locus))\n",
    "        {\n",
    "            locus     = this$locus            [[ii]]\n",
    "            subject   = this$UDID          [[ii]] ##### MODIFIED\n",
    "            p_val_ase = this$p_val_ase        [[ii]]\n",
    "            p_val_het = this$p_val_het        [[ii]]\n",
    "            maf       = this$major_allele_freq[[ii]]\n",
    "            \n",
    "            p_val_ases[locus, subject] = p_val_ase\n",
    "            p_val_hets[locus, subject] = p_val_het\n",
    "            mafs      [locus, subject] = maf\n",
    "        }\n",
    "        write.table(p_val_ases, file = paste(out_root, \"p_val_ase.txt\", sep = \".\"), col.names = NA, row.names = TRUE, quote = FALSE, sep = \"\\t\")\n",
    "        write.table(p_val_hets, file = paste(out_root, \"p_val_het.txt\", sep = \".\"), col.names = NA, row.names = TRUE, quote = FALSE, sep = \"\\t\")\n",
    "        write.table(mafs      , file = paste(out_root, \"major_allele_freq.txt\"      , sep = \".\"), col.names = NA, row.names = TRUE, quote = FALSE, sep = \"\\t\")\n",
    "        write.table(separate_table, file = paste(out_root, \"_ase_snv.txt\", sep = \"\"), col.names = TRUE, row.names = FALSE, quote = FALSE, sep = \"\\t\")               \n",
    " \n",
    "    }\n",
    "}\n"
   ]
  },
  {
   "cell_type": "code",
   "execution_count": 44,
   "metadata": {
    "collapsed": false
   },
   "outputs": [
    {
     "data": {
      "text/html": [
       "<table>\n",
       "<thead><tr><th></th><th scope=col>coord</th><th scope=col>variantID</th><th scope=col>refAllele</th><th scope=col>altAllele</th><th scope=col>expectedRefFreq</th><th scope=col>binomialPValue</th><th scope=col>refCount</th><th scope=col>altCount</th><th scope=col>rawDepth</th><th scope=col>locus</th><th scope=col>...</th><th scope=col>chrom</th><th scope=col>position</th><th scope=col>ref</th><th scope=col>alt</th><th scope=col>ref_is_major</th><th scope=col>ref_freq</th><th scope=col>subject</th><th scope=col>UDID</th><th scope=col>mark</th><th scope=col>tissue</th></tr></thead>\n",
       "<tbody>\n",
       "\t<tr><th scope=row>281179</th><td>chr10:100017453   </td><td>rs1983864         </td><td>T                 </td><td>G                 </td><td>0.5138964         </td><td>0.009809428       </td><td> 1                </td><td> 9                </td><td>10                </td><td>ENSG00000138131.3 </td><td>...               </td><td>chr10             </td><td>100017453         </td><td>T                 </td><td>G                 </td><td>FALSE             </td><td>0.09010273        </td><td>S07003            </td><td>FS003             </td><td>RNA-Seq           </td><td>iPSC-CM           </td></tr>\n",
       "\t<tr><th scope=row>281180</th><td>chr10:100171440   </td><td>rs10748730        </td><td>C                 </td><td>T                 </td><td>0.5049265         </td><td>0.037278363       </td><td> 1                </td><td> 7                </td><td> 8                </td><td>ENSG00000119943.6 </td><td>...               </td><td>chr10             </td><td>100171440         </td><td>C                 </td><td>T                 </td><td>FALSE             </td><td>0.12105281        </td><td>S07003            </td><td>FS003             </td><td>RNA-Seq           </td><td>iPSC-CM           </td></tr>\n",
       "\t<tr><th scope=row>281181</th><td>chr10:100174829   </td><td>.                 </td><td>G                 </td><td>A                 </td><td>0.5013015         </td><td>0.844628202       </td><td>12                </td><td>13                </td><td>25                </td><td>ENSG00000119943.6 </td><td>...               </td><td>chr10             </td><td>100174829         </td><td>G                 </td><td>A                 </td><td>FALSE             </td><td>0.47864852        </td><td>S07003            </td><td>FS003             </td><td>RNA-Seq           </td><td>iPSC-CM           </td></tr>\n",
       "\t<tr><th scope=row>281182</th><td>chr10:100176615   </td><td>rs3830020         </td><td>G                 </td><td>C                 </td><td>0.5011036         </td><td>0.726567828       </td><td> 5                </td><td> 3                </td><td> 8                </td><td>ENSG00000107521.14</td><td>...               </td><td>chr10             </td><td>100176615         </td><td>G                 </td><td>C                 </td><td> TRUE             </td><td>0.62379833        </td><td>S07003            </td><td>FS003             </td><td>RNA-Seq           </td><td>iPSC-CM           </td></tr>\n",
       "\t<tr><th scope=row>281183</th><td>chr10:100176997   </td><td>rs1061123         </td><td>A                 </td><td>G                 </td><td>0.4980426         </td><td>0.071194087       </td><td>37                </td><td>23                </td><td>60                </td><td>ENSG00000107521.14</td><td>...               </td><td>chr10             </td><td>100176997         </td><td>A                 </td><td>G                 </td><td> TRUE             </td><td>0.61860236        </td><td>S07003            </td><td>FS003             </td><td>RNA-Seq           </td><td>iPSC-CM           </td></tr>\n",
       "\t<tr><th scope=row>281184</th><td>chr10:100189138   </td><td>rs1061135         </td><td>A                 </td><td>G                 </td><td>0.4980426         </td><td>0.726579262       </td><td> 3                </td><td> 5                </td><td> 8                </td><td>ENSG00000107521.14</td><td>...               </td><td>chr10             </td><td>100189138         </td><td>A                 </td><td>G                 </td><td>FALSE             </td><td>0.37713182        </td><td>S07003            </td><td>FS003             </td><td>RNA-Seq           </td><td>iPSC-CM           </td></tr>\n",
       "</tbody>\n",
       "</table>\n"
      ],
      "text/latex": [
       "\\begin{tabular}{r|lllllllllllllllllllllll}\n",
       "  & coord & variantID & refAllele & altAllele & expectedRefFreq & binomialPValue & refCount & altCount & rawDepth & locus & ... & chrom & position & ref & alt & ref\\_is\\_major & ref\\_freq & subject & UDID & mark & tissue\\\\\n",
       "\\hline\n",
       "\t281179 & chr10:100017453    & rs1983864          & T                  & G                  & 0.5138964          & 0.009809428        &  1                 &  9                 & 10                 & ENSG00000138131.3  & ...                & chr10              & 100017453          & T                  & G                  & FALSE              & 0.09010273         & S07003             & FS003              & RNA-Seq            & iPSC-CM           \\\\\n",
       "\t281180 & chr10:100171440    & rs10748730         & C                  & T                  & 0.5049265          & 0.037278363        &  1                 &  7                 &  8                 & ENSG00000119943.6  & ...                & chr10              & 100171440          & C                  & T                  & FALSE              & 0.12105281         & S07003             & FS003              & RNA-Seq            & iPSC-CM           \\\\\n",
       "\t281181 & chr10:100174829    & .                  & G                  & A                  & 0.5013015          & 0.844628202        & 12                 & 13                 & 25                 & ENSG00000119943.6  & ...                & chr10              & 100174829          & G                  & A                  & FALSE              & 0.47864852         & S07003             & FS003              & RNA-Seq            & iPSC-CM           \\\\\n",
       "\t281182 & chr10:100176615    & rs3830020          & G                  & C                  & 0.5011036          & 0.726567828        &  5                 &  3                 &  8                 & ENSG00000107521.14 & ...                & chr10              & 100176615          & G                  & C                  &  TRUE              & 0.62379833         & S07003             & FS003              & RNA-Seq            & iPSC-CM           \\\\\n",
       "\t281183 & chr10:100176997    & rs1061123          & A                  & G                  & 0.4980426          & 0.071194087        & 37                 & 23                 & 60                 & ENSG00000107521.14 & ...                & chr10              & 100176997          & A                  & G                  &  TRUE              & 0.61860236         & S07003             & FS003              & RNA-Seq            & iPSC-CM           \\\\\n",
       "\t281184 & chr10:100189138    & rs1061135          & A                  & G                  & 0.4980426          & 0.726579262        &  3                 &  5                 &  8                 & ENSG00000107521.14 & ...                & chr10              & 100189138          & A                  & G                  & FALSE              & 0.37713182         & S07003             & FS003              & RNA-Seq            & iPSC-CM           \\\\\n",
       "\\end{tabular}\n"
      ],
      "text/plain": [
       "       coord           variantID  refAllele altAllele expectedRefFreq\n",
       "281179 chr10:100017453 rs1983864  T         G         0.5138964      \n",
       "281180 chr10:100171440 rs10748730 C         T         0.5049265      \n",
       "281181 chr10:100174829 .          G         A         0.5013015      \n",
       "281182 chr10:100176615 rs3830020  G         C         0.5011036      \n",
       "281183 chr10:100176997 rs1061123  A         G         0.4980426      \n",
       "281184 chr10:100189138 rs1061135  A         G         0.4980426      \n",
       "       binomialPValue refCount altCount rawDepth locus              ... chrom\n",
       "281179 0.009809428     1        9       10       ENSG00000138131.3  ... chr10\n",
       "281180 0.037278363     1        7        8       ENSG00000119943.6  ... chr10\n",
       "281181 0.844628202    12       13       25       ENSG00000119943.6  ... chr10\n",
       "281182 0.726567828     5        3        8       ENSG00000107521.14 ... chr10\n",
       "281183 0.071194087    37       23       60       ENSG00000107521.14 ... chr10\n",
       "281184 0.726579262     3        5        8       ENSG00000107521.14 ... chr10\n",
       "       position  ref alt ref_is_major ref_freq   subject UDID  mark    tissue \n",
       "281179 100017453 T   G   FALSE        0.09010273 S07003  FS003 RNA-Seq iPSC-CM\n",
       "281180 100171440 C   T   FALSE        0.12105281 S07003  FS003 RNA-Seq iPSC-CM\n",
       "281181 100174829 G   A   FALSE        0.47864852 S07003  FS003 RNA-Seq iPSC-CM\n",
       "281182 100176615 G   C    TRUE        0.62379833 S07003  FS003 RNA-Seq iPSC-CM\n",
       "281183 100176997 A   G    TRUE        0.61860236 S07003  FS003 RNA-Seq iPSC-CM\n",
       "281184 100189138 A   G   FALSE        0.37713182 S07003  FS003 RNA-Seq iPSC-CM"
      ]
     },
     "metadata": {},
     "output_type": "display_data"
    }
   ],
   "source": [
    "head(separate_table)"
   ]
  },
  {
   "cell_type": "code",
   "execution_count": 28,
   "metadata": {
    "collapsed": false
   },
   "outputs": [
    {
     "data": {
      "text/html": [
       "<ol class=list-inline>\n",
       "\t<li>'major_allele_freq'</li>\n",
       "\t<li>'p_val_ase'</li>\n",
       "\t<li>'p_val_het'</li>\n",
       "\t<li>'locus'</li>\n",
       "</ol>\n"
      ],
      "text/latex": [
       "\\begin{enumerate*}\n",
       "\\item 'major\\_allele\\_freq'\n",
       "\\item 'p\\_val\\_ase'\n",
       "\\item 'p\\_val\\_het'\n",
       "\\item 'locus'\n",
       "\\end{enumerate*}\n"
      ],
      "text/markdown": [
       "1. 'major_allele_freq'\n",
       "2. 'p_val_ase'\n",
       "3. 'p_val_het'\n",
       "4. 'locus'\n",
       "\n",
       "\n"
      ],
      "text/plain": [
       "[1] \"major_allele_freq\" \"p_val_ase\"         \"p_val_het\"        \n",
       "[4] \"locus\"            "
      ]
     },
     "metadata": {},
     "output_type": "display_data"
    }
   ],
   "source": [
    "col_names_locus"
   ]
  },
  {
   "cell_type": "code",
   "execution_count": null,
   "metadata": {
    "collapsed": true
   },
   "outputs": [],
   "source": []
  }
 ],
 "metadata": {
  "kernelspec": {
   "display_name": "R",
   "language": "R",
   "name": "ir"
  },
  "language_info": {
   "codemirror_mode": "r",
   "file_extension": ".r",
   "mimetype": "text/x-r-source",
   "name": "R",
   "pygments_lexer": "r",
   "version": "3.2.2"
  }
 },
 "nbformat": 4,
 "nbformat_minor": 0
}
