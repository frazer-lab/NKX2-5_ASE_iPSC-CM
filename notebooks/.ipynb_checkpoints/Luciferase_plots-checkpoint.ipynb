{
 "cells": [
  {
   "cell_type": "code",
   "execution_count": 1,
   "metadata": {
    "collapsed": true
   },
   "outputs": [],
   "source": [
    "setwd('/frazer01/home/paola/Family1070/private_output/Validation/Luciferase')\n",
    "suppressPackageStartupMessages(library(stringr))\n",
    "suppressPackageStartupMessages(library(RColorBrewer))\n",
    "suppressPackageStartupMessages(library(gplots))\n",
    "suppressPackageStartupMessages(library(beeswarm))"
   ]
  },
  {
   "cell_type": "code",
   "execution_count": 46,
   "metadata": {
    "collapsed": true
   },
   "outputs": [],
   "source": [
    "res = read.table(\"Res_CM_112818\", row.names=1)"
   ]
  },
  {
   "cell_type": "code",
   "execution_count": 83,
   "metadata": {
    "collapsed": true
   },
   "outputs": [],
   "source": [
    "res2 = read.table(\"Res_293T_111418\", row.names=1)"
   ]
  },
  {
   "cell_type": "code",
   "execution_count": 94,
   "metadata": {
    "collapsed": false
   },
   "outputs": [
    {
     "data": {
      "text/html": [
       "<strong>png:</strong> 2"
      ],
      "text/latex": [
       "\\textbf{png:} 2"
      ],
      "text/markdown": [
       "**png:** 2"
      ],
      "text/plain": [
       "png \n",
       "  2 "
      ]
     },
     "metadata": {},
     "output_type": "display_data"
    }
   ],
   "source": [
    "pdf(\"Plots.pdf\")\n",
    "par(mfrow=c(2,4), mar=c(8,3,6,1))\n",
    "for (y in 1:4){\n",
    "i= c(2,3,6,7)[y]\n",
    "reg = c(\"CAV1-fwd\", \"CAV1-rev\", \"SSBP3-fwd\", \"SSBP3-rev\")\n",
    "dt = t(res[c(1,c(i, i+2) ),])\n",
    "li = list(   dt[,1], dt[,2], dt[,3])\n",
    "beeswarm(li, pch = 19, col = \"orangered\",corral=\"random\", labels=c(\"Empty\", \"REF\", \"ALT\"), main= reg[y], cex=1.2)\n",
    "mtext(side=2, text=\"RLU\", cex=0.8, line= 2)\n",
    "bxplot(li, add = TRUE)\n",
    "    }\n",
    "\n",
    "for (y in 1:4){\n",
    "i= c(2,3,6,7)[y]\n",
    "dt = t(res2[c(1,c(i, i+2) ),])\n",
    "li = list(   dt[,1], dt[,2], dt[,3])\n",
    "beeswarm(li, pch =19, col = \"steelblue\",corral=\"random\", labels=c(\"Empty\", \"REF\", \"ALT\"), main= reg[y], cex=1.2)\n",
    "mtext(side=2, text=\"RLU\", cex=0.8, line= 2)\n",
    "bxplot(li, add = TRUE)\n",
    "    }\n",
    "dev.off()"
   ]
  },
  {
   "cell_type": "code",
   "execution_count": 138,
   "metadata": {
    "collapsed": false
   },
   "outputs": [
    {
     "data": {
      "text/html": [
       "<strong>png:</strong> 2"
      ],
      "text/latex": [
       "\\textbf{png:} 2"
      ],
      "text/markdown": [
       "**png:** 2"
      ],
      "text/plain": [
       "png \n",
       "  2 "
      ]
     },
     "metadata": {},
     "output_type": "display_data"
    }
   ],
   "source": [
    "pdf(\"Plots2.pdf\")\n",
    "par(mfrow=c(2,2), mar = c(5,2,4,1))\n",
    "lab = c(\"pgl4\", \"A\",\"G\",\"A\",'G', 'T','C','T','C')\n",
    "dt = t(res)\n",
    "li = list( dt[,1], dt[,2], dt[,4],dt[,3], dt[,5], dt[,6], dt[,8], dt[,7], dt[,9])\n",
    "beeswarm(li, pch = 18, col = \"gray\",corral=\"random\", labels=lab,  bty='l',axes=F,\n",
    "         main= \"iPSC-CMs\", cex=1, las=2, ylim=c(0,1.5))\n",
    "axis(2)\n",
    "axis(1, 1:9, labels=lab)\n",
    "mtext(side=2, text=\"RLU\", cex=0.8, line= 2)\n",
    "bxplot(li, add = TRUE)\n",
    "abline(h = median (li[[1]], na.rm=T), col=\"gray\", lty=2)\n",
    "\n",
    "dt = t(res2)\n",
    "li = list( dt[,1], dt[,2], dt[,4],dt[,3], dt[,5], dt[,6], dt[,8], dt[,7], dt[,9])\n",
    "\n",
    "beeswarm(li, pch = 18, col = \"gray\",corral=\"random\", labels=lab,  bty='l',axes=F,\n",
    "         main= \"HEK293T\", cex=1, las=2)\n",
    "axis(2)\n",
    "axis(1, 1:9, labels=lab)\n",
    "mtext(side=2, text=\"RLU\", cex=0.8, line= 2)\n",
    "bxplot(li, add = TRUE)\n",
    "abline(h = median (li[[1]], na.rm=T), col=\"gray\", lty=2)\n",
    "dev.off()"
   ]
  },
  {
   "cell_type": "code",
   "execution_count": 98,
   "metadata": {
    "collapsed": false
   },
   "outputs": [
    {
     "data": {
      "text/plain": [
       "[1] NA"
      ]
     },
     "metadata": {},
     "output_type": "display_data"
    }
   ],
   "source": []
  },
  {
   "cell_type": "code",
   "execution_count": null,
   "metadata": {
    "collapsed": true
   },
   "outputs": [],
   "source": [
    "par(mfrow=c(2,2))\n",
    "for (i in 1:4){\n",
    "    dt\n",
    "beeswarm(gene_exp~genotype, dt, \n",
    "          log = F, pch = 21, col = \"steelblue\",corral=\"random\",\n",
    "          ylab=paste(genes$gene_name[i], \"expression\"), xlab=paste(snp, \"genotype\"),\n",
    "          main=(paste(\"p-val=\", signif(summary(l)$coefficients[2,4]))), las=1)\n",
    "          bxplot(gene_exp~genotype, dt, add = TRUE)\n",
    "          mtext(paste(\"n=\", aggregate(gene_exp~genotype, dt, length)[,2]) , side = 1, outer = FALSE, at = 1:length(unique(dt$genotype)),\n",
    "          adj = NA, padj = NA, cex = 0.8, col = NA)\n",
    "          mtext(genes$gene_id[i] , side = 3, outer = FALSE, at = length(unique(dt$genotype))-1,\n",
    "           adj = NA, padj = NA, cex = 0.8, col = NA)"
   ]
  }
 ],
 "metadata": {
  "kernelspec": {
   "display_name": "R",
   "language": "R",
   "name": "ir"
  },
  "language_info": {
   "codemirror_mode": "r",
   "file_extension": ".r",
   "mimetype": "text/x-r-source",
   "name": "R",
   "pygments_lexer": "r",
   "version": "3.2.2"
  }
 },
 "nbformat": 4,
 "nbformat_minor": 0
}
