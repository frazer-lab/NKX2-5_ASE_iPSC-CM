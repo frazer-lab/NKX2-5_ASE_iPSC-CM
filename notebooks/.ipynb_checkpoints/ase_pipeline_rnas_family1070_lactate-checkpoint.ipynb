{
 "cells": [
  {
   "cell_type": "code",
   "execution_count": 8,
   "metadata": {
    "collapsed": false
   },
   "outputs": [],
   "source": [
    "suppressPackageStartupMessages(library(RMySQL))\n",
    "\n",
    "home = \"/frazer01/projects/CARDIPS/analysis/family1070/ase_rnas_lactate\"\n",
    "setwd(home)\n",
    "\n",
    "source(\"/frazer01/home/matteo/my_software/cardips_functions.R\") \n",
    "source(\"/frazer01/home/paola/my_software/ase_pipeline_functions.R\")    \n",
    "\n"
   ]
  },
  {
   "cell_type": "code",
   "execution_count": 9,
   "metadata": {
    "collapsed": false
   },
   "outputs": [
    {
     "data": {
      "text/html": [
       "<table>\n",
       "<thead><tr><th scope=col>uuid</th><th scope=col>subject</th><th scope=col>clone</th><th scope=col>name</th><th scope=col>Tissue</th><th scope=col>mapped_reads</th></tr></thead>\n",
       "<tbody>\n",
       "\t<tr><td>1198c156-b1d3-440e-804f-5c66457eebe7</td><td>S07001                              </td><td>C4                                  </td><td>CM.2_1_R1                           </td><td>iPSC-CM                             </td><td>15737698                            </td></tr>\n",
       "\t<tr><td>7ed45406-0db1-4e52-9d2b-fd113e2df425</td><td>S07001                              </td><td>C4                                  </td><td>CM.2_1_R2                           </td><td>iPSC-CM                             </td><td>18951503                            </td></tr>\n",
       "\t<tr><td>ef1f05e2-fa53-4aa0-9490-2cd02eb9d8d5</td><td>S07003                              </td><td>C5                                  </td><td>CM.2_3_R1                           </td><td>iPSC-CM                             </td><td>17888786                            </td></tr>\n",
       "\t<tr><td>389af0a1-6076-4bae-9bb2-d8b42229f17a</td><td>S07003                              </td><td>C5                                  </td><td>CM.2_3_R2                           </td><td>iPSC-CM                             </td><td>21261640                            </td></tr>\n",
       "\t<tr><td>28e21163-cd01-4302-a75b-440b772d54fb</td><td>S07001                              </td><td>C2                                  </td><td>UDID007                             </td><td>iPSC-CM_L_D25                       </td><td>22404879                            </td></tr>\n",
       "\t<tr><td>0ad04243-b101-4c41-be59-7029d943df10</td><td>S07001                              </td><td>C2                                  </td><td>UDID021                             </td><td>iPSC-CM_L_D25                       </td><td>19262945                            </td></tr>\n",
       "\t<tr><td>b958f299-3ced-4ab9-9901-fe7008745909</td><td>S07001                              </td><td>C4                                  </td><td>UDID043                             </td><td>iPSC-CM_L_D25                       </td><td>26032937                            </td></tr>\n",
       "\t<tr><td>936f69d3-5ca1-4464-b090-325880a42c11</td><td>S07001                              </td><td>C2                                  </td><td>UDID048                             </td><td>iPSC-CM_L_D25                       </td><td>24659209                            </td></tr>\n",
       "\t<tr><td>34dc9f1a-5203-4354-8c9a-d2df18f0c645</td><td>S07003                              </td><td>C5                                  </td><td>UDID001                             </td><td>iPSC-CM_L_D25                       </td><td>29257150                            </td></tr>\n",
       "\t<tr><td>a5e7b56f-dd4b-42bd-9c13-afe3436ac9c0</td><td>S07003                              </td><td>C5                                  </td><td>UDID020                             </td><td>iPSC-CM_L_D25                       </td><td>25515804                            </td></tr>\n",
       "\t<tr><td>c20abef2-dd3b-4235-9853-bf297b6bf3a6</td><td>S07003                              </td><td>C3                                  </td><td>UDID044                             </td><td>iPSC-CM_L_D25                       </td><td>27597217                            </td></tr>\n",
       "\t<tr><td>4f7327ef-84bf-4b64-ae5f-50812d0dbf6d</td><td>S07003                              </td><td>C5                                  </td><td>UDID067                             </td><td>iPSC-CM_L_D25                       </td><td>24679923                            </td></tr>\n",
       "\t<tr><td>0bcc0b58-b278-4fd7-9e31-19d9fa7b20f1</td><td>S07003                              </td><td>C3                                  </td><td>CM.2_3_R4                           </td><td>iPSC-CM_L_D16                       </td><td>23617743                            </td></tr>\n",
       "</tbody>\n",
       "</table>\n"
      ],
      "text/latex": [
       "\\begin{tabular}{r|llllll}\n",
       " uuid & subject & clone & name & Tissue & mapped\\_reads\\\\\n",
       "\\hline\n",
       "\t 1198c156-b1d3-440e-804f-5c66457eebe7 & S07001                               & C4                                   & CM.2\\_1\\_R1                        & iPSC-CM                              & 15737698                            \\\\\n",
       "\t 7ed45406-0db1-4e52-9d2b-fd113e2df425 & S07001                               & C4                                   & CM.2\\_1\\_R2                        & iPSC-CM                              & 18951503                            \\\\\n",
       "\t ef1f05e2-fa53-4aa0-9490-2cd02eb9d8d5 & S07003                               & C5                                   & CM.2\\_3\\_R1                        & iPSC-CM                              & 17888786                            \\\\\n",
       "\t 389af0a1-6076-4bae-9bb2-d8b42229f17a & S07003                               & C5                                   & CM.2\\_3\\_R2                        & iPSC-CM                              & 21261640                            \\\\\n",
       "\t 28e21163-cd01-4302-a75b-440b772d54fb & S07001                               & C2                                   & UDID007                              & iPSC-CM\\_L\\_D25                    & 22404879                            \\\\\n",
       "\t 0ad04243-b101-4c41-be59-7029d943df10 & S07001                               & C2                                   & UDID021                              & iPSC-CM\\_L\\_D25                    & 19262945                            \\\\\n",
       "\t b958f299-3ced-4ab9-9901-fe7008745909 & S07001                               & C4                                   & UDID043                              & iPSC-CM\\_L\\_D25                    & 26032937                            \\\\\n",
       "\t 936f69d3-5ca1-4464-b090-325880a42c11 & S07001                               & C2                                   & UDID048                              & iPSC-CM\\_L\\_D25                    & 24659209                            \\\\\n",
       "\t 34dc9f1a-5203-4354-8c9a-d2df18f0c645 & S07003                               & C5                                   & UDID001                              & iPSC-CM\\_L\\_D25                    & 29257150                            \\\\\n",
       "\t a5e7b56f-dd4b-42bd-9c13-afe3436ac9c0 & S07003                               & C5                                   & UDID020                              & iPSC-CM\\_L\\_D25                    & 25515804                            \\\\\n",
       "\t c20abef2-dd3b-4235-9853-bf297b6bf3a6 & S07003                               & C3                                   & UDID044                              & iPSC-CM\\_L\\_D25                    & 27597217                            \\\\\n",
       "\t 4f7327ef-84bf-4b64-ae5f-50812d0dbf6d & S07003                               & C5                                   & UDID067                              & iPSC-CM\\_L\\_D25                    & 24679923                            \\\\\n",
       "\t 0bcc0b58-b278-4fd7-9e31-19d9fa7b20f1 & S07003                               & C3                                   & CM.2\\_3\\_R4                        & iPSC-CM\\_L\\_D16                    & 23617743                            \\\\\n",
       "\\end{tabular}\n"
      ],
      "text/plain": [
       "   uuid                                 subject clone name      Tissue       \n",
       "1  1198c156-b1d3-440e-804f-5c66457eebe7 S07001  C4    CM.2_1_R1 iPSC-CM      \n",
       "2  7ed45406-0db1-4e52-9d2b-fd113e2df425 S07001  C4    CM.2_1_R2 iPSC-CM      \n",
       "3  ef1f05e2-fa53-4aa0-9490-2cd02eb9d8d5 S07003  C5    CM.2_3_R1 iPSC-CM      \n",
       "4  389af0a1-6076-4bae-9bb2-d8b42229f17a S07003  C5    CM.2_3_R2 iPSC-CM      \n",
       "5  28e21163-cd01-4302-a75b-440b772d54fb S07001  C2    UDID007   iPSC-CM_L_D25\n",
       "6  0ad04243-b101-4c41-be59-7029d943df10 S07001  C2    UDID021   iPSC-CM_L_D25\n",
       "7  b958f299-3ced-4ab9-9901-fe7008745909 S07001  C4    UDID043   iPSC-CM_L_D25\n",
       "8  936f69d3-5ca1-4464-b090-325880a42c11 S07001  C2    UDID048   iPSC-CM_L_D25\n",
       "9  34dc9f1a-5203-4354-8c9a-d2df18f0c645 S07003  C5    UDID001   iPSC-CM_L_D25\n",
       "10 a5e7b56f-dd4b-42bd-9c13-afe3436ac9c0 S07003  C5    UDID020   iPSC-CM_L_D25\n",
       "11 c20abef2-dd3b-4235-9853-bf297b6bf3a6 S07003  C3    UDID044   iPSC-CM_L_D25\n",
       "12 4f7327ef-84bf-4b64-ae5f-50812d0dbf6d S07003  C5    UDID067   iPSC-CM_L_D25\n",
       "13 0bcc0b58-b278-4fd7-9e31-19d9fa7b20f1 S07003  C3    CM.2_3_R4 iPSC-CM_L_D16\n",
       "   mapped_reads\n",
       "1  15737698    \n",
       "2  18951503    \n",
       "3  17888786    \n",
       "4  21261640    \n",
       "5  22404879    \n",
       "6  19262945    \n",
       "7  26032937    \n",
       "8  24659209    \n",
       "9  29257150    \n",
       "10 25515804    \n",
       "11 27597217    \n",
       "12 24679923    \n",
       "13 23617743    "
      ]
     },
     "metadata": {},
     "output_type": "display_data"
    }
   ],
   "source": [
    "rnas_table = read.csv(\"rna_for_ase.csv\", header = TRUE , stringsAsFactors = FALSE) \n",
    "rnas_table"
   ]
  },
  {
   "cell_type": "markdown",
   "metadata": {},
   "source": [
    "For each tissue (iPSC, CM), for each subject (S07001...) get all the BAM files and merge them.\n",
    "\n",
    "Each goes to a sub-folder in /frazer01/projects/CARDIPS/analysis/family1070/ase_rnas"
   ]
  },
  {
   "cell_type": "code",
   "execution_count": 10,
   "metadata": {
    "collapsed": true
   },
   "outputs": [],
   "source": [
    "bam_folder = \"/frazer01/projects/CARDIPS/pipeline/RNAseq/sample\""
   ]
  },
  {
   "cell_type": "code",
   "execution_count": 11,
   "metadata": {
    "collapsed": false
   },
   "outputs": [],
   "source": [
    "rnas_table$bam = paste(bam_folder, \"/\", rnas_table$uuid, \"/alignment/\", rnas_table$uuid, \"_sorted_mdup.bam\", sep = \"\")"
   ]
  },
  {
   "cell_type": "code",
   "execution_count": 12,
   "metadata": {
    "collapsed": false
   },
   "outputs": [
    {
     "name": "stdout",
     "output_type": "stream",
     "text": [
      "Tissue :  iPSC-CM \n",
      "Name: CM.2_1_R1 \n",
      "Name: CM.2_1_R2 \n",
      "Name: CM.2_3_R1 \n",
      "Name: CM.2_3_R2 \n",
      "Tissue :  iPSC-CM_L_D16 \n",
      "Name: CM.2_3_R4 \n",
      "Tissue :  iPSC-CM_L_D25 \n",
      "Name: UDID001 \n",
      "Name: UDID007 \n",
      "Name: UDID020 \n",
      "Name: UDID021 \n",
      "Name: UDID043 \n",
      "Name: UDID044 \n",
      "Name: UDID048 \n",
      "Name: UDID067 \n"
     ]
    }
   ],
   "source": [
    "source(\"/frazer01/home/paola/my_software/ase_pipeline_functions.R\")    \n",
    "\n",
    "ppn        = 8\n",
    "vcf_phased = \"/projects/CARDIPS/analysis/family1070/sevenIndi.phased.variant.vcf.gz\"\n",
    "bed        = \"/frazer01/publicdata/gencode_v19_20151104/genes.bed\"\n",
    "\n",
    "analysis_dir = paste(home, \"analysis\", sep = \"/\")\n",
    "sh_dir       = paste(home, \"sh\"      , sep = \"/\")\n",
    "log_dir      = paste(home, \"log\"     , sep = \"/\")\n",
    "\n",
    "dir.create(analysis_dir, showWarnings = FALSE)\n",
    "dir.create(sh_dir      , showWarnings = FALSE)\n",
    "dir.create(log_dir     , showWarnings = FALSE)\n",
    "\n",
    "for (tissue in sort(unique(rnas_table$Tissue)))\n",
    "{\n",
    "    cat(\"Tissue : \", tissue, \"\\n\")\n",
    "    this_tissue = rnas_table[rnas_table$Tissue == tissue,]\n",
    "    tissue_dir  = paste(analysis_dir, tissue, sep = \"/\")\n",
    "    \n",
    "    dir.create(tissue_dir, showWarnings = FALSE)\n",
    "\n",
    " for (name in sort(unique(this_tissue$name)))     ##### MODIFIED IN ORDER NOT TO MERGE REPLICATES OF SAME SUBJECT\n",
    "    {\n",
    "        cat(\"Name:\", name, \"\\n\")\n",
    "        \n",
    "       \n",
    "        this_subject = this_tissue[this_tissue$name == name,]\n",
    "        subject = unique(this_subject$subject)\n",
    "        subject_dir  = paste(tissue_dir, name,          sep = \"/\")\n",
    "        full_name    = paste(tissue    , name, \"genes\", sep = \"_\")\n",
    "        out_bam      = paste(subject_dir, \"/\", subject, \".bam\", sep = \"\")\n",
    "        bam_files    = unique(this_subject$bam)\n",
    "        \n",
    "        dir.create(subject_dir, showWarnings = FALSE)\n",
    "        \n",
    "        sh_file = runAse(full_name, sh_dir, subject, log_dir, subject, subject_dir, bam_files, out_bam, vcf_phased, bed, ppn, is.gz = TRUE, run = TRUE)\n",
    "    }\n",
    "}\n"
   ]
  },
  {
   "cell_type": "markdown",
   "metadata": {
    "collapsed": true
   },
   "source": [
    "### After the previous analysis is done: merge data into a single table"
   ]
  },
  {
   "cell_type": "code",
   "execution_count": 17,
   "metadata": {
    "collapsed": false
   },
   "outputs": [],
   "source": [
    "analysis_dir = paste(home, \"analysis\", sep = \"/\")"
   ]
  },
  {
   "cell_type": "code",
   "execution_count": 18,
   "metadata": {
    "collapsed": false
   },
   "outputs": [
    {
     "name": "stdout",
     "output_type": "stream",
     "text": [
      "Tissue :  CM \n",
      "Subject: S07001 \n",
      "Subject: S07002 \n",
      "Subject: S07003 \n",
      "Subject: S07004 \n",
      "Subject: S07006 \n",
      "Subject: S07007 \n",
      "Subject: S07009 \n",
      "Tissue :  iPSC \n",
      "Subject: S07001 \n",
      "Subject: S07002 \n",
      "Subject: S07003 \n",
      "Subject: S07004 \n",
      "Subject: S07006 \n",
      "Subject: S07007 \n",
      "Subject: S07009 \n"
     ]
    }
   ],
   "source": [
    "started_analysis = 0\n",
    "\n",
    "for (tissue in sort(unique(rnas_table$Tissue)))\n",
    "{\n",
    "    cat(\"Tissue : \", tissue, \"\\n\")\n",
    "    this_tissue = rnas_table[rnas_table$Tissue == tissue,]\n",
    "    tissue_dir  = paste(analysis_dir, tissue, sep = \"/\")\n",
    "    \n",
    "    for (subject in sort(unique(this_tissue$subject)))\n",
    "    {\n",
    "        cat(\"Subject:\", subject, \"\\n\")\n",
    "\n",
    "        mbased_folder = paste(tissue_dir, subject, \"mbased\", sep = \"/\")\n",
    "\n",
    "        locus_file    = paste(mbased_folder, \"/\", subject, \"_locus.tsv\"       , sep = \"\" )\n",
    "        snv_file      = paste(mbased_folder, \"/\", subject, \"_snv.tsv\"         , sep = \"\" )\n",
    "        in_file       = paste(mbased_folder, \"/\", subject, \"_mbased_input.tsv\", sep = \"\" )\n",
    "\n",
    "        if ((file.exists(locus_file)== TRUE)&(file.exists(snv_file)== TRUE))\n",
    "        {\n",
    "            locus = read.table(locus_file, header = TRUE , sep = \"\\t\", stringsAsFactors = FALSE, row.names = 1, comment.char = \"\") \n",
    "            snv   = read.table(snv_file  , header = TRUE , sep = \"\\t\", stringsAsFactors = FALSE, row.names = 1, comment.char = \"\") \n",
    "            inp   = read.table(in_file   , header = TRUE , sep = \"\\t\", stringsAsFactors = FALSE, row.names = 1, comment.char = \"\") \n",
    "\n",
    "            snv$new_maf = snv$maf\n",
    "            snv[snv$ref_is_major == FALSE, \"new_maf\"] = 1 - snv[snv$ref_is_major == FALSE, \"maf\"]\n",
    "            snv$coord   = paste(snv$chrom, snv$position, sep = \":\")\n",
    "            inp$coord   = paste(inp$contig, inp$position, sep = \":\")\n",
    "\n",
    "            locus$locus = rownames(locus)\n",
    "            snv$maf = NULL\n",
    "\n",
    "            out_data          = merge(locus, snv)\n",
    "            out_data          = merge(inp[, c(\"coord\", \"variantID\", \"expectedRefFreq\", \"binomialPValue\")], out_data)\n",
    "            out_data$subject  = subject\n",
    "            out_data$tissue   = tissue\n",
    "\n",
    "            if (started_analysis == 0)\n",
    "            {\n",
    "                all_ase = out_data\n",
    "                started_analysis = 1\n",
    "                col_names_locus = colnames(locus)\n",
    "            }else\n",
    "            {\n",
    "                all_ase = rbind(all_ase, out_data)\n",
    "            }\n",
    "        }else\n",
    "        {\n",
    "            cat(locus_file, \"does not exist\\n\")\n",
    "        }\n",
    "    }\n",
    "    #break\n",
    "}"
   ]
  },
  {
   "cell_type": "code",
   "execution_count": 19,
   "metadata": {
    "collapsed": true
   },
   "outputs": [],
   "source": [
    "write.table(all_ase, file = paste(analysis_dir, \"all_ase.txt\", sep = \"/\"), col.names = TRUE, row.names = FALSE, quote = FALSE, sep = \"\\t\")"
   ]
  },
  {
   "cell_type": "code",
   "execution_count": 20,
   "metadata": {
    "collapsed": false
   },
   "outputs": [
    {
     "name": "stdout",
     "output_type": "stream",
     "text": [
      "Tissue :  CM \n",
      "Tissue :  iPSC \n"
     ]
    }
   ],
   "source": [
    "all_ase  = read.table(paste(analysis_dir, \"all_ase.txt\", sep = \"/\"), header = TRUE , sep = \"\\t\", stringsAsFactors = FALSE) \n",
    "\n",
    "for (tissue in sort(unique(rnas_table$Tissue)))\n",
    "{\n",
    "    cat(\"Tissue : \", tissue, \"\\n\")\n",
    "    this_tissue = rnas_table[rnas_table$Tissue == tissue,]\n",
    "    tissue_dir  = paste(analysis_dir, tissue, sep = \"/\")\n",
    "    \n",
    "    this = unique(all_ase[all_ase$tissue == tissue, c(col_names_locus, \"subject\")])\n",
    "\n",
    "    out_root = paste(analysis_dir, \"/\", tissue, sep = \"\")\n",
    "\n",
    "    loci     = sort(unique(this$locus  ))\n",
    "    subjects = sort(unique(this$subject))\n",
    "\n",
    "    empty = matrix(nrow = length(loci), ncol = length(subjects))\n",
    "    rownames(empty) = loci\n",
    "    colnames(empty) = subjects\n",
    "\n",
    "    empty_df = data.frame(empty, stringsAsFactors = FALSE)\n",
    "\n",
    "    p_val_ases = empty_df\n",
    "    p_val_hets = empty_df\n",
    "    mafs       = empty_df\n",
    "\n",
    "    for (ii in 1: length(this$locus))\n",
    "    {\n",
    "        locus     = this$locus            [[ii]]\n",
    "        subject   = this$subject          [[ii]]\n",
    "        p_val_ase = this$p_val_ase        [[ii]]\n",
    "        p_val_het = this$p_val_het        [[ii]]\n",
    "        maf       = this$major_allele_freq[[ii]]\n",
    "\n",
    "        p_val_ases[locus, subject] = p_val_ase\n",
    "        p_val_hets[locus, subject] = p_val_het\n",
    "        mafs      [locus, subject] = maf\n",
    "    }\n",
    "    write.table(p_val_ases, file = paste(out_root, \"p_val_ase.txt\", sep = \".\"), col.names = NA, row.names = TRUE, quote = FALSE, sep = \"\\t\")\n",
    "    write.table(p_val_hets, file = paste(out_root, \"p_val_het.txt\", sep = \".\"), col.names = NA, row.names = TRUE, quote = FALSE, sep = \"\\t\")\n",
    "    write.table(mafs      , file = paste(out_root, \"maf.txt\"      , sep = \".\"), col.names = NA, row.names = TRUE, quote = FALSE, sep = \"\\t\")\n",
    "}\n"
   ]
  },
  {
   "cell_type": "code",
   "execution_count": 21,
   "metadata": {
    "collapsed": false
   },
   "outputs": [
    {
     "name": "stdout",
     "output_type": "stream",
     "text": [
      "Tissue :  CM \n",
      "Tissue :  iPSC \n"
     ]
    }
   ],
   "source": [
    "all_ase  = read.table(paste(analysis_dir, \"all_ase.txt\", sep = \"/\"), header = TRUE , sep = \"\\t\", stringsAsFactors = FALSE) \n",
    "tissues  = sort(unique(rnas_table$Tissue))\n",
    "#tissues  = c(\"CM\")\n",
    "\n",
    "for (tissue in tissues)\n",
    "{\n",
    "    cat(\"Tissue : \", tissue, \"\\n\")\n",
    "    this_tissue = rnas_table[rnas_table$Tissue == tissue,]\n",
    "    tissue_dir  = paste(analysis_dir, tissue, sep = \"/\")\n",
    "\n",
    "    this = unique(all_ase[all_ase$tissue == tissue, ])\n",
    "\n",
    "    this$coord = paste(this$chrom, this$position, sep = \":\")\n",
    "\n",
    "    out_root = paste(analysis_dir, \"/\", tissue, sep = \"\")\n",
    "\n",
    "    coords   = sort(unique(this$coord  ))\n",
    "    subjects = sort(unique(this$subject))\n",
    "\n",
    "    heads = c(\"locus\", \"coord\", \"ref\", \"alt\")\n",
    "\n",
    "    mafs  = unique(this[,heads])\n",
    "    mafs[,subjects] = NA\n",
    "\n",
    "    rownames(mafs) = mafs$coord\n",
    "    mafs$coord = NULL\n",
    "\n",
    "    for (ii in 1: length(this$coord))\n",
    "    {\n",
    "        coord     = this$coord  [[ii]]\n",
    "        subject   = this$subject[[ii]]\n",
    "        maf       = this$new_maf[[ii]]\n",
    "\n",
    "        mafs      [coord, subject] = maf\n",
    "    }\n",
    "    write.table(mafs      , file = paste(out_root, \"maf_by_snv.txt\", sep = \".\"), col.names = NA, row.names = TRUE, quote = FALSE, sep = \"\\t\")\n",
    "    #break\n",
    "}\n"
   ]
  },
  {
   "cell_type": "code",
   "execution_count": null,
   "metadata": {
    "collapsed": true
   },
   "outputs": [],
   "source": []
  }
 ],
 "metadata": {
  "kernelspec": {
   "display_name": "R",
   "language": "R",
   "name": "ir"
  },
  "language_info": {
   "codemirror_mode": "r",
   "file_extension": ".r",
   "mimetype": "text/x-r-source",
   "name": "R",
   "pygments_lexer": "r",
   "version": "3.2.2"
  }
 },
 "nbformat": 4,
 "nbformat_minor": 0
}
