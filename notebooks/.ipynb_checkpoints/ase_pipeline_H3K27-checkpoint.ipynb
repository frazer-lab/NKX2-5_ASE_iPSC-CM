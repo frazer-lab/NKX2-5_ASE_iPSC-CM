{
 "cells": [
  {
   "cell_type": "code",
   "execution_count": 27,
   "metadata": {
    "collapsed": false
   },
   "outputs": [],
   "source": [
    "suppressPackageStartupMessages(library(RMySQL))\n",
    "\n",
    "home = \"/frazer01/projects/CARDIPS/analysis/family1070/ase_lactate_H3K27ac\"\n",
    "setwd(home)\n",
    "\n",
    "source(\"/frazer01/home/matteo/my_software/cardips_functions.R\") \n",
    "source(\"/frazer01/home/paola/my_software/ase_pipeline_functions.R\")    \n",
    "\n",
    "chips_pipeline_dir = \"/frazer01/projects/CARDIPS/pipeline/ChIPseq/mark\"\n",
    "chips_pipeline_dir_sample = \"/frazer01/projects/CARDIPS/pipeline/ChIPseq/sample\""
   ]
  },
  {
   "cell_type": "code",
   "execution_count": 28,
   "metadata": {
    "collapsed": false
   },
   "outputs": [],
   "source": [
    "rnas_table = read.csv(\"ase_lactate_H3K27ac.csv\", header = TRUE , stringsAsFactors = FALSE) "
   ]
  },
  {
   "cell_type": "markdown",
   "metadata": {},
   "source": [
    "For each tissue (iPSC, CM), for each subject (S07001...) get all the BAM files and merge them.\n",
    "\n",
    "Each goes to a sub-folder in /frazer01/projects/CARDIPS/analysis/family1070/ase_rnas"
   ]
  },
  {
   "cell_type": "code",
   "execution_count": 29,
   "metadata": {
    "collapsed": true
   },
   "outputs": [],
   "source": [
    "bam_folder = \"/frazer01/projects/CARDIPS/pipeline/ChIPseq/mark/H3K27AC_CM\""
   ]
  },
  {
   "cell_type": "code",
   "execution_count": 30,
   "metadata": {
    "collapsed": false,
    "scrolled": true
   },
   "outputs": [
    {
     "data": {
      "text/html": [
       "<table>\n",
       "<thead><tr><th></th><th scope=col>UUID</th><th scope=col>Subject_Name</th><th scope=col>subject</th><th scope=col>Tissue</th><th scope=col>Biological_replicate_ID</th><th scope=col>Assay</th><th scope=col>chips_dir</th><th scope=col>Input_reads</th><th scope=col>Read_length</th><th scope=col>Uniquely_mapped_and_filtered_reads</th><th scope=col>ChIP.Seq_ATAC.Seq_number_of_peaks</th><th scope=col>ChIP.Seq_ATAC.Seq_FRiP</th><th scope=col>cTNT</th></tr></thead>\n",
       "<tbody>\n",
       "\t<tr><th scope=row>1</th><td>84943ee6-4aef-468e-ba30-55d150e879b5</td><td>S07001_C2                           </td><td>S07001                              </td><td>iPSC-CM_L_D25                       </td><td>UDID007                             </td><td>chip                                </td><td>H3K27AC_CM                          </td><td>22695021                            </td><td>100 PE                              </td><td>20198569                            </td><td>133324                              </td><td>0.4900                              </td><td>67.0                                </td></tr>\n",
       "\t<tr><th scope=row>2</th><td>b389c69b-47cc-4b1e-ae53-bc0a8b23f88a</td><td>S07001_C2                           </td><td>S07001                              </td><td>iPSC-CM_L_D25                       </td><td>UDID021                             </td><td>chip                                </td><td>H3K27AC_CM                          </td><td>26457510                            </td><td>100 PE                              </td><td>24076334                            </td><td>136744                              </td><td>0.4300                              </td><td>40.5                                </td></tr>\n",
       "\t<tr><th scope=row>3</th><td>cc566b8a-fc54-4941-8328-f57401635839</td><td>S07001_C4                           </td><td>S07001                              </td><td>iPSC-CM_L_D25                       </td><td>UDID043                             </td><td>chip                                </td><td>H3K27AC_CM                          </td><td>23473054                            </td><td>100 PE                              </td><td>21595210                            </td><td>124570                              </td><td>0.4600                              </td><td>83.0                                </td></tr>\n",
       "\t<tr><th scope=row>5</th><td>a31d0ae6-a7ef-4054-98f0-2928ccf16cf4</td><td>S07001_C2                           </td><td>S07001                              </td><td>iPSC-CM_L_D25                       </td><td>UDID048                             </td><td>chip                                </td><td>H3K27AC_CM                          </td><td>20700818                            </td><td>100 PE                              </td><td>18837744                            </td><td>112372                              </td><td>0.4400                              </td><td>70.5                                </td></tr>\n",
       "\t<tr><th scope=row>8</th><td>d08fcfb6-1540-4174-bc73-b625da9d9ab9</td><td>S07003_C5                           </td><td>S07003                              </td><td>iPSC-CM_L_D25                       </td><td>UDID001                             </td><td>chip                                </td><td>H3K27AC_CM                          </td><td>25143685                            </td><td>100 PE                              </td><td>22880753                            </td><td>120352                              </td><td>0.4100                              </td><td>75.4                                </td></tr>\n",
       "\t<tr><th scope=row>9</th><td>d56606a1-e263-4da9-acf9-2d6f14a822cb</td><td>S07003_C5                           </td><td>S07003                              </td><td>iPSC-CM_L_D25                       </td><td>UDID020                             </td><td>chip                                </td><td>H3K27AC_CM                          </td><td>27353194                            </td><td>100 PE                              </td><td>25164938                            </td><td>148908                              </td><td>0.4800                              </td><td>75.4                                </td></tr>\n",
       "\t<tr><th scope=row>10</th><td>7ba84fca-758f-4068-a7ef-914e68be9c3e</td><td>S07003_C3                           </td><td>S07003                              </td><td>iPSC-CM_L_D25                       </td><td>UDID044                             </td><td>chip                                </td><td>H3K27AC_CM                          </td><td>28142059                            </td><td>100 PE                              </td><td>25327853                            </td><td>127594                              </td><td>0.4600                              </td><td>42.2                                </td></tr>\n",
       "\t<tr><th scope=row>11</th><td>0441cd83-9d1a-416b-a82d-856f7f04f6e4</td><td>S07003_C5                           </td><td>S07003                              </td><td>iPSC-CM_L_D25                       </td><td>UDID067                             </td><td>chip                                </td><td>H3K27AC_CM                          </td><td>24633606                            </td><td>100 PE                              </td><td>22416581                            </td><td>129715                              </td><td>0.4900                              </td><td>87.0                                </td></tr>\n",
       "\t<tr><th scope=row>15</th><td>232f80c9-44f3-45e5-ac7c-88c3b27950ea</td><td>iPSCORE_2_3                         </td><td>S07003                              </td><td>iPSC-CM_L_D16                       </td><td>CM.2_3_R4A                          </td><td>chip                                </td><td>H3K27AC_CM                          </td><td>24083029                            </td><td>100 PE                              </td><td>22334740                            </td><td>114816                              </td><td>0.3490                              </td><td>  NA                                </td></tr>\n",
       "\t<tr><th scope=row>16</th><td>6a65308f-37d0-4b06-94b3-c5301d760afd</td><td>iPSCORE_2_3                         </td><td>S07003                              </td><td>iPSC-CM_L_D16                       </td><td>CM.2_3_R4B                          </td><td>chip                                </td><td>H3K27AC_CM                          </td><td>39714514                            </td><td>100 PE                              </td><td>36567154                            </td><td>149410                              </td><td>0.3661                              </td><td>  NA                                </td></tr>\n",
       "\t<tr><th scope=row>17</th><td>881424e7-e3cb-482c-830b-69c6897eb772</td><td>iPSCORE_2_1                         </td><td>S07001                              </td><td>iPSC-CM                             </td><td>CM.2_1_R1                           </td><td>chip                                </td><td>H3K27AC_CM                          </td><td>27329632                            </td><td>100 PE                              </td><td>24071596                            </td><td>126498                              </td><td>0.3283                              </td><td>  NA                                </td></tr>\n",
       "\t<tr><th scope=row>18</th><td>20f37c64-0c86-4cb7-9501-6132d1801b84</td><td>iPSCORE_2_1                         </td><td>S07001                              </td><td>iPSC-CM                             </td><td>CM.2_1_R2                           </td><td>chip                                </td><td>H3K27AC_CM                          </td><td>27288140                            </td><td>100 PE                              </td><td>24412892                            </td><td> 98837                              </td><td>0.2208                              </td><td>  NA                                </td></tr>\n",
       "\t<tr><th scope=row>19</th><td>b56fb523-1e03-4812-a745-1f97314359e7</td><td>iPSCORE_2_3                         </td><td>S07003                              </td><td>iPSC-CM                             </td><td>CM.2_3_R1                           </td><td>chip                                </td><td>H3K27AC_CM                          </td><td>29858472                            </td><td>100 PE                              </td><td>26519894                            </td><td>121520                              </td><td>0.3059                              </td><td>  NA                                </td></tr>\n",
       "\t<tr><th scope=row>20</th><td>262ead42-62d0-45fb-a309-dfb9fdeceb28</td><td>iPSCORE_2_3                         </td><td>S07003                              </td><td>iPSC-CM                             </td><td>CM.2_3_R2                           </td><td>chip                                </td><td>H3K27AC_CM                          </td><td>30445418                            </td><td>100 PE                              </td><td>26817850                            </td><td> 91826                              </td><td>0.1866                              </td><td>  NA                                </td></tr>\n",
       "</tbody>\n",
       "</table>\n"
      ],
      "text/latex": [
       "\\begin{tabular}{r|lllllllllllll}\n",
       "  & UUID & Subject\\_Name & subject & Tissue & Biological\\_replicate\\_ID & Assay & chips\\_dir & Input\\_reads & Read\\_length & Uniquely\\_mapped\\_and\\_filtered\\_reads & ChIP.Seq\\_ATAC.Seq\\_number\\_of\\_peaks & ChIP.Seq\\_ATAC.Seq\\_FRiP & cTNT\\\\\n",
       "\\hline\n",
       "\t1 & 84943ee6-4aef-468e-ba30-55d150e879b5 & S07001\\_C2                          & S07001                               & iPSC-CM\\_L\\_D25                    & UDID007                              & chip                                 & H3K27AC\\_CM                         & 22695021                             & 100 PE                               & 20198569                             & 133324                               & 0.4900                               & 67.0                                \\\\\n",
       "\t2 & b389c69b-47cc-4b1e-ae53-bc0a8b23f88a & S07001\\_C2                          & S07001                               & iPSC-CM\\_L\\_D25                    & UDID021                              & chip                                 & H3K27AC\\_CM                         & 26457510                             & 100 PE                               & 24076334                             & 136744                               & 0.4300                               & 40.5                                \\\\\n",
       "\t3 & cc566b8a-fc54-4941-8328-f57401635839 & S07001\\_C4                          & S07001                               & iPSC-CM\\_L\\_D25                    & UDID043                              & chip                                 & H3K27AC\\_CM                         & 23473054                             & 100 PE                               & 21595210                             & 124570                               & 0.4600                               & 83.0                                \\\\\n",
       "\t5 & a31d0ae6-a7ef-4054-98f0-2928ccf16cf4 & S07001\\_C2                          & S07001                               & iPSC-CM\\_L\\_D25                    & UDID048                              & chip                                 & H3K27AC\\_CM                         & 20700818                             & 100 PE                               & 18837744                             & 112372                               & 0.4400                               & 70.5                                \\\\\n",
       "\t8 & d08fcfb6-1540-4174-bc73-b625da9d9ab9 & S07003\\_C5                          & S07003                               & iPSC-CM\\_L\\_D25                    & UDID001                              & chip                                 & H3K27AC\\_CM                         & 25143685                             & 100 PE                               & 22880753                             & 120352                               & 0.4100                               & 75.4                                \\\\\n",
       "\t9 & d56606a1-e263-4da9-acf9-2d6f14a822cb & S07003\\_C5                          & S07003                               & iPSC-CM\\_L\\_D25                    & UDID020                              & chip                                 & H3K27AC\\_CM                         & 27353194                             & 100 PE                               & 25164938                             & 148908                               & 0.4800                               & 75.4                                \\\\\n",
       "\t10 & 7ba84fca-758f-4068-a7ef-914e68be9c3e & S07003\\_C3                          & S07003                               & iPSC-CM\\_L\\_D25                    & UDID044                              & chip                                 & H3K27AC\\_CM                         & 28142059                             & 100 PE                               & 25327853                             & 127594                               & 0.4600                               & 42.2                                \\\\\n",
       "\t11 & 0441cd83-9d1a-416b-a82d-856f7f04f6e4 & S07003\\_C5                          & S07003                               & iPSC-CM\\_L\\_D25                    & UDID067                              & chip                                 & H3K27AC\\_CM                         & 24633606                             & 100 PE                               & 22416581                             & 129715                               & 0.4900                               & 87.0                                \\\\\n",
       "\t15 & 232f80c9-44f3-45e5-ac7c-88c3b27950ea & iPSCORE\\_2\\_3                      & S07003                               & iPSC-CM\\_L\\_D16                    & CM.2\\_3\\_R4A                       & chip                                 & H3K27AC\\_CM                         & 24083029                             & 100 PE                               & 22334740                             & 114816                               & 0.3490                               &   NA                                \\\\\n",
       "\t16 & 6a65308f-37d0-4b06-94b3-c5301d760afd & iPSCORE\\_2\\_3                      & S07003                               & iPSC-CM\\_L\\_D16                    & CM.2\\_3\\_R4B                       & chip                                 & H3K27AC\\_CM                         & 39714514                             & 100 PE                               & 36567154                             & 149410                               & 0.3661                               &   NA                                \\\\\n",
       "\t17 & 881424e7-e3cb-482c-830b-69c6897eb772 & iPSCORE\\_2\\_1                      & S07001                               & iPSC-CM                              & CM.2\\_1\\_R1                        & chip                                 & H3K27AC\\_CM                         & 27329632                             & 100 PE                               & 24071596                             & 126498                               & 0.3283                               &   NA                                \\\\\n",
       "\t18 & 20f37c64-0c86-4cb7-9501-6132d1801b84 & iPSCORE\\_2\\_1                      & S07001                               & iPSC-CM                              & CM.2\\_1\\_R2                        & chip                                 & H3K27AC\\_CM                         & 27288140                             & 100 PE                               & 24412892                             &  98837                               & 0.2208                               &   NA                                \\\\\n",
       "\t19 & b56fb523-1e03-4812-a745-1f97314359e7 & iPSCORE\\_2\\_3                      & S07003                               & iPSC-CM                              & CM.2\\_3\\_R1                        & chip                                 & H3K27AC\\_CM                         & 29858472                             & 100 PE                               & 26519894                             & 121520                               & 0.3059                               &   NA                                \\\\\n",
       "\t20 & 262ead42-62d0-45fb-a309-dfb9fdeceb28 & iPSCORE\\_2\\_3                      & S07003                               & iPSC-CM                              & CM.2\\_3\\_R2                        & chip                                 & H3K27AC\\_CM                         & 30445418                             & 100 PE                               & 26817850                             &  91826                               & 0.1866                               &   NA                                \\\\\n",
       "\\end{tabular}\n"
      ],
      "text/plain": [
       "   UUID                                 Subject_Name subject Tissue       \n",
       "1  84943ee6-4aef-468e-ba30-55d150e879b5 S07001_C2    S07001  iPSC-CM_L_D25\n",
       "2  b389c69b-47cc-4b1e-ae53-bc0a8b23f88a S07001_C2    S07001  iPSC-CM_L_D25\n",
       "3  cc566b8a-fc54-4941-8328-f57401635839 S07001_C4    S07001  iPSC-CM_L_D25\n",
       "5  a31d0ae6-a7ef-4054-98f0-2928ccf16cf4 S07001_C2    S07001  iPSC-CM_L_D25\n",
       "8  d08fcfb6-1540-4174-bc73-b625da9d9ab9 S07003_C5    S07003  iPSC-CM_L_D25\n",
       "9  d56606a1-e263-4da9-acf9-2d6f14a822cb S07003_C5    S07003  iPSC-CM_L_D25\n",
       "10 7ba84fca-758f-4068-a7ef-914e68be9c3e S07003_C3    S07003  iPSC-CM_L_D25\n",
       "11 0441cd83-9d1a-416b-a82d-856f7f04f6e4 S07003_C5    S07003  iPSC-CM_L_D25\n",
       "15 232f80c9-44f3-45e5-ac7c-88c3b27950ea iPSCORE_2_3  S07003  iPSC-CM_L_D16\n",
       "16 6a65308f-37d0-4b06-94b3-c5301d760afd iPSCORE_2_3  S07003  iPSC-CM_L_D16\n",
       "17 881424e7-e3cb-482c-830b-69c6897eb772 iPSCORE_2_1  S07001  iPSC-CM      \n",
       "18 20f37c64-0c86-4cb7-9501-6132d1801b84 iPSCORE_2_1  S07001  iPSC-CM      \n",
       "19 b56fb523-1e03-4812-a745-1f97314359e7 iPSCORE_2_3  S07003  iPSC-CM      \n",
       "20 262ead42-62d0-45fb-a309-dfb9fdeceb28 iPSCORE_2_3  S07003  iPSC-CM      \n",
       "   Biological_replicate_ID Assay chips_dir  Input_reads Read_length\n",
       "1  UDID007                 chip  H3K27AC_CM 22695021    100 PE     \n",
       "2  UDID021                 chip  H3K27AC_CM 26457510    100 PE     \n",
       "3  UDID043                 chip  H3K27AC_CM 23473054    100 PE     \n",
       "5  UDID048                 chip  H3K27AC_CM 20700818    100 PE     \n",
       "8  UDID001                 chip  H3K27AC_CM 25143685    100 PE     \n",
       "9  UDID020                 chip  H3K27AC_CM 27353194    100 PE     \n",
       "10 UDID044                 chip  H3K27AC_CM 28142059    100 PE     \n",
       "11 UDID067                 chip  H3K27AC_CM 24633606    100 PE     \n",
       "15 CM.2_3_R4A              chip  H3K27AC_CM 24083029    100 PE     \n",
       "16 CM.2_3_R4B              chip  H3K27AC_CM 39714514    100 PE     \n",
       "17 CM.2_1_R1               chip  H3K27AC_CM 27329632    100 PE     \n",
       "18 CM.2_1_R2               chip  H3K27AC_CM 27288140    100 PE     \n",
       "19 CM.2_3_R1               chip  H3K27AC_CM 29858472    100 PE     \n",
       "20 CM.2_3_R2               chip  H3K27AC_CM 30445418    100 PE     \n",
       "   Uniquely_mapped_and_filtered_reads ChIP.Seq_ATAC.Seq_number_of_peaks\n",
       "1  20198569                           133324                           \n",
       "2  24076334                           136744                           \n",
       "3  21595210                           124570                           \n",
       "5  18837744                           112372                           \n",
       "8  22880753                           120352                           \n",
       "9  25164938                           148908                           \n",
       "10 25327853                           127594                           \n",
       "11 22416581                           129715                           \n",
       "15 22334740                           114816                           \n",
       "16 36567154                           149410                           \n",
       "17 24071596                           126498                           \n",
       "18 24412892                            98837                           \n",
       "19 26519894                           121520                           \n",
       "20 26817850                            91826                           \n",
       "   ChIP.Seq_ATAC.Seq_FRiP cTNT\n",
       "1  0.4900                 67.0\n",
       "2  0.4300                 40.5\n",
       "3  0.4600                 83.0\n",
       "5  0.4400                 70.5\n",
       "8  0.4100                 75.4\n",
       "9  0.4800                 75.4\n",
       "10 0.4600                 42.2\n",
       "11 0.4900                 87.0\n",
       "15 0.3490                   NA\n",
       "16 0.3661                   NA\n",
       "17 0.3283                   NA\n",
       "18 0.2208                   NA\n",
       "19 0.3059                   NA\n",
       "20 0.1866                   NA"
      ]
     },
     "metadata": {},
     "output_type": "display_data"
    }
   ],
   "source": [
    "rnas_table<-rnas_table[!duplicated(rnas_table),]\n",
    "rnas_table"
   ]
  },
  {
   "cell_type": "code",
   "execution_count": 32,
   "metadata": {
    "collapsed": false
   },
   "outputs": [
    {
     "name": "stdout",
     "output_type": "stream",
     "text": [
      "Tissue :  iPSC-CM \n",
      "Subject: CM.2_1_R1 \n",
      "Subject: CM.2_1_R2 \n",
      "Subject: CM.2_3_R1 \n",
      "Subject: CM.2_3_R2 \n",
      "Tissue :  iPSC-CM_L_D16 \n",
      "Subject: CM.2_3_R4A \n",
      "Subject: CM.2_3_R4B \n",
      "Tissue :  iPSC-CM_L_D25 \n",
      "Subject: UDID001 \n",
      "Subject: UDID007 \n",
      "Subject: UDID020 \n",
      "Subject: UDID021 \n",
      "Subject: UDID043 \n",
      "Subject: UDID044 \n",
      "Subject: UDID048 \n",
      "Subject: UDID067 \n"
     ]
    }
   ],
   "source": [
    "source(\"/frazer01/home/paola/my_software/ase_pipeline_functions.R\")    \n",
    "\n",
    "ppn        = 8\n",
    "vcf_phased = \"/projects/CARDIPS/analysis/family1070/sevenIndi.phased.variant.vcf.gz\"\n",
    "bed        = \"/frazer01/projects/CARDIPS/pipeline/ChIPseq/mark/H3K27AC_CM/meta.use.macs2.narrow/meta_macs2_callPeak_peaks.q001.narrowPeak.collapse.bed\"\n",
    "\n",
    "analysis_dir = paste(home, \"analysis\", sep = \"/\")\n",
    "sh_dir       = paste(home, \"sh\"      , sep = \"/\")\n",
    "log_dir      = paste(home, \"log\"     , sep = \"/\")\n",
    "\n",
    "dir.create(analysis_dir, showWarnings = FALSE)\n",
    "dir.create(sh_dir      , showWarnings = FALSE)\n",
    "dir.create(log_dir     , showWarnings = FALSE)\n",
    "\n",
    "for (tissue in sort(unique(rnas_table$Tissue)))\n",
    "{\n",
    "    cat(\"Tissue : \", tissue, \"\\n\")\n",
    "    this_tissue = rnas_table[rnas_table$Tissue == tissue,]\n",
    "    tissue_dir  = paste(analysis_dir, tissue, sep = \"/\")\n",
    "    \n",
    "    dir.create(tissue_dir, showWarnings = FALSE)\n",
    "\n",
    "    for (id in sort(unique(this_tissue$Biological_replicate_ID)))\n",
    "    {\n",
    "        cat(\"Subject:\", id, \"\\n\")\n",
    "\n",
    "        this_subject = this_tissue[this_tissue$Biological_replicate_ID == id,]\n",
    "        subject      = unique(this_subject$subject)\n",
    "        subject_dir  = paste(tissue_dir, id, sep = \"/\")\n",
    "        full_name    = paste(tissue    , id, sep = \"_\")\n",
    "        out_bam      = paste(subject_dir, \"/\", subject, \".bam\", sep = \"\")\n",
    "        \n",
    "        \n",
    "        if (tissue == \"iPSC-CM\") {\n",
    "                bam_files = paste(bam_folder, \"/\", this_subject$UUID, \"/alignment/\", this_subject$UUID, \".filtered.cordSorted.bam\", sep = \"\")\n",
    "                }\n",
    "            \n",
    "        if (tissue != \"iPSC-CM\") {\n",
    "                bam_files = paste(chips_pipeline_dir_sample, \"/\", this_subject$UUID, \"/alignment/\", this_subject$UUID, \".filtered.cordSorted.bam\", sep = \"\")\n",
    "                }\n",
    "        \n",
    "        dir.create(subject_dir, showWarnings = FALSE)\n",
    "        \n",
    "        sh_file = runAse(full_name, sh_dir, subject, log_dir, subject, subject_dir, bam_files, out_bam, vcf_phased, bed, ppn, is.gz = TRUE, run = TRUE)\n",
    "    }\n",
    "}\n"
   ]
  },
  {
   "cell_type": "markdown",
   "metadata": {
    "collapsed": true
   },
   "source": [
    "### After the previous analysis is done: merge data into a single table"
   ]
  },
  {
   "cell_type": "code",
   "execution_count": 6,
   "metadata": {
    "collapsed": false
   },
   "outputs": [],
   "source": [
    "analysis_dir = paste(home, \"analysis\", sep = \"/\")"
   ]
  },
  {
   "cell_type": "code",
   "execution_count": 7,
   "metadata": {
    "collapsed": false
   },
   "outputs": [
    {
     "name": "stdout",
     "output_type": "stream",
     "text": [
      "Tissue :  CM \n",
      "Subject: S07001 \n",
      "Subject: S07002 \n",
      "Subject: S07003 \n",
      "Subject: S07004 \n",
      "Subject: S07006 \n",
      "Subject: S07007 \n",
      "Subject: S07009 \n",
      "Tissue :  iPSC \n",
      "Subject: S07001 \n",
      "Subject: S07002 \n",
      "Subject: S07003 \n",
      "Subject: S07004 \n",
      "Subject: S07006 \n",
      "Subject: S07007 \n",
      "Subject: S07009 \n"
     ]
    }
   ],
   "source": [
    "started_analysis = 0\n",
    "\n",
    "for (tissue in sort(unique(rnas_table$Tissue)))\n",
    "{\n",
    "    cat(\"Tissue : \", tissue, \"\\n\")\n",
    "    this_tissue = rnas_table[rnas_table$Tissue == tissue,]\n",
    "    tissue_dir  = paste(analysis_dir, tissue, sep = \"/\")\n",
    "    \n",
    "    for (subject in sort(unique(this_tissue$subject)))\n",
    "    {\n",
    "        cat(\"Subject:\", subject, \"\\n\")\n",
    "\n",
    "        mbased_folder = paste(tissue_dir, subject, \"mbased_genes\", sep = \"/\")\n",
    "\n",
    "        locus_file    = paste(mbased_folder, \"/\", subject, \"_locus.tsv\"       , sep = \"\" )\n",
    "        snv_file      = paste(mbased_folder, \"/\", subject, \"_snv.tsv\"         , sep = \"\" )\n",
    "        in_file       = paste(mbased_folder, \"/\", subject, \"_mbased_input.tsv\", sep = \"\" )\n",
    "\n",
    "        if ((file.exists(locus_file)== TRUE)&(file.exists(snv_file)== TRUE))\n",
    "        {\n",
    "            locus = read.table(locus_file, header = TRUE , sep = \"\\t\", stringsAsFactors = FALSE, row.names = 1, comment.char = \"\") \n",
    "            snv   = read.table(snv_file  , header = TRUE , sep = \"\\t\", stringsAsFactors = FALSE, row.names = 1, comment.char = \"\") \n",
    "            inp   = read.table(in_file   , header = TRUE , sep = \"\\t\", stringsAsFactors = FALSE, row.names = 1, comment.char = \"\") \n",
    "\n",
    "            snv$new_maf = snv$maf\n",
    "            snv[snv$ref_is_major == FALSE, \"new_maf\"] = 1 - snv[snv$ref_is_major == FALSE, \"maf\"]\n",
    "            snv$coord   = paste(snv$chrom, snv$position, sep = \":\")\n",
    "            inp$coord   = paste(inp$contig, inp$position, sep = \":\")\n",
    "\n",
    "            locus$locus = rownames(locus)\n",
    "            snv$maf = NULL\n",
    "\n",
    "            out_data          = merge(locus, snv)\n",
    "            out_data          = merge(inp[, c(\"coord\", \"variantID\", \"expectedRefFreq\", \"binomialPValue\")], out_data)\n",
    "            out_data$subject  = subject\n",
    "            out_data$tissue   = tissue\n",
    "\n",
    "            if (started_analysis == 0)\n",
    "            {\n",
    "                all_ase = out_data\n",
    "                started_analysis = 1\n",
    "                col_names_locus = colnames(locus)\n",
    "            }else\n",
    "            {\n",
    "                all_ase = rbind(all_ase, out_data)\n",
    "            }\n",
    "        }else\n",
    "        {\n",
    "            cat(locus_file, \"does not exist\\n\")\n",
    "        }\n",
    "    }\n",
    "    #break\n",
    "}"
   ]
  },
  {
   "cell_type": "code",
   "execution_count": 8,
   "metadata": {
    "collapsed": true
   },
   "outputs": [],
   "source": [
    "write.table(all_ase, file = paste(analysis_dir, \"all_ase.genes.txt\", sep = \"/\"), col.names = TRUE, row.names = FALSE, quote = FALSE, sep = \"\\t\")"
   ]
  },
  {
   "cell_type": "code",
   "execution_count": 9,
   "metadata": {
    "collapsed": false
   },
   "outputs": [
    {
     "name": "stdout",
     "output_type": "stream",
     "text": [
      "Tissue :  CM \n",
      "Tissue :  iPSC \n"
     ]
    }
   ],
   "source": [
    "all_ase  = read.table(paste(analysis_dir, \"all_ase.genes.txt\", sep = \"/\"), header = TRUE , sep = \"\\t\", stringsAsFactors = FALSE) \n",
    "\n",
    "for (tissue in sort(unique(rnas_table$Tissue)))\n",
    "{\n",
    "    cat(\"Tissue : \", tissue, \"\\n\")\n",
    "    this_tissue = rnas_table[rnas_table$Tissue == tissue,]\n",
    "    tissue_dir  = paste(analysis_dir, tissue, sep = \"/\")\n",
    "    \n",
    "    this = unique(all_ase[all_ase$tissue == tissue, c(col_names_locus, \"subject\")])\n",
    "\n",
    "    out_root = paste(analysis_dir, \"/\", tissue, sep = \"\")\n",
    "\n",
    "    loci     = sort(unique(this$locus  ))\n",
    "    subjects = sort(unique(this$subject))\n",
    "\n",
    "    empty = matrix(nrow = length(loci), ncol = length(subjects))\n",
    "    rownames(empty) = loci\n",
    "    colnames(empty) = subjects\n",
    "\n",
    "    empty_df = data.frame(empty, stringsAsFactors = FALSE)\n",
    "\n",
    "    p_val_ases = empty_df\n",
    "    p_val_hets = empty_df\n",
    "    mafs       = empty_df\n",
    "\n",
    "    for (ii in 1: length(this$locus))\n",
    "    {\n",
    "        locus     = this$locus            [[ii]]\n",
    "        subject   = this$subject          [[ii]]\n",
    "        p_val_ase = this$p_val_ase        [[ii]]\n",
    "        p_val_het = this$p_val_het        [[ii]]\n",
    "        maf       = this$major_allele_freq[[ii]]\n",
    "\n",
    "        p_val_ases[locus, subject] = p_val_ase\n",
    "        p_val_hets[locus, subject] = p_val_het\n",
    "        mafs      [locus, subject] = maf\n",
    "    }\n",
    "    write.table(p_val_ases, file = paste(out_root, \"genes.p_val_ase.txt\", sep = \".\"), col.names = NA, row.names = TRUE, quote = FALSE, sep = \"\\t\")\n",
    "    write.table(p_val_hets, file = paste(out_root, \"genes.p_val_het.txt\", sep = \".\"), col.names = NA, row.names = TRUE, quote = FALSE, sep = \"\\t\")\n",
    "    write.table(mafs      , file = paste(out_root, \"genes.maf.txt\"      , sep = \".\"), col.names = NA, row.names = TRUE, quote = FALSE, sep = \"\\t\")\n",
    "}\n"
   ]
  },
  {
   "cell_type": "code",
   "execution_count": 10,
   "metadata": {
    "collapsed": false
   },
   "outputs": [
    {
     "name": "stdout",
     "output_type": "stream",
     "text": [
      "Tissue :  CM \n",
      "Tissue :  iPSC \n"
     ]
    }
   ],
   "source": [
    "all_ase  = read.table(paste(analysis_dir, \"all_ase.genes.txt\", sep = \"/\"), header = TRUE , sep = \"\\t\", stringsAsFactors = FALSE) \n",
    "tissues  = sort(unique(rnas_table$Tissue))\n",
    "#tissues  = c(\"CM\")\n",
    "\n",
    "for (tissue in tissues)\n",
    "{\n",
    "    cat(\"Tissue : \", tissue, \"\\n\")\n",
    "    this_tissue = rnas_table[rnas_table$Tissue == tissue,]\n",
    "    tissue_dir  = paste(analysis_dir, tissue, sep = \"/\")\n",
    "\n",
    "    this = unique(all_ase[all_ase$tissue == tissue, ])\n",
    "\n",
    "    this$coord = paste(this$chrom, this$position, sep = \":\")\n",
    "\n",
    "    out_root = paste(analysis_dir, \"/\", tissue, sep = \"\")\n",
    "\n",
    "    coords   = sort(unique(this$coord  ))\n",
    "    subjects = sort(unique(this$subject))\n",
    "\n",
    "    heads = c(\"locus\", \"coord\", \"ref\", \"alt\")\n",
    "\n",
    "    mafs  = unique(this[,heads])\n",
    "    mafs[,subjects] = NA\n",
    "\n",
    "    rownames(mafs) = mafs$coord\n",
    "    mafs$coord = NULL\n",
    "\n",
    "    for (ii in 1: length(this$coord))\n",
    "    {\n",
    "        coord     = this$coord  [[ii]]\n",
    "        subject   = this$subject[[ii]]\n",
    "        maf       = this$new_maf[[ii]]\n",
    "\n",
    "        mafs      [coord, subject] = maf\n",
    "    }\n",
    "    write.table(mafs      , file = paste(out_root, \"genes.maf_by_snv.txt\", sep = \".\"), col.names = NA, row.names = TRUE, quote = FALSE, sep = \"\\t\")\n",
    "    #break\n",
    "}\n"
   ]
  },
  {
   "cell_type": "code",
   "execution_count": null,
   "metadata": {
    "collapsed": true
   },
   "outputs": [],
   "source": []
  }
 ],
 "metadata": {
  "kernelspec": {
   "display_name": "R",
   "language": "R",
   "name": "ir"
  },
  "language_info": {
   "codemirror_mode": "r",
   "file_extension": ".r",
   "mimetype": "text/x-r-source",
   "name": "R",
   "pygments_lexer": "r",
   "version": "3.2.2"
  }
 },
 "nbformat": 4,
 "nbformat_minor": 0
}
