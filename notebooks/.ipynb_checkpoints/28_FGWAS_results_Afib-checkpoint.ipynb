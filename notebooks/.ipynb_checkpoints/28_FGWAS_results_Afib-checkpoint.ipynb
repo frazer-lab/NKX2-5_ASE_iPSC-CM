{
 "cells": [
  {
   "cell_type": "markdown",
   "metadata": {},
   "source": [
    "### Heatmap of the top fGWAS results"
   ]
  },
  {
   "cell_type": "code",
   "execution_count": 21,
   "metadata": {},
   "outputs": [],
   "source": [
    "setwd(\"../private_output/Fgwas/\")"
   ]
  },
  {
   "cell_type": "code",
   "execution_count": 1,
   "metadata": {
    "collapsed": true
   },
   "outputs": [],
   "source": [
    "library(plotrix)\n",
    "suppressPackageStartupMessages(library(gplots))"
   ]
  },
  {
   "cell_type": "code",
   "execution_count": 3,
   "metadata": {},
   "outputs": [],
   "source": [
    "res = read.table('~/Family1070/private_output/fgwas_analysis/A_fib/pipeline_out/Final_Model/Final_Model.bfs', header=T)\n",
    "seg = read.table('~/Family1070/private_output/fgwas_analysis/A_fib/pipeline_out/Final_Model/Final_Model.segbfs', header=T)\n",
    "res = merge(res,seg[,c('chunk', 'PPA')], by=\"chunk\" )\n",
    "res$PPA = res$PPA.x *res$PPA.y\n",
    "res = res[order(res$PPA, decreasing=T),]"
   ]
  },
  {
   "cell_type": "markdown",
   "metadata": {},
   "source": [
    "*Choose a cutoff of  PPA, then re-adjust the PPA by multipling by 1 if the Locus is known"
   ]
  },
  {
   "cell_type": "code",
   "execution_count": 14,
   "metadata": {},
   "outputs": [],
   "source": [
    "seg = res[res$PPA >0.30, ]"
   ]
  },
  {
   "cell_type": "code",
   "execution_count": 15,
   "metadata": {},
   "outputs": [],
   "source": [
    "seg = seg[order(seg$PPA, decreasing=T),]"
   ]
  },
  {
   "cell_type": "code",
   "execution_count": 16,
   "metadata": {},
   "outputs": [
    {
     "data": {
      "text/html": [
       "<table>\n",
       "<thead><tr><th></th><th scope=col>chunk</th><th scope=col>id</th><th scope=col>chr</th><th scope=col>pos</th><th scope=col>logBF</th><th scope=col>Z</th><th scope=col>V</th><th scope=col>pi</th><th scope=col>pseudologPO</th><th scope=col>pseudoPPA</th><th scope=col>PPA.x</th><th scope=col>H3K27AC</th><th scope=col>NKX25_ASE</th><th scope=col>NKX25</th><th scope=col>ATAC</th><th scope=col>H3K27AC_ASE</th><th scope=col>PPA.y</th><th scope=col>PPA</th></tr></thead>\n",
       "<tbody>\n",
       "\t<tr><th scope=row>5520702</th><td>1378      </td><td>rs3807989 </td><td>7         </td><td>116186241 </td><td>26.32210  </td><td>-7.67200  </td><td>0.00015625</td><td>-2.06986  </td><td>20.86880  </td><td>1.000000  </td><td>0.988999  </td><td>1         </td><td>1         </td><td>1         </td><td>1         </td><td>0         </td><td>1.000000  </td><td>0.9889990 </td></tr>\n",
       "\t<tr><th scope=row>2040672</th><td> 508      </td><td>rs6801957 </td><td>3         </td><td> 38767315 </td><td> 8.55653  </td><td>-4.78906  </td><td>0.00016384</td><td>-2.65282  </td><td> 2.51836  </td><td>0.925419  </td><td>0.882880  </td><td>1         </td><td>1         </td><td>1         </td><td>1         </td><td>0         </td><td>0.931087  </td><td>0.8220381 </td></tr>\n",
       "</tbody>\n",
       "</table>\n"
      ],
      "text/latex": [
       "\\begin{tabular}{r|llllllllllllllllll}\n",
       "  & chunk & id & chr & pos & logBF & Z & V & pi & pseudologPO & pseudoPPA & PPA.x & H3K27AC & NKX25\\_ASE & NKX25 & ATAC & H3K27AC\\_ASE & PPA.y & PPA\\\\\n",
       "\\hline\n",
       "\t5520702 & 1378       & rs3807989  & 7          & 116186241  & 26.32210   & -7.67200   & 0.00015625 & -2.06986   & 20.86880   & 1.000000   & 0.988999   & 1          & 1          & 1          & 1          & 0          & 1.000000   & 0.9889990 \\\\\n",
       "\t2040672 &  508       & rs6801957  & 3          &  38767315  &  8.55653   & -4.78906   & 0.00016384 & -2.65282   &  2.51836   & 0.925419   & 0.882880   & 1          & 1          & 1          & 1          & 0          & 0.931087   & 0.8220381 \\\\\n",
       "\\end{tabular}\n"
      ],
      "text/plain": [
       "        chunk id        chr pos       logBF    Z        V          pi      \n",
       "5520702 1378  rs3807989 7   116186241 26.32210 -7.67200 0.00015625 -2.06986\n",
       "2040672  508  rs6801957 3    38767315  8.55653 -4.78906 0.00016384 -2.65282\n",
       "        pseudologPO pseudoPPA PPA.x    H3K27AC NKX25_ASE NKX25 ATAC H3K27AC_ASE\n",
       "5520702 20.86880    1.000000  0.988999 1       1         1     1    0          \n",
       "2040672  2.51836    0.925419  0.882880 1       1         1     1    0          \n",
       "        PPA.y    PPA      \n",
       "5520702 1.000000 0.9889990\n",
       "2040672 0.931087 0.8220381"
      ]
     },
     "metadata": {},
     "output_type": "display_data"
    }
   ],
   "source": [
    "seg[seg$NKX25_ASE==1,]"
   ]
  },
  {
   "cell_type": "code",
   "execution_count": 17,
   "metadata": {
    "collapsed": true
   },
   "outputs": [],
   "source": [
    "gwas = \"/publicdata/gwas_summary_stats_20180124/AF_Christophersen2017/AF_GWAS_ALLv31_maf0.01.txt\"\n",
    "p = paste( \"grep -E '\", paste(seg$id, collapse=\"|\"), \"' \", gwas ,\" > AF_selected_variants.tsv\", sep=\"\")"
   ]
  },
  {
   "cell_type": "code",
   "execution_count": 22,
   "metadata": {
    "collapsed": true
   },
   "outputs": [],
   "source": [
    "system(p)"
   ]
  },
  {
   "cell_type": "code",
   "execution_count": 23,
   "metadata": {},
   "outputs": [],
   "source": [
    "r = read.table(\"AF_selected_variants.tsv\")"
   ]
  },
  {
   "cell_type": "code",
   "execution_count": 25,
   "metadata": {},
   "outputs": [],
   "source": [
    "seg = merge(seg, r[,c('V1', 'V8')], by.x=\"id\", by.y=\"V1\")\n",
    "colnames(seg)[ncol(seg)] = \"P_value\""
   ]
  },
  {
   "cell_type": "code",
   "execution_count": 33,
   "metadata": {
    "collapsed": true
   },
   "outputs": [],
   "source": [
    "writeLines(as.character(seg$id), \"TOP_rs_variants_AF\")"
   ]
  },
  {
   "cell_type": "code",
   "execution_count": 34,
   "metadata": {
    "collapsed": true
   },
   "outputs": [],
   "source": [
    "system(\"module load cardips\")\n",
    "\n",
    "command1 = \"vcftools --vcf /publicdata/haploreg_v4.0_20151021/haploreg_v4.0_20151021.vcf --snps TOP_rs_variants_AF --recode --recode-INFO-all --out AF\"\n",
    "### double escape to use in R\n",
    "command2 = paste(\"bcftools query -f \", \"'%ID\\\\t%INFO/DBSNP\\\\t%INFO/NEAREST_GENCODE\\\\n' \",\n",
    "                    \"AF.recode.vcf > AF_haploreg.tab\", sep=\"\")\n",
    "           \n",
    "system(command1)\n",
    "system(command2)"
   ]
  },
  {
   "cell_type": "code",
   "execution_count": 35,
   "metadata": {
    "collapsed": true
   },
   "outputs": [],
   "source": [
    "a = read.table(\"AF_haploreg.tab\")\n",
    "colnames(a)=c('id', 'dbSNP', 'gencode')\n",
    "seg = merge(seg, a, by=1)"
   ]
  },
  {
   "cell_type": "code",
   "execution_count": 71,
   "metadata": {
    "collapsed": true
   },
   "outputs": [],
   "source": [
    "seg = seg[order(seg$PPA, decreasing=T),]\n",
    "\n",
    "write.csv(seg, 'fgwas_results_Afib.csv', row.names=FALSE)"
   ]
  },
  {
   "cell_type": "code",
   "execution_count": 37,
   "metadata": {
    "collapsed": true
   },
   "outputs": [],
   "source": [
    "seg = subset(seg, dbSNP!=\"NSM\")"
   ]
  },
  {
   "cell_type": "code",
   "execution_count": 62,
   "metadata": {
    "collapsed": true
   },
   "outputs": [],
   "source": [
    "se = seg[,c('NKX25_ASE','NKX25','H3K27AC','ATAC')]"
   ]
  },
  {
   "cell_type": "code",
   "execution_count": 63,
   "metadata": {
    "collapsed": true
   },
   "outputs": [],
   "source": [
    "mat = seg[rowSums(se)>0 & seg$P_value<1e-3 , c('id',  'PPA','NKX25_ASE','NKX25','H3K27AC','ATAC')]"
   ]
  },
  {
   "cell_type": "code",
   "execution_count": 64,
   "metadata": {},
   "outputs": [],
   "source": [
    "mat$GWAS_P = mat$id %in% seg$id[seg$P_value<1e-8]\n",
    "#mat$GWAS_other      = mat$id %in% seg$id[seg$P_value<1e-4]\n",
    "\n",
    "mat2 = mat[,2:length(mat)]\n",
    "rownames(mat2)=mat$id\n",
    "\n",
    "lab = mat2\n",
    "lab[, 2:length(mat2)]<-NA\n",
    "lab[,1]<-round(lab[,1],2)\n",
    "\n",
    "suppressPackageStartupMessages(library(RColorBrewer))\n",
    "cols = brewer.pal(9, \"Reds\")[2:8]\n",
    "\n",
    "breaks=seq(0.5, 1.1, by=0.1) # cutoff 0.5\n",
    "breaks=seq(0.3, 1.1, by=0.1) # cutoff 0.3\n",
    "\n",
    "my_palette = c(colorRampPalette(cols)(length(breaks)-2), \"gray30\")"
   ]
  },
  {
   "cell_type": "code",
   "execution_count": 65,
   "metadata": {
    "collapsed": true
   },
   "outputs": [],
   "source": [
    "mat2[mat2==0]<- NA\n",
    "mat2[mat2==TRUE]<- 1\n",
    "mat2[mat2==1]<- 2"
   ]
  },
  {
   "cell_type": "code",
   "execution_count": 69,
   "metadata": {},
   "outputs": [
    {
     "data": {
      "text/html": [
       "<strong>png:</strong> 2"
      ],
      "text/latex": [
       "\\textbf{png:} 2"
      ],
      "text/markdown": [
       "**png:** 2"
      ],
      "text/plain": [
       "png \n",
       "  2 "
      ]
     },
     "metadata": {},
     "output_type": "display_data"
    }
   ],
   "source": [
    "pdf('Table_snps_AF.pdf')\n",
    "heatmap.2(as.matrix(mat2[1:5,]), \n",
    "         Colv=F,Rowv=F, srtRow=0, srtCol=45, offsetRow=-1, offsetCol=-0.5,dendrogram=\"none\",\n",
    "          keysize=1, margins =c(30,26), trace=\"none\",key.title=\"OR\", tracecol=NA,\n",
    "          cexRow=1, cexCol=1, na.color=\"white\", col=my_palette, breaks=breaks, cellnote=lab, notecex=0.8)\n",
    "dev.off()"
   ]
  },
  {
   "cell_type": "code",
   "execution_count": null,
   "metadata": {
    "collapsed": true
   },
   "outputs": [],
   "source": []
  }
 ],
 "metadata": {
  "kernelspec": {
   "display_name": "R",
   "language": "R",
   "name": "ir"
  },
  "language_info": {
   "codemirror_mode": "r",
   "file_extension": ".r",
   "mimetype": "text/x-r-source",
   "name": "R",
   "pygments_lexer": "r",
   "version": "3.2.2"
  }
 },
 "nbformat": 4,
 "nbformat_minor": 1
}
