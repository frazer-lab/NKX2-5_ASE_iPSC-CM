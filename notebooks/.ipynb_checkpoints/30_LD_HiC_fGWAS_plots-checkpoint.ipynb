{
 "cells": [
  {
   "cell_type": "markdown",
   "metadata": {},
   "source": [
    "# Make regional plot for SNPs fine mapping\n",
    "\n",
    "\n",
    "\n"
   ]
  },
  {
   "cell_type": "markdown",
   "metadata": {},
   "source": [
    "recombination rate and 1KG pilot LD data are taken from the \"SNAP\" web-application and copied manually to the cluster\n",
    "http://archive.broadinstitute.org/mpg/snap/ldplot.php"
   ]
  },
  {
   "cell_type": "code",
   "execution_count": 1,
   "metadata": {
    "collapsed": true
   },
   "outputs": [],
   "source": [
    "#gwas  = read.table(\"/publicdata/gwas_summary_stats_20180124/denHoed/rsid_pval.txt\", header=T, sep=\"\\t\")"
   ]
  },
  {
   "cell_type": "code",
   "execution_count": 1,
   "metadata": {
    "collapsed": true
   },
   "outputs": [],
   "source": [
    "gwas  = read.table(\"/publicdata/gwas_summary_stats_20180124/vanSetten_2018/PR_interval_July2018_summary_results.hg19.txt\", header=T, sep=\"\\t\")"
   ]
  },
  {
   "cell_type": "code",
   "execution_count": 2,
   "metadata": {
    "collapsed": true
   },
   "outputs": [],
   "source": [
    "#fgwas = read.table('/home/bill/paola-heart-finemapping/Data/Optimize_Model_ASE/No_Marks_Removed/No_Marks_Removed.bfs', header=T)"
   ]
  },
  {
   "cell_type": "code",
   "execution_count": 37,
   "metadata": {
    "collapsed": true
   },
   "outputs": [],
   "source": [
    "#chunks = read.table('/home/bill/paola-heart-finemapping/Data/Optimize_Model_ASE/No_Marks_Removed/No_Marks_Removed.segbfs', header=T)"
   ]
  },
  {
   "cell_type": "code",
   "execution_count": 2,
   "metadata": {
    "collapsed": true
   },
   "outputs": [],
   "source": [
    "fgwas = read.table('~/Family1070/private_output/fgwas_analysis/PR_interval/pipeline_out/Final_Model/Final_Model.bfs', header=T)\n",
    "chunks = read.table('~/Family1070/private_output/fgwas_analysis/PR_interval/pipeline_out/Final_Model/Final_Model.segbfs', header=T)\n"
   ]
  },
  {
   "cell_type": "code",
   "execution_count": 3,
   "metadata": {
    "collapsed": false
   },
   "outputs": [],
   "source": [
    "fgwas  = merge (gwas, fgwas, by.x=\"rsid\", by.y=\"id\")"
   ]
  },
  {
   "cell_type": "code",
   "execution_count": 4,
   "metadata": {
    "collapsed": true
   },
   "outputs": [],
   "source": [
    "backup = fgwas"
   ]
  },
  {
   "cell_type": "code",
   "execution_count": 218,
   "metadata": {
    "collapsed": true
   },
   "outputs": [],
   "source": [
    "fgwas= backup"
   ]
  },
  {
   "cell_type": "code",
   "execution_count": 5,
   "metadata": {
    "collapsed": false
   },
   "outputs": [
    {
     "data": {
      "text/html": [
       "<table>\n",
       "<thead><tr><th scope=col>rsid</th><th scope=col>P_VALUE</th><th scope=col>chr</th><th scope=col>pos</th><th scope=col>logBF</th><th scope=col>Z</th><th scope=col>V</th><th scope=col>pi</th><th scope=col>pseudologPO</th><th scope=col>pseudoPPA</th><th scope=col>PPA</th><th scope=col>chunk</th><th scope=col>NKX25.ASE</th><th scope=col>H3K27AC</th><th scope=col>NKX25</th><th scope=col>H3K27AC.ASE</th><th scope=col>ATAC</th></tr></thead>\n",
       "<tbody>\n",
       "\t<tr><td>rs10       </td><td>0.7476     </td><td> 7         </td><td> 92383888  </td><td>-0.600213  </td><td>-0.322053  </td><td>0.03143530 </td><td>-6.97479   </td><td>-10.08640  </td><td>4.16412e-05</td><td>4.27088e-05</td><td>1321       </td><td>0          </td><td>0          </td><td>0          </td><td>0          </td><td>0          </td></tr>\n",
       "\t<tr><td>rs1000000  </td><td>0.8849     </td><td>12         </td><td>126890980  </td><td>-1.331510  </td><td> 0.145000  </td><td>0.00360000 </td><td>-6.81265   </td><td>-10.65550  </td><td>2.35699e-05</td><td>2.42415e-05</td><td>2107       </td><td>0          </td><td>0          </td><td>0          </td><td>0          </td><td>0          </td></tr>\n",
       "\t<tr><td>rs10000010 </td><td>0.9416     </td><td> 4         </td><td> 21618674  </td><td>-1.473990  </td><td>-0.072549  </td><td>0.00260100 </td><td>-7.05226   </td><td>-11.03760  </td><td>1.60846e-05</td><td>1.54211e-05</td><td> 676       </td><td>0          </td><td>0          </td><td>0          </td><td>0          </td><td>0          </td></tr>\n",
       "\t<tr><td>rs10000012 </td><td>0.2696     </td><td> 4         </td><td>  1357325  </td><td>-0.682284  </td><td>-1.103360  </td><td>0.00599076 </td><td>-6.96651   </td><td>-10.16020  </td><td>3.86792e-05</td><td>4.04229e-05</td><td> 653       </td><td>0          </td><td>0          </td><td>0          </td><td>0          </td><td>0          </td></tr>\n",
       "\t<tr><td>rs10000013 </td><td>0.7554     </td><td> 4         </td><td> 37225069  </td><td>-1.283210  </td><td> 0.311582  </td><td>0.00375769 </td><td>-6.79668   </td><td>-10.59120  </td><td>2.51346e-05</td><td>2.59094e-05</td><td> 693       </td><td>0          </td><td>0          </td><td>0          </td><td>0          </td><td>0          </td></tr>\n",
       "\t<tr><td>rs10000017 </td><td>0.1782     </td><td> 4         </td><td> 84778125  </td><td>-0.562655  </td><td> 1.345970  </td><td>0.00400689 </td><td>-6.88582   </td><td> -9.95984  </td><td>4.72580e-05</td><td>4.94945e-05</td><td> 734       </td><td>0          </td><td>0          </td><td>0          </td><td>0          </td><td>0          </td></tr>\n",
       "</tbody>\n",
       "</table>\n"
      ],
      "text/latex": [
       "\\begin{tabular}{r|lllllllllllllllll}\n",
       " rsid & P\\_VALUE & chr & pos & logBF & Z & V & pi & pseudologPO & pseudoPPA & PPA & chunk & NKX25.ASE & H3K27AC & NKX25 & H3K27AC.ASE & ATAC\\\\\n",
       "\\hline\n",
       "\t rs10        & 0.7476      &  7          &  92383888   & -0.600213   & -0.322053   & 0.03143530  & -6.97479    & -10.08640   & 4.16412e-05 & 4.27088e-05 & 1321        & 0           & 0           & 0           & 0           & 0          \\\\\n",
       "\t rs1000000   & 0.8849      & 12          & 126890980   & -1.331510   &  0.145000   & 0.00360000  & -6.81265    & -10.65550   & 2.35699e-05 & 2.42415e-05 & 2107        & 0           & 0           & 0           & 0           & 0          \\\\\n",
       "\t rs10000010  & 0.9416      &  4          &  21618674   & -1.473990   & -0.072549   & 0.00260100  & -7.05226    & -11.03760   & 1.60846e-05 & 1.54211e-05 &  676        & 0           & 0           & 0           & 0           & 0          \\\\\n",
       "\t rs10000012  & 0.2696      &  4          &   1357325   & -0.682284   & -1.103360   & 0.00599076  & -6.96651    & -10.16020   & 3.86792e-05 & 4.04229e-05 &  653        & 0           & 0           & 0           & 0           & 0          \\\\\n",
       "\t rs10000013  & 0.7554      &  4          &  37225069   & -1.283210   &  0.311582   & 0.00375769  & -6.79668    & -10.59120   & 2.51346e-05 & 2.59094e-05 &  693        & 0           & 0           & 0           & 0           & 0          \\\\\n",
       "\t rs10000017  & 0.1782      &  4          &  84778125   & -0.562655   &  1.345970   & 0.00400689  & -6.88582    &  -9.95984   & 4.72580e-05 & 4.94945e-05 &  734        & 0           & 0           & 0           & 0           & 0          \\\\\n",
       "\\end{tabular}\n"
      ],
      "text/plain": [
       "  rsid       P_VALUE chr pos       logBF     Z         V          pi      \n",
       "1 rs10       0.7476   7   92383888 -0.600213 -0.322053 0.03143530 -6.97479\n",
       "2 rs1000000  0.8849  12  126890980 -1.331510  0.145000 0.00360000 -6.81265\n",
       "3 rs10000010 0.9416   4   21618674 -1.473990 -0.072549 0.00260100 -7.05226\n",
       "4 rs10000012 0.2696   4    1357325 -0.682284 -1.103360 0.00599076 -6.96651\n",
       "5 rs10000013 0.7554   4   37225069 -1.283210  0.311582 0.00375769 -6.79668\n",
       "6 rs10000017 0.1782   4   84778125 -0.562655  1.345970 0.00400689 -6.88582\n",
       "  pseudologPO pseudoPPA   PPA         chunk NKX25.ASE H3K27AC NKX25 H3K27AC.ASE\n",
       "1 -10.08640   4.16412e-05 4.27088e-05 1321  0         0       0     0          \n",
       "2 -10.65550   2.35699e-05 2.42415e-05 2107  0         0       0     0          \n",
       "3 -11.03760   1.60846e-05 1.54211e-05  676  0         0       0     0          \n",
       "4 -10.16020   3.86792e-05 4.04229e-05  653  0         0       0     0          \n",
       "5 -10.59120   2.51346e-05 2.59094e-05  693  0         0       0     0          \n",
       "6  -9.95984   4.72580e-05 4.94945e-05  734  0         0       0     0          \n",
       "  ATAC\n",
       "1 0   \n",
       "2 0   \n",
       "3 0   \n",
       "4 0   \n",
       "5 0   \n",
       "6 0   "
      ]
     },
     "metadata": {},
     "output_type": "display_data"
    }
   ],
   "source": [
    "head(fgwas)"
   ]
  },
  {
   "cell_type": "code",
   "execution_count": 135,
   "metadata": {
    "collapsed": false
   },
   "outputs": [
    {
     "data": {
      "text/html": [
       "<table>\n",
       "<thead><tr><th></th><th scope=col>rsid</th><th scope=col>P_VALUE</th><th scope=col>chr</th><th scope=col>pos</th><th scope=col>logBF</th><th scope=col>Z</th><th scope=col>V</th><th scope=col>pi</th><th scope=col>pseudologPO</th><th scope=col>pseudoPPA</th><th scope=col>PPA</th><th scope=col>chunk</th><th scope=col>NKX25.ASE</th><th scope=col>H3K27AC</th><th scope=col>NKX25</th><th scope=col>H3K27AC.ASE</th><th scope=col>ATAC</th></tr></thead>\n",
       "<tbody>\n",
       "\t<tr><th scope=row>1020891</th><td>rs176107  </td><td>0.0001682 </td><td>5         </td><td>89392662  </td><td>4.7924    </td><td>-3.76332  </td><td>0.00407044</td><td>-1.34868  </td><td>0.953564  </td><td>0.721831  </td><td>0.71387   </td><td>924       </td><td>1         </td><td>1         </td><td>1         </td><td>0         </td><td>1         </td></tr>\n",
       "</tbody>\n",
       "</table>\n"
      ],
      "text/latex": [
       "\\begin{tabular}{r|lllllllllllllllll}\n",
       "  & rsid & P\\_VALUE & chr & pos & logBF & Z & V & pi & pseudologPO & pseudoPPA & PPA & chunk & NKX25.ASE & H3K27AC & NKX25 & H3K27AC.ASE & ATAC\\\\\n",
       "\\hline\n",
       "\t1020891 & rs176107   & 0.0001682  & 5          & 89392662   & 4.7924     & -3.76332   & 0.00407044 & -1.34868   & 0.953564   & 0.721831   & 0.71387    & 924        & 1          & 1          & 1          & 0          & 1         \\\\\n",
       "\\end{tabular}\n"
      ],
      "text/plain": [
       "        rsid     P_VALUE   chr pos      logBF  Z        V          pi      \n",
       "1020891 rs176107 0.0001682 5   89392662 4.7924 -3.76332 0.00407044 -1.34868\n",
       "        pseudologPO pseudoPPA PPA     chunk NKX25.ASE H3K27AC NKX25 H3K27AC.ASE\n",
       "1020891 0.953564    0.721831  0.71387 924   1         1       1     0          \n",
       "        ATAC\n",
       "1020891 1   "
      ]
     },
     "metadata": {},
     "output_type": "display_data"
    }
   ],
   "source": [
    "fgwas[fgwas$rsid==\"rs176107\",]"
   ]
  },
  {
   "cell_type": "code",
   "execution_count": 136,
   "metadata": {
    "collapsed": false
   },
   "outputs": [
    {
     "data": {
      "text/html": [
       "-3.77417400853811"
      ],
      "text/latex": [
       "-3.77417400853811"
      ],
      "text/markdown": [
       "-3.77417400853811"
      ],
      "text/plain": [
       "[1] -3.774174"
      ]
     },
     "metadata": {},
     "output_type": "display_data"
    }
   ],
   "source": [
    "log10(0.0001682)"
   ]
  },
  {
   "cell_type": "markdown",
   "metadata": {},
   "source": [
    "#### produce a bed file to be lifted over from hg18 to hg19"
   ]
  },
  {
   "cell_type": "code",
   "execution_count": 6,
   "metadata": {
    "collapsed": false
   },
   "outputs": [],
   "source": [
    "liftover = function(snapfile){\n",
    "\n",
    "data.file <- read.table(snapfile, header=T, na.strings=\"N/A\")\n",
    "data.file$end<-data.file$Coordinate_HG18+1\n",
    "write.table(data.file[complete.cases(data.file[,c(5,6,8,2)]),c(5,6,8,2)], \"data.file.bed\", sep=\"\\t\", quote=F, col.names=F, row.names=F)\n",
    "system(\"liftOver data.file.bed /publicdata/liftover_20160308/hg18ToHg19.over.chain data.file.hg19.bed data.file.hg19.unlifted.bed\")\n",
    "df19<-read.table('data.file.hg19.bed', header=F)\n",
    "df19<-merge(df19[,c(4,2)], data.file, by.x=1, by.y=2)\n",
    "colnames(df19)[1:2]<-c(\"Proxy\", \"Coordinate_HG19\")\n",
    "df19<-df19[,-c(7,9)]\n",
    "write.table(df19, \"data.file.hg19.txt\", row.names=F,col.names=T, sep=\"\\t\")\n",
    "    return(df19)\n",
    "    }"
   ]
  },
  {
   "cell_type": "markdown",
   "metadata": {},
   "source": [
    "#### regional plot of GWAS P-values taken from summary statistics"
   ]
  },
  {
   "cell_type": "code",
   "execution_count": 55,
   "metadata": {
    "collapsed": false
   },
   "outputs": [],
   "source": [
    "gwas_plot <- function(data, snp, snp_ld , place=\"topleft\"){\n",
    "\n",
    "#data    = merge(fgwas, data, by=1)\n",
    "chro    = as.numeric(substring(data$Chromosome[1], 4))\n",
    "fgwas_s = subset(fgwas, chr == chro & pos >= min(data$Coordinate_HG19) & pos <= max(data$Coordinate_HG19))\n",
    "data    = merge(fgwas_s, data, by=1, all.x=T)\n",
    "#data    = data[order(data$pos),]\n",
    "\n",
    "data$log10p = -log(data$P_VALUE,10)\n",
    "    \n",
    "offset = round(((maxp-minp)*0.04),0)    \n",
    "min.pos<-minp+offset \n",
    "max.pos<-maxp-offset\n",
    "\n",
    "data$group=cut(data$RSquared, breaks=c(0,0.2,0.4,0.6,0.8,1))\n",
    "\n",
    "color_scheme = c(\"#26285a\", \"#8ec7e0\", \"#69b34b\", \"#eb9d3c\", \"#d62a31\")\n",
    "par (pin= c(6,1.5))\n",
    "\n",
    "plot(data$pos, data$log10p,  xlim=c(min.pos, max.pos), pch=c(21,23)[(data$rsid %in% c(snp,snp_ld)) +1], \n",
    "     cex=c(1.7), bg=color_scheme[data$group], xaxt=\"n\", las=1 ,  xlab = \"\",  ylab = \"-log10(P)\", cex.axis=1.5)\n",
    "\n",
    "axis(3, las=1, cex.axis=1.5)\n",
    "snp_lables=as.character(data$rsid)\n",
    "snp_lables[!(snp_lables %in% c(snp,snp_ld))]<-\"\"\n",
    "text(data$pos, data$log10p,  snp_lables,cex=1.5, pos=c(1,2) )\n",
    "legend(place, legend = c(\"[0,0.2]\", \"(0.2,0.4]\", \"(0.4,0.6]\", \"(0.6,0.8]\", \"(0.8,1.0]\"), fill=color_scheme, cex=1.5,\n",
    "      title= \"LD\")\n",
    "\n",
    "par(new=TRUE)\n",
    "data.RR.ordered <- data[order(data$pos),]\n",
    "    \n",
    "plot(1, 1, type = \"n\", xlim = c(min.pos, max.pos), axes = FALSE,  xlab = \"\", ylim = c(0,100))\n",
    "    abline(h = 0)\n",
    "    lines(data.RR.ordered$Coordinate_HG19 ,data.RR.ordered$RecombinationRate, col = \"skyblue3\", lwd=1.5)\n",
    "    axis(4, las=1, cex.axis=1.5)\n",
    "\n",
    "\n",
    "}\n"
   ]
  },
  {
   "cell_type": "markdown",
   "metadata": {},
   "source": [
    "### Regional plots using fGWAS results"
   ]
  },
  {
   "cell_type": "code",
   "execution_count": 93,
   "metadata": {
    "collapsed": false
   },
   "outputs": [],
   "source": [
    "fgwas_plot <- function(data, snp, snp_ld ){\n",
    "\n",
    "#data    = merge(fgwas, data, by=1)\n",
    "chro    = as.numeric(substring(data$Chromosome[1], 4))\n",
    "fgwas_s = subset(fgwas, chr == chro & pos >= min(data$Coordinate_HG19) & pos <= max(data$Coordinate_HG19))\n",
    "data    = merge(fgwas_s, data, by=1, all.x=T)\n",
    "    \n",
    "data$log10p = data$PPA\n",
    "    \n",
    "offset = round(((maxp-minp)*0.04),0)    \n",
    "min.pos<-minp+offset \n",
    "max.pos<-maxp-offset\n",
    "\n",
    "par (pin= c(6,0.8))\n",
    "\n",
    "plot(data$pos, data$log10p,  xlim=c(min.pos, max.pos), pch=c(21,23)[(data$rsid %in% c(snp,snp_ld)) +1], \n",
    "     cex=c(1.7), bg=\"gray\", xaxt=\"n\", las=1 ,  xlab = \"\",  cex.axis=1.5, ylim=c(0,1))\n",
    "\n",
    "data    = data[order(data$pos),]\n",
    "chu     = data[!duplicated(data$chunk), c(\"pos\" ,\"chunk\")]\n",
    "\n",
    "abline(v=chu$pos, col=\"gray\", lwd=2, lty=2)\n",
    "    \n",
    "#axis(3, las=1, cex.axis=1.5)\n",
    "snp_lables=as.character(data$rsid)\n",
    "snp_lables[!(snp_lables %in% c(snp,snp_ld))]<-\"\"\n",
    "text(data$pos, data$log10p,  snp_lables,\n",
    "     pos=c(1,2) , cex=1.5)\n",
    "}\n"
   ]
  },
  {
   "cell_type": "markdown",
   "metadata": {},
   "source": [
    "### HiC plots"
   ]
  },
  {
   "cell_type": "code",
   "execution_count": 9,
   "metadata": {
    "collapsed": true
   },
   "outputs": [],
   "source": [
    "suppressPackageStartupMessages(library(RColorBrewer))\n",
    "suppressPackageStartupMessages(library(gplots))"
   ]
  },
  {
   "cell_type": "code",
   "execution_count": 10,
   "metadata": {
    "collapsed": true
   },
   "outputs": [],
   "source": [
    "upperHalfCircle = function(x, y, r, nsteps = 100, color = \"red\")\n",
    "{  \n",
    "   rs = seq(0, pi, len = nsteps)\n",
    "   xc = x + r * cos(rs)\n",
    "   yc = y + r * sin(rs)\n",
    "   lines(xc, yc, col = color) \n",
    "}"
   ]
  },
  {
   "cell_type": "code",
   "execution_count": 11,
   "metadata": {
    "collapsed": true
   },
   "outputs": [],
   "source": [
    "plot_loops = function(loops, chrom, minp, maxp, h=0.5e6 ){\n",
    "\n",
    "offset = round(((maxp-minp)*0.04),0)    \n",
    "\n",
    "min.pos<-minp+offset \n",
    "max.pos<-maxp-offset\n",
    "\n",
    "loops_subs = loops[(loops$V1 == as.character(chrom) & ((loops$V2 >= min.pos & loops$V3 <= max.pos)  |\n",
    "                  (loops$V2 >= min.pos & loops$V2 <= max.pos) | (loops$V3 >= min.pos & loops$V3 <= max.pos))),]\n",
    "par (pin= c(6,1.5))\n",
    "plot(1, 1, type = \"n\", xlim = c(min.pos, max.pos), ylab = \"\", axes= F, ylim=c(h,0))\n",
    "\n",
    "for (loo in 1:nrow (loops_subs)){\n",
    "    dist = loops_subs[loo,3]-loops_subs[loo,2]\n",
    "upperHalfCircle(loops_subs[loo,2]+(dist/2) ,0, dist/2)\n",
    "\n",
    "}\n",
    "    }"
   ]
  },
  {
   "cell_type": "code",
   "execution_count": 12,
   "metadata": {
    "collapsed": true
   },
   "outputs": [],
   "source": [
    "loops = read.table(\"/frazer01/home/paola/Family1070/private_output/HiC_loops_correlation/pgltools/CM.reference.bed\", sep=\"\\t\", skip=1)"
   ]
  },
  {
   "cell_type": "markdown",
   "metadata": {},
   "source": [
    "### GNB4"
   ]
  },
  {
   "cell_type": "code",
   "execution_count": 107,
   "metadata": {
    "collapsed": true
   },
   "outputs": [],
   "source": [
    "snp <- \"rs7612445\"\n",
    "setwd(\"/frazer01/home/paola/Family1070/private_output/LD_plots/GNB4/\")\n",
    "minp<-179058380\n",
    "maxp<-179224867\n",
    "\n",
    "# minp<-179170000\n",
    "# maxp<-179174000"
   ]
  },
  {
   "cell_type": "code",
   "execution_count": 108,
   "metadata": {
    "collapsed": false
   },
   "outputs": [
    {
     "data": {
      "text/html": [
       "<strong>png:</strong> 2"
      ],
      "text/latex": [
       "\\textbf{png:} 2"
      ],
      "text/markdown": [
       "**png:** 2"
      ],
      "text/plain": [
       "png \n",
       "  2 "
      ]
     },
     "metadata": {},
     "output_type": "display_data"
    }
   ],
   "source": [
    "snapfile = \"plotdata/snap102962034781136667.data.tmp\"\n",
    "data = liftover(snapfile)\n",
    "pdf(paste(snp,\"fgwas.pdf\", sep=\".\"))\n",
    "par (mfrow=c(3,1))\n",
    "gwas_plot(data, snp, NA)\n",
    "fgwas_plot(data, snp, NA)\n",
    "\n",
    "chrom=data$Chromosome[1]\n",
    "plot_loops(loops, chrom, minp, maxp, h=0.5e6)\n",
    "dev.off()"
   ]
  },
  {
   "cell_type": "markdown",
   "metadata": {},
   "source": [
    "### MYH11"
   ]
  },
  {
   "cell_type": "code",
   "execution_count": 115,
   "metadata": {
    "collapsed": true
   },
   "outputs": [],
   "source": [
    "snp <- \"rs3915499\"\n",
    "snp_ld <- \"rs8044595\"\n",
    "setwd(\"/frazer01/home/paola/Family1070/private_output/LD_plots/MYH11/\")\n",
    "minp <-15831093\n",
    "maxp <-16388888\n",
    "\n",
    "minp <-15880000\n",
    "maxp <-15940000\n"
   ]
  },
  {
   "cell_type": "code",
   "execution_count": 116,
   "metadata": {
    "collapsed": true
   },
   "outputs": [],
   "source": [
    "snapfile = \"plotdata/snap2187412560162046309.data.tmp\"\n",
    "data = liftover(snapfile)"
   ]
  },
  {
   "cell_type": "code",
   "execution_count": 118,
   "metadata": {
    "collapsed": false
   },
   "outputs": [
    {
     "data": {
      "text/html": [
       "<strong>png:</strong> 2"
      ],
      "text/latex": [
       "\\textbf{png:} 2"
      ],
      "text/markdown": [
       "**png:** 2"
      ],
      "text/plain": [
       "png \n",
       "  2 "
      ]
     },
     "metadata": {},
     "output_type": "display_data"
    }
   ],
   "source": [
    "pdf(paste(snp,\"fgwas_zin.pdf\", sep=\".\"))\n",
    "par (mfrow=c(3,1))\n",
    "gwas_plot(data, snp, snp_ld, \"topright\")\n",
    "fgwas_plot(data, snp, snp_ld)\n",
    "\n",
    "chrom=data$Chromosome[1]\n",
    "plot_loops(loops, chrom, minp, maxp, h=0.5e6)\n",
    "dev.off()"
   ]
  },
  {
   "cell_type": "markdown",
   "metadata": {
    "collapsed": true
   },
   "source": [
    "### PPTC7"
   ]
  },
  {
   "cell_type": "code",
   "execution_count": 119,
   "metadata": {
    "collapsed": true
   },
   "outputs": [],
   "source": [
    "setwd(\"/frazer01/home/paola/Family1070/private_output/LD_plots/PPTC7/\")\n",
    "snp <- \"rs11065706\"\n",
    "snp_ld <- \"rs6606689\"\n",
    "\n",
    "minp<-110820657\n",
    "maxp<-111307345\n"
   ]
  },
  {
   "cell_type": "code",
   "execution_count": 120,
   "metadata": {
    "collapsed": true
   },
   "outputs": [],
   "source": [
    "snapfile = \"plotdata/snap891252560191868931.data.tmp\"\n",
    "data = liftover(snapfile)\n"
   ]
  },
  {
   "cell_type": "code",
   "execution_count": 121,
   "metadata": {
    "collapsed": false
   },
   "outputs": [
    {
     "data": {
      "text/html": [
       "<strong>png:</strong> 2"
      ],
      "text/latex": [
       "\\textbf{png:} 2"
      ],
      "text/markdown": [
       "**png:** 2"
      ],
      "text/plain": [
       "png \n",
       "  2 "
      ]
     },
     "metadata": {},
     "output_type": "display_data"
    }
   ],
   "source": [
    "pdf(paste(snp,\"fgwas.pdf\", sep=\".\"))\n",
    "par (mfrow=c(3,1))\n",
    "gwas_plot(data, snp, snp_ld, \"topright\")\n",
    "fgwas_plot(data, snp, snp_ld)\n",
    "\n",
    "chrom=data$Chromosome[1]\n",
    "plot_loops(loops, chrom, minp, maxp, h=0.5e6)\n",
    "dev.off()"
   ]
  },
  {
   "cell_type": "markdown",
   "metadata": {
    "collapsed": true
   },
   "source": [
    "### MEF2C"
   ]
  },
  {
   "cell_type": "code",
   "execution_count": 131,
   "metadata": {
    "collapsed": true
   },
   "outputs": [],
   "source": [
    "setwd(\"/frazer01/home/paola/Family1070/private_output/LD_plots/MEF2C/\")\n",
    "snp <- \"rs176107\"\n",
    "\n",
    "minp<-87992939\n",
    "maxp<-90113022\n",
    "minp<-89218200\n",
    "maxp<-89425850\n",
    "minp<-89000000\n",
    "maxp<-89500000\n"
   ]
  },
  {
   "cell_type": "code",
   "execution_count": 132,
   "metadata": {
    "collapsed": true
   },
   "outputs": [],
   "source": [
    "snapfile = \"plotdata/snap1243516671757886653.data.tmp\"\n",
    "data = liftover(snapfile)"
   ]
  },
  {
   "cell_type": "code",
   "execution_count": 134,
   "metadata": {
    "collapsed": false
   },
   "outputs": [
    {
     "data": {
      "text/html": [
       "<strong>png:</strong> 2"
      ],
      "text/latex": [
       "\\textbf{png:} 2"
      ],
      "text/markdown": [
       "**png:** 2"
      ],
      "text/plain": [
       "png \n",
       "  2 "
      ]
     },
     "metadata": {},
     "output_type": "display_data"
    }
   ],
   "source": [
    "pdf(paste(snp,\"fgwas.zin.pdf\", sep=\".\"))\n",
    "par (mfrow=c(3,1))\n",
    "gwas_plot(data, snp, NA, \"topleft\")\n",
    "fgwas_plot(data, snp, NA)\n",
    "\n",
    "chrom=data$Chromosome[1]\n",
    "plot_loops(loops, chrom, minp, maxp, h=2e6)\n",
    "dev.off()"
   ]
  },
  {
   "cell_type": "markdown",
   "metadata": {},
   "source": [
    "### SCN10A"
   ]
  },
  {
   "cell_type": "code",
   "execution_count": 89,
   "metadata": {
    "collapsed": true
   },
   "outputs": [],
   "source": [
    "snp <- \"rs6801957\"\n",
    "setwd(\"/frazer01/home/paola/Family1070/private_output/LD_plots/SCN10A/\")\n",
    "minp <-38590401\n",
    "maxp <-38846604\n",
    "\n",
    "minp <-38745823\n",
    "maxp <-38788922"
   ]
  },
  {
   "cell_type": "code",
   "execution_count": 90,
   "metadata": {
    "collapsed": true
   },
   "outputs": [],
   "source": [
    "snapfile = \"plotdata/snap8186206431260808222.data.tmp\"\n",
    "data = liftover(snapfile)"
   ]
  },
  {
   "cell_type": "code",
   "execution_count": 91,
   "metadata": {
    "collapsed": true
   },
   "outputs": [],
   "source": [
    "snp_ld <- c(\"rs10428132\", \"rs6599255\",\"rs6790396\", \"rs6795970\", \"rs6800541\", \"rs7433306\")"
   ]
  },
  {
   "cell_type": "code",
   "execution_count": 94,
   "metadata": {
    "collapsed": false
   },
   "outputs": [
    {
     "data": {
      "text/html": [
       "<strong>png:</strong> 2"
      ],
      "text/latex": [
       "\\textbf{png:} 2"
      ],
      "text/markdown": [
       "**png:** 2"
      ],
      "text/plain": [
       "png \n",
       "  2 "
      ]
     },
     "metadata": {},
     "output_type": "display_data"
    }
   ],
   "source": [
    "pdf(paste(snp,\"fgwas_zin.pdf\", sep=\".\"))\n",
    "par (mfrow=c(3,1))\n",
    "gwas_plot(data, snp, snp_ld, \"topleft\")\n",
    "fgwas_plot(data, snp, snp_ld)\n",
    "\n",
    "chrom=data$Chromosome[1]\n",
    "plot_loops(loops, chrom, minp, maxp, h=2e6)\n",
    "dev.off()"
   ]
  },
  {
   "cell_type": "code",
   "execution_count": null,
   "metadata": {
    "collapsed": true
   },
   "outputs": [],
   "source": []
  }
 ],
 "metadata": {
  "kernelspec": {
   "display_name": "R",
   "language": "R",
   "name": "ir"
  },
  "language_info": {
   "codemirror_mode": "r",
   "file_extension": ".r",
   "mimetype": "text/x-r-source",
   "name": "R",
   "pygments_lexer": "r",
   "version": "3.2.2"
  }
 },
 "nbformat": 4,
 "nbformat_minor": 0
}
