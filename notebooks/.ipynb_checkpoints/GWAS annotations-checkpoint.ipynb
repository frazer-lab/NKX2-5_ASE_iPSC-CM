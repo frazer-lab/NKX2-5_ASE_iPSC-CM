{
 "cells": [
  {
   "cell_type": "markdown",
   "metadata": {},
   "source": [
    "### Annotation of SNPs with GWAS hits and LD SNPs\n",
    "1. GWAS SNPS obtained from the GWAS catalog on (April 17/2017) plus manuall addition of the three new atrial fibrillation studies from April 2017\n",
    "2. Using the tables from Haploreg (1000G phase I)get all SNPs in LD\n",
    "3. Manual selection of EKG traits"
   ]
  },
  {
   "cell_type": "code",
   "execution_count": 1,
   "metadata": {
    "collapsed": true
   },
   "outputs": [],
   "source": [
    "#setwd('/home/paola/2017/anotations/GWAS')\n",
    "setwd('/home/paola/Family1070/private_output/Enrichment_annotations/GWAS')\n",
    "library (stringr)"
   ]
  },
  {
   "cell_type": "code",
   "execution_count": 5,
   "metadata": {
    "collapsed": false
   },
   "outputs": [],
   "source": [
    "gwas<-read.csv('gwas_catalog_2017-04-24_mod.csv')\n",
    "trait_list<-read.csv(\"TraitList.csv\" )"
   ]
  },
  {
   "cell_type": "code",
   "execution_count": 7,
   "metadata": {
    "collapsed": false
   },
   "outputs": [
    {
     "data": {
      "text/html": [
       "<ol class=list-inline>\n",
       "\t<li>37975</li>\n",
       "\t<li>11</li>\n",
       "</ol>\n"
      ],
      "text/latex": [
       "\\begin{enumerate*}\n",
       "\\item 37975\n",
       "\\item 11\n",
       "\\end{enumerate*}\n"
      ],
      "text/markdown": [
       "1. 37975\n",
       "2. 11\n",
       "\n",
       "\n"
      ],
      "text/plain": [
       "[1] 37975    11"
      ]
     },
     "metadata": {},
     "output_type": "display_data"
    },
    {
     "data": {
      "text/html": [
       "<ol class=list-inline>\n",
       "\t<li>36878</li>\n",
       "\t<li>11</li>\n",
       "</ol>\n"
      ],
      "text/latex": [
       "\\begin{enumerate*}\n",
       "\\item 36878\n",
       "\\item 11\n",
       "\\end{enumerate*}\n"
      ],
      "text/markdown": [
       "1. 36878\n",
       "2. 11\n",
       "\n",
       "\n"
      ],
      "text/plain": [
       "[1] 36878    11"
      ]
     },
     "metadata": {},
     "output_type": "display_data"
    }
   ],
   "source": [
    "dim(gwas)\n",
    "gwas=subset(gwas, gwas$SNP_ID_CURRENT!=\"rs\")\n",
    "dim(gwas)"
   ]
  },
  {
   "cell_type": "code",
   "execution_count": 10,
   "metadata": {
    "collapsed": false
   },
   "outputs": [],
   "source": [
    "writeLines(as.character(gwas$SNP_ID_CURRENT), 'GwasCatSnps.txt')"
   ]
  },
  {
   "cell_type": "code",
   "execution_count": 12,
   "metadata": {
    "collapsed": true
   },
   "outputs": [],
   "source": [
    "gwas<-merge(gwas, trait_list, by=\"MAPPED_TRAIT\", all.x=T)"
   ]
  },
  {
   "cell_type": "code",
   "execution_count": 11,
   "metadata": {
    "collapsed": true
   },
   "outputs": [],
   "source": [
    "system(\"zcat /publicdata/haploreg_v4.0_20151021/LD_ASN.tsv.gz | awk 'NR==FNR{a[$0]=$0}NR>FNR{if($1==a[$1])print $0}' GwasCatSnps.txt - >  GwasCatSnps.LD_ASN.txt\")"
   ]
  },
  {
   "cell_type": "code",
   "execution_count": 15,
   "metadata": {
    "collapsed": true
   },
   "outputs": [],
   "source": [
    "system(\"zcat /publicdata/haploreg_v4.0_20151021/LD_EUR.tsv.gz | awk 'NR==FNR{a[$0]=$0}NR>FNR{if($1==a[$1])print $0}' GwasCatSnps.txt - >  GwasCatSnps.LD_EUR.txt\")"
   ]
  },
  {
   "cell_type": "code",
   "execution_count": 16,
   "metadata": {
    "collapsed": true
   },
   "outputs": [],
   "source": [
    "tab=c(\"GwasCatSnps.LD_ASN.txt\", \"GwasCatSnps.LD_EUR.txt\")\n",
    " \n",
    "  for(i in 1:2){\n",
    "    ld<-read.table(tab[i])\n",
    "    \n",
    "    colnames(ld)<-c(\"lead\",\"LD\")\n",
    "    x<-sapply(ld$LD, str_count, \";\")\n",
    "    \n",
    "    test=str_split_fixed(ld$LD, \";\", max(x))\n",
    "    \n",
    "    #preallocate matrix is faster\n",
    "    \n",
    "    nr=(dim(test)[1]*dim(test)[2])-sum(test==\"\")\n",
    "    newmat=matrix(NA, nrow=nr, ncol=2)\n",
    "    k=1\n",
    "    for (a in 1:nrow(test)){\n",
    "      for(j in 1:ncol(test)){\n",
    "        if(test[a,j]!=\"\") {\n",
    "          newmat[k,1]<-as.vector(ld$lead)[a]\n",
    "          newmat[k,2]<-test[a,j]\n",
    "          k=k+1\n",
    "        }\n",
    "      }\n",
    "    }\n",
    "  \n",
    "    tfx<-data.frame(str_split_fixed(newmat[,2], \"\\\\,\",3 ))\n",
    "    colnames(tfx)<-c(\"LDsnp\", \"r2\", \"D\")\n",
    "    tfx$leadSNP<-newmat[,1]\n",
    "    tfx<-tfx[!duplicated(tfx),]\n",
    "    write.table(tfx, paste(\"Melted\",tab[i], sep=\".\"), sep=\"\\t\", col.names=T, row.names=F, quote=F)\n",
    "   \n",
    "  }\n"
   ]
  },
  {
   "cell_type": "code",
   "execution_count": 22,
   "metadata": {
    "collapsed": true
   },
   "outputs": [],
   "source": [
    "eur<-read.table(\"Melted.GwasCatSnps.LD_EUR.txt\", header=T)\n",
    "eur<-subset(eur, eur$r2>0.85)\n",
    "asn<-read.table(\"Melted.GwasCatSnps.LD_ASN.txt\", header=T)\n",
    "asn<-subset(asn, asn$r2>0.85)"
   ]
  },
  {
   "cell_type": "code",
   "execution_count": 23,
   "metadata": {
    "collapsed": true
   },
   "outputs": [],
   "source": [
    "eur<-merge(gwas, eur[,c(1,2,4)], by.x=\"SNP_ID_CURRENT\", by.y=\"leadSNP\", all.x=T)\n",
    "asn<-merge(gwas, asn[,c(1,2,4)], by.x=\"SNP_ID_CURRENT\", by.y=\"leadSNP\", all.x=T)\n",
    "asn<-asn[!duplicated(asn),]\n",
    "eur<-eur[!duplicated(eur),]\n",
    "\n",
    "\n",
    "write.csv(asn,\"Table.GwasCatSnps.08LD_ASN.csv\", row.names=F )\n",
    "write.csv(eur,\"Table.GwasCatSnps.08LD_EUR.csv\", row.names=F )\n"
   ]
  },
  {
   "cell_type": "code",
   "execution_count": 19,
   "metadata": {
    "collapsed": false
   },
   "outputs": [
    {
     "data": {
      "text/html": [
       "<table>\n",
       "<thead><tr><th scope=col>SNP_ID_CURRENT</th><th scope=col>MAPPED_TRAIT</th><th scope=col>PUBMEDID</th><th scope=col>CHR_ID</th><th scope=col>CHR_POS</th><th scope=col>REPORTED.GENE.S.</th><th scope=col>MAPPED_GENE</th><th scope=col>STRONGEST.SNP.RISK.ALLELE</th><th scope=col>CONTEXT</th><th scope=col>P.VALUE</th><th scope=col>OR.or.BETA</th><th scope=col>CVD</th><th scope=col>Electro</th><th scope=col>Cardio</th><th scope=col>LDsnp</th><th scope=col>r2</th></tr></thead>\n",
       "<tbody>\n",
       "\t<tr><td>rs10000225                                          </td><td>forced expiratory volume, response to bronchodilator</td><td>26634245                                            </td><td>4                                                   </td><td>144312789                                           </td><td>Intergenic                                          </td><td>LOC105377462                                        </td><td>rs10000225-A                                        </td><td>intergenic_variant                                  </td><td>3e-06                                               </td><td>0.044                                               </td><td>NA                                                  </td><td>NA                                                  </td><td>NA                                                  </td><td>rs4256191                                           </td><td>1.00                                                </td></tr>\n",
       "\t<tr><td>rs10000225                                          </td><td>forced expiratory volume, response to bronchodilator</td><td>26634245                                            </td><td>4                                                   </td><td>144312789                                           </td><td>Intergenic                                          </td><td>LOC105377462                                        </td><td>rs10000225-A                                        </td><td>intergenic_variant                                  </td><td>3e-06                                               </td><td>0.044                                               </td><td>NA                                                  </td><td>NA                                                  </td><td>NA                                                  </td><td>rs6856698                                           </td><td>0.96                                                </td></tr>\n",
       "\t<tr><td>rs10000225                                          </td><td>forced expiratory volume, response to bronchodilator</td><td>26634245                                            </td><td>4                                                   </td><td>144312789                                           </td><td>Intergenic                                          </td><td>LOC105377462                                        </td><td>rs10000225-A                                        </td><td>intergenic_variant                                  </td><td>3e-06                                               </td><td>0.044                                               </td><td>NA                                                  </td><td>NA                                                  </td><td>NA                                                  </td><td>rs6843104                                           </td><td>0.89                                                </td></tr>\n",
       "\t<tr><td>rs10000225                                          </td><td>forced expiratory volume, response to bronchodilator</td><td>26634245                                            </td><td>4                                                   </td><td>144312789                                           </td><td>Intergenic                                          </td><td>LOC105377462                                        </td><td>rs10000225-A                                        </td><td>intergenic_variant                                  </td><td>3e-06                                               </td><td>0.044                                               </td><td>NA                                                  </td><td>NA                                                  </td><td>NA                                                  </td><td>rs7377575                                           </td><td>0.99                                                </td></tr>\n",
       "\t<tr><td>rs10000225                                          </td><td>forced expiratory volume, response to bronchodilator</td><td>26634245                                            </td><td>4                                                   </td><td>144312789                                           </td><td>Intergenic                                          </td><td>LOC105377462                                        </td><td>rs10000225-A                                        </td><td>intergenic_variant                                  </td><td>3e-06                                               </td><td>0.044                                               </td><td>NA                                                  </td><td>NA                                                  </td><td>NA                                                  </td><td>rs13118748                                          </td><td>0.86                                                </td></tr>\n",
       "\t<tr><td>rs10000225                                          </td><td>forced expiratory volume, response to bronchodilator</td><td>26634245                                            </td><td>4                                                   </td><td>144312789                                           </td><td>Intergenic                                          </td><td>LOC105377462                                        </td><td>rs10000225-A                                        </td><td>intergenic_variant                                  </td><td>3e-06                                               </td><td>0.044                                               </td><td>NA                                                  </td><td>NA                                                  </td><td>NA                                                  </td><td>rs6854014                                           </td><td>0.99                                                </td></tr>\n",
       "</tbody>\n",
       "</table>\n"
      ],
      "text/latex": [
       "\\begin{tabular}{r|llllllllllllllll}\n",
       " SNP\\_ID\\_CURRENT & MAPPED\\_TRAIT & PUBMEDID & CHR\\_ID & CHR\\_POS & REPORTED.GENE.S. & MAPPED\\_GENE & STRONGEST.SNP.RISK.ALLELE & CONTEXT & P.VALUE & OR.or.BETA & CVD & Electro & Cardio & LDsnp & r2\\\\\n",
       "\\hline\n",
       "\t rs10000225                                           & forced expiratory volume, response to bronchodilator & 26634245                                             & 4                                                    & 144312789                                            & Intergenic                                           & LOC105377462                                         & rs10000225-A                                         & intergenic\\_variant                                 & 3e-06                                                & 0.044                                                & NA                                                   & NA                                                   & NA                                                   & rs4256191                                            & 1.00                                                \\\\\n",
       "\t rs10000225                                           & forced expiratory volume, response to bronchodilator & 26634245                                             & 4                                                    & 144312789                                            & Intergenic                                           & LOC105377462                                         & rs10000225-A                                         & intergenic\\_variant                                 & 3e-06                                                & 0.044                                                & NA                                                   & NA                                                   & NA                                                   & rs6856698                                            & 0.96                                                \\\\\n",
       "\t rs10000225                                           & forced expiratory volume, response to bronchodilator & 26634245                                             & 4                                                    & 144312789                                            & Intergenic                                           & LOC105377462                                         & rs10000225-A                                         & intergenic\\_variant                                 & 3e-06                                                & 0.044                                                & NA                                                   & NA                                                   & NA                                                   & rs6843104                                            & 0.89                                                \\\\\n",
       "\t rs10000225                                           & forced expiratory volume, response to bronchodilator & 26634245                                             & 4                                                    & 144312789                                            & Intergenic                                           & LOC105377462                                         & rs10000225-A                                         & intergenic\\_variant                                 & 3e-06                                                & 0.044                                                & NA                                                   & NA                                                   & NA                                                   & rs7377575                                            & 0.99                                                \\\\\n",
       "\t rs10000225                                           & forced expiratory volume, response to bronchodilator & 26634245                                             & 4                                                    & 144312789                                            & Intergenic                                           & LOC105377462                                         & rs10000225-A                                         & intergenic\\_variant                                 & 3e-06                                                & 0.044                                                & NA                                                   & NA                                                   & NA                                                   & rs13118748                                           & 0.86                                                \\\\\n",
       "\t rs10000225                                           & forced expiratory volume, response to bronchodilator & 26634245                                             & 4                                                    & 144312789                                            & Intergenic                                           & LOC105377462                                         & rs10000225-A                                         & intergenic\\_variant                                 & 3e-06                                                & 0.044                                                & NA                                                   & NA                                                   & NA                                                   & rs6854014                                            & 0.99                                                \\\\\n",
       "\\end{tabular}\n"
      ],
      "text/plain": [
       "  SNP_ID_CURRENT MAPPED_TRAIT                                         PUBMEDID\n",
       "1 rs10000225     forced expiratory volume, response to bronchodilator 26634245\n",
       "2 rs10000225     forced expiratory volume, response to bronchodilator 26634245\n",
       "3 rs10000225     forced expiratory volume, response to bronchodilator 26634245\n",
       "4 rs10000225     forced expiratory volume, response to bronchodilator 26634245\n",
       "5 rs10000225     forced expiratory volume, response to bronchodilator 26634245\n",
       "6 rs10000225     forced expiratory volume, response to bronchodilator 26634245\n",
       "  CHR_ID CHR_POS   REPORTED.GENE.S. MAPPED_GENE  STRONGEST.SNP.RISK.ALLELE\n",
       "1 4      144312789 Intergenic       LOC105377462 rs10000225-A             \n",
       "2 4      144312789 Intergenic       LOC105377462 rs10000225-A             \n",
       "3 4      144312789 Intergenic       LOC105377462 rs10000225-A             \n",
       "4 4      144312789 Intergenic       LOC105377462 rs10000225-A             \n",
       "5 4      144312789 Intergenic       LOC105377462 rs10000225-A             \n",
       "6 4      144312789 Intergenic       LOC105377462 rs10000225-A             \n",
       "  CONTEXT            P.VALUE OR.or.BETA CVD Electro Cardio LDsnp      r2  \n",
       "1 intergenic_variant 3e-06   0.044      NA  NA      NA     rs4256191  1.00\n",
       "2 intergenic_variant 3e-06   0.044      NA  NA      NA     rs6856698  0.96\n",
       "3 intergenic_variant 3e-06   0.044      NA  NA      NA     rs6843104  0.89\n",
       "4 intergenic_variant 3e-06   0.044      NA  NA      NA     rs7377575  0.99\n",
       "5 intergenic_variant 3e-06   0.044      NA  NA      NA     rs13118748 0.86\n",
       "6 intergenic_variant 3e-06   0.044      NA  NA      NA     rs6854014  0.99"
      ]
     },
     "metadata": {},
     "output_type": "display_data"
    }
   ],
   "source": [
    "head(eur)"
   ]
  },
  {
   "cell_type": "code",
   "execution_count": 20,
   "metadata": {
    "collapsed": true
   },
   "outputs": [],
   "source": [
    "###########################################################\n",
    "### Shape Table for final annotation table\n",
    "###########################################################\n",
    "### Merge gwas pubmedID\n",
    "gwas<-gwas[!duplicated(gwas),]\n",
    "stud<-subset(gwas, !duplicated(gwas[, c(\"MAPPED_TRAIT\",\"SNP_ID_CURRENT\", \"PUBMEDID\")]))\n",
    "stud$gwas<-paste(stud$SNP_ID_CURRENT, stud$MAPPED_TRAIT, sep=\"|\")\n",
    "agg1<-aggregate(PUBMEDID~gwas, stud, paste, collapse=\",\")\n",
    "agg1$study<-paste(agg1$gwas,agg1$PUBMEDID, sep=\"|\")\n",
    "stud<-merge(agg1, stud, by=\"gwas\")\n",
    "stud<-stud[,c(\"SNP_ID_CURRENT\", \"study\")]\n",
    "\n",
    "\n",
    "## Merge LD population frequency\n",
    "asn$pop<-\"ASN\"\n",
    "eur$pop<-\"EUR\"\n",
    "all<-rbind(asn, eur)\n",
    "all$r2_pop<-paste(all$r2, all$pop, sep=\"_\")\n",
    "all<-subset(all, !is.na(all$LDsnp))\n",
    "all<-subset(all, !duplicated(all[,c('SNP_ID_CURRENT', 'LDsnp', \"r2_pop\")]))\n",
    "all$SNP<-paste(all$SNP_ID_CURRENT, all$LDsnp, sep=\"|\")\n",
    "agg2<-aggregate(r2_pop~SNP,all, paste, collapse=\",\")\n",
    "ld<-merge(agg2, all, by=\"SNP\")\n",
    "ld<-ld[,c('r2_pop.x', 'SNP_ID_CURRENT', 'LDsnp')]\n",
    "ld<-ld[!duplicated(ld),]\n",
    "\n",
    "### Merge all\n",
    "\n",
    "m<-merge(stud, ld, by=\"SNP_ID_CURRENT\", all=T)\n",
    "\n",
    "write.csv(m,\"GwasForFinalAnnotation.csv\", row.names=F)"
   ]
  },
  {
   "cell_type": "code",
   "execution_count": 21,
   "metadata": {
    "collapsed": false
   },
   "outputs": [
    {
     "data": {
      "text/html": [
       "<table>\n",
       "<thead><tr><th scope=col>SNP_ID_CURRENT</th><th scope=col>study</th><th scope=col>r2_pop.x</th><th scope=col>LDsnp</th></tr></thead>\n",
       "<tbody>\n",
       "\t<tr><td>rs10000225                                                              </td><td>rs10000225|forced expiratory volume, response to bronchodilator|26634245</td><td>1_ASN,1_EUR                                                             </td><td>rs10009710                                                              </td></tr>\n",
       "\t<tr><td>rs10000225                                                              </td><td>rs10000225|forced expiratory volume, response to bronchodilator|26634245</td><td>0.85_ASN                                                                </td><td>rs10029738                                                              </td></tr>\n",
       "\t<tr><td>rs10000225                                                              </td><td>rs10000225|forced expiratory volume, response to bronchodilator|26634245</td><td>0.85_ASN                                                                </td><td>rs10029931                                                              </td></tr>\n",
       "\t<tr><td>rs10000225                                                              </td><td>rs10000225|forced expiratory volume, response to bronchodilator|26634245</td><td>0.98_ASN,0.93_EUR                                                       </td><td>rs10030023                                                              </td></tr>\n",
       "\t<tr><td>rs10000225                                                              </td><td>rs10000225|forced expiratory volume, response to bronchodilator|26634245</td><td>0.99_ASN,0.96_EUR                                                       </td><td>rs11100850                                                              </td></tr>\n",
       "\t<tr><td>rs10000225                                                              </td><td>rs10000225|forced expiratory volume, response to bronchodilator|26634245</td><td>0.96_ASN                                                                </td><td>rs11410614                                                              </td></tr>\n",
       "</tbody>\n",
       "</table>\n"
      ],
      "text/latex": [
       "\\begin{tabular}{r|llll}\n",
       " SNP\\_ID\\_CURRENT & study & r2\\_pop.x & LDsnp\\\\\n",
       "\\hline\n",
       "\t rs10000225                                                                                   & rs10000225\\textbar{}forced expiratory volume, response to bronchodilator\\textbar{}26634245 & 1\\_ASN,1\\_EUR                                                                              & rs10009710                                                                                  \\\\\n",
       "\t rs10000225                                                                                   & rs10000225\\textbar{}forced expiratory volume, response to bronchodilator\\textbar{}26634245 & 0.85\\_ASN                                                                                   & rs10029738                                                                                  \\\\\n",
       "\t rs10000225                                                                                   & rs10000225\\textbar{}forced expiratory volume, response to bronchodilator\\textbar{}26634245 & 0.85\\_ASN                                                                                   & rs10029931                                                                                  \\\\\n",
       "\t rs10000225                                                                                   & rs10000225\\textbar{}forced expiratory volume, response to bronchodilator\\textbar{}26634245 & 0.98\\_ASN,0.93\\_EUR                                                                        & rs10030023                                                                                  \\\\\n",
       "\t rs10000225                                                                                   & rs10000225\\textbar{}forced expiratory volume, response to bronchodilator\\textbar{}26634245 & 0.99\\_ASN,0.96\\_EUR                                                                        & rs11100850                                                                                  \\\\\n",
       "\t rs10000225                                                                                   & rs10000225\\textbar{}forced expiratory volume, response to bronchodilator\\textbar{}26634245 & 0.96\\_ASN                                                                                   & rs11410614                                                                                  \\\\\n",
       "\\end{tabular}\n"
      ],
      "text/plain": [
       "  SNP_ID_CURRENT\n",
       "1 rs10000225    \n",
       "2 rs10000225    \n",
       "3 rs10000225    \n",
       "4 rs10000225    \n",
       "5 rs10000225    \n",
       "6 rs10000225    \n",
       "  study                                                                   \n",
       "1 rs10000225|forced expiratory volume, response to bronchodilator|26634245\n",
       "2 rs10000225|forced expiratory volume, response to bronchodilator|26634245\n",
       "3 rs10000225|forced expiratory volume, response to bronchodilator|26634245\n",
       "4 rs10000225|forced expiratory volume, response to bronchodilator|26634245\n",
       "5 rs10000225|forced expiratory volume, response to bronchodilator|26634245\n",
       "6 rs10000225|forced expiratory volume, response to bronchodilator|26634245\n",
       "  r2_pop.x          LDsnp     \n",
       "1 1_ASN,1_EUR       rs10009710\n",
       "2 0.85_ASN          rs10029738\n",
       "3 0.85_ASN          rs10029931\n",
       "4 0.98_ASN,0.93_EUR rs10030023\n",
       "5 0.99_ASN,0.96_EUR rs11100850\n",
       "6 0.96_ASN          rs11410614"
      ]
     },
     "metadata": {},
     "output_type": "display_data"
    }
   ],
   "source": [
    "head(m)"
   ]
  },
  {
   "cell_type": "code",
   "execution_count": null,
   "metadata": {
    "collapsed": true
   },
   "outputs": [],
   "source": []
  }
 ],
 "metadata": {
  "kernelspec": {
   "display_name": "R",
   "language": "R",
   "name": "ir"
  },
  "language_info": {
   "codemirror_mode": "r",
   "file_extension": ".r",
   "mimetype": "text/x-r-source",
   "name": "R",
   "pygments_lexer": "r",
   "version": "3.2.2"
  }
 },
 "nbformat": 4,
 "nbformat_minor": 0
}
