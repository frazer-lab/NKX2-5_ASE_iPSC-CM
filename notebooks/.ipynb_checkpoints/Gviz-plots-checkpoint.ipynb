{
 "cells": [
  {
   "cell_type": "code",
   "execution_count": 1,
   "metadata": {
    "collapsed": false
   },
   "outputs": [],
   "source": [
    "setwd(\"/home/paola/Gviz\")\n",
    "\n",
    "suppressPackageStartupMessages(library(Gviz))\n",
    "suppressPackageStartupMessages(library(GenomicRanges))\n",
    "suppressPackageStartupMessages(library(BSgenome.Hsapiens.UCSC.hg19))\n",
    "suppressPackageStartupMessages(library(rtracklayer))\n",
    "suppressPackageStartupMessages(library(RColorBrewer))\n",
    "suppressPackageStartupMessages(library(TxDb.Hsapiens.UCSC.hg19.knownGene))\n",
    "\n",
    "genome = \"hg19\"\n",
    "axTrack <- GenomeAxisTrack()\n",
    "\n",
    "# Get connection with UCSC\n",
    "session         <- browserSession()\n",
    "genome(session) <- genome\n",
    "tn              <- trackNames(session)\n",
    "sTrack          <- SequenceTrack(Hsapiens)\n",
    "\n",
    "txdb            <- TxDb.Hsapiens.UCSC.hg19.knownGene\n",
    "\n",
    "id= c(\"S07001\",\"S07002\", \"S07003\", \"S07004\",\"S07006\",\"S07007\",\"S07009\")\n",
    "names=c(\"CM.2_1\", 'CM.2_2', 'CM.2_3', 'CM.2_4', 'CM.2_6', 'CM.2_7', 'CM.2_9')\n",
    "uuid=c(\"1198c156-b1d3-440e-804f-5c66457eebe7\",\"8fd94ff1-9f53-4b85-bdb1-69be4cd62f10\",       \n",
    "       \"ef1f05e2-fa53-4aa0-9490-2cd02eb9d8d5\",\"4bedc357-aa29-4139-a901-f9b88fd1fdc0\", \"82323342-825f-4ec9-8b7f-5a827a0c979d\",\n",
    "       \"cadea57b-d7a5-4838-8a2f-bf019bdd2b28\", \"d98f48f5-de74-491e-be50-678d8127ca00\")\n",
    "### some constant plot parameters\n",
    "W=2\n",
    "H=4\n"
   ]
  },
  {
   "cell_type": "code",
   "execution_count": 2,
   "metadata": {
    "collapsed": true
   },
   "outputs": [],
   "source": [
    "#### Function for ChromHMM annotations\n",
    "chromHMM = function(hmm_table, boundaries)\n",
    "{\n",
    "  colnames(hmm_table) = c(\"chrom\", \"Start\", \"End\", \"Name\")\n",
    "  chrom = boundaries[[1]]\n",
    "  from  = as.numeric(boundaries[[2]])\n",
    "  to    = as.numeric(boundaries[[3]])\n",
    "  \n",
    "  coords = hmm_table[hmm_table$chrom == chrom &\n",
    "                       ((hmm_table$Start >= from & hmm_table$Start <= to) |\n",
    "                          ( hmm_table$End   >= from & hmm_table$End   <= to) |\n",
    "                          ( hmm_table$Start <= from & hmm_table$End   >= to)),]\n",
    "                     \n",
    "  coords$Fill = \"#FFFFFF\"\n",
    "  if (length(coords[coords$Name ==\"1_TssA\", \"Fill\"]) > 0) { coords[coords$Name == \"1_TssA\", \"Fill\"] = \"red2\"}\n",
    "  if (length(coords[coords$Name ==\"2_PromU\", \"Fill\"]) > 0) { coords[coords$Name == \"2_PromU\", \"Fill\"] = \"orangered\"}\n",
    "  if (length(coords[coords$Name ==\"3_PromD1\", \"Fill\"]) > 0) { coords[coords$Name == \"3_PromD1\", \"Fill\"] = \"orangered\"}\n",
    "  if (length(coords[coords$Name ==\"4_PromD2\", \"Fill\"]) > 0) { coords[coords$Name == \"4_PromD2\", \"Fill\"] = \"orangered\"}\n",
    "  if (length(coords[coords$Name ==\"5_Tx5'\", \"Fill\"]) > 0) { coords[coords$Name == \"5_Tx5'\", \"Fill\"] = \"darkgreen\"}\n",
    "  if (length(coords[coords$Name ==\"6_Tx\", \"Fill\"]) > 0) { coords[coords$Name == \"6_Tx\", \"Fill\"] = \"darkgreen\"}\n",
    "  if (length(coords[coords$Name ==\"7_Tx3'\", \"Fill\"]) > 0) { coords[coords$Name == \"7_Tx3'\", \"Fill\"] = \"darkgreen\"}\n",
    "  if (length(coords[coords$Name ==\"8_TxWk\", \"Fill\"]) > 0) { coords[coords$Name == \"8_TxWk\", \"Fill\"] = \"green4\"}\n",
    "  if (length(coords[coords$Name ==\"9_TxReg\", \"Fill\"]) > 0) { coords[coords$Name == \"9_TxReg\", \"Fill\"] = \"olivedrab1\"}\n",
    "  if (length(coords[coords$Name ==\"10_TxEnh5'\", \"Fill\"]) > 0) { coords[coords$Name == \"10_TxEnh5'\", \"Fill\"] = \"olivedrab1\"}\n",
    "  if (length(coords[coords$Name ==\"11_TxEnh3'\", \"Fill\"]) > 0) { coords[coords$Name == \"11_TxEnh3'\", \"Fill\"] = \"olivedrab1\"}\n",
    "  if (length(coords[coords$Name ==\"12_TxEnhW\", \"Fill\"]) > 0) { coords[coords$Name == \"12_TxEnhW\", \"Fill\"] = \"olivedrab1\"}\n",
    "  if (length(coords[coords$Name ==\"13_EnhA1\", \"Fill\"]) > 0) { coords[coords$Name == \"13_EnhA1\", \"Fill\"] = \"orange\"}\n",
    "  if (length(coords[coords$Name ==\"14_EnhA2\", \"Fill\"]) > 0) { coords[coords$Name == \"14_EnhA2\", \"Fill\"] = \"orange\"}\n",
    "  if (length(coords[coords$Name ==\"15_EnhAF\", \"Fill\"]) > 0) { coords[coords$Name == \"15_EnhAF\", \"Fill\"] = \"orange\"}\n",
    "  if (length(coords[coords$Name ==\"16_EnhW1\", \"Fill\"]) > 0) { coords[coords$Name == \"16_EnhW1\", \"Fill\"] = \"yellow\"}\n",
    "  if (length(coords[coords$Name ==\"17_EnhW2\", \"Fill\"]) > 0) { coords[coords$Name == \"17_EnhW2\", \"Fill\"] = \"yellow\"}\n",
    "  if (length(coords[coords$Name ==\"18_EnhAc\", \"Fill\"]) > 0) { coords[coords$Name == \"18_EnhAc\", \"Fill\"] = \"yellow\"}\n",
    "  if (length(coords[coords$Name ==\"19_DNase\", \"Fill\"]) > 0) { coords[coords$Name == \"19_DNase\", \"Fill\"] = \"khaki1\"}\n",
    "  if (length(coords[coords$Name ==\"20_ZNF_Rpts\", \"Fill\"]) > 0) { coords[coords$Name == \"20_ZNF_Rpts\", \"Fill\"] = \"aquamarine3\"}\n",
    "  if (length(coords[coords$Name ==\"21_Het\", \"Fill\"]) > 0) { coords[coords$Name == \"21_Het\", \"Fill\"] = \"mediumpurple1\"}\n",
    "  if (length(coords[coords$Name ==\"22_PromP\", \"Fill\"]) > 0) { coords[coords$Name == \"22_PromP\", \"Fill\"] = \"rosybrown2\"}\n",
    "  if (length(coords[coords$Name ==\"23_PromBiv\", \"Fill\"]) > 0) { coords[coords$Name == \"23_PromBiv\", \"Fill\"] = \"purple4\"}\n",
    "  if (length(coords[coords$Name ==\"24_ReprPC\", \"Fill\"]) > 0) { coords[coords$Name == \"24_ReprPC\", \"Fill\"] = \"gray\"}\n",
    "  if (length(coords[coords$Name ==\"25_Quies\", \"Fill\"]) > 0) { coords[coords$Name == \"25_Quies\", \"Fill\"] = \"white\"}\n",
    "  if (length(coords[coords$Start < from, \"Start\"]) > 0) { coords[coords$Start < from, \"Start\"]= from }\n",
    "  if (length(coords[coords$End   > to  , \"End\"  ]) > 0) { coords[coords$End   > to  , \"End\"  ]= to   }\n",
    "  \n",
    "  return(coords)\n",
    "}\n",
    "\n",
    "tissue_hmms = c(\"E083\", \"E095\")\n"
   ]
  },
  {
   "cell_type": "code",
   "execution_count": 3,
   "metadata": {
    "collapsed": true
   },
   "outputs": [],
   "source": [
    "#### Function for BedFiles annotations\n",
    "atac_cm<- read.table(\"/home/paola/ATAC_macs2/CM/meta_macs2_callPeak_peaks.q001.narrowPeak.collapse.bed\", header=F)\n",
    "atac_ips<- read.table(\"/home/paola/ATAC_macs2/iPSC/meta_macs2_callPeak_peaks.q001.narrowPeak.collapse.bed\", header=F)\n",
    "atac_best<- read.table(\"/projects/CARDIPS/pipeline/ATACseq/sample/5c79ad43-3c97-45b6-a92a-1572d708a30f/macs2/5c79ad43-3c97-45b6-a92a-1572d708a30f_peaks.narrowPeak\", \n",
    "                       header=F, stringsAsFactors=F)\n",
    "fh_dnase<- read.table(\"/projects/CARDIPS/analysis/family1070/plot_ld/bedfiles/E083-DNase.fdr0.01.peaks.bed\", header=F)\n",
    "atac_best<-atac_best[-1,1:3]\n",
    "atac<-list(fh_dnase, atac_best)\n",
    "\n",
    "Bed = function(hmm_table, boundaries)\n",
    "{\n",
    "  colnames(hmm_table) = c(\"chrom\", \"Start\", \"End\")\n",
    "  chrom = boundaries[[1]]\n",
    "  from  = as.numeric(boundaries[[2]])\n",
    "  to    = as.numeric(boundaries[[3]])\n",
    "  \n",
    "  coords = hmm_table[hmm_table$chrom == chrom &\n",
    "                       ((hmm_table$Start >= from & hmm_table$Start <= to) |\n",
    "                          ( hmm_table$End   >= from & hmm_table$End   <= to) |\n",
    "                          ( hmm_table$Start <= from & hmm_table$End   >= to)),]\n",
    "                    \n",
    "\n",
    "  if (length(coords[coords$Start < from, \"Start\"]) > 0) { coords[coords$Start < from, \"Start\"]= from }\n",
    "  if (length(coords[coords$End   > to  , \"End\"  ]) > 0) { coords[coords$End   > to  , \"End\"  ]= to   }\n",
    "  if (nrow(coords)>0){coords$Fill<-\"black\"}\n",
    "  \n",
    "  if (nrow(coords)==0){\n",
    "    coords<-data.frame(matrix(NA, ncol=1, nrow=1))\n",
    "    coords$chrom<-chrom\n",
    "    coords$Start<-from\n",
    "    coords$End<-to\n",
    "    coords$Fill<-\"white\"\n",
    "    coords<-coords[,-1]\n",
    "  }\n",
    "  \n",
    "  return(coords)\n",
    "}\n",
    "\n"
   ]
  },
  {
   "cell_type": "code",
   "execution_count": 4,
   "metadata": {
    "collapsed": true
   },
   "outputs": [],
   "source": [
    "# Names<-c(\"GNB4\",\"SEMA3C\",\"RP11-30\",\"CDC42BPA\",\"GM2A\",\"NSUN4\",\"ARHGAP42\",\"NDUFS5\",\"NDUFS5_2\",\"MYH15\",\"MYH15_2\",\"LRCH1\",\"CAV1\",\"ZNF438\",\"TBX3\", \"PPADC3\")\n",
    "# Mark<-c(\"NKX/\",\"NKX/\",\"NKX/\",\"NKX/\",\"SRF/\",\"SRF/\",\"NKX/\",\"SRF/\",\"H3K27AC/\",\"NKX/\",\"SRF/\",\"NKX/\",\"NKX/\",\"SRF/\",\"NKX/\",\"NKX/\")\n",
    "# Chr<-c(\"chr3\",\"chr7\",\"chr15\",\"chr1\",\"chr5\",\"chr1\",\"chr11\",\"chr1\",\"chr1\",\"chr3\",\"chr3\",\"chr13\",\"chr7\",\"chr10\",\"chr12\",\"chr9\")\n",
    "# Cols<-c(\"gold\",\"gold\",\"gold\",\"gold\",\"turquoise\",\"turquoise\",\"gold\",\"turquoise\",\"pink\",\"gold\",\"turquoise\",\"gold\",\"gold\",\"turquoise\",\"gold\",\"gold\")\n",
    "# ys<-c(60,100,80,80,300,500,220,300,300,200,200,200,50,200,220,90)\n",
    "# Froms<-c(179172800,80579792,77766849 ,227192402,150618636,46806137, 100610248, 39492094, 39492094, 108125342, 108125342,47240948,116186007,31040734,115380542,134209808)\n",
    "# Tos<-c(179173140, 80580370, 77767586, 227192860, 150619202, 46806937, 100610798, 39493017, 39493017, 108125869, 108125869, 47241662,116186483,31041268,115381402,134210418)\n",
    "# SNPs<-c(179172979,80580219,77767142,227192579,150618993,46806480,100610546,39492462,39492462,108125614,108125614,47241289,116186241,31040980,115381071,134210288)  \n",
    "# XI<-c(20,120,20,20,80,-50,100,-200,-200,0,0, 0,0,0,50,150)\n",
    "# XJ<-c(-30,20,-30,-30,-30,0,0,-250,-250,0,0, 0,0,0,-50,150)\n",
    "# j=1\n",
    "# mark=Mark[j]\n",
    "# chr=Chr[j]\n",
    "\n",
    "# col1=Cols[j]\n",
    "# y=ys[j]\n",
    "# afrom <- Froms[j]\n",
    "# ato <- Tos[j]\n",
    "# snps=SNPs[j]\n",
    "# xi=XI[j]\n",
    "# xj=XJ[j]"
   ]
  },
  {
   "cell_type": "code",
   "execution_count": 5,
   "metadata": {
    "collapsed": false
   },
   "outputs": [],
   "source": [
    "gviz_plot<-function (mark, chr, col1, y ,afrom ,ato ,snps ,xi ,xj){\n",
    "\n",
    "    chrom<-chr\n",
    "#idxTrack <- IdeogramTrack(genome = genome, chromosome = chr)\n",
    "grtrack <- GeneRegionTrack(txdb, genome = genome,\n",
    "                           chromosome = chr, name = \"genes\",background.title = \"white\", col.title = \"#000000\")\n",
    "\n",
    "hmms = list()\n",
    "for (jj in 1:length(tissue_hmms))\n",
    "{\n",
    "  tissue_hmm = tissue_hmms[[jj]]\n",
    "  hmm = chromHMM(read.table(paste(\"/publicdata/roadmap_25_state_20151104/\", tissue_hmm, \"_25_imputed12marks_mnemonics_sorted.bed\", sep = \"\"),\n",
    "                            header = FALSE),c(chrom, afrom, ato))\n",
    "  aTrack <- AnnotationTrack(start = hmm$Start, end = hmm$End, genome = \"hg19\", chromosome = chrom,\n",
    "                            name = tissue_hmm,\n",
    "                            col = NA, fill = hmm$Fill,\n",
    "                            stacking = \"dense\",\n",
    "                            rot.title = 0, background.title = \"white\", col.title = \"#000000\")\n",
    "  hmms[[jj]] = aTrack\n",
    "}\n",
    "\n",
    "\n",
    "atacs<-list()\n",
    "\n",
    "for (jj in 1:length(atac))\n",
    "{\n",
    "  bed = atac[[jj]]\n",
    "  hmm<-Bed(bed, c(chrom, afrom, ato))\n",
    "\n",
    "  aTrack <- AnnotationTrack(start = hmm$Start, end = hmm$End, genome = \"hg19\", chromosome = chrom,\n",
    "                            col = NA, fill = hmm$Fill,\n",
    "                            stacking = \"dense\",\n",
    "                            rot.title = 0, background.title = \"white\", col.title = \"#000000\")\n",
    "atacs[[jj]]<-aTrack\n",
    "  \n",
    "}\n",
    "\n",
    "ann_plot=c( axTrack, grtrack,atacs, hmms)\n",
    "\n",
    "#ann_plot=c(idxTrack, axTrack, grtrack, hmms)\n",
    "comb_plot=list(NA)\n",
    "\n",
    "for (i in 1: length(id)){\n",
    "  name=names[[i]]\n",
    "  track=paste(\"/projects/CARDIPS/analysis/family1070/ase_chips/analysis/CM/\", mark, id[[i]], \"/\", id[[i]], \".sorted.bam\", sep=\"\")\n",
    "  \n",
    "  alTrack <- DataTrack(range = track, genome = genome, name = name, window = -1,chromosome = chr, ylim=c(0,y),type = \"mountain\",  \n",
    "                       lwd.coverage=1, fill.mountain=c(col1,col1), col.mountain=col1,\n",
    "                       background.title = \"#FFFFFF\", col.title = \"#000000\", col.axis = \"#000000\")\n",
    "  \n",
    "  comb_plot[[i]]=alTrack\n",
    "}\n",
    "\n",
    "ht <- HighlightTrack(trackList = comb_plot , start = snps, width = 5,chromosome = chr,inBackground=FALSE, alpha=0.5)\n",
    "\n",
    "\n",
    "plotTracks(c(ann_plot,ht), from = afrom+xi, \n",
    "           to = ato+xj, chromosome = chr, cex=0.6, cex.id=0.6, scale = 0.5, labelPos = \"below\")\n",
    "\n",
    "}\n"
   ]
  },
  {
   "cell_type": "code",
   "execution_count": 8,
   "metadata": {
    "collapsed": false
   },
   "outputs": [
    {
     "data": {
      "text/html": [
       "<strong>png:</strong> 2"
      ],
      "text/latex": [
       "\\textbf{png:} 2"
      ],
      "text/markdown": [
       "**png:** 2"
      ],
      "text/plain": [
       "png \n",
       "  2 "
      ]
     },
     "metadata": {},
     "output_type": "display_data"
    }
   ],
   "source": [
    "pdf(\"MEF2C_NKX.pdf\", width=W, height=H)\n",
    "gviz_plot(mark=\"NKX/\", chr=\"chr5\", col1=\"gold\", y=200 ,afrom=89392462 ,ato=89392962 ,snps=89392662 ,xi=-100 ,xj=100)\n",
    "dev.off()\n"
   ]
  },
  {
   "cell_type": "code",
   "execution_count": 6,
   "metadata": {
    "collapsed": false
   },
   "outputs": [
    {
     "data": {
      "text/html": [
       "<strong>png:</strong> 2"
      ],
      "text/latex": [
       "\\textbf{png:} 2"
      ],
      "text/markdown": [
       "**png:** 2"
      ],
      "text/plain": [
       "png \n",
       "  2 "
      ]
     },
     "metadata": {},
     "output_type": "display_data"
    }
   ],
   "source": [
    "pdf(\"SSBP3.pdf\", width=W, height=H)\n",
    "gviz_plot(mark=\"NKX/\", chr=\"chr1\", col1=\"turquoise\", y=300 ,afrom=54742293 ,ato=54742799 ,snps=54742471 ,xi=-100 ,xj=100)\n",
    "dev.off()"
   ]
  },
  {
   "cell_type": "code",
   "execution_count": 8,
   "metadata": {
    "collapsed": false
   },
   "outputs": [
    {
     "data": {
      "text/html": [
       "<strong>png:</strong> 2"
      ],
      "text/latex": [
       "\\textbf{png:} 2"
      ],
      "text/markdown": [
       "**png:** 2"
      ],
      "text/plain": [
       "png \n",
       "  2 "
      ]
     },
     "metadata": {},
     "output_type": "display_data"
    }
   ],
   "source": [
    "pdf(\"TRIM63_NKX.pdf\", width=W, height=H)\n",
    "gviz_plot(mark=\"NKX/\", chr=\"chr1\", col1=\"gold\", y=200 ,afrom=26391505 ,ato=26395505 ,snps=26393505 ,xi=0 ,xj=0)\n",
    "dev.off()"
   ]
  },
  {
   "cell_type": "code",
   "execution_count": 9,
   "metadata": {
    "collapsed": false
   },
   "outputs": [
    {
     "data": {
      "text/html": [
       "<strong>png:</strong> 2"
      ],
      "text/latex": [
       "\\textbf{png:} 2"
      ],
      "text/markdown": [
       "**png:** 2"
      ],
      "text/plain": [
       "png \n",
       "  2 "
      ]
     },
     "metadata": {},
     "output_type": "display_data"
    }
   ],
   "source": [
    "pdf(\"TRIM63_H3K.pdf\", width=W, height=H)\n",
    "gviz_plot(mark=\"H3K27AC/\", chr=\"chr1\", col1=\"PINK\", y=100 ,afrom=26391505 ,ato=26395505 ,snps=26393505 ,xi=0 ,xj=0)\n",
    "dev.off()"
   ]
  },
  {
   "cell_type": "code",
   "execution_count": 24,
   "metadata": {
    "collapsed": false
   },
   "outputs": [
    {
     "data": {
      "text/html": [
       "<strong>png:</strong> 2"
      ],
      "text/latex": [
       "\\textbf{png:} 2"
      ],
      "text/markdown": [
       "**png:** 2"
      ],
      "text/plain": [
       "png \n",
       "  2 "
      ]
     },
     "metadata": {},
     "output_type": "display_data"
    }
   ],
   "source": [
    "pdf(\"SCN10A.pdf\", width=W, height=H)\n",
    "gviz_plot(mark=\"NKX/\", chr=\"chr3\", col1=\"gold\", y=100 ,afrom=38766898 ,ato=38767677 ,snps=38767315 ,xi=0 ,xj=0)\n",
    "dev.off()"
   ]
  },
  {
   "cell_type": "code",
   "execution_count": 26,
   "metadata": {
    "collapsed": false
   },
   "outputs": [
    {
     "data": {
      "text/html": [
       "<strong>png:</strong> 2"
      ],
      "text/latex": [
       "\\textbf{png:} 2"
      ],
      "text/markdown": [
       "**png:** 2"
      ],
      "text/plain": [
       "png \n",
       "  2 "
      ]
     },
     "metadata": {},
     "output_type": "display_data"
    }
   ],
   "source": [
    "pdf(\"PPTC7.pdf\", width=W, height=H)\n",
    "gviz_plot(mark=\"NKX/\", chr=\"chr12\", col1=\"gold\", y=150 ,afrom=110975213 ,ato=110976109 ,snps=110975675 ,xi=0 ,xj=0)\n",
    "dev.off()"
   ]
  },
  {
   "cell_type": "code",
   "execution_count": 27,
   "metadata": {
    "collapsed": false
   },
   "outputs": [
    {
     "data": {
      "text/html": [
       "<strong>png:</strong> 2"
      ],
      "text/latex": [
       "\\textbf{png:} 2"
      ],
      "text/markdown": [
       "**png:** 2"
      ],
      "text/plain": [
       "png \n",
       "  2 "
      ]
     },
     "metadata": {},
     "output_type": "display_data"
    }
   ],
   "source": [
    "pdf(\"SETBP1.pdf\", width=W, height=H)\n",
    "gviz_plot(mark=\"NKX/\", chr=\"chr18\", col1=\"gold\", y=150 ,afrom=42437013 ,ato=42437570 ,snps=42437268 ,xi=0 ,xj=0)\n",
    "dev.off()"
   ]
  },
  {
   "cell_type": "code",
   "execution_count": 6,
   "metadata": {
    "collapsed": false
   },
   "outputs": [
    {
     "data": {
      "text/html": [
       "<strong>png:</strong> 2"
      ],
      "text/latex": [
       "\\textbf{png:} 2"
      ],
      "text/markdown": [
       "**png:** 2"
      ],
      "text/plain": [
       "png \n",
       "  2 "
      ]
     },
     "metadata": {},
     "output_type": "display_data"
    }
   ],
   "source": [
    "pdf(\"SETBP1_2_peaks.pdf\", width=W, height=H)\n",
    "gviz_plot(mark=\"NKX/\", chr=\"chr18\", col1=\"gold\", y=150 ,afrom=42432045 ,ato=42438179 ,snps=42437268 ,xi=0 ,xj=0)\n",
    "dev.off()"
   ]
  },
  {
   "cell_type": "code",
   "execution_count": 7,
   "metadata": {
    "collapsed": false
   },
   "outputs": [
    {
     "data": {
      "text/html": [
       "<strong>png:</strong> 2"
      ],
      "text/latex": [
       "\\textbf{png:} 2"
      ],
      "text/markdown": [
       "**png:** 2"
      ],
      "text/plain": [
       "png \n",
       "  2 "
      ]
     },
     "metadata": {},
     "output_type": "display_data"
    },
    {
     "data": {
      "text/html": [
       "<strong>png:</strong> 2"
      ],
      "text/latex": [
       "\\textbf{png:} 2"
      ],
      "text/markdown": [
       "**png:** 2"
      ],
      "text/plain": [
       "png \n",
       "  2 "
      ]
     },
     "metadata": {},
     "output_type": "display_data"
    }
   ],
   "source": [
    "pdf(\"TLR3_nkx.pdf\", width=W, height=H)\n",
    "gviz_plot(mark=\"NKX/\", chr=\"chr4\", col1=\"gold\", y=150 ,afrom=186999945 ,ato=187001371 ,snps=187000575 ,xi=0 ,xj=0)\n",
    "dev.off()\n",
    "\n"
   ]
  },
  {
   "cell_type": "code",
   "execution_count": 8,
   "metadata": {
    "collapsed": false
   },
   "outputs": [
    {
     "data": {
      "text/html": [
       "<strong>png:</strong> 2"
      ],
      "text/latex": [
       "\\textbf{png:} 2"
      ],
      "text/markdown": [
       "**png:** 2"
      ],
      "text/plain": [
       "png \n",
       "  2 "
      ]
     },
     "metadata": {},
     "output_type": "display_data"
    }
   ],
   "source": [
    "pdf(\"TLR3_H3K27AC.pdf\", width=W, height=H)\n",
    "gviz_plot(mark=\"H3K27AC/\", chr=\"chr4\", col1=\"pink\", y=50 ,afrom=186999945 ,ato=187001371 ,snps=187000575 ,xi=0 ,xj=0)\n",
    "dev.off()"
   ]
  },
  {
   "cell_type": "code",
   "execution_count": 13,
   "metadata": {
    "collapsed": false
   },
   "outputs": [
    {
     "data": {
      "text/html": [
       "<strong>png:</strong> 2"
      ],
      "text/latex": [
       "\\textbf{png:} 2"
      ],
      "text/markdown": [
       "**png:** 2"
      ],
      "text/plain": [
       "png \n",
       "  2 "
      ]
     },
     "metadata": {},
     "output_type": "display_data"
    }
   ],
   "source": [
    "pdf(\"SH3PXD2A.pdf\", width=W, height=H)\n",
    "gviz_plot(mark=\"NKX/\", chr=\"chr10\", col1=\"gold\", y=100 ,afrom=105480172 ,ato=105480747 ,snps=105480387 ,xi=0 ,xj=0)\n",
    "dev.off()"
   ]
  },
  {
   "cell_type": "code",
   "execution_count": 17,
   "metadata": {
    "collapsed": false
   },
   "outputs": [
    {
     "data": {
      "text/html": [
       "<strong>png:</strong> 2"
      ],
      "text/latex": [
       "\\textbf{png:} 2"
      ],
      "text/markdown": [
       "**png:** 2"
      ],
      "text/plain": [
       "png \n",
       "  2 "
      ]
     },
     "metadata": {},
     "output_type": "display_data"
    }
   ],
   "source": [
    "pdf(\"NOS1AP.pdf\", width=W, height=H)\n",
    "gviz_plot(mark=\"NKX/\", chr=\"chr1\", col1=\"gold\", y=100 ,afrom=162162622 ,ato=162163987 ,snps=162162747 ,xi=-250 ,xj=50)\n",
    "dev.off()\n"
   ]
  },
  {
   "cell_type": "code",
   "execution_count": 18,
   "metadata": {
    "collapsed": false
   },
   "outputs": [
    {
     "data": {
      "text/html": [
       "<strong>png:</strong> 2"
      ],
      "text/latex": [
       "\\textbf{png:} 2"
      ],
      "text/markdown": [
       "**png:** 2"
      ],
      "text/plain": [
       "png \n",
       "  2 "
      ]
     },
     "metadata": {},
     "output_type": "display_data"
    }
   ],
   "source": [
    "pdf(\"MYH11.pdf\", width=W, height=H)\n",
    "gviz_plot(mark=\"NKX/\", chr=\"chr16\", col1=\"gold\", y=500 ,afrom=15905436 ,ato=15906350 ,snps=15906130 ,xi=-100 ,xj=50)\n",
    "dev.off()\n"
   ]
  },
  {
   "cell_type": "code",
   "execution_count": 19,
   "metadata": {
    "collapsed": false
   },
   "outputs": [
    {
     "data": {
      "text/html": [
       "<strong>png:</strong> 2"
      ],
      "text/latex": [
       "\\textbf{png:} 2"
      ],
      "text/markdown": [
       "**png:** 2"
      ],
      "text/plain": [
       "png \n",
       "  2 "
      ]
     },
     "metadata": {},
     "output_type": "display_data"
    }
   ],
   "source": [
    "pdf(\"PDE3A.pdf\", width=W, height=H)\n",
    "gviz_plot(mark=\"NKX/\", chr=\"chr12\", col1=\"gold\", y=100 ,afrom=20472148 ,ato=20472612 ,snps=20472202 ,xi=-100 ,xj=50)\n",
    "dev.off()\n"
   ]
  },
  {
   "cell_type": "code",
   "execution_count": 20,
   "metadata": {
    "collapsed": false
   },
   "outputs": [
    {
     "data": {
      "text/html": [
       "<strong>png:</strong> 2"
      ],
      "text/latex": [
       "\\textbf{png:} 2"
      ],
      "text/markdown": [
       "**png:** 2"
      ],
      "text/plain": [
       "png \n",
       "  2 "
      ]
     },
     "metadata": {},
     "output_type": "display_data"
    }
   ],
   "source": [
    "pdf(\"GJA1.pdf\", width=W, height=H)\n",
    "gviz_plot(mark=\"NKX/\", chr=\"chr6\", col1=\"gold\", y=200 ,afrom=122520088 ,ato=122520458 ,snps=122520173 ,xi=-100 ,xj=50)\n",
    "dev.off()\n",
    "\n"
   ]
  },
  {
   "cell_type": "code",
   "execution_count": 25,
   "metadata": {
    "collapsed": false
   },
   "outputs": [
    {
     "data": {
      "text/html": [
       "<strong>png:</strong> 2"
      ],
      "text/latex": [
       "\\textbf{png:} 2"
      ],
      "text/markdown": [
       "**png:** 2"
      ],
      "text/plain": [
       "png \n",
       "  2 "
      ]
     },
     "metadata": {},
     "output_type": "display_data"
    }
   ],
   "source": [
    "pdf(\"HEY2.pdf\", width=W, height=H)\n",
    "gviz_plot(mark=\"SRF/\", chr=\"chr6\", col1=\"turquoise\", y=50 ,afrom=126070350 ,ato=126071037 ,snps=126070789 ,xi=0 ,xj=0)\n",
    "dev.off()"
   ]
  },
  {
   "cell_type": "code",
   "execution_count": 23,
   "metadata": {
    "collapsed": false
   },
   "outputs": [
    {
     "data": {
      "text/html": [
       "<strong>png:</strong> 2"
      ],
      "text/latex": [
       "\\textbf{png:} 2"
      ],
      "text/markdown": [
       "**png:** 2"
      ],
      "text/plain": [
       "png \n",
       "  2 "
      ]
     },
     "metadata": {},
     "output_type": "display_data"
    }
   ],
   "source": [
    "pdf(\"HEATR5B.pdf\", width=W, height=H)\n",
    "gviz_plot(mark=\"SRF/\", chr=\"chr2\", col1=\"turquoise\", y=200 ,afrom=37232177 ,ato=37232560 ,snps=37232330 ,xi=-100 ,xj=50)\n",
    "dev.off()"
   ]
  },
  {
   "cell_type": "code",
   "execution_count": null,
   "metadata": {
    "collapsed": true
   },
   "outputs": [],
   "source": []
  }
 ],
 "metadata": {
  "kernelspec": {
   "display_name": "R",
   "language": "R",
   "name": "ir"
  },
  "language_info": {
   "codemirror_mode": "r",
   "file_extension": ".r",
   "mimetype": "text/x-r-source",
   "name": "R",
   "pygments_lexer": "r",
   "version": "3.2.2"
  }
 },
 "nbformat": 4,
 "nbformat_minor": 0
}
