{
 "cells": [
  {
   "cell_type": "markdown",
   "metadata": {},
   "source": [
    "## Prepare the table necessary to calculate motif disruption\n",
    "1. Get the SNPs to test: in this case I am testing all heterozygous SNPs that were tested for ASE in ChIP-Seq\n",
    "2. Get the fasta for a 41 bp window (20 bases upstream and downstream), for both alleles\n",
    "3. Copy in the analysis directory the motif files - in this case I use the ones obtained from Homer and will use the probability score in those files\n",
    "4. Run the analysis using the script scoreMotifs_m1.R (computationally intense and long)"
   ]
  },
  {
   "cell_type": "code",
   "execution_count": 5,
   "metadata": {
    "collapsed": true
   },
   "outputs": [],
   "source": [
    "# #### For Bill (SRF/CTCF analysis)\n",
    "# library (stringr)\n",
    "# setwd(\"/home/paola/Motif_AnalysisR_all\")\n",
    "# dir=\"/projects/CARDIPS/analysis/family1070/ase_chips_v3/analysis/correlationWithBeta/\"\n",
    "# FILES=c('ASE.tested.SRF.txt')\n",
    "# name=\"SRF_meta_peaks\"  #also names of directories\n"
   ]
  },
  {
   "cell_type": "code",
   "execution_count": 1,
   "metadata": {
    "collapsed": true
   },
   "outputs": [],
   "source": [
    "library (stringr)\n",
    "setwd(\"/frazer01/home/paola/Motif_AnalysisR_all\")\n",
    "dir=\"/projects/CARDIPS/analysis/family1070/ase_chips_v3/analysis/correlationWithBeta/\"\n",
    "FILES=c('ASE.tested.SRF.txt')\n",
    "name=\"SRF_meta_peaks\"  #also names of directories\n"
   ]
  },
  {
   "cell_type": "code",
   "execution_count": 7,
   "metadata": {
    "collapsed": false
   },
   "outputs": [
    {
     "ename": "ERROR",
     "evalue": "Error in `[.data.frame`(ase, , c(\"ref\", \"alt\", \"new_maf\", \"combined_fdr\")): undefined columns selected\n",
     "output_type": "error",
     "traceback": [
      "Error in `[.data.frame`(ase, , c(\"ref\", \"alt\", \"new_maf\", \"combined_fdr\")): undefined columns selected\nTraceback:\n",
      "1. cbind(fas, ase[, c(\"ref\", \"alt\", \"new_maf\", \"combined_fdr\")])",
      "2. ase[, c(\"ref\", \"alt\", \"new_maf\", \"combined_fdr\")]",
      "3. `[.data.frame`(ase, , c(\"ref\", \"alt\", \"new_maf\", \"combined_fdr\"))",
      "4. stop(\"undefined columns selected\")"
     ]
    }
   ],
   "source": [
    "ase=read.table(paste(dir,FILES,sep=\"\"), sep=\"\\t\", header=T)\n",
    "test=str_split_fixed(ase$variantID, \":\", 2)\n",
    "ase$chr=test[,1]\n",
    "ase$POS=as.numeric(test[,2])\n",
    "ase$bed.start=ase$POS-20\n",
    "ase$bed.end=ase$POS+20\n",
    "\n",
    "write.table(ase[,c(\"chr\", \"bed.start\", \"bed.end\",\"variantID\")],\n",
    "            paste(name, \"all_snps.bed\", sep=\"/\"), row.names=F, col.names=F, sep=\"\\t\", quote=FALSE)\n",
    "\n",
    "\n",
    "\n",
    "command= paste(\"bedtools getfasta -fi /publicdata/hg19_20151104/hg19_sorted.fa -bed  \", \n",
    "               name, \"/all_snps.bed -fo \" , name,  \"/all_fasta.tab -name -tab\", sep=\"\")\n",
    "\n",
    "system(\"module load cardips\")\n",
    "system(command)\n",
    "\n",
    "\n",
    "  file=paste(name, \"all_fasta.tab\", sep=\"/\")\n",
    "  fas=read.table(file)\n",
    "  \n",
    "  fas=cbind(fas,ase[,c(\"refAllele\", \"altAllele\", 'ref_freq', 'combined_fdr')])\n",
    "  # fas=cbind(fas,ase[,c(\"refAllele\", \"altAllele\", 'new_maf', 'combined_fdr')]) # colum name of previous file\n",
    "  colnames(fas)=c(\"pos\",\"seq\",\"ref\",\"alt\",'ref_freq', 'combined_fdr')\n",
    "  fas[,1:4]=sapply(fas[,1:4], as.character)\n",
    "  fas1=fas\n",
    "  \n",
    "  \n",
    "  # Commands for writing fasta format\n",
    "  Xfasta <- character(nrow(fas) * 2)\n",
    "  Xfasta[c(TRUE, FALSE)] <- paste0(\">\", fas$pos)\n",
    "  Xfasta[c(FALSE, TRUE)] <- fas$seq\n",
    "  writeLines(Xfasta, paste(name,\"ref.fasta\", sep=\"/\"))\n",
    "\n",
    "  ###########\n",
    "  for (i in 1:nrow(fas1)){\n",
    "   \n",
    "      substr(fas1[i,\"seq\"], 20, 20) <- fas1[i,\"alt\"]\n",
    "    \n",
    "  }\n",
    "  \n",
    "  # Commands for writing fasta format\n",
    "  Xfasta <- character(nrow(fas1) * 2)\n",
    "  Xfasta[c(TRUE, FALSE)] <- paste0(\">\", fas1$pos)\n",
    "  Xfasta[c(FALSE, TRUE)] <- fas1$seq\n",
    "  writeLines(Xfasta, paste(name,\"alt.fasta\", sep=\"/\"))\n",
    "  \n",
    "\n",
    "\n",
    "##### Make table to use in Erin's program\n",
    "matr=cbind(fas, fas1[,c(\"seq\")])\n",
    "matr=matr[c(1,3,4,5,6,2,7)]\n",
    "#adapt column names to erin's script \n",
    "colnames(matr)[c(1,6,7)]=c(\"Variant\", \"REfSeq\", \"ALtSeq\")\n",
    "matr$REfSeq<-toupper(matr$REfSeq)\n",
    "matr$ALtSeq<-toupper(matr$ALtSeq)\n",
    "\n",
    "write.table(matr, paste(name, \"TestMAtr.txt\", sep=\"/\"), row.names=F, col.names=T, sep=\"\\t\", quote=F)\n",
    "\n"
   ]
  },
  {
   "cell_type": "code",
   "execution_count": 14,
   "metadata": {
    "collapsed": false
   },
   "outputs": [
    {
     "data": {
      "text/html": [
       "<table>\n",
       "<thead><tr><th scope=col>Variant</th><th scope=col>ref</th><th scope=col>alt</th><th scope=col>ref_freq</th><th scope=col>combined_fdr</th><th scope=col>REfSeq</th><th scope=col>ALtSeq</th></tr></thead>\n",
       "<tbody>\n",
       "\t<tr><td>chr1:10003320                           </td><td>G                                       </td><td>A                                       </td><td>0.4712177                               </td><td>0.9666019                               </td><td>GCCTACCTGACAAAAACTGGGACAACCTCCTTAGGCCCCC</td><td>GCCTACCTGACAAAAACTGAGACAACCTCCTTAGGCCCCC</td></tr>\n",
       "\t<tr><td>chr1:10010344                           </td><td>T                                       </td><td>G                                       </td><td>0.5833477                               </td><td>0.9358140                               </td><td>TTTTAGTAGTGACAGGGTTTTGACATGTTGGTCAGGCTGA</td><td>TTTTAGTAGTGACAGGGTTGTGACATGTTGGTCAGGCTGA</td></tr>\n",
       "\t<tr><td>chr1:100202723                          </td><td>G                                       </td><td>A                                       </td><td>0.5526562                               </td><td>0.9507159                               </td><td>TCCTGCTCCCTAGGAAAGCGAGATGTTTATGCAGGCCTCT</td><td>TCCTGCTCCCTAGGAAAGCAAGATGTTTATGCAGGCCTCT</td></tr>\n",
       "\t<tr><td>chr1:100239486                          </td><td>C                                       </td><td>A                                       </td><td>0.4136759                               </td><td>0.9697806                               </td><td>CGGGCGCCTATAATCCCGGCTACCCGGGAGGCTGAGGCAG</td><td>CGGGCGCCTATAATCCCGGATACCCGGGAGGCTGAGGCAG</td></tr>\n",
       "\t<tr><td>chr1:100274350                          </td><td>A                                       </td><td>C                                       </td><td>0.4818684                               </td><td>0.9846634                               </td><td>GTTTCGGACCAGCCTTAAAAGGGAAACACATTAAAGTCAG</td><td>GTTTCGGACCAGCCTTAAACGGGAAACACATTAAAGTCAG</td></tr>\n",
       "\t<tr><td>chr1:100274573                          </td><td>C                                       </td><td>G                                       </td><td>0.5415287                               </td><td>0.9846634                               </td><td>TACCCATAAAGTATTACCACTGAAGAGTGAGGACATAGAC</td><td>TACCCATAAAGTATTACCAGTGAAGAGTGAGGACATAGAC</td></tr>\n",
       "</tbody>\n",
       "</table>\n"
      ],
      "text/latex": [
       "\\begin{tabular}{r|lllllll}\n",
       " Variant & ref & alt & ref\\_freq & combined\\_fdr & REfSeq & ALtSeq\\\\\n",
       "\\hline\n",
       "\t chr1:10003320                            & G                                        & A                                        & 0.4712177                                & 0.9666019                                & GCCTACCTGACAAAAACTGGGACAACCTCCTTAGGCCCCC & GCCTACCTGACAAAAACTGAGACAACCTCCTTAGGCCCCC\\\\\n",
       "\t chr1:10010344                            & T                                        & G                                        & 0.5833477                                & 0.9358140                                & TTTTAGTAGTGACAGGGTTTTGACATGTTGGTCAGGCTGA & TTTTAGTAGTGACAGGGTTGTGACATGTTGGTCAGGCTGA\\\\\n",
       "\t chr1:100202723                           & G                                        & A                                        & 0.5526562                                & 0.9507159                                & TCCTGCTCCCTAGGAAAGCGAGATGTTTATGCAGGCCTCT & TCCTGCTCCCTAGGAAAGCAAGATGTTTATGCAGGCCTCT\\\\\n",
       "\t chr1:100239486                           & C                                        & A                                        & 0.4136759                                & 0.9697806                                & CGGGCGCCTATAATCCCGGCTACCCGGGAGGCTGAGGCAG & CGGGCGCCTATAATCCCGGATACCCGGGAGGCTGAGGCAG\\\\\n",
       "\t chr1:100274350                           & A                                        & C                                        & 0.4818684                                & 0.9846634                                & GTTTCGGACCAGCCTTAAAAGGGAAACACATTAAAGTCAG & GTTTCGGACCAGCCTTAAACGGGAAACACATTAAAGTCAG\\\\\n",
       "\t chr1:100274573                           & C                                        & G                                        & 0.5415287                                & 0.9846634                                & TACCCATAAAGTATTACCACTGAAGAGTGAGGACATAGAC & TACCCATAAAGTATTACCAGTGAAGAGTGAGGACATAGAC\\\\\n",
       "\\end{tabular}\n"
      ],
      "text/plain": [
       "  Variant        ref alt ref_freq  combined_fdr\n",
       "1 chr1:10003320  G   A   0.4712177 0.9666019   \n",
       "2 chr1:10010344  T   G   0.5833477 0.9358140   \n",
       "3 chr1:100202723 G   A   0.5526562 0.9507159   \n",
       "4 chr1:100239486 C   A   0.4136759 0.9697806   \n",
       "5 chr1:100274350 A   C   0.4818684 0.9846634   \n",
       "6 chr1:100274573 C   G   0.5415287 0.9846634   \n",
       "  REfSeq                                  \n",
       "1 GCCTACCTGACAAAAACTGGGACAACCTCCTTAGGCCCCC\n",
       "2 TTTTAGTAGTGACAGGGTTTTGACATGTTGGTCAGGCTGA\n",
       "3 TCCTGCTCCCTAGGAAAGCGAGATGTTTATGCAGGCCTCT\n",
       "4 CGGGCGCCTATAATCCCGGCTACCCGGGAGGCTGAGGCAG\n",
       "5 GTTTCGGACCAGCCTTAAAAGGGAAACACATTAAAGTCAG\n",
       "6 TACCCATAAAGTATTACCACTGAAGAGTGAGGACATAGAC\n",
       "  ALtSeq                                  \n",
       "1 GCCTACCTGACAAAAACTGAGACAACCTCCTTAGGCCCCC\n",
       "2 TTTTAGTAGTGACAGGGTTGTGACATGTTGGTCAGGCTGA\n",
       "3 TCCTGCTCCCTAGGAAAGCAAGATGTTTATGCAGGCCTCT\n",
       "4 CGGGCGCCTATAATCCCGGATACCCGGGAGGCTGAGGCAG\n",
       "5 GTTTCGGACCAGCCTTAAACGGGAAACACATTAAAGTCAG\n",
       "6 TACCCATAAAGTATTACCAGTGAAGAGTGAGGACATAGAC"
      ]
     },
     "metadata": {},
     "output_type": "display_data"
    }
   ],
   "source": [
    "head(matr)"
   ]
  },
  {
   "cell_type": "markdown",
   "metadata": {},
   "source": [
    "#### Onces the analysis is done compare whith the annotations from Haploreg"
   ]
  },
  {
   "cell_type": "code",
   "execution_count": 3,
   "metadata": {
    "collapsed": true
   },
   "outputs": [],
   "source": [
    "haplo= read.csv(\"/frazer01/projects/CARDIPS/analysis/family1070/ase_chips_v3/analysis/HaploregOverlap/SRF_haploreg.tab\",\n",
    "               sep=\"\\t\", header=F)\n",
    "moti=read.table(paste(name,\"/analysis/AlleleAlteringSites_1.txt\",sep=\"\"), sep=\"\\t\", header=T)"
   ]
  },
  {
   "cell_type": "code",
   "execution_count": 4,
   "metadata": {
    "collapsed": true
   },
   "outputs": [],
   "source": [
    "ase=read.table(paste(dir,FILES,sep=\"\"), sep=\"\\t\", header=T)"
   ]
  },
  {
   "cell_type": "code",
   "execution_count": 5,
   "metadata": {
    "collapsed": false
   },
   "outputs": [
    {
     "data": {
      "text/html": [
       "<ol class=list-inline>\n",
       "\t<li>2593</li>\n",
       "\t<li>8</li>\n",
       "</ol>\n"
      ],
      "text/latex": [
       "\\begin{enumerate*}\n",
       "\\item 2593\n",
       "\\item 8\n",
       "\\end{enumerate*}\n"
      ],
      "text/markdown": [
       "1. 2593\n",
       "2. 8\n",
       "\n",
       "\n"
      ],
      "text/plain": [
       "[1] 2593    8"
      ]
     },
     "metadata": {},
     "output_type": "display_data"
    },
    {
     "data": {
      "text/html": [
       "<ol class=list-inline>\n",
       "\t<li>2593</li>\n",
       "\t<li>9</li>\n",
       "</ol>\n"
      ],
      "text/latex": [
       "\\begin{enumerate*}\n",
       "\\item 2593\n",
       "\\item 9\n",
       "\\end{enumerate*}\n"
      ],
      "text/markdown": [
       "1. 2593\n",
       "2. 9\n",
       "\n",
       "\n"
      ],
      "text/plain": [
       "[1] 2593    9"
      ]
     },
     "metadata": {},
     "output_type": "display_data"
    }
   ],
   "source": [
    "ase=ase[ase$combined_pv<0.05, 1:8]\n",
    "dim(ase)\n",
    "haplo=merge(ase, haplo[,c(3,7)] , by.x=5, by.y=1, all.x=T)\n",
    "dim(haplo)"
   ]
  },
  {
   "cell_type": "code",
   "execution_count": 6,
   "metadata": {
    "collapsed": true
   },
   "outputs": [],
   "source": [
    "colnames(haplo)[length(haplo)]=\"motif\" "
   ]
  },
  {
   "cell_type": "code",
   "execution_count": 24,
   "metadata": {
    "collapsed": true
   },
   "outputs": [],
   "source": [
    "# ############# Done it previously\n",
    "\n",
    "# hap2=subset(haplo, haplo$snpID!=\".\")\n",
    "# hap2 =subset(hap2, hap2 $motif!=\".\")\n",
    "# test=str_split_fixed(hap2 $motif, \",\", 46)\n",
    " \n",
    "# newmat=data.frame()\n",
    "# k=1\n",
    "# for (a in 1:nrow(test)){\n",
    "#   for(j in 1:ncol(test)){\n",
    "#    if(test[a,j]!=\"\") {\n",
    "#     newmat[k,\"rsID\"]<-hap2$snpID[a]\n",
    "#     newmat[k,\"motif\"]<-test[a,j]\n",
    "#     k=k+1\n",
    "#    }\n",
    "#   }\n",
    "# }\n",
    "\n",
    "# tfx<-data.frame(str_split_fixed(newmat$motif, \"\\\\|\",7 ))\n",
    "# colnames(tfx)<-c(\"mot\", \".\", \"scorediff\", \"pos\", \"strand\", \"ref\", \"alt\")\n",
    "# tfx=tfx[,c(1,3)]\n",
    "# tfx$snpID<-newmat$rsID\n",
    "# colnames(tfx)[1:2]<-c(\"TF\",\"scoreDiff\" )\n",
    "# tfx$TF_group=substr(tfx$TF, 1, 3)\n",
    "\n",
    "# write.table(tfx, paste(name, \"motifs_hreg.txt\", sep=\".\"), col.names=T, row.names=F, quote=F, sep=\"\\t\")\n"
   ]
  },
  {
   "cell_type": "code",
   "execution_count": 12,
   "metadata": {
    "collapsed": false
   },
   "outputs": [],
   "source": [
    "tfx=read.table(paste(name, \"/\", name, \".motifs_hreg.txt\", sep=\"\"), header=T, sep=\"\\t\") \n",
    "tfx=subset(tfx, TF_group==\"CTC\")"
   ]
  },
  {
   "cell_type": "code",
   "execution_count": 13,
   "metadata": {
    "collapsed": false
   },
   "outputs": [],
   "source": [
    "tfx$Motif_haploreg<-paste(tfx$TF, round(as.numeric(as.character(tfx$scoreDiff)),2), sep=\"|\" )\n",
    "agg=aggregate(Motif_haploreg~snpID, tfx, paste, collapse=\"|;|\")"
   ]
  },
  {
   "cell_type": "code",
   "execution_count": 14,
   "metadata": {
    "collapsed": false
   },
   "outputs": [
    {
     "data": {
      "text/html": [
       "<table>\n",
       "<thead><tr><th scope=col>snpID</th><th scope=col>Motif_haploreg</th></tr></thead>\n",
       "<tbody>\n",
       "\t<tr><td>rs10060138                                                                                                                                                          </td><td>CTCFL_disc1|2.35                                                                                                                                                    </td></tr>\n",
       "\t<tr><td>rs1010167                                                                                                                                                           </td><td>CTCF_disc1|5.55|;|CTCF_disc8|1|;|CTCF_known1|5.24                                                                                                                   </td></tr>\n",
       "\t<tr><td>rs10130118                                                                                                                                                          </td><td>CTCF_disc8|-11.02|;|CTCF_disc9|-2.71                                                                                                                                </td></tr>\n",
       "\t<tr><td>rs10132528                                                                                                                                                          </td><td>CTCF_disc1|0.5|;|CTCF_disc5|-0.07|;|CTCF_known1|0.65                                                                                                                </td></tr>\n",
       "\t<tr><td>rs10147348                                                                                                                                                          </td><td>CTCFL_disc1|11.9|;|CTCF_disc1|3.26|;|CTCF_disc2|11.21|;|CTCF_disc4|2.98|;|CTCF_disc5|0.75|;|CTCF_disc7|2.86|;|CTCF_disc8|-0.07|;|CTCF_disc9|11.64|;|CTCF_known1|3.22</td></tr>\n",
       "\t<tr><td>rs10163829                                                                                                                                                          </td><td>CTCF_disc1|-1.96|;|CTCF_known1|-3.45                                                                                                                                </td></tr>\n",
       "</tbody>\n",
       "</table>\n"
      ],
      "text/latex": [
       "\\begin{tabular}{r|ll}\n",
       " snpID & Motif\\_haploreg\\\\\n",
       "\\hline\n",
       "\t rs10060138                                                                                                                                                                       & CTCFL\\_disc1\\textbar{}2.35                                                                                                                                                    \\\\\n",
       "\t rs1010167                                                                                                                                                                                                                                        & CTCF\\_disc1\\textbar{}5.55\\textbar{};\\textbar{}CTCF\\_disc8\\textbar{}1\\textbar{};\\textbar{}CTCF\\_known1\\textbar{}5.24                                                                                                                   \\\\\n",
       "\t rs10130118                                                                                                                                                                                                       & CTCF\\_disc8\\textbar{}-11.02\\textbar{};\\textbar{}CTCF\\_disc9\\textbar{}-2.71                                                                                                                                \\\\\n",
       "\t rs10132528                                                                                                                                                                                                                                       & CTCF\\_disc1\\textbar{}0.5\\textbar{};\\textbar{}CTCF\\_disc5\\textbar{}-0.07\\textbar{};\\textbar{}CTCF\\_known1\\textbar{}0.65                                                                                                                \\\\\n",
       "\t rs10147348                                                                                                                                                                                                                                                                                                                                                                                                                                       & CTCFL\\_disc1\\textbar{}11.9\\textbar{};\\textbar{}CTCF\\_disc1\\textbar{}3.26\\textbar{};\\textbar{}CTCF\\_disc2\\textbar{}11.21\\textbar{};\\textbar{}CTCF\\_disc4\\textbar{}2.98\\textbar{};\\textbar{}CTCF\\_disc5\\textbar{}0.75\\textbar{};\\textbar{}CTCF\\_disc7\\textbar{}2.86\\textbar{};\\textbar{}CTCF\\_disc8\\textbar{}-0.07\\textbar{};\\textbar{}CTCF\\_disc9\\textbar{}11.64\\textbar{};\\textbar{}CTCF\\_known1\\textbar{}3.22\\\\\n",
       "\t rs10163829                                                                                                                                                                                                       & CTCF\\_disc1\\textbar{}-1.96\\textbar{};\\textbar{}CTCF\\_known1\\textbar{}-3.45                                                                                                                                \\\\\n",
       "\\end{tabular}\n"
      ],
      "text/plain": [
       "  snpID     \n",
       "1 rs10060138\n",
       "2 rs1010167 \n",
       "3 rs10130118\n",
       "4 rs10132528\n",
       "5 rs10147348\n",
       "6 rs10163829\n",
       "  Motif_haploreg                                                                                                                                                      \n",
       "1 CTCFL_disc1|2.35                                                                                                                                                    \n",
       "2 CTCF_disc1|5.55|;|CTCF_disc8|1|;|CTCF_known1|5.24                                                                                                                   \n",
       "3 CTCF_disc8|-11.02|;|CTCF_disc9|-2.71                                                                                                                                \n",
       "4 CTCF_disc1|0.5|;|CTCF_disc5|-0.07|;|CTCF_known1|0.65                                                                                                                \n",
       "5 CTCFL_disc1|11.9|;|CTCF_disc1|3.26|;|CTCF_disc2|11.21|;|CTCF_disc4|2.98|;|CTCF_disc5|0.75|;|CTCF_disc7|2.86|;|CTCF_disc8|-0.07|;|CTCF_disc9|11.64|;|CTCF_known1|3.22\n",
       "6 CTCF_disc1|-1.96|;|CTCF_known1|-3.45                                                                                                                                "
      ]
     },
     "metadata": {},
     "output_type": "display_data"
    }
   ],
   "source": [
    "head(agg)"
   ]
  },
  {
   "cell_type": "code",
   "execution_count": 16,
   "metadata": {
    "collapsed": false
   },
   "outputs": [
    {
     "data": {
      "text/html": [
       "<table>\n",
       "<thead><tr><th scope=col>snpID</th><th scope=col>variantID</th><th scope=col>combined_pv</th><th scope=col>combined_fdr</th><th scope=col>new_maf</th><th scope=col>refAllele</th><th scope=col>altAllele</th><th scope=col>locus</th><th scope=col>motif</th></tr></thead>\n",
       "<tbody>\n",
       "\t<tr><td>.                       </td><td>chr1:101774809          </td><td>1.456995e-04            </td><td>4.511602e-03            </td><td>0.9426595               </td><td>T                       </td><td>G                       </td><td>chr1:101774754-101775288</td><td>NA                      </td></tr>\n",
       "\t<tr><td>.                       </td><td>chr19:15375073          </td><td>2.591509e-02            </td><td>3.140075e-01            </td><td>0.4274509               </td><td>T                       </td><td>G                       </td><td>chr19:15374814-15375321 </td><td>NA                      </td></tr>\n",
       "\t<tr><td>.                       </td><td>chr12:46123439          </td><td>2.077778e-02            </td><td>2.735874e-01            </td><td>0.8911213               </td><td>T                       </td><td>C                       </td><td>chr12:46122477-46123657 </td><td>NA                      </td></tr>\n",
       "\t<tr><td>.                       </td><td>chr6:35262305           </td><td>1.712047e-07            </td><td>8.584233e-06            </td><td>0.7653028               </td><td>G                       </td><td>T                       </td><td>chr6:35262131-35262541  </td><td>NA                      </td></tr>\n",
       "\t<tr><td>.                       </td><td>chr15:45418949          </td><td>1.392956e-02            </td><td>2.098364e-01            </td><td>0.6326746               </td><td>G                       </td><td>A                       </td><td>chr15:45418784-45419137 </td><td>NA                      </td></tr>\n",
       "\t<tr><td>.                       </td><td>chr4:47465647           </td><td>4.054163e-04            </td><td>1.116852e-02            </td><td>0.8973785               </td><td>G                       </td><td>A                       </td><td>chr4:47465336-47465769  </td><td>NA                      </td></tr>\n",
       "</tbody>\n",
       "</table>\n"
      ],
      "text/latex": [
       "\\begin{tabular}{r|lllllllll}\n",
       " snpID & variantID & combined\\_pv & combined\\_fdr & new\\_maf & refAllele & altAllele & locus & motif\\\\\n",
       "\\hline\n",
       "\t .                        & chr1:101774809           & 1.456995e-04             & 4.511602e-03             & 0.9426595                & T                        & G                        & chr1:101774754-101775288 & NA                      \\\\\n",
       "\t .                        & chr19:15375073           & 2.591509e-02             & 3.140075e-01             & 0.4274509                & T                        & G                        & chr19:15374814-15375321  & NA                      \\\\\n",
       "\t .                        & chr12:46123439           & 2.077778e-02             & 2.735874e-01             & 0.8911213                & T                        & C                        & chr12:46122477-46123657  & NA                      \\\\\n",
       "\t .                        & chr6:35262305            & 1.712047e-07             & 8.584233e-06             & 0.7653028                & G                        & T                        & chr6:35262131-35262541   & NA                      \\\\\n",
       "\t .                        & chr15:45418949           & 1.392956e-02             & 2.098364e-01             & 0.6326746                & G                        & A                        & chr15:45418784-45419137  & NA                      \\\\\n",
       "\t .                        & chr4:47465647            & 4.054163e-04             & 1.116852e-02             & 0.8973785                & G                        & A                        & chr4:47465336-47465769   & NA                      \\\\\n",
       "\\end{tabular}\n"
      ],
      "text/plain": [
       "  snpID variantID      combined_pv  combined_fdr new_maf   refAllele altAllele\n",
       "1 .     chr1:101774809 1.456995e-04 4.511602e-03 0.9426595 T         G        \n",
       "2 .     chr19:15375073 2.591509e-02 3.140075e-01 0.4274509 T         G        \n",
       "3 .     chr12:46123439 2.077778e-02 2.735874e-01 0.8911213 T         C        \n",
       "4 .     chr6:35262305  1.712047e-07 8.584233e-06 0.7653028 G         T        \n",
       "5 .     chr15:45418949 1.392956e-02 2.098364e-01 0.6326746 G         A        \n",
       "6 .     chr4:47465647  4.054163e-04 1.116852e-02 0.8973785 G         A        \n",
       "  locus                    motif\n",
       "1 chr1:101774754-101775288 NA   \n",
       "2 chr19:15374814-15375321  NA   \n",
       "3 chr12:46122477-46123657  NA   \n",
       "4 chr6:35262131-35262541   NA   \n",
       "5 chr15:45418784-45419137  NA   \n",
       "6 chr4:47465336-47465769   NA   "
      ]
     },
     "metadata": {},
     "output_type": "display_data"
    }
   ],
   "source": [
    "head(haplo)"
   ]
  },
  {
   "cell_type": "code",
   "execution_count": 17,
   "metadata": {
    "collapsed": true
   },
   "outputs": [],
   "source": [
    "final=merge(haplo[, 1:8], agg, by=1, all.x=T)"
   ]
  },
  {
   "cell_type": "code",
   "execution_count": 21,
   "metadata": {
    "collapsed": false
   },
   "outputs": [],
   "source": [
    "final= merge(final ,moti[,c('TFM_score' ,'SNP', 'maxRefScore' ,'maxAltScore')], by.x=\"variantID\", by.y=\"SNP\", all.x=T)"
   ]
  },
  {
   "cell_type": "code",
   "execution_count": 22,
   "metadata": {
    "collapsed": true
   },
   "outputs": [],
   "source": [
    "moti$Motif_inhouse=paste(moti$Motif, round(moti$maxAltScore-moti$maxRefScore,2), sep=\"|\" )"
   ]
  },
  {
   "cell_type": "code",
   "execution_count": 26,
   "metadata": {
    "collapsed": false
   },
   "outputs": [
    {
     "data": {
      "text/html": [
       "<table>\n",
       "<thead><tr><th scope=col>variantID</th><th scope=col>snpID</th><th scope=col>combined_pv</th><th scope=col>combined_fdr</th><th scope=col>new_maf</th><th scope=col>refAllele</th><th scope=col>altAllele</th><th scope=col>locus</th><th scope=col>Motif_haploreg</th><th scope=col>TFM_score</th><th scope=col>maxRefScore</th><th scope=col>maxAltScore</th></tr></thead>\n",
       "<tbody>\n",
       "\t<tr><td>chr1:101774809                                                                                   </td><td>.                                                                                                </td><td>1.456995e-04                                                                                     </td><td>4.511602e-03                                                                                     </td><td>0.9426595                                                                                        </td><td>T                                                                                                </td><td>G                                                                                                </td><td>chr1:101774754-101775288                                                                         </td><td>NA                                                                                               </td><td>      NA                                                                                         </td><td>      NA                                                                                         </td><td>     NA                                                                                          </td></tr>\n",
       "\t<tr><td>chr1:101823263                                                                                   </td><td>rs55920322                                                                                       </td><td>1.921361e-02                                                                                     </td><td>2.613466e-01                                                                                     </td><td>0.2112219                                                                                        </td><td>T                                                                                                </td><td>C                                                                                                </td><td>chr1:101822877-101823342                                                                         </td><td>NA                                                                                               </td><td>      NA                                                                                         </td><td>      NA                                                                                         </td><td>     NA                                                                                          </td></tr>\n",
       "\t<tr><td>chr1:107514226                                                                                   </td><td>rs12569315                                                                                       </td><td>5.378263e-10                                                                                     </td><td>3.560797e-08                                                                                     </td><td>0.9363297                                                                                        </td><td>C                                                                                                </td><td>T                                                                                                </td><td>chr1:107514089-107514345                                                                         </td><td>NA                                                                                               </td><td>      NA                                                                                         </td><td>      NA                                                                                         </td><td>     NA                                                                                          </td></tr>\n",
       "\t<tr><td>chr1:109632020                                                                                   </td><td>rs1886422                                                                                        </td><td>9.498551e-21                                                                                     </td><td>1.637782e-18                                                                                     </td><td>0.9479271                                                                                        </td><td>G                                                                                                </td><td>A                                                                                                </td><td>chr1:109631909-109632197                                                                         </td><td>CTCFL_disc1|-11.97|;|CTCF_disc1|-2.84|;|CTCF_disc2|-11.97|;|CTCF_disc5|-11.34|;|CTCF_known1|-3.79</td><td>9.252218                                                                                         </td><td>13.26755                                                                                         </td><td>9.68287                                                                                          </td></tr>\n",
       "\t<tr><td>chr1:109826136                                                                                   </td><td>rs657420                                                                                         </td><td>7.476632e-08                                                                                     </td><td>3.973225e-06                                                                                     </td><td>0.7936585                                                                                        </td><td>C                                                                                                </td><td>T                                                                                                </td><td>chr1:109825865-109826306                                                                         </td><td>NA                                                                                               </td><td>      NA                                                                                         </td><td>      NA                                                                                         </td><td>     NA                                                                                          </td></tr>\n",
       "\t<tr><td>chr1:109848726                                                                                   </td><td>rs592107                                                                                         </td><td>9.225029e-05                                                                                     </td><td>2.979734e-03                                                                                     </td><td>0.1209199                                                                                        </td><td>A                                                                                                </td><td>T                                                                                                </td><td>chr1:109848620-109848894                                                                         </td><td>NA                                                                                               </td><td>      NA                                                                                         </td><td>      NA                                                                                         </td><td>     NA                                                                                          </td></tr>\n",
       "</tbody>\n",
       "</table>\n"
      ],
      "text/latex": [
       "\\begin{tabular}{r|llllllllllll}\n",
       " variantID & snpID & combined\\_pv & combined\\_fdr & new\\_maf & refAllele & altAllele & locus & Motif\\_haploreg & TFM\\_score & maxRefScore & maxAltScore\\\\\n",
       "\\hline\n",
       "\t chr1:101774809                                                                                    & .                                                                                                 & 1.456995e-04                                                                                      & 4.511602e-03                                                                                      & 0.9426595                                                                                         & T                                                                                                 & G                                                                                                 & chr1:101774754-101775288                                                                          & NA                                                                                                &       NA                                                                                          &       NA                                                                                          &      NA                                                                                          \\\\\n",
       "\t chr1:101823263                                                                                    & rs55920322                                                                                        & 1.921361e-02                                                                                      & 2.613466e-01                                                                                      & 0.2112219                                                                                         & T                                                                                                 & C                                                                                                 & chr1:101822877-101823342                                                                          & NA                                                                                                &       NA                                                                                          &       NA                                                                                          &      NA                                                                                          \\\\\n",
       "\t chr1:107514226                                                                                    & rs12569315                                                                                        & 5.378263e-10                                                                                      & 3.560797e-08                                                                                      & 0.9363297                                                                                         & C                                                                                                 & T                                                                                                 & chr1:107514089-107514345                                                                          & NA                                                                                                &       NA                                                                                          &       NA                                                                                          &      NA                                                                                          \\\\\n",
       "\t chr1:109632020                                                                                                                                                                                                                                & rs1886422                                                                                                                                                                                                                                     & 9.498551e-21                                                                                                                                                                                                                                  & 1.637782e-18                                                                                                                                                                                                                                  & 0.9479271                                                                                                                                                                                                                                     & G                                                                                                                                                                                                                                             & A                                                                                                                                                                                                                                             & chr1:109631909-109632197                                                                                                                                                                                                                      & CTCFL\\_disc1\\textbar{}-11.97\\textbar{};\\textbar{}CTCF\\_disc1\\textbar{}-2.84\\textbar{};\\textbar{}CTCF\\_disc2\\textbar{}-11.97\\textbar{};\\textbar{}CTCF\\_disc5\\textbar{}-11.34\\textbar{};\\textbar{}CTCF\\_known1\\textbar{}-3.79 & 9.252218                                                                                                                                                                                                                                      & 13.26755                                                                                                                                                                                                                                      & 9.68287                                                                                                                                                                                                                                      \\\\\n",
       "\t chr1:109826136                                                                                    & rs657420                                                                                          & 7.476632e-08                                                                                      & 3.973225e-06                                                                                      & 0.7936585                                                                                         & C                                                                                                 & T                                                                                                 & chr1:109825865-109826306                                                                          & NA                                                                                                &       NA                                                                                          &       NA                                                                                          &      NA                                                                                          \\\\\n",
       "\t chr1:109848726                                                                                    & rs592107                                                                                          & 9.225029e-05                                                                                      & 2.979734e-03                                                                                      & 0.1209199                                                                                         & A                                                                                                 & T                                                                                                 & chr1:109848620-109848894                                                                          & NA                                                                                                &       NA                                                                                          &       NA                                                                                          &      NA                                                                                          \\\\\n",
       "\\end{tabular}\n"
      ],
      "text/plain": [
       "  variantID      snpID      combined_pv  combined_fdr new_maf   refAllele\n",
       "1 chr1:101774809 .          1.456995e-04 4.511602e-03 0.9426595 T        \n",
       "2 chr1:101823263 rs55920322 1.921361e-02 2.613466e-01 0.2112219 T        \n",
       "3 chr1:107514226 rs12569315 5.378263e-10 3.560797e-08 0.9363297 C        \n",
       "4 chr1:109632020 rs1886422  9.498551e-21 1.637782e-18 0.9479271 G        \n",
       "5 chr1:109826136 rs657420   7.476632e-08 3.973225e-06 0.7936585 C        \n",
       "6 chr1:109848726 rs592107   9.225029e-05 2.979734e-03 0.1209199 A        \n",
       "  altAllele locus                   \n",
       "1 G         chr1:101774754-101775288\n",
       "2 C         chr1:101822877-101823342\n",
       "3 T         chr1:107514089-107514345\n",
       "4 A         chr1:109631909-109632197\n",
       "5 T         chr1:109825865-109826306\n",
       "6 T         chr1:109848620-109848894\n",
       "  Motif_haploreg                                                                                   \n",
       "1 NA                                                                                               \n",
       "2 NA                                                                                               \n",
       "3 NA                                                                                               \n",
       "4 CTCFL_disc1|-11.97|;|CTCF_disc1|-2.84|;|CTCF_disc2|-11.97|;|CTCF_disc5|-11.34|;|CTCF_known1|-3.79\n",
       "5 NA                                                                                               \n",
       "6 NA                                                                                               \n",
       "  TFM_score maxRefScore maxAltScore\n",
       "1       NA        NA         NA    \n",
       "2       NA        NA         NA    \n",
       "3       NA        NA         NA    \n",
       "4 9.252218  13.26755    9.68287    \n",
       "5       NA        NA         NA    \n",
       "6       NA        NA         NA    "
      ]
     },
     "metadata": {},
     "output_type": "display_data"
    },
    {
     "data": {
      "text/html": [
       "<ol class=list-inline>\n",
       "\t<li>2593</li>\n",
       "\t<li>12</li>\n",
       "</ol>\n"
      ],
      "text/latex": [
       "\\begin{enumerate*}\n",
       "\\item 2593\n",
       "\\item 12\n",
       "\\end{enumerate*}\n"
      ],
      "text/markdown": [
       "1. 2593\n",
       "2. 12\n",
       "\n",
       "\n"
      ],
      "text/plain": [
       "[1] 2593   12"
      ]
     },
     "metadata": {},
     "output_type": "display_data"
    }
   ],
   "source": [
    "head(final)\n",
    "dim(final)"
   ]
  },
  {
   "cell_type": "code",
   "execution_count": 27,
   "metadata": {
    "collapsed": true
   },
   "outputs": [],
   "source": [
    "final$inhouse_scoreDiff=final$maxAltScore-final$maxRefScore"
   ]
  },
  {
   "cell_type": "code",
   "execution_count": 28,
   "metadata": {
    "collapsed": true
   },
   "outputs": [],
   "source": [
    "final=subset(final, (is.na(Motif_haploreg) +is.na(TFM_score))<2 )"
   ]
  },
  {
   "cell_type": "code",
   "execution_count": 29,
   "metadata": {
    "collapsed": false
   },
   "outputs": [
    {
     "data": {
      "text/html": [
       "<ol class=list-inline>\n",
       "\t<li>750</li>\n",
       "\t<li>13</li>\n",
       "</ol>\n"
      ],
      "text/latex": [
       "\\begin{enumerate*}\n",
       "\\item 750\n",
       "\\item 13\n",
       "\\end{enumerate*}\n"
      ],
      "text/markdown": [
       "1. 750\n",
       "2. 13\n",
       "\n",
       "\n"
      ],
      "text/plain": [
       "[1] 750  13"
      ]
     },
     "metadata": {},
     "output_type": "display_data"
    }
   ],
   "source": [
    "dim(final)"
   ]
  },
  {
   "cell_type": "code",
   "execution_count": 31,
   "metadata": {
    "collapsed": false
   },
   "outputs": [
    {
     "data": {
      "text/html": [
       "<table>\n",
       "<thead><tr><th></th><th scope=col>variantID</th><th scope=col>snpID</th><th scope=col>combined_pv</th><th scope=col>combined_fdr</th><th scope=col>new_maf</th><th scope=col>refAllele</th><th scope=col>altAllele</th><th scope=col>locus</th><th scope=col>Motif_haploreg</th><th scope=col>TFM_score</th><th scope=col>maxRefScore</th><th scope=col>maxAltScore</th><th scope=col>inhouse_scoreDiff</th></tr></thead>\n",
       "<tbody>\n",
       "\t<tr><th scope=row>1230</th><td>chr19:19285989                                                                                                                        </td><td>rs7250650                                                                                                                             </td><td> 0.000000e+00                                                                                                                         </td><td> 0.000000e+00                                                                                                                         </td><td>0.7970010                                                                                                                             </td><td>A                                                                                                                                     </td><td>T                                                                                                                                     </td><td>chr19:19285696-19286272                                                                                                               </td><td>CTCF_disc5|-1.01|;|CTCF_known1|-5.55                                                                                                  </td><td>      NA                                                                                                                              </td><td>      NA                                                                                                                              </td><td>      NA                                                                                                                              </td><td>       NA                                                                                                                             </td></tr>\n",
       "\t<tr><th scope=row>365</th><td>chr10:77686741                                                                                                                        </td><td>rs4746340                                                                                                                             </td><td>7.111145e-108                                                                                                                         </td><td>5.681093e-104                                                                                                                         </td><td>0.9689231                                                                                                                             </td><td>C                                                                                                                                     </td><td>G                                                                                                                                     </td><td>chr10:77686554-77686958                                                                                                               </td><td>CTCFL_disc1|-11.97|;|CTCF_disc2|-11.97|;|CTCF_known1|-11.93                                                                           </td><td>      NA                                                                                                                              </td><td>      NA                                                                                                                              </td><td>      NA                                                                                                                              </td><td>       NA                                                                                                                             </td></tr>\n",
       "\t<tr><th scope=row>206</th><td>chr1:46998674                                                                                                                         </td><td>.                                                                                                                                     </td><td> 6.113861e-87                                                                                                                         </td><td> 3.663273e-83                                                                                                                         </td><td>0.9303603                                                                                                                             </td><td>C                                                                                                                                     </td><td>T                                                                                                                                     </td><td>chr1:46998375-46999125                                                                                                                </td><td>NA                                                                                                                                    </td><td>9.252218                                                                                                                              </td><td>11.57948                                                                                                                              </td><td>9.700444                                                                                                                              </td><td>-1.879033                                                                                                                             </td></tr>\n",
       "\t<tr><th scope=row>1207</th><td>chr19:12876964                                                                                                                        </td><td>rs897804                                                                                                                              </td><td> 5.353185e-85                                                                                                                         </td><td> 2.565996e-81                                                                                                                         </td><td>0.9735427                                                                                                                             </td><td>G                                                                                                                                     </td><td>C                                                                                                                                     </td><td>chr19:12876738-12877205                                                                                                               </td><td>CTCFL_disc1|-11.62|;|CTCF_disc1|-10.52|;|CTCF_disc2|-11.72|;|CTCF_disc5|-1.19|;|CTCF_disc7|-2.73|;|CTCF_disc8|1.59|;|CTCF_known1|-7.45</td><td>9.252218                                                                                                                              </td><td>12.77779                                                                                                                              </td><td>7.089118                                                                                                                              </td><td>-5.688669                                                                                                                             </td></tr>\n",
       "\t<tr><th scope=row>1122</th><td>chr17:77038624                                                                                                                        </td><td>rs56182592                                                                                                                            </td><td> 7.358686e-70                                                                                                                         </td><td> 2.204570e-66                                                                                                                         </td><td>0.9372426                                                                                                                             </td><td>C                                                                                                                                     </td><td>T                                                                                                                                     </td><td>chr17:77038355-77038819                                                                                                               </td><td>CTCF_disc2|-11.97|;|CTCF_disc5|-11.65|;|CTCF_disc7|-3.57|;|CTCF_disc8|-1.42|;|CTCF_disc9|-0.85|;|CTCF_known1|-6.19                    </td><td>      NA                                                                                                                              </td><td>      NA                                                                                                                              </td><td>      NA                                                                                                                              </td><td>       NA                                                                                                                             </td></tr>\n",
       "\t<tr><th scope=row>257</th><td>chr10:102772840                                                                                                                       </td><td>rs807019                                                                                                                              </td><td> 2.347302e-69                                                                                                                         </td><td> 6.250865e-66                                                                                                                         </td><td>0.1928509                                                                                                                             </td><td>T                                                                                                                                     </td><td>C                                                                                                                                     </td><td>chr10:102772434-102773467                                                                                                             </td><td>CTCF_disc7|3.69                                                                                                                       </td><td>      NA                                                                                                                              </td><td>      NA                                                                                                                              </td><td>      NA                                                                                                                              </td><td>       NA                                                                                                                             </td></tr>\n",
       "</tbody>\n",
       "</table>\n"
      ],
      "text/latex": [
       "\\begin{tabular}{r|lllllllllllll}\n",
       "  & variantID & snpID & combined\\_pv & combined\\_fdr & new\\_maf & refAllele & altAllele & locus & Motif\\_haploreg & TFM\\_score & maxRefScore & maxAltScore & inhouse\\_scoreDiff\\\\\n",
       "\\hline\n",
       "\t1230 & chr19:19285989                                                                                                                                                                     & rs7250650                                                                                                                                                                          &  0.000000e+00                                                                                                                                                                      &  0.000000e+00                                                                                                                                                                      & 0.7970010                                                                                                                                                                          & A                                                                                                                                                                                  & T                                                                                                                                                                                  & chr19:19285696-19286272                                                                                                                                                            & CTCF\\_disc5\\textbar{}-1.01\\textbar{};\\textbar{}CTCF\\_known1\\textbar{}-5.55                                                                                                   &       NA                                                                                                                                                                           &       NA                                                                                                                                                                           &       NA                                                                                                                                                                           &        NA                                                                                                                                                                         \\\\\n",
       "\t365 & chr10:77686741                                                                                                                                                                                                     & rs4746340                                                                                                                                                                                                          & 7.111145e-108                                                                                                                                                                                                      & 5.681093e-104                                                                                                                                                                                                      & 0.9689231                                                                                                                                                                                                          & C                                                                                                                                                                                                                  & G                                                                                                                                                                                                                  & chr10:77686554-77686958                                                                                                                                                                                            & CTCFL\\_disc1\\textbar{}-11.97\\textbar{};\\textbar{}CTCF\\_disc2\\textbar{}-11.97\\textbar{};\\textbar{}CTCF\\_known1\\textbar{}-11.93                                                                            &       NA                                                                                                                                                                                                           &       NA                                                                                                                                                                                                           &       NA                                                                                                                                                                                                           &        NA                                                                                                                                                                                                         \\\\\n",
       "\t206 & chr1:46998674                                                                                                                          & .                                                                                                                                      &  6.113861e-87                                                                                                                          &  3.663273e-83                                                                                                                          & 0.9303603                                                                                                                              & C                                                                                                                                      & T                                                                                                                                      & chr1:46998375-46999125                                                                                                                 & NA                                                                                                                                     & 9.252218                                                                                                                               & 11.57948                                                                                                                               & 9.700444                                                                                                                               & -1.879033                                                                                                                             \\\\\n",
       "\t1207 & chr19:12876964                                                                                                                                                                                                                                                                                                                                     & rs897804                                                                                                                                                                                                                                                                                                                                           &  5.353185e-85                                                                                                                                                                                                                                                                                                                                      &  2.565996e-81                                                                                                                                                                                                                                                                                                                                      & 0.9735427                                                                                                                                                                                                                                                                                                                                          & G                                                                                                                                                                                                                                                                                                                                                  & C                                                                                                                                                                                                                                                                                                                                                  & chr19:12876738-12877205                                                                                                                                                                                                                                                                                                                            & CTCFL\\_disc1\\textbar{}-11.62\\textbar{};\\textbar{}CTCF\\_disc1\\textbar{}-10.52\\textbar{};\\textbar{}CTCF\\_disc2\\textbar{}-11.72\\textbar{};\\textbar{}CTCF\\_disc5\\textbar{}-1.19\\textbar{};\\textbar{}CTCF\\_disc7\\textbar{}-2.73\\textbar{};\\textbar{}CTCF\\_disc8\\textbar{}1.59\\textbar{};\\textbar{}CTCF\\_known1\\textbar{}-7.45 & 9.252218                                                                                                                                                                                                                                                                                                                                           & 12.77779                                                                                                                                                                                                                                                                                                                                           & 7.089118                                                                                                                                                                                                                                                                                                                                           & -5.688669                                                                                                                                                                                                                                                                                                                                         \\\\\n",
       "\t1122 & chr17:77038624                                                                                                                                                                                                                                                                                                     & rs56182592                                                                                                                                                                                                                                                                                                         &  7.358686e-70                                                                                                                                                                                                                                                                                                      &  2.204570e-66                                                                                                                                                                                                                                                                                                      & 0.9372426                                                                                                                                                                                                                                                                                                          & C                                                                                                                                                                                                                                                                                                                  & T                                                                                                                                                                                                                                                                                                                  & chr17:77038355-77038819                                                                                                                                                                                                                                                                                            & CTCF\\_disc2\\textbar{}-11.97\\textbar{};\\textbar{}CTCF\\_disc5\\textbar{}-11.65\\textbar{};\\textbar{}CTCF\\_disc7\\textbar{}-3.57\\textbar{};\\textbar{}CTCF\\_disc8\\textbar{}-1.42\\textbar{};\\textbar{}CTCF\\_disc9\\textbar{}-0.85\\textbar{};\\textbar{}CTCF\\_known1\\textbar{}-6.19                     &       NA                                                                                                                                                                                                                                                                                                           &       NA                                                                                                                                                                                                                                                                                                           &       NA                                                                                                                                                                                                                                                                                                           &        NA                                                                                                                                                                                                                                                                                                         \\\\\n",
       "\t257 & chr10:102772840                                                                                                                                    & rs807019                                                                                                                                           &  2.347302e-69                                                                                                                                      &  6.250865e-66                                                                                                                                      & 0.1928509                                                                                                                                          & T                                                                                                                                                  & C                                                                                                                                                  & chr10:102772434-102773467                                                                                                                          & CTCF\\_disc7\\textbar{}3.69                                                                                                                        &       NA                                                                                                                                           &       NA                                                                                                                                           &       NA                                                                                                                                           &        NA                                                                                                                                         \\\\\n",
       "\\end{tabular}\n"
      ],
      "text/plain": [
       "     variantID       snpID      combined_pv   combined_fdr  new_maf   refAllele\n",
       "1230 chr19:19285989  rs7250650   0.000000e+00  0.000000e+00 0.7970010 A        \n",
       "365  chr10:77686741  rs4746340  7.111145e-108 5.681093e-104 0.9689231 C        \n",
       "206  chr1:46998674   .           6.113861e-87  3.663273e-83 0.9303603 C        \n",
       "1207 chr19:12876964  rs897804    5.353185e-85  2.565996e-81 0.9735427 G        \n",
       "1122 chr17:77038624  rs56182592  7.358686e-70  2.204570e-66 0.9372426 C        \n",
       "257  chr10:102772840 rs807019    2.347302e-69  6.250865e-66 0.1928509 T        \n",
       "     altAllele locus                    \n",
       "1230 T         chr19:19285696-19286272  \n",
       "365  G         chr10:77686554-77686958  \n",
       "206  T         chr1:46998375-46999125   \n",
       "1207 C         chr19:12876738-12877205  \n",
       "1122 T         chr17:77038355-77038819  \n",
       "257  C         chr10:102772434-102773467\n",
       "     Motif_haploreg                                                                                                                        \n",
       "1230 CTCF_disc5|-1.01|;|CTCF_known1|-5.55                                                                                                  \n",
       "365  CTCFL_disc1|-11.97|;|CTCF_disc2|-11.97|;|CTCF_known1|-11.93                                                                           \n",
       "206  NA                                                                                                                                    \n",
       "1207 CTCFL_disc1|-11.62|;|CTCF_disc1|-10.52|;|CTCF_disc2|-11.72|;|CTCF_disc5|-1.19|;|CTCF_disc7|-2.73|;|CTCF_disc8|1.59|;|CTCF_known1|-7.45\n",
       "1122 CTCF_disc2|-11.97|;|CTCF_disc5|-11.65|;|CTCF_disc7|-3.57|;|CTCF_disc8|-1.42|;|CTCF_disc9|-0.85|;|CTCF_known1|-6.19                    \n",
       "257  CTCF_disc7|3.69                                                                                                                       \n",
       "     TFM_score maxRefScore maxAltScore inhouse_scoreDiff\n",
       "1230       NA        NA          NA           NA        \n",
       "365        NA        NA          NA           NA        \n",
       "206  9.252218  11.57948    9.700444    -1.879033        \n",
       "1207 9.252218  12.77779    7.089118    -5.688669        \n",
       "1122       NA        NA          NA           NA        \n",
       "257        NA        NA          NA           NA        "
      ]
     },
     "metadata": {},
     "output_type": "display_data"
    }
   ],
   "source": [
    "final=final[order(final$combined_fdr), ]\n",
    "head(final)"
   ]
  },
  {
   "cell_type": "code",
   "execution_count": 32,
   "metadata": {
    "collapsed": true
   },
   "outputs": [],
   "source": [
    "colnames(final)[5]=\"ase_ref_freq\""
   ]
  },
  {
   "cell_type": "code",
   "execution_count": 33,
   "metadata": {
    "collapsed": true
   },
   "outputs": [],
   "source": [
    "write.table(final, \"SRF_meta_peaks/CTCF_motifs_analysis_ase_snv.txt\", sep=\"\\t\", quote=F, row.names=F)"
   ]
  },
  {
   "cell_type": "markdown",
   "metadata": {},
   "source": [
    "### Figures"
   ]
  },
  {
   "cell_type": "code",
   "execution_count": 34,
   "metadata": {
    "collapsed": true
   },
   "outputs": [],
   "source": [
    "suppressPackageStartupMessages(library(seqLogo))\n",
    "suppressPackageStartupMessages(library(seqinr))\n",
    "suppressPackageStartupMessages(library(Biostrings))"
   ]
  },
  {
   "cell_type": "code",
   "execution_count": 2,
   "metadata": {
    "collapsed": false
   },
   "outputs": [
    {
     "data": {
      "text/html": [
       "<table>\n",
       "<thead><tr><th scope=col>variantID</th><th scope=col>snpID</th><th scope=col>combined_pv</th><th scope=col>combined_fdr</th><th scope=col>ase_ref_freq</th><th scope=col>refAllele</th><th scope=col>altAllele</th><th scope=col>locus</th><th scope=col>Motif_haploreg</th><th scope=col>TFM_score</th><th scope=col>maxRefScore</th><th scope=col>maxAltScore</th><th scope=col>inhouse_scoreDiff</th></tr></thead>\n",
       "<tbody>\n",
       "\t<tr><td>chr19:19285989                                                                                                                        </td><td>rs7250650                                                                                                                             </td><td> 0.000000e+00                                                                                                                         </td><td> 0.000000e+00                                                                                                                         </td><td>0.7970010                                                                                                                             </td><td>A                                                                                                                                     </td><td>T                                                                                                                                     </td><td>chr19:19285696-19286272                                                                                                               </td><td>CTCF_disc5|-1.01|;|CTCF_known1|-5.55                                                                                                  </td><td>      NA                                                                                                                              </td><td>      NA                                                                                                                              </td><td>      NA                                                                                                                              </td><td>       NA                                                                                                                             </td></tr>\n",
       "\t<tr><td>chr10:77686741                                                                                                                        </td><td>rs4746340                                                                                                                             </td><td>7.111145e-108                                                                                                                         </td><td>5.681093e-104                                                                                                                         </td><td>0.9689231                                                                                                                             </td><td>C                                                                                                                                     </td><td>G                                                                                                                                     </td><td>chr10:77686554-77686958                                                                                                               </td><td>CTCFL_disc1|-11.97|;|CTCF_disc2|-11.97|;|CTCF_known1|-11.93                                                                           </td><td>      NA                                                                                                                              </td><td>      NA                                                                                                                              </td><td>      NA                                                                                                                              </td><td>       NA                                                                                                                             </td></tr>\n",
       "\t<tr><td>chr1:46998674                                                                                                                         </td><td>.                                                                                                                                     </td><td> 6.113861e-87                                                                                                                         </td><td> 3.663273e-83                                                                                                                         </td><td>0.9303603                                                                                                                             </td><td>C                                                                                                                                     </td><td>T                                                                                                                                     </td><td>chr1:46998375-46999125                                                                                                                </td><td>NA                                                                                                                                    </td><td>9.252218                                                                                                                              </td><td>11.57948                                                                                                                              </td><td>9.700444                                                                                                                              </td><td>-1.879033                                                                                                                             </td></tr>\n",
       "\t<tr><td>chr19:12876964                                                                                                                        </td><td>rs897804                                                                                                                              </td><td> 5.353185e-85                                                                                                                         </td><td> 2.565996e-81                                                                                                                         </td><td>0.9735427                                                                                                                             </td><td>G                                                                                                                                     </td><td>C                                                                                                                                     </td><td>chr19:12876738-12877205                                                                                                               </td><td>CTCFL_disc1|-11.62|;|CTCF_disc1|-10.52|;|CTCF_disc2|-11.72|;|CTCF_disc5|-1.19|;|CTCF_disc7|-2.73|;|CTCF_disc8|1.59|;|CTCF_known1|-7.45</td><td>9.252218                                                                                                                              </td><td>12.77779                                                                                                                              </td><td>7.089118                                                                                                                              </td><td>-5.688669                                                                                                                             </td></tr>\n",
       "\t<tr><td>chr17:77038624                                                                                                                        </td><td>rs56182592                                                                                                                            </td><td> 7.358686e-70                                                                                                                         </td><td> 2.204570e-66                                                                                                                         </td><td>0.9372426                                                                                                                             </td><td>C                                                                                                                                     </td><td>T                                                                                                                                     </td><td>chr17:77038355-77038819                                                                                                               </td><td>CTCF_disc2|-11.97|;|CTCF_disc5|-11.65|;|CTCF_disc7|-3.57|;|CTCF_disc8|-1.42|;|CTCF_disc9|-0.85|;|CTCF_known1|-6.19                    </td><td>      NA                                                                                                                              </td><td>      NA                                                                                                                              </td><td>      NA                                                                                                                              </td><td>       NA                                                                                                                             </td></tr>\n",
       "\t<tr><td>chr10:102772840                                                                                                                       </td><td>rs807019                                                                                                                              </td><td> 2.347302e-69                                                                                                                         </td><td> 6.250865e-66                                                                                                                         </td><td>0.1928509                                                                                                                             </td><td>T                                                                                                                                     </td><td>C                                                                                                                                     </td><td>chr10:102772434-102773467                                                                                                             </td><td>CTCF_disc7|3.69                                                                                                                       </td><td>      NA                                                                                                                              </td><td>      NA                                                                                                                              </td><td>      NA                                                                                                                              </td><td>       NA                                                                                                                             </td></tr>\n",
       "</tbody>\n",
       "</table>\n"
      ],
      "text/latex": [
       "\\begin{tabular}{r|lllllllllllll}\n",
       " variantID & snpID & combined\\_pv & combined\\_fdr & ase\\_ref\\_freq & refAllele & altAllele & locus & Motif\\_haploreg & TFM\\_score & maxRefScore & maxAltScore & inhouse\\_scoreDiff\\\\\n",
       "\\hline\n",
       "\t chr19:19285989                                                                                                                                                                     & rs7250650                                                                                                                                                                          &  0.000000e+00                                                                                                                                                                      &  0.000000e+00                                                                                                                                                                      & 0.7970010                                                                                                                                                                          & A                                                                                                                                                                                  & T                                                                                                                                                                                  & chr19:19285696-19286272                                                                                                                                                            & CTCF\\_disc5\\textbar{}-1.01\\textbar{};\\textbar{}CTCF\\_known1\\textbar{}-5.55                                                                                                   &       NA                                                                                                                                                                           &       NA                                                                                                                                                                           &       NA                                                                                                                                                                           &        NA                                                                                                                                                                         \\\\\n",
       "\t chr10:77686741                                                                                                                                                                                                     & rs4746340                                                                                                                                                                                                          & 7.111145e-108                                                                                                                                                                                                      & 5.681093e-104                                                                                                                                                                                                      & 0.9689231                                                                                                                                                                                                          & C                                                                                                                                                                                                                  & G                                                                                                                                                                                                                  & chr10:77686554-77686958                                                                                                                                                                                            & CTCFL\\_disc1\\textbar{}-11.97\\textbar{};\\textbar{}CTCF\\_disc2\\textbar{}-11.97\\textbar{};\\textbar{}CTCF\\_known1\\textbar{}-11.93                                                                            &       NA                                                                                                                                                                                                           &       NA                                                                                                                                                                                                           &       NA                                                                                                                                                                                                           &        NA                                                                                                                                                                                                         \\\\\n",
       "\t chr1:46998674                                                                                                                          & .                                                                                                                                      &  6.113861e-87                                                                                                                          &  3.663273e-83                                                                                                                          & 0.9303603                                                                                                                              & C                                                                                                                                      & T                                                                                                                                      & chr1:46998375-46999125                                                                                                                 & NA                                                                                                                                     & 9.252218                                                                                                                               & 11.57948                                                                                                                               & 9.700444                                                                                                                               & -1.879033                                                                                                                             \\\\\n",
       "\t chr19:12876964                                                                                                                                                                                                                                                                                                                                     & rs897804                                                                                                                                                                                                                                                                                                                                           &  5.353185e-85                                                                                                                                                                                                                                                                                                                                      &  2.565996e-81                                                                                                                                                                                                                                                                                                                                      & 0.9735427                                                                                                                                                                                                                                                                                                                                          & G                                                                                                                                                                                                                                                                                                                                                  & C                                                                                                                                                                                                                                                                                                                                                  & chr19:12876738-12877205                                                                                                                                                                                                                                                                                                                            & CTCFL\\_disc1\\textbar{}-11.62\\textbar{};\\textbar{}CTCF\\_disc1\\textbar{}-10.52\\textbar{};\\textbar{}CTCF\\_disc2\\textbar{}-11.72\\textbar{};\\textbar{}CTCF\\_disc5\\textbar{}-1.19\\textbar{};\\textbar{}CTCF\\_disc7\\textbar{}-2.73\\textbar{};\\textbar{}CTCF\\_disc8\\textbar{}1.59\\textbar{};\\textbar{}CTCF\\_known1\\textbar{}-7.45 & 9.252218                                                                                                                                                                                                                                                                                                                                           & 12.77779                                                                                                                                                                                                                                                                                                                                           & 7.089118                                                                                                                                                                                                                                                                                                                                           & -5.688669                                                                                                                                                                                                                                                                                                                                         \\\\\n",
       "\t chr17:77038624                                                                                                                                                                                                                                                                                                     & rs56182592                                                                                                                                                                                                                                                                                                         &  7.358686e-70                                                                                                                                                                                                                                                                                                      &  2.204570e-66                                                                                                                                                                                                                                                                                                      & 0.9372426                                                                                                                                                                                                                                                                                                          & C                                                                                                                                                                                                                                                                                                                  & T                                                                                                                                                                                                                                                                                                                  & chr17:77038355-77038819                                                                                                                                                                                                                                                                                            & CTCF\\_disc2\\textbar{}-11.97\\textbar{};\\textbar{}CTCF\\_disc5\\textbar{}-11.65\\textbar{};\\textbar{}CTCF\\_disc7\\textbar{}-3.57\\textbar{};\\textbar{}CTCF\\_disc8\\textbar{}-1.42\\textbar{};\\textbar{}CTCF\\_disc9\\textbar{}-0.85\\textbar{};\\textbar{}CTCF\\_known1\\textbar{}-6.19                     &       NA                                                                                                                                                                                                                                                                                                           &       NA                                                                                                                                                                                                                                                                                                           &       NA                                                                                                                                                                                                                                                                                                           &        NA                                                                                                                                                                                                                                                                                                         \\\\\n",
       "\t chr10:102772840                                                                                                                                    & rs807019                                                                                                                                           &  2.347302e-69                                                                                                                                      &  6.250865e-66                                                                                                                                      & 0.1928509                                                                                                                                          & T                                                                                                                                                  & C                                                                                                                                                  & chr10:102772434-102773467                                                                                                                          & CTCF\\_disc7\\textbar{}3.69                                                                                                                        &       NA                                                                                                                                           &       NA                                                                                                                                           &       NA                                                                                                                                           &        NA                                                                                                                                         \\\\\n",
       "\\end{tabular}\n"
      ],
      "text/plain": [
       "  variantID       snpID      combined_pv   combined_fdr  ase_ref_freq refAllele\n",
       "1 chr19:19285989  rs7250650   0.000000e+00  0.000000e+00 0.7970010    A        \n",
       "2 chr10:77686741  rs4746340  7.111145e-108 5.681093e-104 0.9689231    C        \n",
       "3 chr1:46998674   .           6.113861e-87  3.663273e-83 0.9303603    C        \n",
       "4 chr19:12876964  rs897804    5.353185e-85  2.565996e-81 0.9735427    G        \n",
       "5 chr17:77038624  rs56182592  7.358686e-70  2.204570e-66 0.9372426    C        \n",
       "6 chr10:102772840 rs807019    2.347302e-69  6.250865e-66 0.1928509    T        \n",
       "  altAllele locus                    \n",
       "1 T         chr19:19285696-19286272  \n",
       "2 G         chr10:77686554-77686958  \n",
       "3 T         chr1:46998375-46999125   \n",
       "4 C         chr19:12876738-12877205  \n",
       "5 T         chr17:77038355-77038819  \n",
       "6 C         chr10:102772434-102773467\n",
       "  Motif_haploreg                                                                                                                        \n",
       "1 CTCF_disc5|-1.01|;|CTCF_known1|-5.55                                                                                                  \n",
       "2 CTCFL_disc1|-11.97|;|CTCF_disc2|-11.97|;|CTCF_known1|-11.93                                                                           \n",
       "3 NA                                                                                                                                    \n",
       "4 CTCFL_disc1|-11.62|;|CTCF_disc1|-10.52|;|CTCF_disc2|-11.72|;|CTCF_disc5|-1.19|;|CTCF_disc7|-2.73|;|CTCF_disc8|1.59|;|CTCF_known1|-7.45\n",
       "5 CTCF_disc2|-11.97|;|CTCF_disc5|-11.65|;|CTCF_disc7|-3.57|;|CTCF_disc8|-1.42|;|CTCF_disc9|-0.85|;|CTCF_known1|-6.19                    \n",
       "6 CTCF_disc7|3.69                                                                                                                       \n",
       "  TFM_score maxRefScore maxAltScore inhouse_scoreDiff\n",
       "1       NA        NA          NA           NA        \n",
       "2       NA        NA          NA           NA        \n",
       "3 9.252218  11.57948    9.700444    -1.879033        \n",
       "4 9.252218  12.77779    7.089118    -5.688669        \n",
       "5       NA        NA          NA           NA        \n",
       "6       NA        NA          NA           NA        "
      ]
     },
     "metadata": {},
     "output_type": "display_data"
    }
   ],
   "source": [
    "setwd(\"/frazer01/home/paola/Motif_AnalysisR_all\")\n",
    "tab = read.table(\"SRF_meta_peaks/CTCF_motifs_analysis_ase_snv.txt\", sep=\"\\t\", header=T)\n",
    "head(tab)"
   ]
  },
  {
   "cell_type": "code",
   "execution_count": 52,
   "metadata": {
    "collapsed": false
   },
   "outputs": [],
   "source": [
    "tab$same_dir= tab$inhouse_scoreDiff*(tab$ase_ref_freq-0.5)<0"
   ]
  },
  {
   "cell_type": "code",
   "execution_count": 53,
   "metadata": {
    "collapsed": false
   },
   "outputs": [
    {
     "data": {
      "text/html": [
       "<ol class=list-inline>\n",
       "\t<li>750</li>\n",
       "\t<li>14</li>\n",
       "</ol>\n"
      ],
      "text/latex": [
       "\\begin{enumerate*}\n",
       "\\item 750\n",
       "\\item 14\n",
       "\\end{enumerate*}\n"
      ],
      "text/markdown": [
       "1. 750\n",
       "2. 14\n",
       "\n",
       "\n"
      ],
      "text/plain": [
       "[1] 750  14"
      ]
     },
     "metadata": {},
     "output_type": "display_data"
    },
    {
     "data": {
      "text/html": [
       "<ol class=list-inline>\n",
       "\t<li>165</li>\n",
       "\t<li>14</li>\n",
       "</ol>\n"
      ],
      "text/latex": [
       "\\begin{enumerate*}\n",
       "\\item 165\n",
       "\\item 14\n",
       "\\end{enumerate*}\n"
      ],
      "text/markdown": [
       "1. 165\n",
       "2. 14\n",
       "\n",
       "\n"
      ],
      "text/plain": [
       "[1] 165  14"
      ]
     },
     "metadata": {},
     "output_type": "display_data"
    }
   ],
   "source": [
    "dim(tab)\n",
    "tab_ss = subset(tab,    !is.na(inhouse_scoreDiff))\n",
    "dim(tab_ss)"
   ]
  },
  {
   "cell_type": "code",
   "execution_count": 54,
   "metadata": {
    "collapsed": false
   },
   "outputs": [
    {
     "data": {
      "text/plain": [
       "\n",
       "FALSE  TRUE \n",
       "   21   144 "
      ]
     },
     "metadata": {},
     "output_type": "display_data"
    }
   ],
   "source": [
    "table(tab_ss$same_dir)"
   ]
  },
  {
   "cell_type": "code",
   "execution_count": 55,
   "metadata": {
    "collapsed": false
   },
   "outputs": [],
   "source": [
    "tab_ss$ase_alt_freq = 1-tab_ss$ase_ref_freq"
   ]
  },
  {
   "cell_type": "code",
   "execution_count": 57,
   "metadata": {
    "collapsed": true
   },
   "outputs": [],
   "source": [
    "sigSites<-read.table(paste(name,'analysis/AlleleAlteringSites_scores_1.txt',sep=\"/\"), header=T, stringsAsFactors=F)\n",
    "sigSites<-merge( sigSites, tab_ss[, c(\"same_dir\", \"ase_alt_freq\", \"variantID\")], by.x=\"SNP\", by.y=\"variantID\" )\n",
    "dim(sigSites)"
   ]
  },
  {
   "cell_type": "code",
   "execution_count": 66,
   "metadata": {
    "collapsed": false
   },
   "outputs": [
    {
     "name": "stdout",
     "output_type": "stream",
     "text": [
      "1"
     ]
    },
    {
     "data": {
      "text/html": [
       "<strong>png:</strong> 2"
      ],
      "text/latex": [
       "\\textbf{png:} 2"
      ],
      "text/markdown": [
       "**png:** 2"
      ],
      "text/plain": [
       "png \n",
       "  2 "
      ]
     },
     "metadata": {},
     "output_type": "display_data"
    }
   ],
   "source": [
    "pdf(\"Figures.pdf\")\n",
    "par(pin=c(2,2), mfrow = c(2,2))\n",
    "\n",
    "####PIE CHART\n",
    "slices <- table(tab_ss$same_dir)\n",
    "pct <- round(slices/sum(slices)*100)\n",
    "lbls <- paste(pct, \"%\", sep=\"\") # add percents to labels \n",
    "lbls = paste(c(\"lower\" , \"higher\"), \"motif score\", lbls, sep=\"\\n\")\n",
    "pie(slices,labels = lbls, col=c(\"dodgerblue3\", \"orangered2\"), main=\"Preferred ASE allele has\")   \n",
    "\n",
    "\n",
    "####SCATTERPLOT\n",
    "plot(inhouse_scoreDiff~ase_alt_freq, tab_ss, pch=19, col=c(\"dodgerblue3\", \"orangered2\")[tab_ss$same_dir+1] ,\n",
    "    xlab = \"ASE Proportion alt. allele\", ylab=\"alt - ref motif score\")\n",
    "l  = lm(inhouse_scoreDiff~ ase_alt_freq, tab_ss)\n",
    "abline(l)\n",
    "abline(v= 0.5, h=0, lty=2, col=\"gray\")\n",
    "co = cor.test(tab_ss$ase_alt_freq, tab_ss$inhouse_scoreDiff, method=\"spearman\", exact=F)\n",
    "text (0.2, 6, paste( \"rho=\",round(co$estimate,2), \"\\n P=\",signif(co$p.value,1) ),cex=1.1)\n",
    "\n",
    "####HISTOGRRAM\n",
    "motifs = \"CTCF_Boris\"\n",
    "par(pin=c(3,1))\n",
    "\n",
    "for (f in 1:length(motifs)) {\n",
    "    cat (f)\n",
    "  mo1 <- subset(sigSites, Motif == motifs[f])\n",
    "  mo=mo1[mo1$same_dir ==TRUE, ]\n",
    "  position=21-mo$maxRefScorePos\n",
    "  position[mo$ref_freq < 0.5]<-21-mo$maxAltScorePos[mo$ref_freq < 0.5]\n",
    "  sequence_min=as.character(mo$Seq_atMaxRefSite)\n",
    "  sequence_min[mo$ref_freq < 0.5]=as.character(mo$Seq_atMaxAltSite[mo$ref_freq < 0.5])\n",
    "  consensus_min=consensusMatrix(sequence_min, as.prob=T)\n",
    "  hist(position, breaks=seq(0,ncol(consensus_min),by=1), xaxt='n', density=15, \n",
    "       freq = TRUE, main=motifs[f], las=2, cex.axis=0.8, col=\"orangered2\")\n",
    "  \n",
    "  mo=mo1[mo1$same_dir == FALSE, ]\n",
    "  position=21-mo$maxRefScorePos\n",
    "  position[mo$ref_freq >0.5]<-21-mo$maxAltScorePos[mo$ref_freq > 0.5]\n",
    " \n",
    "  hist(position, breaks=seq(0,ncol(consensus_min),by=1), xaxt='n', density=15, \n",
    "       freq = TRUE, main=motifs[f], las=2, cex.axis=1, add=T, col=\"dodgerblue3\")\n",
    "  axis(side=1, at=seq(0.5,ncol(consensus_min)-0.5), labels=seq(1,ncol(consensus_min)), cex.axis=0.8)\n",
    "}\n",
    "dev.off()\n"
   ]
  },
  {
   "cell_type": "code",
   "execution_count": null,
   "metadata": {
    "collapsed": true
   },
   "outputs": [],
   "source": []
  }
 ],
 "metadata": {
  "kernelspec": {
   "display_name": "R",
   "language": "R",
   "name": "ir"
  },
  "language_info": {
   "codemirror_mode": "r",
   "file_extension": ".r",
   "mimetype": "text/x-r-source",
   "name": "R",
   "pygments_lexer": "r",
   "version": "3.2.2"
  }
 },
 "nbformat": 4,
 "nbformat_minor": 0
}
