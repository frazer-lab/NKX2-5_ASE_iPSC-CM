{
 "cells": [
  {
   "cell_type": "markdown",
   "metadata": {},
   "source": [
    "### Heatmap of the top fGWAS results"
   ]
  },
  {
   "cell_type": "code",
   "execution_count": 21,
   "metadata": {},
   "outputs": [],
   "source": [
    "setwd(\"~/Family1070/private_output/Fgwas/\")"
   ]
  },
  {
   "cell_type": "code",
   "execution_count": 22,
   "metadata": {
    "collapsed": true
   },
   "outputs": [],
   "source": [
    "library(plotrix)\n",
    "suppressPackageStartupMessages(library(gplots))"
   ]
  },
  {
   "cell_type": "code",
   "execution_count": 3,
   "metadata": {},
   "outputs": [],
   "source": [
    "res = read.table('~/Family1070/private_output/fgwas_analysis/PR_interval/pipeline_out/Final_Model/Final_Model.bfs', header=T)\n",
    "seg = read.table('~/Family1070/private_output/fgwas_analysis/PR_interval/pipeline_out/Final_Model/Final_Model.segbfs', header=T)\n",
    "res = merge(res,seg[,c('chunk', 'PPA')], by=\"chunk\" )\n",
    "res$PPA = res$PPA.x *res$PPA.y\n",
    "res = res[order(res$PPA, decreasing=T),]"
   ]
  },
  {
   "cell_type": "markdown",
   "metadata": {},
   "source": [
    "*Choose a cutoff of  PPA, then re-adjust the PPA by multipling by 1 if the Locus is known"
   ]
  },
  {
   "cell_type": "code",
   "execution_count": 4,
   "metadata": {},
   "outputs": [],
   "source": [
    "seg = res[res$PPA >0.3, ]"
   ]
  },
  {
   "cell_type": "code",
   "execution_count": 5,
   "metadata": {},
   "outputs": [],
   "source": [
    "gwas = \"/publicdata/gwas_summary_stats_20180124/vanSetten_2018/PR_interval_July2018_summary_results.hg19.txt\"\n",
    "p = paste( \"grep -E '\", paste(seg$id, collapse=\"|\"), \"' \", gwas ,\" > PR_interval_selected_variants.tsv\", sep=\"\")"
   ]
  },
  {
   "cell_type": "code",
   "execution_count": 6,
   "metadata": {},
   "outputs": [],
   "source": [
    "system(p)"
   ]
  },
  {
   "cell_type": "code",
   "execution_count": 7,
   "metadata": {
    "collapsed": true
   },
   "outputs": [],
   "source": [
    "r = read.table(\"PR_interval_selected_variants.tsv\")"
   ]
  },
  {
   "cell_type": "code",
   "execution_count": 8,
   "metadata": {},
   "outputs": [],
   "source": [
    "seg = merge(seg, r[,c('V2', 'V10')], by.x=\"id\", by.y=\"V2\")\n",
    "colnames(seg)[ncol(seg)] = \"P_value\"\n"
   ]
  },
  {
   "cell_type": "code",
   "execution_count": 9,
   "metadata": {},
   "outputs": [],
   "source": [
    "writeLines(as.character(seg$id), \"TOP_rs_variants_PR\")"
   ]
  },
  {
   "cell_type": "code",
   "execution_count": 10,
   "metadata": {
    "collapsed": true
   },
   "outputs": [],
   "source": [
    "system(\"module load cardips\")\n",
    "\n",
    "command1 = \"vcftools --vcf /publicdata/haploreg_v4.0_20151021/haploreg_v4.0_20151021.vcf --snps TOP_rs_variants_PR --recode --recode-INFO-all --out PR_interval\"\n",
    "### double escape to use in R\n",
    "command2 = paste(\"bcftools query -f \", \"'%ID\\\\t%INFO/DBSNP\\\\t%INFO/NEAREST_GENCODE\\\\n' \",\n",
    "                    \"PR_interval.recode.vcf > PR_haploreg.tab\", sep=\"\")\n",
    "           \n",
    "system(command1)\n",
    "system(command2)"
   ]
  },
  {
   "cell_type": "code",
   "execution_count": 11,
   "metadata": {},
   "outputs": [],
   "source": [
    "a = read.table(\"PR_haploreg.tab\")\n",
    "\n",
    "colnames(a)=c('id', 'dbSNP', 'gencode')\n",
    "\n",
    "seg = merge(seg, a, by=1)"
   ]
  },
  {
   "cell_type": "code",
   "execution_count": 12,
   "metadata": {
    "collapsed": true
   },
   "outputs": [],
   "source": [
    "seg = seg[order(seg$PPA, decreasing=T),]\n",
    "write.csv(seg, 'fgwas_results_PR_interval.csv', row.names=FALSE)"
   ]
  },
  {
   "cell_type": "code",
   "execution_count": 13,
   "metadata": {},
   "outputs": [],
   "source": [
    "seg = subset(seg, dbSNP!=\"NSM\")"
   ]
  },
  {
   "cell_type": "code",
   "execution_count": 14,
   "metadata": {
    "collapsed": true
   },
   "outputs": [],
   "source": [
    "se = seg[,c('NKX25_ASE','NKX25','H3K27AC','ATAC')]"
   ]
  },
  {
   "cell_type": "code",
   "execution_count": 15,
   "metadata": {
    "collapsed": true
   },
   "outputs": [],
   "source": [
    "mat = seg[rowSums(se)>0 & seg$P_value<1e-3 , c('id',  'PPA','NKX25_ASE','NKX25','H3K27AC','ATAC')]"
   ]
  },
  {
   "cell_type": "code",
   "execution_count": 16,
   "metadata": {},
   "outputs": [],
   "source": [
    "mat$GWAS_P = mat$id %in% seg$id[seg$P_value<1e-8]\n",
    "#mat$GWAS_other      = mat$id %in% seg$id[seg$P_value<1e-4]\n",
    "\n",
    "mat2 = mat[,2:length(mat)]\n",
    "rownames(mat2)=mat$id\n",
    "\n",
    "lab = mat2\n",
    "lab[, 2:length(mat2)]<-NA\n",
    "lab[,1]<-round(lab[,1],2)\n",
    "\n",
    "suppressPackageStartupMessages(library(RColorBrewer))\n",
    "cols = brewer.pal(9, \"Reds\")[2:8]\n",
    "\n",
    "breaks=seq(0.5, 1.1, by=0.1) # cutoff 0.5\n",
    "breaks=seq(0.3, 1.1, by=0.1) # cutoff 0.3\n",
    "\n",
    "my_palette = c(colorRampPalette(cols)(length(breaks)-2), \"orange\")"
   ]
  },
  {
   "cell_type": "code",
   "execution_count": 17,
   "metadata": {
    "collapsed": true
   },
   "outputs": [],
   "source": [
    "mat2[mat2==0]<- NA\n",
    "mat2[mat2==TRUE]<- 1\n",
    "mat2[mat2==1]<- 2"
   ]
  },
  {
   "cell_type": "code",
   "execution_count": null,
   "metadata": {},
   "outputs": [],
   "source": [
    "#pdf('Table_snps_NKX_PR_new.pdf')\n",
    "heatmap.2(as.matrix(mat2[1:5,]), \n",
    "         Colv=F,Rowv=F, srtRow=0, srtCol=45, offsetRow=-1, offsetCol=-0.5,dendrogram=\"none\",\n",
    "          keysize=1, margins =c(30,26), trace=\"none\",key.title=\"OR\", tracecol=NA,\n",
    "          cexRow=1, cexCol=1, na.color=\"white\", col=my_palette, breaks=breaks, cellnote=lab, notecex=0.8)\n",
    "#dev.off()"
   ]
  },
  {
   "cell_type": "markdown",
   "metadata": {},
   "source": [
    "### Forest plot of the parametes aenriched"
   ]
  },
  {
   "cell_type": "code",
   "execution_count": 23,
   "metadata": {
    "collapsed": true
   },
   "outputs": [],
   "source": [
    "params= data.frame()\n",
    "for (tr in  c(\"HR\", 'A_fib','PR_interval' )){\n",
    "par = read.table(paste(\"../fgwas_analysis/\", tr, \"/pipeline_out/Final_Model/Final_Model.params\", sep=\"\"), header=T, \n",
    "                          stringsAsFactor=F, sep=\" \") \n",
    " par$trait = tr   \n",
    "par = par[-1,]\n",
    "params =  rbind(params, par)\n",
    "    }\n",
    "                    \n"
   ]
  },
  {
   "cell_type": "code",
   "execution_count": 24,
   "metadata": {},
   "outputs": [],
   "source": [
    "params$parameter = substr(params$parameter, 1, nchar(params$parameter)-3)"
   ]
  },
  {
   "cell_type": "code",
   "execution_count": 25,
   "metadata": {},
   "outputs": [],
   "source": [
    "params[4, 2:3] <- -6\n",
    "params[10, 2:3] <- -6\n",
    "params[15, 2] <- -6"
   ]
  },
  {
   "cell_type": "code",
   "execution_count": 26,
   "metadata": {},
   "outputs": [],
   "source": [
    "params$CI_lo = as.numeric(params$CI_lo)"
   ]
  },
  {
   "cell_type": "code",
   "execution_count": 27,
   "metadata": {},
   "outputs": [],
   "source": [
    "#params = params[order(params$parameter),]"
   ]
  },
  {
   "cell_type": "code",
   "execution_count": 28,
   "metadata": {
    "collapsed": true
   },
   "outputs": [],
   "source": [
    "#params = params[order(params$trait),]"
   ]
  },
  {
   "cell_type": "code",
   "execution_count": 31,
   "metadata": {
    "collapsed": true
   },
   "outputs": [],
   "source": [
    "save =params"
   ]
  },
  {
   "cell_type": "code",
   "execution_count": 249,
   "metadata": {},
   "outputs": [
    {
     "data": {
      "text/html": [
       "<strong>png:</strong> 2"
      ],
      "text/latex": [
       "\\textbf{png:} 2"
      ],
      "text/markdown": [
       "**png:** 2"
      ],
      "text/plain": [
       "png \n",
       "  2 "
      ]
     },
     "metadata": {},
     "output_type": "display_data"
    }
   ],
   "source": [
    "options(warn=-1)\n",
    "pdf('/frazer01/home/paola/Family1070/private_output/Fgwas/Enrichment_fgwas_final_model.pdf')\n",
    "colors=c(rep(c(\"orange\",\"gray20\", \"deepskyblue3\"),5))\n",
    "colors=c(rep(c(\"deepskyblue3\",\"gray30\", \"orange\"), each=5))\n",
    "\n",
    "par(mfrow=c(2,2), pin=c(1.5,2), las=1)\n",
    "plotCI(x=params$estimate, y=15:1, ui=params$CI_hi, li=params$CI_lo, err=\"x\", xlim=c(-6,+6),\n",
    "        col=colors, pch=c(19,1)[(params$CI_lo<0)+1], cex=1.2, lwd=2,\n",
    "       sfrac=0,gap=0,  add=FALSE, xlab=\"fgwas ln(Enrichment)\" , ylab=\"\", axes=F)\n",
    "axis(side=2, at=15:1, label=params$parameter)         \n",
    "axis(side=1, at=-6:6 , label=-6:6)\n",
    "box()\n",
    "grid()\n",
    "abline(v=0, lwd=1, lty=2, col=\"red\")\n",
    "options(warn=0)\n",
    "dev.off()"
   ]
  },
  {
   "cell_type": "code",
   "execution_count": 44,
   "metadata": {},
   "outputs": [
    {
     "data": {
      "text/html": [
       "<strong>png:</strong> 2"
      ],
      "text/latex": [
       "\\textbf{png:} 2"
      ],
      "text/markdown": [
       "**png:** 2"
      ],
      "text/plain": [
       "png \n",
       "  2 "
      ]
     },
     "metadata": {},
     "output_type": "display_data"
    }
   ],
   "source": [
    "options(warn=-1)\n",
    "pdf('/frazer01/home/paola/Family1070/private_output/Fgwas/Enrichment_fgwas_heart_rate.pdf')\n",
    "colors=c(rep(c(\"deepskyblue3\",\"gray30\", \"orange\"), each=5))\n",
    "params = save[1:5,]\n",
    "par(mfrow=c(2,2), pin=c(1.5,1), las=1)\n",
    "plotCI(x=params$estimate, y=5:1, ui=params$CI_hi, li=params$CI_lo, err=\"x\", xlim=c(-6,+6),\n",
    "        col=colors, pch=c(19,1)[(params$CI_lo<0)+1], cex=1.2, lwd=2,\n",
    "       sfrac=0,gap=0,  add=FALSE, xlab=\"fgwas ln(Enrichment)\" , ylab=\"\", axes=F)\n",
    "axis(side=2, at=5:1, label=params$parameter)         \n",
    "axis(side=1, at=-6:6 , label=-6:6)\n",
    "box()\n",
    "grid()\n",
    "abline(v=0, lwd=1, lty=2, col=\"red\")\n",
    "options(warn=0)\n",
    "dev.off()"
   ]
  },
  {
   "cell_type": "code",
   "execution_count": 43,
   "metadata": {},
   "outputs": [
    {
     "data": {
      "text/html": [
       "<strong>png:</strong> 2"
      ],
      "text/latex": [
       "\\textbf{png:} 2"
      ],
      "text/markdown": [
       "**png:** 2"
      ],
      "text/plain": [
       "png \n",
       "  2 "
      ]
     },
     "metadata": {},
     "output_type": "display_data"
    }
   ],
   "source": [
    "options(warn=-1)\n",
    "colors=c(rep(c(\"gray30\", \"orange\"), each=5))\n",
    "pdf('/frazer01/home/paola/Family1070/private_output/Fgwas/Enrichment_fgwas_AF_PR.pdf')\n",
    "\n",
    "params = save[6:15,]\n",
    "par(mfrow=c(2,2), pin=c(1.5,1.5), las=1)\n",
    "plotCI(x=params$estimate, y=10:1, ui=params$CI_hi, li=params$CI_lo, err=\"x\", xlim=c(-6,+6),\n",
    "        col=colors, pch=c(19,1)[(params$CI_lo<0)+1], cex=1.2, lwd=2,\n",
    "       sfrac=0,gap=0,  add=FALSE, xlab=\"fgwas ln(Enrichment)\" , ylab=\"\", axes=F)\n",
    "axis(side=2, at=10:1, label=params$parameter)         \n",
    "axis(side=1, at=-6:6 , label=-6:6)\n",
    "box()\n",
    "grid()\n",
    "abline(v=0, lwd=1, lty=2, col=\"red\")\n",
    "options(warn=0)\n",
    "dev.off()"
   ]
  },
  {
   "cell_type": "code",
   "execution_count": 233,
   "metadata": {
    "collapsed": true
   },
   "outputs": [],
   "source": [
    "get_single_enrichment = function(dir) {\n",
    "\n",
    "files = list.files(paste(dir,\"pipeline_out/Buildup_Model/First_Run\",sep=\"/\"))\n",
    "files = files[grepl(pattern=\"params\", x=files)]\n",
    "for (file in files){\n",
    "solo = read.table(paste(dir,\"pipeline_out/Buildup_Model/First_Run\",sep=\"/\", file),  \n",
    "                  header=T, stringsAsFactors=F)\n",
    "if(file == files[1]){\n",
    "    combo = solo\n",
    "} else {\n",
    "    combo = rbind(combo, solo)   \n",
    "    }\n",
    "    }\n",
    "return(combo)\n",
    "}"
   ]
  },
  {
   "cell_type": "code",
   "execution_count": 234,
   "metadata": {},
   "outputs": [],
   "source": [
    "singpar=data.frame()\n",
    "for (tr in  c(\"HR\", 'A_fib','PR_interval' )){\n",
    "dir = paste(\"../fgwas_analysis/\", tr, sep=\"\")\n",
    "par = get_single_enrichment(dir= dir)\n",
    "par = par[par$parameter!=\"pi_region\",]\n",
    "par$trait = tr  \n",
    "singpar =  rbind(singpar, par)\n",
    "    }"
   ]
  },
  {
   "cell_type": "code",
   "execution_count": 235,
   "metadata": {},
   "outputs": [],
   "source": [
    "singpar[2, 2:3] <- -6\n",
    "singpar[7, 2:3] <- -6\n",
    "singpar[12, 2] <- -6"
   ]
  },
  {
   "cell_type": "code",
   "execution_count": 236,
   "metadata": {
    "collapsed": true
   },
   "outputs": [],
   "source": [
    "singpar$CI_lo = as.numeric(singpar$CI_lo)"
   ]
  },
  {
   "cell_type": "code",
   "execution_count": 242,
   "metadata": {
    "collapsed": true
   },
   "outputs": [],
   "source": [
    "singpar = singpar[with(singpar, order(trait, -estimate)),]"
   ]
  },
  {
   "cell_type": "code",
   "execution_count": 250,
   "metadata": {},
   "outputs": [
    {
     "data": {
      "text/html": [
       "<strong>png:</strong> 2"
      ],
      "text/latex": [
       "\\textbf{png:} 2"
      ],
      "text/markdown": [
       "**png:** 2"
      ],
      "text/plain": [
       "png \n",
       "  2 "
      ]
     },
     "metadata": {},
     "output_type": "display_data"
    }
   ],
   "source": [
    "options(warn=-1)\n",
    "pdf('/frazer01/home/paola/Family1070/private_output/Fgwas/Enrichment_fgwas_ss_model.pdf')\n",
    "\n",
    "colors=c(rep(c(\"gray30\",\"deepskyblue3\", \"orange\"), each=5))\n",
    "\n",
    "par(mfrow=c(2,2), pin=c(1.5,2), las=1)\n",
    "plotCI(x=singpar$estimate, y=15:1, ui=singpar$CI_hi, li=singpar$CI_lo, err=\"x\", xlim=c(-6,+7),\n",
    "        col=colors, pch=c(19,1)[(singpar$CI_lo<0)+1], cex=1.2, lwd=2,\n",
    "       sfrac=0,gap=0,  add=FALSE, xlab=\"fgwas ln(Enrichment)\" , ylab=\"\", axes=F)\n",
    "axis(side=2, at=15:1, label=singpar$parameter)         \n",
    "axis(side=1, at=-6:7 , label=-6:7)\n",
    "box()\n",
    "grid()\n",
    "abline(v=0, lwd=1, lty=2, col=\"red\")\n",
    "options(warn=0)\n",
    "dev.off()"
   ]
  },
  {
   "cell_type": "code",
   "execution_count": null,
   "metadata": {
    "collapsed": true
   },
   "outputs": [],
   "source": []
  }
 ],
 "metadata": {
  "kernelspec": {
   "display_name": "R",
   "language": "R",
   "name": "ir"
  },
  "language_info": {
   "codemirror_mode": "r",
   "file_extension": ".r",
   "mimetype": "text/x-r-source",
   "name": "R",
   "pygments_lexer": "r",
   "version": "3.2.2"
  }
 },
 "nbformat": 4,
 "nbformat_minor": 1
}
