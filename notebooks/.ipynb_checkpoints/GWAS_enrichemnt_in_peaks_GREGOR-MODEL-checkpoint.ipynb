{
 "cells": [
  {
   "cell_type": "markdown",
   "metadata": {},
   "source": [
    "### Score enrichment using multiple annotations"
   ]
  },
  {
   "cell_type": "code",
   "execution_count": 1,
   "metadata": {
    "collapsed": true
   },
   "outputs": [],
   "source": [
    "suppressPackageStartupMessages(library(gplots))\n",
    "library(RColorBrewer)\n",
    "library(plot3D)\n",
    "library(stringr)"
   ]
  },
  {
   "cell_type": "code",
   "execution_count": 73,
   "metadata": {
    "collapsed": false
   },
   "outputs": [
    {
     "name": "stderr",
     "output_type": "stream",
     "text": [
      "Warning message:\n",
      "“unable to access index for repository https://cran.r-project.org/src/contrib”Warning message:\n",
      "“package ‘prodlim’ is not available (for R version 3.2.2)”"
     ]
    }
   ],
   "source": [
    "install.packages(\"prodlim\")"
   ]
  },
  {
   "cell_type": "code",
   "execution_count": 2,
   "metadata": {
    "collapsed": false
   },
   "outputs": [
    {
     "data": {
      "text/html": [
       "<ol class=list-inline>\n",
       "\t<li>NA</li>\n",
       "\t<li>atrial fibrillation</li>\n",
       "\t<li>Brugada syndrome</li>\n",
       "\t<li>cardiac arrhythmia</li>\n",
       "\t<li>coronary artery bypass, atrial fibrillation</li>\n",
       "\t<li>early cardiac repolarization measurement</li>\n",
       "\t<li>electrocardiography, P wave duration</li>\n",
       "\t<li>electrocardiography, PR interval</li>\n",
       "\t<li>electrocardiography, PR segment</li>\n",
       "\t<li>electrocardiography, QT interval</li>\n",
       "\t<li>heart rate</li>\n",
       "\t<li>P wave duration</li>\n",
       "\t<li>PR interval</li>\n",
       "\t<li>PR interval, Trypanosoma cruzi seropositivity</li>\n",
       "\t<li>PR segment</li>\n",
       "\t<li>QRS amplitude, QRS complex</li>\n",
       "\t<li>QRS complex</li>\n",
       "\t<li>QRS complex, QRS duration</li>\n",
       "\t<li>QRS duration</li>\n",
       "\t<li>QRS duration, Trypanosoma cruzi seropositivity</li>\n",
       "\t<li>QT interval</li>\n",
       "\t<li>QT interval, Trypanosoma cruzi seropositivity</li>\n",
       "\t<li>resting heart rate</li>\n",
       "\t<li>RR interval</li>\n",
       "\t<li>torsades de pointes, response to drug</li>\n",
       "\t<li>TPE interval measurement</li>\n",
       "</ol>\n"
      ],
      "text/latex": [
       "\\begin{enumerate*}\n",
       "\\item NA\n",
       "\\item atrial fibrillation\n",
       "\\item Brugada syndrome\n",
       "\\item cardiac arrhythmia\n",
       "\\item coronary artery bypass, atrial fibrillation\n",
       "\\item early cardiac repolarization measurement\n",
       "\\item electrocardiography, P wave duration\n",
       "\\item electrocardiography, PR interval\n",
       "\\item electrocardiography, PR segment\n",
       "\\item electrocardiography, QT interval\n",
       "\\item heart rate\n",
       "\\item P wave duration\n",
       "\\item PR interval\n",
       "\\item PR interval, Trypanosoma cruzi seropositivity\n",
       "\\item PR segment\n",
       "\\item QRS amplitude, QRS complex\n",
       "\\item QRS complex\n",
       "\\item QRS complex, QRS duration\n",
       "\\item QRS duration\n",
       "\\item QRS duration, Trypanosoma cruzi seropositivity\n",
       "\\item QT interval\n",
       "\\item QT interval, Trypanosoma cruzi seropositivity\n",
       "\\item resting heart rate\n",
       "\\item RR interval\n",
       "\\item torsades de pointes, response to drug\n",
       "\\item TPE interval measurement\n",
       "\\end{enumerate*}\n"
      ],
      "text/markdown": [
       "1. NA\n",
       "2. atrial fibrillation\n",
       "3. Brugada syndrome\n",
       "4. cardiac arrhythmia\n",
       "5. coronary artery bypass, atrial fibrillation\n",
       "6. early cardiac repolarization measurement\n",
       "7. electrocardiography, P wave duration\n",
       "8. electrocardiography, PR interval\n",
       "9. electrocardiography, PR segment\n",
       "10. electrocardiography, QT interval\n",
       "11. heart rate\n",
       "12. P wave duration\n",
       "13. PR interval\n",
       "14. PR interval, Trypanosoma cruzi seropositivity\n",
       "15. PR segment\n",
       "16. QRS amplitude, QRS complex\n",
       "17. QRS complex\n",
       "18. QRS complex, QRS duration\n",
       "19. QRS duration\n",
       "20. QRS duration, Trypanosoma cruzi seropositivity\n",
       "21. QT interval\n",
       "22. QT interval, Trypanosoma cruzi seropositivity\n",
       "23. resting heart rate\n",
       "24. RR interval\n",
       "25. torsades de pointes, response to drug\n",
       "26. TPE interval measurement\n",
       "\n",
       "\n"
      ],
      "text/plain": [
       " [1] <NA>                                          \n",
       " [2] atrial fibrillation                           \n",
       " [3] Brugada syndrome                              \n",
       " [4] cardiac arrhythmia                            \n",
       " [5] coronary artery bypass, atrial fibrillation   \n",
       " [6] early cardiac repolarization measurement      \n",
       " [7] electrocardiography, P wave duration          \n",
       " [8] electrocardiography, PR interval              \n",
       " [9] electrocardiography, PR segment               \n",
       "[10] electrocardiography, QT interval              \n",
       "[11] heart rate                                    \n",
       "[12] P wave duration                               \n",
       "[13] PR interval                                   \n",
       "[14] PR interval, Trypanosoma cruzi seropositivity \n",
       "[15] PR segment                                    \n",
       "[16] QRS amplitude, QRS complex                    \n",
       "[17] QRS complex                                   \n",
       "[18] QRS complex, QRS duration                     \n",
       "[19] QRS duration                                  \n",
       "[20] QRS duration, Trypanosoma cruzi seropositivity\n",
       "[21] QT interval                                   \n",
       "[22] QT interval, Trypanosoma cruzi seropositivity \n",
       "[23] resting heart rate                            \n",
       "[24] RR interval                                   \n",
       "[25] torsades de pointes, response to drug         \n",
       "[26] TPE interval measurement                      \n",
       "2229 Levels:  ..."
      ]
     },
     "metadata": {},
     "output_type": "display_data"
    }
   ],
   "source": [
    "home='/frazer01/home/paola/Family1070/private_output/Enrichment_annotations/GWAS'\n",
    "setwd(home)\n",
    "\n",
    "gwas<-read.csv('gwas_catalog_v1.0.1-associations_e90_r2017-10-10_mod.txt', header=T, sep=\"\\t\")\n",
    "gwas=subset(gwas, gwas$SNP_ID_CURRENT!=\"rs\")\n",
    "\n",
    "trait_list<-read.csv(\"TraitList.csv\" ) ### change because I mised one trait (qrr,qrs)\n",
    "gwas<-merge(gwas, trait_list, by=\"MAPPED_TRAIT\", all.x=T)\n",
    "## Important note: the coordinates of gwas are hg38 - do not use them (use rs instead)\n",
    "unique(gwas$MAPPED_TRAIT[gwas$Electro==T])"
   ]
  },
  {
   "cell_type": "code",
   "execution_count": 3,
   "metadata": {
    "collapsed": true
   },
   "outputs": [],
   "source": [
    "exclude=c('QRS duration, Trypanosoma cruzi seropositivity', 'PR interval, Trypanosoma cruzi seropositivity', \n",
    "'QT interval, Trypanosoma cruzi seropositivity', 'coronary artery bypass, atrial fibrillation', 'torsades de pointes, response to drug',\n",
    "         'early cardiac repolarization measurement', 'TPE interval measurement')\n",
    "include= unique(gwas$MAPPED_TRAIT[gwas$Electro==T])[!(unique(gwas$MAPPED_TRAIT[gwas$Electro==T]) %in% exclude)]"
   ]
  },
  {
   "cell_type": "code",
   "execution_count": 4,
   "metadata": {
    "collapsed": false
   },
   "outputs": [
    {
     "data": {
      "text/html": [
       "558"
      ],
      "text/latex": [
       "558"
      ],
      "text/markdown": [
       "558"
      ],
      "text/plain": [
       "[1] 558"
      ]
     },
     "metadata": {},
     "output_type": "display_data"
    }
   ],
   "source": [
    "######### Combine EKG\n",
    "gwas$EKG<-gwas$MAPPED_TRAIT %in% include\n",
    "hr<-subset(gwas, gwas$EKG==T) \n",
    "hr_input<-as.character(unique(hr$SNP_ID_CURRENT))\n",
    "length(hr_input)"
   ]
  },
  {
   "cell_type": "code",
   "execution_count": 5,
   "metadata": {
    "collapsed": true
   },
   "outputs": [],
   "source": [
    "outdir = \"/projects/CARDIPS/analysis/gwas_enrichment_in_peaks/gregor_6\"\n",
    "setwd(outdir)\n",
    "writeLines(hr_input,\"gwas_snps/all_ekg\")"
   ]
  },
  {
   "cell_type": "markdown",
   "metadata": {},
   "source": [
    "### Function to lauch the gregor analysis"
   ]
  },
  {
   "cell_type": "code",
   "execution_count": 6,
   "metadata": {
    "collapsed": true
   },
   "outputs": [],
   "source": [
    "writeHeader = function(id,\n",
    "                      folder,\n",
    "                      ppn        = 1\n",
    "                       )\n",
    "{\n",
    "    \n",
    "   header = paste(\"#!/bin/bash\",\n",
    "               \"\",\n",
    "               paste(\"#$ -N \", id, sep = \"\"),\n",
    "               paste(\"#$ -o \", folder, \"/\", id, \".out\", sep = \"\"),\n",
    "               paste(\"#$ -e \", folder, \"/\", id, \".err\", sep = \"\"),\n",
    "               \"#$ -l week\",\n",
    "               paste(\"#$ -pe smp\", ppn),\n",
    "               sep = \"\\n\"\n",
    "              )\n",
    "   return(header);\n",
    "}"
   ]
  },
  {
   "cell_type": "code",
   "execution_count": 7,
   "metadata": {
    "collapsed": false
   },
   "outputs": [],
   "source": [
    "plink = readLines(\"plink_commands.txt\")"
   ]
  },
  {
   "cell_type": "code",
   "execution_count": 8,
   "metadata": {
    "collapsed": true
   },
   "outputs": [],
   "source": [
    "plink_cm = paste(plink, collapse = \"\\n\")"
   ]
  },
  {
   "cell_type": "code",
   "execution_count": 9,
   "metadata": {
    "collapsed": false
   },
   "outputs": [],
   "source": [
    "#options(warn=-1)\n",
    "#options(warn=0)"
   ]
  },
  {
   "cell_type": "code",
   "execution_count": 10,
   "metadata": {
    "collapsed": true
   },
   "outputs": [],
   "source": [
    "run_gregor = function (outdir, dirs) {\n",
    "   \n",
    "    for( m in 1:length(dirs)){\n",
    "        \n",
    "        ### create new dir and input files\n",
    "    new_dir = paste(\"traits\", dirs[m], sep=\"/\")\n",
    "    dir.create(new_dir)\n",
    "    input= readLines(paste(\"gwas_snps\", \"all_ekg\",sep=\"/\"))  ### they are all the same here\n",
    "    input = data.frame(input,0.5)\n",
    "    colnames(input)=c(\"SNP\", \"P\")\n",
    "    write.table(input, paste(new_dir, \"input\", sep=\"/\"), sep=\"\\t\", quote=F , row.names=FALSE)\n",
    " \n",
    "        ### make sh file\n",
    "    greg_list = paste (outdir, \"traits\", dirs, sep=\"/\")\n",
    "    analysis_dir = greg_list[m]\n",
    "    cd           = paste(\"cd\", analysis_dir )\n",
    "    command   = 'GREGOR.pl --conf ../../conf_file' \n",
    "    full_name = paste(dirs[m], \"gregor_enrich\", sep=\"_\")\n",
    "    sh_file   = paste(writeHeader (full_name, analysis_dir, ppn = 8),\n",
    "                      \"module load cardips\", \"module load GREGOR\",\n",
    "\t\t\t\t\tcd,\n",
    "                    plink_cm, \n",
    "                    command,\n",
    "                    sep = \"\\n\\n\")\n",
    "\n",
    "\toutput_file = paste('sh_files/', full_name, \".sh\", sep = \"\")\n",
    "\twrite (sh_file, file = output_file)\n",
    "    run = paste (\"qsub\", output_file)\n",
    "    system(run)\n",
    "\n",
    "}\n",
    "    }"
   ]
  },
  {
   "cell_type": "code",
   "execution_count": 11,
   "metadata": {
    "collapsed": true
   },
   "outputs": [],
   "source": [
    "gregor_rounds =function(a, nround, dirs, marks ){\n",
    "bed=character()\n",
    "for (mark in marks){\n",
    "    a = a\n",
    "    if (mark != a){\n",
    "        command = paste('bedtools intersect -a bedfiles/', a ,' -b bedfiles/' , mark , ' > bedfiles/' , a ,'_int_', mark, sep=\"\")\n",
    "        system(command) \n",
    "        bed = append(bed, (paste(outdir, '/bedfiles/' , a ,'_int_', mark, sep=\"\")))\n",
    "        }\n",
    "}\n",
    "    writeLines(bed, \"bed.file.index\")  ## replace old bed file index\n",
    "    run_gregor (outdir, paste(dirs, nround, sep=\"_\"))\n",
    "    \n",
    "}\n"
   ]
  },
  {
   "cell_type": "markdown",
   "metadata": {},
   "source": [
    "### Round 1: analyze the enrichment separately"
   ]
  },
  {
   "cell_type": "code",
   "execution_count": 12,
   "metadata": {
    "collapsed": true
   },
   "outputs": [],
   "source": [
    "dirs = list.files(\"gwas_snps/\")"
   ]
  },
  {
   "cell_type": "code",
   "execution_count": 13,
   "metadata": {
    "collapsed": true
   },
   "outputs": [],
   "source": [
    "marks = c( 'ATAC_CM', 'H3K27AC_CM' , 'NKX25', 'Right_ventricle_H3K27ac', 'Right_atrium_H3K27ac' , 'Fetal_heart_DHS')"
   ]
  },
  {
   "cell_type": "code",
   "execution_count": 14,
   "metadata": {
    "collapsed": false
   },
   "outputs": [],
   "source": [
    "bed = paste(outdir, '/bedfiles/', marks, sep=\"\")\n",
    "writeLines(bed, \"bed.file.index\")"
   ]
  },
  {
   "cell_type": "code",
   "execution_count": 179,
   "metadata": {
    "collapsed": false
   },
   "outputs": [
    {
     "name": "stderr",
     "output_type": "stream",
     "text": [
      "Warning message in dir.create(new_dir):\n",
      "“'traits/all_ekg' already exists”"
     ]
    }
   ],
   "source": [
    "run_gregor (outdir, dirs)"
   ]
  },
  {
   "cell_type": "code",
   "execution_count": 504,
   "metadata": {
    "collapsed": true
   },
   "outputs": [],
   "source": [
    "traits = list.files(\"gwas_snps/\")"
   ]
  },
  {
   "cell_type": "code",
   "execution_count": 505,
   "metadata": {
    "collapsed": false
   },
   "outputs": [],
   "source": [
    "results = read.table( paste(\"traits\", traits, \"StatisticSummaryFile.txt\", sep=\"/\"), row.names=1,header=T, sep=\"\\t\")\n",
    "results$FoldChange =results$InBed_Index_SNP/results$ExpectNum_of_InBed_SNP"
   ]
  },
  {
   "cell_type": "code",
   "execution_count": 517,
   "metadata": {
    "collapsed": false
   },
   "outputs": [
    {
     "data": {
      "text/html": [
       "<table>\n",
       "<thead><tr><th></th><th scope=col>InBed_Index_SNP</th><th scope=col>ExpectNum_of_InBed_SNP</th><th scope=col>PValue</th><th scope=col>FoldChange</th></tr></thead>\n",
       "<tbody>\n",
       "\t<tr><th scope=row>Right_atrium_H3K27ac</th><td>159         </td><td> 70.66242   </td><td>1.534203e-29</td><td>2.250135    </td></tr>\n",
       "\t<tr><th scope=row>NKX25</th><td> 72         </td><td> 33.05498   </td><td>3.046348e-11</td><td>2.178189    </td></tr>\n",
       "\t<tr><th scope=row>Right_ventricle_H3K27ac</th><td>177         </td><td> 88.41557   </td><td>3.666724e-27</td><td>2.001910    </td></tr>\n",
       "\t<tr><th scope=row>ATAC_CM</th><td> 95         </td><td> 49.86317   </td><td>1.376271e-11</td><td>1.905214    </td></tr>\n",
       "\t<tr><th scope=row>Fetal_heart_DHS</th><td>210         </td><td>114.97743   </td><td>4.828900e-28</td><td>1.826445    </td></tr>\n",
       "\t<tr><th scope=row>H3K27AC_CM</th><td>177         </td><td> 97.37852   </td><td>1.099125e-21</td><td>1.817649    </td></tr>\n",
       "</tbody>\n",
       "</table>\n"
      ],
      "text/latex": [
       "\\begin{tabular}{r|llll}\n",
       "  & InBed\\_Index\\_SNP & ExpectNum\\_of\\_InBed\\_SNP & PValue & FoldChange\\\\\n",
       "\\hline\n",
       "\tRight\\_atrium\\_H3K27ac & 159          &  70.66242    & 1.534203e-29 & 2.250135    \\\\\n",
       "\tNKX25 &  72          &  33.05498    & 3.046348e-11 & 2.178189    \\\\\n",
       "\tRight\\_ventricle\\_H3K27ac & 177          &  88.41557    & 3.666724e-27 & 2.001910    \\\\\n",
       "\tATAC\\_CM &  95          &  49.86317    & 1.376271e-11 & 1.905214    \\\\\n",
       "\tFetal\\_heart\\_DHS & 210          & 114.97743    & 4.828900e-28 & 1.826445    \\\\\n",
       "\tH3K27AC\\_CM & 177          &  97.37852    & 1.099125e-21 & 1.817649    \\\\\n",
       "\\end{tabular}\n"
      ],
      "text/plain": [
       "                        InBed_Index_SNP ExpectNum_of_InBed_SNP PValue      \n",
       "Right_atrium_H3K27ac    159              70.66242              1.534203e-29\n",
       "NKX25                    72              33.05498              3.046348e-11\n",
       "Right_ventricle_H3K27ac 177              88.41557              3.666724e-27\n",
       "ATAC_CM                  95              49.86317              1.376271e-11\n",
       "Fetal_heart_DHS         210             114.97743              4.828900e-28\n",
       "H3K27AC_CM              177              97.37852              1.099125e-21\n",
       "                        FoldChange\n",
       "Right_atrium_H3K27ac    2.250135  \n",
       "NKX25                   2.178189  \n",
       "Right_ventricle_H3K27ac 2.001910  \n",
       "ATAC_CM                 1.905214  \n",
       "Fetal_heart_DHS         1.826445  \n",
       "H3K27AC_CM              1.817649  "
      ]
     },
     "metadata": {},
     "output_type": "display_data"
    }
   ],
   "source": [
    "tt = results[order(results$FoldChange, decreasing=T),]\n",
    "tt"
   ]
  },
  {
   "cell_type": "markdown",
   "metadata": {},
   "source": [
    "### Round 2 "
   ]
  },
  {
   "cell_type": "code",
   "execution_count": 185,
   "metadata": {
    "collapsed": false
   },
   "outputs": [],
   "source": [
    "gregor_rounds(\"NKX25\", \"round_2\", dirs, marks)"
   ]
  },
  {
   "cell_type": "code",
   "execution_count": 35,
   "metadata": {
    "collapsed": false
   },
   "outputs": [
    {
     "data": {
      "text/html": [
       "<table>\n",
       "<thead><tr><th></th><th scope=col>InBed_Index_SNP</th><th scope=col>ExpectNum_of_InBed_SNP</th><th scope=col>PValue</th><th scope=col>FoldChange</th></tr></thead>\n",
       "<tbody>\n",
       "\t<tr><th scope=row>NKX25_int_Right_atrium_H3K27ac</th><td>41          </td><td>13.79713    </td><td>1.552420e-10</td><td>2.971633    </td></tr>\n",
       "\t<tr><th scope=row>NKX25_int_Fetal_heart_DHS</th><td>62          </td><td>23.77582    </td><td>4.487265e-13</td><td>2.607691    </td></tr>\n",
       "\t<tr><th scope=row>NKX25_int_Right_ventricle_H3K27ac</th><td>36          </td><td>14.04189    </td><td>1.076228e-07</td><td>2.563758    </td></tr>\n",
       "\t<tr><th scope=row>NKX25_int_H3K27AC_CM</th><td>57          </td><td>23.06913    </td><td>3.865604e-11</td><td>2.470835    </td></tr>\n",
       "\t<tr><th scope=row>NKX25_int_ATAC_CM</th><td>44          </td><td>18.14887    </td><td>2.009574e-08</td><td>2.424394    </td></tr>\n",
       "</tbody>\n",
       "</table>\n"
      ],
      "text/latex": [
       "\\begin{tabular}{r|llll}\n",
       "  & InBed\\_Index\\_SNP & ExpectNum\\_of\\_InBed\\_SNP & PValue & FoldChange\\\\\n",
       "\\hline\n",
       "\tNKX25\\_int\\_Right\\_atrium\\_H3K27ac & 41           & 13.79713     & 1.552420e-10 & 2.971633    \\\\\n",
       "\tNKX25\\_int\\_Fetal\\_heart\\_DHS & 62           & 23.77582     & 4.487265e-13 & 2.607691    \\\\\n",
       "\tNKX25\\_int\\_Right\\_ventricle\\_H3K27ac & 36           & 14.04189     & 1.076228e-07 & 2.563758    \\\\\n",
       "\tNKX25\\_int\\_H3K27AC\\_CM & 57           & 23.06913     & 3.865604e-11 & 2.470835    \\\\\n",
       "\tNKX25\\_int\\_ATAC\\_CM & 44           & 18.14887     & 2.009574e-08 & 2.424394    \\\\\n",
       "\\end{tabular}\n"
      ],
      "text/plain": [
       "                                  InBed_Index_SNP ExpectNum_of_InBed_SNP\n",
       "NKX25_int_Right_atrium_H3K27ac    41              13.79713              \n",
       "NKX25_int_Fetal_heart_DHS         62              23.77582              \n",
       "NKX25_int_Right_ventricle_H3K27ac 36              14.04189              \n",
       "NKX25_int_H3K27AC_CM              57              23.06913              \n",
       "NKX25_int_ATAC_CM                 44              18.14887              \n",
       "                                  PValue       FoldChange\n",
       "NKX25_int_Right_atrium_H3K27ac    1.552420e-10 2.971633  \n",
       "NKX25_int_Fetal_heart_DHS         4.487265e-13 2.607691  \n",
       "NKX25_int_Right_ventricle_H3K27ac 1.076228e-07 2.563758  \n",
       "NKX25_int_H3K27AC_CM              3.865604e-11 2.470835  \n",
       "NKX25_int_ATAC_CM                 2.009574e-08 2.424394  "
      ]
     },
     "metadata": {},
     "output_type": "display_data"
    }
   ],
   "source": [
    "traits= paste(dirs, \"round_2\", sep=\"_\")\n",
    "results = read.table( paste(\"traits\", traits, \"StatisticSummaryFile.txt\", sep=\"/\"), row.names=1,header=T, sep=\"\\t\")\n",
    "results$FoldChange =results$InBed_Index_SNP/results$ExpectNum_of_InBed_SNP\n",
    "results[order(results$FoldChange, decreasing=T),]"
   ]
  },
  {
   "cell_type": "markdown",
   "metadata": {
    "collapsed": true
   },
   "source": [
    "### Round 3"
   ]
  },
  {
   "cell_type": "code",
   "execution_count": 225,
   "metadata": {
    "collapsed": true
   },
   "outputs": [],
   "source": [
    "gregor_rounds(\"NKX25_int_Fetal_heart_DHS\", \"round_3\", dirs, marks)"
   ]
  },
  {
   "cell_type": "code",
   "execution_count": 36,
   "metadata": {
    "collapsed": false
   },
   "outputs": [
    {
     "data": {
      "text/html": [
       "<table>\n",
       "<thead><tr><th></th><th scope=col>InBed_Index_SNP</th><th scope=col>ExpectNum_of_InBed_SNP</th><th scope=col>PValue</th><th scope=col>FoldChange</th></tr></thead>\n",
       "<tbody>\n",
       "\t<tr><th scope=row>NKX25_int_Fetal_heart_DHS_int_Right_atrium_H3K27ac</th><td>39          </td><td>13.20660    </td><td>5.399374e-10</td><td>2.953070    </td></tr>\n",
       "\t<tr><th scope=row>NKX25_int_Fetal_heart_DHS_int_H3K27AC_CM</th><td>55          </td><td>19.89463    </td><td>9.807875e-13</td><td>2.764565    </td></tr>\n",
       "\t<tr><th scope=row>NKX25_int_Fetal_heart_DHS_int_ATAC_CM</th><td>44          </td><td>16.17772    </td><td>5.675135e-10</td><td>2.719790    </td></tr>\n",
       "\t<tr><th scope=row>NKX25_int_Fetal_heart_DHS_int_Fetal_heart_DHS</th><td>62          </td><td>23.77582    </td><td>4.487265e-13</td><td>2.607691    </td></tr>\n",
       "\t<tr><th scope=row>NKX25_int_Fetal_heart_DHS_int_NKX25</th><td>62          </td><td>23.77582    </td><td>4.487265e-13</td><td>2.607691    </td></tr>\n",
       "\t<tr><th scope=row>NKX25_int_Fetal_heart_DHS_int_Right_ventricle_H3K27ac</th><td>34          </td><td>13.55071    </td><td>4.195170e-07</td><td>2.509094    </td></tr>\n",
       "</tbody>\n",
       "</table>\n"
      ],
      "text/latex": [
       "\\begin{tabular}{r|llll}\n",
       "  & InBed\\_Index\\_SNP & ExpectNum\\_of\\_InBed\\_SNP & PValue & FoldChange\\\\\n",
       "\\hline\n",
       "\tNKX25\\_int\\_Fetal\\_heart\\_DHS\\_int\\_Right\\_atrium\\_H3K27ac & 39           & 13.20660     & 5.399374e-10 & 2.953070    \\\\\n",
       "\tNKX25\\_int\\_Fetal\\_heart\\_DHS\\_int\\_H3K27AC\\_CM & 55           & 19.89463     & 9.807875e-13 & 2.764565    \\\\\n",
       "\tNKX25\\_int\\_Fetal\\_heart\\_DHS\\_int\\_ATAC\\_CM & 44           & 16.17772     & 5.675135e-10 & 2.719790    \\\\\n",
       "\tNKX25\\_int\\_Fetal\\_heart\\_DHS\\_int\\_Fetal\\_heart\\_DHS & 62           & 23.77582     & 4.487265e-13 & 2.607691    \\\\\n",
       "\tNKX25\\_int\\_Fetal\\_heart\\_DHS\\_int\\_NKX25 & 62           & 23.77582     & 4.487265e-13 & 2.607691    \\\\\n",
       "\tNKX25\\_int\\_Fetal\\_heart\\_DHS\\_int\\_Right\\_ventricle\\_H3K27ac & 34           & 13.55071     & 4.195170e-07 & 2.509094    \\\\\n",
       "\\end{tabular}\n"
      ],
      "text/plain": [
       "                                                      InBed_Index_SNP\n",
       "NKX25_int_Fetal_heart_DHS_int_Right_atrium_H3K27ac    39             \n",
       "NKX25_int_Fetal_heart_DHS_int_H3K27AC_CM              55             \n",
       "NKX25_int_Fetal_heart_DHS_int_ATAC_CM                 44             \n",
       "NKX25_int_Fetal_heart_DHS_int_Fetal_heart_DHS         62             \n",
       "NKX25_int_Fetal_heart_DHS_int_NKX25                   62             \n",
       "NKX25_int_Fetal_heart_DHS_int_Right_ventricle_H3K27ac 34             \n",
       "                                                      ExpectNum_of_InBed_SNP\n",
       "NKX25_int_Fetal_heart_DHS_int_Right_atrium_H3K27ac    13.20660              \n",
       "NKX25_int_Fetal_heart_DHS_int_H3K27AC_CM              19.89463              \n",
       "NKX25_int_Fetal_heart_DHS_int_ATAC_CM                 16.17772              \n",
       "NKX25_int_Fetal_heart_DHS_int_Fetal_heart_DHS         23.77582              \n",
       "NKX25_int_Fetal_heart_DHS_int_NKX25                   23.77582              \n",
       "NKX25_int_Fetal_heart_DHS_int_Right_ventricle_H3K27ac 13.55071              \n",
       "                                                      PValue       FoldChange\n",
       "NKX25_int_Fetal_heart_DHS_int_Right_atrium_H3K27ac    5.399374e-10 2.953070  \n",
       "NKX25_int_Fetal_heart_DHS_int_H3K27AC_CM              9.807875e-13 2.764565  \n",
       "NKX25_int_Fetal_heart_DHS_int_ATAC_CM                 5.675135e-10 2.719790  \n",
       "NKX25_int_Fetal_heart_DHS_int_Fetal_heart_DHS         4.487265e-13 2.607691  \n",
       "NKX25_int_Fetal_heart_DHS_int_NKX25                   4.487265e-13 2.607691  \n",
       "NKX25_int_Fetal_heart_DHS_int_Right_ventricle_H3K27ac 4.195170e-07 2.509094  "
      ]
     },
     "metadata": {},
     "output_type": "display_data"
    }
   ],
   "source": [
    "traits= paste(dirs, \"round_3\", sep=\"_\")\n",
    "results = read.table( paste(\"traits\", traits, \"StatisticSummaryFile.txt\", sep=\"/\"), row.names=1,header=T, sep=\"\\t\")\n",
    "results$FoldChange =results$InBed_Index_SNP/results$ExpectNum_of_InBed_SNP\n",
    "results[order(results$FoldChange, decreasing=T),]"
   ]
  },
  {
   "cell_type": "markdown",
   "metadata": {},
   "source": [
    "### Round 4"
   ]
  },
  {
   "cell_type": "code",
   "execution_count": 38,
   "metadata": {
    "collapsed": false
   },
   "outputs": [
    {
     "name": "stderr",
     "output_type": "stream",
     "text": [
      "Warning message in dir.create(new_dir):\n",
      "“'traits/all_ekg_round_4' already exists”"
     ]
    }
   ],
   "source": [
    "gregor_rounds(\"NKX25_int_Fetal_heart_DHS_int_H3K27AC_CM\", \"round_4\", dirs, marks)"
   ]
  },
  {
   "cell_type": "code",
   "execution_count": 39,
   "metadata": {
    "collapsed": false
   },
   "outputs": [
    {
     "data": {
      "text/html": [
       "<table>\n",
       "<thead><tr><th></th><th scope=col>InBed_Index_SNP</th><th scope=col>ExpectNum_of_InBed_SNP</th><th scope=col>PValue</th><th scope=col>FoldChange</th></tr></thead>\n",
       "<tbody>\n",
       "\t<tr><th scope=row>NKX25_int_Fetal_heart_DHS_int_H3K27AC_CM_int_Right_atrium_H3K27ac</th><td>37          </td><td>12.83601    </td><td>3.054168e-09</td><td>2.882516    </td></tr>\n",
       "\t<tr><th scope=row>NKX25_int_Fetal_heart_DHS_int_H3K27AC_CM_int_ATAC_CM</th><td>39          </td><td>14.08028    </td><td>3.373524e-09</td><td>2.769831    </td></tr>\n",
       "\t<tr><th scope=row>NKX25_int_Fetal_heart_DHS_int_H3K27AC_CM_int_NKX25</th><td>55          </td><td>19.89463    </td><td>9.807875e-13</td><td>2.764565    </td></tr>\n",
       "\t<tr><th scope=row>NKX25_int_Fetal_heart_DHS_int_H3K27AC_CM_int_Fetal_heart_DHS</th><td>55          </td><td>19.89463    </td><td>9.807875e-13</td><td>2.764565    </td></tr>\n",
       "\t<tr><th scope=row>NKX25_int_Fetal_heart_DHS_int_H3K27AC_CM_int_H3K27AC_CM</th><td>55          </td><td>19.89463    </td><td>9.807875e-13</td><td>2.764565    </td></tr>\n",
       "\t<tr><th scope=row>NKX25_int_Fetal_heart_DHS_int_H3K27AC_CM_int_Right_ventricle_H3K27ac</th><td>32          </td><td>13.00484    </td><td>1.450662e-06</td><td>2.460622    </td></tr>\n",
       "</tbody>\n",
       "</table>\n"
      ],
      "text/latex": [
       "\\begin{tabular}{r|llll}\n",
       "  & InBed\\_Index\\_SNP & ExpectNum\\_of\\_InBed\\_SNP & PValue & FoldChange\\\\\n",
       "\\hline\n",
       "\tNKX25\\_int\\_Fetal\\_heart\\_DHS\\_int\\_H3K27AC\\_CM\\_int\\_Right\\_atrium\\_H3K27ac & 37           & 12.83601     & 3.054168e-09 & 2.882516    \\\\\n",
       "\tNKX25\\_int\\_Fetal\\_heart\\_DHS\\_int\\_H3K27AC\\_CM\\_int\\_ATAC\\_CM & 39           & 14.08028     & 3.373524e-09 & 2.769831    \\\\\n",
       "\tNKX25\\_int\\_Fetal\\_heart\\_DHS\\_int\\_H3K27AC\\_CM\\_int\\_NKX25 & 55           & 19.89463     & 9.807875e-13 & 2.764565    \\\\\n",
       "\tNKX25\\_int\\_Fetal\\_heart\\_DHS\\_int\\_H3K27AC\\_CM\\_int\\_Fetal\\_heart\\_DHS & 55           & 19.89463     & 9.807875e-13 & 2.764565    \\\\\n",
       "\tNKX25\\_int\\_Fetal\\_heart\\_DHS\\_int\\_H3K27AC\\_CM\\_int\\_H3K27AC\\_CM & 55           & 19.89463     & 9.807875e-13 & 2.764565    \\\\\n",
       "\tNKX25\\_int\\_Fetal\\_heart\\_DHS\\_int\\_H3K27AC\\_CM\\_int\\_Right\\_ventricle\\_H3K27ac & 32           & 13.00484     & 1.450662e-06 & 2.460622    \\\\\n",
       "\\end{tabular}\n"
      ],
      "text/plain": [
       "                                                                     InBed_Index_SNP\n",
       "NKX25_int_Fetal_heart_DHS_int_H3K27AC_CM_int_Right_atrium_H3K27ac    37             \n",
       "NKX25_int_Fetal_heart_DHS_int_H3K27AC_CM_int_ATAC_CM                 39             \n",
       "NKX25_int_Fetal_heart_DHS_int_H3K27AC_CM_int_NKX25                   55             \n",
       "NKX25_int_Fetal_heart_DHS_int_H3K27AC_CM_int_Fetal_heart_DHS         55             \n",
       "NKX25_int_Fetal_heart_DHS_int_H3K27AC_CM_int_H3K27AC_CM              55             \n",
       "NKX25_int_Fetal_heart_DHS_int_H3K27AC_CM_int_Right_ventricle_H3K27ac 32             \n",
       "                                                                     ExpectNum_of_InBed_SNP\n",
       "NKX25_int_Fetal_heart_DHS_int_H3K27AC_CM_int_Right_atrium_H3K27ac    12.83601              \n",
       "NKX25_int_Fetal_heart_DHS_int_H3K27AC_CM_int_ATAC_CM                 14.08028              \n",
       "NKX25_int_Fetal_heart_DHS_int_H3K27AC_CM_int_NKX25                   19.89463              \n",
       "NKX25_int_Fetal_heart_DHS_int_H3K27AC_CM_int_Fetal_heart_DHS         19.89463              \n",
       "NKX25_int_Fetal_heart_DHS_int_H3K27AC_CM_int_H3K27AC_CM              19.89463              \n",
       "NKX25_int_Fetal_heart_DHS_int_H3K27AC_CM_int_Right_ventricle_H3K27ac 13.00484              \n",
       "                                                                     PValue      \n",
       "NKX25_int_Fetal_heart_DHS_int_H3K27AC_CM_int_Right_atrium_H3K27ac    3.054168e-09\n",
       "NKX25_int_Fetal_heart_DHS_int_H3K27AC_CM_int_ATAC_CM                 3.373524e-09\n",
       "NKX25_int_Fetal_heart_DHS_int_H3K27AC_CM_int_NKX25                   9.807875e-13\n",
       "NKX25_int_Fetal_heart_DHS_int_H3K27AC_CM_int_Fetal_heart_DHS         9.807875e-13\n",
       "NKX25_int_Fetal_heart_DHS_int_H3K27AC_CM_int_H3K27AC_CM              9.807875e-13\n",
       "NKX25_int_Fetal_heart_DHS_int_H3K27AC_CM_int_Right_ventricle_H3K27ac 1.450662e-06\n",
       "                                                                     FoldChange\n",
       "NKX25_int_Fetal_heart_DHS_int_H3K27AC_CM_int_Right_atrium_H3K27ac    2.882516  \n",
       "NKX25_int_Fetal_heart_DHS_int_H3K27AC_CM_int_ATAC_CM                 2.769831  \n",
       "NKX25_int_Fetal_heart_DHS_int_H3K27AC_CM_int_NKX25                   2.764565  \n",
       "NKX25_int_Fetal_heart_DHS_int_H3K27AC_CM_int_Fetal_heart_DHS         2.764565  \n",
       "NKX25_int_Fetal_heart_DHS_int_H3K27AC_CM_int_H3K27AC_CM              2.764565  \n",
       "NKX25_int_Fetal_heart_DHS_int_H3K27AC_CM_int_Right_ventricle_H3K27ac 2.460622  "
      ]
     },
     "metadata": {},
     "output_type": "display_data"
    }
   ],
   "source": [
    "traits= paste(dirs, \"round_4\", sep=\"_\")\n",
    "results = read.table( paste(\"traits\", traits, \"StatisticSummaryFile.txt\", sep=\"/\"), row.names=1,header=T, sep=\"\\t\")\n",
    "results$FoldChange =results$InBed_Index_SNP/results$ExpectNum_of_InBed_SNP\n",
    "results[order(results$FoldChange, decreasing=T),]"
   ]
  },
  {
   "cell_type": "markdown",
   "metadata": {},
   "source": [
    "### Round 5"
   ]
  },
  {
   "cell_type": "code",
   "execution_count": 108,
   "metadata": {
    "collapsed": false
   },
   "outputs": [
    {
     "name": "stderr",
     "output_type": "stream",
     "text": [
      "Warning message in dir.create(new_dir):\n",
      "“'traits/all_ekg_round_5' already exists”"
     ]
    }
   ],
   "source": [
    "gregor_rounds(\"NKX25_int_H3K27AC_CM\", \"round_5\", dirs, marks)"
   ]
  },
  {
   "cell_type": "code",
   "execution_count": 126,
   "metadata": {
    "collapsed": false
   },
   "outputs": [
    {
     "data": {
      "text/html": [
       "<table>\n",
       "<thead><tr><th></th><th scope=col>InBed_Index_SNP</th><th scope=col>ExpectNum_of_InBed_SNP</th><th scope=col>PValue</th><th scope=col>FoldChange</th></tr></thead>\n",
       "<tbody>\n",
       "\t<tr><th scope=row>NKX25_int_Fetal_heart_DHS_int_Fetal_heart_DHS</th><td>57          </td><td>21.57962    </td><td>2.471796e-12</td><td>2.641381    </td></tr>\n",
       "\t<tr><th scope=row>NKX25_int_Fetal_heart_DHS_int_ATAC_CM</th><td>39          </td><td>14.60418    </td><td>9.722170e-09</td><td>2.670468    </td></tr>\n",
       "\t<tr><th scope=row>NKX25_int_H3K27AC_CM_int_Right_atrium_H3K27ac</th><td>39          </td><td>13.33173    </td><td>7.124627e-10</td><td>2.925352    </td></tr>\n",
       "\t<tr><th scope=row>NKX25_int_Fetal_heart_DHS_int_Right_ventricle_H3K27ac</th><td>30          </td><td>12.28362    </td><td>3.603201e-06</td><td>2.442277    </td></tr>\n",
       "\t<tr><th scope=row>NKX25_int_Fetal_heart_DHS_int_NKX25</th><td>57          </td><td>21.57962    </td><td>2.471796e-12</td><td>2.641381    </td></tr>\n",
       "\t<tr><th scope=row>NKX25_int_H3K27AC_CM_int_H3K27AC_CM</th><td>57          </td><td>23.06913    </td><td>3.865604e-11</td><td>2.470835    </td></tr>\n",
       "\t<tr><th scope=row>NKX25_int_H3K27AC_CM_int_Right_ventricle_H3K27ac</th><td>34          </td><td>13.40676    </td><td>3.232840e-07</td><td>2.536034    </td></tr>\n",
       "\t<tr><th scope=row>NKX25_int_H3K27AC_CM_int_Fetal_heart_DHS</th><td>55          </td><td>19.89426    </td><td>9.800763e-13</td><td>2.764616    </td></tr>\n",
       "\t<tr><th scope=row>NKX25_int_H3K27AC_CM_int_NKX25</th><td>57          </td><td>23.06913    </td><td>3.865604e-11</td><td>2.470835    </td></tr>\n",
       "\t<tr><th scope=row>NKX25_int_H3K27AC_CM_int_ATAC_CM</th><td>39          </td><td>15.06136    </td><td>2.160429e-08</td><td>2.589408    </td></tr>\n",
       "\t<tr><th scope=row>NKX25_int_Fetal_heart_DHS_int_H3K27AC_CM</th><td>50          </td><td>17.96953    </td><td>9.332906e-12</td><td>2.782488    </td></tr>\n",
       "\t<tr><th scope=row>NKX25_int_Fetal_heart_DHS_int_Right_atrium_H3K27ac</th><td>35          </td><td>12.04166    </td><td>6.423342e-09</td><td>2.906577    </td></tr>\n",
       "</tbody>\n",
       "</table>\n"
      ],
      "text/latex": [
       "\\begin{tabular}{r|llll}\n",
       "  & InBed\\_Index\\_SNP & ExpectNum\\_of\\_InBed\\_SNP & PValue & FoldChange\\\\\n",
       "\\hline\n",
       "\tNKX25\\_int\\_Fetal\\_heart\\_DHS\\_int\\_Fetal\\_heart\\_DHS & 57           & 21.57962     & 2.471796e-12 & 2.641381    \\\\\n",
       "\tNKX25\\_int\\_Fetal\\_heart\\_DHS\\_int\\_ATAC\\_CM & 39           & 14.60418     & 9.722170e-09 & 2.670468    \\\\\n",
       "\tNKX25\\_int\\_H3K27AC\\_CM\\_int\\_Right\\_atrium\\_H3K27ac & 39           & 13.33173     & 7.124627e-10 & 2.925352    \\\\\n",
       "\tNKX25\\_int\\_Fetal\\_heart\\_DHS\\_int\\_Right\\_ventricle\\_H3K27ac & 30           & 12.28362     & 3.603201e-06 & 2.442277    \\\\\n",
       "\tNKX25\\_int\\_Fetal\\_heart\\_DHS\\_int\\_NKX25 & 57           & 21.57962     & 2.471796e-12 & 2.641381    \\\\\n",
       "\tNKX25\\_int\\_H3K27AC\\_CM\\_int\\_H3K27AC\\_CM & 57           & 23.06913     & 3.865604e-11 & 2.470835    \\\\\n",
       "\tNKX25\\_int\\_H3K27AC\\_CM\\_int\\_Right\\_ventricle\\_H3K27ac & 34           & 13.40676     & 3.232840e-07 & 2.536034    \\\\\n",
       "\tNKX25\\_int\\_H3K27AC\\_CM\\_int\\_Fetal\\_heart\\_DHS & 55           & 19.89426     & 9.800763e-13 & 2.764616    \\\\\n",
       "\tNKX25\\_int\\_H3K27AC\\_CM\\_int\\_NKX25 & 57           & 23.06913     & 3.865604e-11 & 2.470835    \\\\\n",
       "\tNKX25\\_int\\_H3K27AC\\_CM\\_int\\_ATAC\\_CM & 39           & 15.06136     & 2.160429e-08 & 2.589408    \\\\\n",
       "\tNKX25\\_int\\_Fetal\\_heart\\_DHS\\_int\\_H3K27AC\\_CM & 50           & 17.96953     & 9.332906e-12 & 2.782488    \\\\\n",
       "\tNKX25\\_int\\_Fetal\\_heart\\_DHS\\_int\\_Right\\_atrium\\_H3K27ac & 35           & 12.04166     & 6.423342e-09 & 2.906577    \\\\\n",
       "\\end{tabular}\n"
      ],
      "text/plain": [
       "                                                      InBed_Index_SNP\n",
       "NKX25_int_Fetal_heart_DHS_int_Fetal_heart_DHS         57             \n",
       "NKX25_int_Fetal_heart_DHS_int_ATAC_CM                 39             \n",
       "NKX25_int_H3K27AC_CM_int_Right_atrium_H3K27ac         39             \n",
       "NKX25_int_Fetal_heart_DHS_int_Right_ventricle_H3K27ac 30             \n",
       "NKX25_int_Fetal_heart_DHS_int_NKX25                   57             \n",
       "NKX25_int_H3K27AC_CM_int_H3K27AC_CM                   57             \n",
       "NKX25_int_H3K27AC_CM_int_Right_ventricle_H3K27ac      34             \n",
       "NKX25_int_H3K27AC_CM_int_Fetal_heart_DHS              55             \n",
       "NKX25_int_H3K27AC_CM_int_NKX25                        57             \n",
       "NKX25_int_H3K27AC_CM_int_ATAC_CM                      39             \n",
       "NKX25_int_Fetal_heart_DHS_int_H3K27AC_CM              50             \n",
       "NKX25_int_Fetal_heart_DHS_int_Right_atrium_H3K27ac    35             \n",
       "                                                      ExpectNum_of_InBed_SNP\n",
       "NKX25_int_Fetal_heart_DHS_int_Fetal_heart_DHS         21.57962              \n",
       "NKX25_int_Fetal_heart_DHS_int_ATAC_CM                 14.60418              \n",
       "NKX25_int_H3K27AC_CM_int_Right_atrium_H3K27ac         13.33173              \n",
       "NKX25_int_Fetal_heart_DHS_int_Right_ventricle_H3K27ac 12.28362              \n",
       "NKX25_int_Fetal_heart_DHS_int_NKX25                   21.57962              \n",
       "NKX25_int_H3K27AC_CM_int_H3K27AC_CM                   23.06913              \n",
       "NKX25_int_H3K27AC_CM_int_Right_ventricle_H3K27ac      13.40676              \n",
       "NKX25_int_H3K27AC_CM_int_Fetal_heart_DHS              19.89426              \n",
       "NKX25_int_H3K27AC_CM_int_NKX25                        23.06913              \n",
       "NKX25_int_H3K27AC_CM_int_ATAC_CM                      15.06136              \n",
       "NKX25_int_Fetal_heart_DHS_int_H3K27AC_CM              17.96953              \n",
       "NKX25_int_Fetal_heart_DHS_int_Right_atrium_H3K27ac    12.04166              \n",
       "                                                      PValue       FoldChange\n",
       "NKX25_int_Fetal_heart_DHS_int_Fetal_heart_DHS         2.471796e-12 2.641381  \n",
       "NKX25_int_Fetal_heart_DHS_int_ATAC_CM                 9.722170e-09 2.670468  \n",
       "NKX25_int_H3K27AC_CM_int_Right_atrium_H3K27ac         7.124627e-10 2.925352  \n",
       "NKX25_int_Fetal_heart_DHS_int_Right_ventricle_H3K27ac 3.603201e-06 2.442277  \n",
       "NKX25_int_Fetal_heart_DHS_int_NKX25                   2.471796e-12 2.641381  \n",
       "NKX25_int_H3K27AC_CM_int_H3K27AC_CM                   3.865604e-11 2.470835  \n",
       "NKX25_int_H3K27AC_CM_int_Right_ventricle_H3K27ac      3.232840e-07 2.536034  \n",
       "NKX25_int_H3K27AC_CM_int_Fetal_heart_DHS              9.800763e-13 2.764616  \n",
       "NKX25_int_H3K27AC_CM_int_NKX25                        3.865604e-11 2.470835  \n",
       "NKX25_int_H3K27AC_CM_int_ATAC_CM                      2.160429e-08 2.589408  \n",
       "NKX25_int_Fetal_heart_DHS_int_H3K27AC_CM              9.332906e-12 2.782488  \n",
       "NKX25_int_Fetal_heart_DHS_int_Right_atrium_H3K27ac    6.423342e-09 2.906577  "
      ]
     },
     "metadata": {},
     "output_type": "display_data"
    }
   ],
   "source": [
    "traits= paste(dirs, \"round_5\", sep=\"_\")\n",
    "results = read.table( paste(\"traits\", traits, \"StatisticSummaryFile.txt\", sep=\"/\"), row.names=1,header=T, sep=\"\\t\")\n",
    "results$FoldChange =results$InBed_Index_SNP/results$ExpectNum_of_InBed_SNP\n",
    "results"
   ]
  },
  {
   "cell_type": "markdown",
   "metadata": {},
   "source": [
    "#### To get all interesections with SNPs and bed, I need to run the enrichment analysis in batches of 2, because these information are reported only for the top 2 enriched bed, in the folder index.SNP.and.LD.for.top.2.bed"
   ]
  },
  {
   "cell_type": "code",
   "execution_count": 280,
   "metadata": {
    "collapsed": true
   },
   "outputs": [],
   "source": [
    "bed = paste(outdir, '/bedfiles/', c('H3K27AC_CM' , 'NKX25'), sep=\"\")\n",
    "writeLines(bed, \"bed.file.index\")\n",
    "run_gregor (outdir, \"all_ekg_NKX_H3K\")"
   ]
  },
  {
   "cell_type": "code",
   "execution_count": 281,
   "metadata": {
    "collapsed": true
   },
   "outputs": [],
   "source": [
    "bed = paste(outdir, '/bedfiles/', c('Fetal_heart_DHS', \"ATAC_CM\"), sep=\"\")\n",
    "writeLines(bed, \"bed.file.index\")\n",
    "run_gregor (outdir, \"all_ekg_ATAC_FH\")"
   ]
  },
  {
   "cell_type": "markdown",
   "metadata": {},
   "source": [
    "### Select the marks to represent and get snps"
   ]
  },
  {
   "cell_type": "code",
   "execution_count": 522,
   "metadata": {
    "collapsed": true
   },
   "outputs": [],
   "source": [
    "selection =c( 'NKX25', 'ATAC_CM','H3K27AC_CM', \"Fetal_heart_DHS\",\n",
    "               \"NKX25_int_Fetal_heart_DHS\" , \"NKX25_int_H3K27AC_CM\",\"NKX25_int_ATAC_CM\",\n",
    "             \"NKX25_int_Fetal_heart_DHS_int_H3K27AC_CM\",  \"NKX25_int_Fetal_heart_DHS_int_ATAC_CM\",\n",
    "             \"NKX25_int_Fetal_heart_DHS_int_H3K27AC_CM_int_ATAC_CM\",\n",
    "            \"NKX25_int_H3K27AC_CM_int_ATAC_CM\")"
   ]
  },
  {
   "cell_type": "code",
   "execution_count": 523,
   "metadata": {
    "collapsed": false
   },
   "outputs": [],
   "source": [
    "rounds = c(\"all_ekg\", \"all_ekg\", \"all_ekg\", \"all_ekg\",\n",
    "           \"all_ekg_round_2\",\"all_ekg_round_2\",\"all_ekg_round_2\",\n",
    "           \"all_ekg_round_3\",\"all_ekg_round_3\",\n",
    "           \"all_ekg_round_4\",\n",
    "          \"all_ekg_round_5\")"
   ]
  },
  {
   "cell_type": "code",
   "execution_count": 524,
   "metadata": {
    "collapsed": false
   },
   "outputs": [],
   "source": [
    "tab = data.frame()\n",
    "for (s in 1:length(selection)){\n",
    "results = read.table( paste(\"traits\", rounds[s], \"StatisticSummaryFile.txt\", sep=\"/\"), row.names=1,header=T, sep=\"\\t\")\n",
    "tab =rbind(tab, results[selection[s],])\n",
    "    \n",
    "}\n",
    "tab$Foldchange = tab$InBed_Index_SNP/tab$ExpectNum_of_InBed_SNP\n",
    "tab= tab [order(tab$Foldchange, decreasing=T),]"
   ]
  },
  {
   "cell_type": "code",
   "execution_count": 525,
   "metadata": {
    "collapsed": false
   },
   "outputs": [
    {
     "data": {
      "text/html": [
       "<table>\n",
       "<thead><tr><th></th><th scope=col>InBed_Index_SNP</th><th scope=col>ExpectNum_of_InBed_SNP</th><th scope=col>PValue</th><th scope=col>Foldchange</th></tr></thead>\n",
       "<tbody>\n",
       "\t<tr><th scope=row>NKX25_int_Fetal_heart_DHS_int_H3K27AC_CM_int_ATAC_CM</th><td> 39         </td><td> 14.08028   </td><td>3.373524e-09</td><td>2.769831    </td></tr>\n",
       "\t<tr><th scope=row>NKX25_int_Fetal_heart_DHS_int_H3K27AC_CM</th><td> 55         </td><td> 19.89463   </td><td>9.807875e-13</td><td>2.764565    </td></tr>\n",
       "\t<tr><th scope=row>NKX25_int_Fetal_heart_DHS_int_ATAC_CM</th><td> 44         </td><td> 16.17772   </td><td>5.675135e-10</td><td>2.719790    </td></tr>\n",
       "\t<tr><th scope=row>NKX25_int_Fetal_heart_DHS</th><td> 62         </td><td> 23.77582   </td><td>4.487265e-13</td><td>2.607691    </td></tr>\n",
       "\t<tr><th scope=row>NKX25_int_H3K27AC_CM_int_ATAC_CM</th><td> 39         </td><td> 15.06136   </td><td>2.160429e-08</td><td>2.589408    </td></tr>\n",
       "\t<tr><th scope=row>NKX25_int_H3K27AC_CM</th><td> 57         </td><td> 23.06913   </td><td>3.865604e-11</td><td>2.470835    </td></tr>\n",
       "\t<tr><th scope=row>NKX25_int_ATAC_CM</th><td> 44         </td><td> 18.14887   </td><td>2.009574e-08</td><td>2.424394    </td></tr>\n",
       "\t<tr><th scope=row>NKX25</th><td> 72         </td><td> 33.05498   </td><td>3.046348e-11</td><td>2.178189    </td></tr>\n",
       "\t<tr><th scope=row>ATAC_CM</th><td> 95         </td><td> 49.86317   </td><td>1.376271e-11</td><td>1.905214    </td></tr>\n",
       "\t<tr><th scope=row>Fetal_heart_DHS</th><td>210         </td><td>114.97743   </td><td>4.828900e-28</td><td>1.826445    </td></tr>\n",
       "\t<tr><th scope=row>H3K27AC_CM</th><td>177         </td><td> 97.37852   </td><td>1.099125e-21</td><td>1.817649    </td></tr>\n",
       "</tbody>\n",
       "</table>\n"
      ],
      "text/latex": [
       "\\begin{tabular}{r|llll}\n",
       "  & InBed\\_Index\\_SNP & ExpectNum\\_of\\_InBed\\_SNP & PValue & Foldchange\\\\\n",
       "\\hline\n",
       "\tNKX25\\_int\\_Fetal\\_heart\\_DHS\\_int\\_H3K27AC\\_CM\\_int\\_ATAC\\_CM &  39          &  14.08028    & 3.373524e-09 & 2.769831    \\\\\n",
       "\tNKX25\\_int\\_Fetal\\_heart\\_DHS\\_int\\_H3K27AC\\_CM &  55          &  19.89463    & 9.807875e-13 & 2.764565    \\\\\n",
       "\tNKX25\\_int\\_Fetal\\_heart\\_DHS\\_int\\_ATAC\\_CM &  44          &  16.17772    & 5.675135e-10 & 2.719790    \\\\\n",
       "\tNKX25\\_int\\_Fetal\\_heart\\_DHS &  62          &  23.77582    & 4.487265e-13 & 2.607691    \\\\\n",
       "\tNKX25\\_int\\_H3K27AC\\_CM\\_int\\_ATAC\\_CM &  39          &  15.06136    & 2.160429e-08 & 2.589408    \\\\\n",
       "\tNKX25\\_int\\_H3K27AC\\_CM &  57          &  23.06913    & 3.865604e-11 & 2.470835    \\\\\n",
       "\tNKX25\\_int\\_ATAC\\_CM &  44          &  18.14887    & 2.009574e-08 & 2.424394    \\\\\n",
       "\tNKX25 &  72          &  33.05498    & 3.046348e-11 & 2.178189    \\\\\n",
       "\tATAC\\_CM &  95          &  49.86317    & 1.376271e-11 & 1.905214    \\\\\n",
       "\tFetal\\_heart\\_DHS & 210          & 114.97743    & 4.828900e-28 & 1.826445    \\\\\n",
       "\tH3K27AC\\_CM & 177          &  97.37852    & 1.099125e-21 & 1.817649    \\\\\n",
       "\\end{tabular}\n"
      ],
      "text/plain": [
       "                                                     InBed_Index_SNP\n",
       "NKX25_int_Fetal_heart_DHS_int_H3K27AC_CM_int_ATAC_CM  39            \n",
       "NKX25_int_Fetal_heart_DHS_int_H3K27AC_CM              55            \n",
       "NKX25_int_Fetal_heart_DHS_int_ATAC_CM                 44            \n",
       "NKX25_int_Fetal_heart_DHS                             62            \n",
       "NKX25_int_H3K27AC_CM_int_ATAC_CM                      39            \n",
       "NKX25_int_H3K27AC_CM                                  57            \n",
       "NKX25_int_ATAC_CM                                     44            \n",
       "NKX25                                                 72            \n",
       "ATAC_CM                                               95            \n",
       "Fetal_heart_DHS                                      210            \n",
       "H3K27AC_CM                                           177            \n",
       "                                                     ExpectNum_of_InBed_SNP\n",
       "NKX25_int_Fetal_heart_DHS_int_H3K27AC_CM_int_ATAC_CM  14.08028             \n",
       "NKX25_int_Fetal_heart_DHS_int_H3K27AC_CM              19.89463             \n",
       "NKX25_int_Fetal_heart_DHS_int_ATAC_CM                 16.17772             \n",
       "NKX25_int_Fetal_heart_DHS                             23.77582             \n",
       "NKX25_int_H3K27AC_CM_int_ATAC_CM                      15.06136             \n",
       "NKX25_int_H3K27AC_CM                                  23.06913             \n",
       "NKX25_int_ATAC_CM                                     18.14887             \n",
       "NKX25                                                 33.05498             \n",
       "ATAC_CM                                               49.86317             \n",
       "Fetal_heart_DHS                                      114.97743             \n",
       "H3K27AC_CM                                            97.37852             \n",
       "                                                     PValue       Foldchange\n",
       "NKX25_int_Fetal_heart_DHS_int_H3K27AC_CM_int_ATAC_CM 3.373524e-09 2.769831  \n",
       "NKX25_int_Fetal_heart_DHS_int_H3K27AC_CM             9.807875e-13 2.764565  \n",
       "NKX25_int_Fetal_heart_DHS_int_ATAC_CM                5.675135e-10 2.719790  \n",
       "NKX25_int_Fetal_heart_DHS                            4.487265e-13 2.607691  \n",
       "NKX25_int_H3K27AC_CM_int_ATAC_CM                     2.160429e-08 2.589408  \n",
       "NKX25_int_H3K27AC_CM                                 3.865604e-11 2.470835  \n",
       "NKX25_int_ATAC_CM                                    2.009574e-08 2.424394  \n",
       "NKX25                                                3.046348e-11 2.178189  \n",
       "ATAC_CM                                              1.376271e-11 1.905214  \n",
       "Fetal_heart_DHS                                      4.828900e-28 1.826445  \n",
       "H3K27AC_CM                                           1.099125e-21 1.817649  "
      ]
     },
     "metadata": {},
     "output_type": "display_data"
    }
   ],
   "source": [
    "tab"
   ]
  },
  {
   "cell_type": "code",
   "execution_count": 609,
   "metadata": {
    "collapsed": true
   },
   "outputs": [],
   "source": [
    "chi= tab[c('NKX25', 'NKX25_int_H3K27AC_CM_int_ATAC_CM'),1:2]"
   ]
  },
  {
   "cell_type": "code",
   "execution_count": 613,
   "metadata": {
    "collapsed": false
   },
   "outputs": [
    {
     "data": {
      "text/html": [
       "<table>\n",
       "<thead><tr><th></th><th scope=col>InBed_Index_SNP</th><th scope=col>ExpectNum_of_InBed_SNP</th></tr></thead>\n",
       "<tbody>\n",
       "\t<tr><th scope=row>NKX25</th><td>72      </td><td>33.05498</td></tr>\n",
       "\t<tr><th scope=row>NKX25_int_H3K27AC_CM_int_ATAC_CM</th><td>39      </td><td>15.06136</td></tr>\n",
       "</tbody>\n",
       "</table>\n"
      ],
      "text/latex": [
       "\\begin{tabular}{r|ll}\n",
       "  & InBed\\_Index\\_SNP & ExpectNum\\_of\\_InBed\\_SNP\\\\\n",
       "\\hline\n",
       "\tNKX25 & 72       & 33.05498\\\\\n",
       "\tNKX25\\_int\\_H3K27AC\\_CM\\_int\\_ATAC\\_CM & 39       & 15.06136\\\\\n",
       "\\end{tabular}\n"
      ],
      "text/plain": [
       "                                 InBed_Index_SNP ExpectNum_of_InBed_SNP\n",
       "NKX25                            72              33.05498              \n",
       "NKX25_int_H3K27AC_CM_int_ATAC_CM 39              15.06136              "
      ]
     },
     "metadata": {},
     "output_type": "display_data"
    }
   ],
   "source": [
    "chi"
   ]
  },
  {
   "cell_type": "code",
   "execution_count": 617,
   "metadata": {
    "collapsed": false
   },
   "outputs": [
    {
     "data": {
      "text/plain": [
       "\n",
       "\tPearson's Chi-squared test with Yates' continuity correction\n",
       "\n",
       "data:  chi\n",
       "X-squared = 0.082184, df = 1, p-value = 0.7744\n"
      ]
     },
     "metadata": {},
     "output_type": "display_data"
    }
   ],
   "source": [
    "chisq.test(chi)"
   ]
  },
  {
   "cell_type": "code",
   "execution_count": 526,
   "metadata": {
    "collapsed": false,
    "scrolled": true
   },
   "outputs": [
    {
     "data": {
      "image/png": "[encoded data removed]",
      "text/plain": [
       "plot without title"
      ]
     },
     "metadata": {},
     "output_type": "display_data"
    }
   ],
   "source": [
    "par( mfrow=c(2,3),mar=c(2,10,2,10), pin=c(1,1.5))\n",
    "plot.new()\n",
    "barplot(rev(tab$Foldchange), horiz=T, names.arg= rev(rownames(tab)), las=2, xlab=\"Fold Enrichment\")\n",
    "barplot(rev(tab$InBed_Index_SNP), horiz=T, las=2, xlab=\"No. GWAS\")\n",
    "\n",
    "#### start the plot at 1"
   ]
  },
  {
   "cell_type": "code",
   "execution_count": 527,
   "metadata": {
    "collapsed": false
   },
   "outputs": [],
   "source": [
    "calc = c('H3K27AC_CM','ATAC_CM','Fetal_heart_DHS')\n"
   ]
  },
  {
   "cell_type": "code",
   "execution_count": 528,
   "metadata": {
    "collapsed": false
   },
   "outputs": [
    {
     "ename": "ERROR",
     "evalue": "Error in `[.data.frame`(tab, , calc): undefined columns selected\n",
     "output_type": "error",
     "traceback": [
      "Error in `[.data.frame`(tab, , calc): undefined columns selected\nTraceback:\n",
      "1. tab[, calc]",
      "2. `[.data.frame`(tab, , calc)",
      "3. stop(\"undefined columns selected\")"
     ]
    }
   ],
   "source": [
    "tab_rect = tab[,calc]"
   ]
  },
  {
   "cell_type": "code",
   "execution_count": 529,
   "metadata": {
    "collapsed": false
   },
   "outputs": [],
   "source": [
    "tab_rect$NKX25 = c(rep(1,8), 0,0,0)"
   ]
  },
  {
   "cell_type": "code",
   "execution_count": 530,
   "metadata": {
    "collapsed": false
   },
   "outputs": [],
   "source": [
    "tab_rect = tab_rect[, c(4,1,2,3)]"
   ]
  },
  {
   "cell_type": "code",
   "execution_count": 531,
   "metadata": {
    "collapsed": false
   },
   "outputs": [
    {
     "data": {
      "text/html": [
       "<ol class=list-inline>\n",
       "\t<li>11</li>\n",
       "\t<li>4</li>\n",
       "</ol>\n"
      ],
      "text/latex": [
       "\\begin{enumerate*}\n",
       "\\item 11\n",
       "\\item 4\n",
       "\\end{enumerate*}\n"
      ],
      "text/markdown": [
       "1. 11\n",
       "2. 4\n",
       "\n",
       "\n"
      ],
      "text/plain": [
       "[1] 11  4"
      ]
     },
     "metadata": {},
     "output_type": "display_data"
    }
   ],
   "source": [
    "dim(tab_rect)"
   ]
  },
  {
   "cell_type": "code",
   "execution_count": 532,
   "metadata": {
    "collapsed": false,
    "scrolled": true
   },
   "outputs": [
    {
     "data": {
      "image/png": "[encoded data removed]",
      "text/plain": [
       "plot without title"
      ]
     },
     "metadata": {},
     "output_type": "display_data"
    }
   ],
   "source": [
    "par( mfrow=c(2,3),mar=c(2,10,2,10), pin=c(0.5,1.5))\n",
    "barplot(t(tab_rect[11:1,]), col= rainbow(11), horiz=T, las=2, xlim=c(5,1))\n",
    "par(  pin=c(0.8,1.5))\n",
    "barplot(rev(tab$Foldchange-1), horiz=T, las=2, xlab=\"Fold Enrichment(+1)\", xlim=c(0,2))\n",
    "barplot(rev(tab$InBed_Index_SNP), horiz=T, las=2, xlab=\"No. GWAS\")\n",
    "\n"
   ]
  },
  {
   "cell_type": "markdown",
   "metadata": {},
   "source": [
    "For each NKX2-5 peak that contains one or more GWAS SNPs, annotate each SNPs with the following anformations:\n",
    "1. lead yes-no\n",
    "2. gtex eqtl yes - no \n",
    "3. motif distruption yes -no\n",
    "4. tested in the family for ASE and result\n",
    "5. signifcant association cardips fast eqtl    "
   ]
  },
  {
   "cell_type": "code",
   "execution_count": 25,
   "metadata": {
    "collapsed": true
   },
   "outputs": [],
   "source": [
    "chips = c(\"NKX25\", 'H3K27AC_CM', 'ATAC_CM' , \"Fetal_heart_DHS\")"
   ]
  },
  {
   "cell_type": "code",
   "execution_count": 26,
   "metadata": {
    "collapsed": true
   },
   "outputs": [],
   "source": [
    "folders = c('all_ekg_NKX_H3K' , 'all_ekg_NKX_H3K', 'all_ekg_ATAC_FH', 'all_ekg_ATAC_FH')"
   ]
  },
  {
   "cell_type": "code",
   "execution_count": 32,
   "metadata": {
    "collapsed": false
   },
   "outputs": [],
   "source": [
    "for(n in 1:length(chips)){\n",
    "\n",
    "mark = chips[n]\n",
    "overlap=data.frame()\n",
    "\n",
    "for (chr in 1:22){\n",
    "file = paste (\"traits/\", folders[n],  \"/index.SNP.and.LD.for.top.2.bed/\" , mark, \".chr\",  chr, \".txt\", sep=\"\")\n",
    " \n",
    "    if (chr == 1) {snps = read.table(file, sep=\"\\t\", header=T, stringsAsFactor=F)}\n",
    "     else      {  \n",
    "                 snps = read.table(file, sep=\"\\t\", header=F, stringsAsFactor=F)\n",
    "                 colnames(snps)= c('indexSNP','LD','start','end')\n",
    "     }\n",
    "\n",
    "    if(nrow(snps)>0){\n",
    "    snps2 = subset(snps, start>0)\n",
    "            \n",
    "overlap = rbind(overlap, snps2)\n",
    "    }\n",
    "}\n",
    "    \n",
    "assign(mark,overlap)\n",
    "}"
   ]
  },
  {
   "cell_type": "code",
   "execution_count": 37,
   "metadata": {
    "collapsed": false
   },
   "outputs": [],
   "source": [
    "NKX25$H3K27AC_CM = NKX25$LD %in% H3K27AC_CM$LD\n",
    "NKX25$ATAC_CM = NKX25$LD %in% ATAC_CM$LD\n",
    "NKX25$Fetal_heart_DHS = NKX25$LD %in% Fetal_heart_DHS$LD\n",
    "NKX25$Lead = NKX25$indexSNP == NKX25$LD"
   ]
  },
  {
   "cell_type": "code",
   "execution_count": 130,
   "metadata": {
    "collapsed": true
   },
   "outputs": [],
   "source": [
    "combinatons = str_split_fixed(rownames(tab), \"_int_\", 4)"
   ]
  },
  {
   "cell_type": "code",
   "execution_count": 131,
   "metadata": {
    "collapsed": false
   },
   "outputs": [],
   "source": [
    "tab$H3K27AC_CM = rowSums (apply(combinatons, 2, match, \"H3K27AC_CM\" ), na.rm=T)\n",
    "tab$ATAC_CM = rowSums (apply(combinatons, 2, match, \"ATAC_CM\" ), na.rm=T)\n",
    "tab$Fetal_heart_DHS = rowSums (apply(combinatons, 2, match, \"Fetal_heart_DHS\" ), na.rm=T)\n"
   ]
  },
  {
   "cell_type": "code",
   "execution_count": 133,
   "metadata": {
    "collapsed": false
   },
   "outputs": [],
   "source": [
    "x= mapply (as.numeric, NKX25[, calc], 1)"
   ]
  },
  {
   "cell_type": "code",
   "execution_count": 134,
   "metadata": {
    "collapsed": false
   },
   "outputs": [],
   "source": [
    "y = tab[1:8, calc]"
   ]
  },
  {
   "cell_type": "code",
   "execution_count": 135,
   "metadata": {
    "collapsed": false
   },
   "outputs": [],
   "source": [
    "score = as.integer()\n",
    "for (n in 1:nrow(x)) {\n",
    "    score[n]= tab$Foldchange [which(apply(y, 1, function(a) all(a == x[n,])))]\n",
    "        }"
   ]
  },
  {
   "cell_type": "code",
   "execution_count": 136,
   "metadata": {
    "collapsed": false
   },
   "outputs": [],
   "source": [
    "NKX25$score = score"
   ]
  },
  {
   "cell_type": "code",
   "execution_count": 157,
   "metadata": {
    "collapsed": false
   },
   "outputs": [
    {
     "data": {
      "text/html": [
       "<table>\n",
       "<thead><tr><th></th><th scope=col>indexSNP</th><th scope=col>LD</th><th scope=col>start</th><th scope=col>end</th><th scope=col>H3K27AC_CM</th><th scope=col>ATAC_CM</th><th scope=col>Fetal_heart_DHS</th><th scope=col>Lead</th><th scope=col>score</th><th scope=col>GTEX</th><th scope=col>tested</th><th scope=col>ASE</th><th scope=col>peak</th></tr></thead>\n",
       "<tbody>\n",
       "\t<tr><th scope=row>30</th><td>1:205696615             </td><td>1:205744138             </td><td>205744024               </td><td>205744354               </td><td> TRUE                   </td><td>FALSE                   </td><td> TRUE                   </td><td>FALSE                   </td><td>2.764565                </td><td> TRUE                   </td><td> TRUE                   </td><td>FALSE                   </td><td>chr1:205744024-205744354</td></tr>\n",
       "\t<tr><th scope=row>32</th><td>1:205696615             </td><td>1:205718858             </td><td>205718587               </td><td>205720187               </td><td> TRUE                   </td><td> TRUE                   </td><td> TRUE                   </td><td>FALSE                   </td><td>2.769831                </td><td> TRUE                   </td><td> TRUE                   </td><td>FALSE                   </td><td>chr1:205718587-205720187</td></tr>\n",
       "\t<tr><th scope=row>172</th><td>1:162085685             </td><td>1:162084658             </td><td>162084597               </td><td>162084832               </td><td>FALSE                   </td><td>FALSE                   </td><td>FALSE                   </td><td>FALSE                   </td><td>2.178189                </td><td>FALSE                   </td><td> TRUE                   </td><td>FALSE                   </td><td>chr1:162084597-162084832</td></tr>\n",
       "\t<tr><th scope=row>209</th><td>1:61894902              </td><td>1:61886744              </td><td> 61886669               </td><td> 61887116               </td><td> TRUE                   </td><td>FALSE                   </td><td> TRUE                   </td><td>FALSE                   </td><td>2.764565                </td><td>FALSE                   </td><td> TRUE                   </td><td>FALSE                   </td><td>chr1:61886669-61887116  </td></tr>\n",
       "\t<tr><th scope=row>532</th><td>1:66991346              </td><td>1:67006399              </td><td> 67006399               </td><td> 67006625               </td><td> TRUE                   </td><td>FALSE                   </td><td> TRUE                   </td><td>FALSE                   </td><td>2.764565                </td><td> TRUE                   </td><td>FALSE                   </td><td>   NA                   </td><td>chr1:67006399-67006625  </td></tr>\n",
       "\t<tr><th scope=row>565</th><td>1:168689940             </td><td>1:168692515             </td><td>168692140               </td><td>168692529               </td><td> TRUE                   </td><td>FALSE                   </td><td> TRUE                   </td><td>FALSE                   </td><td>2.764565                </td><td>FALSE                   </td><td>FALSE                   </td><td>   NA                   </td><td>chr1:168692140-168692529</td></tr>\n",
       "</tbody>\n",
       "</table>\n"
      ],
      "text/latex": [
       "\\begin{tabular}{r|lllllllllllll}\n",
       "  & indexSNP & LD & start & end & H3K27AC\\_CM & ATAC\\_CM & Fetal\\_heart\\_DHS & Lead & score & GTEX & tested & ASE & peak\\\\\n",
       "\\hline\n",
       "\t30 & 1:205696615              & 1:205744138              & 205744024                & 205744354                &  TRUE                    & FALSE                    &  TRUE                    & FALSE                    & 2.764565                 &  TRUE                    &  TRUE                    & FALSE                    & chr1:205744024-205744354\\\\\n",
       "\t32 & 1:205696615              & 1:205718858              & 205718587                & 205720187                &  TRUE                    &  TRUE                    &  TRUE                    & FALSE                    & 2.769831                 &  TRUE                    &  TRUE                    & FALSE                    & chr1:205718587-205720187\\\\\n",
       "\t172 & 1:162085685              & 1:162084658              & 162084597                & 162084832                & FALSE                    & FALSE                    & FALSE                    & FALSE                    & 2.178189                 & FALSE                    &  TRUE                    & FALSE                    & chr1:162084597-162084832\\\\\n",
       "\t209 & 1:61894902               & 1:61886744               &  61886669                &  61887116                &  TRUE                    & FALSE                    &  TRUE                    & FALSE                    & 2.764565                 & FALSE                    &  TRUE                    & FALSE                    & chr1:61886669-61887116  \\\\\n",
       "\t532 & 1:66991346               & 1:67006399               &  67006399                &  67006625                &  TRUE                    & FALSE                    &  TRUE                    & FALSE                    & 2.764565                 &  TRUE                    & FALSE                    &    NA                    & chr1:67006399-67006625  \\\\\n",
       "\t565 & 1:168689940              & 1:168692515              & 168692140                & 168692529                &  TRUE                    & FALSE                    &  TRUE                    & FALSE                    & 2.764565                 & FALSE                    & FALSE                    &    NA                    & chr1:168692140-168692529\\\\\n",
       "\\end{tabular}\n"
      ],
      "text/plain": [
       "    indexSNP    LD          start     end       H3K27AC_CM ATAC_CM\n",
       "30  1:205696615 1:205744138 205744024 205744354  TRUE      FALSE  \n",
       "32  1:205696615 1:205718858 205718587 205720187  TRUE       TRUE  \n",
       "172 1:162085685 1:162084658 162084597 162084832 FALSE      FALSE  \n",
       "209 1:61894902  1:61886744   61886669  61887116  TRUE      FALSE  \n",
       "532 1:66991346  1:67006399   67006399  67006625  TRUE      FALSE  \n",
       "565 1:168689940 1:168692515 168692140 168692529  TRUE      FALSE  \n",
       "    Fetal_heart_DHS Lead  score    GTEX  tested ASE   peak                    \n",
       "30   TRUE           FALSE 2.764565  TRUE  TRUE  FALSE chr1:205744024-205744354\n",
       "32   TRUE           FALSE 2.769831  TRUE  TRUE  FALSE chr1:205718587-205720187\n",
       "172 FALSE           FALSE 2.178189 FALSE  TRUE  FALSE chr1:162084597-162084832\n",
       "209  TRUE           FALSE 2.764565 FALSE  TRUE  FALSE chr1:61886669-61887116  \n",
       "532  TRUE           FALSE 2.764565  TRUE FALSE     NA chr1:67006399-67006625  \n",
       "565  TRUE           FALSE 2.764565 FALSE FALSE     NA chr1:168692140-168692529"
      ]
     },
     "metadata": {},
     "output_type": "display_data"
    }
   ],
   "source": [
    "head(NKX25)"
   ]
  },
  {
   "cell_type": "code",
   "execution_count": 138,
   "metadata": {
    "collapsed": true
   },
   "outputs": [],
   "source": [
    "gtex1 = read.table('/publicdata/gtex_v6/Heart_Atrial_Appendage_Analysis.snpgenes', header=T, sep=\"\\t\")"
   ]
  },
  {
   "cell_type": "code",
   "execution_count": 139,
   "metadata": {
    "collapsed": false
   },
   "outputs": [],
   "source": [
    "gtex1$SNP = paste(gtex1$snp_chrom, gtex1$snp_pos, sep=\":\")"
   ]
  },
  {
   "cell_type": "code",
   "execution_count": 140,
   "metadata": {
    "collapsed": true
   },
   "outputs": [],
   "source": [
    "gtex2 = read.table('/publicdata/gtex_v6/Heart_Left_Ventricle_Analysis.snpgenes', header=T, sep=\"\\t\")\n",
    "gtex2$SNP = paste(gtex2$snp_chrom, gtex2$snp_pos, sep=\":\")"
   ]
  },
  {
   "cell_type": "code",
   "execution_count": 141,
   "metadata": {
    "collapsed": true
   },
   "outputs": [],
   "source": [
    "NKX25$GTEX = NKX25$LD %in% gtex1$SNP | NKX25$LD %in% gtex2$SNP"
   ]
  },
  {
   "cell_type": "markdown",
   "metadata": {},
   "source": [
    "### Calculate enrichemnt for ASE over tested SNPs"
   ]
  },
  {
   "cell_type": "code",
   "execution_count": 620,
   "metadata": {
    "collapsed": true
   },
   "outputs": [],
   "source": [
    "beda = \"/home/paola/Family1070/private_output/Motif_analysis_R/NKX25/all_snps.bed\"\n",
    "bedb = \"bedfiles/H3K27AC_CM\"\n",
    "bedc = \"bedfiles/ATAC_CM\""
   ]
  },
  {
   "cell_type": "code",
   "execution_count": 623,
   "metadata": {
    "collapsed": true
   },
   "outputs": [],
   "source": [
    "command1 = paste(\"bedtools intersect -a\", beda, \"-b\", bedb, \"> NKX25_snps_H3K27ac\")\n",
    "command2 = paste(\"bedtools intersect -a\", beda, \"-b\", bedc, \"> NKX25_snps_ATAC\")"
   ]
  },
  {
   "cell_type": "code",
   "execution_count": 624,
   "metadata": {
    "collapsed": false
   },
   "outputs": [],
   "source": [
    "system(command1)\n",
    "system(command2)"
   ]
  },
  {
   "cell_type": "code",
   "execution_count": 625,
   "metadata": {
    "collapsed": true
   },
   "outputs": [],
   "source": [
    "tested = read.table(\"/home/paola/Family1070/private_output/ASE_chip/correlationWithBeta/ASE.tested.NKX25.txt\", header=T, sep=\"\\t\")\n",
    "tested$SNP = substring(tested$variantID, 4)\n",
    "NKX25$tested = NKX25$LD %in% tested$SNP\n",
    "NKX25$ASE = NKX25$LD %in% tested$SNP[tested$combined_fdr<0.05]\n",
    "NKX25$ASE[NKX25$tested==F]<-NA"
   ]
  },
  {
   "cell_type": "code",
   "execution_count": 626,
   "metadata": {
    "collapsed": false
   },
   "outputs": [
    {
     "data": {
      "text/html": [
       "<dl class=dl-horizontal>\n",
       "\t<dt>H3K27AC_CM</dt>\n",
       "\t\t<dd>97</dd>\n",
       "\t<dt>ATAC_CM</dt>\n",
       "\t\t<dd>61</dd>\n",
       "\t<dt>Fetal_heart_DHS</dt>\n",
       "\t\t<dd>99</dd>\n",
       "\t<dt>Lead</dt>\n",
       "\t\t<dd>14</dd>\n",
       "\t<dt>score</dt>\n",
       "\t\t<dd>323.571693668338</dd>\n",
       "\t<dt>GTEX</dt>\n",
       "\t\t<dd>30</dd>\n",
       "\t<dt>tested</dt>\n",
       "\t\t<dd>81</dd>\n",
       "\t<dt>ASE</dt>\n",
       "\t\t<dd>14</dd>\n",
       "</dl>\n"
      ],
      "text/latex": [
       "\\begin{description*}\n",
       "\\item[H3K27AC\\textbackslash{}\\_CM] 97\n",
       "\\item[ATAC\\textbackslash{}\\_CM] 61\n",
       "\\item[Fetal\\textbackslash{}\\_heart\\textbackslash{}\\_DHS] 99\n",
       "\\item[Lead] 14\n",
       "\\item[score] 323.571693668338\n",
       "\\item[GTEX] 30\n",
       "\\item[tested] 81\n",
       "\\item[ASE] 14\n",
       "\\end{description*}\n"
      ],
      "text/markdown": [
       "H3K27AC_CM\n",
       ":   97ATAC_CM\n",
       ":   61Fetal_heart_DHS\n",
       ":   99Lead\n",
       ":   14score\n",
       ":   323.571693668338GTEX\n",
       ":   30tested\n",
       ":   81ASE\n",
       ":   14\n",
       "\n"
      ],
      "text/plain": [
       "     H3K27AC_CM         ATAC_CM Fetal_heart_DHS            Lead           score \n",
       "        97.0000         61.0000         99.0000         14.0000        323.5717 \n",
       "           GTEX          tested             ASE \n",
       "        30.0000         81.0000         14.0000 "
      ]
     },
     "metadata": {},
     "output_type": "display_data"
    }
   ],
   "source": [
    "colSums(NKX25[,5:12], na.rm=T)"
   ]
  },
  {
   "cell_type": "code",
   "execution_count": 627,
   "metadata": {
    "collapsed": false
   },
   "outputs": [],
   "source": [
    "tested$EKG = tested$SNP %in% NKX25$LD"
   ]
  },
  {
   "cell_type": "code",
   "execution_count": 631,
   "metadata": {
    "collapsed": false
   },
   "outputs": [],
   "source": [
    "tested_h = read.table(\"NKX25_snps_H3K27ac\", header=F)\n",
    "tested_a = read.table(\"NKX25_snps_ATAC\", header=F)"
   ]
  },
  {
   "cell_type": "code",
   "execution_count": 632,
   "metadata": {
    "collapsed": false
   },
   "outputs": [],
   "source": [
    "tested$H3K27ac = tested$variantID %in% tested_h$V4\n",
    "tested$ATAC = tested$variantID %in% tested_a$V4"
   ]
  },
  {
   "cell_type": "code",
   "execution_count": 640,
   "metadata": {
    "collapsed": false
   },
   "outputs": [],
   "source": [
    "ta = table(tested$EKG, tested$combined_fdr<0.05)\n",
    "ta_h = table(tested$EKG[tested$H3K27ac==T], tested$combined_fdr[tested$H3K27ac==T]<0.05)\n",
    "ta_a = table(tested$EKG[tested$ATAC==T], tested$combined_fdr[tested$ATAC==T]<0.05)\n",
    "ta_ha = table(tested$EKG[tested$H3K27ac==T&tested$ATAC==T], tested$combined_fdr[tested$H3K27ac==T&tested$ATAC==T]<0.05)"
   ]
  },
  {
   "cell_type": "code",
   "execution_count": 641,
   "metadata": {
    "collapsed": false,
    "scrolled": true
   },
   "outputs": [
    {
     "data": {
      "text/plain": [
       "\n",
       "\tFisher's Exact Test for Count Data\n",
       "\n",
       "data:  ta\n",
       "p-value = 0.0392\n",
       "alternative hypothesis: true odds ratio is not equal to 1\n",
       "95 percent confidence interval:\n",
       " 0.9752464 3.3905947\n",
       "sample estimates:\n",
       "odds ratio \n",
       "  1.882595 \n"
      ]
     },
     "metadata": {},
     "output_type": "display_data"
    },
    {
     "data": {
      "text/plain": [
       "\n",
       "\tFisher's Exact Test for Count Data\n",
       "\n",
       "data:  ta_h\n",
       "p-value = 0.2884\n",
       "alternative hypothesis: true odds ratio is not equal to 1\n",
       "95 percent confidence interval:\n",
       " 0.5548501 3.6767186\n",
       "sample estimates:\n",
       "odds ratio \n",
       "  1.580766 \n"
      ]
     },
     "metadata": {},
     "output_type": "display_data"
    },
    {
     "data": {
      "text/plain": [
       "\n",
       "\tFisher's Exact Test for Count Data\n",
       "\n",
       "data:  ta_a\n",
       "p-value = 0.1359\n",
       "alternative hypothesis: true odds ratio is not equal to 1\n",
       "95 percent confidence interval:\n",
       " 0.7449113 4.0468041\n",
       "sample estimates:\n",
       "odds ratio \n",
       "  1.853311 \n"
      ]
     },
     "metadata": {},
     "output_type": "display_data"
    },
    {
     "data": {
      "text/plain": [
       "\n",
       "\tFisher's Exact Test for Count Data\n",
       "\n",
       "data:  ta_ha\n",
       "p-value = 0.06936\n",
       "alternative hypothesis: true odds ratio is not equal to 1\n",
       "95 percent confidence interval:\n",
       " 0.7661443 5.4052711\n",
       "sample estimates:\n",
       "odds ratio \n",
       "  2.237483 \n"
      ]
     },
     "metadata": {},
     "output_type": "display_data"
    }
   ],
   "source": [
    "fisher.test(ta)\n",
    "fisher.test(ta_h)\n",
    "fisher.test(ta_a)\n",
    "fisher.test(ta_ha)"
   ]
  },
  {
   "cell_type": "code",
   "execution_count": 694,
   "metadata": {
    "collapsed": false
   },
   "outputs": [],
   "source": [
    "colnames(ta)= colnames(ta_h)= colnames(ta_a) = colnames(ta_ha) = c(\"NO ASE\", \"ASE\")\n",
    "rownames(ta)= rownames(ta_h)= rownames(ta_a) = rownames(ta_ha) = c(\"NO EKG GWAS\", \"EKG GWAS\")\n",
    "\n",
    "pt = ta[2,]/colSums(ta)\n",
    "pt2 = ta[,2]/rowSums(ta)\n",
    "\n",
    "pt_h  = ta_h[2,]/colSums(ta_h)\n",
    "pt_a  = ta_a[2,]/colSums(ta_a)\n",
    "pt_ha = ta_ha[2,]/colSums(ta_ha)\n",
    "\n",
    "pt_h2  = ta_h[,2]/rowSums(ta_h)\n",
    "pt_a2  = ta_a[,2]/rowSums(ta_a)\n",
    "pt_ha2 = ta_ha[,2]/rowSums(ta_ha)"
   ]
  },
  {
   "cell_type": "code",
   "execution_count": 695,
   "metadata": {
    "collapsed": false
   },
   "outputs": [
    {
     "data": {
      "text/plain": [
       "             \n",
       "              NO ASE   ASE\n",
       "  NO EKG GWAS  17363  1927\n",
       "  EKG GWAS        67    14"
      ]
     },
     "metadata": {},
     "output_type": "display_data"
    }
   ],
   "source": [
    "ta"
   ]
  },
  {
   "cell_type": "code",
   "execution_count": 696,
   "metadata": {
    "collapsed": false
   },
   "outputs": [],
   "source": [
    "combo = rbind(pt, pt_a, pt_h, pt_ha)*100\n",
    "combo2 = rbind(pt2, pt_a2, pt_h2, pt_ha2)*100\n",
    "combo3 = rbind(ta[2,],ta_a[2,],ta_h[2,],ta_ha[2,])"
   ]
  },
  {
   "cell_type": "code",
   "execution_count": 697,
   "metadata": {
    "collapsed": false
   },
   "outputs": [
    {
     "data": {
      "text/html": [
       "<table>\n",
       "<thead><tr><th scope=col>NO ASE</th><th scope=col>ASE</th></tr></thead>\n",
       "<tbody>\n",
       "\t<tr><td>67</td><td>14</td></tr>\n",
       "\t<tr><td>38</td><td> 8</td></tr>\n",
       "\t<tr><td>56</td><td> 6</td></tr>\n",
       "\t<tr><td>35</td><td> 6</td></tr>\n",
       "</tbody>\n",
       "</table>\n"
      ],
      "text/latex": [
       "\\begin{tabular}{ll}\n",
       " NO ASE & ASE\\\\\n",
       "\\hline\n",
       "\t 67 & 14\\\\\n",
       "\t 38 &  8\\\\\n",
       "\t 56 &  6\\\\\n",
       "\t 35 &  6\\\\\n",
       "\\end{tabular}\n"
      ],
      "text/markdown": [
       "1. 67\n",
       "2. 38\n",
       "3. 56\n",
       "4. 35\n",
       "5. 14\n",
       "6. 8\n",
       "7. 6\n",
       "8. 6\n",
       "\n",
       "\n"
      ],
      "text/plain": [
       "     NO ASE ASE\n",
       "[1,] 67     14 \n",
       "[2,] 38      8 \n",
       "[3,] 56      6 \n",
       "[4,] 35      6 "
      ]
     },
     "metadata": {},
     "output_type": "display_data"
    }
   ],
   "source": [
    "combo3"
   ]
  },
  {
   "cell_type": "code",
   "execution_count": 698,
   "metadata": {
    "collapsed": true
   },
   "outputs": [],
   "source": [
    "combo3=combo3[,2:1]"
   ]
  },
  {
   "cell_type": "code",
   "execution_count": 700,
   "metadata": {
    "collapsed": false,
    "scrolled": true
   },
   "outputs": [
    {
     "data": {
      "text/html": [
       "<strong>png:</strong> 2"
      ],
      "text/latex": [
       "\\textbf{png:} 2"
      ],
      "text/markdown": [
       "**png:** 2"
      ],
      "text/plain": [
       "png \n",
       "  2 "
      ]
     },
     "metadata": {},
     "output_type": "display_data"
    }
   ],
   "source": [
    "pdf('/frazer01/home/paola/Family1070/private_output/Figures/Fold_enrichments_fig_ase.pdf')\n",
    "par(mfrow=c(2,2), pin=c(1,1))\n",
    "barplot(pt*100, las=1, ylim=c(0, 0.8), ylab = \"% tested SNVs is EKG\" )\n",
    "barplot(pt2*100, las=1, ylim=c(0, 20), ylab = \"% tested SNVs is ASE\")\n",
    "par( pin=c(1,1),xpd=TRUE)\n",
    "\n",
    "barplot(t(combo), col= topo.colors(2), horiz=T, las=2, beside=T , xlab = \"% tested SNVs is EKG\")\n",
    "legend(0,20, pch=22, pt.bg= topo.colors(2), colnames(combo), pt.cex=1.8)\n",
    "#barplot(t(combo2), col= topo.colors(2), horiz=T, las=2, beside=T , xlim=c(0,20), xlab = \"% tested SNVs is ASE\")\n",
    "#legend(0,20, pch=22, pt.bg= topo.colors(2), colnames(combo2), pt.cex=1.8)\n",
    "\n",
    "\n",
    "barplot(t(combo3), col= rev(topo.colors(2)), horiz=T, las=2, xlab = \"No. EKG GWAS SNVs\")\n",
    "\n",
    "dev.off()\n",
    "\n"
   ]
  },
  {
   "cell_type": "code",
   "execution_count": 692,
   "metadata": {
    "collapsed": false
   },
   "outputs": [
    {
     "data": {
      "text/html": [
       "<ol class=list-inline>\n",
       "\t<li>121</li>\n",
       "\t<li>3</li>\n",
       "</ol>\n"
      ],
      "text/latex": [
       "\\begin{enumerate*}\n",
       "\\item 121\n",
       "\\item 3\n",
       "\\end{enumerate*}\n"
      ],
      "text/markdown": [
       "1. 121\n",
       "2. 3\n",
       "\n",
       "\n"
      ],
      "text/plain": [
       "[1] 121   3"
      ]
     },
     "metadata": {},
     "output_type": "display_data"
    },
    {
     "data": {
      "text/html": [
       "<ol class=list-inline>\n",
       "\t<li>72</li>\n",
       "\t<li>3</li>\n",
       "</ol>\n"
      ],
      "text/latex": [
       "\\begin{enumerate*}\n",
       "\\item 72\n",
       "\\item 3\n",
       "\\end{enumerate*}\n"
      ],
      "text/markdown": [
       "1. 72\n",
       "2. 3\n",
       "\n",
       "\n"
      ],
      "text/plain": [
       "[1] 72  3"
      ]
     },
     "metadata": {},
     "output_type": "display_data"
    }
   ],
   "source": [
    "uni = NKX25[order(NKX25$ASE, decreasing=T), c(\"indexSNP\", \"LD\", \"ASE\")] ## order to favor ase\n",
    "uni = NKX25[order(NKX25$LD), c(\"indexSNP\", \"LD\", \"ASE\")] ## order by position\n",
    "\n",
    "dim(uni)\n",
    "uni = subset(uni, !duplicated(indexSNP))\n",
    "dim(uni)\n",
    "tested2 = merge(tested, uni[, c(\"indexSNP\", \"LD\")], by.x=\"SNP\", by.y=\"LD\", all.x=T)"
   ]
  },
  {
   "cell_type": "code",
   "execution_count": 643,
   "metadata": {
    "collapsed": false
   },
   "outputs": [
    {
     "data": {
      "text/plain": [
       "\n",
       "\tFisher's Exact Test for Count Data\n",
       "\n",
       "data:  table(!is.na(tested2$indexSNP), tested2$combined_fdr < 0.05)\n",
       "p-value = 0.04432\n",
       "alternative hypothesis: true odds ratio is not equal to 1\n",
       "95 percent confidence interval:\n",
       " 0.9279006 4.6282938\n",
       "sample estimates:\n",
       "odds ratio \n",
       "  2.189699 \n"
      ]
     },
     "metadata": {},
     "output_type": "display_data"
    }
   ],
   "source": [
    "fisher.test(table(!is.na(tested2$indexSNP), tested2$combined_fdr<0.05))"
   ]
  },
  {
   "cell_type": "code",
   "execution_count": null,
   "metadata": {
    "collapsed": true
   },
   "outputs": [],
   "source": [
    "fisher.test(table(!is.na(tested2$indexSNP), tested2$combined_fdr<0.05))"
   ]
  },
  {
   "cell_type": "code",
   "execution_count": 338,
   "metadata": {
    "collapsed": false
   },
   "outputs": [
    {
     "data": {
      "text/plain": [
       "       \n",
       "        FALSE  TRUE\n",
       "  FALSE 17393  1932\n",
       "  TRUE     37     9"
      ]
     },
     "metadata": {},
     "output_type": "display_data"
    }
   ],
   "source": [
    "table(!is.na(tested2$indexSNP), tested2$combined_fdr<0.05)"
   ]
  },
  {
   "cell_type": "code",
   "execution_count": 156,
   "metadata": {
    "collapsed": true
   },
   "outputs": [],
   "source": [
    "NKX25$peak = paste(\"chr\", str_split_fixed(NKX25$LD, \":\", 2)[,1], \":\", NKX25$start, \"-\", NKX25$end, sep=\"\")"
   ]
  },
  {
   "cell_type": "code",
   "execution_count": 158,
   "metadata": {
    "collapsed": true
   },
   "outputs": [],
   "source": [
    "NKX25 = NKX25[order(NKX25$score, decreasing=F),]\n",
    "NKX25 = NKX25[order(NKX25$peak),]"
   ]
  },
  {
   "cell_type": "code",
   "execution_count": 181,
   "metadata": {
    "collapsed": false
   },
   "outputs": [],
   "source": [
    "see = subset( NKX25 , ASE==TRUE)"
   ]
  },
  {
   "cell_type": "code",
   "execution_count": 183,
   "metadata": {
    "collapsed": false,
    "scrolled": true
   },
   "outputs": [
    {
     "data": {
      "text/plain": [
       "\n",
       "2.17818888085032 2.42439402587717   2.607691229669 2.71979049015975 \n",
       "               5                1                1                1 \n",
       "2.76983098658964 \n",
       "               6 "
      ]
     },
     "metadata": {},
     "output_type": "display_data"
    }
   ],
   "source": [
    "table(see$score)"
   ]
  },
  {
   "cell_type": "code",
   "execution_count": 169,
   "metadata": {
    "collapsed": false
   },
   "outputs": [
    {
     "data": {
      "text/html": [
       "'/frazer01/projects/CARDIPS/analysis/gwas_enrichment_in_peaks/gregor_6'"
      ],
      "text/latex": [
       "'/frazer01/projects/CARDIPS/analysis/gwas\\_enrichment\\_in\\_peaks/gregor\\_6'"
      ],
      "text/markdown": [
       "'/frazer01/projects/CARDIPS/analysis/gwas_enrichment_in_peaks/gregor_6'"
      ],
      "text/plain": [
       "[1] \"/frazer01/projects/CARDIPS/analysis/gwas_enrichment_in_peaks/gregor_6\""
      ]
     },
     "metadata": {},
     "output_type": "display_data"
    }
   ],
   "source": [
    "getwd()"
   ]
  },
  {
   "cell_type": "code",
   "execution_count": 174,
   "metadata": {
    "collapsed": false
   },
   "outputs": [
    {
     "data": {
      "text/html": [
       "72"
      ],
      "text/latex": [
       "72"
      ],
      "text/markdown": [
       "72"
      ],
      "text/plain": [
       "[1] 72"
      ]
     },
     "metadata": {},
     "output_type": "display_data"
    }
   ],
   "source": [
    "sum(!duplicated(NKX25$indexSNP))"
   ]
  },
  {
   "cell_type": "markdown",
   "metadata": {},
   "source": [
    "### Annotate using haploreg"
   ]
  },
  {
   "cell_type": "code",
   "execution_count": 170,
   "metadata": {
    "collapsed": true
   },
   "outputs": [],
   "source": [
    "writeLines(NKX25$LD, \"overlap_gwas_NKX25_peaks.txt\")\n",
    "#### then get the rsID using SNPSNAP and copy the file"
   ]
  },
  {
   "cell_type": "code",
   "execution_count": 201,
   "metadata": {
    "collapsed": false
   },
   "outputs": [],
   "source": [
    "rssnp = read.table(\"input_snps_annotated.txt\", header=T, sep=\"\\t\", stringsAsFactor=F)"
   ]
  },
  {
   "cell_type": "code",
   "execution_count": 202,
   "metadata": {
    "collapsed": false
   },
   "outputs": [],
   "source": [
    "writeLines(rssnp$rsID, \"overlap_gwas_NKX25_peaks_rsID.txt\")"
   ]
  },
  {
   "cell_type": "code",
   "execution_count": 203,
   "metadata": {
    "collapsed": true
   },
   "outputs": [],
   "source": [
    "command1 = \"vcftools --vcf /publicdata/haploreg_v4.0_20151021/haploreg_v4.0_20151021.vcf --snps overlap_gwas_NKX25_peaks_rsID.txt --recode --recode-INFO-all --out overlap_gwas_NKX25_peaks.recode\"\n",
    "### double escape to use in R\n",
    "command2 = \"bcftools query -f '%CHROM\\\\t%POS\\\\t%ID\\\\t%REF\\\\t%ALT\\\\t%INFO/MOTIFS\\\\n' overlap_gwas_NKX25_peaks.recode.recode.vcf > overlap_gwas_NKX25_peaks.tab\"\n",
    "           \n",
    "system(command1)\n",
    "system(command2)\n"
   ]
  },
  {
   "cell_type": "code",
   "execution_count": 212,
   "metadata": {
    "collapsed": false
   },
   "outputs": [],
   "source": [
    "annot = read.table(\"overlap_gwas_NKX25_peaks.tab\", header=F, sep=\"\\t\")\n",
    "colnames(annot) = c(\"chr\", \"pos\", \"rsID\", \"ref\", \"alt\", \"motif\")"
   ]
  },
  {
   "cell_type": "code",
   "execution_count": 215,
   "metadata": {
    "collapsed": true
   },
   "outputs": [],
   "source": [
    "annot$varID = paste(\"chr\", annot$chr, \":\", annot$pos, sep=\"\")"
   ]
  },
  {
   "cell_type": "code",
   "execution_count": 216,
   "metadata": {
    "collapsed": false
   },
   "outputs": [
    {
     "data": {
      "text/html": [
       "<table>\n",
       "<thead><tr><th scope=col>chr</th><th scope=col>pos</th><th scope=col>rsID</th><th scope=col>ref</th><th scope=col>alt</th><th scope=col>motif</th><th scope=col>varID</th></tr></thead>\n",
       "<tbody>\n",
       "\t<tr><td> 5                                                                                                                                                                                                                                                                                                                        </td><td>172669771                                                                                                                                                                                                                                                                                                                 </td><td>rs10071514                                                                                                                                                                                                                                                                                                                </td><td>A                                                                                                                                                                                                                                                                                                                         </td><td>G                                                                                                                                                                                                                                                                                                                         </td><td>BDP1_disc1|0|11.901995770206|17|+|-7.57794758847598|4.32404818173001,CTCF_disc9|0|10.597784643402|9|-|2.176135808834|12.773920452236                                                                                                                                                                                      </td><td>chr5:172669771                                                                                                                                                                                                                                                                                                            </td></tr>\n",
       "\t<tr><td> 2                                                                                                                                                                                                                                                                                                                        </td><td> 36683708                                                                                                                                                                                                                                                                                                                 </td><td>rs1017154                                                                                                                                                                                                                                                                                                                 </td><td>G                                                                                                                                                                                                                                                                                                                         </td><td>A                                                                                                                                                                                                                                                                                                                         </td><td>.                                                                                                                                                                                                                                                                                                                         </td><td>chr2:36683708                                                                                                                                                                                                                                                                                                             </td></tr>\n",
       "\t<tr><td>18                                                                                                                                                                                                                                                                                                                        </td><td> 30009759                                                                                                                                                                                                                                                                                                                 </td><td>rs10468904                                                                                                                                                                                                                                                                                                                </td><td>A                                                                                                                                                                                                                                                                                                                         </td><td>G                                                                                                                                                                                                                                                                                                                         </td><td>BDP1_disc3|0|-1.66805164541401|9|-|12.882401642737|11.214349997323,Eomes|0|-3.49790259760799|8|-|12.47250139422|8.97459879661201,STAT_known13|0|0.833302125799996|1|+|9.07674454296001|9.91004666876,TBX5_1|0|-11.966181074176|6|-|14.662252988576|2.69607191439999,TBX5_3|0|-11.966152175748|5|-|18.633478|6.667325824252</td><td>chr18:30009759                                                                                                                                                                                                                                                                                                            </td></tr>\n",
       "\t<tr><td>19                                                                                                                                                                                                                                                                                                                        </td><td> 39150235                                                                                                                                                                                                                                                                                                                 </td><td>rs10415219                                                                                                                                                                                                                                                                                                                </td><td>A                                                                                                                                                                                                                                                                                                                         </td><td>G                                                                                                                                                                                                                                                                                                                         </td><td>AP-4_3|0|11.74385262887|8|+|-0.00299284500900399|11.740859783861,Ascl2|0|7.42136191997201|7|-|6.989439322644|14.410801242616,E2A_3|0|11.966221515249|8|-|0.697550714024999|12.663772229274,LBP-1_2|0|11.6443350135|1|-|0.5528079865|12.197143                                                                             </td><td>chr19:39150235                                                                                                                                                                                                                                                                                                            </td></tr>\n",
       "\t<tr><td> 6                                                                                                                                                                                                                                                                                                                        </td><td>118692152                                                                                                                                                                                                                                                                                                                 </td><td>rs10457327                                                                                                                                                                                                                                                                                                                </td><td>G                                                                                                                                                                                                                                                                                                                         </td><td>C                                                                                                                                                                                                                                                                                                                         </td><td>GATA_known10|0|-11.96609305747|5|+|13.01120027362|1.04510721614999,GATA_known2|0|-8.50859420363701|7|+|11.344615433153|2.836021229516,HDAC2_disc1|0|-11.966117938848|3|+|12.652879633224|0.686761694376003                                                                                                                </td><td>chr6:118692152                                                                                                                                                                                                                                                                                                            </td></tr>\n",
       "\t<tr><td> 1                                                                                                                                                                                                                                                                                                                        </td><td> 67006399                                                                                                                                                                                                                                                                                                                 </td><td>rs10789208                                                                                                                                                                                                                                                                                                                </td><td>A                                                                                                                                                                                                                                                                                                                         </td><td>G                                                                                                                                                                                                                                                                                                                         </td><td>Mef2_known4|0|0.736502058709988|16|-|11.25182226482|11.98832432353,TCF12_disc2|0|9.994442342547|6|-|2.077346094733|12.07178843728                                                                                                                                                                                         </td><td>chr1:67006399                                                                                                                                                                                                                                                                                                             </td></tr>\n",
       "</tbody>\n",
       "</table>\n"
      ],
      "text/latex": [
       "\\begin{tabular}{r|lllllll}\n",
       " chr & pos & rsID & ref & alt & motif & varID\\\\\n",
       "\\hline\n",
       "\t  5                                                                                                                                                                                                                                                                                                                                                                                                                                                     & 172669771                                                                                                                                                                                                                                                                                                                                                                                                                                              & rs10071514                                                                                                                                                                                                                                                                                                                                                                                                                                             & A                                                                                                                                                                                                                                                                                                                                                                                                                                                      & G                                                                                                                                                                                                                                                                                                                                                                                                                                                      & BDP1\\_disc1\\textbar{}0\\textbar{}11.901995770206\\textbar{}17\\textbar{}+\\textbar{}-7.57794758847598\\textbar{}4.32404818173001,CTCF\\_disc9\\textbar{}0\\textbar{}10.597784643402\\textbar{}9\\textbar{}-\\textbar{}2.176135808834\\textbar{}12.773920452236                                                                                                                                                                                       & chr5:172669771                                                                                                                                                                                                                                                                                                                                                                                                                                        \\\\\n",
       "\t  2                                                                                                                                                                                                                                                                                                                         &  36683708                                                                                                                                                                                                                                                                                                                  & rs1017154                                                                                                                                                                                                                                                                                                                  & G                                                                                                                                                                                                                                                                                                                          & A                                                                                                                                                                                                                                                                                                                          & .                                                                                                                                                                                                                                                                                                                          & chr2:36683708                                                                                                                                                                                                                                                                                                             \\\\\n",
       "\t 18                                                                                                                                                                                                                                                                                                                                                                                                                                                                                                                                                                                                                                             &  30009759                                                                                                                                                                                                                                                                                                                                                                                                                                                                                                                                                                                                                                      & rs10468904                                                                                                                                                                                                                                                                                                                                                                                                                                                                                                                                                                                                                                     & A                                                                                                                                                                                                                                                                                                                                                                                                                                                                                                                                                                                                                                              & G                                                                                                                                                                                                                                                                                                                                                                                                                                                                                                                                                                                                                                              & BDP1\\_disc3\\textbar{}0\\textbar{}-1.66805164541401\\textbar{}9\\textbar{}-\\textbar{}12.882401642737\\textbar{}11.214349997323,Eomes\\textbar{}0\\textbar{}-3.49790259760799\\textbar{}8\\textbar{}-\\textbar{}12.47250139422\\textbar{}8.97459879661201,STAT\\_known13\\textbar{}0\\textbar{}0.833302125799996\\textbar{}1\\textbar{}+\\textbar{}9.07674454296001\\textbar{}9.91004666876,TBX5\\_1\\textbar{}0\\textbar{}-11.966181074176\\textbar{}6\\textbar{}-\\textbar{}14.662252988576\\textbar{}2.69607191439999,TBX5\\_3\\textbar{}0\\textbar{}-11.966152175748\\textbar{}5\\textbar{}-\\textbar{}18.633478\\textbar{}6.667325824252 & chr18:30009759                                                                                                                                                                                                                                                                                                                                                                                                                                                                                                                                                                                                                                \\\\\n",
       "\t 19                                                                                                                                                                                                                                                                                                                                                                                                                                                                                                                                                                               &  39150235                                                                                                                                                                                                                                                                                                                                                                                                                                                                                                                                                                        & rs10415219                                                                                                                                                                                                                                                                                                                                                                                                                                                                                                                                                                       & A                                                                                                                                                                                                                                                                                                                                                                                                                                                                                                                                                                                & G                                                                                                                                                                                                                                                                                                                                                                                                                                                                                                                                                                                & AP-4\\_3\\textbar{}0\\textbar{}11.74385262887\\textbar{}8\\textbar{}+\\textbar{}-0.00299284500900399\\textbar{}11.740859783861,Ascl2\\textbar{}0\\textbar{}7.42136191997201\\textbar{}7\\textbar{}-\\textbar{}6.989439322644\\textbar{}14.410801242616,E2A\\_3\\textbar{}0\\textbar{}11.966221515249\\textbar{}8\\textbar{}-\\textbar{}0.697550714024999\\textbar{}12.663772229274,LBP-1\\_2\\textbar{}0\\textbar{}11.6443350135\\textbar{}1\\textbar{}-\\textbar{}0.5528079865\\textbar{}12.197143                                                                              & chr19:39150235                                                                                                                                                                                                                                                                                                                                                                                                                                                                                                                                                                  \\\\\n",
       "\t  6                                                                                                                                                                                                                                                                                                                                                                                                                                                                                                                   & 118692152                                                                                                                                                                                                                                                                                                                                                                                                                                                                                                            & rs10457327                                                                                                                                                                                                                                                                                                                                                                                                                                                                                                           & G                                                                                                                                                                                                                                                                                                                                                                                                                                                                                                                    & C                                                                                                                                                                                                                                                                                                                                                                                                                                                                                                                    & GATA\\_known10\\textbar{}0\\textbar{}-11.96609305747\\textbar{}5\\textbar{}+\\textbar{}13.01120027362\\textbar{}1.04510721614999,GATA\\_known2\\textbar{}0\\textbar{}-8.50859420363701\\textbar{}7\\textbar{}+\\textbar{}11.344615433153\\textbar{}2.836021229516,HDAC2\\_disc1\\textbar{}0\\textbar{}-11.966117938848\\textbar{}3\\textbar{}+\\textbar{}12.652879633224\\textbar{}0.686761694376003                                                                                                                 & chr6:118692152                                                                                                                                                                                                                                                                                                                                                                                                                                                                                                      \\\\\n",
       "\t  1                                                                                                                                                                                                                                                                                                                                                                                                                                                     &  67006399                                                                                                                                                                                                                                                                                                                                                                                                                                              & rs10789208                                                                                                                                                                                                                                                                                                                                                                                                                                             & A                                                                                                                                                                                                                                                                                                                                                                                                                                                      & G                                                                                                                                                                                                                                                                                                                                                                                                                                                      & Mef2\\_known4\\textbar{}0\\textbar{}0.736502058709988\\textbar{}16\\textbar{}-\\textbar{}11.25182226482\\textbar{}11.98832432353,TCF12\\_disc2\\textbar{}0\\textbar{}9.994442342547\\textbar{}6\\textbar{}-\\textbar{}2.077346094733\\textbar{}12.07178843728                                                                                                                                                                                          & chr1:67006399                                                                                                                                                                                                                                                                                                                                                                                                                                         \\\\\n",
       "\\end{tabular}\n"
      ],
      "text/plain": [
       "  chr pos       rsID       ref alt\n",
       "1  5  172669771 rs10071514 A   G  \n",
       "2  2   36683708 rs1017154  G   A  \n",
       "3 18   30009759 rs10468904 A   G  \n",
       "4 19   39150235 rs10415219 A   G  \n",
       "5  6  118692152 rs10457327 G   C  \n",
       "6  1   67006399 rs10789208 A   G  \n",
       "  motif                                                                                                                                                                                                                                                                                                                     \n",
       "1 BDP1_disc1|0|11.901995770206|17|+|-7.57794758847598|4.32404818173001,CTCF_disc9|0|10.597784643402|9|-|2.176135808834|12.773920452236                                                                                                                                                                                      \n",
       "2 .                                                                                                                                                                                                                                                                                                                         \n",
       "3 BDP1_disc3|0|-1.66805164541401|9|-|12.882401642737|11.214349997323,Eomes|0|-3.49790259760799|8|-|12.47250139422|8.97459879661201,STAT_known13|0|0.833302125799996|1|+|9.07674454296001|9.91004666876,TBX5_1|0|-11.966181074176|6|-|14.662252988576|2.69607191439999,TBX5_3|0|-11.966152175748|5|-|18.633478|6.667325824252\n",
       "4 AP-4_3|0|11.74385262887|8|+|-0.00299284500900399|11.740859783861,Ascl2|0|7.42136191997201|7|-|6.989439322644|14.410801242616,E2A_3|0|11.966221515249|8|-|0.697550714024999|12.663772229274,LBP-1_2|0|11.6443350135|1|-|0.5528079865|12.197143                                                                             \n",
       "5 GATA_known10|0|-11.96609305747|5|+|13.01120027362|1.04510721614999,GATA_known2|0|-8.50859420363701|7|+|11.344615433153|2.836021229516,HDAC2_disc1|0|-11.966117938848|3|+|12.652879633224|0.686761694376003                                                                                                                \n",
       "6 Mef2_known4|0|0.736502058709988|16|-|11.25182226482|11.98832432353,TCF12_disc2|0|9.994442342547|6|-|2.077346094733|12.07178843728                                                                                                                                                                                         \n",
       "  varID         \n",
       "1 chr5:172669771\n",
       "2 chr2:36683708 \n",
       "3 chr18:30009759\n",
       "4 chr19:39150235\n",
       "5 chr6:118692152\n",
       "6 chr1:67006399 "
      ]
     },
     "metadata": {},
     "output_type": "display_data"
    }
   ],
   "source": [
    "head(annot)"
   ]
  },
  {
   "cell_type": "markdown",
   "metadata": {},
   "source": [
    "### Calculate motif disruption for all"
   ]
  },
  {
   "cell_type": "code",
   "execution_count": 176,
   "metadata": {
    "collapsed": false
   },
   "outputs": [],
   "source": [
    "dir = \"/frazer01/home/paola/Family1070/private_output/Motif_analysis_R/NKX25_ekg\"\n",
    "\n",
    "test=str_split_fixed(NKX25$LD, \":\", 2)\n",
    "ase = data.frame(variantID = paste(\"chr\",NKX25$LD, sep=\"\"))\n",
    "ase$chr=paste(\"chr\", test[,1], sep=\"\")\n",
    "ase$POS=as.numeric(test[,2])\n",
    "ase$bed.start=ase$POS-20\n",
    "ase$bed.end=ase$POS+20\n",
    "\n",
    "write.table(ase[,c(\"chr\", \"bed.start\", \"bed.end\",\"variantID\")],\n",
    "            paste(dir, \"all_snps.bed\", sep=\"/\"), row.names=F, col.names=F, sep=\"\\t\", quote=FALSE)\n"
   ]
  },
  {
   "cell_type": "code",
   "execution_count": 219,
   "metadata": {
    "collapsed": false
   },
   "outputs": [],
   "source": [
    "command= paste(\"bedtools getfasta -fi /publicdata/hg19_20151104/hg19_sorted.fa -bed  \", \n",
    "               dir, \"/all_snps.bed -fo \" , dir,  \"/all_fasta.tab -name -tab\", sep=\"\")\n",
    "\n",
    "system(\"module load cardips\")\n",
    "system(command)\n",
    "\n",
    "\n",
    "  file=paste(dir, \"all_fasta.tab\", sep=\"/\")\n",
    "  fas=read.table(file)\n",
    "  \n",
    "  fas=merge(fas,annot[,c(\"varID\",'ref','alt', 'rsID','motif')], by=1)\n",
    " \n",
    "  colnames(fas)=c(\"pos\",\"seq\",\"ref\",\"alt\", 'rsID','motif')\n",
    "  fas[,1:4]=sapply(fas[,1:4], as.character)\n",
    "  fas1=fas\n",
    "  \n",
    "  \n",
    "  # Commands for writing fasta format\n",
    "  Xfasta <- character(nrow(fas) * 2)\n",
    "  Xfasta[c(TRUE, FALSE)] <- paste0(\">\", fas$pos)\n",
    "  Xfasta[c(FALSE, TRUE)] <- fas$seq\n",
    "  writeLines(Xfasta, paste(dir,\"ref.fasta\", sep=\"/\"))\n",
    "\n",
    "  ###########\n",
    "  for (i in 1:nrow(fas1)){\n",
    "   \n",
    "      substr(fas1[i,\"seq\"], 20, 20) <- fas1[i,\"alt\"]\n",
    "    \n",
    "  }\n",
    "  \n",
    "  # Commands for writing fasta format\n",
    "  Xfasta <- character(nrow(fas1) * 2)\n",
    "  Xfasta[c(TRUE, FALSE)] <- paste0(\">\", fas1$pos)\n",
    "  Xfasta[c(FALSE, TRUE)] <- fas1$seq\n",
    "  writeLines(Xfasta, paste(dir,\"alt.fasta\", sep=\"/\"))\n",
    "  \n"
   ]
  },
  {
   "cell_type": "code",
   "execution_count": 222,
   "metadata": {
    "collapsed": false
   },
   "outputs": [
    {
     "data": {
      "text/html": [
       "<table>\n",
       "<thead><tr><th scope=col>pos</th><th scope=col>ref</th><th scope=col>alt</th><th scope=col>rsID</th><th scope=col>motif</th><th scope=col>seq</th><th scope=col>fas1[, c(\"seq\")]</th></tr></thead>\n",
       "<tbody>\n",
       "\t<tr><td>chr1:11852516                                                                                                                                                                                                                                                                                                                                                                                                                                                                                                                                                                                                  </td><td>C                                                                                                                                                                                                                                                                                                                                                                                                                                                                                                                                                                                                              </td><td>T                                                                                                                                                                                                                                                                                                                                                                                                                                                                                                                                                                                                              </td><td>rs17375901                                                                                                                                                                                                                                                                                                                                                                                                                                                                                                                                                                                                     </td><td>.                                                                                                                                                                                                                                                                                                                                                                                                                                                                                                                                                                                                              </td><td>ACCTAAGGTATCAGGACTACTGGCAGCCATGTGGGCGGAA                                                                                                                                                                                                                                                                                                                                                                                                                                                                                                                                                                       </td><td>ACCTAAGGTATCAGGACTATTGGCAGCCATGTGGGCGGAA                                                                                                                                                                                                                                                                                                                                                                                                                                                                                                                                                                       </td></tr>\n",
       "\t<tr><td>chr1:11865804                                                                                                                                                                                                                                                                                                                                                                                                                                                                                                                                                                                                  </td><td>A                                                                                                                                                                                                                                                                                                                                                                                                                                                                                                                                                                                                              </td><td>G                                                                                                                                                                                                                                                                                                                                                                                                                                                                                                                                                                                                              </td><td>rs13306561                                                                                                                                                                                                                                                                                                                                                                                                                                                                                                                                                                                                     </td><td>ELF1_disc3|0|4.74466575389299|1|+|5.543053479183|10.287719233076,Hic1_2|0|0.897337977877001|18|-|11.903737466505|12.801075444382,Pou2f2_disc2|0|5.39831515744399|4|+|6.601107441096|11.99942259854,Rad21_disc10|0|11.966141054017|4|+|-0.413500434122994|11.552640619894,SMC3_disc3|0|8.98806424014799|4|+|2.174261042373|11.162325282521,TATA_disc7|0|-0.101452561479007|2|+|12.557281767466|12.455829205987,YY1_disc4|0|5.24235102097501|1|+|5.62657212016499|10.86892314114                                                                                                                                 </td><td>ATCCCGCGAAGGGTGCGCAAGGGAGGCGGCAGCCCCCCCC                                                                                                                                                                                                                                                                                                                                                                                                                                                                                                                                                                       </td><td>ATCCCGCGAAGGGTGCGCAGGGGAGGCGGCAGCCCCCCCC                                                                                                                                                                                                                                                                                                                                                                                                                                                                                                                                                                       </td></tr>\n",
       "\t<tr><td>chr1:162084658                                                                                                                                                                                                                                                                                                                                                                                                                                                                                                                                                                                                 </td><td>T                                                                                                                                                                                                                                                                                                                                                                                                                                                                                                                                                                                                              </td><td>C                                                                                                                                                                                                                                                                                                                                                                                                                                                                                                                                                                                                              </td><td>rs1572499                                                                                                                                                                                                                                                                                                                                                                                                                                                                                                                                                                                                      </td><td>RREB-1_2|0|-10.507327084207|8|-|3.14679623991898|-7.36053084428801,Rad21_disc10|0|11.966141054017|2|+|-0.428905998402001|11.537235055615                                                                                                                                                                                                                                                                                                                                                                                                                                                                       </td><td>ACTAAATCGGAAGTTGTTGTAGGGGTGGGATGGTATCTCC                                                                                                                                                                                                                                                                                                                                                                                                                                                                                                                                                                       </td><td>ACTAAATCGGAAGTTGTTGCAGGGGTGGGATGGTATCTCC                                                                                                                                                                                                                                                                                                                                                                                                                                                                                                                                                                       </td></tr>\n",
       "\t<tr><td>chr1:168687512                                                                                                                                                                                                                                                                                                                                                                                                                                                                                                                                                                                                 </td><td>T                                                                                                                                                                                                                                                                                                                                                                                                                                                                                                                                                                                                              </td><td>C                                                                                                                                                                                                                                                                                                                                                                                                                                                                                                                                                                                                              </td><td>rs607484                                                                                                                                                                                                                                                                                                                                                                                                                                                                                                                                                                                                       </td><td>.                                                                                                                                                                                                                                                                                                                                                                                                                                                                                                                                                                                                              </td><td>GCCGAACTGTTTCATGGAGTACCAGTTCTGAAGGCAATCC                                                                                                                                                                                                                                                                                                                                                                                                                                                                                                                                                                       </td><td>GCCGAACTGTTTCATGGAGCACCAGTTCTGAAGGCAATCC                                                                                                                                                                                                                                                                                                                                                                                                                                                                                                                                                                       </td></tr>\n",
       "\t<tr><td>chr1:168692244                                                                                                                                                                                                                                                                                                                                                                                                                                                                                                                                                                                                 </td><td>C                                                                                                                                                                                                                                                                                                                                                                                                                                                                                                                                                                                                              </td><td>T                                                                                                                                                                                                                                                                                                                                                                                                                                                                                                                                                                                                              </td><td>rs553721                                                                                                                                                                                                                                                                                                                                                                                                                                                                                                                                                                                                       </td><td>CDP_1|0|11.966167636631|8|-|3.78294527010799|15.749112906739,CDP_4|0|11.966140906344|12|-|-0.521234921325018|11.444905985019,E2F_disc4|0|11.966208782124|8|+|1.849887044594|13.816095826718,Irf_disc1|0|11.966099221076|8|+|2.42993900093299|14.396038222009,NF-Y_disc1|0|5.32530364376198|6|-|7.21590342485801|12.54120706862,NF-Y_known1|0|6.80459693273599|10|+|6.300412777868|13.105009710604,YY1_disc1|0|-2.697562941502|2|+|9.543184140086|6.845621198584,YY1_known6|0|0.99888158964|3|+|11.549403111264|12.548284700904                                                                                 </td><td>TCCTTACAAGAGCAGCCAACAACCATTTTTGCAGAGCTCA                                                                                                                                                                                                                                                                                                                                                                                                                                                                                                                                                                       </td><td>TCCTTACAAGAGCAGCCAATAACCATTTTTGCAGAGCTCA                                                                                                                                                                                                                                                                                                                                                                                                                                                                                                                                                                       </td></tr>\n",
       "\t<tr><td>chr1:168692515                                                                                                                                                                                                                                                                                                                                                                                                                                                                                                                                                                                                 </td><td>G                                                                                                                                                                                                                                                                                                                                                                                                                                                                                                                                                                                                              </td><td>C                                                                                                                                                                                                                                                                                                                                                                                                                                                                                                                                                                                                              </td><td>rs681316                                                                                                                                                                                                                                                                                                                                                                                                                                                                                                                                                                                                       </td><td>BDP1_disc3|0|11.966133371954|12|-|0.614733170240001|12.580866542194,CTCFL_disc1|0|11.902552030587|6|+|-1.186672022514|10.715880008073,CTCF_known1|0|0.554786016552001|19|-|11.44858335967|12.003369376222,NRSF_disc9|0|0.0626778925599893|6|-|11.80301604708|11.86569393964,PU.1_disc3|0|0.782048824299991|14|-|10.515276627536|11.297325451836,Rad21_disc5|0|0.670879460224995|13|-|11.614934317575|12.2858137778,TFII-I|0|1.583764881699|4|-|12.967990118301|14.551755,YY1_known5|0|1.32081275757199|2|+|13.375658883646|14.696471641218,ZNF263_disc1|0|11.707804970745|2|-|0.0888327671650018|11.79663773791</td><td>TGGCTGGCTCAGGTCCTCCGTCTGCCATCTGCTAGCCATG                                                                                                                                                                                                                                                                                                                                                                                                                                                                                                                                                                       </td><td>TGGCTGGCTCAGGTCCTCCCTCTGCCATCTGCTAGCCATG                                                                                                                                                                                                                                                                                                                                                                                                                                                                                                                                                                       </td></tr>\n",
       "</tbody>\n",
       "</table>\n"
      ],
      "text/latex": [
       "\\begin{tabular}{r|lllllll}\n",
       " pos & ref & alt & rsID & motif & seq & fas1{[}, c(\"seq\"){]}\\\\\n",
       "\\hline\n",
       "\t chr1:11852516                                                                                                                                                                                                                                                                                                                                                                                                                                                                                                                                                                                                   & C                                                                                                                                                                                                                                                                                                                                                                                                                                                                                                                                                                                                               & T                                                                                                                                                                                                                                                                                                                                                                                                                                                                                                                                                                                                               & rs17375901                                                                                                                                                                                                                                                                                                                                                                                                                                                                                                                                                                                                      & .                                                                                                                                                                                                                                                                                                                                                                                                                                                                                                                                                                                                               & ACCTAAGGTATCAGGACTACTGGCAGCCATGTGGGCGGAA                                                                                                                                                                                                                                                                                                                                                                                                                                                                                                                                                                        & ACCTAAGGTATCAGGACTATTGGCAGCCATGTGGGCGGAA                                                                                                                                                                                                                                                                                                                                                                                                                                                                                                                                                                       \\\\\n",
       "\t chr1:11865804                                                                                                                                                                                                                                                                                                                                                                                                                                                                                                                                                                                                                                                                                                                                                                                                                                                                                                                                                                                                                                                     & A                                                                                                                                                                                                                                                                                                                                                                                                                                                                                                                                                                                                                                                                                                                                                                                                                                                                                                                                                                                                                                                                 & G                                                                                                                                                                                                                                                                                                                                                                                                                                                                                                                                                                                                                                                                                                                                                                                                                                                                                                                                                                                                                                                                 & rs13306561                                                                                                                                                                                                                                                                                                                                                                                                                                                                                                                                                                                                                                                                                                                                                                                                                                                                                                                                                                                                                                                        & ELF1\\_disc3\\textbar{}0\\textbar{}4.74466575389299\\textbar{}1\\textbar{}+\\textbar{}5.543053479183\\textbar{}10.287719233076,Hic1\\_2\\textbar{}0\\textbar{}0.897337977877001\\textbar{}18\\textbar{}-\\textbar{}11.903737466505\\textbar{}12.801075444382,Pou2f2\\_disc2\\textbar{}0\\textbar{}5.39831515744399\\textbar{}4\\textbar{}+\\textbar{}6.601107441096\\textbar{}11.99942259854,Rad21\\_disc10\\textbar{}0\\textbar{}11.966141054017\\textbar{}4\\textbar{}+\\textbar{}-0.413500434122994\\textbar{}11.552640619894,SMC3\\_disc3\\textbar{}0\\textbar{}8.98806424014799\\textbar{}4\\textbar{}+\\textbar{}2.174261042373\\textbar{}11.162325282521,TATA\\_disc7\\textbar{}0\\textbar{}-0.101452561479007\\textbar{}2\\textbar{}+\\textbar{}12.557281767466\\textbar{}12.455829205987,YY1\\_disc4\\textbar{}0\\textbar{}5.24235102097501\\textbar{}1\\textbar{}+\\textbar{}5.62657212016499\\textbar{}10.86892314114                                                                                                                                  & ATCCCGCGAAGGGTGCGCAAGGGAGGCGGCAGCCCCCCCC                                                                                                                                                                                                                                                                                                                                                                                                                                                                                                                                                                                                                                                                                                                                                                                                                                                                                                                                                                                                                          & ATCCCGCGAAGGGTGCGCAGGGGAGGCGGCAGCCCCCCCC                                                                                                                                                                                                                                                                                                                                                                                                                                                                                                                                                                                                                                                                                                                                                                                                                                                                                                                                                                                                                         \\\\\n",
       "\t chr1:162084658                                                                                                                                                                                                                                                                                                                                                                                                                                                                                                                                                                                                                                                                                                                              & T                                                                                                                                                                                                                                                                                                                                                                                                                                                                                                                                                                                                                                                                                                                                           & C                                                                                                                                                                                                                                                                                                                                                                                                                                                                                                                                                                                                                                                                                                                                           & rs1572499                                                                                                                                                                                                                                                                                                                                                                                                                                                                                                                                                                                                                                                                                                                                   & RREB-1\\_2\\textbar{}0\\textbar{}-10.507327084207\\textbar{}8\\textbar{}-\\textbar{}3.14679623991898\\textbar{}-7.36053084428801,Rad21\\_disc10\\textbar{}0\\textbar{}11.966141054017\\textbar{}2\\textbar{}+\\textbar{}-0.428905998402001\\textbar{}11.537235055615                                                                                                                                                                                                                                                                                                                                                                                                                                                                        & ACTAAATCGGAAGTTGTTGTAGGGGTGGGATGGTATCTCC                                                                                                                                                                                                                                                                                                                                                                                                                                                                                                                                                                                                                                                                                                    & ACTAAATCGGAAGTTGTTGCAGGGGTGGGATGGTATCTCC                                                                                                                                                                                                                                                                                                                                                                                                                                                                                                                                                                                                                                                                                                   \\\\\n",
       "\t chr1:168687512                                                                                                                                                                                                                                                                                                                                                                                                                                                                                                                                                                                                  & T                                                                                                                                                                                                                                                                                                                                                                                                                                                                                                                                                                                                               & C                                                                                                                                                                                                                                                                                                                                                                                                                                                                                                                                                                                                               & rs607484                                                                                                                                                                                                                                                                                                                                                                                                                                                                                                                                                                                                        & .                                                                                                                                                                                                                                                                                                                                                                                                                                                                                                                                                                                                               & GCCGAACTGTTTCATGGAGTACCAGTTCTGAAGGCAATCC                                                                                                                                                                                                                                                                                                                                                                                                                                                                                                                                                                        & GCCGAACTGTTTCATGGAGCACCAGTTCTGAAGGCAATCC                                                                                                                                                                                                                                                                                                                                                                                                                                                                                                                                                                       \\\\\n",
       "\t chr1:168692244                                                                                                                                                                                                                                                                                                                                                                                                                                                                                                                                                                                                                                                                                                                                                                                                                                                                                                                                                                                                                                                                                                                  & C                                                                                                                                                                                                                                                                                                                                                                                                                                                                                                                                                                                                                                                                                                                                                                                                                                                                                                                                                                                                                                                                                                                               & T                                                                                                                                                                                                                                                                                                                                                                                                                                                                                                                                                                                                                                                                                                                                                                                                                                                                                                                                                                                                                                                                                                                               & rs553721                                                                                                                                                                                                                                                                                                                                                                                                                                                                                                                                                                                                                                                                                                                                                                                                                                                                                                                                                                                                                                                                                                                        & CDP\\_1\\textbar{}0\\textbar{}11.966167636631\\textbar{}8\\textbar{}-\\textbar{}3.78294527010799\\textbar{}15.749112906739,CDP\\_4\\textbar{}0\\textbar{}11.966140906344\\textbar{}12\\textbar{}-\\textbar{}-0.521234921325018\\textbar{}11.444905985019,E2F\\_disc4\\textbar{}0\\textbar{}11.966208782124\\textbar{}8\\textbar{}+\\textbar{}1.849887044594\\textbar{}13.816095826718,Irf\\_disc1\\textbar{}0\\textbar{}11.966099221076\\textbar{}8\\textbar{}+\\textbar{}2.42993900093299\\textbar{}14.396038222009,NF-Y\\_disc1\\textbar{}0\\textbar{}5.32530364376198\\textbar{}6\\textbar{}-\\textbar{}7.21590342485801\\textbar{}12.54120706862,NF-Y\\_known1\\textbar{}0\\textbar{}6.80459693273599\\textbar{}10\\textbar{}+\\textbar{}6.300412777868\\textbar{}13.105009710604,YY1\\_disc1\\textbar{}0\\textbar{}-2.697562941502\\textbar{}2\\textbar{}+\\textbar{}9.543184140086\\textbar{}6.845621198584,YY1\\_known6\\textbar{}0\\textbar{}0.99888158964\\textbar{}3\\textbar{}+\\textbar{}11.549403111264\\textbar{}12.548284700904                                                                                  & TCCTTACAAGAGCAGCCAACAACCATTTTTGCAGAGCTCA                                                                                                                                                                                                                                                                                                                                                                                                                                                                                                                                                                                                                                                                                                                                                                                                                                                                                                                                                                                                                                                                                        & TCCTTACAAGAGCAGCCAATAACCATTTTTGCAGAGCTCA                                                                                                                                                                                                                                                                                                                                                                                                                                                                                                                                                                                                                                                                                                                                                                                                                                                                                                                                                                                                                                                                                       \\\\\n",
       "\t chr1:168692515                                                                                                                                                                                                                                                                                                                                                                                                                                                                                                                                                                                                                                                                                                                                                                                                                                                                                                                                                                                                                                                                                                                                                                              & G                                                                                                                                                                                                                                                                                                                                                                                                                                                                                                                                                                                                                                                                                                                                                                                                                                                                                                                                                                                                                                                                                                                                                                                           & C                                                                                                                                                                                                                                                                                                                                                                                                                                                                                                                                                                                                                                                                                                                                                                                                                                                                                                                                                                                                                                                                                                                                                                                           & rs681316                                                                                                                                                                                                                                                                                                                                                                                                                                                                                                                                                                                                                                                                                                                                                                                                                                                                                                                                                                                                                                                                                                                                                                                    & BDP1\\_disc3\\textbar{}0\\textbar{}11.966133371954\\textbar{}12\\textbar{}-\\textbar{}0.614733170240001\\textbar{}12.580866542194,CTCFL\\_disc1\\textbar{}0\\textbar{}11.902552030587\\textbar{}6\\textbar{}+\\textbar{}-1.186672022514\\textbar{}10.715880008073,CTCF\\_known1\\textbar{}0\\textbar{}0.554786016552001\\textbar{}19\\textbar{}-\\textbar{}11.44858335967\\textbar{}12.003369376222,NRSF\\_disc9\\textbar{}0\\textbar{}0.0626778925599893\\textbar{}6\\textbar{}-\\textbar{}11.80301604708\\textbar{}11.86569393964,PU.1\\_disc3\\textbar{}0\\textbar{}0.782048824299991\\textbar{}14\\textbar{}-\\textbar{}10.515276627536\\textbar{}11.297325451836,Rad21\\_disc5\\textbar{}0\\textbar{}0.670879460224995\\textbar{}13\\textbar{}-\\textbar{}11.614934317575\\textbar{}12.2858137778,TFII-I\\textbar{}0\\textbar{}1.583764881699\\textbar{}4\\textbar{}-\\textbar{}12.967990118301\\textbar{}14.551755,YY1\\_known5\\textbar{}0\\textbar{}1.32081275757199\\textbar{}2\\textbar{}+\\textbar{}13.375658883646\\textbar{}14.696471641218,ZNF263\\_disc1\\textbar{}0\\textbar{}11.707804970745\\textbar{}2\\textbar{}-\\textbar{}0.0888327671650018\\textbar{}11.79663773791 & TGGCTGGCTCAGGTCCTCCGTCTGCCATCTGCTAGCCATG                                                                                                                                                                                                                                                                                                                                                                                                                                                                                                                                                                                                                                                                                                                                                                                                                                                                                                                                                                                                                                                                                                                                                    & TGGCTGGCTCAGGTCCTCCCTCTGCCATCTGCTAGCCATG                                                                                                                                                                                                                                                                                                                                                                                                                                                                                                                                                                                                                                                                                                                                                                                                                                                                                                                                                                                                                                                                                                                                                   \\\\\n",
       "\\end{tabular}\n"
      ],
      "text/plain": [
       "  pos            ref alt rsID      \n",
       "1 chr1:11852516  C   T   rs17375901\n",
       "2 chr1:11865804  A   G   rs13306561\n",
       "3 chr1:162084658 T   C   rs1572499 \n",
       "4 chr1:168687512 T   C   rs607484  \n",
       "5 chr1:168692244 C   T   rs553721  \n",
       "6 chr1:168692515 G   C   rs681316  \n",
       "  motif                                                                                                                                                                                                                                                                                                                                                                                                                                                                                                                                                                                                          \n",
       "1 .                                                                                                                                                                                                                                                                                                                                                                                                                                                                                                                                                                                                              \n",
       "2 ELF1_disc3|0|4.74466575389299|1|+|5.543053479183|10.287719233076,Hic1_2|0|0.897337977877001|18|-|11.903737466505|12.801075444382,Pou2f2_disc2|0|5.39831515744399|4|+|6.601107441096|11.99942259854,Rad21_disc10|0|11.966141054017|4|+|-0.413500434122994|11.552640619894,SMC3_disc3|0|8.98806424014799|4|+|2.174261042373|11.162325282521,TATA_disc7|0|-0.101452561479007|2|+|12.557281767466|12.455829205987,YY1_disc4|0|5.24235102097501|1|+|5.62657212016499|10.86892314114                                                                                                                                 \n",
       "3 RREB-1_2|0|-10.507327084207|8|-|3.14679623991898|-7.36053084428801,Rad21_disc10|0|11.966141054017|2|+|-0.428905998402001|11.537235055615                                                                                                                                                                                                                                                                                                                                                                                                                                                                       \n",
       "4 .                                                                                                                                                                                                                                                                                                                                                                                                                                                                                                                                                                                                              \n",
       "5 CDP_1|0|11.966167636631|8|-|3.78294527010799|15.749112906739,CDP_4|0|11.966140906344|12|-|-0.521234921325018|11.444905985019,E2F_disc4|0|11.966208782124|8|+|1.849887044594|13.816095826718,Irf_disc1|0|11.966099221076|8|+|2.42993900093299|14.396038222009,NF-Y_disc1|0|5.32530364376198|6|-|7.21590342485801|12.54120706862,NF-Y_known1|0|6.80459693273599|10|+|6.300412777868|13.105009710604,YY1_disc1|0|-2.697562941502|2|+|9.543184140086|6.845621198584,YY1_known6|0|0.99888158964|3|+|11.549403111264|12.548284700904                                                                                 \n",
       "6 BDP1_disc3|0|11.966133371954|12|-|0.614733170240001|12.580866542194,CTCFL_disc1|0|11.902552030587|6|+|-1.186672022514|10.715880008073,CTCF_known1|0|0.554786016552001|19|-|11.44858335967|12.003369376222,NRSF_disc9|0|0.0626778925599893|6|-|11.80301604708|11.86569393964,PU.1_disc3|0|0.782048824299991|14|-|10.515276627536|11.297325451836,Rad21_disc5|0|0.670879460224995|13|-|11.614934317575|12.2858137778,TFII-I|0|1.583764881699|4|-|12.967990118301|14.551755,YY1_known5|0|1.32081275757199|2|+|13.375658883646|14.696471641218,ZNF263_disc1|0|11.707804970745|2|-|0.0888327671650018|11.79663773791\n",
       "  seq                                     \n",
       "1 ACCTAAGGTATCAGGACTACTGGCAGCCATGTGGGCGGAA\n",
       "2 ATCCCGCGAAGGGTGCGCAAGGGAGGCGGCAGCCCCCCCC\n",
       "3 ACTAAATCGGAAGTTGTTGTAGGGGTGGGATGGTATCTCC\n",
       "4 GCCGAACTGTTTCATGGAGTACCAGTTCTGAAGGCAATCC\n",
       "5 TCCTTACAAGAGCAGCCAACAACCATTTTTGCAGAGCTCA\n",
       "6 TGGCTGGCTCAGGTCCTCCGTCTGCCATCTGCTAGCCATG\n",
       "  fas1[, c(\"seq\")]                        \n",
       "1 ACCTAAGGTATCAGGACTATTGGCAGCCATGTGGGCGGAA\n",
       "2 ATCCCGCGAAGGGTGCGCAGGGGAGGCGGCAGCCCCCCCC\n",
       "3 ACTAAATCGGAAGTTGTTGCAGGGGTGGGATGGTATCTCC\n",
       "4 GCCGAACTGTTTCATGGAGCACCAGTTCTGAAGGCAATCC\n",
       "5 TCCTTACAAGAGCAGCCAATAACCATTTTTGCAGAGCTCA\n",
       "6 TGGCTGGCTCAGGTCCTCCCTCTGCCATCTGCTAGCCATG"
      ]
     },
     "metadata": {},
     "output_type": "display_data"
    }
   ],
   "source": [
    "##### Make table to use in Erin's program\n",
    "matr=cbind(fas, fas1[,c(\"seq\")])\n",
    "matr=matr[c(1,3,4,5,6,2,7)]\n",
    "head(matr)"
   ]
  },
  {
   "cell_type": "code",
   "execution_count": 223,
   "metadata": {
    "collapsed": false
   },
   "outputs": [],
   "source": [
    "#adapt column names to erin's script \n",
    "colnames(matr)[c(1,6,7)]=c(\"Variant\", \"REfSeq\", \"ALtSeq\")\n",
    "matr$REfSeq<-toupper(matr$REfSeq)\n",
    "matr$ALtSeq<-toupper(matr$ALtSeq)\n",
    "\n",
    "write.table(matr, paste(dir, \"TestMAtr.txt\", sep=\"/\"), row.names=F, col.names=T, sep=\"\\t\", quote=F)\n"
   ]
  },
  {
   "cell_type": "markdown",
   "metadata": {},
   "source": [
    "### Load results"
   ]
  },
  {
   "cell_type": "code",
   "execution_count": 230,
   "metadata": {
    "collapsed": true
   },
   "outputs": [],
   "source": [
    "sigSites<-read.table(paste(dir,'analysis/AlleleAlteringSites_scores_1.txt',sep=\"/\"), header=T, stringsAsFactors=F)\n",
    "sigSites$Score_change = sigSites$maxAltScore-sigSites$maxRefScore"
   ]
  },
  {
   "cell_type": "code",
   "execution_count": 265,
   "metadata": {
    "collapsed": false
   },
   "outputs": [],
   "source": [
    "sigSites$Motif_anno<-paste(sigSites$Motif, round(sigSites$Score_change,2), sigSites$maxRefScoreStrand, \n",
    "                          round(sigSites$maxRefScore,2), round(sigSites$maxAltScore,2), sep=\"|\" )\n",
    "agg=aggregate(Motif_anno~SNP, sigSites, paste, collapse=\",\")\n",
    "agg = merge(agg,annot[,c(\"varID\",'motif')], by=1 , all=T)\n"
   ]
  },
  {
   "cell_type": "code",
   "execution_count": 268,
   "metadata": {
    "collapsed": false
   },
   "outputs": [],
   "source": [
    "agg$SNP=gsub(\"chr\", \"\", agg$SNP)"
   ]
  },
  {
   "cell_type": "markdown",
   "metadata": {},
   "source": [
    "### Merge with the rest of annotations"
   ]
  },
  {
   "cell_type": "code",
   "execution_count": 257,
   "metadata": {
    "collapsed": false
   },
   "outputs": [],
   "source": [
    "NKX25= merge( NKX25, rssnp [, c('snpID','rsID','snp_maf','HGNC_nearest_gene_snpsnap_protein_coding')], by.x=\"LD\", by.y=\"snpID\", all.x=T)"
   ]
  },
  {
   "cell_type": "code",
   "execution_count": 254,
   "metadata": {
    "collapsed": true
   },
   "outputs": [],
   "source": [
    "#NKX25 = read.csv(\"test_table.csv\", row.names=1)"
   ]
  },
  {
   "cell_type": "code",
   "execution_count": 270,
   "metadata": {
    "collapsed": false
   },
   "outputs": [],
   "source": [
    "fintab = merge(NKX25, agg, by=1, all.x=T)"
   ]
  },
  {
   "cell_type": "code",
   "execution_count": 273,
   "metadata": {
    "collapsed": true
   },
   "outputs": [],
   "source": [
    "fintab=fintab[, -c(3,4)]"
   ]
  },
  {
   "cell_type": "code",
   "execution_count": 274,
   "metadata": {
    "collapsed": false
   },
   "outputs": [
    {
     "data": {
      "text/html": [
       "<table>\n",
       "<thead><tr><th scope=col>LD</th><th scope=col>indexSNP</th><th scope=col>H3K27AC_CM</th><th scope=col>ATAC_CM</th><th scope=col>Fetal_heart_DHS</th><th scope=col>Lead</th><th scope=col>score</th><th scope=col>GTEX</th><th scope=col>tested</th><th scope=col>ASE</th><th scope=col>peak</th><th scope=col>rsID</th><th scope=col>snp_maf</th><th scope=col>HGNC_nearest_gene_snpsnap_protein_coding</th><th scope=col>Motif_anno</th><th scope=col>motif</th></tr></thead>\n",
       "<tbody>\n",
       "\t<tr><td>1:11852516                                                                                                                                                                                                                                                                                                                                                                                                                                                                                                                                                                                                     </td><td>1:11852516                                                                                                                                                                                                                                                                                                                                                                                                                                                                                                                                                                                                     </td><td> TRUE                                                                                                                                                                                                                                                                                                                                                                                                                                                                                                                                                                                                          </td><td> TRUE                                                                                                                                                                                                                                                                                                                                                                                                                                                                                                                                                                                                          </td><td> TRUE                                                                                                                                                                                                                                                                                                                                                                                                                                                                                                                                                                                                          </td><td> TRUE                                                                                                                                                                                                                                                                                                                                                                                                                                                                                                                                                                                                          </td><td>2.769831                                                                                                                                                                                                                                                                                                                                                                                                                                                                                                                                                                                                       </td><td>FALSE                                                                                                                                                                                                                                                                                                                                                                                                                                                                                                                                                                                                          </td><td> TRUE                                                                                                                                                                                                                                                                                                                                                                                                                                                                                                                                                                                                          </td><td>FALSE                                                                                                                                                                                                                                                                                                                                                                                                                                                                                                                                                                                                          </td><td>chr1:11852334-11852933                                                                                                                                                                                                                                                                                                                                                                                                                                                                                                                                                                                         </td><td>rs17375901                                                                                                                                                                                                                                                                                                                                                                                                                                                                                                                                                                                                     </td><td>0.06859                                                                                                                                                                                                                                                                                                                                                                                                                                                                                                                                                                                                        </td><td>MTHFR                                                                                                                                                                                                                                                                                                                                                                                                                                                                                                                                                                                                          </td><td>denovo_GATA|4.3|-|2.11|6.41,Gata1|6.9|-|0.29|7.2,GATA3|4.32|-|2.26|6.57,Gata4|5.15|-|2.26|7.41                                                                                                                                                                                                                                                                                                                                                                                                                                                                                                                 </td><td>.                                                                                                                                                                                                                                                                                                                                                                                                                                                                                                                                                                                                              </td></tr>\n",
       "\t<tr><td>1:11865804                                                                                                                                                                                                                                                                                                                                                                                                                                                                                                                                                                                                     </td><td>1:11887303                                                                                                                                                                                                                                                                                                                                                                                                                                                                                                                                                                                                     </td><td> TRUE                                                                                                                                                                                                                                                                                                                                                                                                                                                                                                                                                                                                          </td><td> TRUE                                                                                                                                                                                                                                                                                                                                                                                                                                                                                                                                                                                                          </td><td> TRUE                                                                                                                                                                                                                                                                                                                                                                                                                                                                                                                                                                                                          </td><td>FALSE                                                                                                                                                                                                                                                                                                                                                                                                                                                                                                                                                                                                          </td><td>2.769831                                                                                                                                                                                                                                                                                                                                                                                                                                                                                                                                                                                                       </td><td>FALSE                                                                                                                                                                                                                                                                                                                                                                                                                                                                                                                                                                                                          </td><td>FALSE                                                                                                                                                                                                                                                                                                                                                                                                                                                                                                                                                                                                          </td><td>   NA                                                                                                                                                                                                                                                                                                                                                                                                                                                                                                                                                                                                          </td><td>chr1:11865285-11866699                                                                                                                                                                                                                                                                                                                                                                                                                                                                                                                                                                                         </td><td>rs13306561                                                                                                                                                                                                                                                                                                                                                                                                                                                                                                                                                                                                     </td><td>0.14310                                                                                                                                                                                                                                                                                                                                                                                                                                                                                                                                                                                                        </td><td>MTHFR                                                                                                                                                                                                                                                                                                                                                                                                                                                                                                                                                                                                          </td><td>NA                                                                                                                                                                                                                                                                                                                                                                                                                                                                                                                                                                                                             </td><td>ELF1_disc3|0|4.74466575389299|1|+|5.543053479183|10.287719233076,Hic1_2|0|0.897337977877001|18|-|11.903737466505|12.801075444382,Pou2f2_disc2|0|5.39831515744399|4|+|6.601107441096|11.99942259854,Rad21_disc10|0|11.966141054017|4|+|-0.413500434122994|11.552640619894,SMC3_disc3|0|8.98806424014799|4|+|2.174261042373|11.162325282521,TATA_disc7|0|-0.101452561479007|2|+|12.557281767466|12.455829205987,YY1_disc4|0|5.24235102097501|1|+|5.62657212016499|10.86892314114                                                                                                                                 </td></tr>\n",
       "\t<tr><td>1:162084658                                                                                                                                                                                                                                                                                                                                                                                                                                                                                                                                                                                                    </td><td>1:162085685                                                                                                                                                                                                                                                                                                                                                                                                                                                                                                                                                                                                    </td><td>FALSE                                                                                                                                                                                                                                                                                                                                                                                                                                                                                                                                                                                                          </td><td>FALSE                                                                                                                                                                                                                                                                                                                                                                                                                                                                                                                                                                                                          </td><td>FALSE                                                                                                                                                                                                                                                                                                                                                                                                                                                                                                                                                                                                          </td><td>FALSE                                                                                                                                                                                                                                                                                                                                                                                                                                                                                                                                                                                                          </td><td>2.178189                                                                                                                                                                                                                                                                                                                                                                                                                                                                                                                                                                                                       </td><td>FALSE                                                                                                                                                                                                                                                                                                                                                                                                                                                                                                                                                                                                          </td><td> TRUE                                                                                                                                                                                                                                                                                                                                                                                                                                                                                                                                                                                                          </td><td>FALSE                                                                                                                                                                                                                                                                                                                                                                                                                                                                                                                                                                                                          </td><td>chr1:162084597-162084832                                                                                                                                                                                                                                                                                                                                                                                                                                                                                                                                                                                       </td><td>rs1572499                                                                                                                                                                                                                                                                                                                                                                                                                                                                                                                                                                                                      </td><td>0.36180                                                                                                                                                                                                                                                                                                                                                                                                                                                                                                                                                                                                        </td><td>NOS1AP                                                                                                                                                                                                                                                                                                                                                                                                                                                                                                                                                                                                         </td><td>NA                                                                                                                                                                                                                                                                                                                                                                                                                                                                                                                                                                                                             </td><td>RREB-1_2|0|-10.507327084207|8|-|3.14679623991898|-7.36053084428801,Rad21_disc10|0|11.966141054017|2|+|-0.428905998402001|11.537235055615                                                                                                                                                                                                                                                                                                                                                                                                                                                                       </td></tr>\n",
       "\t<tr><td>1:168687512                                                                                                                                                                                                                                                                                                                                                                                                                                                                                                                                                                                                    </td><td>1:168689940                                                                                                                                                                                                                                                                                                                                                                                                                                                                                                                                                                                                    </td><td> TRUE                                                                                                                                                                                                                                                                                                                                                                                                                                                                                                                                                                                                          </td><td> TRUE                                                                                                                                                                                                                                                                                                                                                                                                                                                                                                                                                                                                          </td><td> TRUE                                                                                                                                                                                                                                                                                                                                                                                                                                                                                                                                                                                                          </td><td>FALSE                                                                                                                                                                                                                                                                                                                                                                                                                                                                                                                                                                                                          </td><td>2.769831                                                                                                                                                                                                                                                                                                                                                                                                                                                                                                                                                                                                       </td><td>FALSE                                                                                                                                                                                                                                                                                                                                                                                                                                                                                                                                                                                                          </td><td> TRUE                                                                                                                                                                                                                                                                                                                                                                                                                                                                                                                                                                                                          </td><td>FALSE                                                                                                                                                                                                                                                                                                                                                                                                                                                                                                                                                                                                          </td><td>chr1:168687376-168687754                                                                                                                                                                                                                                                                                                                                                                                                                                                                                                                                                                                       </td><td>rs607484                                                                                                                                                                                                                                                                                                                                                                                                                                                                                                                                                                                                       </td><td>0.27630                                                                                                                                                                                                                                                                                                                                                                                                                                                                                                                                                                                                        </td><td>DPT                                                                                                                                                                                                                                                                                                                                                                                                                                                                                                                                                                                                            </td><td>NA                                                                                                                                                                                                                                                                                                                                                                                                                                                                                                                                                                                                             </td><td>.                                                                                                                                                                                                                                                                                                                                                                                                                                                                                                                                                                                                              </td></tr>\n",
       "\t<tr><td>1:168692244                                                                                                                                                                                                                                                                                                                                                                                                                                                                                                                                                                                                    </td><td>1:168689940                                                                                                                                                                                                                                                                                                                                                                                                                                                                                                                                                                                                    </td><td> TRUE                                                                                                                                                                                                                                                                                                                                                                                                                                                                                                                                                                                                          </td><td> TRUE                                                                                                                                                                                                                                                                                                                                                                                                                                                                                                                                                                                                          </td><td> TRUE                                                                                                                                                                                                                                                                                                                                                                                                                                                                                                                                                                                                          </td><td>FALSE                                                                                                                                                                                                                                                                                                                                                                                                                                                                                                                                                                                                          </td><td>2.769831                                                                                                                                                                                                                                                                                                                                                                                                                                                                                                                                                                                                       </td><td>FALSE                                                                                                                                                                                                                                                                                                                                                                                                                                                                                                                                                                                                          </td><td>FALSE                                                                                                                                                                                                                                                                                                                                                                                                                                                                                                                                                                                                          </td><td>   NA                                                                                                                                                                                                                                                                                                                                                                                                                                                                                                                                                                                                          </td><td>chr1:168692140-168692529                                                                                                                                                                                                                                                                                                                                                                                                                                                                                                                                                                                       </td><td>rs553721                                                                                                                                                                                                                                                                                                                                                                                                                                                                                                                                                                                                       </td><td>0.29820                                                                                                                                                                                                                                                                                                                                                                                                                                                                                                                                                                                                        </td><td>DPT                                                                                                                                                                                                                                                                                                                                                                                                                                                                                                                                                                                                            </td><td>NA                                                                                                                                                                                                                                                                                                                                                                                                                                                                                                                                                                                                             </td><td>CDP_1|0|11.966167636631|8|-|3.78294527010799|15.749112906739,CDP_4|0|11.966140906344|12|-|-0.521234921325018|11.444905985019,E2F_disc4|0|11.966208782124|8|+|1.849887044594|13.816095826718,Irf_disc1|0|11.966099221076|8|+|2.42993900093299|14.396038222009,NF-Y_disc1|0|5.32530364376198|6|-|7.21590342485801|12.54120706862,NF-Y_known1|0|6.80459693273599|10|+|6.300412777868|13.105009710604,YY1_disc1|0|-2.697562941502|2|+|9.543184140086|6.845621198584,YY1_known6|0|0.99888158964|3|+|11.549403111264|12.548284700904                                                                                 </td></tr>\n",
       "\t<tr><td>1:168692515                                                                                                                                                                                                                                                                                                                                                                                                                                                                                                                                                                                                    </td><td>1:168689940                                                                                                                                                                                                                                                                                                                                                                                                                                                                                                                                                                                                    </td><td> TRUE                                                                                                                                                                                                                                                                                                                                                                                                                                                                                                                                                                                                          </td><td>FALSE                                                                                                                                                                                                                                                                                                                                                                                                                                                                                                                                                                                                          </td><td> TRUE                                                                                                                                                                                                                                                                                                                                                                                                                                                                                                                                                                                                          </td><td>FALSE                                                                                                                                                                                                                                                                                                                                                                                                                                                                                                                                                                                                          </td><td>2.764565                                                                                                                                                                                                                                                                                                                                                                                                                                                                                                                                                                                                       </td><td>FALSE                                                                                                                                                                                                                                                                                                                                                                                                                                                                                                                                                                                                          </td><td>FALSE                                                                                                                                                                                                                                                                                                                                                                                                                                                                                                                                                                                                          </td><td>   NA                                                                                                                                                                                                                                                                                                                                                                                                                                                                                                                                                                                                          </td><td>chr1:168692140-168692529                                                                                                                                                                                                                                                                                                                                                                                                                                                                                                                                                                                       </td><td>rs681316                                                                                                                                                                                                                                                                                                                                                                                                                                                                                                                                                                                                       </td><td>0.29820                                                                                                                                                                                                                                                                                                                                                                                                                                                                                                                                                                                                        </td><td>DPT                                                                                                                                                                                                                                                                                                                                                                                                                                                                                                                                                                                                            </td><td>CTCF|0.37|+|8.65|9.02                                                                                                                                                                                                                                                                                                                                                                                                                                                                                                                                                                                          </td><td>BDP1_disc3|0|11.966133371954|12|-|0.614733170240001|12.580866542194,CTCFL_disc1|0|11.902552030587|6|+|-1.186672022514|10.715880008073,CTCF_known1|0|0.554786016552001|19|-|11.44858335967|12.003369376222,NRSF_disc9|0|0.0626778925599893|6|-|11.80301604708|11.86569393964,PU.1_disc3|0|0.782048824299991|14|-|10.515276627536|11.297325451836,Rad21_disc5|0|0.670879460224995|13|-|11.614934317575|12.2858137778,TFII-I|0|1.583764881699|4|-|12.967990118301|14.551755,YY1_known5|0|1.32081275757199|2|+|13.375658883646|14.696471641218,ZNF263_disc1|0|11.707804970745|2|-|0.0888327671650018|11.79663773791</td></tr>\n",
       "</tbody>\n",
       "</table>\n"
      ],
      "text/latex": [
       "\\begin{tabular}{r|llllllllllllllll}\n",
       " LD & indexSNP & H3K27AC\\_CM & ATAC\\_CM & Fetal\\_heart\\_DHS & Lead & score & GTEX & tested & ASE & peak & rsID & snp\\_maf & HGNC\\_nearest\\_gene\\_snpsnap\\_protein\\_coding & Motif\\_anno & motif\\\\\n",
       "\\hline\n",
       "\t 1:11852516                                                                                                                                                                                                                                                                                                                                                                                                                                                                                                                                                                                                      & 1:11852516                                                                                                                                                                                                                                                                                                                                                                                                                                                                                                                                                                                                      &  TRUE                                                                                                                                                                                                                                                                                                                                                                                                                                                                                                                                                                                                           &  TRUE                                                                                                                                                                                                                                                                                                                                                                                                                                                                                                                                                                                                           &  TRUE                                                                                                                                                                                                                                                                                                                                                                                                                                                                                                                                                                                                           &  TRUE                                                                                                                                                                                                                                                                                                                                                                                                                                                                                                                                                                                                           & 2.769831                                                                                                                                                                                                                                                                                                                                                                                                                                                                                                                                                                                                        & FALSE                                                                                                                                                                                                                                                                                                                                                                                                                                                                                                                                                                                                           &  TRUE                                                                                                                                                                                                                                                                                                                                                                                                                                                                                                                                                                                                           & FALSE                                                                                                                                                                                                                                                                                                                                                                                                                                                                                                                                                                                                           & chr1:11852334-11852933                                                                                                                                                                                                                                                                                                                                                                                                                                                                                                                                                                                          & rs17375901                                                                                                                                                                                                                                                                                                                                                                                                                                                                                                                                                                                                      & 0.06859                                                                                                                                                                                                                                                                                                                                                                                                                                                                                                                                                                                                         & MTHFR                                                                                                                                                                                                                                                                                                                                                                                                                                                                                                                                                                                                           & denovo\\_GATA\\textbar{}4.3\\textbar{}-\\textbar{}2.11\\textbar{}6.41,Gata1\\textbar{}6.9\\textbar{}-\\textbar{}0.29\\textbar{}7.2,GATA3\\textbar{}4.32\\textbar{}-\\textbar{}2.26\\textbar{}6.57,Gata4\\textbar{}5.15\\textbar{}-\\textbar{}2.26\\textbar{}7.41                                                                                                                                                                                                                                                                                                                                                & .                                                                                                                                                                                                                                                                                                                                                                                                                                                                                                                                                                                                              \\\\\n",
       "\t 1:11865804                                                                                                                                                                                                                                                                                                                                                                                                                                                                                                                                                                                                                                                                                                                                                                                                                                                                                                                                                                                                                                                        & 1:11887303                                                                                                                                                                                                                                                                                                                                                                                                                                                                                                                                                                                                                                                                                                                                                                                                                                                                                                                                                                                                                                                        &  TRUE                                                                                                                                                                                                                                                                                                                                                                                                                                                                                                                                                                                                                                                                                                                                                                                                                                                                                                                                                                                                                                                             &  TRUE                                                                                                                                                                                                                                                                                                                                                                                                                                                                                                                                                                                                                                                                                                                                                                                                                                                                                                                                                                                                                                                             &  TRUE                                                                                                                                                                                                                                                                                                                                                                                                                                                                                                                                                                                                                                                                                                                                                                                                                                                                                                                                                                                                                                                             & FALSE                                                                                                                                                                                                                                                                                                                                                                                                                                                                                                                                                                                                                                                                                                                                                                                                                                                                                                                                                                                                                                                             & 2.769831                                                                                                                                                                                                                                                                                                                                                                                                                                                                                                                                                                                                                                                                                                                                                                                                                                                                                                                                                                                                                                                          & FALSE                                                                                                                                                                                                                                                                                                                                                                                                                                                                                                                                                                                                                                                                                                                                                                                                                                                                                                                                                                                                                                                             & FALSE                                                                                                                                                                                                                                                                                                                                                                                                                                                                                                                                                                                                                                                                                                                                                                                                                                                                                                                                                                                                                                                             &    NA                                                                                                                                                                                                                                                                                                                                                                                                                                                                                                                                                                                                                                                                                                                                                                                                                                                                                                                                                                                                                                                             & chr1:11865285-11866699                                                                                                                                                                                                                                                                                                                                                                                                                                                                                                                                                                                                                                                                                                                                                                                                                                                                                                                                                                                                                                            & rs13306561                                                                                                                                                                                                                                                                                                                                                                                                                                                                                                                                                                                                                                                                                                                                                                                                                                                                                                                                                                                                                                                        & 0.14310                                                                                                                                                                                                                                                                                                                                                                                                                                                                                                                                                                                                                                                                                                                                                                                                                                                                                                                                                                                                                                                           & MTHFR                                                                                                                                                                                                                                                                                                                                                                                                                                                                                                                                                                                                                                                                                                                                                                                                                                                                                                                                                                                                                                                             & NA                                                                                                                                                                                                                                                                                                                                                                                                                                                                                                                                                                                                                                                                                                                                                                                                                                                                                                                                                                                                                                                                & ELF1\\_disc3\\textbar{}0\\textbar{}4.74466575389299\\textbar{}1\\textbar{}+\\textbar{}5.543053479183\\textbar{}10.287719233076,Hic1\\_2\\textbar{}0\\textbar{}0.897337977877001\\textbar{}18\\textbar{}-\\textbar{}11.903737466505\\textbar{}12.801075444382,Pou2f2\\_disc2\\textbar{}0\\textbar{}5.39831515744399\\textbar{}4\\textbar{}+\\textbar{}6.601107441096\\textbar{}11.99942259854,Rad21\\_disc10\\textbar{}0\\textbar{}11.966141054017\\textbar{}4\\textbar{}+\\textbar{}-0.413500434122994\\textbar{}11.552640619894,SMC3\\_disc3\\textbar{}0\\textbar{}8.98806424014799\\textbar{}4\\textbar{}+\\textbar{}2.174261042373\\textbar{}11.162325282521,TATA\\_disc7\\textbar{}0\\textbar{}-0.101452561479007\\textbar{}2\\textbar{}+\\textbar{}12.557281767466\\textbar{}12.455829205987,YY1\\_disc4\\textbar{}0\\textbar{}5.24235102097501\\textbar{}1\\textbar{}+\\textbar{}5.62657212016499\\textbar{}10.86892314114                                                                                                                                 \\\\\n",
       "\t 1:162084658                                                                                                                                                                                                                                                                                                                                                                                                                                                                                                                                                                                                                                                                                                                                 & 1:162085685                                                                                                                                                                                                                                                                                                                                                                                                                                                                                                                                                                                                                                                                                                                                 & FALSE                                                                                                                                                                                                                                                                                                                                                                                                                                                                                                                                                                                                                                                                                                                                       & FALSE                                                                                                                                                                                                                                                                                                                                                                                                                                                                                                                                                                                                                                                                                                                                       & FALSE                                                                                                                                                                                                                                                                                                                                                                                                                                                                                                                                                                                                                                                                                                                                       & FALSE                                                                                                                                                                                                                                                                                                                                                                                                                                                                                                                                                                                                                                                                                                                                       & 2.178189                                                                                                                                                                                                                                                                                                                                                                                                                                                                                                                                                                                                                                                                                                                                    & FALSE                                                                                                                                                                                                                                                                                                                                                                                                                                                                                                                                                                                                                                                                                                                                       &  TRUE                                                                                                                                                                                                                                                                                                                                                                                                                                                                                                                                                                                                                                                                                                                                       & FALSE                                                                                                                                                                                                                                                                                                                                                                                                                                                                                                                                                                                                                                                                                                                                       & chr1:162084597-162084832                                                                                                                                                                                                                                                                                                                                                                                                                                                                                                                                                                                                                                                                                                                    & rs1572499                                                                                                                                                                                                                                                                                                                                                                                                                                                                                                                                                                                                                                                                                                                                   & 0.36180                                                                                                                                                                                                                                                                                                                                                                                                                                                                                                                                                                                                                                                                                                                                     & NOS1AP                                                                                                                                                                                                                                                                                                                                                                                                                                                                                                                                                                                                                                                                                                                                      & NA                                                                                                                                                                                                                                                                                                                                                                                                                                                                                                                                                                                                                                                                                                                                          & RREB-1\\_2\\textbar{}0\\textbar{}-10.507327084207\\textbar{}8\\textbar{}-\\textbar{}3.14679623991898\\textbar{}-7.36053084428801,Rad21\\_disc10\\textbar{}0\\textbar{}11.966141054017\\textbar{}2\\textbar{}+\\textbar{}-0.428905998402001\\textbar{}11.537235055615                                                                                                                                                                                                                                                                                                                                                                                                                                                                       \\\\\n",
       "\t 1:168687512                                                                                                                                                                                                                                                                                                                                                                                                                                                                                                                                                                                                     & 1:168689940                                                                                                                                                                                                                                                                                                                                                                                                                                                                                                                                                                                                     &  TRUE                                                                                                                                                                                                                                                                                                                                                                                                                                                                                                                                                                                                           &  TRUE                                                                                                                                                                                                                                                                                                                                                                                                                                                                                                                                                                                                           &  TRUE                                                                                                                                                                                                                                                                                                                                                                                                                                                                                                                                                                                                           & FALSE                                                                                                                                                                                                                                                                                                                                                                                                                                                                                                                                                                                                           & 2.769831                                                                                                                                                                                                                                                                                                                                                                                                                                                                                                                                                                                                        & FALSE                                                                                                                                                                                                                                                                                                                                                                                                                                                                                                                                                                                                           &  TRUE                                                                                                                                                                                                                                                                                                                                                                                                                                                                                                                                                                                                           & FALSE                                                                                                                                                                                                                                                                                                                                                                                                                                                                                                                                                                                                           & chr1:168687376-168687754                                                                                                                                                                                                                                                                                                                                                                                                                                                                                                                                                                                        & rs607484                                                                                                                                                                                                                                                                                                                                                                                                                                                                                                                                                                                                        & 0.27630                                                                                                                                                                                                                                                                                                                                                                                                                                                                                                                                                                                                         & DPT                                                                                                                                                                                                                                                                                                                                                                                                                                                                                                                                                                                                             & NA                                                                                                                                                                                                                                                                                                                                                                                                                                                                                                                                                                                                              & .                                                                                                                                                                                                                                                                                                                                                                                                                                                                                                                                                                                                              \\\\\n",
       "\t 1:168692244                                                                                                                                                                                                                                                                                                                                                                                                                                                                                                                                                                                                                                                                                                                                                                                                                                                                                                                                                                                                                                                                                                                     & 1:168689940                                                                                                                                                                                                                                                                                                                                                                                                                                                                                                                                                                                                                                                                                                                                                                                                                                                                                                                                                                                                                                                                                                                     &  TRUE                                                                                                                                                                                                                                                                                                                                                                                                                                                                                                                                                                                                                                                                                                                                                                                                                                                                                                                                                                                                                                                                                                                           &  TRUE                                                                                                                                                                                                                                                                                                                                                                                                                                                                                                                                                                                                                                                                                                                                                                                                                                                                                                                                                                                                                                                                                                                           &  TRUE                                                                                                                                                                                                                                                                                                                                                                                                                                                                                                                                                                                                                                                                                                                                                                                                                                                                                                                                                                                                                                                                                                                           & FALSE                                                                                                                                                                                                                                                                                                                                                                                                                                                                                                                                                                                                                                                                                                                                                                                                                                                                                                                                                                                                                                                                                                                           & 2.769831                                                                                                                                                                                                                                                                                                                                                                                                                                                                                                                                                                                                                                                                                                                                                                                                                                                                                                                                                                                                                                                                                                                        & FALSE                                                                                                                                                                                                                                                                                                                                                                                                                                                                                                                                                                                                                                                                                                                                                                                                                                                                                                                                                                                                                                                                                                                           & FALSE                                                                                                                                                                                                                                                                                                                                                                                                                                                                                                                                                                                                                                                                                                                                                                                                                                                                                                                                                                                                                                                                                                                           &    NA                                                                                                                                                                                                                                                                                                                                                                                                                                                                                                                                                                                                                                                                                                                                                                                                                                                                                                                                                                                                                                                                                                                           & chr1:168692140-168692529                                                                                                                                                                                                                                                                                                                                                                                                                                                                                                                                                                                                                                                                                                                                                                                                                                                                                                                                                                                                                                                                                                        & rs553721                                                                                                                                                                                                                                                                                                                                                                                                                                                                                                                                                                                                                                                                                                                                                                                                                                                                                                                                                                                                                                                                                                                        & 0.29820                                                                                                                                                                                                                                                                                                                                                                                                                                                                                                                                                                                                                                                                                                                                                                                                                                                                                                                                                                                                                                                                                                                         & DPT                                                                                                                                                                                                                                                                                                                                                                                                                                                                                                                                                                                                                                                                                                                                                                                                                                                                                                                                                                                                                                                                                                                             & NA                                                                                                                                                                                                                                                                                                                                                                                                                                                                                                                                                                                                                                                                                                                                                                                                                                                                                                                                                                                                                                                                                                                              & CDP\\_1\\textbar{}0\\textbar{}11.966167636631\\textbar{}8\\textbar{}-\\textbar{}3.78294527010799\\textbar{}15.749112906739,CDP\\_4\\textbar{}0\\textbar{}11.966140906344\\textbar{}12\\textbar{}-\\textbar{}-0.521234921325018\\textbar{}11.444905985019,E2F\\_disc4\\textbar{}0\\textbar{}11.966208782124\\textbar{}8\\textbar{}+\\textbar{}1.849887044594\\textbar{}13.816095826718,Irf\\_disc1\\textbar{}0\\textbar{}11.966099221076\\textbar{}8\\textbar{}+\\textbar{}2.42993900093299\\textbar{}14.396038222009,NF-Y\\_disc1\\textbar{}0\\textbar{}5.32530364376198\\textbar{}6\\textbar{}-\\textbar{}7.21590342485801\\textbar{}12.54120706862,NF-Y\\_known1\\textbar{}0\\textbar{}6.80459693273599\\textbar{}10\\textbar{}+\\textbar{}6.300412777868\\textbar{}13.105009710604,YY1\\_disc1\\textbar{}0\\textbar{}-2.697562941502\\textbar{}2\\textbar{}+\\textbar{}9.543184140086\\textbar{}6.845621198584,YY1\\_known6\\textbar{}0\\textbar{}0.99888158964\\textbar{}3\\textbar{}+\\textbar{}11.549403111264\\textbar{}12.548284700904                                                                                 \\\\\n",
       "\t 1:168692515                                                                                                                                                                                                                                                                                                                                                                                                                                                                                                                                                                                                                                                                                                                                                                                                                                                                                                                                                                                                                                                                                                                                                                                 & 1:168689940                                                                                                                                                                                                                                                                                                                                                                                                                                                                                                                                                                                                                                                                                                                                                                                                                                                                                                                                                                                                                                                                                                                                                                                 &  TRUE                                                                                                                                                                                                                                                                                                                                                                                                                                                                                                                                                                                                                                                                                                                                                                                                                                                                                                                                                                                                                                                                                                                                                                                       & FALSE                                                                                                                                                                                                                                                                                                                                                                                                                                                                                                                                                                                                                                                                                                                                                                                                                                                                                                                                                                                                                                                                                                                                                                                       &  TRUE                                                                                                                                                                                                                                                                                                                                                                                                                                                                                                                                                                                                                                                                                                                                                                                                                                                                                                                                                                                                                                                                                                                                                                                       & FALSE                                                                                                                                                                                                                                                                                                                                                                                                                                                                                                                                                                                                                                                                                                                                                                                                                                                                                                                                                                                                                                                                                                                                                                                       & 2.764565                                                                                                                                                                                                                                                                                                                                                                                                                                                                                                                                                                                                                                                                                                                                                                                                                                                                                                                                                                                                                                                                                                                                                                                    & FALSE                                                                                                                                                                                                                                                                                                                                                                                                                                                                                                                                                                                                                                                                                                                                                                                                                                                                                                                                                                                                                                                                                                                                                                                       & FALSE                                                                                                                                                                                                                                                                                                                                                                                                                                                                                                                                                                                                                                                                                                                                                                                                                                                                                                                                                                                                                                                                                                                                                                                       &    NA                                                                                                                                                                                                                                                                                                                                                                                                                                                                                                                                                                                                                                                                                                                                                                                                                                                                                                                                                                                                                                                                                                                                                                                       & chr1:168692140-168692529                                                                                                                                                                                                                                                                                                                                                                                                                                                                                                                                                                                                                                                                                                                                                                                                                                                                                                                                                                                                                                                                                                                                                                    & rs681316                                                                                                                                                                                                                                                                                                                                                                                                                                                                                                                                                                                                                                                                                                                                                                                                                                                                                                                                                                                                                                                                                                                                                                                    & 0.29820                                                                                                                                                                                                                                                                                                                                                                                                                                                                                                                                                                                                                                                                                                                                                                                                                                                                                                                                                                                                                                                                                                                                                                                     & DPT                                                                                                                                                                                                                                                                                                                                                                                                                                                                                                                                                                                                                                                                                                                                                                                                                                                                                                                                                                                                                                                                                                                                                                                         & CTCF\\textbar{}0.37\\textbar{}+\\textbar{}8.65\\textbar{}9.02                                                                                                                                                                                                                                                                                                                                                                                                                                                                                                                                                                                                                                                                                                                                                                                                                                                                                                                                                                                                                                                                                                                               & BDP1\\_disc3\\textbar{}0\\textbar{}11.966133371954\\textbar{}12\\textbar{}-\\textbar{}0.614733170240001\\textbar{}12.580866542194,CTCFL\\_disc1\\textbar{}0\\textbar{}11.902552030587\\textbar{}6\\textbar{}+\\textbar{}-1.186672022514\\textbar{}10.715880008073,CTCF\\_known1\\textbar{}0\\textbar{}0.554786016552001\\textbar{}19\\textbar{}-\\textbar{}11.44858335967\\textbar{}12.003369376222,NRSF\\_disc9\\textbar{}0\\textbar{}0.0626778925599893\\textbar{}6\\textbar{}-\\textbar{}11.80301604708\\textbar{}11.86569393964,PU.1\\_disc3\\textbar{}0\\textbar{}0.782048824299991\\textbar{}14\\textbar{}-\\textbar{}10.515276627536\\textbar{}11.297325451836,Rad21\\_disc5\\textbar{}0\\textbar{}0.670879460224995\\textbar{}13\\textbar{}-\\textbar{}11.614934317575\\textbar{}12.2858137778,TFII-I\\textbar{}0\\textbar{}1.583764881699\\textbar{}4\\textbar{}-\\textbar{}12.967990118301\\textbar{}14.551755,YY1\\_known5\\textbar{}0\\textbar{}1.32081275757199\\textbar{}2\\textbar{}+\\textbar{}13.375658883646\\textbar{}14.696471641218,ZNF263\\_disc1\\textbar{}0\\textbar{}11.707804970745\\textbar{}2\\textbar{}-\\textbar{}0.0888327671650018\\textbar{}11.79663773791\\\\\n",
       "\\end{tabular}\n"
      ],
      "text/plain": [
       "  LD          indexSNP    H3K27AC_CM ATAC_CM Fetal_heart_DHS Lead  score   \n",
       "1 1:11852516  1:11852516   TRUE       TRUE    TRUE            TRUE 2.769831\n",
       "2 1:11865804  1:11887303   TRUE       TRUE    TRUE           FALSE 2.769831\n",
       "3 1:162084658 1:162085685 FALSE      FALSE   FALSE           FALSE 2.178189\n",
       "4 1:168687512 1:168689940  TRUE       TRUE    TRUE           FALSE 2.769831\n",
       "5 1:168692244 1:168689940  TRUE       TRUE    TRUE           FALSE 2.769831\n",
       "6 1:168692515 1:168689940  TRUE      FALSE    TRUE           FALSE 2.764565\n",
       "  GTEX  tested ASE   peak                     rsID       snp_maf\n",
       "1 FALSE  TRUE  FALSE chr1:11852334-11852933   rs17375901 0.06859\n",
       "2 FALSE FALSE     NA chr1:11865285-11866699   rs13306561 0.14310\n",
       "3 FALSE  TRUE  FALSE chr1:162084597-162084832 rs1572499  0.36180\n",
       "4 FALSE  TRUE  FALSE chr1:168687376-168687754 rs607484   0.27630\n",
       "5 FALSE FALSE     NA chr1:168692140-168692529 rs553721   0.29820\n",
       "6 FALSE FALSE     NA chr1:168692140-168692529 rs681316   0.29820\n",
       "  HGNC_nearest_gene_snpsnap_protein_coding\n",
       "1 MTHFR                                   \n",
       "2 MTHFR                                   \n",
       "3 NOS1AP                                  \n",
       "4 DPT                                     \n",
       "5 DPT                                     \n",
       "6 DPT                                     \n",
       "  Motif_anno                                                                                    \n",
       "1 denovo_GATA|4.3|-|2.11|6.41,Gata1|6.9|-|0.29|7.2,GATA3|4.32|-|2.26|6.57,Gata4|5.15|-|2.26|7.41\n",
       "2 NA                                                                                            \n",
       "3 NA                                                                                            \n",
       "4 NA                                                                                            \n",
       "5 NA                                                                                            \n",
       "6 CTCF|0.37|+|8.65|9.02                                                                         \n",
       "  motif                                                                                                                                                                                                                                                                                                                                                                                                                                                                                                                                                                                                          \n",
       "1 .                                                                                                                                                                                                                                                                                                                                                                                                                                                                                                                                                                                                              \n",
       "2 ELF1_disc3|0|4.74466575389299|1|+|5.543053479183|10.287719233076,Hic1_2|0|0.897337977877001|18|-|11.903737466505|12.801075444382,Pou2f2_disc2|0|5.39831515744399|4|+|6.601107441096|11.99942259854,Rad21_disc10|0|11.966141054017|4|+|-0.413500434122994|11.552640619894,SMC3_disc3|0|8.98806424014799|4|+|2.174261042373|11.162325282521,TATA_disc7|0|-0.101452561479007|2|+|12.557281767466|12.455829205987,YY1_disc4|0|5.24235102097501|1|+|5.62657212016499|10.86892314114                                                                                                                                 \n",
       "3 RREB-1_2|0|-10.507327084207|8|-|3.14679623991898|-7.36053084428801,Rad21_disc10|0|11.966141054017|2|+|-0.428905998402001|11.537235055615                                                                                                                                                                                                                                                                                                                                                                                                                                                                       \n",
       "4 .                                                                                                                                                                                                                                                                                                                                                                                                                                                                                                                                                                                                              \n",
       "5 CDP_1|0|11.966167636631|8|-|3.78294527010799|15.749112906739,CDP_4|0|11.966140906344|12|-|-0.521234921325018|11.444905985019,E2F_disc4|0|11.966208782124|8|+|1.849887044594|13.816095826718,Irf_disc1|0|11.966099221076|8|+|2.42993900093299|14.396038222009,NF-Y_disc1|0|5.32530364376198|6|-|7.21590342485801|12.54120706862,NF-Y_known1|0|6.80459693273599|10|+|6.300412777868|13.105009710604,YY1_disc1|0|-2.697562941502|2|+|9.543184140086|6.845621198584,YY1_known6|0|0.99888158964|3|+|11.549403111264|12.548284700904                                                                                 \n",
       "6 BDP1_disc3|0|11.966133371954|12|-|0.614733170240001|12.580866542194,CTCFL_disc1|0|11.902552030587|6|+|-1.186672022514|10.715880008073,CTCF_known1|0|0.554786016552001|19|-|11.44858335967|12.003369376222,NRSF_disc9|0|0.0626778925599893|6|-|11.80301604708|11.86569393964,PU.1_disc3|0|0.782048824299991|14|-|10.515276627536|11.297325451836,Rad21_disc5|0|0.670879460224995|13|-|11.614934317575|12.2858137778,TFII-I|0|1.583764881699|4|-|12.967990118301|14.551755,YY1_known5|0|1.32081275757199|2|+|13.375658883646|14.696471641218,ZNF263_disc1|0|11.707804970745|2|-|0.0888327671650018|11.79663773791"
      ]
     },
     "metadata": {},
     "output_type": "display_data"
    }
   ],
   "source": [
    "head(fintab)"
   ]
  },
  {
   "cell_type": "code",
   "execution_count": 275,
   "metadata": {
    "collapsed": true
   },
   "outputs": [],
   "source": [
    "write.csv(fintab, \"test_table2.csv\")"
   ]
  },
  {
   "cell_type": "markdown",
   "metadata": {},
   "source": [
    "### CardiPS eQTLS"
   ]
  },
  {
   "cell_type": "code",
   "execution_count": 276,
   "metadata": {
    "collapsed": true
   },
   "outputs": [],
   "source": [
    "cardips = read.table(\"/frazer01/projects/CARDIPS/analysis/qtl/snp2gene.txt\", header=T, sep=\"\\t\")"
   ]
  },
  {
   "cell_type": "code",
   "execution_count": 492,
   "metadata": {
    "collapsed": true
   },
   "outputs": [],
   "source": [
    "cardips$bonf = p.adjust(cardips$npval, method=\"bonferroni\")\n",
    "cardips$fdr = p.adjust(cardips$npval, method=\"BH\")"
   ]
  },
  {
   "cell_type": "code",
   "execution_count": 493,
   "metadata": {
    "collapsed": false
   },
   "outputs": [
    {
     "data": {
      "text/html": [
       "<table>\n",
       "<thead><tr><th></th><th scope=col>gene_id</th><th scope=col>sid</th><th scope=col>dist</th><th scope=col>npval</th><th scope=col>slope</th><th scope=col>bonf</th><th scope=col>fdr</th></tr></thead>\n",
       "<tbody>\n",
       "\t<tr><th scope=row>27</th><td>ENSG00000011021.17</td><td>rs13306561        </td><td>  -403            </td><td>0.036349200       </td><td> 0.133078         </td><td>1                 </td><td>0.4846852         </td></tr>\n",
       "\t<tr><th scope=row>47</th><td>ENSG00000215910.3 </td><td>rs13306561        </td><td> 43960            </td><td>0.000681259       </td><td>-0.393014         </td><td>1                 </td><td>0.0625339         </td></tr>\n",
       "\t<tr><th scope=row>53</th><td>ENSG00000081721.7 </td><td>rs1572499         </td><td>365110            </td><td>0.026303700       </td><td> 0.213261         </td><td>1                 </td><td>0.4199062         </td></tr>\n",
       "\t<tr><th scope=row>72</th><td>ENSG00000198929.8 </td><td>rs1572499         </td><td> 45094            </td><td>0.027324800       </td><td>-0.219265         </td><td>1                 </td><td>0.4269258         </td></tr>\n",
       "\t<tr><th scope=row>73</th><td>ENSG00000215840.3 </td><td>rs1572499         </td><td>708800            </td><td>0.033538800       </td><td>-0.114978         </td><td>1                 </td><td>0.4646917         </td></tr>\n",
       "\t<tr><th scope=row>74</th><td>ENSG00000224985.1 </td><td>rs1572499         </td><td>961108            </td><td>0.025755100       </td><td> 0.200799         </td><td>1                 </td><td>0.4141495         </td></tr>\n",
       "</tbody>\n",
       "</table>\n"
      ],
      "text/latex": [
       "\\begin{tabular}{r|lllllll}\n",
       "  & gene\\_id & sid & dist & npval & slope & bonf & fdr\\\\\n",
       "\\hline\n",
       "\t27 & ENSG00000011021.17 & rs13306561         &   -403             & 0.036349200        &  0.133078          & 1                  & 0.4846852         \\\\\n",
       "\t47 & ENSG00000215910.3  & rs13306561         &  43960             & 0.000681259        & -0.393014          & 1                  & 0.0625339         \\\\\n",
       "\t53 & ENSG00000081721.7  & rs1572499          & 365110             & 0.026303700        &  0.213261          & 1                  & 0.4199062         \\\\\n",
       "\t72 & ENSG00000198929.8  & rs1572499          &  45094             & 0.027324800        & -0.219265          & 1                  & 0.4269258         \\\\\n",
       "\t73 & ENSG00000215840.3  & rs1572499          & 708800             & 0.033538800        & -0.114978          & 1                  & 0.4646917         \\\\\n",
       "\t74 & ENSG00000224985.1  & rs1572499          & 961108             & 0.025755100        &  0.200799          & 1                  & 0.4141495         \\\\\n",
       "\\end{tabular}\n"
      ],
      "text/plain": [
       "   gene_id            sid        dist   npval       slope     bonf fdr      \n",
       "27 ENSG00000011021.17 rs13306561   -403 0.036349200  0.133078 1    0.4846852\n",
       "47 ENSG00000215910.3  rs13306561  43960 0.000681259 -0.393014 1    0.0625339\n",
       "53 ENSG00000081721.7  rs1572499  365110 0.026303700  0.213261 1    0.4199062\n",
       "72 ENSG00000198929.8  rs1572499   45094 0.027324800 -0.219265 1    0.4269258\n",
       "73 ENSG00000215840.3  rs1572499  708800 0.033538800 -0.114978 1    0.4646917\n",
       "74 ENSG00000224985.1  rs1572499  961108 0.025755100  0.200799 1    0.4141495"
      ]
     },
     "metadata": {},
     "output_type": "display_data"
    }
   ],
   "source": [
    "signif = subset(cardips, npval<0.05)\n",
    "head(signif)"
   ]
  },
  {
   "cell_type": "code",
   "execution_count": 494,
   "metadata": {
    "collapsed": false
   },
   "outputs": [],
   "source": [
    "signif= signif[order(signif$npval),]"
   ]
  },
  {
   "cell_type": "code",
   "execution_count": 495,
   "metadata": {
    "collapsed": false
   },
   "outputs": [],
   "source": [
    "gi   = read.table(\"/frazer01/publicdata/gencode_v19_20151104/gene_info.tsv\", header=T)\n",
    "signif = merge(signif, gi[, c('gene_id', 'gene_name')], by=\"gene_id\", all.x=T)"
   ]
  },
  {
   "cell_type": "code",
   "execution_count": 496,
   "metadata": {
    "collapsed": false
   },
   "outputs": [],
   "source": [
    "signif$cardips_qtl = paste (signif$gene_id, signif$gene_name,  signif$npval, signif$slope, sep=\"|\")\n",
    "agg_eqtls = aggregate(cardips_qtl~sid, signif, paste,collapse=',')"
   ]
  },
  {
   "cell_type": "code",
   "execution_count": 296,
   "metadata": {
    "collapsed": false
   },
   "outputs": [
    {
     "data": {
      "text/html": [
       "<table>\n",
       "<thead><tr><th scope=col>sid</th><th scope=col>cardips_qtl</th></tr></thead>\n",
       "<tbody>\n",
       "\t<tr><td>rs10071514                                                                                                                                </td><td>ENSG00000164463.8|CREBRF|0.0205766|-0.141092                                                                                              </td></tr>\n",
       "\t<tr><td>rs10415219                                                                                                                                </td><td>ENSG00000178982.5|EIF3K|0.0183874|-0.118611,ENSG00000179134.10|SAMD4B|0.0371158|-0.126983                                                 </td></tr>\n",
       "\t<tr><td>rs1123648                                                                                                                                 </td><td>ENSG00000115808.7|STRN|6.16228e-08|0.289862,ENSG00000163171.6|CDC42EP3|0.0458384|-0.146568,ENSG00000268688.1|AC007382.1|0.0222184|0.287049</td></tr>\n",
       "\t<tr><td>rs112772065                                                                                                                               </td><td>ENSG00000101577.5|LPIN2|0.0357018|0.218858,ENSG00000101605.8|MYOM1|0.0271855|-0.174569,ENSG00000101608.8|MYL12A|3.12371e-05|-0.245241     </td></tr>\n",
       "\t<tr><td>rs113222038                                                                                                                               </td><td>ENSG00000149499.7|EML3|0.00678898|0.188757,ENSG00000256847.1|CTD-3110P2.2|0.0472184|-0.19767                                              </td></tr>\n",
       "\t<tr><td>rs11739042                                                                                                                                </td><td>ENSG00000127022.10|CANX|1.05933e-07|0.52111                                                                                               </td></tr>\n",
       "</tbody>\n",
       "</table>\n"
      ],
      "text/latex": [
       "\\begin{tabular}{r|ll}\n",
       " sid & cardips\\_qtl\\\\\n",
       "\\hline\n",
       "\t rs10071514                                                                                                                                                               & ENSG00000164463.8\\textbar{}CREBRF\\textbar{}0.0205766\\textbar{}-0.141092                                                                                              \\\\\n",
       "\t rs10415219                                                                                                                                                                                             & ENSG00000178982.5\\textbar{}EIF3K\\textbar{}0.0183874\\textbar{}-0.118611,ENSG00000179134.10\\textbar{}SAMD4B\\textbar{}0.0371158\\textbar{}-0.126983                                                 \\\\\n",
       "\t rs1123648                                                                                                                                                                                                                            & ENSG00000115808.7\\textbar{}STRN\\textbar{}6.16228e-08\\textbar{}0.289862,ENSG00000163171.6\\textbar{}CDC42EP3\\textbar{}0.0458384\\textbar{}-0.146568,ENSG00000268688.1\\textbar{}AC007382.1\\textbar{}0.0222184\\textbar{}0.287049\\\\\n",
       "\t rs112772065                                                                                                                                                                                                                          & ENSG00000101577.5\\textbar{}LPIN2\\textbar{}0.0357018\\textbar{}0.218858,ENSG00000101605.8\\textbar{}MYOM1\\textbar{}0.0271855\\textbar{}-0.174569,ENSG00000101608.8\\textbar{}MYL12A\\textbar{}3.12371e-05\\textbar{}-0.245241     \\\\\n",
       "\t rs113222038                                                                                                                                                                                            & ENSG00000149499.7\\textbar{}EML3\\textbar{}0.00678898\\textbar{}0.188757,ENSG00000256847.1\\textbar{}CTD-3110P2.2\\textbar{}0.0472184\\textbar{}-0.19767                                              \\\\\n",
       "\t rs11739042                                                                                                                                                               & ENSG00000127022.10\\textbar{}CANX\\textbar{}1.05933e-07\\textbar{}0.52111                                                                                               \\\\\n",
       "\\end{tabular}\n"
      ],
      "text/plain": [
       "  sid        \n",
       "1 rs10071514 \n",
       "2 rs10415219 \n",
       "3 rs1123648  \n",
       "4 rs112772065\n",
       "5 rs113222038\n",
       "6 rs11739042 \n",
       "  cardips_qtl                                                                                                                               \n",
       "1 ENSG00000164463.8|CREBRF|0.0205766|-0.141092                                                                                              \n",
       "2 ENSG00000178982.5|EIF3K|0.0183874|-0.118611,ENSG00000179134.10|SAMD4B|0.0371158|-0.126983                                                 \n",
       "3 ENSG00000115808.7|STRN|6.16228e-08|0.289862,ENSG00000163171.6|CDC42EP3|0.0458384|-0.146568,ENSG00000268688.1|AC007382.1|0.0222184|0.287049\n",
       "4 ENSG00000101577.5|LPIN2|0.0357018|0.218858,ENSG00000101605.8|MYOM1|0.0271855|-0.174569,ENSG00000101608.8|MYL12A|3.12371e-05|-0.245241     \n",
       "5 ENSG00000149499.7|EML3|0.00678898|0.188757,ENSG00000256847.1|CTD-3110P2.2|0.0472184|-0.19767                                              \n",
       "6 ENSG00000127022.10|CANX|1.05933e-07|0.52111                                                                                               "
      ]
     },
     "metadata": {},
     "output_type": "display_data"
    }
   ],
   "source": [
    "head(agg_eqtls)"
   ]
  },
  {
   "cell_type": "code",
   "execution_count": 301,
   "metadata": {
    "collapsed": true
   },
   "outputs": [],
   "source": [
    "fintab = merge(fintab, agg_eqtls, by.x=\"rsID\", by.y=\"sid\", all.x=T )"
   ]
  },
  {
   "cell_type": "code",
   "execution_count": 302,
   "metadata": {
    "collapsed": true
   },
   "outputs": [],
   "source": [
    "write.csv(fintab, \"test_table3.csv\", row.names=F)"
   ]
  },
  {
   "cell_type": "code",
   "execution_count": 454,
   "metadata": {
    "collapsed": false
   },
   "outputs": [
    {
     "data": {
      "text/html": [
       "<table>\n",
       "<thead><tr><th scope=col>rsID</th><th scope=col>LD</th><th scope=col>indexSNP</th><th scope=col>H3K27AC_CM</th><th scope=col>ATAC_CM</th><th scope=col>Fetal_heart_DHS</th><th scope=col>Lead</th><th scope=col>score</th><th scope=col>GTEX</th><th scope=col>tested</th><th scope=col>ASE</th><th scope=col>peak</th><th scope=col>snp_maf</th><th scope=col>HGNC_nearest_gene_snpsnap_protein_coding</th><th scope=col>Motif_anno</th><th scope=col>motif</th><th scope=col>cardips_qtl.x</th><th scope=col>cardips_qtl.y</th></tr></thead>\n",
       "<tbody>\n",
       "\t<tr><td>rs10071514                                                                                                                                                                                                                                                                                                                </td><td>5:172669771                                                                                                                                                                                                                                                                                                               </td><td>5:172664163                                                                                                                                                                                                                                                                                                               </td><td> TRUE                                                                                                                                                                                                                                                                                                                     </td><td> TRUE                                                                                                                                                                                                                                                                                                                     </td><td>TRUE                                                                                                                                                                                                                                                                                                                      </td><td>FALSE                                                                                                                                                                                                                                                                                                                     </td><td>2.769831                                                                                                                                                                                                                                                                                                                  </td><td>FALSE                                                                                                                                                                                                                                                                                                                     </td><td> TRUE                                                                                                                                                                                                                                                                                                                     </td><td>FALSE                                                                                                                                                                                                                                                                                                                     </td><td>chr5:172669552-172669870                                                                                                                                                                                                                                                                                                  </td><td>0.27240                                                                                                                                                                                                                                                                                                                   </td><td>NKX2-5                                                                                                                                                                                                                                                                                                                    </td><td>NA                                                                                                                                                                                                                                                                                                                        </td><td>BDP1_disc1|0|11.901995770206|17|+|-7.57794758847598|4.32404818173001,CTCF_disc9|0|10.597784643402|9|-|2.176135808834|12.773920452236                                                                                                                                                                                      </td><td>NA                                                                                                                                                                                                                                                                                                                        </td><td>ENSG00000164463.8|CREBRF|0.0205766|-0.141092                                                                                                                                                                                                                                                                              </td></tr>\n",
       "\t<tr><td>rs1017154                                                                                                                                                                                                                                                                                                                 </td><td>2:36683708                                                                                                                                                                                                                                                                                                                </td><td>2:36673774                                                                                                                                                                                                                                                                                                                </td><td>FALSE                                                                                                                                                                                                                                                                                                                     </td><td> TRUE                                                                                                                                                                                                                                                                                                                     </td><td>TRUE                                                                                                                                                                                                                                                                                                                      </td><td>FALSE                                                                                                                                                                                                                                                                                                                     </td><td>2.719790                                                                                                                                                                                                                                                                                                                  </td><td>FALSE                                                                                                                                                                                                                                                                                                                     </td><td> TRUE                                                                                                                                                                                                                                                                                                                     </td><td>FALSE                                                                                                                                                                                                                                                                                                                     </td><td>chr2:36683673-36683976                                                                                                                                                                                                                                                                                                    </td><td>0.40060                                                                                                                                                                                                                                                                                                                   </td><td>CRIM1                                                                                                                                                                                                                                                                                                                     </td><td>Nkx3.1|-0.93|-|5.65|4.71                                                                                                                                                                                                                                                                                                  </td><td>.                                                                                                                                                                                                                                                                                                                         </td><td>NA                                                                                                                                                                                                                                                                                                                        </td><td>NA                                                                                                                                                                                                                                                                                                                        </td></tr>\n",
       "\t<tr><td>rs10415219                                                                                                                                                                                                                                                                                                                </td><td>19:39150235                                                                                                                                                                                                                                                                                                               </td><td>19:39188112                                                                                                                                                                                                                                                                                                               </td><td> TRUE                                                                                                                                                                                                                                                                                                                     </td><td> TRUE                                                                                                                                                                                                                                                                                                                     </td><td>TRUE                                                                                                                                                                                                                                                                                                                      </td><td>FALSE                                                                                                                                                                                                                                                                                                                     </td><td>2.769831                                                                                                                                                                                                                                                                                                                  </td><td> TRUE                                                                                                                                                                                                                                                                                                                     </td><td> TRUE                                                                                                                                                                                                                                                                                                                     </td><td>FALSE                                                                                                                                                                                                                                                                                                                     </td><td>chr19:39150010-39150487                                                                                                                                                                                                                                                                                                   </td><td>0.43240                                                                                                                                                                                                                                                                                                                   </td><td>ACTN4                                                                                                                                                                                                                                                                                                                     </td><td>NA                                                                                                                                                                                                                                                                                                                        </td><td>AP-4_3|0|11.74385262887|8|+|-0.00299284500900399|11.740859783861,Ascl2|0|7.42136191997201|7|-|6.989439322644|14.410801242616,E2A_3|0|11.966221515249|8|-|0.697550714024999|12.663772229274,LBP-1_2|0|11.6443350135|1|-|0.5528079865|12.197143                                                                             </td><td>NA                                                                                                                                                                                                                                                                                                                        </td><td>ENSG00000178982.5|EIF3K|0.0183874|-0.118611,ENSG00000179134.10|SAMD4B|0.0371158|-0.126983                                                                                                                                                                                                                                 </td></tr>\n",
       "\t<tr><td>rs10457327                                                                                                                                                                                                                                                                                                                </td><td>6:118692152                                                                                                                                                                                                                                                                                                               </td><td>6:118692152                                                                                                                                                                                                                                                                                                               </td><td> TRUE                                                                                                                                                                                                                                                                                                                     </td><td> TRUE                                                                                                                                                                                                                                                                                                                     </td><td>TRUE                                                                                                                                                                                                                                                                                                                      </td><td> TRUE                                                                                                                                                                                                                                                                                                                     </td><td>2.769831                                                                                                                                                                                                                                                                                                                  </td><td>FALSE                                                                                                                                                                                                                                                                                                                     </td><td>FALSE                                                                                                                                                                                                                                                                                                                     </td><td>   NA                                                                                                                                                                                                                                                                                                                     </td><td>chr6:118691931-118692202                                                                                                                                                                                                                                                                                                  </td><td>0.04771                                                                                                                                                                                                                                                                                                                   </td><td>PLN                                                                                                                                                                                                                                                                                                                       </td><td>denovo_GATA|-4.17|+|7.34|3.17,Gata1|-6.9|+|6.95|0.05,GATA3|-4.95|+|7.47|2.52,Gata4|-6.9|+|7.37|0.46,Nkx3.1|6.89|+|0.26|7.16                                                                                                                                                                                               </td><td>GATA_known10|0|-11.96609305747|5|+|13.01120027362|1.04510721614999,GATA_known2|0|-8.50859420363701|7|+|11.344615433153|2.836021229516,HDAC2_disc1|0|-11.966117938848|3|+|12.652879633224|0.686761694376003                                                                                                                </td><td>NA                                                                                                                                                                                                                                                                                                                        </td><td>NA                                                                                                                                                                                                                                                                                                                        </td></tr>\n",
       "\t<tr><td>rs10468904                                                                                                                                                                                                                                                                                                                </td><td>18:30009759                                                                                                                                                                                                                                                                                                               </td><td>18:30003322                                                                                                                                                                                                                                                                                                               </td><td> TRUE                                                                                                                                                                                                                                                                                                                     </td><td>FALSE                                                                                                                                                                                                                                                                                                                     </td><td>TRUE                                                                                                                                                                                                                                                                                                                      </td><td>FALSE                                                                                                                                                                                                                                                                                                                     </td><td>2.764565                                                                                                                                                                                                                                                                                                                  </td><td>FALSE                                                                                                                                                                                                                                                                                                                     </td><td>FALSE                                                                                                                                                                                                                                                                                                                     </td><td>   NA                                                                                                                                                                                                                                                                                                                     </td><td>chr18:30009435-30010178                                                                                                                                                                                                                                                                                                   </td><td>0.15900                                                                                                                                                                                                                                                                                                                   </td><td>GAREM                                                                                                                                                                                                                                                                                                                     </td><td>Eomes|-4.77|+|6.97|2.2                                                                                                                                                                                                                                                                                                    </td><td>BDP1_disc3|0|-1.66805164541401|9|-|12.882401642737|11.214349997323,Eomes|0|-3.49790259760799|8|-|12.47250139422|8.97459879661201,STAT_known13|0|0.833302125799996|1|+|9.07674454296001|9.91004666876,TBX5_1|0|-11.966181074176|6|-|14.662252988576|2.69607191439999,TBX5_3|0|-11.966152175748|5|-|18.633478|6.667325824252</td><td>NA                                                                                                                                                                                                                                                                                                                        </td><td>NA                                                                                                                                                                                                                                                                                                                        </td></tr>\n",
       "\t<tr><td>rs10789208                                                                                                                                                                                                                                                                                                                </td><td>1:67006399                                                                                                                                                                                                                                                                                                                </td><td>1:66991346                                                                                                                                                                                                                                                                                                                </td><td> TRUE                                                                                                                                                                                                                                                                                                                     </td><td>FALSE                                                                                                                                                                                                                                                                                                                     </td><td>TRUE                                                                                                                                                                                                                                                                                                                      </td><td>FALSE                                                                                                                                                                                                                                                                                                                     </td><td>2.764565                                                                                                                                                                                                                                                                                                                  </td><td> TRUE                                                                                                                                                                                                                                                                                                                     </td><td>FALSE                                                                                                                                                                                                                                                                                                                     </td><td>   NA                                                                                                                                                                                                                                                                                                                     </td><td>chr1:67006399-67006625                                                                                                                                                                                                                                                                                                    </td><td>0.23060                                                                                                                                                                                                                                                                                                                   </td><td>SGIP1                                                                                                                                                                                                                                                                                                                     </td><td>NA                                                                                                                                                                                                                                                                                                                        </td><td>Mef2_known4|0|0.736502058709988|16|-|11.25182226482|11.98832432353,TCF12_disc2|0|9.994442342547|6|-|2.077346094733|12.07178843728                                                                                                                                                                                         </td><td>NA                                                                                                                                                                                                                                                                                                                        </td><td>NA                                                                                                                                                                                                                                                                                                                        </td></tr>\n",
       "</tbody>\n",
       "</table>\n"
      ],
      "text/latex": [
       "\\begin{tabular}{r|llllllllllllllllll}\n",
       " rsID & LD & indexSNP & H3K27AC\\_CM & ATAC\\_CM & Fetal\\_heart\\_DHS & Lead & score & GTEX & tested & ASE & peak & snp\\_maf & HGNC\\_nearest\\_gene\\_snpsnap\\_protein\\_coding & Motif\\_anno & motif & cardips\\_qtl.x & cardips\\_qtl.y\\\\\n",
       "\\hline\n",
       "\t rs10071514                                                                                                                                                                                                                                                                                                                                                                                                                                             & 5:172669771                                                                                                                                                                                                                                                                                                                                                                                                                                            & 5:172664163                                                                                                                                                                                                                                                                                                                                                                                                                                            &  TRUE                                                                                                                                                                                                                                                                                                                                                                                                                                                  &  TRUE                                                                                                                                                                                                                                                                                                                                                                                                                                                  & TRUE                                                                                                                                                                                                                                                                                                                                                                                                                                                   & FALSE                                                                                                                                                                                                                                                                                                                                                                                                                                                  & 2.769831                                                                                                                                                                                                                                                                                                                                                                                                                                               & FALSE                                                                                                                                                                                                                                                                                                                                                                                                                                                  &  TRUE                                                                                                                                                                                                                                                                                                                                                                                                                                                  & FALSE                                                                                                                                                                                                                                                                                                                                                                                                                                                  & chr5:172669552-172669870                                                                                                                                                                                                                                                                                                                                                                                                                               & 0.27240                                                                                                                                                                                                                                                                                                                                                                                                                                                & NKX2-5                                                                                                                                                                                                                                                                                                                                                                                                                                                 & NA                                                                                                                                                                                                                                                                                                                                                                                                                                                     & BDP1\\_disc1\\textbar{}0\\textbar{}11.901995770206\\textbar{}17\\textbar{}+\\textbar{}-7.57794758847598\\textbar{}4.32404818173001,CTCF\\_disc9\\textbar{}0\\textbar{}10.597784643402\\textbar{}9\\textbar{}-\\textbar{}2.176135808834\\textbar{}12.773920452236                                                                                                                                                                                       & NA                                                                                                                                                                                                                                                                                                                                                                                                                                                     & ENSG00000164463.8\\textbar{}CREBRF\\textbar{}0.0205766\\textbar{}-0.141092                                                                                                                                                                                                                                                                                                                                                                            \\\\\n",
       "\t rs1017154                                                                                                                                                                                                                                                                                                                  & 2:36683708                                                                                                                                                                                                                                                                                                                 & 2:36673774                                                                                                                                                                                                                                                                                                                 & FALSE                                                                                                                                                                                                                                                                                                                      &  TRUE                                                                                                                                                                                                                                                                                                                      & TRUE                                                                                                                                                                                                                                                                                                                       & FALSE                                                                                                                                                                                                                                                                                                                      & 2.719790                                                                                                                                                                                                                                                                                                                   & FALSE                                                                                                                                                                                                                                                                                                                      &  TRUE                                                                                                                                                                                                                                                                                                                      & FALSE                                                                                                                                                                                                                                                                                                                      & chr2:36683673-36683976                                                                                                                                                                                                                                                                                                     & 0.40060                                                                                                                                                                                                                                                                                                                    & CRIM1                                                                                                                                                                                                                                                                                                                      & Nkx3.1\\textbar{}-0.93\\textbar{}-\\textbar{}5.65\\textbar{}4.71                                                                                                                                                                                                                                                           & .                                                                                                                                                                                                                                                                                                                          & NA                                                                                                                                                                                                                                                                                                                         & NA                                                                                                                                                                                                                                                                                                                        \\\\\n",
       "\t rs10415219                                                                                                                                                                                                                                                                                                                                                                                                                                                                                                                                                                       & 19:39150235                                                                                                                                                                                                                                                                                                                                                                                                                                                                                                                                                                      & 19:39188112                                                                                                                                                                                                                                                                                                                                                                                                                                                                                                                                                                      &  TRUE                                                                                                                                                                                                                                                                                                                                                                                                                                                                                                                                                                            &  TRUE                                                                                                                                                                                                                                                                                                                                                                                                                                                                                                                                                                            & TRUE                                                                                                                                                                                                                                                                                                                                                                                                                                                                                                                                                                             & FALSE                                                                                                                                                                                                                                                                                                                                                                                                                                                                                                                                                                            & 2.769831                                                                                                                                                                                                                                                                                                                                                                                                                                                                                                                                                                         &  TRUE                                                                                                                                                                                                                                                                                                                                                                                                                                                                                                                                                                            &  TRUE                                                                                                                                                                                                                                                                                                                                                                                                                                                                                                                                                                            & FALSE                                                                                                                                                                                                                                                                                                                                                                                                                                                                                                                                                                            & chr19:39150010-39150487                                                                                                                                                                                                                                                                                                                                                                                                                                                                                                                                                          & 0.43240                                                                                                                                                                                                                                                                                                                                                                                                                                                                                                                                                                          & ACTN4                                                                                                                                                                                                                                                                                                                                                                                                                                                                                                                                                                            & NA                                                                                                                                                                                                                                                                                                                                                                                                                                                                                                                                                                               & AP-4\\_3\\textbar{}0\\textbar{}11.74385262887\\textbar{}8\\textbar{}+\\textbar{}-0.00299284500900399\\textbar{}11.740859783861,Ascl2\\textbar{}0\\textbar{}7.42136191997201\\textbar{}7\\textbar{}-\\textbar{}6.989439322644\\textbar{}14.410801242616,E2A\\_3\\textbar{}0\\textbar{}11.966221515249\\textbar{}8\\textbar{}-\\textbar{}0.697550714024999\\textbar{}12.663772229274,LBP-1\\_2\\textbar{}0\\textbar{}11.6443350135\\textbar{}1\\textbar{}-\\textbar{}0.5528079865\\textbar{}12.197143                                                                              & NA                                                                                                                                                                                                                                                                                                                                                                                                                                                                                                                                                                               & ENSG00000178982.5\\textbar{}EIF3K\\textbar{}0.0183874\\textbar{}-0.118611,ENSG00000179134.10\\textbar{}SAMD4B\\textbar{}0.0371158\\textbar{}-0.126983                                                                                                                                                                                                                                                                                                                                                                                                                           \\\\\n",
       "\t rs10457327                                                                                                                                                                                                                                                                                                                                                                                                                                                                                                           & 6:118692152                                                                                                                                                                                                                                                                                                                                                                                                                                                                                                          & 6:118692152                                                                                                                                                                                                                                                                                                                                                                                                                                                                                                          &  TRUE                                                                                                                                                                                                                                                                                                                                                                                                                                                                                                                &  TRUE                                                                                                                                                                                                                                                                                                                                                                                                                                                                                                                & TRUE                                                                                                                                                                                                                                                                                                                                                                                                                                                                                                                 &  TRUE                                                                                                                                                                                                                                                                                                                                                                                                                                                                                                                & 2.769831                                                                                                                                                                                                                                                                                                                                                                                                                                                                                                             & FALSE                                                                                                                                                                                                                                                                                                                                                                                                                                                                                                                & FALSE                                                                                                                                                                                                                                                                                                                                                                                                                                                                                                                &    NA                                                                                                                                                                                                                                                                                                                                                                                                                                                                                                                & chr6:118691931-118692202                                                                                                                                                                                                                                                                                                                                                                                                                                                                                             & 0.04771                                                                                                                                                                                                                                                                                                                                                                                                                                                                                                              & PLN                                                                                                                                                                                                                                                                                                                                                                                                                                                                                                                  & denovo\\_GATA\\textbar{}-4.17\\textbar{}+\\textbar{}7.34\\textbar{}3.17,Gata1\\textbar{}-6.9\\textbar{}+\\textbar{}6.95\\textbar{}0.05,GATA3\\textbar{}-4.95\\textbar{}+\\textbar{}7.47\\textbar{}2.52,Gata4\\textbar{}-6.9\\textbar{}+\\textbar{}7.37\\textbar{}0.46,Nkx3.1\\textbar{}6.89\\textbar{}+\\textbar{}0.26\\textbar{}7.16                                                                                                                                                                                & GATA\\_known10\\textbar{}0\\textbar{}-11.96609305747\\textbar{}5\\textbar{}+\\textbar{}13.01120027362\\textbar{}1.04510721614999,GATA\\_known2\\textbar{}0\\textbar{}-8.50859420363701\\textbar{}7\\textbar{}+\\textbar{}11.344615433153\\textbar{}2.836021229516,HDAC2\\_disc1\\textbar{}0\\textbar{}-11.966117938848\\textbar{}3\\textbar{}+\\textbar{}12.652879633224\\textbar{}0.686761694376003                                                                                                                 & NA                                                                                                                                                                                                                                                                                                                                                                                                                                                                                                                   & NA                                                                                                                                                                                                                                                                                                                                                                                                                                                                                                                  \\\\\n",
       "\t rs10468904                                                                                                                                                                                                                                                                                                                                                                                                                                                                                                                                                                                                                                     & 18:30009759                                                                                                                                                                                                                                                                                                                                                                                                                                                                                                                                                                                                                                    & 18:30003322                                                                                                                                                                                                                                                                                                                                                                                                                                                                                                                                                                                                                                    &  TRUE                                                                                                                                                                                                                                                                                                                                                                                                                                                                                                                                                                                                                                          & FALSE                                                                                                                                                                                                                                                                                                                                                                                                                                                                                                                                                                                                                                          & TRUE                                                                                                                                                                                                                                                                                                                                                                                                                                                                                                                                                                                                                                           & FALSE                                                                                                                                                                                                                                                                                                                                                                                                                                                                                                                                                                                                                                          & 2.764565                                                                                                                                                                                                                                                                                                                                                                                                                                                                                                                                                                                                                                       & FALSE                                                                                                                                                                                                                                                                                                                                                                                                                                                                                                                                                                                                                                          & FALSE                                                                                                                                                                                                                                                                                                                                                                                                                                                                                                                                                                                                                                          &    NA                                                                                                                                                                                                                                                                                                                                                                                                                                                                                                                                                                                                                                          & chr18:30009435-30010178                                                                                                                                                                                                                                                                                                                                                                                                                                                                                                                                                                                                                        & 0.15900                                                                                                                                                                                                                                                                                                                                                                                                                                                                                                                                                                                                                                        & GAREM                                                                                                                                                                                                                                                                                                                                                                                                                                                                                                                                                                                                                                          & Eomes\\textbar{}-4.77\\textbar{}+\\textbar{}6.97\\textbar{}2.2                                                                                                                                                                                                                                                                                                                                                                                                                                                                                                                                                                                 & BDP1\\_disc3\\textbar{}0\\textbar{}-1.66805164541401\\textbar{}9\\textbar{}-\\textbar{}12.882401642737\\textbar{}11.214349997323,Eomes\\textbar{}0\\textbar{}-3.49790259760799\\textbar{}8\\textbar{}-\\textbar{}12.47250139422\\textbar{}8.97459879661201,STAT\\_known13\\textbar{}0\\textbar{}0.833302125799996\\textbar{}1\\textbar{}+\\textbar{}9.07674454296001\\textbar{}9.91004666876,TBX5\\_1\\textbar{}0\\textbar{}-11.966181074176\\textbar{}6\\textbar{}-\\textbar{}14.662252988576\\textbar{}2.69607191439999,TBX5\\_3\\textbar{}0\\textbar{}-11.966152175748\\textbar{}5\\textbar{}-\\textbar{}18.633478\\textbar{}6.667325824252 & NA                                                                                                                                                                                                                                                                                                                                                                                                                                                                                                                                                                                                                                             & NA                                                                                                                                                                                                                                                                                                                                                                                                                                                                                                                                                                                                                                            \\\\\n",
       "\t rs10789208                                                                                                                                                                                                                                                                                                                                                                                                                                             & 1:67006399                                                                                                                                                                                                                                                                                                                                                                                                                                             & 1:66991346                                                                                                                                                                                                                                                                                                                                                                                                                                             &  TRUE                                                                                                                                                                                                                                                                                                                                                                                                                                                  & FALSE                                                                                                                                                                                                                                                                                                                                                                                                                                                  & TRUE                                                                                                                                                                                                                                                                                                                                                                                                                                                   & FALSE                                                                                                                                                                                                                                                                                                                                                                                                                                                  & 2.764565                                                                                                                                                                                                                                                                                                                                                                                                                                               &  TRUE                                                                                                                                                                                                                                                                                                                                                                                                                                                  & FALSE                                                                                                                                                                                                                                                                                                                                                                                                                                                  &    NA                                                                                                                                                                                                                                                                                                                                                                                                                                                  & chr1:67006399-67006625                                                                                                                                                                                                                                                                                                                                                                                                                                 & 0.23060                                                                                                                                                                                                                                                                                                                                                                                                                                                & SGIP1                                                                                                                                                                                                                                                                                                                                                                                                                                                  & NA                                                                                                                                                                                                                                                                                                                                                                                                                                                     & Mef2\\_known4\\textbar{}0\\textbar{}0.736502058709988\\textbar{}16\\textbar{}-\\textbar{}11.25182226482\\textbar{}11.98832432353,TCF12\\_disc2\\textbar{}0\\textbar{}9.994442342547\\textbar{}6\\textbar{}-\\textbar{}2.077346094733\\textbar{}12.07178843728                                                                                                                                                                                          & NA                                                                                                                                                                                                                                                                                                                                                                                                                                                     & NA                                                                                                                                                                                                                                                                                                                                                                                                                                                    \\\\\n",
       "\\end{tabular}\n"
      ],
      "text/plain": [
       "  rsID       LD          indexSNP    H3K27AC_CM ATAC_CM Fetal_heart_DHS Lead \n",
       "1 rs10071514 5:172669771 5:172664163  TRUE       TRUE   TRUE            FALSE\n",
       "2 rs1017154  2:36683708  2:36673774  FALSE       TRUE   TRUE            FALSE\n",
       "3 rs10415219 19:39150235 19:39188112  TRUE       TRUE   TRUE            FALSE\n",
       "4 rs10457327 6:118692152 6:118692152  TRUE       TRUE   TRUE             TRUE\n",
       "5 rs10468904 18:30009759 18:30003322  TRUE      FALSE   TRUE            FALSE\n",
       "6 rs10789208 1:67006399  1:66991346   TRUE      FALSE   TRUE            FALSE\n",
       "  score    GTEX  tested ASE   peak                     snp_maf\n",
       "1 2.769831 FALSE  TRUE  FALSE chr5:172669552-172669870 0.27240\n",
       "2 2.719790 FALSE  TRUE  FALSE chr2:36683673-36683976   0.40060\n",
       "3 2.769831  TRUE  TRUE  FALSE chr19:39150010-39150487  0.43240\n",
       "4 2.769831 FALSE FALSE     NA chr6:118691931-118692202 0.04771\n",
       "5 2.764565 FALSE FALSE     NA chr18:30009435-30010178  0.15900\n",
       "6 2.764565  TRUE FALSE     NA chr1:67006399-67006625   0.23060\n",
       "  HGNC_nearest_gene_snpsnap_protein_coding\n",
       "1 NKX2-5                                  \n",
       "2 CRIM1                                   \n",
       "3 ACTN4                                   \n",
       "4 PLN                                     \n",
       "5 GAREM                                   \n",
       "6 SGIP1                                   \n",
       "  Motif_anno                                                                                                                 \n",
       "1 NA                                                                                                                         \n",
       "2 Nkx3.1|-0.93|-|5.65|4.71                                                                                                   \n",
       "3 NA                                                                                                                         \n",
       "4 denovo_GATA|-4.17|+|7.34|3.17,Gata1|-6.9|+|6.95|0.05,GATA3|-4.95|+|7.47|2.52,Gata4|-6.9|+|7.37|0.46,Nkx3.1|6.89|+|0.26|7.16\n",
       "5 Eomes|-4.77|+|6.97|2.2                                                                                                     \n",
       "6 NA                                                                                                                         \n",
       "  motif                                                                                                                                                                                                                                                                                                                     \n",
       "1 BDP1_disc1|0|11.901995770206|17|+|-7.57794758847598|4.32404818173001,CTCF_disc9|0|10.597784643402|9|-|2.176135808834|12.773920452236                                                                                                                                                                                      \n",
       "2 .                                                                                                                                                                                                                                                                                                                         \n",
       "3 AP-4_3|0|11.74385262887|8|+|-0.00299284500900399|11.740859783861,Ascl2|0|7.42136191997201|7|-|6.989439322644|14.410801242616,E2A_3|0|11.966221515249|8|-|0.697550714024999|12.663772229274,LBP-1_2|0|11.6443350135|1|-|0.5528079865|12.197143                                                                             \n",
       "4 GATA_known10|0|-11.96609305747|5|+|13.01120027362|1.04510721614999,GATA_known2|0|-8.50859420363701|7|+|11.344615433153|2.836021229516,HDAC2_disc1|0|-11.966117938848|3|+|12.652879633224|0.686761694376003                                                                                                                \n",
       "5 BDP1_disc3|0|-1.66805164541401|9|-|12.882401642737|11.214349997323,Eomes|0|-3.49790259760799|8|-|12.47250139422|8.97459879661201,STAT_known13|0|0.833302125799996|1|+|9.07674454296001|9.91004666876,TBX5_1|0|-11.966181074176|6|-|14.662252988576|2.69607191439999,TBX5_3|0|-11.966152175748|5|-|18.633478|6.667325824252\n",
       "6 Mef2_known4|0|0.736502058709988|16|-|11.25182226482|11.98832432353,TCF12_disc2|0|9.994442342547|6|-|2.077346094733|12.07178843728                                                                                                                                                                                         \n",
       "  cardips_qtl.x\n",
       "1 NA           \n",
       "2 NA           \n",
       "3 NA           \n",
       "4 NA           \n",
       "5 NA           \n",
       "6 NA           \n",
       "  cardips_qtl.y                                                                            \n",
       "1 ENSG00000164463.8|CREBRF|0.0205766|-0.141092                                             \n",
       "2 NA                                                                                       \n",
       "3 ENSG00000178982.5|EIF3K|0.0183874|-0.118611,ENSG00000179134.10|SAMD4B|0.0371158|-0.126983\n",
       "4 NA                                                                                       \n",
       "5 NA                                                                                       \n",
       "6 NA                                                                                       "
      ]
     },
     "metadata": {},
     "output_type": "display_data"
    }
   ],
   "source": [
    "head(fintab)"
   ]
  },
  {
   "cell_type": "code",
   "execution_count": 421,
   "metadata": {
    "collapsed": false
   },
   "outputs": [],
   "source": [
    "other_anno = aggregate(fintab[,c('GTEX','tested','ASE')] , by=  list(fintab$score), sum, na.rm=T)"
   ]
  },
  {
   "cell_type": "code",
   "execution_count": 427,
   "metadata": {
    "collapsed": false
   },
   "outputs": [
    {
     "data": {
      "text/html": [
       "<table>\n",
       "<thead><tr><th scope=col>Group.1</th><th scope=col>GTEX</th><th scope=col>tested</th><th scope=col>ASE</th></tr></thead>\n",
       "<tbody>\n",
       "\t<tr><td>2.178189</td><td> 1      </td><td>10      </td><td>5       </td></tr>\n",
       "\t<tr><td>2.424394</td><td> 1      </td><td> 1      </td><td>1       </td></tr>\n",
       "\t<tr><td>2.470835</td><td> 1      </td><td> 4      </td><td>0       </td></tr>\n",
       "\t<tr><td>2.589408</td><td> 0      </td><td> 2      </td><td>0       </td></tr>\n",
       "\t<tr><td>2.607691</td><td> 0      </td><td> 4      </td><td>1       </td></tr>\n",
       "\t<tr><td>2.719790</td><td> 2      </td><td> 4      </td><td>1       </td></tr>\n",
       "\t<tr><td>2.764565</td><td>11      </td><td>20      </td><td>0       </td></tr>\n",
       "\t<tr><td>2.769831</td><td>14      </td><td>36      </td><td>6       </td></tr>\n",
       "</tbody>\n",
       "</table>\n"
      ],
      "text/latex": [
       "\\begin{tabular}{r|llll}\n",
       " Group.1 & GTEX & tested & ASE\\\\\n",
       "\\hline\n",
       "\t 2.178189 &  1       & 10       & 5       \\\\\n",
       "\t 2.424394 &  1       &  1       & 1       \\\\\n",
       "\t 2.470835 &  1       &  4       & 0       \\\\\n",
       "\t 2.589408 &  0       &  2       & 0       \\\\\n",
       "\t 2.607691 &  0       &  4       & 1       \\\\\n",
       "\t 2.719790 &  2       &  4       & 1       \\\\\n",
       "\t 2.764565 & 11       & 20       & 0       \\\\\n",
       "\t 2.769831 & 14       & 36       & 6       \\\\\n",
       "\\end{tabular}\n"
      ],
      "text/plain": [
       "  Group.1  GTEX tested ASE\n",
       "1 2.178189  1   10     5  \n",
       "2 2.424394  1    1     1  \n",
       "3 2.470835  1    4     0  \n",
       "4 2.589408  0    2     0  \n",
       "5 2.607691  0    4     1  \n",
       "6 2.719790  2    4     1  \n",
       "7 2.764565 11   20     0  \n",
       "8 2.769831 14   36     6  "
      ]
     },
     "metadata": {},
     "output_type": "display_data"
    }
   ],
   "source": [
    "(other_anno)"
   ]
  },
  {
   "cell_type": "code",
   "execution_count": 459,
   "metadata": {
    "collapsed": false
   },
   "outputs": [
    {
     "data": {
      "text/html": [
       "<dl class=dl-horizontal>\n",
       "\t<dt>GTEX</dt>\n",
       "\t\t<dd>29</dd>\n",
       "\t<dt>tested</dt>\n",
       "\t\t<dd>71</dd>\n",
       "\t<dt>ASE</dt>\n",
       "\t\t<dd>9</dd>\n",
       "</dl>\n"
      ],
      "text/latex": [
       "\\begin{description*}\n",
       "\\item[GTEX] 29\n",
       "\\item[tested] 71\n",
       "\\item[ASE] 9\n",
       "\\end{description*}\n"
      ],
      "text/markdown": [
       "GTEX\n",
       ":   29tested\n",
       ":   71ASE\n",
       ":   9\n",
       "\n"
      ],
      "text/plain": [
       "  GTEX tested    ASE \n",
       "    29     71      9 "
      ]
     },
     "metadata": {},
     "output_type": "display_data"
    }
   ],
   "source": []
  },
  {
   "cell_type": "code",
   "execution_count": 458,
   "metadata": {
    "collapsed": false
   },
   "outputs": [
    {
     "data": {
      "text/html": [
       "'numeric'"
      ],
      "text/latex": [
       "'numeric'"
      ],
      "text/markdown": [
       "'numeric'"
      ],
      "text/plain": [
       "[1] \"numeric\""
      ]
     },
     "metadata": {},
     "output_type": "display_data"
    }
   ],
   "source": [
    "mode(other_anno$Group.1[1])"
   ]
  },
  {
   "cell_type": "code",
   "execution_count": 465,
   "metadata": {
    "collapsed": false
   },
   "outputs": [],
   "source": [
    "SUM=data.frame()\n",
    "for (g in other_anno$Group.1){\n",
    "  sums=  colSums(fintab[fintab$score>=g,c('GTEX','tested','ASE')] , na.rm=T)\n",
    "    SUM = rbind(SUM, sums)    \n",
    "}\n",
    "\n",
    "colnames(SUM)=c('GTEX','tested','ASE')"
   ]
  },
  {
   "cell_type": "code",
   "execution_count": 466,
   "metadata": {
    "collapsed": false
   },
   "outputs": [
    {
     "data": {
      "text/html": [
       "<table>\n",
       "<thead><tr><th scope=col>GTEX</th><th scope=col>tested</th><th scope=col>ASE</th></tr></thead>\n",
       "<tbody>\n",
       "\t<tr><td>30</td><td>81</td><td>14</td></tr>\n",
       "\t<tr><td>29</td><td>71</td><td> 9</td></tr>\n",
       "\t<tr><td>28</td><td>70</td><td> 8</td></tr>\n",
       "\t<tr><td>27</td><td>66</td><td> 8</td></tr>\n",
       "\t<tr><td>27</td><td>64</td><td> 8</td></tr>\n",
       "\t<tr><td>27</td><td>60</td><td> 7</td></tr>\n",
       "\t<tr><td>25</td><td>56</td><td> 6</td></tr>\n",
       "\t<tr><td>14</td><td>36</td><td> 6</td></tr>\n",
       "</tbody>\n",
       "</table>\n"
      ],
      "text/latex": [
       "\\begin{tabular}{r|lll}\n",
       " GTEX & tested & ASE\\\\\n",
       "\\hline\n",
       "\t 30 & 81 & 14\\\\\n",
       "\t 29 & 71 &  9\\\\\n",
       "\t 28 & 70 &  8\\\\\n",
       "\t 27 & 66 &  8\\\\\n",
       "\t 27 & 64 &  8\\\\\n",
       "\t 27 & 60 &  7\\\\\n",
       "\t 25 & 56 &  6\\\\\n",
       "\t 14 & 36 &  6\\\\\n",
       "\\end{tabular}\n"
      ],
      "text/plain": [
       "  GTEX tested ASE\n",
       "1 30   81     14 \n",
       "2 29   71      9 \n",
       "3 28   70      8 \n",
       "4 27   66      8 \n",
       "5 27   64      8 \n",
       "6 27   60      7 \n",
       "7 25   56      6 \n",
       "8 14   36      6 "
      ]
     },
     "metadata": {},
     "output_type": "display_data"
    }
   ],
   "source": [
    "SUM"
   ]
  },
  {
   "cell_type": "code",
   "execution_count": 519,
   "metadata": {
    "collapsed": false
   },
   "outputs": [
    {
     "data": {
      "image/png": "[encoded data removed]",
      "text/plain": [
       "plot without title"
      ]
     },
     "metadata": {},
     "output_type": "display_data"
    },
    {
     "data": {
      "image/png": "[encoded data removed]",
      "text/plain": [
       "plot without title"
      ]
     },
     "metadata": {},
     "output_type": "display_data"
    }
   ],
   "source": [
    "#pdf('/frazer01/home/paola/Family1070/private_output/Figures/Fold_enrighments_fig.pdf')\n",
    "par( mfrow=c(2,3),mar=c(2,10,2,10), pin=c(0.5,1.5))\n",
    "barplot(t(tab_rect[11:1,]), col= rainbow(11), horiz=T, las=2, xlim=c(5,1))\n",
    "par(  pin=c(0.8,1.5))\n",
    "barplot(rev(tab$Foldchange-1), horiz=T, las=2, xlab=\"Fold Enrichment(+1)\", xlim=c(0,2), names.arg =rev(tab$InBed_Index_SNP) )\n",
    "barplot(rev(tab$InBed_Index_SNP), horiz=T, las=2, xlab=\"No. GWAS\")\n",
    "\n",
    "\n",
    "\n",
    "barplot(t(other_anno[,c(2,4,3)]), col= cm.colors(3), horiz=T, las=2, beside=T, legend = colnames(other_anno[,c(2,4,3)]) )\n",
    "\n",
    "barplot(t(SUM[,c(1,3,2)]), col= cm.colors(3), horiz=T, las=2, beside=T, legend = colnames(SUM[,c(1,3,2)]) )\n",
    "\n",
    "\n",
    "par(pin=c(1,1))\n",
    "barplot(pt*100, las=1, ylim=c(0, 0.8), ylab = \"EKG-SNVs (% tested)\" )\n",
    "barplot(pt2*100, las=1, ylim=c(0, 20), ylab = \"ASE-SNVs (% tested)\")\n",
    "\n",
    "\n",
    "#dev.off()"
   ]
  },
  {
   "cell_type": "code",
   "execution_count": 605,
   "metadata": {
    "collapsed": false
   },
   "outputs": [
    {
     "data": {
      "text/html": [
       "<strong>png:</strong> 2"
      ],
      "text/latex": [
       "\\textbf{png:} 2"
      ],
      "text/markdown": [
       "**png:** 2"
      ],
      "text/plain": [
       "png \n",
       "  2 "
      ]
     },
     "metadata": {},
     "output_type": "display_data"
    }
   ],
   "source": [
    "pdf('/frazer01/home/paola/Family1070/private_output/Figures/Fold_enrighments_fig_v2.pdf')\n",
    "\n",
    "par( mfrow=c(2,3),mar=c(2,10,2,10), pin=c(0.7,1.2))\n",
    "tab_rect2 = tab_rect[-c(1,2,3,4,10),]\n",
    "barplot(t(tab_rect2[6:1,]), col= heat.colors(3)[c(3,1,2)], horiz=T, las=2, xlim=c(5,1))\n",
    "\n",
    "\n",
    "par( pin=c(1,1.2))\n",
    "tab2 = tab[-c(1,2,3,4,10),]\n",
    "barplot(rev(tab2$Foldchange-1), horiz=T, las=2, xlab=\"Fold Enrichment(+1)\", xlim=c(0,1.75), names.arg =rev(tab2$InBed_Index_SNP), axes=F )\n",
    "axis(side = 1, at=c(0, 0.25, 0.5,0.75, 1,1.25, 1.5, 1.75), las=2)\n",
    "\n",
    "\n",
    "sum2 = SUM[1:4,]\n",
    "barplot(t(sum2[,c(1,3,2)]), col=cm.colors(3), horiz=T, las=2, beside=T, legend = colnames(sum2[,c(1,3,2)]) )\n",
    "\n",
    "dev.off()\n"
   ]
  },
  {
   "cell_type": "code",
   "execution_count": 561,
   "metadata": {
    "collapsed": false
   },
   "outputs": [
    {
     "data": {
      "text/html": [
       "<table>\n",
       "<thead><tr><th></th><th scope=col>GTEX</th><th scope=col>tested</th><th scope=col>ASE</th></tr></thead>\n",
       "<tbody>\n",
       "\t<tr><th scope=row>5</th><td>27</td><td>64</td><td>8 </td></tr>\n",
       "\t<tr><th scope=row>6</th><td>27</td><td>60</td><td>7 </td></tr>\n",
       "\t<tr><th scope=row>7</th><td>25</td><td>56</td><td>6 </td></tr>\n",
       "\t<tr><th scope=row>8</th><td>14</td><td>36</td><td>6 </td></tr>\n",
       "</tbody>\n",
       "</table>\n"
      ],
      "text/latex": [
       "\\begin{tabular}{r|lll}\n",
       "  & GTEX & tested & ASE\\\\\n",
       "\\hline\n",
       "\t5 & 27 & 64 & 8 \\\\\n",
       "\t6 & 27 & 60 & 7 \\\\\n",
       "\t7 & 25 & 56 & 6 \\\\\n",
       "\t8 & 14 & 36 & 6 \\\\\n",
       "\\end{tabular}\n"
      ],
      "text/plain": [
       "  GTEX tested ASE\n",
       "5 27   64     8  \n",
       "6 27   60     7  \n",
       "7 25   56     6  \n",
       "8 14   36     6  "
      ]
     },
     "metadata": {},
     "output_type": "display_data"
    }
   ],
   "source": [
    "sum2"
   ]
  },
  {
   "cell_type": "code",
   "execution_count": 562,
   "metadata": {
    "collapsed": false
   },
   "outputs": [
    {
     "data": {
      "text/html": [
       "<table>\n",
       "<thead><tr><th scope=col>GTEX</th><th scope=col>tested</th><th scope=col>ASE</th></tr></thead>\n",
       "<tbody>\n",
       "\t<tr><td>30</td><td>81</td><td>14</td></tr>\n",
       "\t<tr><td>29</td><td>71</td><td> 9</td></tr>\n",
       "\t<tr><td>28</td><td>70</td><td> 8</td></tr>\n",
       "\t<tr><td>27</td><td>66</td><td> 8</td></tr>\n",
       "\t<tr><td>27</td><td>64</td><td> 8</td></tr>\n",
       "\t<tr><td>27</td><td>60</td><td> 7</td></tr>\n",
       "\t<tr><td>25</td><td>56</td><td> 6</td></tr>\n",
       "\t<tr><td>14</td><td>36</td><td> 6</td></tr>\n",
       "</tbody>\n",
       "</table>\n"
      ],
      "text/latex": [
       "\\begin{tabular}{r|lll}\n",
       " GTEX & tested & ASE\\\\\n",
       "\\hline\n",
       "\t 30 & 81 & 14\\\\\n",
       "\t 29 & 71 &  9\\\\\n",
       "\t 28 & 70 &  8\\\\\n",
       "\t 27 & 66 &  8\\\\\n",
       "\t 27 & 64 &  8\\\\\n",
       "\t 27 & 60 &  7\\\\\n",
       "\t 25 & 56 &  6\\\\\n",
       "\t 14 & 36 &  6\\\\\n",
       "\\end{tabular}\n"
      ],
      "text/plain": [
       "  GTEX tested ASE\n",
       "1 30   81     14 \n",
       "2 29   71      9 \n",
       "3 28   70      8 \n",
       "4 27   66      8 \n",
       "5 27   64      8 \n",
       "6 27   60      7 \n",
       "7 25   56      6 \n",
       "8 14   36      6 "
      ]
     },
     "metadata": {},
     "output_type": "display_data"
    }
   ],
   "source": [
    "sum2 = sum3\n",
    "sum3$"
   ]
  },
  {
   "cell_type": "code",
   "execution_count": 563,
   "metadata": {
    "collapsed": false
   },
   "outputs": [
    {
     "data": {
      "text/html": [
       "<table>\n",
       "<thead><tr><th></th><th scope=col>Fetal_heart_DHS</th><th scope=col>NKX25</th><th scope=col>H3K27AC_CM</th><th scope=col>ATAC_CM</th></tr></thead>\n",
       "<tbody>\n",
       "\t<tr><th scope=row>NKX25_int_Fetal_heart_DHS_int_H3K27AC_CM_int_ATAC_CM</th><td>1</td><td>1</td><td>1</td><td>1</td></tr>\n",
       "\t<tr><th scope=row>NKX25_int_Fetal_heart_DHS_int_H3K27AC_CM</th><td>1</td><td>1</td><td>1</td><td>0</td></tr>\n",
       "\t<tr><th scope=row>NKX25_int_Fetal_heart_DHS_int_ATAC_CM</th><td>1</td><td>1</td><td>0</td><td>1</td></tr>\n",
       "\t<tr><th scope=row>NKX25_int_Fetal_heart_DHS</th><td>1</td><td>1</td><td>0</td><td>0</td></tr>\n",
       "\t<tr><th scope=row>NKX25_int_H3K27AC_CM_int_ATAC_CM</th><td>0</td><td>1</td><td>1</td><td>1</td></tr>\n",
       "\t<tr><th scope=row>NKX25_int_H3K27AC_CM</th><td>0</td><td>1</td><td>1</td><td>0</td></tr>\n",
       "\t<tr><th scope=row>NKX25_int_ATAC_CM</th><td>0</td><td>1</td><td>0</td><td>1</td></tr>\n",
       "\t<tr><th scope=row>NKX25</th><td>0</td><td>1</td><td>0</td><td>0</td></tr>\n",
       "\t<tr><th scope=row>ATAC_CM</th><td>0</td><td>0</td><td>0</td><td>1</td></tr>\n",
       "\t<tr><th scope=row>Fetal_heart_DHS</th><td>1</td><td>0</td><td>0</td><td>0</td></tr>\n",
       "\t<tr><th scope=row>H3K27AC_CM</th><td>0</td><td>0</td><td>1</td><td>0</td></tr>\n",
       "</tbody>\n",
       "</table>\n"
      ],
      "text/latex": [
       "\\begin{tabular}{r|llll}\n",
       "  & Fetal\\_heart\\_DHS & NKX25 & H3K27AC\\_CM & ATAC\\_CM\\\\\n",
       "\\hline\n",
       "\tNKX25\\_int\\_Fetal\\_heart\\_DHS\\_int\\_H3K27AC\\_CM\\_int\\_ATAC\\_CM & 1 & 1 & 1 & 1\\\\\n",
       "\tNKX25\\_int\\_Fetal\\_heart\\_DHS\\_int\\_H3K27AC\\_CM & 1 & 1 & 1 & 0\\\\\n",
       "\tNKX25\\_int\\_Fetal\\_heart\\_DHS\\_int\\_ATAC\\_CM & 1 & 1 & 0 & 1\\\\\n",
       "\tNKX25\\_int\\_Fetal\\_heart\\_DHS & 1 & 1 & 0 & 0\\\\\n",
       "\tNKX25\\_int\\_H3K27AC\\_CM\\_int\\_ATAC\\_CM & 0 & 1 & 1 & 1\\\\\n",
       "\tNKX25\\_int\\_H3K27AC\\_CM & 0 & 1 & 1 & 0\\\\\n",
       "\tNKX25\\_int\\_ATAC\\_CM & 0 & 1 & 0 & 1\\\\\n",
       "\tNKX25 & 0 & 1 & 0 & 0\\\\\n",
       "\tATAC\\_CM & 0 & 0 & 0 & 1\\\\\n",
       "\tFetal\\_heart\\_DHS & 1 & 0 & 0 & 0\\\\\n",
       "\tH3K27AC\\_CM & 0 & 0 & 1 & 0\\\\\n",
       "\\end{tabular}\n"
      ],
      "text/plain": [
       "                                                     Fetal_heart_DHS NKX25\n",
       "NKX25_int_Fetal_heart_DHS_int_H3K27AC_CM_int_ATAC_CM 1               1    \n",
       "NKX25_int_Fetal_heart_DHS_int_H3K27AC_CM             1               1    \n",
       "NKX25_int_Fetal_heart_DHS_int_ATAC_CM                1               1    \n",
       "NKX25_int_Fetal_heart_DHS                            1               1    \n",
       "NKX25_int_H3K27AC_CM_int_ATAC_CM                     0               1    \n",
       "NKX25_int_H3K27AC_CM                                 0               1    \n",
       "NKX25_int_ATAC_CM                                    0               1    \n",
       "NKX25                                                0               1    \n",
       "ATAC_CM                                              0               0    \n",
       "Fetal_heart_DHS                                      1               0    \n",
       "H3K27AC_CM                                           0               0    \n",
       "                                                     H3K27AC_CM ATAC_CM\n",
       "NKX25_int_Fetal_heart_DHS_int_H3K27AC_CM_int_ATAC_CM 1          1      \n",
       "NKX25_int_Fetal_heart_DHS_int_H3K27AC_CM             1          0      \n",
       "NKX25_int_Fetal_heart_DHS_int_ATAC_CM                0          1      \n",
       "NKX25_int_Fetal_heart_DHS                            0          0      \n",
       "NKX25_int_H3K27AC_CM_int_ATAC_CM                     1          1      \n",
       "NKX25_int_H3K27AC_CM                                 1          0      \n",
       "NKX25_int_ATAC_CM                                    0          1      \n",
       "NKX25                                                0          0      \n",
       "ATAC_CM                                              0          1      \n",
       "Fetal_heart_DHS                                      0          0      \n",
       "H3K27AC_CM                                           1          0      "
      ]
     },
     "metadata": {},
     "output_type": "display_data"
    }
   ],
   "source": [
    "tab_rect"
   ]
  },
  {
   "cell_type": "code",
   "execution_count": 608,
   "metadata": {
    "collapsed": false
   },
   "outputs": [
    {
     "data": {
      "text/html": [
       "<table>\n",
       "<thead><tr><th scope=col>variantID</th><th scope=col>combined_pv</th><th scope=col>combined_fdr</th><th scope=col>ref_freq</th><th scope=col>snpID</th><th scope=col>refAllele</th><th scope=col>altAllele</th><th scope=col>locus</th><th scope=col>mark</th><th scope=col>tissue</th><th scope=col>SNP</th><th scope=col>EKG</th></tr></thead>\n",
       "<tbody>\n",
       "\t<tr><td>chr10:100104314          </td><td>0.8899175                </td><td>0.9975985                </td><td>0.5174881                </td><td>rs7081279                </td><td>T                        </td><td>C                        </td><td>chr10:100104199-100104643</td><td>NKX25                    </td><td>iPSC-CM                  </td><td>10:100104314             </td><td>FALSE                    </td></tr>\n",
       "\t<tr><td>chr10:100220928          </td><td>0.4272945                </td><td>0.8244251                </td><td>0.4915662                </td><td>rs17457603               </td><td>A                        </td><td>T                        </td><td>chr10:100220679-100221191</td><td>NKX25                    </td><td>iPSC-CM                  </td><td>10:100220928             </td><td>FALSE                    </td></tr>\n",
       "\t<tr><td>chr10:100221081          </td><td>1.0000000                </td><td>1.0000000                </td><td>0.5220204                </td><td>rs7067691                </td><td>T                        </td><td>C                        </td><td>chr10:100220679-100221191</td><td>NKX25                    </td><td>iPSC-CM                  </td><td>10:100221081             </td><td>FALSE                    </td></tr>\n",
       "\t<tr><td>chr10:10034807           </td><td>0.7288560                </td><td>0.9635344                </td><td>0.4623286                </td><td>rs6602387                </td><td>G                        </td><td>A                        </td><td>chr10:10034702-10034926  </td><td>NKX25                    </td><td>iPSC-CM                  </td><td>10:10034807              </td><td>FALSE                    </td></tr>\n",
       "\t<tr><td>chr10:100361679          </td><td>0.1133356                </td><td>0.4605427                </td><td>0.2781205                </td><td>rs12356555               </td><td>G                        </td><td>T                        </td><td>chr10:100361603-100361834</td><td>NKX25                    </td><td>iPSC-CM                  </td><td>10:100361679             </td><td>FALSE                    </td></tr>\n",
       "\t<tr><td>chr10:10043586           </td><td>0.4490147                </td><td>0.8423266                </td><td>0.5519033                </td><td>rs7917801                </td><td>A                        </td><td>T                        </td><td>chr10:10043308-10043619  </td><td>NKX25                    </td><td>iPSC-CM                  </td><td>10:10043586              </td><td>FALSE                    </td></tr>\n",
       "</tbody>\n",
       "</table>\n"
      ],
      "text/latex": [
       "\\begin{tabular}{r|llllllllllll}\n",
       " variantID & combined\\_pv & combined\\_fdr & ref\\_freq & snpID & refAllele & altAllele & locus & mark & tissue & SNP & EKG\\\\\n",
       "\\hline\n",
       "\t chr10:100104314           & 0.8899175                 & 0.9975985                 & 0.5174881                 & rs7081279                 & T                         & C                         & chr10:100104199-100104643 & NKX25                     & iPSC-CM                   & 10:100104314              & FALSE                    \\\\\n",
       "\t chr10:100220928           & 0.4272945                 & 0.8244251                 & 0.4915662                 & rs17457603                & A                         & T                         & chr10:100220679-100221191 & NKX25                     & iPSC-CM                   & 10:100220928              & FALSE                    \\\\\n",
       "\t chr10:100221081           & 1.0000000                 & 1.0000000                 & 0.5220204                 & rs7067691                 & T                         & C                         & chr10:100220679-100221191 & NKX25                     & iPSC-CM                   & 10:100221081              & FALSE                    \\\\\n",
       "\t chr10:10034807            & 0.7288560                 & 0.9635344                 & 0.4623286                 & rs6602387                 & G                         & A                         & chr10:10034702-10034926   & NKX25                     & iPSC-CM                   & 10:10034807               & FALSE                    \\\\\n",
       "\t chr10:100361679           & 0.1133356                 & 0.4605427                 & 0.2781205                 & rs12356555                & G                         & T                         & chr10:100361603-100361834 & NKX25                     & iPSC-CM                   & 10:100361679              & FALSE                    \\\\\n",
       "\t chr10:10043586            & 0.4490147                 & 0.8423266                 & 0.5519033                 & rs7917801                 & A                         & T                         & chr10:10043308-10043619   & NKX25                     & iPSC-CM                   & 10:10043586               & FALSE                    \\\\\n",
       "\\end{tabular}\n"
      ],
      "text/plain": [
       "  variantID       combined_pv combined_fdr ref_freq  snpID      refAllele\n",
       "1 chr10:100104314 0.8899175   0.9975985    0.5174881 rs7081279  T        \n",
       "2 chr10:100220928 0.4272945   0.8244251    0.4915662 rs17457603 A        \n",
       "3 chr10:100221081 1.0000000   1.0000000    0.5220204 rs7067691  T        \n",
       "4 chr10:10034807  0.7288560   0.9635344    0.4623286 rs6602387  G        \n",
       "5 chr10:100361679 0.1133356   0.4605427    0.2781205 rs12356555 G        \n",
       "6 chr10:10043586  0.4490147   0.8423266    0.5519033 rs7917801  A        \n",
       "  altAllele locus                     mark  tissue  SNP          EKG  \n",
       "1 C         chr10:100104199-100104643 NKX25 iPSC-CM 10:100104314 FALSE\n",
       "2 T         chr10:100220679-100221191 NKX25 iPSC-CM 10:100220928 FALSE\n",
       "3 C         chr10:100220679-100221191 NKX25 iPSC-CM 10:100221081 FALSE\n",
       "4 A         chr10:10034702-10034926   NKX25 iPSC-CM 10:10034807  FALSE\n",
       "5 T         chr10:100361603-100361834 NKX25 iPSC-CM 10:100361679 FALSE\n",
       "6 T         chr10:10043308-10043619   NKX25 iPSC-CM 10:10043586  FALSE"
      ]
     },
     "metadata": {},
     "output_type": "display_data"
    }
   ],
   "source": [
    "head(tested)"
   ]
  },
  {
   "cell_type": "code",
   "execution_count": 719,
   "metadata": {
    "collapsed": true
   },
   "outputs": [],
   "source": [
    "mat = read.table('/frazer01/home/paola/Family1070/private_output/Enrichment_annotations/ekg_table_summary.tsv', header=T, row.names=1)"
   ]
  },
  {
   "cell_type": "code",
   "execution_count": 752,
   "metadata": {
    "collapsed": false
   },
   "outputs": [],
   "source": [
    "mat2=as.matrix(mat[, -ncol(mat)]+1)"
   ]
  },
  {
   "cell_type": "code",
   "execution_count": 753,
   "metadata": {
    "collapsed": false,
    "scrolled": true
   },
   "outputs": [
    {
     "name": "stderr",
     "output_type": "stream",
     "text": [
      "Warning message in heatmap.2(mat2, Colv = F, Rowv = F, srtRow = 0, srtCol = 45, :\n",
      "“Discrepancy: Rowv is FALSE, while dendrogram is `both'. Omitting row dendogram.”Warning message in heatmap.2(mat2, Colv = F, Rowv = F, srtRow = 0, srtCol = 45, :\n",
      "“Discrepancy: Colv is FALSE, while dendrogram is `column'. Omitting column dendogram.”"
     ]
    },
    {
     "data": {
      "image/png": "[encoded data removed]",
      "text/plain": [
       "Plot with title “OR”"
      ]
     },
     "metadata": {},
     "output_type": "display_data"
    }
   ],
   "source": [
    "heatmap.2(mat2, \n",
    "         Colv=F,Rowv=F, srtRow=0, srtCol=45, offsetRow=-1, offsetCol=-0.5,\n",
    "          keysize=1, margins =c(21,26), trace=\"none\",key.title=\"OR\", tracecol=NA,\n",
    "         sepwidth=c(0.0005,0.0005),sepcolor=\"black\",colsep=0:nrow(mat2),rowsep=0:nrow(mat2),\n",
    "         col=terrain.colors(2)[2:1], cexRow=1, cexCol=1)\n"
   ]
  },
  {
   "cell_type": "code",
   "execution_count": 771,
   "metadata": {
    "collapsed": false
   },
   "outputs": [
    {
     "data": {
      "text/html": [
       "<table>\n",
       "<thead><tr><th></th><th scope=col>LEAD</th><th scope=col>eQTLs</th><th scope=col>MOTIF</th><th scope=col>CONSERVED</th><th scope=col>H3K27ac</th><th scope=col>ATAC</th><th scope=col>Log_Q</th></tr></thead>\n",
       "<tbody>\n",
       "\t<tr><th scope=row>SSBP3</th><td>FALSE     </td><td> TRUE     </td><td> TRUE     </td><td>FALSE     </td><td>FALSE     </td><td> TRUE     </td><td>104.610657</td></tr>\n",
       "\t<tr><th scope=row>SH3PXD2A</th><td> TRUE     </td><td>FALSE     </td><td> TRUE     </td><td> TRUE     </td><td> TRUE     </td><td> TRUE     </td><td> 17.467873</td></tr>\n",
       "\t<tr><th scope=row>GNB4</th><td> TRUE     </td><td> TRUE     </td><td> TRUE     </td><td>FALSE     </td><td>FALSE     </td><td>FALSE     </td><td> 14.671844</td></tr>\n",
       "\t<tr><th scope=row>SETBP1</th><td>FALSE     </td><td>FALSE     </td><td>FALSE     </td><td>FALSE     </td><td>FALSE     </td><td>FALSE     </td><td> 11.668591</td></tr>\n",
       "\t<tr><th scope=row>NOS1AP</th><td>FALSE     </td><td>FALSE     </td><td>FALSE     </td><td>FALSE     </td><td> TRUE     </td><td> TRUE     </td><td> 11.461110</td></tr>\n",
       "\t<tr><th scope=row>PPTC7</th><td>FALSE     </td><td>FALSE     </td><td>FALSE     </td><td> TRUE     </td><td> TRUE     </td><td> TRUE     </td><td>  8.424050</td></tr>\n",
       "\t<tr><th scope=row>TBX3</th><td> TRUE     </td><td>FALSE     </td><td>FALSE     </td><td>FALSE     </td><td>FALSE     </td><td>FALSE     </td><td>  3.311821</td></tr>\n",
       "\t<tr><th scope=row>CAV1</th><td> TRUE     </td><td>FALSE     </td><td>FALSE     </td><td> TRUE     </td><td> TRUE     </td><td> TRUE     </td><td>  3.159844</td></tr>\n",
       "\t<tr><th scope=row>MYH11</th><td>FALSE     </td><td>FALSE     </td><td> TRUE     </td><td>FALSE     </td><td> TRUE     </td><td> TRUE     </td><td>  2.864974</td></tr>\n",
       "\t<tr><th scope=row>SAMD3</th><td>FALSE     </td><td>FALSE     </td><td>FALSE     </td><td>FALSE     </td><td>FALSE     </td><td>FALSE     </td><td>  2.700686</td></tr>\n",
       "\t<tr><th scope=row>SCN10A</th><td> TRUE     </td><td>FALSE     </td><td> TRUE     </td><td> TRUE     </td><td> TRUE     </td><td> TRUE     </td><td>  2.371920</td></tr>\n",
       "\t<tr><th scope=row>LRCH1</th><td>FALSE     </td><td> TRUE     </td><td>FALSE     </td><td>FALSE     </td><td> TRUE     </td><td> TRUE     </td><td>  1.984136</td></tr>\n",
       "\t<tr><th scope=row>PDE3A</th><td> TRUE     </td><td>FALSE     </td><td> TRUE     </td><td>FALSE     </td><td>FALSE     </td><td>FALSE     </td><td>  1.905366</td></tr>\n",
       "\t<tr><th scope=row>GJA1</th><td>FALSE     </td><td>FALSE     </td><td>FALSE     </td><td>FALSE     </td><td>FALSE     </td><td>FALSE     </td><td>  1.759077</td></tr>\n",
       "</tbody>\n",
       "</table>\n"
      ],
      "text/latex": [
       "\\begin{tabular}{r|lllllll}\n",
       "  & LEAD & eQTLs & MOTIF & CONSERVED & H3K27ac & ATAC & Log\\_Q\\\\\n",
       "\\hline\n",
       "\tSSBP3 & FALSE      &  TRUE      &  TRUE      & FALSE      & FALSE      &  TRUE      & 104.610657\\\\\n",
       "\tSH3PXD2A &  TRUE      & FALSE      &  TRUE      &  TRUE      &  TRUE      &  TRUE      &  17.467873\\\\\n",
       "\tGNB4 &  TRUE      &  TRUE      &  TRUE      & FALSE      & FALSE      & FALSE      &  14.671844\\\\\n",
       "\tSETBP1 & FALSE      & FALSE      & FALSE      & FALSE      & FALSE      & FALSE      &  11.668591\\\\\n",
       "\tNOS1AP & FALSE      & FALSE      & FALSE      & FALSE      &  TRUE      &  TRUE      &  11.461110\\\\\n",
       "\tPPTC7 & FALSE      & FALSE      & FALSE      &  TRUE      &  TRUE      &  TRUE      &   8.424050\\\\\n",
       "\tTBX3 &  TRUE      & FALSE      & FALSE      & FALSE      & FALSE      & FALSE      &   3.311821\\\\\n",
       "\tCAV1 &  TRUE      & FALSE      & FALSE      &  TRUE      &  TRUE      &  TRUE      &   3.159844\\\\\n",
       "\tMYH11 & FALSE      & FALSE      &  TRUE      & FALSE      &  TRUE      &  TRUE      &   2.864974\\\\\n",
       "\tSAMD3 & FALSE      & FALSE      & FALSE      & FALSE      & FALSE      & FALSE      &   2.700686\\\\\n",
       "\tSCN10A &  TRUE      & FALSE      &  TRUE      &  TRUE      &  TRUE      &  TRUE      &   2.371920\\\\\n",
       "\tLRCH1 & FALSE      &  TRUE      & FALSE      & FALSE      &  TRUE      &  TRUE      &   1.984136\\\\\n",
       "\tPDE3A &  TRUE      & FALSE      &  TRUE      & FALSE      & FALSE      & FALSE      &   1.905366\\\\\n",
       "\tGJA1 & FALSE      & FALSE      & FALSE      & FALSE      & FALSE      & FALSE      &   1.759077\\\\\n",
       "\\end{tabular}\n"
      ],
      "text/plain": [
       "         LEAD  eQTLs MOTIF CONSERVED H3K27ac ATAC  Log_Q     \n",
       "SSBP3    FALSE  TRUE  TRUE FALSE     FALSE    TRUE 104.610657\n",
       "SH3PXD2A  TRUE FALSE  TRUE  TRUE      TRUE    TRUE  17.467873\n",
       "GNB4      TRUE  TRUE  TRUE FALSE     FALSE   FALSE  14.671844\n",
       "SETBP1   FALSE FALSE FALSE FALSE     FALSE   FALSE  11.668591\n",
       "NOS1AP   FALSE FALSE FALSE FALSE      TRUE    TRUE  11.461110\n",
       "PPTC7    FALSE FALSE FALSE  TRUE      TRUE    TRUE   8.424050\n",
       "TBX3      TRUE FALSE FALSE FALSE     FALSE   FALSE   3.311821\n",
       "CAV1      TRUE FALSE FALSE  TRUE      TRUE    TRUE   3.159844\n",
       "MYH11    FALSE FALSE  TRUE FALSE      TRUE    TRUE   2.864974\n",
       "SAMD3    FALSE FALSE FALSE FALSE     FALSE   FALSE   2.700686\n",
       "SCN10A    TRUE FALSE  TRUE  TRUE      TRUE    TRUE   2.371920\n",
       "LRCH1    FALSE  TRUE FALSE FALSE      TRUE    TRUE   1.984136\n",
       "PDE3A     TRUE FALSE  TRUE FALSE     FALSE   FALSE   1.905366\n",
       "GJA1     FALSE FALSE FALSE FALSE     FALSE   FALSE   1.759077"
      ]
     },
     "metadata": {},
     "output_type": "display_data"
    }
   ],
   "source": [
    "mat"
   ]
  },
  {
   "cell_type": "code",
   "execution_count": 762,
   "metadata": {
    "collapsed": false
   },
   "outputs": [],
   "source": []
  },
  {
   "cell_type": "code",
   "execution_count": 786,
   "metadata": {
    "collapsed": false
   },
   "outputs": [],
   "source": [
    "mat2 = as.matrix(mat)\n",
    "mat2[mat2==FALSE] <- NA\n",
    "mat2[mat2==TRUE]<- 200"
   ]
  },
  {
   "cell_type": "code",
   "execution_count": 813,
   "metadata": {
    "collapsed": true
   },
   "outputs": [],
   "source": [
    "suppressPackageStartupMessages(library(RColorBrewer))\n",
    "cols = brewer.pal(9, \"Reds\")"
   ]
  },
  {
   "cell_type": "code",
   "execution_count": 820,
   "metadata": {
    "collapsed": true
   },
   "outputs": [],
   "source": [
    "breaks=seq(0, 20, by=5) \n",
    "breaks=append(breaks,  105)\n",
    "breaks=append(breaks, 300)\n",
    "my_palette =c(colorRampPalette(cols)(length(breaks)-2), \"orange\")"
   ]
  },
  {
   "cell_type": "code",
   "execution_count": 822,
   "metadata": {
    "collapsed": false
   },
   "outputs": [
    {
     "name": "stderr",
     "output_type": "stream",
     "text": [
      "Warning message in heatmap.2(mat2, Colv = F, Rowv = F, srtRow = 0, srtCol = 45, :\n",
      "“Discrepancy: Rowv is FALSE, while dendrogram is `both'. Omitting row dendogram.”Warning message in heatmap.2(mat2, Colv = F, Rowv = F, srtRow = 0, srtCol = 45, :\n",
      "“Discrepancy: Colv is FALSE, while dendrogram is `column'. Omitting column dendogram.”"
     ]
    },
    {
     "data": {
      "text/html": [
       "<strong>png:</strong> 2"
      ],
      "text/latex": [
       "\\textbf{png:} 2"
      ],
      "text/markdown": [
       "**png:** 2"
      ],
      "text/plain": [
       "png \n",
       "  2 "
      ]
     },
     "metadata": {},
     "output_type": "display_data"
    }
   ],
   "source": [
    "pdf('/frazer01/home/paola/Family1070/private_output/Figures/Heatmap_ekg.pdf')\n",
    "\n",
    "heatmap.2(mat2, \n",
    "         Colv=F,Rowv=F, srtRow=0, srtCol=45, offsetRow=-1, offsetCol=-0.5,\n",
    "          keysize=1, margins =c(21,26), trace=\"none\",key.title=\"OR\", tracecol=NA,\n",
    "         sepwidth=c(0.0005,0.0005),sepcolor=\"black\",colsep=0:nrow(mat2),rowsep=0:nrow(mat2),\n",
    "          cexRow=1, cexCol=1, na.color=\"white\", col=my_palette, breaks=breaks)\n",
    "dev.off()"
   ]
  },
  {
   "cell_type": "code",
   "execution_count": null,
   "metadata": {
    "collapsed": true
   },
   "outputs": [],
   "source": []
  }
 ],
 "metadata": {
  "kernelspec": {
   "display_name": "R",
   "language": "R",
   "name": "ir"
  },
  "language_info": {
   "codemirror_mode": "r",
   "file_extension": ".r",
   "mimetype": "text/x-r-source",
   "name": "R",
   "pygments_lexer": "r",
   "version": "3.2.2"
  }
 },
 "nbformat": 4,
 "nbformat_minor": 0
}
