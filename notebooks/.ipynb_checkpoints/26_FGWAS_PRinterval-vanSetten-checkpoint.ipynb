{
 "cells": [
  {
   "cell_type": "markdown",
   "metadata": {},
   "source": [
    "### Prepare tables to run fGWAS fine mapping using chromatin annotations using Bill's pipeline"
   ]
  },
  {
   "cell_type": "code",
   "execution_count": 3,
   "metadata": {},
   "outputs": [],
   "source": [
    "suppressPackageStartupMessages(library(\"tidyr\"))\n",
    "options(scipen=999)"
   ]
  },
  {
   "cell_type": "code",
   "execution_count": 4,
   "metadata": {
    "collapsed": true
   },
   "outputs": [],
   "source": [
    "suppressPackageStartupMessages(library(\"stringr\"))"
   ]
  },
  {
   "cell_type": "code",
   "execution_count": 5,
   "metadata": {
    "collapsed": true
   },
   "outputs": [],
   "source": [
    "home=\"/home/paola/Family1070/private_output/fgwas_analysis/PR_interval/preprocessing/\"\n",
    "setwd(home)"
   ]
  },
  {
   "cell_type": "code",
   "execution_count": 20,
   "metadata": {},
   "outputs": [],
   "source": [
    "gwas = read.table(\"/publicdata/gwas_summary_stats_20180124/vanSetten_2018/PR_interval_July2018_summary_results.hg19.txt\", \n",
    "                  header=T, sep=\"\\t\")"
   ]
  },
  {
   "cell_type": "code",
   "execution_count": 28,
   "metadata": {},
   "outputs": [
    {
     "data": {
      "text/html": [
       "<table>\n",
       "<thead><tr><th scope=col>SNPID</th><th scope=col>CHR</th><th scope=col>POS_hg18</th><th scope=col>A1</th><th scope=col>A2</th><th scope=col>F</th><th scope=col>Beta</th><th scope=col>SE</th><th scope=col>P_VALUE</th><th scope=col>POS</th><th scope=col>Z</th><th scope=col>N</th><th scope=col>POS_1</th></tr></thead>\n",
       "<tbody>\n",
       "\t<tr><td>rs10      </td><td>7         </td><td> 92221824 </td><td>A         </td><td>C         </td><td>0.053     </td><td>-0.4522   </td><td>0.4288    </td><td>0.29153   </td><td> 92383888 </td><td>-1.0545709</td><td>.         </td><td> 92383887 </td></tr>\n",
       "\t<tr><td>rs1000000 </td><td>12        </td><td>125456933 </td><td>A         </td><td>G         </td><td>0.224     </td><td> 0.1481   </td><td>0.1377    </td><td>0.28237   </td><td>126890980 </td><td> 1.0755265</td><td>.         </td><td>126890979 </td></tr>\n",
       "\t<tr><td>rs10000010</td><td>4         </td><td> 21227772 </td><td>C         </td><td>T         </td><td>0.506     </td><td>-0.1659   </td><td>0.1177    </td><td>0.15858   </td><td> 21618674 </td><td>-1.4095157</td><td>.         </td><td> 21618673 </td></tr>\n",
       "\t<tr><td>rs10000012</td><td>4         </td><td>  1347325 </td><td>G         </td><td>C         </td><td>0.137     </td><td> 0.0552   </td><td>0.1652    </td><td>0.73806   </td><td>  1357325 </td><td> 0.3341404</td><td>.         </td><td>  1357324 </td></tr>\n",
       "\t<tr><td>rs10000013</td><td>4         </td><td> 36901464 </td><td>C         </td><td>A         </td><td>0.222     </td><td>-0.1790   </td><td>0.1407    </td><td>0.20309   </td><td> 37225069 </td><td>-1.2722104</td><td>.         </td><td> 37225068 </td></tr>\n",
       "\t<tr><td>rs10000017</td><td>4         </td><td> 84997149 </td><td>T         </td><td>C         </td><td>0.224     </td><td> 0.2565   </td><td>0.1613    </td><td>0.11182   </td><td> 84778125 </td><td> 1.5902046</td><td>.         </td><td> 84778124 </td></tr>\n",
       "</tbody>\n",
       "</table>\n"
      ],
      "text/latex": [
       "\\begin{tabular}{r|lllllllllllll}\n",
       " SNPID & CHR & POS\\_hg18 & A1 & A2 & F & Beta & SE & P\\_VALUE & POS & Z & N & POS\\_1\\\\\n",
       "\\hline\n",
       "\t rs10       & 7          &  92221824  & A          & C          & 0.053      & -0.4522    & 0.4288     & 0.29153    &  92383888  & -1.0545709 & .          &  92383887 \\\\\n",
       "\t rs1000000  & 12         & 125456933  & A          & G          & 0.224      &  0.1481    & 0.1377     & 0.28237    & 126890980  &  1.0755265 & .          & 126890979 \\\\\n",
       "\t rs10000010 & 4          &  21227772  & C          & T          & 0.506      & -0.1659    & 0.1177     & 0.15858    &  21618674  & -1.4095157 & .          &  21618673 \\\\\n",
       "\t rs10000012 & 4          &   1347325  & G          & C          & 0.137      &  0.0552    & 0.1652     & 0.73806    &   1357325  &  0.3341404 & .          &   1357324 \\\\\n",
       "\t rs10000013 & 4          &  36901464  & C          & A          & 0.222      & -0.1790    & 0.1407     & 0.20309    &  37225069  & -1.2722104 & .          &  37225068 \\\\\n",
       "\t rs10000017 & 4          &  84997149  & T          & C          & 0.224      &  0.2565    & 0.1613     & 0.11182    &  84778125  &  1.5902046 & .          &  84778124 \\\\\n",
       "\\end{tabular}\n"
      ],
      "text/plain": [
       "  SNPID      CHR POS_hg18  A1 A2 F     Beta    SE     P_VALUE POS      \n",
       "1 rs10       7    92221824 A  C  0.053 -0.4522 0.4288 0.29153  92383888\n",
       "2 rs1000000  12  125456933 A  G  0.224  0.1481 0.1377 0.28237 126890980\n",
       "3 rs10000010 4    21227772 C  T  0.506 -0.1659 0.1177 0.15858  21618674\n",
       "4 rs10000012 4     1347325 G  C  0.137  0.0552 0.1652 0.73806   1357325\n",
       "5 rs10000013 4    36901464 C  A  0.222 -0.1790 0.1407 0.20309  37225069\n",
       "6 rs10000017 4    84997149 T  C  0.224  0.2565 0.1613 0.11182  84778125\n",
       "  Z          N POS_1    \n",
       "1 -1.0545709 .  92383887\n",
       "2  1.0755265 . 126890979\n",
       "3 -1.4095157 .  21618673\n",
       "4  0.3341404 .   1357324\n",
       "5 -1.2722104 .  37225068\n",
       "6  1.5902046 .  84778124"
      ]
     },
     "metadata": {},
     "output_type": "display_data"
    }
   ],
   "source": [
    "head(gwas)"
   ]
  },
  {
   "cell_type": "code",
   "execution_count": 22,
   "metadata": {},
   "outputs": [],
   "source": [
    "colnames(gwas)= c(\"SNPID\", \"CHR\", \"POS_hg18\", \"A1\", \"A2\", \"F\", \"Beta\", \"SE\", \"P_VALUE\", \"POS\")"
   ]
  },
  {
   "cell_type": "code",
   "execution_count": 23,
   "metadata": {
    "collapsed": true
   },
   "outputs": [],
   "source": [
    "required = c(\"SNPID\", \"CHR\", \"POS\", \"SE\", \"Z\", \"F\", \"N\")"
   ]
  },
  {
   "cell_type": "code",
   "execution_count": 24,
   "metadata": {
    "collapsed": true
   },
   "outputs": [],
   "source": [
    "gwas$Z = gwas$Beta /gwas$SE\n",
    "gwas$N = '.'"
   ]
  },
  {
   "cell_type": "code",
   "execution_count": 25,
   "metadata": {
    "collapsed": true
   },
   "outputs": [],
   "source": [
    "gwas$POS_1 = gwas$POS -1"
   ]
  },
  {
   "cell_type": "code",
   "execution_count": 26,
   "metadata": {},
   "outputs": [
    {
     "data": {
      "text/html": [
       "0"
      ],
      "text/latex": [
       "0"
      ],
      "text/markdown": [
       "0"
      ],
      "text/plain": [
       "[1] 0"
      ]
     },
     "metadata": {},
     "output_type": "display_data"
    }
   ],
   "source": [
    "sum(is.na(gwas$SNPID))"
   ]
  },
  {
   "cell_type": "markdown",
   "metadata": {},
   "source": [
    "Annotate with regulatory regions and ASE"
   ]
  },
  {
   "cell_type": "code",
   "execution_count": 29,
   "metadata": {},
   "outputs": [],
   "source": [
    "write.table(gwas[,c(\"CHR\",\"POS_1\",\"POS\",\"SNPID\")], \"PR_Interval.bed\", row.names=F, col.names=F, quote=F, sep=\"\\t\")"
   ]
  },
  {
   "cell_type": "code",
   "execution_count": 30,
   "metadata": {
    "collapsed": true
   },
   "outputs": [],
   "source": [
    "annotate_gwas = function( regiofile, annofile ){\n",
    "    system(paste(\"bedtools intersect -a\" ,  regiofile, \"-b\", annofile , \"-wo > intesect_results\"))\n",
    "    annot = read.table(\"intesect_results\")  \n",
    "    annot = annot[!duplicated(annot),]\n",
    "    annot_wide <- spread(annot[,c(1:4,8,9)], V8, V9)\n",
    "    annot_wide [is.na(annot_wide)]<-0\n",
    "    colnames(annot_wide)[1:4] = c(\"CHR\", \"START\", \"POS\", \"SNPID\")\n",
    "    return(annot_wide)\n",
    "   }"
   ]
  },
  {
   "cell_type": "code",
   "execution_count": 31,
   "metadata": {
    "collapsed": true
   },
   "outputs": [],
   "source": [
    "anno = annotate_gwas('PR_Interval.bed', 'frazer_lab_cm_annotations.bed')"
   ]
  },
  {
   "cell_type": "code",
   "execution_count": 32,
   "metadata": {},
   "outputs": [
    {
     "data": {
      "text/html": [
       "<table>\n",
       "<thead><tr><th scope=col>CHR</th><th scope=col>START</th><th scope=col>POS</th><th scope=col>SNPID</th><th scope=col>ATAC</th><th scope=col>H3K27AC</th><th scope=col>NKX25</th></tr></thead>\n",
       "<tbody>\n",
       "\t<tr><td>7         </td><td> 40590568 </td><td> 40590569 </td><td>rs1000013 </td><td>0         </td><td>1         </td><td>0         </td></tr>\n",
       "\t<tr><td>4         </td><td>  7399668 </td><td>  7399669 </td><td>rs10000132</td><td>0         </td><td>1         </td><td>0         </td></tr>\n",
       "\t<tr><td>4         </td><td> 77356245 </td><td> 77356246 </td><td>rs10000169</td><td>0         </td><td>1         </td><td>0         </td></tr>\n",
       "\t<tr><td>3         </td><td>176467877 </td><td>176467878 </td><td>rs1000021 </td><td>0         </td><td>0         </td><td>1         </td></tr>\n",
       "\t<tr><td>4         </td><td>  7399791 </td><td>  7399792 </td><td>rs10000236</td><td>1         </td><td>1         </td><td>1         </td></tr>\n",
       "\t<tr><td>4         </td><td> 53507944 </td><td> 53507945 </td><td>rs10000311</td><td>0         </td><td>1         </td><td>0         </td></tr>\n",
       "</tbody>\n",
       "</table>\n"
      ],
      "text/latex": [
       "\\begin{tabular}{r|lllllll}\n",
       " CHR & START & POS & SNPID & ATAC & H3K27AC & NKX25\\\\\n",
       "\\hline\n",
       "\t 7          &  40590568  &  40590569  & rs1000013  & 0          & 1          & 0         \\\\\n",
       "\t 4          &   7399668  &   7399669  & rs10000132 & 0          & 1          & 0         \\\\\n",
       "\t 4          &  77356245  &  77356246  & rs10000169 & 0          & 1          & 0         \\\\\n",
       "\t 3          & 176467877  & 176467878  & rs1000021  & 0          & 0          & 1         \\\\\n",
       "\t 4          &   7399791  &   7399792  & rs10000236 & 1          & 1          & 1         \\\\\n",
       "\t 4          &  53507944  &  53507945  & rs10000311 & 0          & 1          & 0         \\\\\n",
       "\\end{tabular}\n"
      ],
      "text/plain": [
       "  CHR START     POS       SNPID      ATAC H3K27AC NKX25\n",
       "1 7    40590568  40590569 rs1000013  0    1       0    \n",
       "2 4     7399668   7399669 rs10000132 0    1       0    \n",
       "3 4    77356245  77356246 rs10000169 0    1       0    \n",
       "4 3   176467877 176467878 rs1000021  0    0       1    \n",
       "5 4     7399791   7399792 rs10000236 1    1       1    \n",
       "6 4    53507944  53507945 rs10000311 0    1       0    "
      ]
     },
     "metadata": {},
     "output_type": "display_data"
    }
   ],
   "source": [
    "head(anno)"
   ]
  },
  {
   "cell_type": "code",
   "execution_count": 33,
   "metadata": {},
   "outputs": [],
   "source": [
    "m = merge(gwas, anno, by= c('CHR','POS', 'SNPID'), all.x=TRUE)"
   ]
  },
  {
   "cell_type": "code",
   "execution_count": 34,
   "metadata": {},
   "outputs": [
    {
     "data": {
      "text/html": [
       "<ol class=list-inline>\n",
       "\t<li>115421</li>\n",
       "\t<li>7</li>\n",
       "</ol>\n"
      ],
      "text/latex": [
       "\\begin{enumerate*}\n",
       "\\item 115421\n",
       "\\item 7\n",
       "\\end{enumerate*}\n"
      ],
      "text/markdown": [
       "1. 115421\n",
       "2. 7\n",
       "\n",
       "\n"
      ],
      "text/plain": [
       "[1] 115421      7"
      ]
     },
     "metadata": {},
     "output_type": "display_data"
    }
   ],
   "source": [
    "dim(anno)"
   ]
  },
  {
   "cell_type": "code",
   "execution_count": 35,
   "metadata": {
    "collapsed": true
   },
   "outputs": [],
   "source": [
    "m [is.na(m)]<-0"
   ]
  },
  {
   "cell_type": "code",
   "execution_count": 47,
   "metadata": {},
   "outputs": [
    {
     "data": {
      "text/html": [
       "<ol class=list-inline>\n",
       "\t<li>2712335</li>\n",
       "\t<li>19</li>\n",
       "</ol>\n"
      ],
      "text/latex": [
       "\\begin{enumerate*}\n",
       "\\item 2712335\n",
       "\\item 19\n",
       "\\end{enumerate*}\n"
      ],
      "text/markdown": [
       "1. 2712335\n",
       "2. 19\n",
       "\n",
       "\n"
      ],
      "text/plain": [
       "[1] 2712335      19"
      ]
     },
     "metadata": {},
     "output_type": "display_data"
    }
   ],
   "source": [
    "dim(m)"
   ]
  },
  {
   "cell_type": "code",
   "execution_count": 37,
   "metadata": {
    "collapsed": true
   },
   "outputs": [],
   "source": [
    "nkx_ase = readLines(\"NKX25_ASE_rsids.txt\")\n",
    "h3k_ase = readLines(\"H3K27AC_ASE_rsids.txt\")"
   ]
  },
  {
   "cell_type": "code",
   "execution_count": 38,
   "metadata": {},
   "outputs": [],
   "source": [
    "m$NKX25_ASE = as.numeric(m$SNPID %in% nkx_ase)\n",
    "m$H3K27AC_ASE = as.numeric(m$SNPID %in% h3k_ase)"
   ]
  },
  {
   "cell_type": "code",
   "execution_count": 39,
   "metadata": {},
   "outputs": [],
   "source": [
    "m = m[!duplicated(m),]"
   ]
  },
  {
   "cell_type": "code",
   "execution_count": 53,
   "metadata": {},
   "outputs": [
    {
     "data": {
      "text/html": [
       "19454"
      ],
      "text/latex": [
       "19454"
      ],
      "text/markdown": [
       "19454"
      ],
      "text/plain": [
       "[1] 19454"
      ]
     },
     "metadata": {},
     "output_type": "display_data"
    }
   ],
   "source": [
    "sum(duplicated(gwas$POS))"
   ]
  },
  {
   "cell_type": "markdown",
   "metadata": {},
   "source": [
    "remove duplicated SNPs (merged / renames SNPs)"
   ]
  },
  {
   "cell_type": "code",
   "execution_count": 55,
   "metadata": {},
   "outputs": [],
   "source": [
    "m = m[with(m, order(SE)),]\n",
    "m = m[!duplicated( m[,c(\"CHR\", \"POS\")]),]     \n",
    "m = m[with(m, order(CHR, POS)),]"
   ]
  },
  {
   "cell_type": "markdown",
   "metadata": {},
   "source": [
    "remove chr Y and M"
   ]
  },
  {
   "cell_type": "code",
   "execution_count": 61,
   "metadata": {},
   "outputs": [],
   "source": [
    "m =subset(m, !(CHR %in% c(\"M\", \"Y\")))"
   ]
  },
  {
   "cell_type": "code",
   "execution_count": 62,
   "metadata": {},
   "outputs": [],
   "source": [
    "mori = subset(m, select = as.character(c(\"SNPID\", \"CHR\", \"POS\", \"P_VALUE\" )))"
   ]
  },
  {
   "cell_type": "code",
   "execution_count": 63,
   "metadata": {
    "collapsed": true
   },
   "outputs": [],
   "source": [
    "write.table(mori, \"../Original_input\", col.names=T, row.names=F, sep=\"\\t\",quote=F)"
   ]
  },
  {
   "cell_type": "code",
   "execution_count": 64,
   "metadata": {},
   "outputs": [],
   "source": [
    "mano = subset(m, select = c( required, 'ATAC','H3K27AC','NKX25','NKX25_ASE','H3K27AC_ASE' ))"
   ]
  },
  {
   "cell_type": "code",
   "execution_count": 65,
   "metadata": {
    "collapsed": true
   },
   "outputs": [],
   "source": [
    "write.table(mano, \"Annotated_input\", col.names=T, row.names=F, sep=\" \",quote=F)"
   ]
  },
  {
   "cell_type": "markdown",
   "metadata": {},
   "source": [
    "Remember to run the fgwas command to determine the size of the chunks for the analysis (-k)\n",
    "for this analysis fgwas k = 910 ( 5,000/5.5 Mb)"
   ]
  },
  {
   "cell_type": "markdown",
   "metadata": {
    "collapsed": true
   },
   "source": [
    "### Read Results"
   ]
  },
  {
   "cell_type": "code",
   "execution_count": 67,
   "metadata": {},
   "outputs": [
    {
     "data": {
      "text/html": [
       "'/frazer01/home/paola/Family1070/private_output/fgwas_analysis/PR_interval/preprocessing'"
      ],
      "text/latex": [
       "'/frazer01/home/paola/Family1070/private\\_output/fgwas\\_analysis/PR\\_interval/preprocessing'"
      ],
      "text/markdown": [
       "'/frazer01/home/paola/Family1070/private_output/fgwas_analysis/PR_interval/preprocessing'"
      ],
      "text/plain": [
       "[1] \"/frazer01/home/paola/Family1070/private_output/fgwas_analysis/PR_interval/preprocessing\""
      ]
     },
     "metadata": {},
     "output_type": "display_data"
    }
   ],
   "source": [
    "getwd()"
   ]
  },
  {
   "cell_type": "code",
   "execution_count": 70,
   "metadata": {},
   "outputs": [],
   "source": [
    "res = read.table('../pipeline_out/Final_Model/Final_Model.bfs', header=T)\n",
    "seg = read.table('../pipeline_out/Final_Model/Final_Model.segbfs', header=T)\n",
    "res = merge(res,seg[,c('chunk', 'PPA')], by=\"chunk\" )\n",
    "res$PPA = res$PPA.x *res$PPA.y\n",
    "res = res[order(res$PPA, decreasing=T),]"
   ]
  },
  {
   "cell_type": "code",
   "execution_count": 72,
   "metadata": {},
   "outputs": [],
   "source": [
    "nkx = subset(res, NKX25_ASE==1 )"
   ]
  },
  {
   "cell_type": "code",
   "execution_count": 75,
   "metadata": {},
   "outputs": [
    {
     "data": {
      "text/html": [
       "<table>\n",
       "<thead><tr><th></th><th scope=col>chunk</th><th scope=col>id</th><th scope=col>chr</th><th scope=col>pos</th><th scope=col>logBF</th><th scope=col>Z</th><th scope=col>V</th><th scope=col>pi</th><th scope=col>pseudologPO</th><th scope=col>pseudoPPA</th><th scope=col>PPA.x</th><th scope=col>H3K27AC</th><th scope=col>NKX25_ASE</th><th scope=col>NKX25</th><th scope=col>ATAC</th><th scope=col>H3K27AC_ASE</th><th scope=col>PPA.y</th><th scope=col>PPA</th></tr></thead>\n",
       "<tbody>\n",
       "\t<tr><th scope=row>2341288</th><td>2566       </td><td>rs3807989  </td><td>7          </td><td>116186241  </td><td>146.70800  </td><td>17.53060   </td><td>0.0134792  </td><td>-2.02771   </td><td>144.2400000</td><td>1.000000   </td><td>0.999995   </td><td>1          </td><td>1          </td><td>1          </td><td>1          </td><td>0          </td><td>1.000000   </td><td>0.9999950  </td></tr>\n",
       "\t<tr><th scope=row>597343</th><td> 658       </td><td>rs7132327  </td><td>12         </td><td>115381071  </td><td> 67.43880  </td><td>12.05290   </td><td>0.0170303  </td><td>-4.52247   </td><td> 62.4012000</td><td>1.000000   </td><td>0.969691   </td><td>0          </td><td>1          </td><td>1          </td><td>0          </td><td>0          </td><td>1.000000   </td><td>0.9696910  </td></tr>\n",
       "\t<tr><th scope=row>1247554</th><td>1368       </td><td>rs13006682 </td><td>2          </td><td>106104856  </td><td>  5.86094  </td><td> 4.08401   </td><td>0.0184145  </td><td>-2.34105   </td><td>  3.0571800</td><td>0.955091   </td><td>0.653746   </td><td>1          </td><td>1          </td><td>1          </td><td>1          </td><td>0          </td><td>0.986751   </td><td>0.6450845  </td></tr>\n",
       "\t<tr><th scope=row>130962</th><td> 144       </td><td>rs1418191  </td><td>1          </td><td>173362457  </td><td>  3.11821  </td><td>-3.26809   </td><td>0.0332698  </td><td>-2.03826   </td><td>  0.6388890</td><td>0.654502   </td><td>0.660973   </td><td>1          </td><td>1          </td><td>1          </td><td>1          </td><td>0          </td><td>0.846322   </td><td>0.5593960  </td></tr>\n",
       "\t<tr><th scope=row>1929874</th><td>2118       </td><td>rs12332381 </td><td>5          </td><td> 65814898  </td><td>  3.07196  </td><td> 3.21691   </td><td>0.0137124  </td><td>-1.90065   </td><td>  0.7426940</td><td>0.677585   </td><td>0.569100   </td><td>1          </td><td>1          </td><td>1          </td><td>1          </td><td>0          </td><td>0.879236   </td><td>0.5003732  </td></tr>\n",
       "\t<tr><th scope=row>1985058</th><td>2179       </td><td>rs10519804 </td><td>5          </td><td>124532423  </td><td>  3.16703  </td><td> 3.26430   </td><td>0.0231344  </td><td>-2.39752   </td><td>  0.3034740</td><td>0.575291   </td><td>0.594834   </td><td>1          </td><td>1          </td><td>1          </td><td>1          </td><td>0          </td><td>0.811354   </td><td>0.4826209  </td></tr>\n",
       "\t<tr><th scope=row>1453875</th><td>1594       </td><td>rs2830965  </td><td>21         </td><td> 28847771  </td><td>  5.15492  </td><td>-3.90072   </td><td>0.0231344  </td><td>-3.94986   </td><td>  0.6950240</td><td>0.667084   </td><td>0.536971   </td><td>0          </td><td>1          </td><td>1          </td><td>1          </td><td>0          </td><td>0.889835   </td><td>0.4778156  </td></tr>\n",
       "\t<tr><th scope=row>1970936</th><td>2163       </td><td>rs9326874  </td><td>5          </td><td>112420588  </td><td>  3.59564  </td><td>-3.39832   </td><td>0.0141610  </td><td>-2.68774   </td><td>  0.4275870</td><td>0.605297   </td><td>0.466696   </td><td>1          </td><td>1          </td><td>1          </td><td>1          </td><td>0          </td><td>0.871120   </td><td>0.4065482  </td></tr>\n",
       "\t<tr><th scope=row>1499544</th><td>1645       </td><td>rs2267469  </td><td>22         </td><td> 43306428  </td><td>  4.08924  </td><td>-3.65643   </td><td>0.0534072  </td><td>-3.26159   </td><td>  0.3291260</td><td>0.581547   </td><td>0.421380   </td><td>1          </td><td>1          </td><td>1          </td><td>0          </td><td>0          </td><td>0.873911   </td><td>0.3682486  </td></tr>\n",
       "\t<tr><th scope=row>1640303</th><td>1797       </td><td>rs7615524  </td><td>3          </td><td>139477714  </td><td>  2.63143  </td><td>-3.05623   </td><td>0.0173186  </td><td>-2.15856   </td><td>  0.0223599</td><td>0.505590   </td><td>0.457073   </td><td>1          </td><td>1          </td><td>1          </td><td>1          </td><td>0          </td><td>0.804987   </td><td>0.3679378  </td></tr>\n",
       "\t<tr><th scope=row>2641984</th><td>2900       </td><td>rs7030607  </td><td>9          </td><td>119245183  </td><td>  2.62291  </td><td> 3.05103   </td><td>0.0147622  </td><td>-1.85315   </td><td>  0.3458880</td><td>0.585620   </td><td>0.397428   </td><td>1          </td><td>1          </td><td>1          </td><td>1          </td><td>0          </td><td>0.873991   </td><td>0.3473485  </td></tr>\n",
       "\t<tr><th scope=row>1376629</th><td>1511       </td><td>rs6084573  </td><td>20         </td><td>  4031541  </td><td>  2.66205  </td><td>-3.08303   </td><td>0.0276224  </td><td>-2.14799   </td><td>  0.0643210</td><td>0.516075   </td><td>0.395038   </td><td>1          </td><td>1          </td><td>1          </td><td>1          </td><td>0          </td><td>0.838254   </td><td>0.3311422  </td></tr>\n",
       "\t<tr><th scope=row>924534</th><td>1014       </td><td>rs730300   </td><td>16         </td><td> 56293063  </td><td>  3.27350  </td><td>-3.28836   </td><td>0.0140660  </td><td>-2.58426   </td><td>  0.2135300</td><td>0.553181   </td><td>0.365286   </td><td>1          </td><td>1          </td><td>1          </td><td>0          </td><td>0          </td><td>0.874471   </td><td>0.3194320  </td></tr>\n",
       "\t<tr><th scope=row>2380181</th><td>2609       </td><td>rs842441   </td><td>7          </td><td>158556342  </td><td>  1.95870  </td><td> 2.79894   </td><td>0.0357210  </td><td>-1.87255   </td><td> -0.3396880</td><td>0.415885   </td><td>0.422816   </td><td>1          </td><td>1          </td><td>1          </td><td>1          </td><td>0          </td><td>0.734429   </td><td>0.3105283  </td></tr>\n",
       "\t<tr><th scope=row>1247552</th><td>1368       </td><td>rs11891717 </td><td>2          </td><td>106104335  </td><td>  4.95244  </td><td> 3.82412   </td><td>0.0165123  </td><td>-2.34105   </td><td>  2.1486700</td><td>0.895544   </td><td>0.263541   </td><td>1          </td><td>1          </td><td>1          </td><td>1          </td><td>0          </td><td>0.986751   </td><td>0.2600493  </td></tr>\n",
       "</tbody>\n",
       "</table>\n"
      ],
      "text/latex": [
       "\\begin{tabular}{r|llllllllllllllllll}\n",
       "  & chunk & id & chr & pos & logBF & Z & V & pi & pseudologPO & pseudoPPA & PPA.x & H3K27AC & NKX25\\_ASE & NKX25 & ATAC & H3K27AC\\_ASE & PPA.y & PPA\\\\\n",
       "\\hline\n",
       "\t2341288 & 2566        & rs3807989   & 7           & 116186241   & 146.70800   & 17.53060    & 0.0134792   & -2.02771    & 144.2400000 & 1.000000    & 0.999995    & 1           & 1           & 1           & 1           & 0           & 1.000000    & 0.9999950  \\\\\n",
       "\t597343 &  658        & rs7132327   & 12          & 115381071   &  67.43880   & 12.05290    & 0.0170303   & -4.52247    &  62.4012000 & 1.000000    & 0.969691    & 0           & 1           & 1           & 0           & 0           & 1.000000    & 0.9696910  \\\\\n",
       "\t1247554 & 1368        & rs13006682  & 2           & 106104856   &   5.86094   &  4.08401    & 0.0184145   & -2.34105    &   3.0571800 & 0.955091    & 0.653746    & 1           & 1           & 1           & 1           & 0           & 0.986751    & 0.6450845  \\\\\n",
       "\t130962 &  144        & rs1418191   & 1           & 173362457   &   3.11821   & -3.26809    & 0.0332698   & -2.03826    &   0.6388890 & 0.654502    & 0.660973    & 1           & 1           & 1           & 1           & 0           & 0.846322    & 0.5593960  \\\\\n",
       "\t1929874 & 2118        & rs12332381  & 5           &  65814898   &   3.07196   &  3.21691    & 0.0137124   & -1.90065    &   0.7426940 & 0.677585    & 0.569100    & 1           & 1           & 1           & 1           & 0           & 0.879236    & 0.5003732  \\\\\n",
       "\t1985058 & 2179        & rs10519804  & 5           & 124532423   &   3.16703   &  3.26430    & 0.0231344   & -2.39752    &   0.3034740 & 0.575291    & 0.594834    & 1           & 1           & 1           & 1           & 0           & 0.811354    & 0.4826209  \\\\\n",
       "\t1453875 & 1594        & rs2830965   & 21          &  28847771   &   5.15492   & -3.90072    & 0.0231344   & -3.94986    &   0.6950240 & 0.667084    & 0.536971    & 0           & 1           & 1           & 1           & 0           & 0.889835    & 0.4778156  \\\\\n",
       "\t1970936 & 2163        & rs9326874   & 5           & 112420588   &   3.59564   & -3.39832    & 0.0141610   & -2.68774    &   0.4275870 & 0.605297    & 0.466696    & 1           & 1           & 1           & 1           & 0           & 0.871120    & 0.4065482  \\\\\n",
       "\t1499544 & 1645        & rs2267469   & 22          &  43306428   &   4.08924   & -3.65643    & 0.0534072   & -3.26159    &   0.3291260 & 0.581547    & 0.421380    & 1           & 1           & 1           & 0           & 0           & 0.873911    & 0.3682486  \\\\\n",
       "\t1640303 & 1797        & rs7615524   & 3           & 139477714   &   2.63143   & -3.05623    & 0.0173186   & -2.15856    &   0.0223599 & 0.505590    & 0.457073    & 1           & 1           & 1           & 1           & 0           & 0.804987    & 0.3679378  \\\\\n",
       "\t2641984 & 2900        & rs7030607   & 9           & 119245183   &   2.62291   &  3.05103    & 0.0147622   & -1.85315    &   0.3458880 & 0.585620    & 0.397428    & 1           & 1           & 1           & 1           & 0           & 0.873991    & 0.3473485  \\\\\n",
       "\t1376629 & 1511        & rs6084573   & 20          &   4031541   &   2.66205   & -3.08303    & 0.0276224   & -2.14799    &   0.0643210 & 0.516075    & 0.395038    & 1           & 1           & 1           & 1           & 0           & 0.838254    & 0.3311422  \\\\\n",
       "\t924534 & 1014        & rs730300    & 16          &  56293063   &   3.27350   & -3.28836    & 0.0140660   & -2.58426    &   0.2135300 & 0.553181    & 0.365286    & 1           & 1           & 1           & 0           & 0           & 0.874471    & 0.3194320  \\\\\n",
       "\t2380181 & 2609        & rs842441    & 7           & 158556342   &   1.95870   &  2.79894    & 0.0357210   & -1.87255    &  -0.3396880 & 0.415885    & 0.422816    & 1           & 1           & 1           & 1           & 0           & 0.734429    & 0.3105283  \\\\\n",
       "\t1247552 & 1368        & rs11891717  & 2           & 106104335   &   4.95244   &  3.82412    & 0.0165123   & -2.34105    &   2.1486700 & 0.895544    & 0.263541    & 1           & 1           & 1           & 1           & 0           & 0.986751    & 0.2600493  \\\\\n",
       "\\end{tabular}\n"
      ],
      "text/plain": [
       "        chunk id         chr pos       logBF     Z        V         pi      \n",
       "2341288 2566  rs3807989  7   116186241 146.70800 17.53060 0.0134792 -2.02771\n",
       "597343   658  rs7132327  12  115381071  67.43880 12.05290 0.0170303 -4.52247\n",
       "1247554 1368  rs13006682 2   106104856   5.86094  4.08401 0.0184145 -2.34105\n",
       "130962   144  rs1418191  1   173362457   3.11821 -3.26809 0.0332698 -2.03826\n",
       "1929874 2118  rs12332381 5    65814898   3.07196  3.21691 0.0137124 -1.90065\n",
       "1985058 2179  rs10519804 5   124532423   3.16703  3.26430 0.0231344 -2.39752\n",
       "1453875 1594  rs2830965  21   28847771   5.15492 -3.90072 0.0231344 -3.94986\n",
       "1970936 2163  rs9326874  5   112420588   3.59564 -3.39832 0.0141610 -2.68774\n",
       "1499544 1645  rs2267469  22   43306428   4.08924 -3.65643 0.0534072 -3.26159\n",
       "1640303 1797  rs7615524  3   139477714   2.63143 -3.05623 0.0173186 -2.15856\n",
       "2641984 2900  rs7030607  9   119245183   2.62291  3.05103 0.0147622 -1.85315\n",
       "1376629 1511  rs6084573  20    4031541   2.66205 -3.08303 0.0276224 -2.14799\n",
       "924534  1014  rs730300   16   56293063   3.27350 -3.28836 0.0140660 -2.58426\n",
       "2380181 2609  rs842441   7   158556342   1.95870  2.79894 0.0357210 -1.87255\n",
       "1247552 1368  rs11891717 2   106104335   4.95244  3.82412 0.0165123 -2.34105\n",
       "        pseudologPO pseudoPPA PPA.x    H3K27AC NKX25_ASE NKX25 ATAC H3K27AC_ASE\n",
       "2341288 144.2400000 1.000000  0.999995 1       1         1     1    0          \n",
       "597343   62.4012000 1.000000  0.969691 0       1         1     0    0          \n",
       "1247554   3.0571800 0.955091  0.653746 1       1         1     1    0          \n",
       "130962    0.6388890 0.654502  0.660973 1       1         1     1    0          \n",
       "1929874   0.7426940 0.677585  0.569100 1       1         1     1    0          \n",
       "1985058   0.3034740 0.575291  0.594834 1       1         1     1    0          \n",
       "1453875   0.6950240 0.667084  0.536971 0       1         1     1    0          \n",
       "1970936   0.4275870 0.605297  0.466696 1       1         1     1    0          \n",
       "1499544   0.3291260 0.581547  0.421380 1       1         1     0    0          \n",
       "1640303   0.0223599 0.505590  0.457073 1       1         1     1    0          \n",
       "2641984   0.3458880 0.585620  0.397428 1       1         1     1    0          \n",
       "1376629   0.0643210 0.516075  0.395038 1       1         1     1    0          \n",
       "924534    0.2135300 0.553181  0.365286 1       1         1     0    0          \n",
       "2380181  -0.3396880 0.415885  0.422816 1       1         1     1    0          \n",
       "1247552   2.1486700 0.895544  0.263541 1       1         1     1    0          \n",
       "        PPA.y    PPA      \n",
       "2341288 1.000000 0.9999950\n",
       "597343  1.000000 0.9696910\n",
       "1247554 0.986751 0.6450845\n",
       "130962  0.846322 0.5593960\n",
       "1929874 0.879236 0.5003732\n",
       "1985058 0.811354 0.4826209\n",
       "1453875 0.889835 0.4778156\n",
       "1970936 0.871120 0.4065482\n",
       "1499544 0.873911 0.3682486\n",
       "1640303 0.804987 0.3679378\n",
       "2641984 0.873991 0.3473485\n",
       "1376629 0.838254 0.3311422\n",
       "924534  0.874471 0.3194320\n",
       "2380181 0.734429 0.3105283\n",
       "1247552 0.986751 0.2600493"
      ]
     },
     "metadata": {},
     "output_type": "display_data"
    }
   ],
   "source": [
    "head(nkx,15)"
   ]
  },
  {
   "cell_type": "markdown",
   "metadata": {},
   "source": [
    "There are several complelling example for novel sub-threshold loci that could be mediated by NKX2-5, the most intereting:\n",
    "- rs13006682/ FHL2 : the gene has its highest expression in heart ventricle (GTEx) and linked to cardiac hyperthophy (KO mouce no phenotype though) - the SNP distrupt a tbx motif\n",
    "- rs2267469/ PACSIN2 the gene colocalize with CAV1 in the caveolae, heart weight phenotype in the mice invenotry - the snp disrupt nkx2-5 and loops directly to the prmpter of PACSIN2\n",
    "\n",
    "** Check the new snp/gene associations in CARDIPS **"
   ]
  },
  {
   "cell_type": "markdown",
   "metadata": {
    "collapsed": true
   },
   "source": [
    "There is no eQTL for these genes."
   ]
  },
  {
   "cell_type": "code",
   "execution_count": null,
   "metadata": {
    "collapsed": true
   },
   "outputs": [],
   "source": []
  }
 ],
 "metadata": {
  "kernelspec": {
   "display_name": "R",
   "language": "R",
   "name": "ir"
  },
  "language_info": {
   "codemirror_mode": "r",
   "file_extension": ".r",
   "mimetype": "text/x-r-source",
   "name": "R",
   "pygments_lexer": "r",
   "version": "3.2.2"
  }
 },
 "nbformat": 4,
 "nbformat_minor": 1
}
