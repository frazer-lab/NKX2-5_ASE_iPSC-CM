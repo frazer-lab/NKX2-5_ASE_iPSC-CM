{
 "cells": [
  {
   "cell_type": "markdown",
   "metadata": {},
   "source": [
    "### Response to reviewer's comment\n",
    "An indication of the inhomogeneity is the fact that (Supp Table 5) 53% of NKX2.5-mediated CHIP sequences contained Nkx2.1 (non-cardiac) motif, and, many motifs enriched in SRF pull-down in hiPSC-CM belong to neural-specific or endoderm-derived transcription factors. \n",
    "### Our answer\n",
    "We have a different interpretation of the motif enrichment results provided in Supplementary Table 5, now Supplementary Table 4.  We are quite confident that the high enrichment for the Nkx2.1 motif is due to the high similarity of Nkx2.1 and Nkx2.5 motifs (and also with other motifs of the same family) and not to a non-specific pull down of Nkx2.1 from non-cardiac cells. This is supported by the following observations:\n",
    "\n",
    "1)\t~50% of analyzed peaks contained a motif for NKx2.5 and ~ 50% for Nkx2.1. However, the overlap between the two peak sets is >80% - indicating the most of cases the motif was assigned to both Nkx2.1 and Nkx2.5 \n"
   ]
  },
  {
   "cell_type": "code",
   "execution_count": 4,
   "metadata": {
    "collapsed": false
   },
   "outputs": [],
   "source": [
    "setwd(\"/frazer01/home/paola/Family1070/private_output/Homer_motif_enrichment/NKX25\")"
   ]
  },
  {
   "cell_type": "code",
   "execution_count": 9,
   "metadata": {
    "collapsed": true
   },
   "outputs": [],
   "source": [
    "library(stringr)"
   ]
  },
  {
   "cell_type": "code",
   "execution_count": 7,
   "metadata": {
    "collapsed": false
   },
   "outputs": [],
   "source": [
    "mo=read.table(\"location_nkx2.5_2.1_motifs\", sep=\"\\t\", header=T)"
   ]
  },
  {
   "cell_type": "code",
   "execution_count": 12,
   "metadata": {
    "collapsed": true
   },
   "outputs": [],
   "source": [
    "mo$mot=substr(mo$Motif.Name, 1, 6)"
   ]
  },
  {
   "cell_type": "code",
   "execution_count": 125,
   "metadata": {
    "collapsed": false
   },
   "outputs": [],
   "source": [
    "mo$Offset[mo$mot==\"Nkx2.1\"]<-mo$Offset[mo$mot==\"Nkx2.1\"]+1"
   ]
  },
  {
   "cell_type": "code",
   "execution_count": 128,
   "metadata": {
    "collapsed": false
   },
   "outputs": [
    {
     "data": {
      "text/html": [
       "<table>\n",
       "<thead><tr><th scope=col>PositionID</th><th scope=col>Offset</th><th scope=col>Sequence</th><th scope=col>Motif.Name</th><th scope=col>Strand</th><th scope=col>MotifScore</th><th scope=col>mot</th><th scope=col>site</th></tr></thead>\n",
       "<tbody>\n",
       "\t<tr><td>chrY:17672608-17672836                                     </td><td> -9                                                        </td><td>GGGCACTTAA                                                 </td><td>Nkx2.5(Homeobox)/HL1-Nkx2.5.biotin-ChIP-Seq(GSE21529)/Homer</td><td>+                                                          </td><td>7.988864                                                   </td><td>Nkx2.5                                                     </td><td>chrY:17672608-17672836.-9                                  </td></tr>\n",
       "\t<tr><td>chrX:154299009-154299369                                   </td><td> 82                                                        </td><td>TCAAGAGGCC                                                 </td><td>Nkx2.5(Homeobox)/HL1-Nkx2.5.biotin-ChIP-Seq(GSE21529)/Homer</td><td>-                                                          </td><td>6.242726                                                   </td><td>Nkx2.5                                                     </td><td>chrX:154299009-154299369.82                                </td></tr>\n",
       "\t<tr><td>chrX:154003369-154003604                                   </td><td> 19                                                        </td><td>TGAAGTGGTA                                                 </td><td>Nkx2.5(Homeobox)/HL1-Nkx2.5.biotin-ChIP-Seq(GSE21529)/Homer</td><td>-                                                          </td><td>6.529484                                                   </td><td>Nkx2.5                                                     </td><td>chrX:154003369-154003604.19                                </td></tr>\n",
       "\t<tr><td>chrX:153979689-153980767                                   </td><td>-51                                                        </td><td>GGGCTCTTAT                                                 </td><td>Nkx2.5(Homeobox)/HL1-Nkx2.5.biotin-ChIP-Seq(GSE21529)/Homer</td><td>+                                                          </td><td>6.016679                                                   </td><td>Nkx2.5                                                     </td><td>chrX:153979689-153980767.-51                               </td></tr>\n",
       "\t<tr><td>chrX:153979689-153980767                                   </td><td> 70                                                        </td><td>ATCCACTTAA                                                 </td><td>Nkx2.5(Homeobox)/HL1-Nkx2.5.biotin-ChIP-Seq(GSE21529)/Homer</td><td>+                                                          </td><td>7.480661                                                   </td><td>Nkx2.5                                                     </td><td>chrX:153979689-153980767.70                                </td></tr>\n",
       "\t<tr><td>chrX:153979689-153980767                                   </td><td> 69                                                        </td><td>TCAAGAGCCC                                                 </td><td>Nkx2.5(Homeobox)/HL1-Nkx2.5.biotin-ChIP-Seq(GSE21529)/Homer</td><td>-                                                          </td><td>6.172345                                                   </td><td>Nkx2.5                                                     </td><td>chrX:153979689-153980767.69                                </td></tr>\n",
       "</tbody>\n",
       "</table>\n"
      ],
      "text/latex": [
       "\\begin{tabular}{r|llllllll}\n",
       " PositionID & Offset & Sequence & Motif.Name & Strand & MotifScore & mot & site\\\\\n",
       "\\hline\n",
       "\t chrY:17672608-17672836                                      &  -9                                                         & GGGCACTTAA                                                  & Nkx2.5(Homeobox)/HL1-Nkx2.5.biotin-ChIP-Seq(GSE21529)/Homer & +                                                           & 7.988864                                                    & Nkx2.5                                                      & chrY:17672608-17672836.-9                                  \\\\\n",
       "\t chrX:154299009-154299369                                    &  82                                                         & TCAAGAGGCC                                                  & Nkx2.5(Homeobox)/HL1-Nkx2.5.biotin-ChIP-Seq(GSE21529)/Homer & -                                                           & 6.242726                                                    & Nkx2.5                                                      & chrX:154299009-154299369.82                                \\\\\n",
       "\t chrX:154003369-154003604                                    &  19                                                         & TGAAGTGGTA                                                  & Nkx2.5(Homeobox)/HL1-Nkx2.5.biotin-ChIP-Seq(GSE21529)/Homer & -                                                           & 6.529484                                                    & Nkx2.5                                                      & chrX:154003369-154003604.19                                \\\\\n",
       "\t chrX:153979689-153980767                                    & -51                                                         & GGGCTCTTAT                                                  & Nkx2.5(Homeobox)/HL1-Nkx2.5.biotin-ChIP-Seq(GSE21529)/Homer & +                                                           & 6.016679                                                    & Nkx2.5                                                      & chrX:153979689-153980767.-51                               \\\\\n",
       "\t chrX:153979689-153980767                                    &  70                                                         & ATCCACTTAA                                                  & Nkx2.5(Homeobox)/HL1-Nkx2.5.biotin-ChIP-Seq(GSE21529)/Homer & +                                                           & 7.480661                                                    & Nkx2.5                                                      & chrX:153979689-153980767.70                                \\\\\n",
       "\t chrX:153979689-153980767                                    &  69                                                         & TCAAGAGCCC                                                  & Nkx2.5(Homeobox)/HL1-Nkx2.5.biotin-ChIP-Seq(GSE21529)/Homer & -                                                           & 6.172345                                                    & Nkx2.5                                                      & chrX:153979689-153980767.69                                \\\\\n",
       "\\end{tabular}\n"
      ],
      "text/plain": [
       "  PositionID               Offset Sequence  \n",
       "1 chrY:17672608-17672836    -9    GGGCACTTAA\n",
       "2 chrX:154299009-154299369  82    TCAAGAGGCC\n",
       "3 chrX:154003369-154003604  19    TGAAGTGGTA\n",
       "4 chrX:153979689-153980767 -51    GGGCTCTTAT\n",
       "5 chrX:153979689-153980767  70    ATCCACTTAA\n",
       "6 chrX:153979689-153980767  69    TCAAGAGCCC\n",
       "  Motif.Name                                                  Strand MotifScore\n",
       "1 Nkx2.5(Homeobox)/HL1-Nkx2.5.biotin-ChIP-Seq(GSE21529)/Homer +      7.988864  \n",
       "2 Nkx2.5(Homeobox)/HL1-Nkx2.5.biotin-ChIP-Seq(GSE21529)/Homer -      6.242726  \n",
       "3 Nkx2.5(Homeobox)/HL1-Nkx2.5.biotin-ChIP-Seq(GSE21529)/Homer -      6.529484  \n",
       "4 Nkx2.5(Homeobox)/HL1-Nkx2.5.biotin-ChIP-Seq(GSE21529)/Homer +      6.016679  \n",
       "5 Nkx2.5(Homeobox)/HL1-Nkx2.5.biotin-ChIP-Seq(GSE21529)/Homer +      7.480661  \n",
       "6 Nkx2.5(Homeobox)/HL1-Nkx2.5.biotin-ChIP-Seq(GSE21529)/Homer -      6.172345  \n",
       "  mot    site                        \n",
       "1 Nkx2.5 chrY:17672608-17672836.-9   \n",
       "2 Nkx2.5 chrX:154299009-154299369.82 \n",
       "3 Nkx2.5 chrX:154003369-154003604.19 \n",
       "4 Nkx2.5 chrX:153979689-153980767.-51\n",
       "5 Nkx2.5 chrX:153979689-153980767.70 \n",
       "6 Nkx2.5 chrX:153979689-153980767.69 "
      ]
     },
     "metadata": {},
     "output_type": "display_data"
    }
   ],
   "source": [
    "head(mo)"
   ]
  },
  {
   "cell_type": "code",
   "execution_count": 32,
   "metadata": {
    "collapsed": false
   },
   "outputs": [
    {
     "data": {
      "text/html": [
       "<ol class=list-inline>\n",
       "\t<li>62762</li>\n",
       "\t<li>8</li>\n",
       "</ol>\n"
      ],
      "text/latex": [
       "\\begin{enumerate*}\n",
       "\\item 62762\n",
       "\\item 8\n",
       "\\end{enumerate*}\n"
      ],
      "text/markdown": [
       "1. 62762\n",
       "2. 8\n",
       "\n",
       "\n"
      ],
      "text/plain": [
       "[1] 62762     8"
      ]
     },
     "metadata": {},
     "output_type": "display_data"
    }
   ],
   "source": [
    "dim(mo)"
   ]
  },
  {
   "cell_type": "code",
   "execution_count": 57,
   "metadata": {
    "collapsed": false
   },
   "outputs": [
    {
     "data": {
      "text/plain": [
       "\n",
       "Nkx2.1 Nkx2.5 \n",
       " 35471  27291 "
      ]
     },
     "metadata": {},
     "output_type": "display_data"
    }
   ],
   "source": [
    "table(mo$mot)"
   ]
  },
  {
   "cell_type": "code",
   "execution_count": 127,
   "metadata": {
    "collapsed": true
   },
   "outputs": [],
   "source": [
    "mo$site = paste(mo$PositionID, mo$Offset, sep=\".\")"
   ]
  },
  {
   "cell_type": "code",
   "execution_count": 130,
   "metadata": {
    "collapsed": false
   },
   "outputs": [],
   "source": [
    "test= aggregate(mot~site, mo, paste, collapse=\",\")"
   ]
  },
  {
   "cell_type": "code",
   "execution_count": 138,
   "metadata": {
    "collapsed": false
   },
   "outputs": [
    {
     "data": {
      "text/plain": [
       "\n",
       "              Nkx2.1        Nkx2.1,Nkx2.1               Nkx2.5 \n",
       "               24097                   12                15940 \n",
       "       Nkx2.5,Nkx2.1 Nkx2.5,Nkx2.1,Nkx2.1        Nkx2.5,Nkx2.5 \n",
       "               11277                   26                    3 \n",
       "Nkx2.5,Nkx2.5,Nkx2.1 \n",
       "                  21 "
      ]
     },
     "metadata": {},
     "output_type": "display_data"
    }
   ],
   "source": [
    "table(test$mot)"
   ]
  },
  {
   "cell_type": "code",
   "execution_count": 148,
   "metadata": {
    "collapsed": true
   },
   "outputs": [],
   "source": [
    "mo_25= subset(mo, mot==\"Nkx2.5\")\n",
    "mo_21= subset(mo, mot==\"Nkx2.1\")\n",
    "momer=merge(mo_25[,c('PositionID','Offset' ,'MotifScore', \"Strand\")], mo_21[,c('PositionID','Offset' ,'MotifScore', \"Strand\")], by=\"PositionID\")"
   ]
  },
  {
   "cell_type": "code",
   "execution_count": 149,
   "metadata": {
    "collapsed": false
   },
   "outputs": [
    {
     "data": {
      "text/html": [
       "<table>\n",
       "<thead><tr><th scope=col>PositionID</th><th scope=col>Offset.x</th><th scope=col>MotifScore.x</th><th scope=col>Strand.x</th><th scope=col>Offset.y</th><th scope=col>MotifScore.y</th><th scope=col>Strand.y</th></tr></thead>\n",
       "<tbody>\n",
       "\t<tr><td>chr1:100294882-100295119</td><td>-48                     </td><td>7.230772                </td><td>+                       </td><td>-46                     </td><td>8.166627                </td><td>+                       </td></tr>\n",
       "\t<tr><td>chr1:100294882-100295119</td><td>-48                     </td><td>7.230772                </td><td>+                       </td><td>-15                     </td><td>6.193920                </td><td>-                       </td></tr>\n",
       "\t<tr><td>chr1:100294882-100295119</td><td>-15                     </td><td>6.161865                </td><td>-                       </td><td>-46                     </td><td>8.166627                </td><td>+                       </td></tr>\n",
       "\t<tr><td>chr1:100294882-100295119</td><td>-15                     </td><td>6.161865                </td><td>-                       </td><td>-15                     </td><td>6.193920                </td><td>-                       </td></tr>\n",
       "\t<tr><td>chr1:100315077-100315289</td><td> 74                     </td><td>6.050005                </td><td>+                       </td><td>-75                     </td><td>6.088604                </td><td>-                       </td></tr>\n",
       "\t<tr><td>chr1:10045228-10045570  </td><td>-38                     </td><td>7.047300                </td><td>-                       </td><td>-38                     </td><td>6.845677                </td><td>-                       </td></tr>\n",
       "</tbody>\n",
       "</table>\n"
      ],
      "text/latex": [
       "\\begin{tabular}{r|lllllll}\n",
       " PositionID & Offset.x & MotifScore.x & Strand.x & Offset.y & MotifScore.y & Strand.y\\\\\n",
       "\\hline\n",
       "\t chr1:100294882-100295119 & -48                      & 7.230772                 & +                        & -46                      & 8.166627                 & +                       \\\\\n",
       "\t chr1:100294882-100295119 & -48                      & 7.230772                 & +                        & -15                      & 6.193920                 & -                       \\\\\n",
       "\t chr1:100294882-100295119 & -15                      & 6.161865                 & -                        & -46                      & 8.166627                 & +                       \\\\\n",
       "\t chr1:100294882-100295119 & -15                      & 6.161865                 & -                        & -15                      & 6.193920                 & -                       \\\\\n",
       "\t chr1:100315077-100315289 &  74                      & 6.050005                 & +                        & -75                      & 6.088604                 & -                       \\\\\n",
       "\t chr1:10045228-10045570   & -38                      & 7.047300                 & -                        & -38                      & 6.845677                 & -                       \\\\\n",
       "\\end{tabular}\n"
      ],
      "text/plain": [
       "  PositionID               Offset.x MotifScore.x Strand.x Offset.y MotifScore.y\n",
       "1 chr1:100294882-100295119 -48      7.230772     +        -46      8.166627    \n",
       "2 chr1:100294882-100295119 -48      7.230772     +        -15      6.193920    \n",
       "3 chr1:100294882-100295119 -15      6.161865     -        -46      8.166627    \n",
       "4 chr1:100294882-100295119 -15      6.161865     -        -15      6.193920    \n",
       "5 chr1:100315077-100315289  74      6.050005     +        -75      6.088604    \n",
       "6 chr1:10045228-10045570   -38      7.047300     -        -38      6.845677    \n",
       "  Strand.y\n",
       "1 +       \n",
       "2 -       \n",
       "3 +       \n",
       "4 -       \n",
       "5 -       \n",
       "6 -       "
      ]
     },
     "metadata": {},
     "output_type": "display_data"
    },
    {
     "data": {
      "text/html": [
       "<ol class=list-inline>\n",
       "\t<li>46544</li>\n",
       "\t<li>7</li>\n",
       "</ol>\n"
      ],
      "text/latex": [
       "\\begin{enumerate*}\n",
       "\\item 46544\n",
       "\\item 7\n",
       "\\end{enumerate*}\n"
      ],
      "text/markdown": [
       "1. 46544\n",
       "2. 7\n",
       "\n",
       "\n"
      ],
      "text/plain": [
       "[1] 46544     7"
      ]
     },
     "metadata": {},
     "output_type": "display_data"
    }
   ],
   "source": [
    "head(momer)\n",
    "dim(momer)"
   ]
  },
  {
   "cell_type": "code",
   "execution_count": 150,
   "metadata": {
    "collapsed": true
   },
   "outputs": [],
   "source": [
    "momer$offset= abs(momer$Offset.x)-abs(momer$Offset.y)"
   ]
  },
  {
   "cell_type": "code",
   "execution_count": 151,
   "metadata": {
    "collapsed": true
   },
   "outputs": [],
   "source": [
    "momer=momer[order(abs(momer$offset), decreasing=F),]\n",
    "momer=subset(momer, !duplicated(momer$PositionID))"
   ]
  },
  {
   "cell_type": "code",
   "execution_count": 153,
   "metadata": {
    "collapsed": false
   },
   "outputs": [
    {
     "data": {
      "text/html": [
       "<ol class=list-inline>\n",
       "\t<li>17799</li>\n",
       "\t<li>8</li>\n",
       "</ol>\n"
      ],
      "text/latex": [
       "\\begin{enumerate*}\n",
       "\\item 17799\n",
       "\\item 8\n",
       "\\end{enumerate*}\n"
      ],
      "text/markdown": [
       "1. 17799\n",
       "2. 8\n",
       "\n",
       "\n"
      ],
      "text/plain": [
       "[1] 17799     8"
      ]
     },
     "metadata": {},
     "output_type": "display_data"
    }
   ],
   "source": [
    "dim(momer)"
   ]
  },
  {
   "cell_type": "code",
   "execution_count": 152,
   "metadata": {
    "collapsed": false
   },
   "outputs": [
    {
     "data": {
      "image/png": "[encoded data removed]",
      "text/plain": [
       "Plot with title “Histogram of momer$offset”"
      ]
     },
     "metadata": {},
     "output_type": "display_data"
    }
   ],
   "source": [
    "hist(momer$offset)"
   ]
  },
  {
   "cell_type": "markdown",
   "metadata": {},
   "source": [
    "### Using annotate Peaks.pl"
   ]
  },
  {
   "cell_type": "code",
   "execution_count": 81,
   "metadata": {
    "collapsed": false
   },
   "outputs": [
    {
     "name": "stderr",
     "output_type": "stream",
     "text": [
      "Warning message in scan(file, what, nmax, sep, dec, quote, skip, nlines, na.strings, :\n",
      "“EOF within quoted string”"
     ]
    }
   ],
   "source": [
    "mot2 = read.table(\"annotated_peaks_nkx2521\", sep=\"\\t\", header=T, fill=T)"
   ]
  },
  {
   "cell_type": "code",
   "execution_count": 85,
   "metadata": {
    "collapsed": false
   },
   "outputs": [],
   "source": [
    "mot2 = mot2[,c(1,22,23 )]"
   ]
  },
  {
   "cell_type": "code",
   "execution_count": 87,
   "metadata": {
    "collapsed": false
   },
   "outputs": [],
   "source": [
    "colnames(mot2)=c(\"peak\", \"NKX2.5\", \"NKX2.1\")"
   ]
  },
  {
   "cell_type": "code",
   "execution_count": 88,
   "metadata": {
    "collapsed": false
   },
   "outputs": [
    {
     "data": {
      "text/html": [
       "<ol class=list-inline>\n",
       "\t<li>18846</li>\n",
       "\t<li>3</li>\n",
       "</ol>\n"
      ],
      "text/latex": [
       "\\begin{enumerate*}\n",
       "\\item 18846\n",
       "\\item 3\n",
       "\\end{enumerate*}\n"
      ],
      "text/markdown": [
       "1. 18846\n",
       "2. 3\n",
       "\n",
       "\n"
      ],
      "text/plain": [
       "[1] 18846     3"
      ]
     },
     "metadata": {},
     "output_type": "display_data"
    }
   ],
   "source": [
    "dim(mot2)"
   ]
  },
  {
   "cell_type": "code",
   "execution_count": 112,
   "metadata": {
    "collapsed": false
   },
   "outputs": [],
   "source": [
    "mot3=subset(mot2, rowSums (mot2[,c(2:3)]==\"\")<2)"
   ]
  },
  {
   "cell_type": "code",
   "execution_count": 115,
   "metadata": {
    "collapsed": false
   },
   "outputs": [
    {
     "data": {
      "text/html": [
       "<table>\n",
       "<thead><tr><th scope=col>peak</th><th scope=col>NKX2.5</th><th scope=col>NKX2.1</th></tr></thead>\n",
       "<tbody>\n",
       "\t<tr><td>chr1:202320931-202321293                                                                                          </td><td>347(AAGCACTTGT,+,0.00)                                                                                            </td><td>175(AATACTTGAG,+,0.00)                                                                                            </td></tr>\n",
       "\t<tr><td>chr8:39928255-39928874                                                                                            </td><td>210(AAGCACTTAA,+,0.00),219(ATCCACTCAA,+,0.00),338(TGAAGTGTTT,-,0.00),387(TCAAGTGCTG,-,0.00)                       </td><td>162(GTGAAGAGGT,-,0.00),211(AGCACTTAAT,+,0.00),220(TCCACTCAAA,+,0.00),337(CTGAAGTGTT,-,0.00),386(TTCAAGTGCT,-,0.00)</td></tr>\n",
       "\t<tr><td>chr12:50846026-50846318                                                                                           </td><td>170(TCAAGTGCTT,-,0.00),190(AACCTCTCAA,+,0.00)                                                                     </td><td>16(CTGGAGTGCG,-,0.00),169(CTCAAGTGCT,-,0.00),191(ACCTCTCAAA,+,0.00)                                               </td></tr>\n",
       "\t<tr><td>chr17:74733107-74734609                                                                                           </td><td>139(CTGAGTGGCG,-,0.00),689(AAGAGTGCTT,-,0.00),1045(GGCCCCTCAA,+,0.00),1450(TGAAGTGCCC,-,0.00)                     </td><td>138(TCTGAGTGGC,-,0.00),206(GCCTCTCAGG,+,0.00),1017(GGCACTTGGC,+,0.00),1449(TTGAAGTGCC,-,0.00)                     </td></tr>\n",
       "\t<tr><td>chr5:171710282-171710548                                                                                          </td><td>                                                                                                                  </td><td>13(CTGGAGAGGG,-,0.00)                                                                                             </td></tr>\n",
       "\t<tr><td>chr15:89660686-89661168                                                                                           </td><td>                                                                                                                  </td><td>180(CTCAAGTGTG,-,0.00),263(ACCTCTCATC,+,0.00)                                                                     </td></tr>\n",
       "</tbody>\n",
       "</table>\n"
      ],
      "text/latex": [
       "\\begin{tabular}{r|lll}\n",
       " peak & NKX2.5 & NKX2.1\\\\\n",
       "\\hline\n",
       "\t chr1:202320931-202321293                                                                                           & 347(AAGCACTTGT,+,0.00)                                                                                             & 175(AATACTTGAG,+,0.00)                                                                                            \\\\\n",
       "\t chr8:39928255-39928874                                                                                             & 210(AAGCACTTAA,+,0.00),219(ATCCACTCAA,+,0.00),338(TGAAGTGTTT,-,0.00),387(TCAAGTGCTG,-,0.00)                        & 162(GTGAAGAGGT,-,0.00),211(AGCACTTAAT,+,0.00),220(TCCACTCAAA,+,0.00),337(CTGAAGTGTT,-,0.00),386(TTCAAGTGCT,-,0.00)\\\\\n",
       "\t chr12:50846026-50846318                                                                                            & 170(TCAAGTGCTT,-,0.00),190(AACCTCTCAA,+,0.00)                                                                      & 16(CTGGAGTGCG,-,0.00),169(CTCAAGTGCT,-,0.00),191(ACCTCTCAAA,+,0.00)                                               \\\\\n",
       "\t chr17:74733107-74734609                                                                                            & 139(CTGAGTGGCG,-,0.00),689(AAGAGTGCTT,-,0.00),1045(GGCCCCTCAA,+,0.00),1450(TGAAGTGCCC,-,0.00)                      & 138(TCTGAGTGGC,-,0.00),206(GCCTCTCAGG,+,0.00),1017(GGCACTTGGC,+,0.00),1449(TTGAAGTGCC,-,0.00)                     \\\\\n",
       "\t chr5:171710282-171710548                                                                                           &                                                                                                                    & 13(CTGGAGAGGG,-,0.00)                                                                                             \\\\\n",
       "\t chr15:89660686-89661168                                                                                            &                                                                                                                    & 180(CTCAAGTGTG,-,0.00),263(ACCTCTCATC,+,0.00)                                                                     \\\\\n",
       "\\end{tabular}\n"
      ],
      "text/plain": [
       "  peak                    \n",
       "1 chr1:202320931-202321293\n",
       "2 chr8:39928255-39928874  \n",
       "3 chr12:50846026-50846318 \n",
       "4 chr17:74733107-74734609 \n",
       "5 chr5:171710282-171710548\n",
       "6 chr15:89660686-89661168 \n",
       "  NKX2.5                                                                                       \n",
       "1 347(AAGCACTTGT,+,0.00)                                                                       \n",
       "2 210(AAGCACTTAA,+,0.00),219(ATCCACTCAA,+,0.00),338(TGAAGTGTTT,-,0.00),387(TCAAGTGCTG,-,0.00)  \n",
       "3 170(TCAAGTGCTT,-,0.00),190(AACCTCTCAA,+,0.00)                                                \n",
       "4 139(CTGAGTGGCG,-,0.00),689(AAGAGTGCTT,-,0.00),1045(GGCCCCTCAA,+,0.00),1450(TGAAGTGCCC,-,0.00)\n",
       "5                                                                                              \n",
       "6                                                                                              \n",
       "  NKX2.1                                                                                                            \n",
       "1 175(AATACTTGAG,+,0.00)                                                                                            \n",
       "2 162(GTGAAGAGGT,-,0.00),211(AGCACTTAAT,+,0.00),220(TCCACTCAAA,+,0.00),337(CTGAAGTGTT,-,0.00),386(TTCAAGTGCT,-,0.00)\n",
       "3 16(CTGGAGTGCG,-,0.00),169(CTCAAGTGCT,-,0.00),191(ACCTCTCAAA,+,0.00)                                               \n",
       "4 138(TCTGAGTGGC,-,0.00),206(GCCTCTCAGG,+,0.00),1017(GGCACTTGGC,+,0.00),1449(TTGAAGTGCC,-,0.00)                     \n",
       "5 13(CTGGAGAGGG,-,0.00)                                                                                             \n",
       "6 180(CTCAAGTGTG,-,0.00),263(ACCTCTCATC,+,0.00)                                                                     "
      ]
     },
     "metadata": {},
     "output_type": "display_data"
    }
   ],
   "source": [
    "head(mot3)"
   ]
  },
  {
   "cell_type": "code",
   "execution_count": 114,
   "metadata": {
    "collapsed": false
   },
   "outputs": [
    {
     "data": {
      "text/html": [
       "<ol class=list-inline>\n",
       "\t<li>18846</li>\n",
       "\t<li>3</li>\n",
       "</ol>\n"
      ],
      "text/latex": [
       "\\begin{enumerate*}\n",
       "\\item 18846\n",
       "\\item 3\n",
       "\\end{enumerate*}\n"
      ],
      "text/markdown": [
       "1. 18846\n",
       "2. 3\n",
       "\n",
       "\n"
      ],
      "text/plain": [
       "[1] 18846     3"
      ]
     },
     "metadata": {},
     "output_type": "display_data"
    },
    {
     "data": {
      "text/html": [
       "<ol class=list-inline>\n",
       "\t<li>15202</li>\n",
       "\t<li>3</li>\n",
       "</ol>\n"
      ],
      "text/latex": [
       "\\begin{enumerate*}\n",
       "\\item 15202\n",
       "\\item 3\n",
       "\\end{enumerate*}\n"
      ],
      "text/markdown": [
       "1. 15202\n",
       "2. 3\n",
       "\n",
       "\n"
      ],
      "text/plain": [
       "[1] 15202     3"
      ]
     },
     "metadata": {},
     "output_type": "display_data"
    }
   ],
   "source": [
    "dim(mot2)\n",
    "dim(mot3)"
   ]
  },
  {
   "cell_type": "code",
   "execution_count": 123,
   "metadata": {
    "collapsed": false
   },
   "outputs": [
    {
     "data": {
      "text/plain": [
       "\n",
       "FALSE  TRUE \n",
       " 1163 14039 "
      ]
     },
     "metadata": {},
     "output_type": "display_data"
    }
   ],
   "source": [
    "table(mot3$NKX2.1!=\"\")"
   ]
  },
  {
   "cell_type": "code",
   "execution_count": 155,
   "metadata": {
    "collapsed": false
   },
   "outputs": [
    {
     "data": {
      "text/html": [
       "0.908157624575535"
      ],
      "text/latex": [
       "0.908157624575535"
      ],
      "text/markdown": [
       "0.908157624575535"
      ],
      "text/plain": [
       "[1] 0.9081576"
      ]
     },
     "metadata": {},
     "output_type": "display_data"
    }
   ],
   "source": [
    "11500/12663"
   ]
  },
  {
   "cell_type": "code",
   "execution_count": null,
   "metadata": {
    "collapsed": true
   },
   "outputs": [],
   "source": []
  }
 ],
 "metadata": {
  "kernelspec": {
   "display_name": "R",
   "language": "R",
   "name": "ir"
  },
  "language_info": {
   "codemirror_mode": "r",
   "file_extension": ".r",
   "mimetype": "text/x-r-source",
   "name": "R",
   "pygments_lexer": "r",
   "version": "3.2.2"
  }
 },
 "nbformat": 4,
 "nbformat_minor": 0
}
