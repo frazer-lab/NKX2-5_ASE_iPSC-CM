{
 "cells": [
  {
   "cell_type": "markdown",
   "metadata": {},
   "source": [
    "### Prepare tables to run fGWAS fine mapping using chromatin annotations using Bill's pipeline"
   ]
  },
  {
   "cell_type": "code",
   "execution_count": 1,
   "metadata": {
    "collapsed": false
   },
   "outputs": [],
   "source": [
    "suppressPackageStartupMessages(library(\"tidyr\"))\n",
    "options(scipen=999)"
   ]
  },
  {
   "cell_type": "code",
   "execution_count": 2,
   "metadata": {
    "collapsed": true
   },
   "outputs": [],
   "source": [
    "suppressPackageStartupMessages(library(\"stringr\"))"
   ]
  },
  {
   "cell_type": "code",
   "execution_count": 33,
   "metadata": {
    "collapsed": true
   },
   "outputs": [],
   "source": [
    "home=\"/home/paola/Family1070/private_output/fgwas_analysis/A_fib/preprocessing/\"\n",
    "setwd(home)"
   ]
  },
  {
   "cell_type": "code",
   "execution_count": 4,
   "metadata": {
    "collapsed": false
   },
   "outputs": [],
   "source": [
    "gwas = read.table(\"/publicdata/gwas_summary_stats_20180124/AF_Christophersen2017/AF_GWAS_ALLv31_maf0.01.txt\", \n",
    "                  header=T, sep=\"\\t\")"
   ]
  },
  {
   "cell_type": "code",
   "execution_count": 6,
   "metadata": {
    "collapsed": false
   },
   "outputs": [
    {
     "data": {
      "text/html": [
       "11792062"
      ],
      "text/latex": [
       "11792062"
      ],
      "text/markdown": [
       "11792062"
      ],
      "text/plain": [
       "[1] 11792062"
      ]
     },
     "metadata": {},
     "output_type": "display_data"
    }
   ],
   "source": [
    "nrow(gwas)"
   ]
  },
  {
   "cell_type": "code",
   "execution_count": 7,
   "metadata": {
    "collapsed": false
   },
   "outputs": [],
   "source": [
    "colnames(gwas)= c(\"SNPID\",  \"A1\", \"A2\", \"CHR\", \"POS\",  \"Beta\", \"SE\", \"P_VALUE\")"
   ]
  },
  {
   "cell_type": "code",
   "execution_count": 8,
   "metadata": {
    "collapsed": true
   },
   "outputs": [],
   "source": [
    "required = c(\"SNPID\", \"CHR\", \"POS\", \"SE\", \"Z\", \"F\", \"N\")"
   ]
  },
  {
   "cell_type": "code",
   "execution_count": 9,
   "metadata": {
    "collapsed": true
   },
   "outputs": [],
   "source": [
    "gwas$Z = gwas$Beta /gwas$SE\n",
    "gwas$N = '.'\n",
    "gwas$F = '.'"
   ]
  },
  {
   "cell_type": "code",
   "execution_count": 10,
   "metadata": {
    "collapsed": true
   },
   "outputs": [],
   "source": [
    "gwas$POS_1 = gwas$POS -1"
   ]
  },
  {
   "cell_type": "code",
   "execution_count": 11,
   "metadata": {
    "collapsed": false
   },
   "outputs": [
    {
     "data": {
      "text/html": [
       "0"
      ],
      "text/latex": [
       "0"
      ],
      "text/markdown": [
       "0"
      ],
      "text/plain": [
       "[1] 0"
      ]
     },
     "metadata": {},
     "output_type": "display_data"
    }
   ],
   "source": [
    "sum(is.na(gwas$SNPID))"
   ]
  },
  {
   "cell_type": "markdown",
   "metadata": {},
   "source": [
    "Annotate with regulatory regions and ASE"
   ]
  },
  {
   "cell_type": "code",
   "execution_count": 12,
   "metadata": {
    "collapsed": false
   },
   "outputs": [],
   "source": [
    "write.table(gwas[,c(\"CHR\",\"POS_1\",\"POS\",\"SNPID\")], \"AF.bed\", row.names=F, col.names=F, quote=F, sep=\"\\t\")"
   ]
  },
  {
   "cell_type": "code",
   "execution_count": 13,
   "metadata": {
    "collapsed": true
   },
   "outputs": [],
   "source": [
    "annotate_gwas = function( regiofile, annofile ){\n",
    "    system(paste(\"bedtools intersect -a\" ,  regiofile, \"-b\", annofile , \"-wo > intesect_results\"))\n",
    "    annot = read.table(\"intesect_results\")  \n",
    "    annot = annot[!duplicated(annot),]\n",
    "    annot_wide <- spread(annot[,c(1:4,8,9)], V8, V9)\n",
    "    annot_wide [is.na(annot_wide)]<-0\n",
    "    colnames(annot_wide)[1:4] = c(\"CHR\", \"START\", \"POS\", \"SNPID\")\n",
    "    return(annot_wide)\n",
    "   }"
   ]
  },
  {
   "cell_type": "code",
   "execution_count": 14,
   "metadata": {
    "collapsed": true
   },
   "outputs": [],
   "source": [
    "anno = annotate_gwas('AF.bed', 'frazer_lab_cm_annotations.bed')"
   ]
  },
  {
   "cell_type": "code",
   "execution_count": 15,
   "metadata": {
    "collapsed": false
   },
   "outputs": [
    {
     "data": {
      "text/html": [
       "<table>\n",
       "<thead><tr><th scope=col>CHR</th><th scope=col>START</th><th scope=col>POS</th><th scope=col>SNPID</th><th scope=col>ATAC</th><th scope=col>H3K27AC</th><th scope=col>NKX25</th></tr></thead>\n",
       "<tbody>\n",
       "\t<tr><td>1           </td><td>714018      </td><td>714019      </td><td>rs114983708 </td><td>1           </td><td>1           </td><td>1           </td></tr>\n",
       "\t<tr><td>1           </td><td>714426      </td><td>714427      </td><td>rs12028261  </td><td>0           </td><td>1           </td><td>0           </td></tr>\n",
       "\t<tr><td>1           </td><td>715264      </td><td>715265      </td><td>rs12184267  </td><td>0           </td><td>1           </td><td>0           </td></tr>\n",
       "\t<tr><td>1           </td><td>760997      </td><td>760998      </td><td>rs148828841 </td><td>0           </td><td>1           </td><td>0           </td></tr>\n",
       "\t<tr><td>1           </td><td>761146      </td><td>761147      </td><td>rs3115850   </td><td>0           </td><td>1           </td><td>0           </td></tr>\n",
       "\t<tr><td>1           </td><td>761955      </td><td>761956      </td><td>1:761956:i:r</td><td>0           </td><td>1           </td><td>0           </td></tr>\n",
       "</tbody>\n",
       "</table>\n"
      ],
      "text/latex": [
       "\\begin{tabular}{r|lllllll}\n",
       " CHR & START & POS & SNPID & ATAC & H3K27AC & NKX25\\\\\n",
       "\\hline\n",
       "\t 1            & 714018       & 714019       & rs114983708  & 1            & 1            & 1           \\\\\n",
       "\t 1            & 714426       & 714427       & rs12028261   & 0            & 1            & 0           \\\\\n",
       "\t 1            & 715264       & 715265       & rs12184267   & 0            & 1            & 0           \\\\\n",
       "\t 1            & 760997       & 760998       & rs148828841  & 0            & 1            & 0           \\\\\n",
       "\t 1            & 761146       & 761147       & rs3115850    & 0            & 1            & 0           \\\\\n",
       "\t 1            & 761955       & 761956       & 1:761956:i:r & 0            & 1            & 0           \\\\\n",
       "\\end{tabular}\n"
      ],
      "text/plain": [
       "  CHR START  POS    SNPID        ATAC H3K27AC NKX25\n",
       "1 1   714018 714019 rs114983708  1    1       1    \n",
       "2 1   714426 714427 rs12028261   0    1       0    \n",
       "3 1   715264 715265 rs12184267   0    1       0    \n",
       "4 1   760997 760998 rs148828841  0    1       0    \n",
       "5 1   761146 761147 rs3115850    0    1       0    \n",
       "6 1   761955 761956 1:761956:i:r 0    1       0    "
      ]
     },
     "metadata": {},
     "output_type": "display_data"
    }
   ],
   "source": [
    "head(anno)"
   ]
  },
  {
   "cell_type": "code",
   "execution_count": 16,
   "metadata": {
    "collapsed": false
   },
   "outputs": [],
   "source": [
    "m = merge(gwas, anno, by= c('CHR','POS', 'SNPID'), all.x=TRUE)"
   ]
  },
  {
   "cell_type": "code",
   "execution_count": 17,
   "metadata": {
    "collapsed": false
   },
   "outputs": [
    {
     "data": {
      "text/html": [
       "<ol class=list-inline>\n",
       "\t<li>469848</li>\n",
       "\t<li>7</li>\n",
       "</ol>\n"
      ],
      "text/latex": [
       "\\begin{enumerate*}\n",
       "\\item 469848\n",
       "\\item 7\n",
       "\\end{enumerate*}\n"
      ],
      "text/markdown": [
       "1. 469848\n",
       "2. 7\n",
       "\n",
       "\n"
      ],
      "text/plain": [
       "[1] 469848      7"
      ]
     },
     "metadata": {},
     "output_type": "display_data"
    }
   ],
   "source": [
    "dim(anno)"
   ]
  },
  {
   "cell_type": "code",
   "execution_count": 18,
   "metadata": {
    "collapsed": true
   },
   "outputs": [],
   "source": [
    "m [is.na(m)]<-0"
   ]
  },
  {
   "cell_type": "code",
   "execution_count": 19,
   "metadata": {
    "collapsed": false
   },
   "outputs": [
    {
     "data": {
      "text/html": [
       "<ol class=list-inline>\n",
       "\t<li>11792062</li>\n",
       "\t<li>16</li>\n",
       "</ol>\n"
      ],
      "text/latex": [
       "\\begin{enumerate*}\n",
       "\\item 11792062\n",
       "\\item 16\n",
       "\\end{enumerate*}\n"
      ],
      "text/markdown": [
       "1. 11792062\n",
       "2. 16\n",
       "\n",
       "\n"
      ],
      "text/plain": [
       "[1] 11792062       16"
      ]
     },
     "metadata": {},
     "output_type": "display_data"
    }
   ],
   "source": [
    "dim(m)"
   ]
  },
  {
   "cell_type": "code",
   "execution_count": 20,
   "metadata": {
    "collapsed": true
   },
   "outputs": [],
   "source": [
    "nkx_ase = readLines(\"NKX25_ASE_rsids.txt\")\n",
    "h3k_ase = readLines(\"H3K27AC_ASE_rsids.txt\")"
   ]
  },
  {
   "cell_type": "code",
   "execution_count": 21,
   "metadata": {
    "collapsed": false
   },
   "outputs": [],
   "source": [
    "m$NKX25_ASE = as.numeric(m$SNPID %in% nkx_ase)\n",
    "m$H3K27AC_ASE = as.numeric(m$SNPID %in% h3k_ase)"
   ]
  },
  {
   "cell_type": "code",
   "execution_count": 22,
   "metadata": {
    "collapsed": false
   },
   "outputs": [],
   "source": [
    "m = m[!duplicated(m),]"
   ]
  },
  {
   "cell_type": "code",
   "execution_count": 23,
   "metadata": {
    "collapsed": false
   },
   "outputs": [
    {
     "data": {
      "text/html": [
       "374815"
      ],
      "text/latex": [
       "374815"
      ],
      "text/markdown": [
       "374815"
      ],
      "text/plain": [
       "[1] 374815"
      ]
     },
     "metadata": {},
     "output_type": "display_data"
    }
   ],
   "source": [
    "sum(duplicated(gwas$POS))"
   ]
  },
  {
   "cell_type": "code",
   "execution_count": 24,
   "metadata": {
    "collapsed": false
   },
   "outputs": [
    {
     "data": {
      "text/html": [
       "<ol class=list-inline>\n",
       "\t<li>11792062</li>\n",
       "\t<li>18</li>\n",
       "</ol>\n"
      ],
      "text/latex": [
       "\\begin{enumerate*}\n",
       "\\item 11792062\n",
       "\\item 18\n",
       "\\end{enumerate*}\n"
      ],
      "text/markdown": [
       "1. 11792062\n",
       "2. 18\n",
       "\n",
       "\n"
      ],
      "text/plain": [
       "[1] 11792062       18"
      ]
     },
     "metadata": {},
     "output_type": "display_data"
    }
   ],
   "source": [
    "dim(m)"
   ]
  },
  {
   "cell_type": "markdown",
   "metadata": {},
   "source": [
    "remove duplicated SNPs (merged / renames SNPs)"
   ]
  },
  {
   "cell_type": "code",
   "execution_count": 25,
   "metadata": {
    "collapsed": false
   },
   "outputs": [],
   "source": [
    "m = m[with(m, order(SE)),]\n",
    "m = m[!duplicated( m[,c(\"CHR\", \"POS\")]),]     \n",
    "m = m[with(m, order(CHR, POS)),]"
   ]
  },
  {
   "cell_type": "markdown",
   "metadata": {},
   "source": [
    "remove chr Y and M"
   ]
  },
  {
   "cell_type": "code",
   "execution_count": 26,
   "metadata": {
    "collapsed": false
   },
   "outputs": [],
   "source": [
    "m =subset(m, !(CHR %in% c(\"M\", \"Y\")))"
   ]
  },
  {
   "cell_type": "code",
   "execution_count": 27,
   "metadata": {
    "collapsed": false
   },
   "outputs": [],
   "source": [
    "mori = subset(m, select = as.character(c(\"SNPID\", \"CHR\", \"POS\", \"P_VALUE\" )))"
   ]
  },
  {
   "cell_type": "code",
   "execution_count": 28,
   "metadata": {
    "collapsed": true
   },
   "outputs": [],
   "source": [
    "write.table(mori, \"../Original_input\", col.names=T, row.names=F, sep=\"\\t\",quote=F)"
   ]
  },
  {
   "cell_type": "code",
   "execution_count": 29,
   "metadata": {
    "collapsed": false
   },
   "outputs": [],
   "source": [
    "mano = subset(m, select = c( required, 'ATAC','H3K27AC','NKX25','NKX25_ASE','H3K27AC_ASE' ))"
   ]
  },
  {
   "cell_type": "code",
   "execution_count": 30,
   "metadata": {
    "collapsed": false
   },
   "outputs": [
    {
     "data": {
      "text/html": [
       "<ol class=list-inline>\n",
       "\t<li>11779664</li>\n",
       "\t<li>12</li>\n",
       "</ol>\n"
      ],
      "text/latex": [
       "\\begin{enumerate*}\n",
       "\\item 11779664\n",
       "\\item 12\n",
       "\\end{enumerate*}\n"
      ],
      "text/markdown": [
       "1. 11779664\n",
       "2. 12\n",
       "\n",
       "\n"
      ],
      "text/plain": [
       "[1] 11779664       12"
      ]
     },
     "metadata": {},
     "output_type": "display_data"
    }
   ],
   "source": [
    "dim(mano)"
   ]
  },
  {
   "cell_type": "code",
   "execution_count": 31,
   "metadata": {
    "collapsed": true
   },
   "outputs": [],
   "source": [
    "write.table(mano, \"Annotated_input\", col.names=T, row.names=F, sep=\" \",quote=F)"
   ]
  },
  {
   "cell_type": "code",
   "execution_count": 35,
   "metadata": {
    "collapsed": false
   },
   "outputs": [
    {
     "data": {
      "text/html": [
       "4000"
      ],
      "text/latex": [
       "4000"
      ],
      "text/markdown": [
       "4000"
      ],
      "text/plain": [
       "[1] 4000"
      ]
     },
     "metadata": {},
     "output_type": "display_data"
    }
   ],
   "source": [
    "5000/1.25"
   ]
  },
  {
   "cell_type": "markdown",
   "metadata": {},
   "source": [
    "Remember to run the fgwas command to determine the size of the chunks for the analysis (-k)\n",
    "for this analysis fgwas k = 4000 ( 5000/1.25 Mb)"
   ]
  },
  {
   "cell_type": "markdown",
   "metadata": {
    "collapsed": true
   },
   "source": [
    "### Read Results"
   ]
  },
  {
   "cell_type": "markdown",
   "metadata": {},
   "source": [
    "There are only two loci for Atrial fiblillation associated with ASE ( however many have the peak- maybe variants not tested in the family)\n",
    "1. CAV1 (strong signal that is present in manu atrial phenotypes: PR interval, P-vawe and A-fib)\n",
    "2. SCN10A/SCN5A "
   ]
  },
  {
   "cell_type": "code",
   "execution_count": 70,
   "metadata": {
    "collapsed": false
   },
   "outputs": [],
   "source": [
    "res = read.table('../pipeline_out/Final_Model/Final_Model.bfs', header=T)\n",
    "seg = read.table('../pipeline_out/Final_Model/Final_Model.segbfs', header=T)\n",
    "res = merge(res,seg[,c('chunk', 'PPA')], by=\"chunk\" )\n",
    "res$PPA = res$PPA.x *res$PPA.y\n",
    "res = res[order(res$PPA, decreasing=T),]"
   ]
  },
  {
   "cell_type": "code",
   "execution_count": 72,
   "metadata": {
    "collapsed": false
   },
   "outputs": [],
   "source": [
    "nkx = subset(res, NKX25_ASE==1 )"
   ]
  },
  {
   "cell_type": "code",
   "execution_count": null,
   "metadata": {
    "collapsed": true
   },
   "outputs": [],
   "source": []
  }
 ],
 "metadata": {
  "kernelspec": {
   "display_name": "R",
   "language": "R",
   "name": "ir"
  },
  "language_info": {
   "codemirror_mode": "r",
   "file_extension": ".r",
   "mimetype": "text/x-r-source",
   "name": "R",
   "pygments_lexer": "r",
   "version": "3.2.2"
  }
 },
 "nbformat": 4,
 "nbformat_minor": 0
}
