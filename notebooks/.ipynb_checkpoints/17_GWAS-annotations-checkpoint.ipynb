{
 "cells": [
  {
   "cell_type": "markdown",
   "metadata": {},
   "source": [
    "### Annotation of SNPs with GWAS hits and LD SNPs\n",
    "1. GWAS SNPS obtained from the GWAS catalog on (April 17/2017) plus manuall addition of the three new atrial fibrillation studies from April 2017-----> UPDATED CATALOG DOWNOLOADED ON 10-20-2017 ---IMPORTANT NOTE DOWNLOAD THE VERSION V.1.0.1 BECAUSE THERE IS A UNIFORM MAPPED_TRAIT COLUMN\n",
    "2. Using the tables from Haploreg (1000G phase I)get all SNPs in LD\n",
    "3. Manual selection of EKG traits"
   ]
  },
  {
   "cell_type": "code",
   "execution_count": 1,
   "metadata": {
    "collapsed": true
   },
   "outputs": [],
   "source": [
    "#setwd('/home/paola/2017/anotations/GWAS')\n",
    "setwd('/home/paola/Family1070/private_output/Enrichment_annotations/GWAS')\n",
    "library (stringr)"
   ]
  },
  {
   "cell_type": "code",
   "execution_count": 2,
   "metadata": {
    "collapsed": false
   },
   "outputs": [],
   "source": [
    "#gwas<-read.csv('gwas_catalog_2017-04-24_mod.csv')\n",
    "gwas<-read.csv('gwas_catalog_v1.0.1-associations_e90_r2017-10-10_mod.txt', header=T, sep=\"\\t\")\n",
    "trait_list<-read.csv(\"TraitList.csv\" )"
   ]
  },
  {
   "cell_type": "code",
   "execution_count": 3,
   "metadata": {
    "collapsed": false
   },
   "outputs": [
    {
     "data": {
      "text/html": [
       "<ol class=list-inline>\n",
       "\t<li>58993</li>\n",
       "\t<li>13</li>\n",
       "</ol>\n"
      ],
      "text/latex": [
       "\\begin{enumerate*}\n",
       "\\item 58993\n",
       "\\item 13\n",
       "\\end{enumerate*}\n"
      ],
      "text/markdown": [
       "1. 58993\n",
       "2. 13\n",
       "\n",
       "\n"
      ],
      "text/plain": [
       "[1] 58993    13"
      ]
     },
     "metadata": {},
     "output_type": "display_data"
    },
    {
     "data": {
      "text/html": [
       "<ol class=list-inline>\n",
       "\t<li>57315</li>\n",
       "\t<li>13</li>\n",
       "</ol>\n"
      ],
      "text/latex": [
       "\\begin{enumerate*}\n",
       "\\item 57315\n",
       "\\item 13\n",
       "\\end{enumerate*}\n"
      ],
      "text/markdown": [
       "1. 57315\n",
       "2. 13\n",
       "\n",
       "\n"
      ],
      "text/plain": [
       "[1] 57315    13"
      ]
     },
     "metadata": {},
     "output_type": "display_data"
    }
   ],
   "source": [
    "dim(gwas)\n",
    "gwas=subset(gwas, gwas$SNP_ID_CURRENT!=\"rs\")\n",
    "dim(gwas)"
   ]
  },
  {
   "cell_type": "code",
   "execution_count": 21,
   "metadata": {
    "collapsed": false
   },
   "outputs": [],
   "source": [
    "writeLines(as.character(gwas$SNP_ID_CURRENT), 'GwasCatSnps.txt')"
   ]
  },
  {
   "cell_type": "code",
   "execution_count": 4,
   "metadata": {
    "collapsed": false
   },
   "outputs": [],
   "source": [
    "gwas<-merge(gwas, trait_list, by=\"MAPPED_TRAIT\", all.x=T)"
   ]
  },
  {
   "cell_type": "code",
   "execution_count": 23,
   "metadata": {
    "collapsed": true
   },
   "outputs": [],
   "source": [
    "system(\"zcat /publicdata/haploreg_v4.0_20151021/LD_ASN.tsv.gz | awk 'NR==FNR{a[$0]=$0}NR>FNR{if($1==a[$1])print $0}' GwasCatSnps.txt - >  GwasCatSnps.LD_ASN.txt\")"
   ]
  },
  {
   "cell_type": "code",
   "execution_count": 24,
   "metadata": {
    "collapsed": true
   },
   "outputs": [],
   "source": [
    "system(\"zcat /publicdata/haploreg_v4.0_20151021/LD_EUR.tsv.gz | awk 'NR==FNR{a[$0]=$0}NR>FNR{if($1==a[$1])print $0}' GwasCatSnps.txt - >  GwasCatSnps.LD_EUR.txt\")"
   ]
  },
  {
   "cell_type": "code",
   "execution_count": 25,
   "metadata": {
    "collapsed": true
   },
   "outputs": [],
   "source": [
    "# tab=c(\"GwasCatSnps.LD_ASN.txt\", \"GwasCatSnps.LD_EUR.txt\")\n",
    " \n",
    "#   for(i in 1:2){\n",
    "#     ld<-read.table(tab[i])\n",
    "    \n",
    "#     colnames(ld)<-c(\"lead\",\"LD\")\n",
    "#     x<-sapply(ld$LD, str_count, \";\")\n",
    "    \n",
    "#     test=str_split_fixed(ld$LD, \";\", max(x))\n",
    "    \n",
    "#     #preallocate matrix is faster\n",
    "    \n",
    "#     nr=(dim(test)[1]*dim(test)[2])-sum(test==\"\")\n",
    "#     newmat=matrix(NA, nrow=nr, ncol=2)\n",
    "#     k=1\n",
    "#     for (a in 1:nrow(test)){\n",
    "#       for(j in 1:ncol(test)){\n",
    "#         if(test[a,j]!=\"\") {\n",
    "#           newmat[k,1]<-as.vector(ld$lead)[a]\n",
    "#           newmat[k,2]<-test[a,j]\n",
    "#           k=k+1\n",
    "#         }\n",
    "#       }\n",
    "#     }\n",
    "  \n",
    "#     tfx<-data.frame(str_split_fixed(newmat[,2], \"\\\\,\",3 ))\n",
    "#     colnames(tfx)<-c(\"LDsnp\", \"r2\", \"D\")\n",
    "#     tfx$leadSNP<-newmat[,1]\n",
    "#     tfx<-tfx[!duplicated(tfx),]\n",
    "#     write.table(tfx, paste(\"Melted\",tab[i], sep=\".\"), sep=\"\\t\", col.names=T, row.names=F, quote=F)\n",
    "   \n",
    "#   }\n"
   ]
  },
  {
   "cell_type": "code",
   "execution_count": 5,
   "metadata": {
    "collapsed": true
   },
   "outputs": [],
   "source": [
    "eur<-read.table(\"Melted.GwasCatSnps.LD_EUR.txt\", header=T)\n",
    "eur<-subset(eur, eur$r2>0.85)\n",
    "asn<-read.table(\"Melted.GwasCatSnps.LD_ASN.txt\", header=T)\n",
    "asn<-subset(asn, asn$r2>0.85)"
   ]
  },
  {
   "cell_type": "code",
   "execution_count": 6,
   "metadata": {
    "collapsed": true
   },
   "outputs": [],
   "source": [
    "eur<-merge(gwas, eur[,c(1,2,4)], by.x=\"SNP_ID_CURRENT\", by.y=\"leadSNP\", all.x=T)\n",
    "asn<-merge(gwas, asn[,c(1,2,4)], by.x=\"SNP_ID_CURRENT\", by.y=\"leadSNP\", all.x=T)\n",
    "asn<-asn[!duplicated(asn),]\n",
    "eur<-eur[!duplicated(eur),]\n",
    "\n",
    "\n",
    "write.csv(asn,\"Table.GwasCatSnps.08LD_ASN.csv\", row.names=F )\n",
    "write.csv(eur,\"Table.GwasCatSnps.08LD_EUR.csv\", row.names=F )\n"
   ]
  },
  {
   "cell_type": "code",
   "execution_count": 7,
   "metadata": {
    "collapsed": false
   },
   "outputs": [
    {
     "data": {
      "text/html": [
       "<table>\n",
       "<thead><tr><th scope=col>SNP_ID_CURRENT</th><th scope=col>MAPPED_TRAIT</th><th scope=col>PUBMEDID</th><th scope=col>FIRST.AUTHOR</th><th scope=col>CHR_ID</th><th scope=col>CHR_POS</th><th scope=col>REPORTED.GENE.S.</th><th scope=col>MAPPED_GENE</th><th scope=col>STRONGEST.SNP.RISK.ALLELE</th><th scope=col>CONTEXT</th><th scope=col>RISK.ALLELE.FREQUENCY</th><th scope=col>P.VALUE</th><th scope=col>OR.or.BETA</th><th scope=col>CVD</th><th scope=col>Electro</th><th scope=col>Cardio</th><th scope=col>LDsnp</th><th scope=col>r2</th></tr></thead>\n",
       "<tbody>\n",
       "\t<tr><td>rs1000005                          </td><td>eosinophil count                   </td><td>27863252                           </td><td>Astle WJ                           </td><td>21                                 </td><td>33060745                           </td><td>AP000282.2, LINC00945              </td><td>LINC00945                          </td><td>rs1000005-C                        </td><td>intron_variant                     </td><td>0.5894                             </td><td>7e-12                              </td><td>0.02481715                         </td><td>NA                                 </td><td>NA                                 </td><td>NA                                 </td><td>rs7275426                          </td><td>0.91                               </td></tr>\n",
       "\t<tr><td>rs1000005                          </td><td>eosinophil count                   </td><td>27863252                           </td><td>Astle WJ                           </td><td>21                                 </td><td>33060745                           </td><td>AP000282.2, LINC00945              </td><td>LINC00945                          </td><td>rs1000005-C                        </td><td>intron_variant                     </td><td>0.5894                             </td><td>7e-12                              </td><td>0.02481715                         </td><td>NA                                 </td><td>NA                                 </td><td>NA                                 </td><td>rs2834083                          </td><td>0.90                               </td></tr>\n",
       "\t<tr><td>rs1000005                          </td><td>eosinophil count                   </td><td>27863252                           </td><td>Astle WJ                           </td><td>21                                 </td><td>33060745                           </td><td>AP000282.2, LINC00945              </td><td>LINC00945                          </td><td>rs1000005-C                        </td><td>intron_variant                     </td><td>0.5894                             </td><td>7e-12                              </td><td>0.02481715                         </td><td>NA                                 </td><td>NA                                 </td><td>NA                                 </td><td>rs28408622                         </td><td>0.88                               </td></tr>\n",
       "\t<tr><td>rs1000005                          </td><td>eosinophil percentage of leukocytes</td><td>27863252                           </td><td>Astle WJ                           </td><td>21                                 </td><td>33060745                           </td><td>AP000282.2, LINC00945              </td><td>LINC00945                          </td><td>rs1000005-C                        </td><td>intron_variant                     </td><td>0.5894                             </td><td>2e-13                              </td><td>0.02652552                         </td><td>NA                                 </td><td>NA                                 </td><td>NA                                 </td><td>rs7275426                          </td><td>0.91                               </td></tr>\n",
       "\t<tr><td>rs1000005                          </td><td>eosinophil percentage of leukocytes</td><td>27863252                           </td><td>Astle WJ                           </td><td>21                                 </td><td>33060745                           </td><td>AP000282.2, LINC00945              </td><td>LINC00945                          </td><td>rs1000005-C                        </td><td>intron_variant                     </td><td>0.5894                             </td><td>2e-13                              </td><td>0.02652552                         </td><td>NA                                 </td><td>NA                                 </td><td>NA                                 </td><td>rs2834083                          </td><td>0.90                               </td></tr>\n",
       "\t<tr><td>rs1000005                          </td><td>eosinophil percentage of leukocytes</td><td>27863252                           </td><td>Astle WJ                           </td><td>21                                 </td><td>33060745                           </td><td>AP000282.2, LINC00945              </td><td>LINC00945                          </td><td>rs1000005-C                        </td><td>intron_variant                     </td><td>0.5894                             </td><td>2e-13                              </td><td>0.02652552                         </td><td>NA                                 </td><td>NA                                 </td><td>NA                                 </td><td>rs28408622                         </td><td>0.88                               </td></tr>\n",
       "</tbody>\n",
       "</table>\n"
      ],
      "text/latex": [
       "\\begin{tabular}{r|llllllllllllllllll}\n",
       " SNP\\_ID\\_CURRENT & MAPPED\\_TRAIT & PUBMEDID & FIRST.AUTHOR & CHR\\_ID & CHR\\_POS & REPORTED.GENE.S. & MAPPED\\_GENE & STRONGEST.SNP.RISK.ALLELE & CONTEXT & RISK.ALLELE.FREQUENCY & P.VALUE & OR.or.BETA & CVD & Electro & Cardio & LDsnp & r2\\\\\n",
       "\\hline\n",
       "\t rs1000005                           & eosinophil count                    & 27863252                            & Astle WJ                            & 21                                  & 33060745                            & AP000282.2, LINC00945               & LINC00945                           & rs1000005-C                         & intron\\_variant                    & 0.5894                              & 7e-12                               & 0.02481715                          & NA                                  & NA                                  & NA                                  & rs7275426                           & 0.91                               \\\\\n",
       "\t rs1000005                           & eosinophil count                    & 27863252                            & Astle WJ                            & 21                                  & 33060745                            & AP000282.2, LINC00945               & LINC00945                           & rs1000005-C                         & intron\\_variant                    & 0.5894                              & 7e-12                               & 0.02481715                          & NA                                  & NA                                  & NA                                  & rs2834083                           & 0.90                               \\\\\n",
       "\t rs1000005                           & eosinophil count                    & 27863252                            & Astle WJ                            & 21                                  & 33060745                            & AP000282.2, LINC00945               & LINC00945                           & rs1000005-C                         & intron\\_variant                    & 0.5894                              & 7e-12                               & 0.02481715                          & NA                                  & NA                                  & NA                                  & rs28408622                          & 0.88                               \\\\\n",
       "\t rs1000005                           & eosinophil percentage of leukocytes & 27863252                            & Astle WJ                            & 21                                  & 33060745                            & AP000282.2, LINC00945               & LINC00945                           & rs1000005-C                         & intron\\_variant                    & 0.5894                              & 2e-13                               & 0.02652552                          & NA                                  & NA                                  & NA                                  & rs7275426                           & 0.91                               \\\\\n",
       "\t rs1000005                           & eosinophil percentage of leukocytes & 27863252                            & Astle WJ                            & 21                                  & 33060745                            & AP000282.2, LINC00945               & LINC00945                           & rs1000005-C                         & intron\\_variant                    & 0.5894                              & 2e-13                               & 0.02652552                          & NA                                  & NA                                  & NA                                  & rs2834083                           & 0.90                               \\\\\n",
       "\t rs1000005                           & eosinophil percentage of leukocytes & 27863252                            & Astle WJ                            & 21                                  & 33060745                            & AP000282.2, LINC00945               & LINC00945                           & rs1000005-C                         & intron\\_variant                    & 0.5894                              & 2e-13                               & 0.02652552                          & NA                                  & NA                                  & NA                                  & rs28408622                          & 0.88                               \\\\\n",
       "\\end{tabular}\n"
      ],
      "text/plain": [
       "  SNP_ID_CURRENT MAPPED_TRAIT                        PUBMEDID FIRST.AUTHOR\n",
       "1 rs1000005      eosinophil count                    27863252 Astle WJ    \n",
       "2 rs1000005      eosinophil count                    27863252 Astle WJ    \n",
       "3 rs1000005      eosinophil count                    27863252 Astle WJ    \n",
       "4 rs1000005      eosinophil percentage of leukocytes 27863252 Astle WJ    \n",
       "5 rs1000005      eosinophil percentage of leukocytes 27863252 Astle WJ    \n",
       "6 rs1000005      eosinophil percentage of leukocytes 27863252 Astle WJ    \n",
       "  CHR_ID CHR_POS  REPORTED.GENE.S.      MAPPED_GENE STRONGEST.SNP.RISK.ALLELE\n",
       "1 21     33060745 AP000282.2, LINC00945 LINC00945   rs1000005-C              \n",
       "2 21     33060745 AP000282.2, LINC00945 LINC00945   rs1000005-C              \n",
       "3 21     33060745 AP000282.2, LINC00945 LINC00945   rs1000005-C              \n",
       "4 21     33060745 AP000282.2, LINC00945 LINC00945   rs1000005-C              \n",
       "5 21     33060745 AP000282.2, LINC00945 LINC00945   rs1000005-C              \n",
       "6 21     33060745 AP000282.2, LINC00945 LINC00945   rs1000005-C              \n",
       "  CONTEXT        RISK.ALLELE.FREQUENCY P.VALUE OR.or.BETA CVD Electro Cardio\n",
       "1 intron_variant 0.5894                7e-12   0.02481715 NA  NA      NA    \n",
       "2 intron_variant 0.5894                7e-12   0.02481715 NA  NA      NA    \n",
       "3 intron_variant 0.5894                7e-12   0.02481715 NA  NA      NA    \n",
       "4 intron_variant 0.5894                2e-13   0.02652552 NA  NA      NA    \n",
       "5 intron_variant 0.5894                2e-13   0.02652552 NA  NA      NA    \n",
       "6 intron_variant 0.5894                2e-13   0.02652552 NA  NA      NA    \n",
       "  LDsnp      r2  \n",
       "1 rs7275426  0.91\n",
       "2 rs2834083  0.90\n",
       "3 rs28408622 0.88\n",
       "4 rs7275426  0.91\n",
       "5 rs2834083  0.90\n",
       "6 rs28408622 0.88"
      ]
     },
     "metadata": {},
     "output_type": "display_data"
    }
   ],
   "source": [
    "head(eur)"
   ]
  },
  {
   "cell_type": "code",
   "execution_count": 8,
   "metadata": {
    "collapsed": false
   },
   "outputs": [
    {
     "data": {
      "text/html": [
       "<ol class=list-inline>\n",
       "\t<li>NA</li>\n",
       "\t<li>QT interval</li>\n",
       "\t<li>atrial fibrillation</li>\n",
       "\t<li>heart rate</li>\n",
       "\t<li>PR interval, Trypanosoma cruzi seropositivity</li>\n",
       "\t<li>QT interval, Trypanosoma cruzi seropositivity</li>\n",
       "\t<li>RR interval</li>\n",
       "\t<li>Brugada syndrome</li>\n",
       "\t<li>PR interval</li>\n",
       "\t<li>resting heart rate</li>\n",
       "\t<li>QRS amplitude, QRS complex</li>\n",
       "\t<li>coronary artery bypass, atrial fibrillation</li>\n",
       "\t<li>electrocardiography, QT interval</li>\n",
       "\t<li>QRS duration, Trypanosoma cruzi seropositivity</li>\n",
       "\t<li>QRS duration</li>\n",
       "\t<li>QRS complex, QRS duration</li>\n",
       "\t<li>PR segment</li>\n",
       "\t<li>early cardiac repolarization measurement</li>\n",
       "\t<li>P wave duration</li>\n",
       "\t<li>cardiac arrhythmia</li>\n",
       "\t<li>QRS complex</li>\n",
       "\t<li>electrocardiography, P wave duration</li>\n",
       "\t<li>electrocardiography, PR segment</li>\n",
       "\t<li>electrocardiography, PR interval</li>\n",
       "\t<li>torsades de pointes, response to drug</li>\n",
       "\t<li>TPE interval measurement</li>\n",
       "</ol>\n"
      ],
      "text/latex": [
       "\\begin{enumerate*}\n",
       "\\item NA\n",
       "\\item QT interval\n",
       "\\item atrial fibrillation\n",
       "\\item heart rate\n",
       "\\item PR interval, Trypanosoma cruzi seropositivity\n",
       "\\item QT interval, Trypanosoma cruzi seropositivity\n",
       "\\item RR interval\n",
       "\\item Brugada syndrome\n",
       "\\item PR interval\n",
       "\\item resting heart rate\n",
       "\\item QRS amplitude, QRS complex\n",
       "\\item coronary artery bypass, atrial fibrillation\n",
       "\\item electrocardiography, QT interval\n",
       "\\item QRS duration, Trypanosoma cruzi seropositivity\n",
       "\\item QRS duration\n",
       "\\item QRS complex, QRS duration\n",
       "\\item PR segment\n",
       "\\item early cardiac repolarization measurement\n",
       "\\item P wave duration\n",
       "\\item cardiac arrhythmia\n",
       "\\item QRS complex\n",
       "\\item electrocardiography, P wave duration\n",
       "\\item electrocardiography, PR segment\n",
       "\\item electrocardiography, PR interval\n",
       "\\item torsades de pointes, response to drug\n",
       "\\item TPE interval measurement\n",
       "\\end{enumerate*}\n"
      ],
      "text/markdown": [
       "1. NA\n",
       "2. QT interval\n",
       "3. atrial fibrillation\n",
       "4. heart rate\n",
       "5. PR interval, Trypanosoma cruzi seropositivity\n",
       "6. QT interval, Trypanosoma cruzi seropositivity\n",
       "7. RR interval\n",
       "8. Brugada syndrome\n",
       "9. PR interval\n",
       "10. resting heart rate\n",
       "11. QRS amplitude, QRS complex\n",
       "12. coronary artery bypass, atrial fibrillation\n",
       "13. electrocardiography, QT interval\n",
       "14. QRS duration, Trypanosoma cruzi seropositivity\n",
       "15. QRS duration\n",
       "16. QRS complex, QRS duration\n",
       "17. PR segment\n",
       "18. early cardiac repolarization measurement\n",
       "19. P wave duration\n",
       "20. cardiac arrhythmia\n",
       "21. QRS complex\n",
       "22. electrocardiography, P wave duration\n",
       "23. electrocardiography, PR segment\n",
       "24. electrocardiography, PR interval\n",
       "25. torsades de pointes, response to drug\n",
       "26. TPE interval measurement\n",
       "\n",
       "\n"
      ],
      "text/plain": [
       " [1] <NA>                                          \n",
       " [2] QT interval                                   \n",
       " [3] atrial fibrillation                           \n",
       " [4] heart rate                                    \n",
       " [5] PR interval, Trypanosoma cruzi seropositivity \n",
       " [6] QT interval, Trypanosoma cruzi seropositivity \n",
       " [7] RR interval                                   \n",
       " [8] Brugada syndrome                              \n",
       " [9] PR interval                                   \n",
       "[10] resting heart rate                            \n",
       "[11] QRS amplitude, QRS complex                    \n",
       "[12] coronary artery bypass, atrial fibrillation   \n",
       "[13] electrocardiography, QT interval              \n",
       "[14] QRS duration, Trypanosoma cruzi seropositivity\n",
       "[15] QRS duration                                  \n",
       "[16] QRS complex, QRS duration                     \n",
       "[17] PR segment                                    \n",
       "[18] early cardiac repolarization measurement      \n",
       "[19] P wave duration                               \n",
       "[20] cardiac arrhythmia                            \n",
       "[21] QRS complex                                   \n",
       "[22] electrocardiography, P wave duration          \n",
       "[23] electrocardiography, PR segment               \n",
       "[24] electrocardiography, PR interval              \n",
       "[25] torsades de pointes, response to drug         \n",
       "[26] TPE interval measurement                      \n",
       "2229 Levels:  ..."
      ]
     },
     "metadata": {},
     "output_type": "display_data"
    }
   ],
   "source": [
    "unique(eur$MAPPED_TRAIT[eur$Electro==T])"
   ]
  },
  {
   "cell_type": "code",
   "execution_count": 9,
   "metadata": {
    "collapsed": true
   },
   "outputs": [],
   "source": [
    "###########################################################\n",
    "### Shape Table for final annotation table\n",
    "###########################################################\n",
    "### Merge gwas pubmedID\n",
    "gwas<-gwas[!duplicated(gwas),]\n",
    "stud<-subset(gwas, !duplicated(gwas[, c(\"MAPPED_TRAIT\",\"SNP_ID_CURRENT\", \"PUBMEDID\")]))\n",
    "stud$gwas<-paste(stud$SNP_ID_CURRENT, stud$MAPPED_TRAIT, sep=\"|\")\n",
    "agg1<-aggregate(PUBMEDID~gwas, stud, paste, collapse=\",\")\n",
    "agg1$study<-paste(agg1$gwas,agg1$PUBMEDID, sep=\"|\")\n",
    "stud<-merge(agg1, stud, by=\"gwas\")\n",
    "stud<-stud[,c(\"SNP_ID_CURRENT\", \"study\")]\n",
    "\n",
    "\n",
    "## Merge LD population frequency\n",
    "asn$pop<-\"ASN\"\n",
    "eur$pop<-\"EUR\"\n",
    "all<-rbind(asn, eur)\n",
    "all$r2_pop<-paste(all$r2, all$pop, sep=\"_\")\n",
    "all<-subset(all, !is.na(all$LDsnp))\n",
    "all<-subset(all, !duplicated(all[,c('SNP_ID_CURRENT', 'LDsnp', \"r2_pop\")]))\n",
    "all$SNP<-paste(all$SNP_ID_CURRENT, all$LDsnp, sep=\"|\")\n",
    "agg2<-aggregate(r2_pop~SNP,all, paste, collapse=\",\")\n",
    "ld<-merge(agg2, all, by=\"SNP\")\n",
    "ld<-ld[,c('r2_pop.x', 'SNP_ID_CURRENT', 'LDsnp')]\n",
    "ld<-ld[!duplicated(ld),]\n",
    "\n",
    "### Merge all\n",
    "\n",
    "m<-merge(stud, ld, by=\"SNP_ID_CURRENT\", all=T)\n",
    "\n",
    "write.csv(m,\"GwasForFinalAnnotation.csv\", row.names=F)"
   ]
  },
  {
   "cell_type": "code",
   "execution_count": 10,
   "metadata": {
    "collapsed": false
   },
   "outputs": [
    {
     "data": {
      "text/html": [
       "<table>\n",
       "<thead><tr><th scope=col>SNP_ID_CURRENT</th><th scope=col>study</th><th scope=col>r2_pop.x</th><th scope=col>LDsnp</th></tr></thead>\n",
       "<tbody>\n",
       "\t<tr><td>rs1000005                                             </td><td>rs1000005|eosinophil count|27863252                   </td><td>0.9_EUR                                               </td><td>rs2834083                                             </td></tr>\n",
       "\t<tr><td>rs1000005                                             </td><td>rs1000005|eosinophil count|27863252                   </td><td>0.88_EUR                                              </td><td>rs28408622                                            </td></tr>\n",
       "\t<tr><td>rs1000005                                             </td><td>rs1000005|eosinophil count|27863252                   </td><td>0.96_ASN,0.91_EUR                                     </td><td>rs7275426                                             </td></tr>\n",
       "\t<tr><td>rs1000005                                             </td><td>rs1000005|eosinophil percentage of leukocytes|27863252</td><td>0.9_EUR                                               </td><td>rs2834083                                             </td></tr>\n",
       "\t<tr><td>rs1000005                                             </td><td>rs1000005|eosinophil percentage of leukocytes|27863252</td><td>0.88_EUR                                              </td><td>rs28408622                                            </td></tr>\n",
       "\t<tr><td>rs1000005                                             </td><td>rs1000005|eosinophil percentage of leukocytes|27863252</td><td>0.96_ASN,0.91_EUR                                     </td><td>rs7275426                                             </td></tr>\n",
       "</tbody>\n",
       "</table>\n"
      ],
      "text/latex": [
       "\\begin{tabular}{r|llll}\n",
       " SNP\\_ID\\_CURRENT & study & r2\\_pop.x & LDsnp\\\\\n",
       "\\hline\n",
       "\t rs1000005                                                                  & rs1000005\\textbar{}eosinophil count\\textbar{}27863252                    & 0.9\\_EUR                                                                  & rs2834083                                                                 \\\\\n",
       "\t rs1000005                                                                  & rs1000005\\textbar{}eosinophil count\\textbar{}27863252                    & 0.88\\_EUR                                                                 & rs28408622                                                                \\\\\n",
       "\t rs1000005                                                                  & rs1000005\\textbar{}eosinophil count\\textbar{}27863252                    & 0.96\\_ASN,0.91\\_EUR                                                      & rs7275426                                                                 \\\\\n",
       "\t rs1000005                                                                  & rs1000005\\textbar{}eosinophil percentage of leukocytes\\textbar{}27863252 & 0.9\\_EUR                                                                  & rs2834083                                                                 \\\\\n",
       "\t rs1000005                                                                  & rs1000005\\textbar{}eosinophil percentage of leukocytes\\textbar{}27863252 & 0.88\\_EUR                                                                 & rs28408622                                                                \\\\\n",
       "\t rs1000005                                                                  & rs1000005\\textbar{}eosinophil percentage of leukocytes\\textbar{}27863252 & 0.96\\_ASN,0.91\\_EUR                                                      & rs7275426                                                                 \\\\\n",
       "\\end{tabular}\n"
      ],
      "text/plain": [
       "  SNP_ID_CURRENT study                                                 \n",
       "1 rs1000005      rs1000005|eosinophil count|27863252                   \n",
       "2 rs1000005      rs1000005|eosinophil count|27863252                   \n",
       "3 rs1000005      rs1000005|eosinophil count|27863252                   \n",
       "4 rs1000005      rs1000005|eosinophil percentage of leukocytes|27863252\n",
       "5 rs1000005      rs1000005|eosinophil percentage of leukocytes|27863252\n",
       "6 rs1000005      rs1000005|eosinophil percentage of leukocytes|27863252\n",
       "  r2_pop.x          LDsnp     \n",
       "1 0.9_EUR           rs2834083 \n",
       "2 0.88_EUR          rs28408622\n",
       "3 0.96_ASN,0.91_EUR rs7275426 \n",
       "4 0.9_EUR           rs2834083 \n",
       "5 0.88_EUR          rs28408622\n",
       "6 0.96_ASN,0.91_EUR rs7275426 "
      ]
     },
     "metadata": {},
     "output_type": "display_data"
    }
   ],
   "source": [
    "head(m)"
   ]
  },
  {
   "cell_type": "code",
   "execution_count": null,
   "metadata": {
    "collapsed": true
   },
   "outputs": [],
   "source": []
  }
 ],
 "metadata": {
  "kernelspec": {
   "display_name": "R",
   "language": "R",
   "name": "ir"
  },
  "language_info": {
   "codemirror_mode": "r",
   "file_extension": ".r",
   "mimetype": "text/x-r-source",
   "name": "R",
   "pygments_lexer": "r",
   "version": "3.2.2"
  }
 },
 "nbformat": 4,
 "nbformat_minor": 0
}
