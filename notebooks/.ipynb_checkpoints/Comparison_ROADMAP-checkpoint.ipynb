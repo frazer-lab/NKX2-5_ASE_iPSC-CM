{
 "cells": [
  {
   "cell_type": "markdown",
   "metadata": {},
   "source": [
    "### Compare peak calls of our iPSCs with those of Roadmap"
   ]
  },
  {
   "cell_type": "code",
   "execution_count": 1,
   "metadata": {
    "collapsed": false
   },
   "outputs": [],
   "source": [
    "library(stringr)"
   ]
  },
  {
   "cell_type": "code",
   "execution_count": 2,
   "metadata": {
    "collapsed": true
   },
   "outputs": [],
   "source": [
    "setwd(\"/frazer01/home/paola/Family1070/private_output\")"
   ]
  },
  {
   "cell_type": "code",
   "execution_count": 3,
   "metadata": {
    "collapsed": false
   },
   "outputs": [
    {
     "name": "stderr",
     "output_type": "stream",
     "text": [
      "Warning message in dir.create(\"Compare_Roadmap\"):\n",
      "“'Compare_Roadmap' already exists”"
     ]
    }
   ],
   "source": [
    "dir.create(\"Compare_Roadmap\")"
   ]
  },
  {
   "cell_type": "code",
   "execution_count": 4,
   "metadata": {
    "collapsed": true
   },
   "outputs": [],
   "source": [
    "setwd(\"Compare_Roadmap\")"
   ]
  },
  {
   "cell_type": "code",
   "execution_count": 7,
   "metadata": {
    "collapsed": false
   },
   "outputs": [],
   "source": [
    "e=2\n",
    "a= paste(\"/publicdata/roadmap_narrowPeaks_20160718/\", tissue[e],    \"-H3K27ac.narrowPeak\", sep=\"\")\n",
    "    command= paste(\"bedtools intersect -f 0.80 -r -wao -a \", a, \" -b \", b, \" > \", tissue[e], \"_intersect.tsv\", sep=\"\")\n",
    "    "
   ]
  },
  {
   "cell_type": "code",
   "execution_count": 5,
   "metadata": {
    "collapsed": true
   },
   "outputs": [],
   "source": [
    "tissue<-c(\"E019\",'E020','E021','E022', \"E065\")\n",
    "b= \"/frazer01/home/paola/Family1070/private_output/PeakCalling/H3K27AC_IPSC/meta_macs2_callPeak_peaks.q001.narrowPeak.collapse.sorted.bed\""
   ]
  },
  {
   "cell_type": "code",
   "execution_count": 30,
   "metadata": {
    "collapsed": true
   },
   "outputs": [],
   "source": [
    "bed_b= read.table(\"/frazer01/home/paola/Family1070/private_output/PeakCalling/H3K27AC_IPSC/meta_macs2_callPeak_peaks.q001.narrowPeak.collapse\")"
   ]
  },
  {
   "cell_type": "code",
   "execution_count": 31,
   "metadata": {
    "collapsed": false
   },
   "outputs": [
    {
     "data": {
      "text/html": [
       "<table>\n",
       "<thead><tr><th scope=col>V1</th><th scope=col>V2</th><th scope=col>V3</th><th scope=col>V4</th><th scope=col>V5</th><th scope=col>V6</th><th scope=col>V7</th><th scope=col>V8</th><th scope=col>V9</th><th scope=col>V10</th></tr></thead>\n",
       "<tbody>\n",
       "\t<tr><td>chr1                   </td><td>136713                 </td><td>136940                 </td><td>1                      </td><td> 51.0                  </td><td>2.617050               </td><td> 6.88863               </td><td> 5.126470              </td><td>107                    </td><td> 227                   </td></tr>\n",
       "\t<tr><td>chr1                   </td><td>712857                 </td><td>715480                 </td><td>5                      </td><td>892.2                  </td><td>6.938324               </td><td>91.65593               </td><td>89.268226              </td><td>217;1019;1707;2315;2587</td><td>2623                   </td></tr>\n",
       "\t<tr><td>chr1                   </td><td>762162                 </td><td>762971                 </td><td>2                      </td><td>236.0                  </td><td>4.081120               </td><td>25.63757               </td><td>23.656305              </td><td>59;615                 </td><td> 809                   </td></tr>\n",
       "\t<tr><td>chr1                   </td><td>779049                 </td><td>781101                 </td><td>5                      </td><td>128.0                  </td><td>3.155290               </td><td>14.85084               </td><td>12.852844              </td><td>128;553;712;1034;1856  </td><td>2052                   </td></tr>\n",
       "\t<tr><td>chr1                   </td><td>781518                 </td><td>782958                 </td><td>5                      </td><td> 53.0                  </td><td>2.425962               </td><td> 7.10734               </td><td> 5.349104              </td><td>97;444;814;1196;1293   </td><td>1440                   </td></tr>\n",
       "\t<tr><td>chr1                   </td><td>840249                 </td><td>840618                 </td><td>2                      </td><td>174.0                  </td><td>3.505565               </td><td>19.51820               </td><td>17.411970              </td><td>123;206                </td><td> 369                   </td></tr>\n",
       "</tbody>\n",
       "</table>\n"
      ],
      "text/latex": [
       "\\begin{tabular}{r|llllllllll}\n",
       " V1 & V2 & V3 & V4 & V5 & V6 & V7 & V8 & V9 & V10\\\\\n",
       "\\hline\n",
       "\t chr1                    & 136713                  & 136940                  & 1                       &  51.0                   & 2.617050                &  6.88863                &  5.126470               & 107                     &  227                   \\\\\n",
       "\t chr1                    & 712857                  & 715480                  & 5                       & 892.2                   & 6.938324                & 91.65593                & 89.268226               & 217;1019;1707;2315;2587 & 2623                   \\\\\n",
       "\t chr1                    & 762162                  & 762971                  & 2                       & 236.0                   & 4.081120                & 25.63757                & 23.656305               & 59;615                  &  809                   \\\\\n",
       "\t chr1                    & 779049                  & 781101                  & 5                       & 128.0                   & 3.155290                & 14.85084                & 12.852844               & 128;553;712;1034;1856   & 2052                   \\\\\n",
       "\t chr1                    & 781518                  & 782958                  & 5                       &  53.0                   & 2.425962                &  7.10734                &  5.349104               & 97;444;814;1196;1293    & 1440                   \\\\\n",
       "\t chr1                    & 840249                  & 840618                  & 2                       & 174.0                   & 3.505565                & 19.51820                & 17.411970               & 123;206                 &  369                   \\\\\n",
       "\\end{tabular}\n"
      ],
      "text/plain": [
       "  V1   V2     V3     V4 V5    V6       V7       V8       \n",
       "1 chr1 136713 136940 1   51.0 2.617050  6.88863  5.126470\n",
       "2 chr1 712857 715480 5  892.2 6.938324 91.65593 89.268226\n",
       "3 chr1 762162 762971 2  236.0 4.081120 25.63757 23.656305\n",
       "4 chr1 779049 781101 5  128.0 3.155290 14.85084 12.852844\n",
       "5 chr1 781518 782958 5   53.0 2.425962  7.10734  5.349104\n",
       "6 chr1 840249 840618 2  174.0 3.505565 19.51820 17.411970\n",
       "  V9                      V10 \n",
       "1 107                      227\n",
       "2 217;1019;1707;2315;2587 2623\n",
       "3 59;615                   809\n",
       "4 128;553;712;1034;1856   2052\n",
       "5 97;444;814;1196;1293    1440\n",
       "6 123;206                  369"
      ]
     },
     "metadata": {},
     "output_type": "display_data"
    }
   ],
   "source": [
    "head(bed_b)"
   ]
  },
  {
   "cell_type": "code",
   "execution_count": 32,
   "metadata": {
    "collapsed": false
   },
   "outputs": [],
   "source": [
    "bed_b_sorted=bed_b[order(bed_b$V5, decreasing=T),]"
   ]
  },
  {
   "cell_type": "code",
   "execution_count": 39,
   "metadata": {
    "collapsed": true
   },
   "outputs": [],
   "source": [
    "bed_a= read.table(a)"
   ]
  },
  {
   "cell_type": "code",
   "execution_count": 40,
   "metadata": {
    "collapsed": true
   },
   "outputs": [],
   "source": [
    "bed_a$size=bed_a$V3-bed_a$V2"
   ]
  },
  {
   "cell_type": "code",
   "execution_count": 41,
   "metadata": {
    "collapsed": false
   },
   "outputs": [
    {
     "data": {
      "text/html": [
       "<table>\n",
       "<thead><tr><th scope=col>V1</th><th scope=col>V2</th><th scope=col>V3</th><th scope=col>V4</th><th scope=col>V5</th><th scope=col>V6</th><th scope=col>V7</th><th scope=col>V8</th><th scope=col>V9</th><th scope=col>V10</th><th scope=col>size</th></tr></thead>\n",
       "<tbody>\n",
       "\t<tr><td>chr14    </td><td> 24005828</td><td> 24009976</td><td>Rank_1   </td><td>1246     </td><td>.        </td><td>30.69595 </td><td>124.60933</td><td>115.11876</td><td>2100     </td><td>4148     </td></tr>\n",
       "\t<tr><td>chr1     </td><td>115299295</td><td>115301413</td><td>Rank_2   </td><td> 984     </td><td>.        </td><td>24.68239 </td><td> 98.41424</td><td> 91.26012</td><td>1112     </td><td>2118     </td></tr>\n",
       "\t<tr><td>chr1     </td><td> 33115596</td><td> 33116592</td><td>Rank_3   </td><td> 907     </td><td>.        </td><td>23.26386 </td><td> 90.77779</td><td> 83.79101</td><td> 779     </td><td> 996     </td></tr>\n",
       "\t<tr><td>chr19    </td><td> 49955826</td><td> 49958015</td><td>Rank_4   </td><td> 893     </td><td>.        </td><td>25.35826 </td><td> 89.30176</td><td> 82.35526</td><td>1219     </td><td>2189     </td></tr>\n",
       "\t<tr><td>chr7     </td><td>  2393218</td><td>  2394518</td><td>Rank_5   </td><td> 891     </td><td>.        </td><td>19.00915 </td><td> 89.13084</td><td> 82.19897</td><td> 726     </td><td>1300     </td></tr>\n",
       "\t<tr><td>chr1     </td><td> 40504804</td><td> 40506230</td><td>Rank_6   </td><td> 871     </td><td>.        </td><td>23.32230 </td><td> 87.19608</td><td> 80.31829</td><td>1164     </td><td>1426     </td></tr>\n",
       "</tbody>\n",
       "</table>\n"
      ],
      "text/latex": [
       "\\begin{tabular}{r|lllllllllll}\n",
       " V1 & V2 & V3 & V4 & V5 & V6 & V7 & V8 & V9 & V10 & size\\\\\n",
       "\\hline\n",
       "\t chr14     &  24005828 &  24009976 & Rank\\_1  & 1246      & .         & 30.69595  & 124.60933 & 115.11876 & 2100      & 4148     \\\\\n",
       "\t chr1      & 115299295 & 115301413 & Rank\\_2  &  984      & .         & 24.68239  &  98.41424 &  91.26012 & 1112      & 2118     \\\\\n",
       "\t chr1      &  33115596 &  33116592 & Rank\\_3  &  907      & .         & 23.26386  &  90.77779 &  83.79101 &  779      &  996     \\\\\n",
       "\t chr19     &  49955826 &  49958015 & Rank\\_4  &  893      & .         & 25.35826  &  89.30176 &  82.35526 & 1219      & 2189     \\\\\n",
       "\t chr7      &   2393218 &   2394518 & Rank\\_5  &  891      & .         & 19.00915  &  89.13084 &  82.19897 &  726      & 1300     \\\\\n",
       "\t chr1      &  40504804 &  40506230 & Rank\\_6  &  871      & .         & 23.32230  &  87.19608 &  80.31829 & 1164      & 1426     \\\\\n",
       "\\end{tabular}\n"
      ],
      "text/plain": [
       "  V1    V2        V3        V4     V5   V6 V7       V8        V9        V10 \n",
       "1 chr14  24005828  24009976 Rank_1 1246 .  30.69595 124.60933 115.11876 2100\n",
       "2 chr1  115299295 115301413 Rank_2  984 .  24.68239  98.41424  91.26012 1112\n",
       "3 chr1   33115596  33116592 Rank_3  907 .  23.26386  90.77779  83.79101  779\n",
       "4 chr19  49955826  49958015 Rank_4  893 .  25.35826  89.30176  82.35526 1219\n",
       "5 chr7    2393218   2394518 Rank_5  891 .  19.00915  89.13084  82.19897  726\n",
       "6 chr1   40504804  40506230 Rank_6  871 .  23.32230  87.19608  80.31829 1164\n",
       "  size\n",
       "1 4148\n",
       "2 2118\n",
       "3  996\n",
       "4 2189\n",
       "5 1300\n",
       "6 1426"
      ]
     },
     "metadata": {},
     "output_type": "display_data"
    }
   ],
   "source": [
    "head(bed_a)"
   ]
  },
  {
   "cell_type": "code",
   "execution_count": 42,
   "metadata": {
    "collapsed": false
   },
   "outputs": [
    {
     "data": {
      "text/html": [
       "347"
      ],
      "text/latex": [
       "347"
      ],
      "text/markdown": [
       "347"
      ],
      "text/plain": [
       "[1] 347"
      ]
     },
     "metadata": {},
     "output_type": "display_data"
    }
   ],
   "source": [
    "median(bed_a$size)"
   ]
  },
  {
   "cell_type": "code",
   "execution_count": 33,
   "metadata": {
    "collapsed": false
   },
   "outputs": [],
   "source": [
    "write.table(bed_b_sorted[1:50000,], \"ipsc_bed_sorted\", col.names=F, row.names=F, sep=\"\\t\", quote=F)"
   ]
  },
  {
   "cell_type": "code",
   "execution_count": 28,
   "metadata": {
    "collapsed": true
   },
   "outputs": [],
   "source": [
    "write.table(bed_a[1:50000,], \"E020_bed_sorted\", col.names=F, row.names=F, sep=\"\\t\", quote=F)"
   ]
  },
  {
   "cell_type": "code",
   "execution_count": 16,
   "metadata": {
    "collapsed": true
   },
   "outputs": [],
   "source": [
    "#b= \"/home/paola/2017/Test_MACS2/H3K27AC_IPSC/macs2_callPeak_BAMPE_peaks.narrowPeak.collapse.bed\""
   ]
  },
  {
   "cell_type": "code",
   "execution_count": 17,
   "metadata": {
    "collapsed": true
   },
   "outputs": [],
   "source": [
    "#b= \"/home/paola/2017/Test_MACS2/H3K27AC_IPSC/macs2_callPeak_BAM_peaks.narrowPeak.collapse.bed\""
   ]
  },
  {
   "cell_type": "code",
   "execution_count": 18,
   "metadata": {
    "collapsed": true
   },
   "outputs": [],
   "source": [
    "#b= \"/frazer01/projects/CARDIPS/pipeline/ChIPseq/mark/H3K27AC_iPSC/merge.use.narrowPeak.collapse.bed\""
   ]
  },
  {
   "cell_type": "code",
   "execution_count": 9,
   "metadata": {
    "collapsed": false
   },
   "outputs": [
    {
     "data": {
      "text/html": [
       "'bedtools intersect -f 0.80 -r -wao -a /publicdata/roadmap_narrowPeaks_20160718/E020-H3K27ac.narrowPeak -b /frazer01/home/paola/Family1070/private_output/PeakCalling/H3K27AC_IPSC/meta_macs2_callPeak_peaks.q001.narrowPeak.collapse.sorted.bed &gt; E020_intersect.tsv'"
      ],
      "text/latex": [
       "'bedtools intersect -f 0.80 -r -wao -a /publicdata/roadmap\\_narrowPeaks\\_20160718/E020-H3K27ac.narrowPeak -b /frazer01/home/paola/Family1070/private\\_output/PeakCalling/H3K27AC\\_IPSC/meta\\_macs2\\_callPeak\\_peaks.q001.narrowPeak.collapse.sorted.bed > E020\\_intersect.tsv'"
      ],
      "text/markdown": [
       "'bedtools intersect -f 0.80 -r -wao -a /publicdata/roadmap_narrowPeaks_20160718/E020-H3K27ac.narrowPeak -b /frazer01/home/paola/Family1070/private_output/PeakCalling/H3K27AC_IPSC/meta_macs2_callPeak_peaks.q001.narrowPeak.collapse.sorted.bed &gt; E020_intersect.tsv'"
      ],
      "text/plain": [
       "[1] \"bedtools intersect -f 0.80 -r -wao -a /publicdata/roadmap_narrowPeaks_20160718/E020-H3K27ac.narrowPeak -b /frazer01/home/paola/Family1070/private_output/PeakCalling/H3K27AC_IPSC/meta_macs2_callPeak_peaks.q001.narrowPeak.collapse.sorted.bed > E020_intersect.tsv\""
      ]
     },
     "metadata": {},
     "output_type": "display_data"
    }
   ],
   "source": [
    "command"
   ]
  },
  {
   "cell_type": "code",
   "execution_count": 25,
   "metadata": {
    "collapsed": false
   },
   "outputs": [
    {
     "name": "stdout",
     "output_type": "stream",
     "text": [
      "E019"
     ]
    },
    {
     "name": "stderr",
     "output_type": "stream",
     "text": [
      "Warning message in `[<-.factor`(`*tmp*`, thisvar, value = 0):\n",
      "“invalid factor level, NA generated”"
     ]
    },
    {
     "name": "stdout",
     "output_type": "stream",
     "text": [
      "E020"
     ]
    },
    {
     "name": "stderr",
     "output_type": "stream",
     "text": [
      "Warning message in `[<-.factor`(`*tmp*`, thisvar, value = 0):\n",
      "“invalid factor level, NA generated”"
     ]
    },
    {
     "name": "stdout",
     "output_type": "stream",
     "text": [
      "E021"
     ]
    },
    {
     "name": "stderr",
     "output_type": "stream",
     "text": [
      "Warning message in `[<-.factor`(`*tmp*`, thisvar, value = 0):\n",
      "“invalid factor level, NA generated”"
     ]
    },
    {
     "name": "stdout",
     "output_type": "stream",
     "text": [
      "E022"
     ]
    },
    {
     "name": "stderr",
     "output_type": "stream",
     "text": [
      "Warning message in `[<-.factor`(`*tmp*`, thisvar, value = 0):\n",
      "“invalid factor level, NA generated”"
     ]
    },
    {
     "name": "stdout",
     "output_type": "stream",
     "text": [
      "E065"
     ]
    },
    {
     "name": "stderr",
     "output_type": "stream",
     "text": [
      "Warning message in `[<-.factor`(`*tmp*`, thisvar, value = 0):\n",
      "“invalid factor level, NA generated”"
     ]
    }
   ],
   "source": [
    "for (e in 1:length(tissue)){\n",
    "    cat(tissue[e])\n",
    "    a= paste(\"/publicdata/roadmap_narrowPeaks_20160718/\", tissue[e],    \"-H3K27ac.narrowPeak\", sep=\"\")\n",
    "    command= paste(\"bedtools intersect -f 0.80 -r -wao -a \", a, \" -b \", b, \" > \", tissue[e], \"_intersect.tsv\", sep=\"\")\n",
    "    \n",
    "    system(command)\n",
    "\n",
    "    inter<-read.table(paste(tissue[e], \"_intersect.tsv\", sep=\"\"))\n",
    "    \n",
    "    test=inter[,c(1:3, ncol(inter))]\n",
    "    colnames(test)<-c(\"chr\", \"start\", 'end', \"base_overlap\")\n",
    "    test$peak_name<-paste(test$chr, \":\", test$start, \"-\", test$end, sep=\"\")\n",
    "    test$peak_length<-test$end-test$start\n",
    "    \n",
    "    test$rank<-as.numeric(str_split_fixed(inter$V4, \"_\", 2)[,2])  ## for roadmap\n",
    "    \n",
    "    \n",
    "    ##### find the inverse\n",
    "    command2= paste(\"bedtools intersect -f 0.80 -r -wo -a \", b, \" -b \", a, \" > \", tissue[e], \"_intersect_inverse.tsv\", sep=\"\")\n",
    "    \n",
    "    system(command2)\n",
    "    inter<-read.table(paste(tissue[e], \"_intersect_inverse.tsv\", sep=\"\"))\n",
    "    \n",
    "    test2=inter[,c(1:3, ncol(inter))]\n",
    "    colnames(test2)<-c(\"chr\", \"start\", 'end', \"base_overlap\")\n",
    "    test2$peak_name<-paste(test2$chr, \":\", test2$start, \"-\", test2$end, sep=\"\")\n",
    "    \n",
    "    peaks<-read.table(b)\n",
    "    peaks$peak_name<-paste(peaks[,1], \":\", peaks[,2], \"-\", peaks[,3], sep=\"\")\n",
    "    peaks$peak_length<-peaks[,3]-peaks[,2]\n",
    "    \n",
    "    \n",
    "    test2<-merge(peaks[, c('peak_name', 'peak_length')],test2, by=\"peak_name\", all.x=T )\n",
    "    \n",
    "pdf(paste (tissue[e], \"intersection_merged.pdf\", sep=\".\"))\n",
    "    \n",
    "    color=c( \"darkorange\",\"bisque\")\n",
    "    par(mfrow=c(2,3), pin=c(1.2,1.2))\n",
    "    \n",
    "    test2[is.na(test2)]<-0\n",
    "     m= matrix(c(sum(test$base_overlap ), sum(test2$base_overlap), \n",
    "                sum(as.numeric(test$peak_length [!duplicated(test$peak_name)]))-sum(test$base_overlap),\n",
    "               sum(as.numeric(test2$peak_length [!duplicated(test2$peak_name)]))-sum(test2$base_overlap)), 2,2, byrow=T)\n",
    "    barplot(m, las=1, names.arg=c( \"Roadmap\", \"This\"), col=color, main=\"Number of Bases\")\n",
    "    text(c(1,2), m[1,], round(m[1,]/colSums(m),2))\n",
    "\n",
    "    \n",
    "    m2<- cbind(table(test$base_overlap[!duplicated(test$peak_name)]>0),\n",
    "                table(test2$base_overlap[!duplicated(test2$peak_name)]>0))\n",
    "   \n",
    "\n",
    "    barplot(m2, las=1, names.arg=c( \"Roadmap\", \"This\"), col=color, main=\"Number of Peaks\" )\n",
    "    text(c(1,2), m2[1,], round(m2[1,]/colSums(m2),2))\n",
    "    plot.new()\n",
    "    legend(\"center\", pch=22, legend=c(\"shared\", \"not shared\"), pt.bg=color, pt.cex=2)\n",
    "\n",
    "    hist(as.numeric(test$peak_length [!duplicated(test$peak_name)]),las=2, xlab=\"peak length\", main=\"Roadmap\", xlim=c(1,5000))\n",
    "    hist(peaks$peak_length, las=2,xlab=\"peak length\", main=\"This\", xlim=c(1,5000))\n",
    "\n",
    "    hist(test$rank[!duplicated(test$peak_name)&test$base_overlap>0], las=2,xlab=\"peak rank\", main=\"Roadmap\" , col=\"darkorange\")\n",
    "    dev.off()\n",
    "\n",
    "}"
   ]
  },
  {
   "cell_type": "markdown",
   "metadata": {},
   "source": [
    "### Compare BAMPE and BAM parameters and -keep dup (all and 1) _with BAMPE"
   ]
  },
  {
   "cell_type": "code",
   "execution_count": 248,
   "metadata": {
    "collapsed": true
   },
   "outputs": [],
   "source": [
    "bampe= \"/home/paola/2017/Test_MACS2/H3K27AC_IPSC/macs2_callPeak_BAMPE_peaks.narrowPeak.collapse.bed\"\n",
    "bam= \"/home/paola/2017/Test_MACS2/H3K27AC_IPSC/macs2_callPeak_BAM_peaks.narrowPeak.collapse.bed\"\n",
    "keepdup= \"/projects/CARDIPS/pipeline/ChIPseq/sample/093b028a-b5e8-496e-b2cb-aa5e0d4da368/peakCalling/macs2_callPeak_narrow_withCtrl/macs2_callPeak_peaks.q001.collapse.narrowPeak\""
   ]
  },
  {
   "cell_type": "code",
   "execution_count": 20,
   "metadata": {
    "collapsed": false
   },
   "outputs": [
    {
     "ename": "ERROR",
     "evalue": "Error: object 'bampe' not found\n",
     "output_type": "error",
     "traceback": [
      "Error: object 'bampe' not found\nTraceback:\n"
     ]
    }
   ],
   "source": [
    " \n",
    "tissue=c(\"BAM_BAMPE\", \"BAMPE_keepdup\")\n",
    "for(e in 1:2){\n",
    " a=bampe\n",
    "  if(e==1){ b=bam  }\n",
    "    if(e==2) { b=keepdup}\n",
    "    \n",
    "    cat(tissue[e])\n",
    "\n",
    "    command= paste(\"bedtools intersect -wao -a \", a, \" -b \", b, \" > \", tissue[e], \"_intersect.tsv\", sep=\"\")\n",
    "    \n",
    "    system(command)\n",
    "\n",
    "    inter<-read.table(paste(tissue[e], \"_intersect.tsv\", sep=\"\"))\n",
    "    \n",
    "    test=inter[,c(1:3, ncol(inter))]\n",
    "    colnames(test)<-c(\"chr\", \"start\", 'end', \"base_overlap\")\n",
    "    test$peak_name<-paste(test$chr, \":\", test$start, \"-\", test$end, sep=\"\")\n",
    "    test$peak_length<-test$end-test$start\n",
    "     \n",
    "    ##### find the inverse\n",
    "    command2= paste(\"bedtools intersect -wo -a \", b, \" -b \", a, \" > \", tissue[e], \"_intersect_inverse.tsv\", sep=\"\")\n",
    "    \n",
    "    system(command2)\n",
    "    inter<-read.table(paste(tissue[e], \"_intersect_inverse.tsv\", sep=\"\"))\n",
    "    \n",
    "    test2=inter[,c(1:3, ncol(inter))]\n",
    "    colnames(test2)<-c(\"chr\", \"start\", 'end', \"base_overlap\")\n",
    "    test2$peak_name<-paste(test2$chr, \":\", test2$start, \"-\", test2$end, sep=\"\")\n",
    "    \n",
    "    peaks<-read.table(b)\n",
    "    peaks$peak_name<-paste(peaks[,1], \":\", peaks[,2], \"-\", peaks[,3], sep=\"\")\n",
    "    peaks$peak_length<-peaks[,3]-peaks[,2]\n",
    "    \n",
    "    \n",
    "    test2<-merge(peaks[, c('peak_name', 'peak_length')],test2, by=\"peak_name\", all.x=T )\n",
    "    \n",
    "pdf(paste (tissue[e], \"intersection_merged.pdf\", sep=\".\"))\n",
    "    \n",
    "    color=c( \"darkorange\",\"bisque\")\n",
    "    par(mfrow=c(2,3), pin=c(1.2,1.2))\n",
    "    \n",
    "    test2[is.na(test2)]<-0\n",
    "     m= matrix(c(sum(test$base_overlap ), sum(test2$base_overlap), \n",
    "                sum(as.numeric(test$peak_length [!duplicated(test$peak_name)]))-sum(test$base_overlap),\n",
    "               sum(as.numeric(test2$peak_length [!duplicated(test2$peak_name)]))-sum(test2$base_overlap)), 2,2, byrow=T)\n",
    "    barplot(m, las=1, names.arg=c( \"bampe\", \"This\"), col=color, main=\"Number of Bases\")\n",
    "    text(c(1,2), m[1,], round(m[1,]/colSums(m),2))\n",
    "\n",
    "    \n",
    "    m2<- cbind(table(test$base_overlap[!duplicated(test$peak_name)]>0),\n",
    "                table(test2$base_overlap[!duplicated(test2$peak_name)]>0))\n",
    "   \n",
    "\n",
    "    barplot(m2, las=1, names.arg=c( \"bampe\", \"This\"), col=color, main=\"Number of Peaks\" )\n",
    "    text(c(1,2), m2[1,], round(m2[1,]/colSums(m2),2))\n",
    "    plot.new()\n",
    "    legend(\"center\", pch=22, legend=c(\"shared\", \"not shared\"), pt.bg=color, pt.cex=2)\n",
    "\n",
    "    hist(as.numeric(test$peak_length [!duplicated(test$peak_name)]),las=2, xlab=\"peak length\", main=\"bampe\", xlim=c(1,5000))\n",
    "    hist(peaks$peak_length, las=2,xlab=\"peak length\", main=\"This\", xlim=c(1,5000))\n",
    "\n",
    "    \n",
    "   dev.off() \n",
    "}\n"
   ]
  },
  {
   "cell_type": "code",
   "execution_count": 254,
   "metadata": {
    "collapsed": false
   },
   "outputs": [
    {
     "data": {
      "text/html": [
       "<table>\n",
       "<thead><tr><th scope=col>peak_name</th><th scope=col>peak_length</th><th scope=col>chr</th><th scope=col>start</th><th scope=col>end</th><th scope=col>base_overlap</th></tr></thead>\n",
       "<tbody>\n",
       "\t<tr><td>chr1:10002733-10003365  </td><td>632                     </td><td>chr1                    </td><td> 10002733               </td><td> 10003365               </td><td>599                     </td></tr>\n",
       "\t<tr><td>chr1:10003548-10004119  </td><td>571                     </td><td>chr1                    </td><td> 10003548               </td><td> 10004119               </td><td>543                     </td></tr>\n",
       "\t<tr><td>chr1:100039125-100039619</td><td>494                     </td><td>NA                      </td><td>        0               </td><td>        0               </td><td>  0                     </td></tr>\n",
       "\t<tr><td>chr1:100088417-100088611</td><td>194                     </td><td>chr1                    </td><td>100088417               </td><td>100088611               </td><td>183                     </td></tr>\n",
       "\t<tr><td>chr1:10010783-10010980  </td><td>197                     </td><td>chr1                    </td><td> 10010783               </td><td> 10010980               </td><td>190                     </td></tr>\n",
       "\t<tr><td>chr1:100116177-100116411</td><td>234                     </td><td>chr1                    </td><td>100116177               </td><td>100116411               </td><td>213                     </td></tr>\n",
       "</tbody>\n",
       "</table>\n"
      ],
      "text/latex": [
       "\\begin{tabular}{r|llllll}\n",
       " peak\\_name & peak\\_length & chr & start & end & base\\_overlap\\\\\n",
       "\\hline\n",
       "\t chr1:10002733-10003365   & 632                      & chr1                     &  10002733                &  10003365                & 599                     \\\\\n",
       "\t chr1:10003548-10004119   & 571                      & chr1                     &  10003548                &  10004119                & 543                     \\\\\n",
       "\t chr1:100039125-100039619 & 494                      & NA                       &         0                &         0                &   0                     \\\\\n",
       "\t chr1:100088417-100088611 & 194                      & chr1                     & 100088417                & 100088611                & 183                     \\\\\n",
       "\t chr1:10010783-10010980   & 197                      & chr1                     &  10010783                &  10010980                & 190                     \\\\\n",
       "\t chr1:100116177-100116411 & 234                      & chr1                     & 100116177                & 100116411                & 213                     \\\\\n",
       "\\end{tabular}\n"
      ],
      "text/plain": [
       "  peak_name                peak_length chr  start     end       base_overlap\n",
       "1 chr1:10002733-10003365   632         chr1  10002733  10003365 599         \n",
       "2 chr1:10003548-10004119   571         chr1  10003548  10004119 543         \n",
       "3 chr1:100039125-100039619 494         NA           0         0   0         \n",
       "4 chr1:100088417-100088611 194         chr1 100088417 100088611 183         \n",
       "5 chr1:10010783-10010980   197         chr1  10010783  10010980 190         \n",
       "6 chr1:100116177-100116411 234         chr1 100116177 100116411 213         "
      ]
     },
     "metadata": {},
     "output_type": "display_data"
    }
   ],
   "source": [
    "head(test2)"
   ]
  },
  {
   "cell_type": "markdown",
   "metadata": {
    "collapsed": true
   },
   "source": [
    "## Jaccard statistics on Encode data"
   ]
  },
  {
   "cell_type": "code",
   "execution_count": 80,
   "metadata": {
    "collapsed": true
   },
   "outputs": [],
   "source": [
    "suppressPackageStartupMessages(library(gplots))"
   ]
  },
  {
   "cell_type": "code",
   "execution_count": 43,
   "metadata": {
    "collapsed": true
   },
   "outputs": [],
   "source": [
    "setwd(\"/frazer01/home/paola/Family1070/private_output/Compare_Roadmap/\")"
   ]
  },
  {
   "cell_type": "code",
   "execution_count": 123,
   "metadata": {
    "collapsed": true
   },
   "outputs": [],
   "source": [
    "beds = c('metapeak.bed.sorted', \"ENCFF411SUA.bed\", 'ENCFF169VIO.bed','ENCFF111WIP.bed','ENCFF676TIO.bed','ENCFF113UFP.bed','ENCFF360IFE.bed','ENCFF083EJO.bed')\n",
    "names =c(\"META_IPS\",'iPS-20b', 'iPS DF 19.11' ,'iPS DF 19.11' ,'iPS DF 19.11' ,'iPS DF 6.9' ,'iPS-18a' ,'H1-hESC')"
   ]
  },
  {
   "cell_type": "code",
   "execution_count": 138,
   "metadata": {
    "collapsed": true
   },
   "outputs": [],
   "source": [
    "beds = c('ipsc_bed_BAMPE.sorted',\"ipsc_bed_BAM.sorted\", 'metapeak.bed.sorted',\"ENCFF411SUA.bed\", 'ENCFF169VIO.bed','ENCFF111WIP.bed','ENCFF676TIO.bed','ENCFF113UFP.bed','ENCFF360IFE.bed','ENCFF083EJO.bed')\n",
    "names =c(\"BAMPE\", \"BAM\", \"META_IPS\",'iPS-20b', 'iPS DF 19.11' ,'iPS DF 19.11' ,'iPS DF 19.11' ,'iPS DF 6.9' ,'iPS-18a' ,'H1-hESC')"
   ]
  },
  {
   "cell_type": "code",
   "execution_count": 139,
   "metadata": {
    "collapsed": false
   },
   "outputs": [
    {
     "name": "stdout",
     "output_type": "stream",
     "text": [
      "ipsc_bed_BAMPE.sorted (BAMPE), ipsc_bed_BAM.sorted (BAM), metapeak.bed.sorted (META_IPS), ENCFF411SUA.bed (iPS-20b), ENCFF169VIO.bed (iPS DF 19.11), ENCFF111WIP.bed (iPS DF 19.11), ENCFF676TIO.bed (iPS DF 19.11), ENCFF113UFP.bed (iPS DF 6.9), ENCFF360IFE.bed (iPS-18a), ENCFF083EJO.bed (H1-hESC),"
     ]
    }
   ],
   "source": [
    "cat(paste(beds, \" (\", names, \"),\", sep =\"\"))"
   ]
  },
  {
   "cell_type": "code",
   "execution_count": 140,
   "metadata": {
    "collapsed": false
   },
   "outputs": [],
   "source": [
    "mat=matrix(NA, ncol= length(beds), nrow = length(beds))\n",
    "colnames(mat)=rownames(mat)=beds\n",
    "for (beda in beds){\n",
    "    for ( bedb in beds){\n",
    "        if(beda != bedb){\n",
    "            command = paste('bedtools jaccard -a ', beda,  ' -b ', bedb, \" > jac.\", beda, bedb, sep=\"\")\n",
    "            system(command)\n",
    "            mat[beda,bedb] <- as.numeric(read.table(paste(\"jac.\", beda, bedb, sep=\"\"), stringsAsFactors=F)[2,3])\n",
    "             }\n",
    "         if(beda == bedb){\n",
    "             mat[beda,bedb] =NA\n",
    "             }\n",
    "        \n",
    "    }\n",
    "    \n",
    "}"
   ]
  },
  {
   "cell_type": "code",
   "execution_count": 142,
   "metadata": {
    "collapsed": false
   },
   "outputs": [
    {
     "name": "stderr",
     "output_type": "stream",
     "text": [
      "Warning message in heatmap.2(mat, Colv = F, Rowv = F, cellnote = round(mat, 2), :\n",
      "“Discrepancy: Rowv is FALSE, while dendrogram is `both'. Omitting row dendogram.”Warning message in heatmap.2(mat, Colv = F, Rowv = F, cellnote = round(mat, 2), :\n",
      "“Discrepancy: Colv is FALSE, while dendrogram is `column'. Omitting column dendogram.”"
     ]
    },
    {
     "data": {
      "image/png": "[encoded data removed]",
      "text/plain": [
       "Plot with title “Color Key\n",
       "and Histogram”"
      ]
     },
     "metadata": {},
     "output_type": "display_data"
    }
   ],
   "source": [
    "colnames(mat)=rownames(mat)=names\n",
    "heatmap.2 (mat, Colv=F, Rowv=F, cellnote=round(mat,2), notecol=\"black\",  margins =c(12,12), trace=\"none\",\n",
    "           sepwidth=c(0.01,0.01),sepcolor=\"black\",colsep=0:ncol(mat),rowsep=0:nrow(mat))"
   ]
  },
  {
   "cell_type": "code",
   "execution_count": 97,
   "metadata": {
    "collapsed": false
   },
   "outputs": [
    {
     "data": {
      "text/html": [
       "0.138252"
      ],
      "text/latex": [
       "0.138252"
      ],
      "text/markdown": [
       "0.138252"
      ],
      "text/plain": [
       "[1] 0.138252"
      ]
     },
     "metadata": {},
     "output_type": "display_data"
    }
   ],
   "source": [
    "median(mat[1,], na.rm=T)"
   ]
  },
  {
   "cell_type": "code",
   "execution_count": 107,
   "metadata": {
    "collapsed": false
   },
   "outputs": [
    {
     "data": {
      "text/html": [
       "0.159792"
      ],
      "text/latex": [
       "0.159792"
      ],
      "text/markdown": [
       "0.159792"
      ],
      "text/plain": [
       "[1] 0.159792"
      ]
     },
     "metadata": {},
     "output_type": "display_data"
    }
   ],
   "source": [
    "roadmap_mat = mat[-1,-1]\n",
    "upper_mat= roadmap_mat[upper.tri(roadmap_mat)]\n",
    "median(upper_mat, na.rm=T)"
   ]
  },
  {
   "cell_type": "code",
   "execution_count": 137,
   "metadata": {
    "collapsed": false
   },
   "outputs": [
    {
     "data": {
      "text/html": [
       "<ol class=list-inline>\n",
       "\t<li>0.0356357</li>\n",
       "\t<li>0.370846</li>\n",
       "</ol>\n"
      ],
      "text/latex": [
       "\\begin{enumerate*}\n",
       "\\item 0.0356357\n",
       "\\item 0.370846\n",
       "\\end{enumerate*}\n"
      ],
      "text/markdown": [
       "1. 0.0356357\n",
       "2. 0.370846\n",
       "\n",
       "\n"
      ],
      "text/plain": [
       "[1] 0.0356357 0.3708460"
      ]
     },
     "metadata": {},
     "output_type": "display_data"
    }
   ],
   "source": [
    "range(mat, na.rm=T)"
   ]
  },
  {
   "cell_type": "code",
   "execution_count": 149,
   "metadata": {
    "collapsed": false
   },
   "outputs": [
    {
     "data": {
      "text/html": [
       "<dl class=dl-horizontal>\n",
       "\t<dt>BAMPE</dt>\n",
       "\t\t<dd>0.1951897</dd>\n",
       "\t<dt>BAM</dt>\n",
       "\t\t<dd>0.213461071428571</dd>\n",
       "\t<dt>META_IPS</dt>\n",
       "\t\t<dd>0.142611885714286</dd>\n",
       "</dl>\n"
      ],
      "text/latex": [
       "\\begin{description*}\n",
       "\\item[BAMPE] 0.1951897\n",
       "\\item[BAM] 0.213461071428571\n",
       "\\item[META\\textbackslash{}\\_IPS] 0.142611885714286\n",
       "\\end{description*}\n"
      ],
      "text/markdown": [
       "BAMPE\n",
       ":   0.1951897BAM\n",
       ":   0.213461071428571META_IPS\n",
       ":   0.142611885714286\n",
       "\n"
      ],
      "text/plain": [
       "    BAMPE       BAM  META_IPS \n",
       "0.1951897 0.2134611 0.1426119 "
      ]
     },
     "metadata": {},
     "output_type": "display_data"
    }
   ],
   "source": [
    "rowMeans(mat[1:3, 4:10], na.rm=T)"
   ]
  },
  {
   "cell_type": "markdown",
   "metadata": {},
   "source": [
    "## Intersect Statistics"
   ]
  },
  {
   "cell_type": "code",
   "execution_count": 145,
   "metadata": {
    "collapsed": true
   },
   "outputs": [],
   "source": [
    "mat2=matrix(NA, ncol= length(beds), nrow = length(beds))\n",
    "colnames(mat2)=rownames(mat2)=beds\n",
    "for (beda in beds){\n",
    "    for ( bedb in beds){\n",
    "        if(beda != bedb){\n",
    "            command = paste('bedtools intersect -f 0.20 -r -a ', beda,  ' -b ', bedb, \" > Inter_A.\", beda, bedb, sep=\"\")\n",
    "            system(command)\n",
    "            mat2[beda,bedb] <- nrow(read.table(paste(\"Inter_A.\", beda, bedb, sep=\"\"), header=T)) /nrow(read.table(beda, header=T))\n",
    "             }\n",
    "         if(beda == bedb){\n",
    "             mat2[beda,bedb] =NA\n",
    "             }\n",
    "        \n",
    "    }\n",
    "    \n",
    "}"
   ]
  },
  {
   "cell_type": "code",
   "execution_count": 146,
   "metadata": {
    "collapsed": false
   },
   "outputs": [
    {
     "name": "stderr",
     "output_type": "stream",
     "text": [
      "Warning message in heatmap.2(mat2, Colv = F, Rowv = F, cellnote = round(mat2, 2), :\n",
      "“Discrepancy: Rowv is FALSE, while dendrogram is `both'. Omitting row dendogram.”Warning message in heatmap.2(mat2, Colv = F, Rowv = F, cellnote = round(mat2, 2), :\n",
      "“Discrepancy: Colv is FALSE, while dendrogram is `column'. Omitting column dendogram.”"
     ]
    },
    {
     "data": {
      "image/png": "[encoded data removed]",
      "text/plain": [
       "Plot with title “Color Key\n",
       "and Histogram”"
      ]
     },
     "metadata": {},
     "output_type": "display_data"
    }
   ],
   "source": [
    "colnames(mat2)=rownames(mat2)=names\n",
    "heatmap.2 (mat2, Colv=F, Rowv=F, cellnote=round(mat2,2), notecol=\"black\",  margins =c(12,12), trace=\"none\",\n",
    "           sepwidth=c(0.01,0.01),sepcolor=\"black\",colsep=0:ncol(mat2),rowsep=0:nrow(mat2))"
   ]
  },
  {
   "cell_type": "code",
   "execution_count": 151,
   "metadata": {
    "collapsed": false
   },
   "outputs": [
    {
     "data": {
      "text/html": [
       "<dl class=dl-horizontal>\n",
       "\t<dt>BAMPE</dt>\n",
       "\t\t<dd>0.286836656550472</dd>\n",
       "\t<dt>BAM</dt>\n",
       "\t\t<dd>0.356320838652276</dd>\n",
       "\t<dt>META_IPS</dt>\n",
       "\t\t<dd>0.1606477516794</dd>\n",
       "</dl>\n"
      ],
      "text/latex": [
       "\\begin{description*}\n",
       "\\item[BAMPE] 0.286836656550472\n",
       "\\item[BAM] 0.356320838652276\n",
       "\\item[META\\textbackslash{}\\_IPS] 0.1606477516794\n",
       "\\end{description*}\n"
      ],
      "text/markdown": [
       "BAMPE\n",
       ":   0.286836656550472BAM\n",
       ":   0.356320838652276META_IPS\n",
       ":   0.1606477516794\n",
       "\n"
      ],
      "text/plain": [
       "    BAMPE       BAM  META_IPS \n",
       "0.2868367 0.3563208 0.1606478 "
      ]
     },
     "metadata": {},
     "output_type": "display_data"
    },
    {
     "data": {
      "text/html": [
       "<dl class=dl-horizontal>\n",
       "\t<dt>BAMPE</dt>\n",
       "\t\t<dd>0.56263447745603</dd>\n",
       "\t<dt>BAM</dt>\n",
       "\t\t<dd>0.528995901312456</dd>\n",
       "\t<dt>META_IPS</dt>\n",
       "\t\t<dd>0.730255297684353</dd>\n",
       "</dl>\n"
      ],
      "text/latex": [
       "\\begin{description*}\n",
       "\\item[BAMPE] 0.56263447745603\n",
       "\\item[BAM] 0.528995901312456\n",
       "\\item[META\\textbackslash{}\\_IPS] 0.730255297684353\n",
       "\\end{description*}\n"
      ],
      "text/markdown": [
       "BAMPE\n",
       ":   0.56263447745603BAM\n",
       ":   0.528995901312456META_IPS\n",
       ":   0.730255297684353\n",
       "\n"
      ],
      "text/plain": [
       "    BAMPE       BAM  META_IPS \n",
       "0.5626345 0.5289959 0.7302553 "
      ]
     },
     "metadata": {},
     "output_type": "display_data"
    }
   ],
   "source": [
    "rowMeans(mat2[1:3, 4:10], na.rm=T)\n",
    "colMeans(mat2[4:10, 1:3], na.rm=T)"
   ]
  },
  {
   "cell_type": "code",
   "execution_count": 113,
   "metadata": {
    "collapsed": false
   },
   "outputs": [
    {
     "data": {
      "text/html": [
       "<dl class=dl-horizontal>\n",
       "\t<dt>metapeak.bed.sorted</dt>\n",
       "\t\t<dd>0.1606477516794</dd>\n",
       "\t<dt>ENCFF411SUA.bed</dt>\n",
       "\t\t<dd>0.271964239682508</dd>\n",
       "\t<dt>ENCFF169VIO.bed</dt>\n",
       "\t\t<dd>0.833162133881172</dd>\n",
       "\t<dt>ENCFF111WIP.bed</dt>\n",
       "\t\t<dd>0.746541221806918</dd>\n",
       "\t<dt>ENCFF676TIO.bed</dt>\n",
       "\t\t<dd>0.246320296981341</dd>\n",
       "\t<dt>ENCFF113UFP.bed</dt>\n",
       "\t\t<dd>0.209378744692792</dd>\n",
       "\t<dt>ENCFF360IFE.bed</dt>\n",
       "\t\t<dd>0.422652282389466</dd>\n",
       "\t<dt>ENCFF083EJO.bed</dt>\n",
       "\t\t<dd>0.632035757218512</dd>\n",
       "</dl>\n"
      ],
      "text/latex": [
       "\\begin{description*}\n",
       "\\item[metapeak.bed.sorted] 0.1606477516794\n",
       "\\item[ENCFF411SUA.bed] 0.271964239682508\n",
       "\\item[ENCFF169VIO.bed] 0.833162133881172\n",
       "\\item[ENCFF111WIP.bed] 0.746541221806918\n",
       "\\item[ENCFF676TIO.bed] 0.246320296981341\n",
       "\\item[ENCFF113UFP.bed] 0.209378744692792\n",
       "\\item[ENCFF360IFE.bed] 0.422652282389466\n",
       "\\item[ENCFF083EJO.bed] 0.632035757218512\n",
       "\\end{description*}\n"
      ],
      "text/markdown": [
       "metapeak.bed.sorted\n",
       ":   0.1606477516794ENCFF411SUA.bed\n",
       ":   0.271964239682508ENCFF169VIO.bed\n",
       ":   0.833162133881172ENCFF111WIP.bed\n",
       ":   0.746541221806918ENCFF676TIO.bed\n",
       ":   0.246320296981341ENCFF113UFP.bed\n",
       ":   0.209378744692792ENCFF360IFE.bed\n",
       ":   0.422652282389466ENCFF083EJO.bed\n",
       ":   0.632035757218512\n",
       "\n"
      ],
      "text/plain": [
       "metapeak.bed.sorted     ENCFF411SUA.bed     ENCFF169VIO.bed     ENCFF111WIP.bed \n",
       "          0.1606478           0.2719642           0.8331621           0.7465412 \n",
       "    ENCFF676TIO.bed     ENCFF113UFP.bed     ENCFF360IFE.bed     ENCFF083EJO.bed \n",
       "          0.2463203           0.2093787           0.4226523           0.6320358 "
      ]
     },
     "metadata": {},
     "output_type": "display_data"
    }
   ],
   "source": [
    "rowMeans(mat2, na.rm=T)"
   ]
  },
  {
   "cell_type": "code",
   "execution_count": 115,
   "metadata": {
    "collapsed": false
   },
   "outputs": [
    {
     "data": {
      "text/html": [
       "0.480293525236101"
      ],
      "text/latex": [
       "0.480293525236101"
      ],
      "text/markdown": [
       "0.480293525236101"
      ],
      "text/plain": [
       "[1] 0.4802935"
      ]
     },
     "metadata": {},
     "output_type": "display_data"
    }
   ],
   "source": [
    "mean(rowMeans(mat2, na.rm=T)[-1])"
   ]
  },
  {
   "cell_type": "code",
   "execution_count": 136,
   "metadata": {
    "collapsed": false
   },
   "outputs": [
    {
     "data": {
      "text/html": [
       "<ol class=list-inline>\n",
       "\t<li>0.0647121809997819</li>\n",
       "\t<li>1.00021341073029</li>\n",
       "</ol>\n"
      ],
      "text/latex": [
       "\\begin{enumerate*}\n",
       "\\item 0.0647121809997819\n",
       "\\item 1.00021341073029\n",
       "\\end{enumerate*}\n"
      ],
      "text/markdown": [
       "1. 0.0647121809997819\n",
       "2. 1.00021341073029\n",
       "\n",
       "\n"
      ],
      "text/plain": [
       "[1] 0.06471218 1.00021341"
      ]
     },
     "metadata": {},
     "output_type": "display_data"
    },
    {
     "data": {
      "text/html": [
       "0.356710867276617"
      ],
      "text/latex": [
       "0.356710867276617"
      ],
      "text/markdown": [
       "0.356710867276617"
      ],
      "text/plain": [
       "[1] 0.3567109"
      ]
     },
     "metadata": {},
     "output_type": "display_data"
    }
   ],
   "source": [
    "range(mat2[-1,-1], na.rm=T)\n",
    "median(mat2[-1,-1], na.rm=T)"
   ]
  },
  {
   "cell_type": "code",
   "execution_count": null,
   "metadata": {
    "collapsed": true
   },
   "outputs": [],
   "source": []
  },
  {
   "cell_type": "code",
   "execution_count": 114,
   "metadata": {
    "collapsed": false
   },
   "outputs": [
    {
     "data": {
      "text/html": [
       "<dl class=dl-horizontal>\n",
       "\t<dt>metapeak.bed.sorted</dt>\n",
       "\t\t<dd>0.730255297684353</dd>\n",
       "\t<dt>ENCFF411SUA.bed</dt>\n",
       "\t\t<dd>0.624708318124287</dd>\n",
       "\t<dt>ENCFF169VIO.bed</dt>\n",
       "\t\t<dd>0.155603960117194</dd>\n",
       "\t<dt>ENCFF111WIP.bed</dt>\n",
       "\t\t<dd>0.279604316939829</dd>\n",
       "\t<dt>ENCFF676TIO.bed</dt>\n",
       "\t\t<dd>0.626554890755931</dd>\n",
       "\t<dt>ENCFF113UFP.bed</dt>\n",
       "\t\t<dd>0.295446762906405</dd>\n",
       "\t<dt>ENCFF360IFE.bed</dt>\n",
       "\t\t<dd>0.444298914456388</dd>\n",
       "\t<dt>ENCFF083EJO.bed</dt>\n",
       "\t\t<dd>0.366229967347722</dd>\n",
       "</dl>\n"
      ],
      "text/latex": [
       "\\begin{description*}\n",
       "\\item[metapeak.bed.sorted] 0.730255297684353\n",
       "\\item[ENCFF411SUA.bed] 0.624708318124287\n",
       "\\item[ENCFF169VIO.bed] 0.155603960117194\n",
       "\\item[ENCFF111WIP.bed] 0.279604316939829\n",
       "\\item[ENCFF676TIO.bed] 0.626554890755931\n",
       "\\item[ENCFF113UFP.bed] 0.295446762906405\n",
       "\\item[ENCFF360IFE.bed] 0.444298914456388\n",
       "\\item[ENCFF083EJO.bed] 0.366229967347722\n",
       "\\end{description*}\n"
      ],
      "text/markdown": [
       "metapeak.bed.sorted\n",
       ":   0.730255297684353ENCFF411SUA.bed\n",
       ":   0.624708318124287ENCFF169VIO.bed\n",
       ":   0.155603960117194ENCFF111WIP.bed\n",
       ":   0.279604316939829ENCFF676TIO.bed\n",
       ":   0.626554890755931ENCFF113UFP.bed\n",
       ":   0.295446762906405ENCFF360IFE.bed\n",
       ":   0.444298914456388ENCFF083EJO.bed\n",
       ":   0.366229967347722\n",
       "\n"
      ],
      "text/plain": [
       "metapeak.bed.sorted     ENCFF411SUA.bed     ENCFF169VIO.bed     ENCFF111WIP.bed \n",
       "          0.7302553           0.6247083           0.1556040           0.2796043 \n",
       "    ENCFF676TIO.bed     ENCFF113UFP.bed     ENCFF360IFE.bed     ENCFF083EJO.bed \n",
       "          0.6265549           0.2954468           0.4442989           0.3662300 "
      ]
     },
     "metadata": {},
     "output_type": "display_data"
    }
   ],
   "source": [
    "colMeans(mat2, na.rm=T)"
   ]
  },
  {
   "cell_type": "code",
   "execution_count": null,
   "metadata": {
    "collapsed": true
   },
   "outputs": [],
   "source": []
  },
  {
   "cell_type": "code",
   "execution_count": 116,
   "metadata": {
    "collapsed": false
   },
   "outputs": [
    {
     "data": {
      "text/html": [
       "0.398921018663965"
      ],
      "text/latex": [
       "0.398921018663965"
      ],
      "text/markdown": [
       "0.398921018663965"
      ],
      "text/plain": [
       "[1] 0.398921"
      ]
     },
     "metadata": {},
     "output_type": "display_data"
    }
   ],
   "source": [
    "mean(colMeans(mat2, na.rm=T)[-1])"
   ]
  },
  {
   "cell_type": "code",
   "execution_count": 119,
   "metadata": {
    "collapsed": false
   },
   "outputs": [
    {
     "data": {
      "text/html": [
       "0.439607271950033"
      ],
      "text/latex": [
       "0.439607271950033"
      ],
      "text/markdown": [
       "0.439607271950033"
      ],
      "text/plain": [
       "[1] 0.4396073"
      ]
     },
     "metadata": {},
     "output_type": "display_data"
    }
   ],
   "source": [
    "mean(c(colMeans(mat2, na.rm=T)[-1], rowMeans(mat2, na.rm=T)[-1]) )\n",
    "\n",
    "range(c(colMeans(mat2, na.rm=T)[-1], rowMeans(mat2, na.rm=T)[-1]) )\n"
   ]
  },
  {
   "cell_type": "code",
   "execution_count": 120,
   "metadata": {
    "collapsed": false
   },
   "outputs": [
    {
     "data": {
      "text/html": [
       "0.445451524681876"
      ],
      "text/latex": [
       "0.445451524681876"
      ],
      "text/markdown": [
       "0.445451524681876"
      ],
      "text/plain": [
       "[1] 0.4454515"
      ]
     },
     "metadata": {},
     "output_type": "display_data"
    }
   ],
   "source": [
    "mean(c(colMeans(mat2, na.rm=T)[1], rowMeans(mat2, na.rm=T)[1]) )"
   ]
  },
  {
   "cell_type": "code",
   "execution_count": null,
   "metadata": {
    "collapsed": true
   },
   "outputs": [],
   "source": []
  }
 ],
 "metadata": {
  "kernelspec": {
   "display_name": "R",
   "language": "R",
   "name": "ir"
  },
  "language_info": {
   "codemirror_mode": "r",
   "file_extension": ".r",
   "mimetype": "text/x-r-source",
   "name": "R",
   "pygments_lexer": "r",
   "version": "3.2.2"
  }
 },
 "nbformat": 4,
 "nbformat_minor": 0
}
