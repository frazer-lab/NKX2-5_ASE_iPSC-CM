{
 "cells": [
  {
   "cell_type": "markdown",
   "metadata": {},
   "source": [
    "### 1) Enrichment fot motif disruption in ASE snvs"
   ]
  },
  {
   "cell_type": "code",
   "execution_count": 8,
   "metadata": {},
   "outputs": [],
   "source": [
    "library(repr)"
   ]
  },
  {
   "cell_type": "code",
   "execution_count": 1,
   "metadata": {},
   "outputs": [],
   "source": [
    "library (stringr)\n",
    "home=\"/home/paola/Family1070/private_output/\"\n",
    "dir=\"ASE_chip/correlationWithBeta/\"\n",
    "names=c(\"NKX25\", \"H3K27AC_IPSC\",  \"H3K27AC_CM\",\"ATAC_IPSC\", \"ATAC_CM\")  #also names of directories\n",
    "files= paste('ASE.tested', names, 'txt', sep=\".\")\n",
    "setwd(home)\n",
    "setwd(\"Motif_analysis_R\")"
   ]
  },
  {
   "cell_type": "code",
   "execution_count": 2,
   "metadata": {},
   "outputs": [],
   "source": [
    "FILES = files[1]\n",
    "name  = names[1]\n",
    "#dir.create(name)"
   ]
  },
  {
   "cell_type": "code",
   "execution_count": 3,
   "metadata": {},
   "outputs": [],
   "source": [
    "suppressPackageStartupMessages(library(RColorBrewer))\n",
    "suppressPackageStartupMessages(library(gplots))\n",
    "library(plot3D)"
   ]
  },
  {
   "cell_type": "code",
   "execution_count": 4,
   "metadata": {},
   "outputs": [],
   "source": [
    "ase<-read.table(paste(name,\"TestMAtr.txt\",sep=\"/\"), header=T)\n",
    "mo<-read.table(paste(name,'analysis/All_siteScores_1.txt',sep=\"/\"), header=T, stringsAsFactors=F)\n",
    "mo2<-read.table(paste(name,'analysis_denovo/All_siteScores_1.txt',sep=\"/\"), header=T, stringsAsFactors=F)\n",
    "mo3<-read.table(paste(name,'analysis_denovo_part2/All_siteScores_1.txt',sep=\"/\"), header=T, stringsAsFactors=F)\n",
    "mo3$Motif = toupper(mo3$Motif)\n",
    "mo = rbind(mo,mo2, mo3)\n",
    "mo$motif_class = toupper(substr(mo$Motif, 1, 3))\n",
    "mo$motif_class[mo$Motif==\"Tbx5\"]<-\"TBX5\"  ### Tbx5 and 20 are different\n",
    "\n",
    "mo$disrupt = (mo$maxRefScore >= mo$TFM_score|mo$maxAltScore >= mo$TFM_score) & abs(mo$maxRefScore - mo$maxAltScore) > 0\n",
    "mot_table<-merge( mo, ase, by.x=\"SNP\", by.y=\"Variant\" )"
   ]
  },
  {
   "cell_type": "code",
   "execution_count": 5,
   "metadata": {},
   "outputs": [],
   "source": [
    "#### Keep only the best scoring motif for each motif family\n",
    "mot_table$max_score = apply(mot_table[,c(\"maxRefScore\", \"maxAltScore\")], 1,max)\n",
    "mot_table$motif_class[mot_table$motif_class==\"DEN\"]<-substr(str_split_fixed(mot_table$Motif, \"_\",2)[,2], 1, 3)[mot_table$motif_class==\"DEN\"]\n",
    "mot_table = mot_table[order(mot_table$max_score, decreasing=T),]\n",
    "mot_table = mot_table[!duplicated(mot_table[,c('SNP','motif_class')]),]\n",
    "mot_table$Motif = mot_table$motif_class"
   ]
  },
  {
   "cell_type": "code",
   "execution_count": 6,
   "metadata": {},
   "outputs": [
    {
     "data": {
      "text/html": [
       "<ol class=list-inline>\n",
       "\t<li>'CTC'</li>\n",
       "\t<li>'EOM'</li>\n",
       "\t<li>'GAT'</li>\n",
       "\t<li>'ISL'</li>\n",
       "\t<li>'MAF'</li>\n",
       "\t<li>'MEF'</li>\n",
       "\t<li>'MEI'</li>\n",
       "\t<li>'NKX'</li>\n",
       "\t<li>'PDX'</li>\n",
       "\t<li>'TBX'</li>\n",
       "\t<li>'TBX5'</li>\n",
       "\t<li>'TEA'</li>\n",
       "</ol>\n"
      ],
      "text/latex": [
       "\\begin{enumerate*}\n",
       "\\item 'CTC'\n",
       "\\item 'EOM'\n",
       "\\item 'GAT'\n",
       "\\item 'ISL'\n",
       "\\item 'MAF'\n",
       "\\item 'MEF'\n",
       "\\item 'MEI'\n",
       "\\item 'NKX'\n",
       "\\item 'PDX'\n",
       "\\item 'TBX'\n",
       "\\item 'TBX5'\n",
       "\\item 'TEA'\n",
       "\\end{enumerate*}\n"
      ],
      "text/markdown": [
       "1. 'CTC'\n",
       "2. 'EOM'\n",
       "3. 'GAT'\n",
       "4. 'ISL'\n",
       "5. 'MAF'\n",
       "6. 'MEF'\n",
       "7. 'MEI'\n",
       "8. 'NKX'\n",
       "9. 'PDX'\n",
       "10. 'TBX'\n",
       "11. 'TBX5'\n",
       "12. 'TEA'\n",
       "\n",
       "\n"
      ],
      "text/plain": [
       " [1] \"CTC\"  \"EOM\"  \"GAT\"  \"ISL\"  \"MAF\"  \"MEF\"  \"MEI\"  \"NKX\"  \"PDX\"  \"TBX\" \n",
       "[11] \"TBX5\" \"TEA\" "
      ]
     },
     "metadata": {},
     "output_type": "display_data"
    }
   ],
   "source": [
    "levels(as.factor(mot_table$motif_class))"
   ]
  },
  {
   "cell_type": "code",
   "execution_count": 11,
   "metadata": {
    "scrolled": false
   },
   "outputs": [
    {
     "data": {
      "image/png": "[encoded data removed]",
      "text/plain": [
       "Plot with title “-log10(FDR)”"
      ]
     },
     "metadata": {},
     "output_type": "display_data"
    }
   ],
   "source": [
    "#pdf(\"/frazer01/home/paola/Family1070/private_output/Figures/Motif_disruption_enrichment_one_per_class.pdf\")\n",
    "#par(pin=c(2.5,1))\n",
    "options(repr.plot.width=4, repr.plot.height=3)\n",
    "\n",
    "        motifs<-levels(as.factor(mot_table$Motif))\n",
    "\n",
    "        mo<-split(mot_table, as.factor(mot_table$Motif))\n",
    "\n",
    "res1<-data.frame() # Fisher test x=ASE/NoASE y=NoMotif/MotifCHange \n",
    "\n",
    "for (m in 1:length(motifs)){\n",
    "  test<-mo[[m]]\n",
    "  tab1<-table(test$combined_fdr<0.05, test$disrupt==TRUE)\n",
    "  fi1<-fisher.test(tab1)\n",
    "  res1[1:6,m]<-c(tab1, round(fi1$estimate,2), fi1$p.value)\n",
    "  \n",
    "  \n",
    "}\n",
    "\n",
    "colnames(res1)<- motifs\n",
    "rownames(res1)<- c(\"NoASE-NoMotif\", \"ASE-NoMotif\", \"NoASE-Motif\", \"ASE-Motif\", \"OddsRatio\", \"P.value\")\n",
    "res1[\"FDR-p.value\",]<-p.adjust(res1[\"P.value\",], method=\"BH\")\n",
    "\n",
    "\n",
    "my_palette <- colorRampPalette(c(\"white\",\"orangered3\" ), bias=2)(n = 10)\n",
    "my_palette =colorRampPalette( brewer.pal(9, \"Reds\") , bias=1.5)(11)[1:8]\n",
    "\n",
    "res1<-res1[,order(res1[\"P.value\",], decreasing=F)]\n",
    "x<-as.numeric((-log(res1[\"FDR-p.value\",],10)))\n",
    "\n",
    "x[x<1.3]<-NA    \n",
    "color<-my_palette[as.numeric(cut(x,breaks = 8))]\n",
    "#par(pin=c(2.5,1))\n",
    "barplot(as.numeric(res1[\"OddsRatio\",]), names.arg=colnames(res1), \n",
    "        las=2, \n",
    "        ylab=\"Odds ratio\", space=c(0.2,0.2), col=color)\n",
    "abline(h=1, col=\"red\", lwd=2, lty=2)\n",
    "text((1:length(motifs)), res1[\"OddsRatio\",]+0.3, c( \"\",\"*\") [(res1[\"FDR-p.value\",]<0.05)+1], cex=2)\n",
    "colkey(my_palette, clim=range(x, na.rm=T), clab=\"-log10(FDR)\", add=T, side=4, length=0.5)\n",
    "    \n",
    "#dev.off()\n"
   ]
  },
  {
   "cell_type": "markdown",
   "metadata": {},
   "source": [
    "### Frequency of motif alteration and direction with respect to ASE"
   ]
  },
  {
   "cell_type": "code",
   "execution_count": 12,
   "metadata": {},
   "outputs": [
    {
     "data": {
      "text/html": [
       "<ol class=list-inline>\n",
       "\t<li>1224</li>\n",
       "\t<li>22</li>\n",
       "</ol>\n"
      ],
      "text/latex": [
       "\\begin{enumerate*}\n",
       "\\item 1224\n",
       "\\item 22\n",
       "\\end{enumerate*}\n"
      ],
      "text/markdown": [
       "1. 1224\n",
       "2. 22\n",
       "\n",
       "\n"
      ],
      "text/plain": [
       "[1] 1224   22"
      ]
     },
     "metadata": {},
     "output_type": "display_data"
    }
   ],
   "source": [
    "sigSites<-read.table(paste(name,'analysis/AlleleAlteringSites_scores_1.txt',sep=\"/\"), header=T, stringsAsFactors=F)\n",
    "sigSites2<-read.table(paste(name,'analysis_denovo/AlleleAlteringSites_scores_1.txt',sep=\"/\"), header=T, stringsAsFactors=F)\n",
    "sigSites3<-read.table(paste(name,'analysis_denovo_part2/AlleleAlteringSites_scores_1.txt',sep=\"/\"), header=T, stringsAsFactors=F)\n",
    "sigSites3$Motif = toupper(sigSites3$Motif)\n",
    "\n",
    "sigSites=rbind(sigSites, sigSites2, sigSites3)\n",
    "sigSites<-merge( sigSites, ase, by.x=\"SNP\", by.y=\"Variant\" )\n",
    "sigSites= sigSites[sigSites$combined_fdr<0.05,]\n",
    "dim(sigSites)"
   ]
  },
  {
   "cell_type": "code",
   "execution_count": 13,
   "metadata": {},
   "outputs": [],
   "source": [
    "#### Keep only the best scoring motif for each motif family\n",
    "sigSites$motif_class= toupper(substr(sigSites$Motif, 1, 3))\n",
    "sigSites$motif_class[sigSites$Motif==\"Tbx5\"]<-\"TBX5\"\n",
    "sigSites$max_score = apply(sigSites[,c(\"maxRefScore\", \"maxAltScore\")], 1,max)\n",
    "sigSites$motif_class[sigSites$motif_class==\"DEN\"]<-substr(str_split_fixed(sigSites$Motif, \"_\",2)[,2], 1, 3)[sigSites$motif_class==\"DEN\"]\n",
    "sigSites = sigSites[order(sigSites$max_score, decreasing=T),]\n",
    "sigSites = sigSites[!duplicated(sigSites[,c('SNP','motif_class')]),]\n",
    "sigSites$Motif = sigSites$motif_class"
   ]
  },
  {
   "cell_type": "code",
   "execution_count": 14,
   "metadata": {},
   "outputs": [],
   "source": [
    "sigSites$Score_change = sigSites$maxRefScore-sigSites$maxAltScore"
   ]
  },
  {
   "cell_type": "code",
   "execution_count": 15,
   "metadata": {},
   "outputs": [],
   "source": [
    "sigSites$Motif <- factor(sigSites$Motif)\n",
    "sigSites$same_effect = (sigSites$ref_freq > 0.5 & sigSites$Score_change >0 ) | (sigSites$ref_freq < 0.5 & sigSites$Score_change < 0)"
   ]
  },
  {
   "cell_type": "code",
   "execution_count": 16,
   "metadata": {},
   "outputs": [
    {
     "data": {
      "text/plain": [
       "\n",
       "               FALSE           FALSE,TRUE      FALSE,TRUE,TRUE \n",
       "                 247                   43                    2 \n",
       "                TRUE           TRUE,FALSE      TRUE,FALSE,TRUE \n",
       "                 328                   42                    2 \n",
       "           TRUE,TRUE      TRUE,TRUE,FALSE TRUE,TRUE,FALSE,TRUE \n",
       "                  63                    4                    1 \n",
       "      TRUE,TRUE,TRUE \n",
       "                   3 "
      ]
     },
     "metadata": {},
     "output_type": "display_data"
    }
   ],
   "source": [
    "sigSites$Motif_secondary = sigSites$Motif != \"NKX\"\n",
    "aggi = aggregate(Motif_secondary~SNP,sigSites, paste, collapse=\",\" )\n",
    "table(aggi$Motif_secondary)"
   ]
  },
  {
   "cell_type": "code",
   "execution_count": 17,
   "metadata": {},
   "outputs": [],
   "source": [
    "up=NA\n",
    "down=NA\n",
    "for (f in 1:length(levels(sigSites$Motif))) {\n",
    "  mo=sigSites[sigSites$Motif==levels(sigSites$Motif)[f],]\n",
    "  up[f]  <- sum(mo$same_effect)\n",
    "  down[f]<- sum(mo$same_effect==FALSE)\n",
    "}\n",
    "\n",
    "tab=rbind(up,down)\n",
    "colnames(tab)=levels(sigSites$Motif)\n",
    "#write.csv(tab, paste(name,\"analysis/Table_for barplot.csv\",sep=\"/\"))\n"
   ]
  },
  {
   "cell_type": "code",
   "execution_count": 19,
   "metadata": {},
   "outputs": [
    {
     "data": {
      "image/png": "[encoded data removed]",
      "text/plain": [
       "plot without title"
      ]
     },
     "metadata": {},
     "output_type": "display_data"
    }
   ],
   "source": [
    "tab=tab[,order(tab[1,], decreasing=T)]\n",
    "#pdf(\"/frazer01/home/paola/Family1070/private_output/Figures/Motif_disruption_barplot_one_per_class.pdf\")\n",
    "\n",
    "par(pin=c(2.5,1.5))\n",
    "barplot(tab, beside=T, names.arg=colnames(tab), \n",
    "        las=2, ylim=c(0, max(tab)+20), col=c(\"orangered2\",\"dodgerblue3\"),\n",
    "        ylab=\"Number of motif altering SNPs\", space=c(0,0.3))\n",
    "legend(\"topright\", title=\"Preferred ASE allele has:\", \n",
    "         legend=c(\"higher motif score\", \"lower motif score\"), fill=c(\"orangered2\",\"dodgerblue3\"), cex=0.8)\n",
    "\n",
    "\n",
    "#dev.off()"
   ]
  },
  {
   "cell_type": "code",
   "execution_count": 15,
   "metadata": {},
   "outputs": [
    {
     "data": {
      "text/html": [
       "<table>\n",
       "<thead><tr><th></th><th scope=col>NKX</th><th scope=col>GAT</th><th scope=col>MEI</th><th scope=col>TBX</th><th scope=col>TBX5</th><th scope=col>TEA</th><th scope=col>EOM</th><th scope=col>ISL</th><th scope=col>MEF</th><th scope=col>PDX</th><th scope=col>MAF</th><th scope=col>CTC</th></tr></thead>\n",
       "<tbody>\n",
       "\t<tr><th scope=row>up</th><td>284</td><td>79 </td><td>76 </td><td>56 </td><td>46 </td><td>46 </td><td>43 </td><td>36 </td><td>21 </td><td>14 </td><td>10 </td><td>0  </td></tr>\n",
       "\t<tr><th scope=row>down</th><td> 57</td><td>19 </td><td>19 </td><td> 8 </td><td>17 </td><td>16 </td><td>30 </td><td>15 </td><td> 3 </td><td> 8 </td><td> 4 </td><td>1  </td></tr>\n",
       "</tbody>\n",
       "</table>\n"
      ],
      "text/latex": [
       "\\begin{tabular}{r|llllllllllll}\n",
       "  & NKX & GAT & MEI & TBX & TBX5 & TEA & EOM & ISL & MEF & PDX & MAF & CTC\\\\\n",
       "\\hline\n",
       "\tup & 284 & 79  & 76  & 56  & 46  & 46  & 43  & 36  & 21  & 14  & 10  & 0  \\\\\n",
       "\tdown &  57 & 19  & 19  &  8  & 17  & 16  & 30  & 15  &  3  &  8  &  4  & 1  \\\\\n",
       "\\end{tabular}\n"
      ],
      "text/markdown": [
       "1. 284\n",
       "2. 57\n",
       "3. 79\n",
       "4. 19\n",
       "5. 76\n",
       "6. 19\n",
       "7. 56\n",
       "8. 8\n",
       "9. 46\n",
       "10. 17\n",
       "11. 46\n",
       "12. 16\n",
       "13. 43\n",
       "14. 30\n",
       "15. 36\n",
       "16. 15\n",
       "17. 21\n",
       "18. 3\n",
       "19. 14\n",
       "20. 8\n",
       "21. 10\n",
       "22. 4\n",
       "23. 0\n",
       "24. 1\n",
       "\n",
       "\n"
      ],
      "text/plain": [
       "     NKX GAT MEI TBX TBX5 TEA EOM ISL MEF PDX MAF CTC\n",
       "up   284 79  76  56  46   46  43  36  21  14  10  0  \n",
       "down  57 19  19   8  17   16  30  15   3   8   4  1  "
      ]
     },
     "metadata": {},
     "output_type": "display_data"
    }
   ],
   "source": [
    "tab"
   ]
  },
  {
   "cell_type": "code",
   "execution_count": 20,
   "metadata": {},
   "outputs": [
    {
     "data": {
      "text/html": [
       "0.0265561332021919"
      ],
      "text/latex": [
       "0.0265561332021919"
      ],
      "text/markdown": [
       "0.0265561332021919"
      ],
      "text/plain": [
       "[1] 0.02655613"
      ]
     },
     "metadata": {},
     "output_type": "display_data"
    }
   ],
   "source": [
    "mean(colSums(tab)[-1])/1941 "
   ]
  },
  {
   "cell_type": "code",
   "execution_count": 21,
   "metadata": {},
   "outputs": [
    {
     "data": {
      "text/html": [
       "567"
      ],
      "text/latex": [
       "567"
      ],
      "text/markdown": [
       "567"
      ],
      "text/plain": [
       "[1] 567"
      ]
     },
     "metadata": {},
     "output_type": "display_data"
    }
   ],
   "source": [
    "sum(tab[,-1])"
   ]
  },
  {
   "cell_type": "code",
   "execution_count": 22,
   "metadata": {},
   "outputs": [
    {
     "data": {
      "text/html": [
       "0.292117465224111"
      ],
      "text/latex": [
       "0.292117465224111"
      ],
      "text/markdown": [
       "0.292117465224111"
      ],
      "text/plain": [
       "[1] 0.2921175"
      ]
     },
     "metadata": {},
     "output_type": "display_data"
    }
   ],
   "source": [
    "567/1941"
   ]
  },
  {
   "cell_type": "code",
   "execution_count": 23,
   "metadata": {},
   "outputs": [
    {
     "data": {
      "text/html": [
       "<ol class=list-inline>\n",
       "\t<li>0.000515198351365276</li>\n",
       "\t<li>0.050489438433797</li>\n",
       "</ol>\n"
      ],
      "text/latex": [
       "\\begin{enumerate*}\n",
       "\\item 0.000515198351365276\n",
       "\\item 0.050489438433797\n",
       "\\end{enumerate*}\n"
      ],
      "text/markdown": [
       "1. 0.000515198351365276\n",
       "2. 0.050489438433797\n",
       "\n",
       "\n"
      ],
      "text/plain": [
       "[1] 0.0005151984 0.0504894384"
      ]
     },
     "metadata": {},
     "output_type": "display_data"
    }
   ],
   "source": [
    "range(colSums(tab)[-1]/1941)"
   ]
  },
  {
   "cell_type": "code",
   "execution_count": 24,
   "metadata": {},
   "outputs": [
    {
     "data": {
      "text/html": [
       "<dl class=dl-horizontal>\n",
       "\t<dt>NKX</dt>\n",
       "\t\t<dd>0.832844574780059</dd>\n",
       "\t<dt>GAT</dt>\n",
       "\t\t<dd>0.806122448979592</dd>\n",
       "\t<dt>MEI</dt>\n",
       "\t\t<dd>0.8</dd>\n",
       "\t<dt>TBX</dt>\n",
       "\t\t<dd>0.875</dd>\n",
       "\t<dt>TBX5</dt>\n",
       "\t\t<dd>0.73015873015873</dd>\n",
       "\t<dt>TEA</dt>\n",
       "\t\t<dd>0.741935483870968</dd>\n",
       "\t<dt>EOM</dt>\n",
       "\t\t<dd>0.589041095890411</dd>\n",
       "\t<dt>ISL</dt>\n",
       "\t\t<dd>0.705882352941177</dd>\n",
       "\t<dt>MEF</dt>\n",
       "\t\t<dd>0.875</dd>\n",
       "\t<dt>PDX</dt>\n",
       "\t\t<dd>0.636363636363636</dd>\n",
       "\t<dt>MAF</dt>\n",
       "\t\t<dd>0.714285714285714</dd>\n",
       "\t<dt>CTC</dt>\n",
       "\t\t<dd>0</dd>\n",
       "</dl>\n"
      ],
      "text/latex": [
       "\\begin{description*}\n",
       "\\item[NKX] 0.832844574780059\n",
       "\\item[GAT] 0.806122448979592\n",
       "\\item[MEI] 0.8\n",
       "\\item[TBX] 0.875\n",
       "\\item[TBX5] 0.73015873015873\n",
       "\\item[TEA] 0.741935483870968\n",
       "\\item[EOM] 0.589041095890411\n",
       "\\item[ISL] 0.705882352941177\n",
       "\\item[MEF] 0.875\n",
       "\\item[PDX] 0.636363636363636\n",
       "\\item[MAF] 0.714285714285714\n",
       "\\item[CTC] 0\n",
       "\\end{description*}\n"
      ],
      "text/markdown": [
       "NKX\n",
       ":   0.832844574780059GAT\n",
       ":   0.806122448979592MEI\n",
       ":   0.8TBX\n",
       ":   0.875TBX5\n",
       ":   0.73015873015873TEA\n",
       ":   0.741935483870968EOM\n",
       ":   0.589041095890411ISL\n",
       ":   0.705882352941177MEF\n",
       ":   0.875PDX\n",
       ":   0.636363636363636MAF\n",
       ":   0.714285714285714CTC\n",
       ":   0\n",
       "\n"
      ],
      "text/plain": [
       "      NKX       GAT       MEI       TBX      TBX5       TEA       EOM       ISL \n",
       "0.8328446 0.8061224 0.8000000 0.8750000 0.7301587 0.7419355 0.5890411 0.7058824 \n",
       "      MEF       PDX       MAF       CTC \n",
       "0.8750000 0.6363636 0.7142857 0.0000000 "
      ]
     },
     "metadata": {},
     "output_type": "display_data"
    }
   ],
   "source": [
    "tab[1,]/colSums(tab)"
   ]
  },
  {
   "cell_type": "code",
   "execution_count": 22,
   "metadata": {},
   "outputs": [
    {
     "data": {
      "image/png": "[encoded data removed]",
      "text/plain": [
       "Plot with title “CTC”"
      ]
     },
     "metadata": {},
     "output_type": "display_data"
    }
   ],
   "source": [
    "#pdf(\"/frazer01/home/paola/Family1070/private_output/Figures/Motif_correlation_scatterplots_one_per_class.pdf\")\n",
    "par(mfrow=c(4,4), pin=c(1,1))\n",
    "\n",
    "rho    = data.frame()\n",
    "pval   = data.frame()\n",
    "for (f in 1:length(levels(sigSites$Motif))) {\n",
    "  \n",
    "  mo=sigSites[sigSites$Motif==colnames(tab)[f],]\n",
    " plot(Score_change~ ref_freq, mo, main= toupper(colnames(tab)[f]), pch = 16,cex = 0.6, \n",
    "      col=c(\"dodgerblue3\", \"orangered2\")[mo$same_effect+1], las=1,\n",
    "    xlab= \"Ref. proportion ASE\", ylab=\"Score difference\", ylim=c(-7,7), xlim=c(0,1))\n",
    "abline(h=0,v=0.5, lty=2, col=\"red\", lwd=1)\n",
    " \n",
    "l  = lm(Score_change~ ref_freq, mo)\n",
    "if (!is.na(summary(l)[[4]][2]) ) {\n",
    "abline(l)\n",
    "co = cor.test(mo$ref_freq, mo$Score_change, method=\"spearman\", exact=F)\n",
    "\n",
    "rho  [f,\"r\"] <- co$estimate\n",
    "rho  [f,\"n\"]   <- nrow(mo)\n",
    "pval [f,\"r\"]   <- co$p.value\n",
    "pval [f,\"n\"]   <- NA\n",
    "text (0.7, -3, paste( \"r=\",round(co$estimate,2), \"\\n P=\",signif(co$p.value,1),\n",
    "                     \"\\n n=\",nrow(mo)) ,cex=1.1)\n",
    "  }\n",
    "    \n",
    "    else {\n",
    "        rho  [f,\"r\"] =rho  [f,\"n\"] = pval  [f,\"r\"] = pval  [f,\"n\"] = NA\n",
    "    }\n",
    "    \n",
    "}\n",
    "rownames(rho)=rownames(pval)=colnames(tab)\n",
    "#pval=pval[-1,]\n",
    "#rho=rho[-1,]\n",
    "pval[pval==0]<- 2.2e-16\n",
    "\n",
    "pval$r = p.adjust(pval$r, method=\"BH\")\n",
    "pval$r =-log(pval$r, 10)\n",
    "rho=rho[order  (pval[,\"r\"], decreasing=T),]\n",
    "pval=pval[order(pval[,\"r\"], decreasing=T),]\n",
    "#dev.off()"
   ]
  },
  {
   "cell_type": "code",
   "execution_count": 128,
   "metadata": {},
   "outputs": [],
   "source": [
    "rho2 =rho\n",
    "rho2[,\"n\"]<-rownames(rho)\n",
    "rho2[,1]<-round(rho2[,1],2)"
   ]
  },
  {
   "cell_type": "code",
   "execution_count": 129,
   "metadata": {},
   "outputs": [
    {
     "name": "stderr",
     "output_type": "stream",
     "text": [
      "Warning message in heatmap.2(as.matrix(pval), srtRow = 0, srtCol = 45, offsetRow = -0.5, :\n",
      "“Discrepancy: Rowv is FALSE, while dendrogram is `both'. Omitting row dendogram.”Warning message in heatmap.2(as.matrix(pval), srtRow = 0, srtCol = 45, offsetRow = -0.5, :\n",
      "“Discrepancy: Colv is FALSE, while dendrogram is `column'. Omitting column dendogram.”Warning message in heatmap.2(as.matrix(pval), srtRow = 0, srtCol = 45, offsetRow = -0.5, :\n",
      "“Discrepancy: Rowv is FALSE, while dendrogram is `both'. Omitting row dendogram.”Warning message in heatmap.2(as.matrix(pval), srtRow = 0, srtCol = 45, offsetRow = -0.5, :\n",
      "“Discrepancy: Colv is FALSE, while dendrogram is `column'. Omitting column dendogram.”"
     ]
    },
    {
     "data": {
      "text/html": [
       "<strong>png:</strong> 2"
      ],
      "text/latex": [
       "\\textbf{png:} 2"
      ],
      "text/markdown": [
       "**png:** 2"
      ],
      "text/plain": [
       "png \n",
       "  2 "
      ]
     },
     "metadata": {},
     "output_type": "display_data"
    }
   ],
   "source": [
    "pdf(\"/frazer01/home/paola/Family1070/private_output/Figures/Motif_score_correlation_one_per_class.pdf\")\n",
    "my_palette =colorRampPalette( rev(brewer.pal(9, \"Reds\")) )(10)[9:2]  \n",
    "\n",
    "pval[pval<1.3]<-NA\n",
    "    heatmap.2(as.matrix(pval) , srtRow=0, srtCol=45, offsetRow=-0.5, offsetCol=-0.5, \n",
    "          keysize=1, margins =c(22,29), trace=\"none\",Colv=F,Rowv=F,\n",
    "          key.title=\"-Log10(FDR)\", cellnote=round(rho,2), notecol=\"black\", \n",
    "          cexRow=1, cexCol=1, col=my_palette,\n",
    "          sepwidth=c(0.01,0.01),sepcolor=\"black\",colsep=0:ncol(pval),rowsep=0:nrow(pval))\n",
    "\n",
    "pval[pval<1.3]<-NA\n",
    "    heatmap.2(as.matrix(pval) , srtRow=0, srtCol=45, offsetRow=-0.5, offsetCol=-0.5, \n",
    "          keysize=1, margins =c(22,29), trace=\"none\",Colv=F,Rowv=F,\n",
    "          key.title=\"-Log10(FDR)\", cellnote=rho2, notecol=\"black\", \n",
    "          cexRow=1, cexCol=1, col=my_palette,\n",
    "          sepwidth=c(0.01,0.01),sepcolor=\"black\",colsep=0:ncol(pval),rowsep=0:nrow(pval))\n",
    "\n",
    "dev.off()"
   ]
  },
  {
   "cell_type": "markdown",
   "metadata": {
    "collapsed": true
   },
   "source": [
    "### Plot the motif logos and the histograms for the "
   ]
  },
  {
   "cell_type": "code",
   "execution_count": 130,
   "metadata": {},
   "outputs": [],
   "source": [
    "suppressPackageStartupMessages(library(seqLogo))\n",
    "suppressPackageStartupMessages(library(seqinr))\n",
    "suppressPackageStartupMessages(library(Biostrings))"
   ]
  },
  {
   "cell_type": "code",
   "execution_count": 131,
   "metadata": {},
   "outputs": [],
   "source": [
    "### Substitute the known motifs with the de-novo motifs\n",
    "sigSites<-read.table(paste(name,'analysis/AlleleAlteringSites_scores_1.txt',sep=\"/\"), header=T, stringsAsFactors=F)\n",
    "sigSites2<-read.table(paste(name,'analysis_denovo/AlleleAlteringSites_scores_1.txt',sep=\"/\"), header=T, stringsAsFactors=F)\n",
    "sigSites3<-read.table(paste(name,'analysis_denovo_part2/AlleleAlteringSites_scores_1.txt',sep=\"/\"), header=T, stringsAsFactors=F)\n",
    "sigSites=rbind(sigSites, sigSites2, sigSites3)\n",
    "sigSites<-merge( sigSites, ase, by.x=\"SNP\", by.y=\"Variant\" )\n",
    "sigSites= sigSites[sigSites$combined_fdr<0.05,]\n",
    "\n",
    "sigSites$Motif=toupper(sigSites$Motif)\n",
    "sigSites$Score_change = sigSites$maxRefScore-sigSites$maxAltScore\n",
    "sigSites$same_effect = (sigSites$ref_freq > 0.5 & sigSites$Score_change >0 ) | (sigSites$ref_freq < 0.5 & sigSites$Score_change < 0)"
   ]
  },
  {
   "cell_type": "code",
   "execution_count": 132,
   "metadata": {},
   "outputs": [],
   "source": [
    "motifs = unique(sigSites$Motif)"
   ]
  },
  {
   "cell_type": "code",
   "execution_count": 133,
   "metadata": {},
   "outputs": [
    {
     "name": "stdout",
     "output_type": "stream",
     "text": [
      "1234567891011121314151617181920212223242526"
     ]
    },
    {
     "data": {
      "text/html": [
       "<strong>png:</strong> 2"
      ],
      "text/latex": [
       "\\textbf{png:} 2"
      ],
      "text/markdown": [
       "**png:** 2"
      ],
      "text/plain": [
       "png \n",
       "  2 "
      ]
     },
     "metadata": {},
     "output_type": "display_data"
    }
   ],
   "source": [
    "pdf(\"/frazer01/home/paola/Family1070/private_output/Figures/Motif_Histograms.pdf\")\n",
    "par(mar=c(10,10,10,10), pin=c(1.6,0.8), mfrow=c(3,3))\n",
    "\n",
    "for (f in 1:length(motifs)) {\n",
    "    cat (f)\n",
    "  mo1 <- subset(sigSites, Motif == motifs[f])\n",
    "  mo=mo1[mo1$same_effect ==TRUE, ]\n",
    "  \n",
    "    if(nrow(mo)>0){\n",
    "        position=21-mo$maxRefScorePos\n",
    "  position[mo$ref_freq < 0.5]<-21-mo$maxAltScorePos[mo$ref_freq < 0.5]\n",
    "  sequence_min=as.character(mo$Seq_atMaxRefSite)\n",
    "  sequence_min[mo$ref_freq < 0.5]=as.character(mo$Seq_atMaxAltSite[mo$ref_freq < 0.5])\n",
    "  consensus_min=consensusMatrix(sequence_min, as.prob=T)\n",
    "  hist(position, breaks=seq(0,ncol(consensus_min),by=1), xaxt='n', density=15, \n",
    "       freq = TRUE, main=motifs[f], las=2, cex.axis=0.8, col=\"orangered2\"   ) #, xlim=c(10, 0))### for the rev comp\n",
    "  \n",
    "  mo=mo1[mo1$same_effect == FALSE, ]\n",
    "  position=21-mo$maxRefScorePos\n",
    "  position[mo$ref_freq >0.5]<-21-mo$maxAltScorePos[mo$ref_freq > 0.5]\n",
    " \n",
    "  hist(position, breaks=seq(0,ncol(consensus_min),by=1), xaxt='n', density=15, \n",
    "       freq = TRUE, main=motifs[f], las=2, cex.axis=1, add=T, col=\"dodgerblue3\"  ) #, xlim=c(10, 0))\n",
    "  axis(side=1, at=seq(0.5,ncol(consensus_min)-0.5), labels=seq(1,ncol(consensus_min)), cex.axis=0.8)\n",
    "        }\n",
    "}\n",
    "dev.off()\n",
    "\n"
   ]
  },
  {
   "cell_type": "code",
   "execution_count": null,
   "metadata": {
    "collapsed": true
   },
   "outputs": [],
   "source": []
  }
 ],
 "metadata": {
  "kernelspec": {
   "display_name": "R",
   "language": "R",
   "name": "ir"
  },
  "language_info": {
   "codemirror_mode": "r",
   "file_extension": ".r",
   "mimetype": "text/x-r-source",
   "name": "R",
   "pygments_lexer": "r",
   "version": "3.2.2"
  }
 },
 "nbformat": 4,
 "nbformat_minor": 1
}
