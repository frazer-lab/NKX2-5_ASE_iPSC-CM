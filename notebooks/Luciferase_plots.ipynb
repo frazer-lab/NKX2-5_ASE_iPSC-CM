{
 "cells": [
  {
   "cell_type": "code",
   "execution_count": 1,
   "metadata": {
    "collapsed": true
   },
   "outputs": [],
   "source": [
    "setwd('/frazer01/home/paola/Family1070/private_output/Validation/Luciferase')\n",
    "suppressPackageStartupMessages(library(stringr))\n",
    "suppressPackageStartupMessages(library(RColorBrewer))\n",
    "suppressPackageStartupMessages(library(gplots))\n",
    "suppressPackageStartupMessages(library(beeswarm))"
   ]
  },
  {
   "cell_type": "code",
   "execution_count": 2,
   "metadata": {
    "collapsed": true
   },
   "outputs": [],
   "source": [
    "res = read.table(\"Res_CM_112818\", row.names=1)"
   ]
  },
  {
   "cell_type": "code",
   "execution_count": 3,
   "metadata": {
    "collapsed": true
   },
   "outputs": [],
   "source": [
    "res2 = read.table(\"Res_293T_111418\", row.names=1)"
   ]
  },
  {
   "cell_type": "code",
   "execution_count": 11,
   "metadata": {
    "collapsed": false
   },
   "outputs": [
    {
     "data": {
      "text/html": [
       "<strong>png:</strong> 2"
      ],
      "text/latex": [
       "\\textbf{png:} 2"
      ],
      "text/markdown": [
       "**png:** 2"
      ],
      "text/plain": [
       "png \n",
       "  2 "
      ]
     },
     "metadata": {},
     "output_type": "display_data"
    }
   ],
   "source": [
    "pdf(\"Plots.pdf\")\n",
    "par(mfrow=c(2,4), mar=c(8,3,6,1))\n",
    "for (y in 1:4){\n",
    "i= c(2,3,6,7)[y]\n",
    "reg = c(\"CAV1-fwd\", \"CAV1-rev\", \"SSBP3-fwd\", \"SSBP3-rev\")\n",
    "dt = t(res[c(1,c(i, i+2) ),])\n",
    "li = list(   dt[,1], dt[,2], dt[,3])\n",
    "beeswarm(li, pch = 19, col = \"orangered\",corral=\"random\", labels=c(\"Empty\", \"REF\", \"ALT\"), main= reg[y], cex=1.2)\n",
    "mtext(side=2, text=\"RLU\", cex=0.8, line= 2)\n",
    "bxplot(li, add = TRUE)\n",
    "    }\n",
    "\n",
    "for (y in 1:4){\n",
    "i= c(2,3,6,7)[y]\n",
    "dt = t(res2[c(1,c(i, i+2) ),])\n",
    "li = list(   dt[,1], dt[,2], dt[,3])\n",
    "beeswarm(li, pch =19, col = \"steelblue\",corral=\"random\", labels=c(\"Empty\", \"REF\", \"ALT\"), main= reg[y], cex=1.2)\n",
    "mtext(side=2, text=\"RLU\", cex=0.8, line= 2)\n",
    "bxplot(li, add = TRUE)\n",
    "    }\n",
    "dev.off()"
   ]
  },
  {
   "cell_type": "code",
   "execution_count": 12,
   "metadata": {
    "collapsed": false
   },
   "outputs": [
    {
     "data": {
      "text/html": [
       "<strong>png:</strong> 2"
      ],
      "text/latex": [
       "\\textbf{png:} 2"
      ],
      "text/markdown": [
       "**png:** 2"
      ],
      "text/plain": [
       "png \n",
       "  2 "
      ]
     },
     "metadata": {},
     "output_type": "display_data"
    }
   ],
   "source": [
    "pdf(\"Plots2.pdf\")\n",
    "par(mfrow=c(2,2), mar = c(5,2,4,1))\n",
    "lab = c(\"pgl4\", \"A\",\"G\",\"A\",'G', 'T','C','T','C')\n",
    "dt = t(res)\n",
    "li = list( dt[,1], dt[,2], dt[,4],dt[,3], dt[,5], dt[,6], dt[,8], dt[,7], dt[,9])\n",
    "beeswarm(li, pch = 18, col = \"gray\",corral=\"random\", labels=lab,  bty='l',axes=F,\n",
    "         main= \"iPSC-CMs\", cex=1, las=2, ylim=c(0,1.5))\n",
    "axis(2)\n",
    "axis(1, 1:9, labels=lab)\n",
    "mtext(side=2, text=\"RLU\", cex=0.8, line= 2)\n",
    "bxplot(li, add = TRUE)\n",
    "abline(h = median (li[[1]], na.rm=T), col=\"gray\", lty=2)\n",
    "\n",
    "dt = t(res2)\n",
    "li = list( dt[,1], dt[,2], dt[,4],dt[,3], dt[,5], dt[,6], dt[,8], dt[,7], dt[,9])\n",
    "\n",
    "beeswarm(li, pch = 18, col = \"gray\",corral=\"random\", labels=lab,  bty='l',axes=F,\n",
    "         main= \"HEK293T\", cex=1, las=2)\n",
    "axis(2)\n",
    "axis(1, 1:9, labels=lab)\n",
    "mtext(side=2, text=\"RLU\", cex=0.8, line= 2)\n",
    "bxplot(li, add = TRUE)\n",
    "abline(h = median (li[[1]], na.rm=T), col=\"gray\", lty=2)\n",
    "dev.off()"
   ]
  },
  {
   "cell_type": "code",
   "execution_count": 20,
   "metadata": {
    "collapsed": true
   },
   "outputs": [],
   "source": [
    "dt = t(res)"
   ]
  },
  {
   "cell_type": "code",
   "execution_count": 21,
   "metadata": {
    "collapsed": true
   },
   "outputs": [],
   "source": [
    "## NORMALIZE TO THE BLANK\n",
    "dt = dt/mean(dt[,1], na.rm=T)"
   ]
  },
  {
   "cell_type": "code",
   "execution_count": 24,
   "metadata": {
    "collapsed": false
   },
   "outputs": [
    {
     "data": {
      "text/html": [
       "<table>\n",
       "<thead><tr><th></th><th scope=col>empty</th><th scope=col>CAV1_REF_FOR</th><th scope=col>CAV1_REF_REV</th><th scope=col>CAV1_ALT_FOR</th><th scope=col>CAV1_ALT_REV</th><th scope=col>SSBP3_REF_FOR</th><th scope=col>SSBP3_REF_REV</th><th scope=col>SSBP3_ALT_FOR</th><th scope=col>SSBP3_ALT_REV</th><th scope=col>POSITIVE</th></tr></thead>\n",
       "<tbody>\n",
       "\t<tr><th scope=row>V2</th><td>       NA  </td><td>1.671302   </td><td>2.459934   </td><td>1.347724   </td><td>1.762978   </td><td>0.007713025</td><td>0.7473788  </td><td>0.007833858</td><td>0.4581877  </td><td> 8.876348  </td></tr>\n",
       "\t<tr><th scope=row>V3</th><td>0.9851001  </td><td>2.171702   </td><td>2.304229   </td><td>1.246678   </td><td>1.654737   </td><td>0.006370646</td><td>0.7724348  </td><td>0.005344713</td><td>0.4834124  </td><td> 8.325470  </td></tr>\n",
       "\t<tr><th scope=row>V4</th><td>0.9643982  </td><td>1.703604   </td><td>2.636359   </td><td>1.290828   </td><td>1.620102   </td><td>0.008296919</td><td>0.7404487  </td><td>0.005451303</td><td>0.4458723  </td><td> 6.290498  </td></tr>\n",
       "\t<tr><th scope=row>V5</th><td>1.0228550  </td><td>1.918077   </td><td>2.476178   </td><td>1.196350   </td><td>1.435353   </td><td>0.011808575</td><td>0.9039712  </td><td>0.007292439</td><td>0.4718379  </td><td> 7.375854  </td></tr>\n",
       "\t<tr><th scope=row>V6</th><td>0.9909850  </td><td>1.999707   </td><td>2.047996   </td><td>1.368599   </td><td>1.771785   </td><td>0.006168162</td><td>0.8435626  </td><td>0.006979514</td><td>0.4148368  </td><td> 9.676188  </td></tr>\n",
       "\t<tr><th scope=row>V7</th><td>1.0366617  </td><td>2.127296   </td><td>2.528138   </td><td>1.138191   </td><td>1.473843   </td><td>0.007058822</td><td>0.7415259  </td><td>0.007362781</td><td>0.4910281  </td><td>10.064746  </td></tr>\n",
       "</tbody>\n",
       "</table>\n"
      ],
      "text/latex": [
       "\\begin{tabular}{r|llllllllll}\n",
       "  & empty & CAV1\\_REF\\_FOR & CAV1\\_REF\\_REV & CAV1\\_ALT\\_FOR & CAV1\\_ALT\\_REV & SSBP3\\_REF\\_FOR & SSBP3\\_REF\\_REV & SSBP3\\_ALT\\_FOR & SSBP3\\_ALT\\_REV & POSITIVE\\\\\n",
       "\\hline\n",
       "\tV2 &        NA   & 1.671302    & 2.459934    & 1.347724    & 1.762978    & 0.007713025 & 0.7473788   & 0.007833858 & 0.4581877   &  8.876348  \\\\\n",
       "\tV3 & 0.9851001   & 2.171702    & 2.304229    & 1.246678    & 1.654737    & 0.006370646 & 0.7724348   & 0.005344713 & 0.4834124   &  8.325470  \\\\\n",
       "\tV4 & 0.9643982   & 1.703604    & 2.636359    & 1.290828    & 1.620102    & 0.008296919 & 0.7404487   & 0.005451303 & 0.4458723   &  6.290498  \\\\\n",
       "\tV5 & 1.0228550   & 1.918077    & 2.476178    & 1.196350    & 1.435353    & 0.011808575 & 0.9039712   & 0.007292439 & 0.4718379   &  7.375854  \\\\\n",
       "\tV6 & 0.9909850   & 1.999707    & 2.047996    & 1.368599    & 1.771785    & 0.006168162 & 0.8435626   & 0.006979514 & 0.4148368   &  9.676188  \\\\\n",
       "\tV7 & 1.0366617   & 2.127296    & 2.528138    & 1.138191    & 1.473843    & 0.007058822 & 0.7415259   & 0.007362781 & 0.4910281   & 10.064746  \\\\\n",
       "\\end{tabular}\n"
      ],
      "text/markdown": [
       "1. NA\n",
       "2. 0.985100071052517\n",
       "3. 0.964398177468402\n",
       "4. 1.02285500901888\n",
       "5. 0.990985032700519\n",
       "6. 1.03666170975968\n",
       "7. 1.67130234526355\n",
       "8. 2.17170179023129\n",
       "9. 1.70360361915955\n",
       "10. 1.91807684245713\n",
       "11. 1.9997069841602\n",
       "12. 2.12729610402774\n",
       "13. 2.4599336457322\n",
       "14. 2.30422878791808\n",
       "15. 2.6363587515664\n",
       "16. 2.47617801823997\n",
       "17. 2.04799639554447\n",
       "18. 2.52813837508427\n",
       "19. 1.34772446701354\n",
       "20. 1.24667762985276\n",
       "21. 1.29082791198988\n",
       "22. 1.19634997165546\n",
       "23. 1.36859926723792\n",
       "24. 1.13819128505327\n",
       "25. 1.76297849171561\n",
       "26. 1.65473685752856\n",
       "27. 1.62010196087034\n",
       "28. 1.43535340333507\n",
       "29. 1.77178453207926\n",
       "30. 1.47384300515139\n",
       "31. 0.00771302546871009\n",
       "32. 0.00637064611745531\n",
       "33. 0.00829691947086503\n",
       "34. 0.0118085752807439\n",
       "35. 0.00616816210799572\n",
       "36. 0.00705882219654873\n",
       "37. 0.747378848094964\n",
       "38. 0.772434806564773\n",
       "39. 0.740448671620713\n",
       "40. 0.903971244856839\n",
       "41. 0.843562618546761\n",
       "42. 0.741525860406417\n",
       "43. 0.00783385820543136\n",
       "44. 0.00534471294918975\n",
       "45. 0.00545130294761333\n",
       "46. 0.00729243907881878\n",
       "47. 0.00697951431280462\n",
       "48. 0.00736278128294078\n",
       "49. 0.458187713008961\n",
       "50. 0.483412438554042\n",
       "51. 0.445872324756913\n",
       "52. 0.471837941233186\n",
       "53. 0.414836815325723\n",
       "54. 0.491028108243662\n",
       "55. 8.87634825296077\n",
       "56. 8.32546977700028\n",
       "57. 6.29049753720938\n",
       "58. 7.3758538037098\n",
       "59. 9.67618838579822\n",
       "60. 10.0647462013374\n",
       "\n",
       "\n"
      ],
      "text/plain": [
       "   empty     CAV1_REF_FOR CAV1_REF_REV CAV1_ALT_FOR CAV1_ALT_REV SSBP3_REF_FOR\n",
       "V2        NA 1.671302     2.459934     1.347724     1.762978     0.007713025  \n",
       "V3 0.9851001 2.171702     2.304229     1.246678     1.654737     0.006370646  \n",
       "V4 0.9643982 1.703604     2.636359     1.290828     1.620102     0.008296919  \n",
       "V5 1.0228550 1.918077     2.476178     1.196350     1.435353     0.011808575  \n",
       "V6 0.9909850 1.999707     2.047996     1.368599     1.771785     0.006168162  \n",
       "V7 1.0366617 2.127296     2.528138     1.138191     1.473843     0.007058822  \n",
       "   SSBP3_REF_REV SSBP3_ALT_FOR SSBP3_ALT_REV POSITIVE \n",
       "V2 0.7473788     0.007833858   0.4581877      8.876348\n",
       "V3 0.7724348     0.005344713   0.4834124      8.325470\n",
       "V4 0.7404487     0.005451303   0.4458723      6.290498\n",
       "V5 0.9039712     0.007292439   0.4718379      7.375854\n",
       "V6 0.8435626     0.006979514   0.4148368      9.676188\n",
       "V7 0.7415259     0.007362781   0.4910281     10.064746"
      ]
     },
     "metadata": {},
     "output_type": "display_data"
    }
   ],
   "source": [
    "dt"
   ]
  },
  {
   "cell_type": "code",
   "execution_count": 42,
   "metadata": {
    "collapsed": false
   },
   "outputs": [
    {
     "data": {
      "text/html": [
       "<strong>png:</strong> 2"
      ],
      "text/latex": [
       "\\textbf{png:} 2"
      ],
      "text/markdown": [
       "**png:** 2"
      ],
      "text/plain": [
       "png \n",
       "  2 "
      ]
     },
     "metadata": {},
     "output_type": "display_data"
    }
   ],
   "source": [
    "pdf(\"Plots3.pdf\")\n",
    "par(mfrow=c(2,2), pin=c(2,1.5))\n",
    "lab = c(\"pgl4\", \"A\",\"G\",\"A\",'G')\n",
    "\n",
    "li = list( dt[,1], dt[,2], dt[,4],dt[,3], dt[,5])\n",
    "beeswarm(li, pch = 18, col = \"gray\",corral=\"random\", labels=lab,  bty='l',axes=F,\n",
    "         main= \"CAV1\", cex=1, las=1, ylim=c(0.8,3))\n",
    "axis(2, las=1)\n",
    "axis(1, 1:5, labels=lab)\n",
    "mtext(side=2, text=\"RLU\", cex=0.8, line= 2)\n",
    "bxplot(li, add = TRUE)\n",
    "abline(h = median (li[[1]], na.rm=T), col=\"gray\", lty=2)\n",
    "\n",
    "\n",
    "li = list( dt[,1], dt[,6], dt[,8],dt[,7], dt[,9])\n",
    "lab = c(\"pgl4\", 'T','C','T','C')\n",
    "beeswarm(li, pch = 18, col = \"gray\",corral=\"random\", labels=lab,  bty='l',axes=F,\n",
    "         main= \"SSBP3\", cex=1, las=1)\n",
    "axis(2, las=1)\n",
    "axis(1, 1:5, labels=lab)\n",
    "mtext(side=2, text=\"RLU\", cex=0.8, line= 2)\n",
    "bxplot(li, add = TRUE)\n",
    "abline(h = median (li[[1]], na.rm=T), col=\"gray\", lty=2)\n",
    "dev.off()"
   ]
  },
  {
   "cell_type": "code",
   "execution_count": null,
   "metadata": {
    "collapsed": true
   },
   "outputs": [],
   "source": []
  }
 ],
 "metadata": {
  "kernelspec": {
   "display_name": "R",
   "language": "R",
   "name": "ir"
  },
  "language_info": {
   "codemirror_mode": "r",
   "file_extension": ".r",
   "mimetype": "text/x-r-source",
   "name": "R",
   "pygments_lexer": "r",
   "version": "3.2.2"
  }
 },
 "nbformat": 4,
 "nbformat_minor": 0
}
