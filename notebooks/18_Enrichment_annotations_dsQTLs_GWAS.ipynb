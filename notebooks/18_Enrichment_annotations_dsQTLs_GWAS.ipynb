{
 "cells": [
  {
   "cell_type": "code",
   "execution_count": 4,
   "metadata": {},
   "outputs": [],
   "source": [
    "home    ='/home/paola/Family1070/private_output/Enrichment_annotations'\n",
    "ase_dir ='/home/paola/Family1070/private_output/ASE_chip/correlationWithBeta'\n",
    "library(stringr)\n",
    "marks = c('NKX25','H3K27AC_CM', 'H3K27AC_IPSC' )"
   ]
  },
  {
   "cell_type": "code",
   "execution_count": 2,
   "metadata": {},
   "outputs": [],
   "source": [
    "marks = c('ATAC_CM','ATAC_IPSC' )"
   ]
  },
  {
   "cell_type": "code",
   "execution_count": 3,
   "metadata": {},
   "outputs": [],
   "source": [
    "########################################################################\n",
    "# 1) Get Haploreg annotations for motifs, conservation and nearest gene \n",
    "########################################################################\n",
    "system(\"module load cardips\")\n",
    "\n",
    "for( i in 1:length(marks)){\n",
    "mark=marks[i]\n",
    "command1 = paste (\"vcftools --vcf /publicdata/haploreg_v4.0_20151021/haploreg_v4.0_20151021.vcf --snps \", ase_dir,\"/rs.variants.\",\n",
    "                  mark, \".txt\",' --recode --recode-INFO-all --out ', home, '/Haploreg/', mark , sep=\"\")\n",
    "### double escape to use in R\n",
    "command2 = paste (\"bcftools query -f \", \n",
    "                  \"'%CHROM\\\\t%POS\\\\t%ID\\\\t%REF\\\\t%ALT\\\\t%INFO/SIPHY\\\\t%INFO/MOTIFS\\\\t%INFO/NEAREST_GENCODE\\\\t%INFO/ROADMAP_CHROMHMM_25STATE\\\\t%INFO/ROADMAP_DNASE\\\\n' \",\n",
    "                   home, \"/Haploreg/\" , mark, \".recode.vcf > \", home, \"/Haploreg/\" , mark, \"_haploreg.tab\", sep=\"\")\n",
    "           \n",
    "system(command1)\n",
    "system(command2)\n",
    "\n",
    "}\n",
    "\n",
    "########################################################################\n",
    "# 2) Get dsQTLs \n",
    "########################################################################\n",
    "\n",
    "# File needed to be converted to hg19\n",
    "# dsq<- read.table(\"/publicdata/degner_20120206/dsQTL_data/QTLs/GSE31388_dsQtlTableLong.txt\",\n",
    "#                  header=T, fill=T, stringsAsFactors=F, sep=\"\\t\")\n",
    "# dsq$SNP2<-dsq$SNP+1\n",
    "# write.table(dsq[,c(\"Chr\", \"SNP\",\"SNP2\" )], \"dsQTLs.hg18.txt\", col.names=F, row.names=F, quote=F, sep=\"\\t\")\n",
    "\n",
    "\n",
    "########################################################################\n",
    "# 3) GWAS snps ovelap \n",
    "########################################################################\n",
    "# (SEE THE GWAS folder FOR METHOD)\n",
    "########################################################################"
   ]
  },
  {
   "cell_type": "code",
   "execution_count": 5,
   "metadata": {},
   "outputs": [],
   "source": [
    "setwd(home)\n",
    "ASE = paste(ase_dir, \"/ASE.tested.\", marks, \".txt\", sep=\"\")\n",
    "HAP = paste(\"Haploreg/\", marks, \"_haploreg.tab\", sep=\"\")"
   ]
  },
  {
   "cell_type": "code",
   "execution_count": 6,
   "metadata": {},
   "outputs": [],
   "source": [
    "dsq<- read.table(\"Haploreg/dsQTLs.hg19.txt\")\n",
    "dsq$snpID<-paste(dsq$V1, dsq$V2, sep=\":\")"
   ]
  },
  {
   "cell_type": "code",
   "execution_count": 6,
   "metadata": {},
   "outputs": [],
   "source": [
    "asn<-read.csv(\"GWAS/Table.GwasCatSnps.08LD_ASN.csv\", header=T, stringsAsFactors=F)\n",
    "eur<-read.csv(\"GWAS/Table.GwasCatSnps.08LD_EUR.csv\", header=T, stringsAsFactors=F)"
   ]
  },
  {
   "cell_type": "code",
   "execution_count": 65,
   "metadata": {},
   "outputs": [
    {
     "data": {
      "text/html": [
       "<ol class=list-inline>\n",
       "\t<li>'NA'</li>\n",
       "\t<li>'QT interval'</li>\n",
       "\t<li>'atrial fibrillation'</li>\n",
       "\t<li>'heart rate'</li>\n",
       "\t<li>'PR interval, Trypanosoma cruzi seropositivity'</li>\n",
       "\t<li>'QT interval, Trypanosoma cruzi seropositivity'</li>\n",
       "\t<li>'RR interval'</li>\n",
       "\t<li>'Brugada syndrome'</li>\n",
       "\t<li>'PR interval'</li>\n",
       "\t<li>'resting heart rate'</li>\n",
       "\t<li>'QRS amplitude, QRS complex'</li>\n",
       "\t<li>'coronary artery bypass, atrial fibrillation'</li>\n",
       "\t<li>'electrocardiography, QT interval'</li>\n",
       "\t<li>'QRS duration, Trypanosoma cruzi seropositivity'</li>\n",
       "\t<li>'QRS duration'</li>\n",
       "\t<li>'QRS complex, QRS duration'</li>\n",
       "\t<li>'PR segment'</li>\n",
       "\t<li>'early cardiac repolarization measurement'</li>\n",
       "\t<li>'P wave duration'</li>\n",
       "\t<li>'cardiac arrhythmia'</li>\n",
       "\t<li>'QRS complex'</li>\n",
       "\t<li>'electrocardiography, P wave duration'</li>\n",
       "\t<li>'electrocardiography, PR segment'</li>\n",
       "\t<li>'electrocardiography, PR interval'</li>\n",
       "\t<li>'torsades de pointes, response to drug'</li>\n",
       "\t<li>'TPE interval measurement'</li>\n",
       "</ol>\n"
      ],
      "text/latex": [
       "\\begin{enumerate*}\n",
       "\\item 'NA'\n",
       "\\item 'QT interval'\n",
       "\\item 'atrial fibrillation'\n",
       "\\item 'heart rate'\n",
       "\\item 'PR interval, Trypanosoma cruzi seropositivity'\n",
       "\\item 'QT interval, Trypanosoma cruzi seropositivity'\n",
       "\\item 'RR interval'\n",
       "\\item 'Brugada syndrome'\n",
       "\\item 'PR interval'\n",
       "\\item 'resting heart rate'\n",
       "\\item 'QRS amplitude, QRS complex'\n",
       "\\item 'coronary artery bypass, atrial fibrillation'\n",
       "\\item 'electrocardiography, QT interval'\n",
       "\\item 'QRS duration, Trypanosoma cruzi seropositivity'\n",
       "\\item 'QRS duration'\n",
       "\\item 'QRS complex, QRS duration'\n",
       "\\item 'PR segment'\n",
       "\\item 'early cardiac repolarization measurement'\n",
       "\\item 'P wave duration'\n",
       "\\item 'cardiac arrhythmia'\n",
       "\\item 'QRS complex'\n",
       "\\item 'electrocardiography, P wave duration'\n",
       "\\item 'electrocardiography, PR segment'\n",
       "\\item 'electrocardiography, PR interval'\n",
       "\\item 'torsades de pointes, response to drug'\n",
       "\\item 'TPE interval measurement'\n",
       "\\end{enumerate*}\n"
      ],
      "text/markdown": [
       "1. 'NA'\n",
       "2. 'QT interval'\n",
       "3. 'atrial fibrillation'\n",
       "4. 'heart rate'\n",
       "5. 'PR interval, Trypanosoma cruzi seropositivity'\n",
       "6. 'QT interval, Trypanosoma cruzi seropositivity'\n",
       "7. 'RR interval'\n",
       "8. 'Brugada syndrome'\n",
       "9. 'PR interval'\n",
       "10. 'resting heart rate'\n",
       "11. 'QRS amplitude, QRS complex'\n",
       "12. 'coronary artery bypass, atrial fibrillation'\n",
       "13. 'electrocardiography, QT interval'\n",
       "14. 'QRS duration, Trypanosoma cruzi seropositivity'\n",
       "15. 'QRS duration'\n",
       "16. 'QRS complex, QRS duration'\n",
       "17. 'PR segment'\n",
       "18. 'early cardiac repolarization measurement'\n",
       "19. 'P wave duration'\n",
       "20. 'cardiac arrhythmia'\n",
       "21. 'QRS complex'\n",
       "22. 'electrocardiography, P wave duration'\n",
       "23. 'electrocardiography, PR segment'\n",
       "24. 'electrocardiography, PR interval'\n",
       "25. 'torsades de pointes, response to drug'\n",
       "26. 'TPE interval measurement'\n",
       "\n",
       "\n"
      ],
      "text/plain": [
       " [1] NA                                              \n",
       " [2] \"QT interval\"                                   \n",
       " [3] \"atrial fibrillation\"                           \n",
       " [4] \"heart rate\"                                    \n",
       " [5] \"PR interval, Trypanosoma cruzi seropositivity\" \n",
       " [6] \"QT interval, Trypanosoma cruzi seropositivity\" \n",
       " [7] \"RR interval\"                                   \n",
       " [8] \"Brugada syndrome\"                              \n",
       " [9] \"PR interval\"                                   \n",
       "[10] \"resting heart rate\"                            \n",
       "[11] \"QRS amplitude, QRS complex\"                    \n",
       "[12] \"coronary artery bypass, atrial fibrillation\"   \n",
       "[13] \"electrocardiography, QT interval\"              \n",
       "[14] \"QRS duration, Trypanosoma cruzi seropositivity\"\n",
       "[15] \"QRS duration\"                                  \n",
       "[16] \"QRS complex, QRS duration\"                     \n",
       "[17] \"PR segment\"                                    \n",
       "[18] \"early cardiac repolarization measurement\"      \n",
       "[19] \"P wave duration\"                               \n",
       "[20] \"cardiac arrhythmia\"                            \n",
       "[21] \"QRS complex\"                                   \n",
       "[22] \"electrocardiography, P wave duration\"          \n",
       "[23] \"electrocardiography, PR segment\"               \n",
       "[24] \"electrocardiography, PR interval\"              \n",
       "[25] \"torsades de pointes, response to drug\"         \n",
       "[26] \"TPE interval measurement\"                      "
      ]
     },
     "metadata": {},
     "output_type": "display_data"
    }
   ],
   "source": [
    "unique(asn$MAPPED_TRAIT[asn$Electro==T])"
   ]
  },
  {
   "cell_type": "code",
   "execution_count": 9,
   "metadata": {
    "collapsed": true
   },
   "outputs": [],
   "source": [
    "exclude=c('QRS duration, Trypanosoma cruzi seropositivity', 'PR interval, Trypanosoma cruzi seropositivity', 'NA', 'cardiac arrhythmia',\n",
    "          'TPE interval measurement','QT interval, Trypanosoma cruzi seropositivity', 'coronary artery bypass, atrial fibrillation', \n",
    "          'torsades de pointes, response to drug', 'early cardiac repolarization measurement', 'QRS complex, QRS duration')\n",
    "\n",
    "include= unique(eur$MAPPED_TRAIT[eur$Electro==T])[!(unique(eur$MAPPED_TRAIT[eur$Electro==T]) %in% exclude)]"
   ]
  },
  {
   "cell_type": "code",
   "execution_count": 10,
   "metadata": {
    "collapsed": true
   },
   "outputs": [],
   "source": [
    "eur$EKG<-eur$MAPPED_TRAIT %in% include\n",
    "asn$EKG<-asn$MAPPED_TRAIT %in% include"
   ]
  },
  {
   "cell_type": "code",
   "execution_count": 11,
   "metadata": {
    "collapsed": true
   },
   "outputs": [],
   "source": [
    "cardips_eqtls<-read.table(\"/projects/CARDIPS/analysis/cardips-ipsc-eqtl/output/eqtl_processing/eqtls01/gene_variant_pairs.tsv\", \n",
    "                header=T, fill=T, stringsAsFactors=F, sep=\"\\t\")"
   ]
  },
  {
   "cell_type": "code",
   "execution_count": 12,
   "metadata": {},
   "outputs": [
    {
     "name": "stdout",
     "output_type": "stream",
     "text": [
      "ATAC_CM \n",
      "ATAC_IPSC \n"
     ]
    }
   ],
   "source": [
    "for(i in 1:length(marks)){\n",
    "    \n",
    "mark=marks[i]  \n",
    "cat(mark ,\"\\n\")\n",
    "ase = read.table(ASE[i], header=T)\n",
    "hap = read.table(HAP[i], header=F, sep=\"\\t\")\n",
    "eqtls = read.table (paste(\"GTEx/\", marks[i], \".eQTLsTable_hreg.txt\", sep=\"\"), header=T, sep=\"\\t\")    \n",
    "\n",
    "colnames(hap)=c(\"chrom\", \"pos\", \"id\", \"ref\", \"alt\", \"cons\", \"motif\", \"gene\", \"chromHMM\", \"DNAse\")\n",
    "hap$cons[hap$cons==\".\"]<-NA\n",
    "ase$cons<- ase$snpID %in% hap$id [!is.na(hap$cons)]\n",
    "\n",
    "ase$dsQTLs<- ase$variantID %in% dsq$snpID\n",
    "    \n",
    "ase$anyGWAS<-(ase$snpID %in% asn$LDsnp) | (ase$snpID %in% eur$LDsnp) |(ase$snpID %in% eur$SNP_ID_CURRENT)\n",
    "ase$anyGWAS[ase$snpID==\".\"]<-NA\n",
    "\n",
    "ase$cvdGWAS<-(ase$snpID %in% asn$LDsnp[asn$CVD==1]) | (ase$snpID %in% eur$LDsnp[eur$CVD==1]) |(ase$snpID %in% eur$SNP_ID_CURRENT[eur$CVD==1])\n",
    "ase$cvdGWAS[ase$snpID==\".\"]<-NA\n",
    "\n",
    "ase$ekgGWAS<-(ase$snpID %in% asn$LDsnp[asn$EKG==1]) | (ase$snpID %in% eur$LDsnp[eur$EKG==1]) |(ase$snpID %in% eur$SNP_ID_CURRENT[eur$EKG==1])\n",
    "ase$ekgGWAS[ase$snpID==\".\"]<-NA\n",
    "\n",
    "ase$ekgGWASlead<-(ase$snpID %in% eur$SNP_ID_CURRENT[eur$EKG==1])\n",
    "ase$ekgGWASlead[ase$snpID==\".\"]<-NA\n",
    "    \n",
    "ase$cardipsQTLs<-ase$snpID %in% cardips_eqtls$rsid\n",
    "ase$cardipsQTLs[ase$rsSNP==\".\"]<-NA\n",
    "    \n",
    "ase$all_eQTLs<-ase$snpID %in% eqtls$snpID \n",
    "ase$all_eQTLs[ase$snpID==\".\"]<-NA    \n",
    "    \n",
    "    write.csv(ase, paste(\"Haploreg/SummaryAnnotations\", mark, \"csv\", sep=\".\"), row.names=F)\n",
    "}"
   ]
  },
  {
   "cell_type": "markdown",
   "metadata": {},
   "source": [
    "## Calculate Enrichment"
   ]
  },
  {
   "cell_type": "code",
   "execution_count": 83,
   "metadata": {},
   "outputs": [
    {
     "name": "stdout",
     "output_type": "stream",
     "text": [
      "NKX25 \n",
      "H3K27AC_CM \n",
      "H3K27AC_IPSC \n"
     ]
    }
   ],
   "source": [
    "for(i in 1:length(marks)){\n",
    "    \n",
    "mark=marks[i]  \n",
    "cat(mark ,\"\\n\")\n",
    "ase = read.csv(paste(\"Haploreg/SummaryAnnotations\", mark, \"csv\", sep=\".\"), header=T)\n",
    "  \n",
    "#     ###### Filter for peak length ##############################\n",
    "#     d<-str_split_fixed(ase$locus,\"\\\\:\",2)\n",
    "#     e<-apply(str_split_fixed(d[,2],\"\\\\-\",2),2,as.integer)\n",
    "#     ase$size=e[,2]-e[,1]\n",
    "#     if(i<3) {ase<-subset(ase, ase$size<=2000)}\n",
    "#     if(i>=3) {ase<-subset(ase, ase$size<=5000)}\n",
    "#     ############################################################\n",
    "    \n",
    "    \n",
    "  matx=ase[,c(\"variantID\", \"combined_fdr\", \"locus\", \"cons\", \"dsQTLs\", \"anyGWAS\", \"cvdGWAS\", \"ekgGWAS\", \"ekgGWASlead\",\n",
    "            'cardipsQTLs', 'all_eQTLs')]\n",
    "  \n",
    "    results=data.frame()\n",
    "      \n",
    "    for(f in 4:ncol(matx)) {\n",
    "   mat=matx\n",
    "      \n",
    "        if(f>5){\n",
    "          mat<-mat[order(mat$combined_fdr),]\n",
    "          mat<-mat[order(mat[,f], decreasing=T),]  ## prioritize the annotated\n",
    "         #mat<-mat[!duplicated(mat$locus),]\n",
    "          mat<-mat[!duplicated(mat[,c(3,f)]),] ### only of the annotation is the same\n",
    "            # use only one snp per peak except for the conservation\n",
    "      }\n",
    "      \n",
    "      fi=fisher.test(table(mat$combined_fdr<0.05, mat[,f]>0))\n",
    "   \n",
    "    results[1:4,f-3]<-as.vector(table(mat$combined_fdr<0.05, mat[,f]>0))\n",
    "     results[5,f-3]<-fi$estimate\n",
    "      results[6,f-3]<-fi$p.value\n",
    "      \n",
    "    \n",
    "  }\n",
    "    results[7,]<-p.adjust(results[6,], method=\"BH\")\n",
    "    colnames(results)<-colnames(mat)[4:ncol(mat)]\n",
    "    write.csv(results, paste('Haploreg/Summary_enrichmentResults', mark, \".csv\", sep=\"\"), row.names=F)\n",
    "  \n",
    "     }\n",
    "    "
   ]
  },
  {
   "cell_type": "markdown",
   "metadata": {},
   "source": [
    "## Plot Enrichment results using barplot"
   ]
  },
  {
   "cell_type": "code",
   "execution_count": 3,
   "metadata": {},
   "outputs": [],
   "source": [
    "suppressPackageStartupMessages(library(gplots))\n",
    "suppressPackageStartupMessages(library(RColorBrewer))"
   ]
  },
  {
   "cell_type": "code",
   "execution_count": 5,
   "metadata": {},
   "outputs": [],
   "source": [
    "marks = c('NKX25','H3K27AC_CM', 'H3K27AC_IPSC' )"
   ]
  },
  {
   "cell_type": "code",
   "execution_count": 6,
   "metadata": {},
   "outputs": [
    {
     "data": {
      "text/html": [
       "'/frazer01/home/paola/Family1070/github_upload/notebooks'"
      ],
      "text/latex": [
       "'/frazer01/home/paola/Family1070/github\\_upload/notebooks'"
      ],
      "text/markdown": [
       "'/frazer01/home/paola/Family1070/github_upload/notebooks'"
      ],
      "text/plain": [
       "[1] \"/frazer01/home/paola/Family1070/github_upload/notebooks\""
      ]
     },
     "metadata": {},
     "output_type": "display_data"
    }
   ],
   "source": [
    "getwd()"
   ]
  },
  {
   "cell_type": "code",
   "execution_count": 7,
   "metadata": {},
   "outputs": [],
   "source": [
    " #pdf('Enrichemnt_Annotations.barplots.pdf')\n",
    "setwd(home)\n",
    "par(pin=c(1,1), mfrow=c(2,2))\n",
    "colors=c( \"lightpink3\", \"lightpink\", \"khaki1\", \"paleturquoise\" )\n",
    "\n",
    "OR=data.frame()\n",
    "PV=data.frame()\n",
    "ASE = data.frame()\n",
    "NOASE = data.frame()\n",
    "for (i in 1:length(marks)){\n",
    "  res=read.csv(paste(\"Haploreg/Summary_enrichmentResults\", marks[i], \".csv\", sep=\"\"), header=T)\n",
    "\n",
    "  OR<-rbind(OR,res[5,])\n",
    "  PV<-rbind(PV,res[6,])\n",
    "  ASE    = rbind(ASE,(res[4,]/(res[4,]+res[2,]))*100)\n",
    "  NOASE = rbind(NOASE,(res[3,]/(res[3,]+res[1,]))*100)\n",
    "    \n",
    "}\n",
    "rownames(OR)<-rownames(PV)<-rownames(ASE)<-rownames(NOASE)<-marks\n",
    "\n"
   ]
  },
  {
   "cell_type": "code",
   "execution_count": 11,
   "metadata": {},
   "outputs": [],
   "source": [
    "annotations = c('dsQTLs', 'cardipsQTLs', 'all_eQTLs','ekgGWAS')"
   ]
  },
  {
   "cell_type": "code",
   "execution_count": 13,
   "metadata": {},
   "outputs": [
    {
     "data": {
      "image/png": "[encoded data removed]",
      "text/plain": [
       "Plot with title “ekgGWASlead”"
      ]
     },
     "metadata": {},
     "output_type": "display_data"
    }
   ],
   "source": [
    "#pdf('/home/paola/Family1070/private_output/Figures/Enrichemnt_Annotations.pdf')\n",
    "\n",
    "par(pin=c(1,0.8), mfcol=c(3,3))\n",
    "\n",
    "for (annot in annotations) {\n",
    "\n",
    "test = data.frame(rbind(ASE[,annot], NOASE[,annot]))\n",
    "colnames(test)=rownames(ASE)\n",
    "x = PV   [,annot]\n",
    "\n",
    "\n",
    "barplot(as.matrix(test), beside=T, horiz=T, las=1, xlim=c(0,max(test)+(max(test)*0.1)), space = c(0,0.5),\n",
    "       density=c(100,20), col=rep(gray.colors(3),each=2), main=annot)\n",
    "#text(max(test), c(2,4,6), c( \"\",\"*\") [(x<0.05)+1], cex=2)\n",
    "}\n",
    "\n",
    "plot.new()\n",
    "legend (\"center\", legend=c(\"ASE SNVs\", \"No ASE SNVs\"),  density=c(100,30), pt.cex=3)\n",
    "#dev.off()"
   ]
  },
  {
   "cell_type": "code",
   "execution_count": null,
   "metadata": {
    "collapsed": true
   },
   "outputs": [],
   "source": []
  }
 ],
 "metadata": {
  "kernelspec": {
   "display_name": "R",
   "language": "R",
   "name": "ir"
  },
  "language_info": {
   "codemirror_mode": "r",
   "file_extension": ".r",
   "mimetype": "text/x-r-source",
   "name": "R",
   "pygments_lexer": "r",
   "version": "3.2.2"
  }
 },
 "nbformat": 4,
 "nbformat_minor": 1
}
