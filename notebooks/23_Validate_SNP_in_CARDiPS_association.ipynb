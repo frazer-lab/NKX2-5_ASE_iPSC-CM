{
 "cells": [
  {
   "cell_type": "markdown",
   "metadata": {},
   "source": [
    "### Make plots and statistics for selected SNPs\n",
    "Upload tables done in the previous step"
   ]
  },
  {
   "cell_type": "code",
   "execution_count": 1,
   "metadata": {},
   "outputs": [],
   "source": [
    "setwd('/frazer01/home/paola/Family1070/private_output/Validation')\n",
    "suppressPackageStartupMessages(library(stringr))\n",
    "suppressPackageStartupMessages(library(RColorBrewer))\n",
    "suppressPackageStartupMessages(library(gplots))\n",
    "suppressPackageStartupMessages(library(vioplot))\n",
    "suppressPackageStartupMessages(library(DESeq2))\n",
    "suppressPackageStartupMessages(library(ggplot2))\n",
    "suppressPackageStartupMessages(library(beeswarm))\n",
    "suppressPackageStartupMessages(library(limma))"
   ]
  },
  {
   "cell_type": "code",
   "execution_count": 2,
   "metadata": {},
   "outputs": [],
   "source": [
    "gene_info<-read.table(\"/publicdata/gencode_v19_20151104/gene_info.tsv\", header=T, sep=\"\\t\")"
   ]
  },
  {
   "cell_type": "code",
   "execution_count": 3,
   "metadata": {},
   "outputs": [],
   "source": [
    "rna_cm  = read.csv   (\"data_tables/Production_cm_samples_wgsid.csv\", row.names=1)\n",
    "gt      = read.csv   (\"data_tables/Cardips_NKX25_ase_genotypes_coded.csv\", check.names=F, row.names=1)"
   ]
  },
  {
   "cell_type": "code",
   "execution_count": 4,
   "metadata": {
    "scrolled": true
   },
   "outputs": [],
   "source": [
    "gt<-t(gt)\n",
    "colnames(gt)<-gt[\"ID\",]\n",
    "gt<-gt[rownames(gt) %in% unique(as.character(rna_cm$wgs_id)),]\n",
    "gt_cm<-merge(rna_cm, gt, by.x=\"wgs_id\", by.y=\"row.names\")"
   ]
  },
  {
   "cell_type": "code",
   "execution_count": 15,
   "metadata": {
    "collapsed": true
   },
   "outputs": [],
   "source": [
    "#### This is the one normalized expression calclucalte using vst and correction for cTNT\n",
    "rna_exp = read.table (\"data_tables/Production_cms_vst_counts_corrected_ctnt.txt\", header=T, check.names=F, row.names=1)\n",
    "rna_exp<-subset(rna_exp, select=as.character(gt_cm$assay_uuid))"
   ]
  },
  {
   "cell_type": "code",
   "execution_count": 33,
   "metadata": {},
   "outputs": [
    {
     "data": {
      "text/html": [
       "<ol class=list-inline>\n",
       "\t<li>16177</li>\n",
       "\t<li>164</li>\n",
       "</ol>\n"
      ],
      "text/latex": [
       "\\begin{enumerate*}\n",
       "\\item 16177\n",
       "\\item 164\n",
       "\\end{enumerate*}\n"
      ],
      "text/markdown": [
       "1. 16177\n",
       "2. 164\n",
       "\n",
       "\n"
      ],
      "text/plain": [
       "[1] 16177   164"
      ]
     },
     "metadata": {},
     "output_type": "display_data"
    }
   ],
   "source": [
    "#### New DATA from MATTEO - normalized for peer factors # the colnames is wgs_id\n",
    "rna_exp = read.table (\"matteo_tables_eqtl/peer_residuals.txt\", header=T, check.names=F, row.names=1)\n",
    "meta_matteo = read.table(\"matteo_tables_eqtl/metadata.txt\", header=T, sep=\"\\t\")\n",
    "rna_exp = subset(rna_exp, select = as.character(meta_matteo$assay_uuid))\n",
    "gt_cm = subset(gt_cm,assay_uuid %in% colnames(rna_exp) )\n",
    "rna_exp = subset(rna_exp, select = as.character(gt_cm$assay_uuid))\n",
    "dim(rna_exp)"
   ]
  },
  {
   "cell_type": "code",
   "execution_count": 5,
   "metadata": {},
   "outputs": [
    {
     "data": {
      "text/html": [
       "<ol class=list-inline>\n",
       "\t<li>16177</li>\n",
       "\t<li>164</li>\n",
       "</ol>\n"
      ],
      "text/latex": [
       "\\begin{enumerate*}\n",
       "\\item 16177\n",
       "\\item 164\n",
       "\\end{enumerate*}\n"
      ],
      "text/markdown": [
       "1. 16177\n",
       "2. 164\n",
       "\n",
       "\n"
      ],
      "text/plain": [
       "[1] 16177   164"
      ]
     },
     "metadata": {},
     "output_type": "display_data"
    }
   ],
   "source": [
    "#### Newer DATA from MATTEO - normalized for peer factors # the colnames is wgs_id\n",
    "rna_exp = read.table (\"matteo_tables_eqtl/tpm_norm.txt\", header=T, check.names=F, row.names=1)\n",
    "meta_matteo = read.table(\"matteo_tables_eqtl/metadata.txt\", header=T, sep=\"\\t\")\n",
    "rna_exp = subset(rna_exp, select = as.character(meta_matteo$assay_uuid))\n",
    "gt_cm = subset(gt_cm,assay_uuid %in% colnames(rna_exp) )\n",
    "rna_exp = subset(rna_exp, select = as.character(gt_cm$assay_uuid))\n",
    "dim(rna_exp)"
   ]
  },
  {
   "cell_type": "code",
   "execution_count": 6,
   "metadata": {},
   "outputs": [
    {
     "data": {
      "text/html": [
       "<ol class=list-inline>\n",
       "\t<li>128</li>\n",
       "\t<li>1977</li>\n",
       "</ol>\n"
      ],
      "text/latex": [
       "\\begin{enumerate*}\n",
       "\\item 128\n",
       "\\item 1977\n",
       "\\end{enumerate*}\n"
      ],
      "text/markdown": [
       "1. 128\n",
       "2. 1977\n",
       "\n",
       "\n"
      ],
      "text/plain": [
       "[1]  128 1977"
      ]
     },
     "metadata": {},
     "output_type": "display_data"
    }
   ],
   "source": [
    "#### Only one CM per person\n",
    "gt_cm_uni=gt_cm[order(gt_cm$cTNT_TPM, decreasing=T),]\n",
    "gt_cm_uni=gt_cm_uni[!duplicated(gt_cm_uni$subject_uuid),]\n",
    "dim(gt_cm_uni)"
   ]
  },
  {
   "cell_type": "code",
   "execution_count": 7,
   "metadata": {},
   "outputs": [],
   "source": [
    "plot_eQTLs= function(exp_mat, gt_mat, genes, type){\n",
    "    \n",
    "     \n",
    "    for( i in 1:nrow(genes)){\n",
    "\n",
    "    snp <-as.character(genes$snp)[i]\n",
    "    gene_exp <- exp_mat[as.character(genes$gene_id[i]),]\n",
    "    genotype<-as.numeric(as.character(gt_mat[,snp]))\n",
    "    \n",
    "   \n",
    "    dt<-data.frame(t(gene_exp), genotype)   # maybe scale---does not cahnage the pval\n",
    "    colnames(dt)<-c('gene_exp', 'genotype')\n",
    "   \n",
    "        \n",
    "   l<-lm(gene_exp~genotype, dt)                         \n",
    "    \n",
    "    if (type==\"boxplot\"){\n",
    "    boxplot(gene_exp~genotype, dt, ylab=paste(genes$gene_name[i], \"expression\"), xlab=paste(snp, \"genotype\"),\n",
    "           main=(paste(\"p-val=\", signif(summary(l)$coefficients[2,4]))), las=1)\n",
    "    #stripchart(gene_exp~genotype, dt, method=\"jitter\", add=T, vertical=T, pch=1, col=\"steelblue\")\n",
    "        beeswarm(gene_exp~genotype, dt, log = F, pch = 21, col = \"steelblue\",corral=\"gutter\", add = TRUE, cex=0.8)\n",
    "    mtext(paste(\"n=\", aggregate(gene_exp~genotype, dt, length)[,2]) , side = 3, outer = FALSE, at = 1:length(unique(dt$genotype)),\n",
    "           adj = NA, padj = NA, cex = 0.8, col = NA)\n",
    "    }\n",
    "        \n",
    "        if (type==\"beeswarm\"){\n",
    "            \n",
    "          beeswarm(gene_exp~genotype, dt, \n",
    "          log = F, pch = 21, col = \"steelblue\",corral=\"random\",\n",
    "          ylab=paste(genes$gene_name[i], \"expression\"), xlab=paste(snp, \"genotype\"),\n",
    "          main=(paste(\"p-val=\", signif(summary(l)$coefficients[2,4]))), las=1)\n",
    "          bxplot(gene_exp~genotype, dt, add = TRUE)\n",
    "          mtext(paste(\"n=\", aggregate(gene_exp~genotype, dt, length)[,2]) , side = 1, outer = FALSE, at = 1:length(unique(dt$genotype)),\n",
    "          adj = NA, padj = NA, cex = 0.8, col = NA)\n",
    "          mtext(genes$gene_id[i] , side = 3, outer = FALSE, at = length(unique(dt$genotype))-1,\n",
    "           adj = NA, padj = NA, cex = 0.8, col = NA)\n",
    "  \n",
    "        }\n",
    "\n",
    "}\n",
    "    }\n"
   ]
  },
  {
   "cell_type": "code",
   "execution_count": 8,
   "metadata": {},
   "outputs": [],
   "source": [
    "### Input table for the function\n",
    "snps<-c( 'rs6801957','rs7612445','rs7612445','rs7612445','rs7612445','rs7612445','rs7612445',\n",
    "        'rs4890490','rs6606689','rs6606689','rs6606689','rs7132327','rs7132327','rs3807989','rs3807989',\n",
    "        'rs7986508', 'rs35176054', 'rs590041','rs590041','rs590041',\n",
    "       \"rs4657167\", \"rs8044595\",\"rs8044595\",\"rs8044595\" , \"rs8044595\", \"rs10841486\",\n",
    "        \"rs6569252\", \"rs7850041\", \"rs176107\", \"rs3943037\", \"rs56248930\",\n",
    "      'rs13006682', 'rs2267469')\n",
    "gene_name<-c(\"SCN5A\", 'GNB4', 'MFN1', 'NDUFB5', 'PIK3CA', 'ZNF639','RP11-145M9.4', \n",
    "             'SETBP1','PPTC7',\"ARPC3\", \"MYL2\",'TBX3','TBX5','CAV1',\"CAV2\",\n",
    "              'LRCH1', 'SH3PXD2A','SSBP3', 'MRPL37', 'MROH7',\n",
    "              \"NOS1AP\", \"MYH11\", \"NOMO3\",\"ABCC1\",\"ABCC6\", \"PDE3A\", \"GJA1\" , \"PPAPDC3\", \"MEF2C\", \"SHROOM3\", \"SHROOM3\",\n",
    "            'FHL2', 'PACSIN2')\n",
    "test_genes=data.frame(snps, gene_name)\n",
    "test_genes = merge(test_genes, gene_info, by=\"gene_name\")"
   ]
  },
  {
   "cell_type": "code",
   "execution_count": 25,
   "metadata": {},
   "outputs": [],
   "source": [
    "### Input table for the function\n",
    "# snps<-c(  'rs35176054')\n",
    "# gene_name<-c(  \"SH3PXD2A\")\n",
    "# test_genes=data.frame(snps, gene_name)\n",
    "# test_genes = merge(test_genes, gene_info, by=\"gene_name\")"
   ]
  },
  {
   "cell_type": "code",
   "execution_count": 9,
   "metadata": {
    "scrolled": true
   },
   "outputs": [
    {
     "data": {
      "text/html": [
       "<strong>png:</strong> 2"
      ],
      "text/latex": [
       "\\textbf{png:} 2"
      ],
      "text/markdown": [
       "**png:** 2"
      ],
      "text/plain": [
       "png \n",
       "  2 "
      ]
     },
     "metadata": {},
     "output_type": "display_data"
    }
   ],
   "source": [
    "rna_exp_uni<-subset(rna_exp, select=as.character(gt_cm_uni$assay_uuid))\n",
    "pdf(\"Association_unique_subjects_CMs_genes_new_peers_andcovariates.pdf\")\n",
    "par(mfrow=c(3,3))\n",
    "plot_eQTLs(rna_exp_uni, gt_cm_uni, test_genes, type=\"boxplot\")\n",
    "dev.off()"
   ]
  }
 ],
 "metadata": {
  "kernelspec": {
   "display_name": "R",
   "language": "R",
   "name": "ir"
  },
  "language_info": {
   "codemirror_mode": "r",
   "file_extension": ".r",
   "mimetype": "text/x-r-source",
   "name": "R",
   "pygments_lexer": "r",
   "version": "3.2.2"
  }
 },
 "nbformat": 4,
 "nbformat_minor": 1
}
